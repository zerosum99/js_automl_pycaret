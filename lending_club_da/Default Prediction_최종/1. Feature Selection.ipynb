{
 "cells": [
  {
   "cell_type": "code",
   "execution_count": 1,
   "id": "2765d9b5",
   "metadata": {
    "ExecuteTime": {
     "end_time": "2021-06-16T08:48:17.242051Z",
     "start_time": "2021-06-16T08:48:16.962425Z"
    },
    "_cell_guid": "b1076dfc-b9ad-4769-8c92-a6c4dae69d19",
    "_uuid": "8f2839f25d086af736a60e9eeb907d3b93b6e0e5",
    "execution": {
     "iopub.execute_input": "2021-06-08T01:48:25.694928Z",
     "iopub.status.busy": "2021-06-08T01:48:25.693728Z",
     "iopub.status.idle": "2021-06-08T01:48:25.704683Z",
     "shell.execute_reply": "2021-06-08T01:48:25.705444Z",
     "shell.execute_reply.started": "2021-06-08T01:45:41.040453Z"
    },
    "papermill": {
     "duration": 0.040384,
     "end_time": "2021-06-08T01:48:25.706008",
     "exception": false,
     "start_time": "2021-06-08T01:48:25.665624",
     "status": "completed"
    },
    "tags": []
   },
   "outputs": [],
   "source": [
    "import pandas as pd\n",
    "import numpy as np\n",
    "import pickle, os\n",
    "import warnings\n",
    "warnings.filterwarnings('ignore')"
   ]
  },
  {
   "cell_type": "code",
   "execution_count": 2,
   "id": "e7b3f495",
   "metadata": {
    "ExecuteTime": {
     "end_time": "2021-06-16T08:48:18.809882Z",
     "start_time": "2021-06-16T08:48:17.311526Z"
    },
    "execution": {
     "iopub.execute_input": "2021-06-08T01:48:25.756616Z",
     "iopub.status.busy": "2021-06-08T01:48:25.755792Z",
     "iopub.status.idle": "2021-06-08T01:48:42.662204Z",
     "shell.execute_reply": "2021-06-08T01:48:42.661562Z",
     "shell.execute_reply.started": "2021-06-08T01:45:42.223455Z"
    },
    "papermill": {
     "duration": 16.934101,
     "end_time": "2021-06-08T01:48:42.662389",
     "exception": false,
     "start_time": "2021-06-08T01:48:25.728288",
     "status": "completed"
    },
    "tags": []
   },
   "outputs": [],
   "source": [
    "df = pd.read_pickle('/home/work/toy-project/data/df_preprocessesd.pkl')"
   ]
  },
  {
   "cell_type": "code",
   "execution_count": 3,
   "id": "b39d0fd0",
   "metadata": {
    "ExecuteTime": {
     "end_time": "2021-06-14T04:13:27.044750Z",
     "start_time": "2021-06-14T04:13:27.026021Z"
    },
    "execution": {
     "iopub.execute_input": "2021-06-08T01:48:42.723877Z",
     "iopub.status.busy": "2021-06-08T01:48:42.723135Z",
     "iopub.status.idle": "2021-06-08T01:48:42.745461Z",
     "shell.execute_reply": "2021-06-08T01:48:42.744657Z",
     "shell.execute_reply.started": "2021-06-02T06:04:43.32932Z"
    },
    "papermill": {
     "duration": 0.060094,
     "end_time": "2021-06-08T01:48:42.745640",
     "exception": false,
     "start_time": "2021-06-08T01:48:42.685546",
     "status": "completed"
    },
    "tags": []
   },
   "outputs": [
    {
     "data": {
      "text/plain": [
       "0    1087175\n",
       "1     295176\n",
       "Name: loan_status, dtype: int64"
      ]
     },
     "execution_count": 3,
     "metadata": {},
     "output_type": "execute_result"
    }
   ],
   "source": [
    "df.loan_status.value_counts()"
   ]
  },
  {
   "cell_type": "code",
   "execution_count": 3,
   "id": "0267bf91",
   "metadata": {
    "ExecuteTime": {
     "end_time": "2021-06-16T08:48:20.529256Z",
     "start_time": "2021-06-16T08:48:19.559573Z"
    },
    "execution": {
     "iopub.execute_input": "2021-06-08T01:48:42.800782Z",
     "iopub.status.busy": "2021-06-08T01:48:42.800095Z",
     "iopub.status.idle": "2021-06-08T01:48:44.357520Z",
     "shell.execute_reply": "2021-06-08T01:48:44.358037Z",
     "shell.execute_reply.started": "2021-06-08T01:45:58.360595Z"
    },
    "papermill": {
     "duration": 1.589609,
     "end_time": "2021-06-08T01:48:44.358252",
     "exception": false,
     "start_time": "2021-06-08T01:48:42.768643",
     "status": "completed"
    },
    "tags": []
   },
   "outputs": [],
   "source": [
    "df.fillna(-1,inplace = True)\n",
    "df.drop([\"initial_list_status\",\"out_prncp\",\"out_prncp_inv\",\"total_pymnt\",\"total_pymnt_inv\"\n",
    "         ,\"total_rec_prncp\",\"total_rec_int\",\"total_rec_late_fee\",\"recoveries\",\n",
    "         \"collection_recovery_fee\",\"last_pymnt_amnt\",\n",
    "         \"last_fico_range_high\",\"last_fico_range_low\"],1,inplace=True)"
   ]
  },
  {
   "cell_type": "code",
   "execution_count": 5,
   "id": "0105d122",
   "metadata": {
    "execution": {
     "iopub.execute_input": "2021-06-08T01:48:44.410931Z",
     "iopub.status.busy": "2021-06-08T01:48:44.409344Z",
     "iopub.status.idle": "2021-06-08T01:48:44.416041Z",
     "shell.execute_reply": "2021-06-08T01:48:44.415355Z",
     "shell.execute_reply.started": "2021-06-08T01:46:32.165833Z"
    },
    "papermill": {
     "duration": 0.036467,
     "end_time": "2021-06-08T01:48:44.416214",
     "exception": false,
     "start_time": "2021-06-08T01:48:44.379747",
     "status": "completed"
    },
    "tags": []
   },
   "outputs": [
    {
     "data": {
      "text/plain": [
       "(1382351, 91)"
      ]
     },
     "execution_count": 5,
     "metadata": {},
     "output_type": "execute_result"
    }
   ],
   "source": [
    "df.shape"
   ]
  },
  {
   "cell_type": "markdown",
   "id": "eb261370",
   "metadata": {
    "papermill": {
     "duration": 0.023868,
     "end_time": "2021-06-08T01:48:44.464789",
     "exception": false,
     "start_time": "2021-06-08T01:48:44.440921",
     "status": "completed"
    },
    "tags": []
   },
   "source": [
    "## 1. ANOVA"
   ]
  },
  {
   "cell_type": "markdown",
   "id": "8d3e3706",
   "metadata": {
    "papermill": {
     "duration": 0.02126,
     "end_time": "2021-06-08T01:48:44.509510",
     "exception": false,
     "start_time": "2021-06-08T01:48:44.488250",
     "status": "completed"
    },
    "tags": []
   },
   "source": [
    "ANOVA Feature Selection - Continuous Variable(top 50 sorted by F-value)"
   ]
  },
  {
   "cell_type": "code",
   "execution_count": 6,
   "id": "a5307a90",
   "metadata": {
    "ExecuteTime": {
     "end_time": "2021-06-15T01:08:10.141725Z",
     "start_time": "2021-06-15T01:08:10.139271Z"
    },
    "execution": {
     "iopub.execute_input": "2021-06-08T01:48:49.637266Z",
     "iopub.status.busy": "2021-06-08T01:48:49.636610Z",
     "iopub.status.idle": "2021-06-08T01:48:49.639462Z",
     "shell.execute_reply": "2021-06-08T01:48:49.638792Z",
     "shell.execute_reply.started": "2021-06-02T06:07:09.165368Z"
    },
    "papermill": {
     "duration": 0.029811,
     "end_time": "2021-06-08T01:48:49.639600",
     "exception": false,
     "start_time": "2021-06-08T01:48:49.609789",
     "status": "completed"
    },
    "tags": []
   },
   "outputs": [],
   "source": [
    "obj_col = ['application_type', 'debt_settlement_flag', 'disbursement_method',\n",
    "           'hardship_flag', 'home_ownership',\n",
    "        'purpose', 'pymnt_plan', 'sub_grade', 'term',\n",
    "       'verification_status','grade']"
   ]
  },
  {
   "cell_type": "code",
   "execution_count": 8,
   "id": "8929d8c6",
   "metadata": {
    "ExecuteTime": {
     "end_time": "2021-06-15T01:08:49.121639Z",
     "start_time": "2021-06-15T01:08:46.640061Z"
    },
    "execution": {
     "iopub.execute_input": "2021-06-08T01:48:44.563569Z",
     "iopub.status.busy": "2021-06-08T01:48:44.562625Z",
     "iopub.status.idle": "2021-06-08T01:48:49.426153Z",
     "shell.execute_reply": "2021-06-08T01:48:49.425523Z",
     "shell.execute_reply.started": "2021-06-02T06:06:53.515756Z"
    },
    "papermill": {
     "duration": 4.894356,
     "end_time": "2021-06-08T01:48:49.426448",
     "exception": false,
     "start_time": "2021-06-08T01:48:44.532092",
     "status": "completed"
    },
    "tags": []
   },
   "outputs": [
    {
     "name": "stdout",
     "output_type": "stream",
     "text": [
      "(1382351, 50)\n"
     ]
    }
   ],
   "source": [
    "from sklearn.feature_selection import SelectKBest\n",
    "from sklearn.feature_selection import f_classif\n",
    "num_col = np.setdiff1d(df.select_dtypes('number').columns.values, obj_col+['id','loan_status'])\n",
    "X, y = df[num_col], df['loan_status']\n",
    "\n",
    "selector = SelectKBest(f_classif, k=50)\n",
    "selector.fit(X,y)\n",
    "cols = selector.get_support(indices = True)\n",
    "df_anova = df.iloc[:,cols]\n",
    "print(df_anova.shape)"
   ]
  },
  {
   "cell_type": "code",
   "execution_count": 9,
   "id": "7075f5ea",
   "metadata": {
    "ExecuteTime": {
     "end_time": "2021-06-15T01:08:51.852861Z",
     "start_time": "2021-06-15T01:08:51.837445Z"
    },
    "execution": {
     "iopub.execute_input": "2021-06-08T01:48:49.478997Z",
     "iopub.status.busy": "2021-06-08T01:48:49.478101Z",
     "iopub.status.idle": "2021-06-08T01:48:49.497976Z",
     "shell.execute_reply": "2021-06-08T01:48:49.498447Z",
     "shell.execute_reply.started": "2021-06-02T06:07:00.90631Z"
    },
    "papermill": {
     "duration": 0.049902,
     "end_time": "2021-06-08T01:48:49.498632",
     "exception": false,
     "start_time": "2021-06-08T01:48:49.448730",
     "status": "completed"
    },
    "tags": []
   },
   "outputs": [
    {
     "name": "stdout",
     "output_type": "stream",
     "text": [
      "                Feat_names  F_Scores\n",
      "17                int_rate  10087.16\n",
      "9           fico_range_low   2312.87\n",
      "8          fico_range_high   2312.82\n",
      "0     acc_open_past_24mths   1439.14\n",
      "1                 all_util   1302.54\n",
      "40             open_rv_24m   1278.71\n",
      "33      num_tl_op_past_12m   1088.84\n",
      "39             open_rv_12m   1080.37\n",
      "35             open_acc_6m   1045.84\n",
      "14            inq_last_12m    984.79\n",
      "6                      dti    973.70\n",
      "37             open_il_12m    875.93\n",
      "12                 il_util    865.77\n",
      "38             open_il_24m    820.49\n",
      "13                  inq_fi    810.56\n",
      "28         num_actv_rev_tl    758.80\n",
      "4           bc_open_to_buy    734.70\n",
      "30     num_rev_tl_bal_gt_0    727.17\n",
      "10             funded_amnt    709.11\n",
      "18               loan_amnt    707.79\n",
      "11         funded_amnt_inv    701.41\n",
      "3              avg_cur_bal    668.44\n",
      "23                mort_acc    656.51\n",
      "45         tot_hi_cred_lim    628.24\n",
      "41        percent_bc_gt_75    551.32\n",
      "47          total_bc_limit    543.70\n",
      "5                  bc_util    533.35\n",
      "15          inq_last_6mths    529.23\n",
      "44             tot_cur_bal    524.53\n",
      "36             open_act_il    476.49\n",
      "16             installment    444.57\n",
      "43              revol_util    396.52\n",
      "27          num_actv_bc_tl    337.63\n",
      "26    mths_since_recent_bc    283.73\n",
      "22          mo_sin_rcnt_tl    267.13\n",
      "21   mo_sin_rcnt_rev_tl_op    266.95\n",
      "49        total_rev_hi_lim    262.65\n",
      "46            total_bal_il    244.59\n",
      "29           num_op_rev_tl    232.73\n",
      "2               annual_inc    212.10\n",
      "48             total_cu_tl    196.15\n",
      "31                num_sats    171.30\n",
      "20    mo_sin_old_rev_tl_op    160.62\n",
      "32            num_tl_30dpd    133.24\n",
      "25      mths_since_rcnt_il    132.99\n",
      "24  mths_since_last_record    129.16\n",
      "7               emp_length    118.37\n",
      "19              max_bal_bc    112.22\n",
      "34                open_acc     97.72\n",
      "42                 pub_rec     93.71\n"
     ]
    }
   ],
   "source": [
    "cols = X.columns.values[selector.get_support()]\n",
    "scores = np.round(selector.scores_[selector.get_support()]*0.1, 2)\n",
    "cols_scores = list(zip(cols, scores))\n",
    "\n",
    "ns_df = pd.DataFrame(data = cols_scores, columns=['Feat_names', 'F_Scores'])\n",
    "ns_df_sorted = ns_df.sort_values(['F_Scores', 'Feat_names'], ascending = [False, True])\n",
    "print(ns_df_sorted)  "
   ]
  },
  {
   "cell_type": "markdown",
   "id": "1a1fefa9",
   "metadata": {
    "papermill": {
     "duration": 0.022118,
     "end_time": "2021-06-08T01:48:49.543483",
     "exception": false,
     "start_time": "2021-06-08T01:48:49.521365",
     "status": "completed"
    },
    "tags": []
   },
   "source": [
    "## 2. Chi-Squared Test"
   ]
  },
  {
   "cell_type": "markdown",
   "id": "48717d76",
   "metadata": {
    "papermill": {
     "duration": 0.021831,
     "end_time": "2021-06-08T01:48:49.587568",
     "exception": false,
     "start_time": "2021-06-08T01:48:49.565737",
     "status": "completed"
    },
    "tags": []
   },
   "source": [
    "Chi-Squared Test Feature Selection - Categorical Variable(sorted by P-value)"
   ]
  },
  {
   "cell_type": "code",
   "execution_count": 7,
   "id": "9438a133",
   "metadata": {
    "ExecuteTime": {
     "end_time": "2021-06-14T04:13:53.789152Z",
     "start_time": "2021-06-14T04:13:53.440778Z"
    },
    "execution": {
     "iopub.execute_input": "2021-06-08T01:48:49.689570Z",
     "iopub.status.busy": "2021-06-08T01:48:49.688932Z",
     "iopub.status.idle": "2021-06-08T01:48:50.134825Z",
     "shell.execute_reply": "2021-06-08T01:48:50.135376Z",
     "shell.execute_reply.started": "2021-06-02T06:07:11.168922Z"
    },
    "papermill": {
     "duration": 0.472949,
     "end_time": "2021-06-08T01:48:50.135551",
     "exception": false,
     "start_time": "2021-06-08T01:48:49.662602",
     "status": "completed"
    },
    "tags": []
   },
   "outputs": [
    {
     "name": "stdout",
     "output_type": "stream",
     "text": [
      "(1382351, 11)\n"
     ]
    }
   ],
   "source": [
    "from sklearn.feature_selection import chi2\n",
    "from sklearn.feature_selection import SelectKBest\n",
    "\n",
    "X, y = df[obj_col], df['loan_status']\n",
    "\n",
    "# df_new = SelectKBest(f_classif, k=50).fit_transform(X, y)\n",
    "selector = SelectKBest(chi2, k='all')\n",
    "selector.fit(X,y)\n",
    "cols = selector.get_support(indices = True)\n",
    "df_chi = df.iloc[:,cols]\n",
    "print(df_chi.shape)"
   ]
  },
  {
   "cell_type": "code",
   "execution_count": 10,
   "id": "d56393ac",
   "metadata": {
    "execution": {
     "iopub.execute_input": "2021-06-08T01:48:50.194520Z",
     "iopub.status.busy": "2021-06-08T01:48:50.193781Z",
     "iopub.status.idle": "2021-06-08T01:48:50.198443Z",
     "shell.execute_reply": "2021-06-08T01:48:50.197879Z",
     "shell.execute_reply.started": "2021-06-02T06:07:14.485659Z"
    },
    "papermill": {
     "duration": 0.040279,
     "end_time": "2021-06-08T01:48:50.198581",
     "exception": false,
     "start_time": "2021-06-08T01:48:50.158302",
     "status": "completed"
    },
    "tags": []
   },
   "outputs": [
    {
     "name": "stdout",
     "output_type": "stream",
     "text": [
      "              Feat_names      P_Values\n",
      "0       application_type  0.000000e+00\n",
      "1   debt_settlement_flag  0.000000e+00\n",
      "10                 grade  0.000000e+00\n",
      "3          hardship_flag  0.000000e+00\n",
      "4         home_ownership  0.000000e+00\n",
      "5                purpose  0.000000e+00\n",
      "6             pymnt_plan  0.000000e+00\n",
      "7              sub_grade  0.000000e+00\n",
      "8                   term  0.000000e+00\n",
      "9    verification_status  0.000000e+00\n",
      "2    disbursement_method  4.828748e-27\n"
     ]
    }
   ],
   "source": [
    "cols = X.columns.values[selector.get_support()]\n",
    "scores = selector.pvalues_[selector.get_support()]\n",
    "cols_scores = list(zip(cols, scores))\n",
    "ns_df = pd.DataFrame(data = cols_scores, columns=['Feat_names', 'P_Values'])\n",
    "ns_df_sorted = ns_df.sort_values(['P_Values', 'Feat_names'], ascending = [True, True])\n",
    "print(ns_df_sorted) "
   ]
  },
  {
   "cell_type": "markdown",
   "id": "801fe031",
   "metadata": {
    "papermill": {
     "duration": 0.024409,
     "end_time": "2021-06-08T01:48:50.246635",
     "exception": false,
     "start_time": "2021-06-08T01:48:50.222226",
     "status": "completed"
    },
    "tags": []
   },
   "source": [
    "## 3. ML Model_LGBM"
   ]
  },
  {
   "cell_type": "code",
   "execution_count": 4,
   "id": "e18f2104",
   "metadata": {
    "ExecuteTime": {
     "end_time": "2021-06-16T08:48:23.998976Z",
     "start_time": "2021-06-16T08:48:23.528465Z"
    },
    "execution": {
     "iopub.execute_input": "2021-06-08T01:48:50.299918Z",
     "iopub.status.busy": "2021-06-08T01:48:50.299216Z",
     "iopub.status.idle": "2021-06-08T01:48:51.416917Z",
     "shell.execute_reply": "2021-06-08T01:48:51.417600Z",
     "shell.execute_reply.started": "2021-06-08T01:46:41.024494Z"
    },
    "papermill": {
     "duration": 1.147613,
     "end_time": "2021-06-08T01:48:51.417790",
     "exception": false,
     "start_time": "2021-06-08T01:48:50.270177",
     "status": "completed"
    },
    "tags": []
   },
   "outputs": [],
   "source": [
    "import time\n",
    "import lightgbm as lgb\n",
    "from lightgbm import LGBMClassifier\n",
    "\n",
    "from sklearn.model_selection import train_test_split\n",
    "from sklearn.metrics import accuracy_score, precision_score, recall_score, roc_auc_score , average_precision_score \n",
    "from sklearn.metrics import f1_score, confusion_matrix, precision_recall_curve, roc_curve ,auc , log_loss ,  classification_report \n",
    "from sklearn.model_selection import StratifiedKFold , KFold, GroupKFold, cross_val_score\n",
    "from sklearn import metrics\n",
    "\n",
    "import gc, warnings\n",
    "warnings.filterwarnings('ignore')"
   ]
  },
  {
   "cell_type": "code",
   "execution_count": 5,
   "id": "9a044b44",
   "metadata": {
    "ExecuteTime": {
     "end_time": "2021-06-16T08:48:25.266016Z",
     "start_time": "2021-06-16T08:48:25.263658Z"
    },
    "execution": {
     "iopub.execute_input": "2021-06-08T01:48:51.467957Z",
     "iopub.status.busy": "2021-06-08T01:48:51.467285Z",
     "iopub.status.idle": "2021-06-08T01:48:51.470911Z",
     "shell.execute_reply": "2021-06-08T01:48:51.471380Z",
     "shell.execute_reply.started": "2021-06-08T01:47:13.695128Z"
    },
    "papermill": {
     "duration": 0.03017,
     "end_time": "2021-06-08T01:48:51.471551",
     "exception": false,
     "start_time": "2021-06-08T01:48:51.441381",
     "status": "completed"
    },
    "tags": []
   },
   "outputs": [],
   "source": [
    "remove_features = ['id', 'loan_status','earliest_cr_line', 'issue_d', 'last_credit_pull_d', 'last_pymnt_d', 'next_pymnt_d','Unnamed: 0']"
   ]
  },
  {
   "cell_type": "code",
   "execution_count": 6,
   "id": "1f6b793d",
   "metadata": {
    "ExecuteTime": {
     "end_time": "2021-06-16T08:48:25.713499Z",
     "start_time": "2021-06-16T08:48:25.711337Z"
    },
    "execution": {
     "iopub.execute_input": "2021-06-08T01:48:51.523862Z",
     "iopub.status.busy": "2021-06-08T01:48:51.523238Z",
     "iopub.status.idle": "2021-06-08T01:48:51.526624Z",
     "shell.execute_reply": "2021-06-08T01:48:51.527211Z",
     "shell.execute_reply.started": "2021-06-08T01:46:45.668288Z"
    },
    "papermill": {
     "duration": 0.031278,
     "end_time": "2021-06-08T01:48:51.527382",
     "exception": false,
     "start_time": "2021-06-08T01:48:51.496104",
     "status": "completed"
    },
    "tags": []
   },
   "outputs": [],
   "source": [
    "SEED = 2021\n",
    "TARGET = 'loan_status'"
   ]
  },
  {
   "cell_type": "code",
   "execution_count": 7,
   "id": "d60e4b6a",
   "metadata": {
    "ExecuteTime": {
     "end_time": "2021-06-16T08:48:47.444177Z",
     "start_time": "2021-06-16T08:48:27.216977Z"
    },
    "execution": {
     "iopub.execute_input": "2021-06-08T01:48:51.577901Z",
     "iopub.status.busy": "2021-06-08T01:48:51.577272Z",
     "iopub.status.idle": "2021-06-08T01:49:18.436021Z",
     "shell.execute_reply": "2021-06-08T01:49:18.435425Z",
     "shell.execute_reply.started": "2021-06-08T01:47:17.066336Z"
    },
    "papermill": {
     "duration": 26.885035,
     "end_time": "2021-06-08T01:49:18.436171",
     "exception": false,
     "start_time": "2021-06-08T01:48:51.551136",
     "status": "completed"
    },
    "tags": []
   },
   "outputs": [],
   "source": [
    "features_columns = [col for col in list(df) if col not in remove_features]\n",
    "X,y = df[features_columns], df[TARGET]\n",
    "\n",
    "from sklearn.model_selection import train_test_split\n",
    "X_train, X_test, y_train, y_test = train_test_split(X, y, test_size = 0.3, random_state = 0)\n",
    "\n",
    "clf = lgb.LGBMClassifier()\n",
    "clf.fit(X_train, y_train)\n",
    "\n",
    "# predict the results\n",
    "y_pred=clf.predict(X_test)"
   ]
  },
  {
   "cell_type": "code",
   "execution_count": 12,
   "id": "e07f3b29",
   "metadata": {
    "ExecuteTime": {
     "end_time": "2021-06-14T04:14:46.594223Z",
     "start_time": "2021-06-14T04:14:46.302091Z"
    }
   },
   "outputs": [
    {
     "name": "stdout",
     "output_type": "stream",
     "text": [
      "LightGBM Model AUC score: 0.5901\n",
      "LightGBM Model Precision: 0.7774\n",
      "LightGBM Model Recall: 0.1954\n"
     ]
    }
   ],
   "source": [
    "from sklearn.metrics import accuracy_score, precision_score, recall_score\n",
    "print('LightGBM Model AUC score: {0:0.4f}'.format(roc_auc_score(y_test, y_pred)))\n",
    "print('LightGBM Model Precision: {0:0.4f}'.format(precision_score(y_test, y_pred)))\n",
    "print('LightGBM Model Recall: {0:0.4f}'.format(recall_score(y_test, y_pred)))"
   ]
  },
  {
   "cell_type": "code",
   "execution_count": 22,
   "id": "dd089d42",
   "metadata": {
    "ExecuteTime": {
     "end_time": "2021-06-14T04:20:11.042203Z",
     "start_time": "2021-06-14T04:20:08.975738Z"
    },
    "execution": {
     "iopub.execute_input": "2021-06-08T01:49:18.911217Z",
     "iopub.status.busy": "2021-06-08T01:49:18.910519Z",
     "iopub.status.idle": "2021-06-08T01:49:21.179171Z",
     "shell.execute_reply": "2021-06-08T01:49:21.179908Z",
     "shell.execute_reply.started": "2021-06-08T01:47:43.528859Z"
    },
    "papermill": {
     "duration": 2.301534,
     "end_time": "2021-06-08T01:49:21.180182",
     "exception": false,
     "start_time": "2021-06-08T01:49:18.878648",
     "status": "completed"
    },
    "tags": []
   },
   "outputs": [
    {
     "data": {
      "image/png": "[encoded data removed]",
      "text/plain": [
       "<Figure size 2160x1440 with 1 Axes>"
      ]
     },
     "metadata": {
      "needs_background": "light"
     },
     "output_type": "display_data"
    }
   ],
   "source": [
    "import matplotlib.pyplot as plt\n",
    "import seaborn as sns\n",
    "\n",
    "feature_imp = pd.DataFrame(sorted(zip(X.columns,clf.feature_importances_)), columns=['Feature','Value'])\n",
    "\n",
    "plt.figure(figsize=(30, 20))\n",
    "sns.barplot(x=\"Value\", y=\"Feature\", data=feature_imp.sort_values(by=\"Value\", ascending=False))\n",
    "plt.title('LightGBM Features')\n",
    "plt.tight_layout()\n",
    "plt.show()"
   ]
  },
  {
   "cell_type": "code",
   "execution_count": 10,
   "id": "98a84dc1",
   "metadata": {
    "ExecuteTime": {
     "end_time": "2021-06-16T08:49:00.797264Z",
     "start_time": "2021-06-16T08:49:00.793632Z"
    },
    "execution": {
     "iopub.execute_input": "2021-06-08T01:49:21.268307Z",
     "iopub.status.busy": "2021-06-08T01:49:21.267516Z",
     "iopub.status.idle": "2021-06-08T01:49:21.270834Z",
     "shell.execute_reply": "2021-06-08T01:49:21.270323Z",
     "shell.execute_reply.started": "2021-06-08T01:47:50.110605Z"
    },
    "papermill": {
     "duration": 0.047165,
     "end_time": "2021-06-08T01:49:21.271001",
     "exception": false,
     "start_time": "2021-06-08T01:49:21.223836",
     "status": "completed"
    },
    "tags": []
   },
   "outputs": [],
   "source": [
    "lgb_imp = feature_imp.sort_values(by=\"Value\", ascending=False).head(60).Feature.tolist()\n",
    "lgb_imp += ['loan_status','issue_d','id']"
   ]
  },
  {
   "cell_type": "code",
   "execution_count": 11,
   "id": "c4485df4",
   "metadata": {
    "ExecuteTime": {
     "end_time": "2021-06-16T08:49:07.524510Z",
     "start_time": "2021-06-16T08:49:07.519172Z"
    }
   },
   "outputs": [
    {
     "data": {
      "text/plain": [
       "['int_rate',\n",
       " 'dti',\n",
       " 'annual_inc',\n",
       " 'mo_sin_old_rev_tl_op',\n",
       " 'acc_open_past_24mths',\n",
       " 'loan_amnt',\n",
       " 'emp_length',\n",
       " 'addr_state',\n",
       " 'revol_bal',\n",
       " 'term',\n",
       " 'sub_grade',\n",
       " 'funded_amnt_inv',\n",
       " 'installment',\n",
       " 'purpose',\n",
       " 'total_rev_hi_lim',\n",
       " 'fico_range_low',\n",
       " 'debt_settlement_flag',\n",
       " 'mort_acc',\n",
       " 'total_bc_limit',\n",
       " 'home_ownership',\n",
       " 'avg_cur_bal',\n",
       " 'all_util',\n",
       " 'mths_since_recent_bc',\n",
       " 'total_acc',\n",
       " 'open_acc_6m',\n",
       " 'bc_util',\n",
       " 'num_actv_rev_tl',\n",
       " 'funded_amnt',\n",
       " 'hardship_flag',\n",
       " 'num_rev_tl_bal_gt_0',\n",
       " 'mths_since_recent_inq',\n",
       " 'inq_last_6mths',\n",
       " 'num_il_tl',\n",
       " 'mo_sin_old_il_acct',\n",
       " 'num_rev_accts',\n",
       " 'num_tl_120dpd_2m',\n",
       " 'total_il_high_credit_limit',\n",
       " 'application_type',\n",
       " 'revol_util',\n",
       " 'tot_hi_cred_lim',\n",
       " 'delinq_2yrs',\n",
       " 'mo_sin_rcnt_tl',\n",
       " 'num_actv_bc_tl',\n",
       " 'mths_since_last_record',\n",
       " 'percent_bc_gt_75',\n",
       " 'bc_open_to_buy',\n",
       " 'max_bal_bc',\n",
       " 'grade',\n",
       " 'open_rv_24m',\n",
       " 'mo_sin_rcnt_rev_tl_op',\n",
       " 'pct_tl_nvr_dlq',\n",
       " 'verification_status',\n",
       " 'tot_cur_bal',\n",
       " 'total_bal_ex_mort',\n",
       " 'mths_since_last_major_derog',\n",
       " 'inq_fi',\n",
       " 'mths_since_rcnt_il',\n",
       " 'inq_last_12m',\n",
       " 'mths_since_last_delinq',\n",
       " 'num_bc_tl',\n",
       " 'loan_status',\n",
       " 'issue_d',\n",
       " 'id']"
      ]
     },
     "execution_count": 11,
     "metadata": {},
     "output_type": "execute_result"
    }
   ],
   "source": [
    "lgb_imp"
   ]
  },
  {
   "cell_type": "code",
   "execution_count": 25,
   "id": "b2459f48",
   "metadata": {
    "ExecuteTime": {
     "end_time": "2021-06-14T04:22:32.116330Z",
     "start_time": "2021-06-14T04:22:24.248053Z"
    },
    "execution": {
     "iopub.execute_input": "2021-06-08T01:49:21.523145Z",
     "iopub.status.busy": "2021-06-08T01:49:21.522487Z",
     "iopub.status.idle": "2021-06-08T01:49:22.753844Z",
     "shell.execute_reply": "2021-06-08T01:49:22.752700Z",
     "shell.execute_reply.started": "2021-06-08T01:47:55.579263Z"
    },
    "papermill": {
     "duration": 1.455169,
     "end_time": "2021-06-08T01:49:22.754008",
     "exception": false,
     "start_time": "2021-06-08T01:49:21.298839",
     "status": "completed"
    },
    "tags": []
   },
   "outputs": [],
   "source": [
    "df[lgb_imp].to_pickle('/home/work/toy-project/data/lgb_selected.pkl')"
   ]
  },
  {
   "cell_type": "markdown",
   "id": "8c5a7127",
   "metadata": {
    "papermill": {
     "duration": 0.027899,
     "end_time": "2021-06-08T01:49:22.810882",
     "exception": false,
     "start_time": "2021-06-08T01:49:22.782983",
     "status": "completed"
    },
    "tags": []
   },
   "source": [
    "### 3-(1) SHAP"
   ]
  },
  {
   "cell_type": "code",
   "execution_count": 19,
   "id": "58368daa",
   "metadata": {
    "execution": {
     "iopub.execute_input": "2021-06-08T01:49:22.873411Z",
     "iopub.status.busy": "2021-06-08T01:49:22.871697Z",
     "iopub.status.idle": "2021-06-08T01:49:23.271115Z",
     "shell.execute_reply": "2021-06-08T01:49:23.271575Z",
     "shell.execute_reply.started": "2021-06-02T06:10:22.350213Z"
    },
    "papermill": {
     "duration": 0.432821,
     "end_time": "2021-06-08T01:49:23.271752",
     "exception": false,
     "start_time": "2021-06-08T01:49:22.838931",
     "status": "completed"
    },
    "tags": []
   },
   "outputs": [
    {
     "data": {
      "text/html": [
       "<div>\n",
       "<style scoped>\n",
       "    .dataframe tbody tr th:only-of-type {\n",
       "        vertical-align: middle;\n",
       "    }\n",
       "\n",
       "    .dataframe tbody tr th {\n",
       "        vertical-align: top;\n",
       "    }\n",
       "\n",
       "    .dataframe thead th {\n",
       "        text-align: right;\n",
       "    }\n",
       "</style>\n",
       "<table border=\"1\" class=\"dataframe\">\n",
       "  <thead>\n",
       "    <tr style=\"text-align: right;\">\n",
       "      <th></th>\n",
       "      <th>loan_amnt</th>\n",
       "      <th>funded_amnt</th>\n",
       "      <th>funded_amnt_inv</th>\n",
       "      <th>term</th>\n",
       "      <th>int_rate</th>\n",
       "      <th>installment</th>\n",
       "      <th>grade</th>\n",
       "      <th>sub_grade</th>\n",
       "      <th>emp_length</th>\n",
       "      <th>home_ownership</th>\n",
       "      <th>...</th>\n",
       "      <th>percent_bc_gt_75</th>\n",
       "      <th>pub_rec_bankruptcies</th>\n",
       "      <th>tax_liens</th>\n",
       "      <th>tot_hi_cred_lim</th>\n",
       "      <th>total_bal_ex_mort</th>\n",
       "      <th>total_bc_limit</th>\n",
       "      <th>total_il_high_credit_limit</th>\n",
       "      <th>hardship_flag</th>\n",
       "      <th>disbursement_method</th>\n",
       "      <th>debt_settlement_flag</th>\n",
       "    </tr>\n",
       "  </thead>\n",
       "  <tbody>\n",
       "    <tr>\n",
       "      <th>19274</th>\n",
       "      <td>16000.0</td>\n",
       "      <td>16000.0</td>\n",
       "      <td>16000.0</td>\n",
       "      <td>0</td>\n",
       "      <td>13.18</td>\n",
       "      <td>540.50</td>\n",
       "      <td>2</td>\n",
       "      <td>12</td>\n",
       "      <td>3</td>\n",
       "      <td>1</td>\n",
       "      <td>...</td>\n",
       "      <td>80.0</td>\n",
       "      <td>0.0</td>\n",
       "      <td>0.0</td>\n",
       "      <td>248497.0</td>\n",
       "      <td>99941.0</td>\n",
       "      <td>39200.0</td>\n",
       "      <td>66922.0</td>\n",
       "      <td>0</td>\n",
       "      <td>0</td>\n",
       "      <td>0</td>\n",
       "    </tr>\n",
       "    <tr>\n",
       "      <th>1945387</th>\n",
       "      <td>9000.0</td>\n",
       "      <td>9000.0</td>\n",
       "      <td>9000.0</td>\n",
       "      <td>0</td>\n",
       "      <td>13.49</td>\n",
       "      <td>305.38</td>\n",
       "      <td>2</td>\n",
       "      <td>11</td>\n",
       "      <td>0</td>\n",
       "      <td>5</td>\n",
       "      <td>...</td>\n",
       "      <td>25.0</td>\n",
       "      <td>0.0</td>\n",
       "      <td>0.0</td>\n",
       "      <td>97554.0</td>\n",
       "      <td>65138.0</td>\n",
       "      <td>11300.0</td>\n",
       "      <td>81654.0</td>\n",
       "      <td>0</td>\n",
       "      <td>0</td>\n",
       "      <td>0</td>\n",
       "    </tr>\n",
       "    <tr>\n",
       "      <th>1260279</th>\n",
       "      <td>3800.0</td>\n",
       "      <td>3800.0</td>\n",
       "      <td>3800.0</td>\n",
       "      <td>0</td>\n",
       "      <td>19.52</td>\n",
       "      <td>140.30</td>\n",
       "      <td>4</td>\n",
       "      <td>21</td>\n",
       "      <td>9</td>\n",
       "      <td>5</td>\n",
       "      <td>...</td>\n",
       "      <td>100.0</td>\n",
       "      <td>0.0</td>\n",
       "      <td>0.0</td>\n",
       "      <td>9200.0</td>\n",
       "      <td>8542.0</td>\n",
       "      <td>6300.0</td>\n",
       "      <td>0.0</td>\n",
       "      <td>0</td>\n",
       "      <td>0</td>\n",
       "      <td>0</td>\n",
       "    </tr>\n",
       "    <tr>\n",
       "      <th>1825134</th>\n",
       "      <td>12000.0</td>\n",
       "      <td>12000.0</td>\n",
       "      <td>11975.0</td>\n",
       "      <td>0</td>\n",
       "      <td>11.55</td>\n",
       "      <td>396.00</td>\n",
       "      <td>1</td>\n",
       "      <td>7</td>\n",
       "      <td>1</td>\n",
       "      <td>1</td>\n",
       "      <td>...</td>\n",
       "      <td>40.0</td>\n",
       "      <td>0.0</td>\n",
       "      <td>0.0</td>\n",
       "      <td>348229.0</td>\n",
       "      <td>38417.0</td>\n",
       "      <td>12000.0</td>\n",
       "      <td>31584.0</td>\n",
       "      <td>0</td>\n",
       "      <td>0</td>\n",
       "      <td>0</td>\n",
       "    </tr>\n",
       "    <tr>\n",
       "      <th>1905156</th>\n",
       "      <td>10400.0</td>\n",
       "      <td>10400.0</td>\n",
       "      <td>10400.0</td>\n",
       "      <td>0</td>\n",
       "      <td>17.77</td>\n",
       "      <td>374.79</td>\n",
       "      <td>3</td>\n",
       "      <td>15</td>\n",
       "      <td>2</td>\n",
       "      <td>5</td>\n",
       "      <td>...</td>\n",
       "      <td>50.0</td>\n",
       "      <td>0.0</td>\n",
       "      <td>0.0</td>\n",
       "      <td>38438.0</td>\n",
       "      <td>23663.0</td>\n",
       "      <td>14400.0</td>\n",
       "      <td>19846.0</td>\n",
       "      <td>0</td>\n",
       "      <td>0</td>\n",
       "      <td>0</td>\n",
       "    </tr>\n",
       "    <tr>\n",
       "      <th>...</th>\n",
       "      <td>...</td>\n",
       "      <td>...</td>\n",
       "      <td>...</td>\n",
       "      <td>...</td>\n",
       "      <td>...</td>\n",
       "      <td>...</td>\n",
       "      <td>...</td>\n",
       "      <td>...</td>\n",
       "      <td>...</td>\n",
       "      <td>...</td>\n",
       "      <td>...</td>\n",
       "      <td>...</td>\n",
       "      <td>...</td>\n",
       "      <td>...</td>\n",
       "      <td>...</td>\n",
       "      <td>...</td>\n",
       "      <td>...</td>\n",
       "      <td>...</td>\n",
       "      <td>...</td>\n",
       "      <td>...</td>\n",
       "      <td>...</td>\n",
       "    </tr>\n",
       "    <tr>\n",
       "      <th>2218744</th>\n",
       "      <td>15000.0</td>\n",
       "      <td>15000.0</td>\n",
       "      <td>15000.0</td>\n",
       "      <td>0</td>\n",
       "      <td>11.44</td>\n",
       "      <td>494.22</td>\n",
       "      <td>1</td>\n",
       "      <td>8</td>\n",
       "      <td>11</td>\n",
       "      <td>1</td>\n",
       "      <td>...</td>\n",
       "      <td>50.0</td>\n",
       "      <td>1.0</td>\n",
       "      <td>1.0</td>\n",
       "      <td>144237.0</td>\n",
       "      <td>10630.0</td>\n",
       "      <td>7000.0</td>\n",
       "      <td>5757.0</td>\n",
       "      <td>0</td>\n",
       "      <td>0</td>\n",
       "      <td>0</td>\n",
       "    </tr>\n",
       "    <tr>\n",
       "      <th>1832518</th>\n",
       "      <td>30225.0</td>\n",
       "      <td>30225.0</td>\n",
       "      <td>30225.0</td>\n",
       "      <td>0</td>\n",
       "      <td>14.33</td>\n",
       "      <td>1037.87</td>\n",
       "      <td>2</td>\n",
       "      <td>10</td>\n",
       "      <td>1</td>\n",
       "      <td>1</td>\n",
       "      <td>...</td>\n",
       "      <td>7.7</td>\n",
       "      <td>0.0</td>\n",
       "      <td>0.0</td>\n",
       "      <td>747210.0</td>\n",
       "      <td>40623.0</td>\n",
       "      <td>79980.0</td>\n",
       "      <td>20000.0</td>\n",
       "      <td>0</td>\n",
       "      <td>0</td>\n",
       "      <td>0</td>\n",
       "    </tr>\n",
       "    <tr>\n",
       "      <th>1907216</th>\n",
       "      <td>31200.0</td>\n",
       "      <td>31200.0</td>\n",
       "      <td>31200.0</td>\n",
       "      <td>0</td>\n",
       "      <td>18.75</td>\n",
       "      <td>1139.73</td>\n",
       "      <td>3</td>\n",
       "      <td>17</td>\n",
       "      <td>1</td>\n",
       "      <td>1</td>\n",
       "      <td>...</td>\n",
       "      <td>50.0</td>\n",
       "      <td>0.0</td>\n",
       "      <td>0.0</td>\n",
       "      <td>344000.0</td>\n",
       "      <td>80041.0</td>\n",
       "      <td>31000.0</td>\n",
       "      <td>71043.0</td>\n",
       "      <td>0</td>\n",
       "      <td>0</td>\n",
       "      <td>0</td>\n",
       "    </tr>\n",
       "    <tr>\n",
       "      <th>1796432</th>\n",
       "      <td>9750.0</td>\n",
       "      <td>9750.0</td>\n",
       "      <td>9750.0</td>\n",
       "      <td>0</td>\n",
       "      <td>18.55</td>\n",
       "      <td>355.19</td>\n",
       "      <td>3</td>\n",
       "      <td>16</td>\n",
       "      <td>4</td>\n",
       "      <td>5</td>\n",
       "      <td>...</td>\n",
       "      <td>100.0</td>\n",
       "      <td>0.0</td>\n",
       "      <td>0.0</td>\n",
       "      <td>51439.0</td>\n",
       "      <td>26055.0</td>\n",
       "      <td>2000.0</td>\n",
       "      <td>36839.0</td>\n",
       "      <td>0</td>\n",
       "      <td>0</td>\n",
       "      <td>0</td>\n",
       "    </tr>\n",
       "    <tr>\n",
       "      <th>1962421</th>\n",
       "      <td>2000.0</td>\n",
       "      <td>2000.0</td>\n",
       "      <td>2000.0</td>\n",
       "      <td>0</td>\n",
       "      <td>8.59</td>\n",
       "      <td>63.22</td>\n",
       "      <td>0</td>\n",
       "      <td>4</td>\n",
       "      <td>5</td>\n",
       "      <td>5</td>\n",
       "      <td>...</td>\n",
       "      <td>100.0</td>\n",
       "      <td>0.0</td>\n",
       "      <td>0.0</td>\n",
       "      <td>123384.0</td>\n",
       "      <td>85648.0</td>\n",
       "      <td>23900.0</td>\n",
       "      <td>37555.0</td>\n",
       "      <td>0</td>\n",
       "      <td>0</td>\n",
       "      <td>0</td>\n",
       "    </tr>\n",
       "  </tbody>\n",
       "</table>\n",
       "<p>96764 rows × 88 columns</p>\n",
       "</div>"
      ],
      "text/plain": [
       "         loan_amnt  funded_amnt  funded_amnt_inv  term  int_rate  installment  \\\n",
       "19274      16000.0      16000.0          16000.0     0     13.18       540.50   \n",
       "1945387     9000.0       9000.0           9000.0     0     13.49       305.38   \n",
       "1260279     3800.0       3800.0           3800.0     0     19.52       140.30   \n",
       "1825134    12000.0      12000.0          11975.0     0     11.55       396.00   \n",
       "1905156    10400.0      10400.0          10400.0     0     17.77       374.79   \n",
       "...            ...          ...              ...   ...       ...          ...   \n",
       "2218744    15000.0      15000.0          15000.0     0     11.44       494.22   \n",
       "1832518    30225.0      30225.0          30225.0     0     14.33      1037.87   \n",
       "1907216    31200.0      31200.0          31200.0     0     18.75      1139.73   \n",
       "1796432     9750.0       9750.0           9750.0     0     18.55       355.19   \n",
       "1962421     2000.0       2000.0           2000.0     0      8.59        63.22   \n",
       "\n",
       "         grade  sub_grade  emp_length  home_ownership  ...  percent_bc_gt_75  \\\n",
       "19274        2         12           3               1  ...              80.0   \n",
       "1945387      2         11           0               5  ...              25.0   \n",
       "1260279      4         21           9               5  ...             100.0   \n",
       "1825134      1          7           1               1  ...              40.0   \n",
       "1905156      3         15           2               5  ...              50.0   \n",
       "...        ...        ...         ...             ...  ...               ...   \n",
       "2218744      1          8          11               1  ...              50.0   \n",
       "1832518      2         10           1               1  ...               7.7   \n",
       "1907216      3         17           1               1  ...              50.0   \n",
       "1796432      3         16           4               5  ...             100.0   \n",
       "1962421      0          4           5               5  ...             100.0   \n",
       "\n",
       "         pub_rec_bankruptcies  tax_liens  tot_hi_cred_lim  total_bal_ex_mort  \\\n",
       "19274                     0.0        0.0         248497.0            99941.0   \n",
       "1945387                   0.0        0.0          97554.0            65138.0   \n",
       "1260279                   0.0        0.0           9200.0             8542.0   \n",
       "1825134                   0.0        0.0         348229.0            38417.0   \n",
       "1905156                   0.0        0.0          38438.0            23663.0   \n",
       "...                       ...        ...              ...                ...   \n",
       "2218744                   1.0        1.0         144237.0            10630.0   \n",
       "1832518                   0.0        0.0         747210.0            40623.0   \n",
       "1907216                   0.0        0.0         344000.0            80041.0   \n",
       "1796432                   0.0        0.0          51439.0            26055.0   \n",
       "1962421                   0.0        0.0         123384.0            85648.0   \n",
       "\n",
       "         total_bc_limit  total_il_high_credit_limit  hardship_flag  \\\n",
       "19274           39200.0                     66922.0              0   \n",
       "1945387         11300.0                     81654.0              0   \n",
       "1260279          6300.0                         0.0              0   \n",
       "1825134         12000.0                     31584.0              0   \n",
       "1905156         14400.0                     19846.0              0   \n",
       "...                 ...                         ...            ...   \n",
       "2218744          7000.0                      5757.0              0   \n",
       "1832518         79980.0                     20000.0              0   \n",
       "1907216         31000.0                     71043.0              0   \n",
       "1796432          2000.0                     36839.0              0   \n",
       "1962421         23900.0                     37555.0              0   \n",
       "\n",
       "         disbursement_method  debt_settlement_flag  \n",
       "19274                      0                     0  \n",
       "1945387                    0                     0  \n",
       "1260279                    0                     0  \n",
       "1825134                    0                     0  \n",
       "1905156                    0                     0  \n",
       "...                      ...                   ...  \n",
       "2218744                    0                     0  \n",
       "1832518                    0                     0  \n",
       "1907216                    0                     0  \n",
       "1796432                    0                     0  \n",
       "1962421                    0                     0  \n",
       "\n",
       "[96764 rows x 88 columns]"
      ]
     },
     "execution_count": 19,
     "metadata": {},
     "output_type": "execute_result"
    }
   ],
   "source": [
    "df_sample = X_train.copy()\n",
    "df_sample.sample(frac=0.1, replace=True, random_state=2020)"
   ]
  },
  {
   "cell_type": "code",
   "execution_count": 20,
   "id": "9250a218",
   "metadata": {
    "execution": {
     "iopub.execute_input": "2021-06-08T01:49:23.334591Z",
     "iopub.status.busy": "2021-06-08T01:49:23.333960Z",
     "iopub.status.idle": "2021-06-08T02:02:59.669710Z",
     "shell.execute_reply": "2021-06-08T02:02:59.670295Z",
     "shell.execute_reply.started": "2021-06-02T06:10:22.741439Z"
    },
    "papermill": {
     "duration": 816.370395,
     "end_time": "2021-06-08T02:02:59.670630",
     "exception": false,
     "start_time": "2021-06-08T01:49:23.300235",
     "status": "completed"
    },
    "tags": []
   },
   "outputs": [
    {
     "data": {
      "image/png": "[encoded data removed]",
      "text/plain": [
       "<Figure size 576x684 with 1 Axes>"
      ]
     },
     "metadata": {
      "needs_background": "light"
     },
     "output_type": "display_data"
    }
   ],
   "source": [
    "import shap\n",
    "shap_values = shap.TreeExplainer(clf).shap_values(df_sample)\n",
    "shap.summary_plot(shap_values, X_train, plot_type=\"bar\")"
   ]
  },
  {
   "cell_type": "code",
   "execution_count": 21,
   "id": "6329d220",
   "metadata": {
    "execution": {
     "iopub.execute_input": "2021-06-08T02:02:59.734605Z",
     "iopub.status.busy": "2021-06-08T02:02:59.733869Z",
     "iopub.status.idle": "2021-06-08T02:02:59.884357Z",
     "shell.execute_reply": "2021-06-08T02:02:59.885060Z",
     "shell.execute_reply.started": "2021-06-02T06:22:56.566229Z"
    },
    "papermill": {
     "duration": 0.184662,
     "end_time": "2021-06-08T02:02:59.885253",
     "exception": false,
     "start_time": "2021-06-08T02:02:59.700591",
     "status": "completed"
    },
    "tags": []
   },
   "outputs": [],
   "source": [
    "feature_names = X_train.columns.values\n",
    "feature_importance = pd.DataFrame(list(zip(feature_names, shap_values[0].sum(0))), columns=['feature_name', 'feature_importance_vals'])\n",
    "feature_importance = feature_importance.iloc[(-np.abs(feature_importance['feature_importance_vals'].values)).argsort()]\n",
    "feat_imp = feature_importance['feature_name'].head(60).values.tolist()"
   ]
  },
  {
   "cell_type": "code",
   "execution_count": null,
   "id": "ac7fee76",
   "metadata": {
    "papermill": {
     "duration": 0.029157,
     "end_time": "2021-06-08T02:02:59.944201",
     "exception": false,
     "start_time": "2021-06-08T02:02:59.915044",
     "status": "completed"
    },
    "tags": []
   },
   "outputs": [],
   "source": []
  }
 ],
 "metadata": {
  "hide_input": false,
  "kernelspec": {
   "display_name": "Python 3",
   "language": "python",
   "name": "python3"
  },
  "language_info": {
   "codemirror_mode": {
    "name": "ipython",
    "version": 3
   },
   "file_extension": ".py",
   "mimetype": "text/x-python",
   "name": "python",
   "nbconvert_exporter": "python",
   "pygments_lexer": "ipython3",
   "version": "3.7.10"
  },
  "papermill": {
   "default_parameters": {},
   "duration": 885.28456,
   "end_time": "2021-06-08T02:03:02.581802",
   "environment_variables": {},
   "exception": null,
   "input_path": "__notebook__.ipynb",
   "output_path": "__notebook__.ipynb",
   "parameters": {},
   "start_time": "2021-06-08T01:48:17.297242",
   "version": "2.3.3"
  }
 },
 "nbformat": 4,
 "nbformat_minor": 5
}
