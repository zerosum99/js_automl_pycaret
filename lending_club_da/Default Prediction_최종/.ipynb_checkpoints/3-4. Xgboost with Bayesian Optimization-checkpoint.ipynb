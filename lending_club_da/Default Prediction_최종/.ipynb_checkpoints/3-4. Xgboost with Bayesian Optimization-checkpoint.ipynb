{
 "cells": [
  {
   "cell_type": "code",
   "execution_count": null,
   "id": "fa7ceaef-2034-406a-ae37-054aac7da387",
   "metadata": {},
   "outputs": [],
   "source": []
  },
  {
   "cell_type": "code",
   "execution_count": 1,
   "id": "essential-engine",
   "metadata": {
    "_cell_guid": "b1076dfc-b9ad-4769-8c92-a6c4dae69d19",
    "_uuid": "8f2839f25d086af736a60e9eeb907d3b93b6e0e5",
    "papermill": {
     "duration": 4.887774,
     "end_time": "2021-06-08T07:54:01.863897",
     "exception": false,
     "start_time": "2021-06-08T07:53:56.976123",
     "status": "completed"
    },
    "tags": []
   },
   "outputs": [],
   "source": [
    "import pandas as pd\n",
    "import numpy as np\n",
    "import xgboost as xgb\n",
    "import lightgbm as lgb\n",
    "import os, sys, gc, warnings, random, datetime\n",
    "from skopt import BayesSearchCV\n",
    "from sklearn.metrics import roc_auc_score, f1_score, precision_recall_curve, accuracy_score\n",
    "from sklearn.model_selection import StratifiedKFold , KFold\n",
    "from hyperopt import STATUS_OK, Trials, fmin, hp, tpe\n",
    "from sklearn.model_selection import train_test_split\n",
    "# SETTINGS - CHANGE THESE TO GET SOMETHING MEANINGFUL\n",
    "ITERATIONS = 10 # 1000\n",
    "# TRAINING_SIZE = 100000 # 20000000\n",
    "# TEST_SIZE = 25000\n",
    "\n"
   ]
  },
  {
   "cell_type": "code",
   "execution_count": 2,
   "id": "radio-sixth",
   "metadata": {
    "papermill": {
     "duration": 0.030833,
     "end_time": "2021-06-08T07:54:01.916855",
     "exception": false,
     "start_time": "2021-06-08T07:54:01.886022",
     "status": "completed"
    },
    "tags": []
   },
   "outputs": [],
   "source": [
    "def seed_everything(seed=0):\n",
    "    random.seed(seed)\n",
    "    os.environ['PYTHONHASHSEED'] = str(seed)\n",
    "    np.random.seed(seed)\n",
    "    \n",
    "SEED = 42\n",
    "seed_everything(SEED)"
   ]
  },
  {
   "cell_type": "code",
   "execution_count": null,
   "id": "5db3267f-a17b-4100-b57f-2c70b7af8852",
   "metadata": {},
   "outputs": [],
   "source": []
  },
  {
   "cell_type": "code",
   "execution_count": 3,
   "id": "56760344-8d88-4ca0-9e4b-3464997a5fe9",
   "metadata": {},
   "outputs": [],
   "source": [
    "path_read =\"/Users/a06411/Documents/data_hub/lending_club/lgb_selected.pkl\""
   ]
  },
  {
   "cell_type": "code",
   "execution_count": 4,
   "id": "f470d104-562c-48b0-92e2-d037443d8e66",
   "metadata": {},
   "outputs": [],
   "source": [
    "### Load Data\n",
    "df = pd.read_pickle(path_read)"
   ]
  },
  {
   "cell_type": "code",
   "execution_count": 5,
   "id": "golden-platform",
   "metadata": {
    "papermill": {
     "duration": 12.48169,
     "end_time": "2021-06-08T07:54:14.419904",
     "exception": false,
     "start_time": "2021-06-08T07:54:01.938214",
     "status": "completed"
    },
    "tags": []
   },
   "outputs": [],
   "source": [
    "\n",
    "X = df.drop('loan_status', axis=1)\n",
    "\n",
    "y = df['loan_status']\n",
    "\n",
    "X_train, X_test, y_train, y_test = train_test_split(X, y, test_size = 0.2, random_state = 2021)"
   ]
  },
  {
   "cell_type": "code",
   "execution_count": 6,
   "id": "aggregate-evidence",
   "metadata": {
    "papermill": {
     "duration": 0.455126,
     "end_time": "2021-06-08T07:54:14.896930",
     "exception": false,
     "start_time": "2021-06-08T07:54:14.441804",
     "status": "completed"
    },
    "tags": []
   },
   "outputs": [],
   "source": [
    "df['issue_d'] = pd.to_datetime(df['issue_d'])\n",
    "df['issue_year'] = df['issue_d'].dt.year"
   ]
  },
  {
   "cell_type": "code",
   "execution_count": 7,
   "id": "clinical-binding",
   "metadata": {
    "papermill": {
     "duration": 0.699402,
     "end_time": "2021-06-08T07:54:15.618692",
     "exception": false,
     "start_time": "2021-06-08T07:54:14.919290",
     "status": "completed"
    },
    "tags": []
   },
   "outputs": [],
   "source": [
    "train = df[df['issue_year'] != 2018]\n",
    "test = df[df['issue_year'] == 2018]"
   ]
  },
  {
   "cell_type": "code",
   "execution_count": 8,
   "id": "extraordinary-government",
   "metadata": {
    "papermill": {
     "duration": 0.030623,
     "end_time": "2021-06-08T07:54:15.671617",
     "exception": false,
     "start_time": "2021-06-08T07:54:15.640994",
     "status": "completed"
    },
    "tags": []
   },
   "outputs": [],
   "source": [
    "train.reset_index(drop=True, inplace=True)\n",
    "test.reset_index(drop=True, inplace=True)"
   ]
  },
  {
   "cell_type": "code",
   "execution_count": 9,
   "id": "unlimited-break",
   "metadata": {
    "papermill": {
     "duration": 0.031424,
     "end_time": "2021-06-08T07:54:15.725109",
     "exception": false,
     "start_time": "2021-06-08T07:54:15.693685",
     "status": "completed"
    },
    "tags": []
   },
   "outputs": [],
   "source": [
    "answer = test[['id','loan_status']]\n",
    "# test.drop('loan_status',1, inplace = True)"
   ]
  },
  {
   "cell_type": "code",
   "execution_count": 10,
   "id": "expected-testament",
   "metadata": {
    "papermill": {
     "duration": 0.894961,
     "end_time": "2021-06-08T07:54:16.641470",
     "exception": false,
     "start_time": "2021-06-08T07:54:15.746509",
     "status": "completed"
    },
    "tags": []
   },
   "outputs": [
    {
     "name": "stdout",
     "output_type": "stream",
     "text": [
      "(1314290, 63)\n",
      "(1314290,)\n"
     ]
    }
   ],
   "source": [
    "# Load Data with selected features\n",
    "X = train.copy()\n",
    "# Labels\n",
    "y = train['loan_status']\n",
    "\n",
    "# Remove Labels from Dataframe\n",
    "X.drop(['loan_status'], axis = 1, inplace = True)\n",
    "# Final Data Shapes\n",
    "print(X.shape)\n",
    "print(y.shape)"
   ]
  },
  {
   "cell_type": "code",
   "execution_count": 11,
   "id": "differential-delaware",
   "metadata": {
    "papermill": {
     "duration": 0.53231,
     "end_time": "2021-06-08T07:54:17.197268",
     "exception": false,
     "start_time": "2021-06-08T07:54:16.664958",
     "status": "completed"
    },
    "tags": []
   },
   "outputs": [],
   "source": [
    "ttrain = train[train['issue_year'] != 2017]\n",
    "ttest = train[train['issue_year'] == 2017]"
   ]
  },
  {
   "cell_type": "code",
   "execution_count": 12,
   "id": "accompanied-advocate",
   "metadata": {
    "papermill": {
     "duration": 0.912208,
     "end_time": "2021-06-08T07:54:18.131662",
     "exception": false,
     "start_time": "2021-06-08T07:54:17.219454",
     "status": "completed"
    },
    "tags": []
   },
   "outputs": [],
   "source": [
    "X_train = ttrain.copy()\n",
    "y_train = ttrain['loan_status']\n",
    "X_train.drop(['loan_status'], axis = 1, inplace = True)\n",
    "\n",
    "X_test = ttest.copy()\n",
    "y_test = ttest['loan_status']\n",
    "X_test.drop(['loan_status'], axis = 1, inplace = True)"
   ]
  },
  {
   "cell_type": "code",
   "execution_count": 13,
   "id": "supposed-cycling",
   "metadata": {
    "papermill": {
     "duration": 0.032066,
     "end_time": "2021-06-08T07:54:18.185769",
     "exception": false,
     "start_time": "2021-06-08T07:54:18.153703",
     "status": "completed"
    },
    "tags": []
   },
   "outputs": [],
   "source": [
    "remove_features = ['earliest_cr_line', 'issue_d', 'last_credit_pull_d', 'last_pymnt_d', 'next_pymnt_d',\n",
    "                  'initial_list_status','out_prncp','out_prncp_inv','total_pymnt','total_pymnt_inv','total_rec_prncp','total_rec_int','total_rec_late_fee',\n",
    "                   'recoveries','collection_recovery_fee','last_pymnt_amnt','last_fico_range_high','last_fico_range_low' , 'id', 'loan_status' , 'issue_year' ]\n",
    "features  = [col for col in list(train) if col not in remove_features]"
   ]
  },
  {
   "cell_type": "code",
   "execution_count": 14,
   "id": "connected-developer",
   "metadata": {
    "papermill": {
     "duration": 0.372485,
     "end_time": "2021-06-08T07:54:18.580410",
     "exception": false,
     "start_time": "2021-06-08T07:54:18.207925",
     "status": "completed"
    },
    "tags": []
   },
   "outputs": [],
   "source": [
    "X_train = X_train[features]\n",
    "X_test = X_test[features]"
   ]
  },
  {
   "cell_type": "code",
   "execution_count": 15,
   "id": "legal-little",
   "metadata": {
    "papermill": {
     "duration": 0.033369,
     "end_time": "2021-06-08T07:54:18.636166",
     "exception": false,
     "start_time": "2021-06-08T07:54:18.602797",
     "status": "completed"
    },
    "tags": []
   },
   "outputs": [],
   "source": [
    "space={'max_depth': hp.quniform(\"max_depth\", 6, 24, 3),\n",
    "        'gamma': hp.uniform ('gamma', 1,9),\n",
    "        'colsample_bytree' : hp.uniform('colsample_bytree', 0.5,1),\n",
    "       'subsample' : hp.uniform('subsample', 0.5,1) , \n",
    "        'min_child_weight' : hp.quniform('min_child_weight', 0, 10, 1),\n",
    "        'n_estimators': 5000,\n",
    "        'seed': 2021,\n",
    "       'learning_rate' :0.1\n",
    "    }"
   ]
  },
  {
   "cell_type": "code",
   "execution_count": 21,
   "id": "brazilian-breeding",
   "metadata": {
    "papermill": {
     "duration": 0.034282,
     "end_time": "2021-06-08T07:54:18.692349",
     "exception": false,
     "start_time": "2021-06-08T07:54:18.658067",
     "status": "completed"
    },
    "tags": []
   },
   "outputs": [],
   "source": [
    "def objective(space):\n",
    "    clf=xgb.XGBClassifier(\n",
    "        n_estimators =space['n_estimators'], \n",
    "        max_depth = int(space['max_depth']), \n",
    "        gamma = space['gamma'],\n",
    "        min_child_weight=int(space['min_child_weight']),\n",
    "        colsample_bytree=space['colsample_bytree'],\n",
    "        subsample=space['subsample'], )\n",
    "       ## tree_method = 'gpu_hist')  ## cpu 처리할때는 주석처리할 것\n",
    "    \n",
    "    evaluation = [( X_train, y_train), ( X_test, y_test)]\n",
    "    \n",
    "    clf.fit(X_train, y_train,\n",
    "            eval_set=evaluation, eval_metric=\"auc\",\n",
    "            early_stopping_rounds=40,verbose=False )\n",
    "    \n",
    "\n",
    "    pred = clf.predict(X_test)\n",
    "    auc = roc_auc_score(y_test, pred)\n",
    "    print (\"SCORE:\", auc)\n",
    "    return {'loss': -auc, 'status': STATUS_OK }"
   ]
  },
  {
   "cell_type": "code",
   "execution_count": null,
   "id": "0b5b77f3-a871-4b13-9839-3efc49c417b9",
   "metadata": {},
   "outputs": [],
   "source": []
  },
  {
   "cell_type": "markdown",
   "id": "77e4034b-c6f3-4b68-92ef-6f8965e7371e",
   "metadata": {},
   "source": [
    "## xgboost cpu 버전 처리 \n"
   ]
  },
  {
   "cell_type": "code",
   "execution_count": null,
   "id": "protecting-mapping",
   "metadata": {
    "papermill": {
     "duration": 353.029458,
     "end_time": "2021-06-08T08:00:11.743867",
     "exception": false,
     "start_time": "2021-06-08T07:54:18.714409",
     "status": "completed"
    },
    "tags": []
   },
   "outputs": [
    {
     "name": "stdout",
     "output_type": "stream",
     "text": [
      "  0%|                                    | 0/20 [00:00<?, ?trial/s, best loss=?]"
     ]
    }
   ],
   "source": [
    "trials = Trials()\n",
    "# Suppress warnings \n",
    "import warnings\n",
    "\n",
    "\n",
    "warnings.filterwarnings('ignore')\n",
    "best_hyperparams = fmin(fn = objective,\n",
    "                        space = space,\n",
    "                        algo = tpe.suggest,\n",
    "                        max_evals = 20,\n",
    "                        trials = trials)"
   ]
  },
  {
   "cell_type": "code",
   "execution_count": null,
   "id": "d859db4c-436f-4017-9d27-d65e09f4e78a",
   "metadata": {},
   "outputs": [],
   "source": []
  },
  {
   "cell_type": "code",
   "execution_count": null,
   "id": "ed7e0e6e-b8ef-4eac-abfb-8cec7918ffdd",
   "metadata": {},
   "outputs": [],
   "source": []
  },
  {
   "cell_type": "code",
   "execution_count": null,
   "id": "eleven-local",
   "metadata": {
    "papermill": {
     "duration": 0.082671,
     "end_time": "2021-06-08T08:00:11.898021",
     "exception": false,
     "start_time": "2021-06-08T08:00:11.815350",
     "status": "completed"
    },
    "tags": []
   },
   "outputs": [],
   "source": [
    "print(\"The best hyperparameters are : \",\"\\n\")\n",
    "print(best_hyperparams)"
   ]
  },
  {
   "cell_type": "code",
   "execution_count": null,
   "id": "suspected-ethics",
   "metadata": {
    "papermill": {
     "duration": 0.140838,
     "end_time": "2021-06-08T08:00:12.110368",
     "exception": false,
     "start_time": "2021-06-08T08:00:11.969530",
     "status": "completed"
    },
    "tags": []
   },
   "outputs": [],
   "source": [
    "y_train = train.pop('loan_status')\n",
    "y_test = test.pop('loan_status')\n",
    "train.reset_index(drop=True, inplace=True)\n",
    "test.reset_index(drop=True, inplace=True)\n",
    "y_train.reset_index(drop=True, inplace=True)\n",
    "y_test.reset_index(drop=True, inplace=True)"
   ]
  },
  {
   "cell_type": "code",
   "execution_count": null,
   "id": "39dd4ccb-8c8e-46c0-874f-03e5c399992d",
   "metadata": {},
   "outputs": [],
   "source": []
  },
  {
   "cell_type": "code",
   "execution_count": null,
   "id": "grave-software",
   "metadata": {
    "papermill": {
     "duration": 0.152738,
     "end_time": "2021-06-08T08:00:12.368234",
     "exception": false,
     "start_time": "2021-06-08T08:00:12.215496",
     "status": "completed"
    },
    "tags": []
   },
   "outputs": [],
   "source": [
    "# remove_features = ['id','loan_status']\n",
    "features = [col for col in list(train) if col not in remove_features]"
   ]
  },
  {
   "cell_type": "code",
   "execution_count": null,
   "id": "specialized-memorabilia",
   "metadata": {
    "papermill": {
     "duration": 0.144591,
     "end_time": "2021-06-08T08:00:12.634794",
     "exception": false,
     "start_time": "2021-06-08T08:00:12.490203",
     "status": "completed"
    },
    "tags": []
   },
   "outputs": [],
   "source": [
    "def make_xgb_prediction(train, y, test, features, model_params=None, folds=5):\n",
    "    \n",
    "    skf = KFold(n_splits=folds, random_state=SEED, shuffle=True)\n",
    "    \n",
    "    x_train = train[features]\n",
    "    x_test = test[features]\n",
    "\n",
    "    y_preds = np.zeros(x_test.shape[0])\n",
    "    y_oof = np.zeros(x_train.shape[0])\n",
    "    score = 0\n",
    "\n",
    "    feature_importance = pd.DataFrame()\n",
    "    feature_importance['feature'] = features\n",
    "\n",
    "    for fold, (tr_idx, val_idx) in enumerate(skf.split(x_train, y)):\n",
    "        print(f'Fold: {fold+1}')\n",
    "\n",
    "        x_tr, x_val = x_train.loc[tr_idx, features], x_train.loc[val_idx, features]\n",
    "        y_tr, y_val = y[tr_idx], y[val_idx]\n",
    "\n",
    "        print(x_tr.shape, x_val.shape)\n",
    "\n",
    "        dtrain = xgb.DMatrix(x_tr, label=y_tr)\n",
    "        dvalid = xgb.DMatrix(x_val, label=y_val)\n",
    "\n",
    "        clf = xgb.train(\n",
    "            model_params,\n",
    "            dtrain,\n",
    "            num_boost_round=10000, \n",
    "            evals=[(dtrain, 'train'), (dvalid, 'valid')],\n",
    "            verbose_eval=50,\n",
    "            early_stopping_rounds=100\n",
    "\n",
    "        )\n",
    "\n",
    "#         feature_importance[f'fold_{fold+1}'] = clf.get_score()\n",
    "\n",
    "        y_pred_val = clf.predict(dvalid)\n",
    "\n",
    "        y_oof[val_idx] = y_pred_val\n",
    "        print(f\"Fold {fold + 1} | AUC Score: {roc_auc_score(y_val, y_pred_val)}\")\n",
    "\n",
    "        score += roc_auc_score(y_val, y_pred_val) / folds\n",
    "        y_preds += clf.predict(xgb.DMatrix(x_test)) / folds\n",
    "\n",
    "        del x_tr, x_val, y_tr, y_val\n",
    "        gc.collect()\n",
    "\n",
    "    print(f\"\\nMean AUC score = {score}\")\n",
    "    print(f\"OOF AUC score = {roc_auc_score(y, y_oof)}\")\n",
    "    \n",
    "    return y_oof, y_preds, feature_importance"
   ]
  },
  {
   "cell_type": "code",
   "execution_count": null,
   "id": "affected-affiliate",
   "metadata": {
    "papermill": {
     "duration": 0.109975,
     "end_time": "2021-06-08T08:00:12.865913",
     "exception": false,
     "start_time": "2021-06-08T08:00:12.755938",
     "status": "completed"
    },
    "tags": []
   },
   "outputs": [],
   "source": [
    "# # xgb model params\n",
    "# xgb_params = {\n",
    "#     'objective': 'binary:logistic',\n",
    "#     'learning_rate': 0.1,\n",
    "#     'max_depth': 9,\n",
    "#     'colsample_bytree': 0.8,\n",
    "#      'subsample': 0.8,\n",
    "#     'eval_metric': 'auc',\n",
    "#     'seed': SEED,\n",
    "\n",
    "#     'min_child_weight' : 3,\n",
    "#      'tree_method' : 'gpu_hist' \n",
    "\n",
    "# } "
   ]
  },
  {
   "cell_type": "code",
   "execution_count": null,
   "id": "toxic-attendance",
   "metadata": {
    "papermill": {
     "duration": 0.079102,
     "end_time": "2021-06-08T08:00:13.015330",
     "exception": false,
     "start_time": "2021-06-08T08:00:12.936228",
     "status": "completed"
    },
    "tags": []
   },
   "outputs": [],
   "source": [
    "# xgb model params\n",
    "xgb_params = {\n",
    "    'objective': 'binary:logistic',\n",
    "    'learning_rate': 0.1,\n",
    "    'max_depth': int(best_hyperparams['max_depth']),\n",
    "    'colsample_bytree': best_hyperparams['colsample_bytree'],\n",
    "     'subsample': best_hyperparams['subsample'],\n",
    "    'eval_metric': 'auc',\n",
    "    'seed': SEED,\n",
    "    'gamma' : best_hyperparams['gamma'],\n",
    "    'min_child_weight' : int(best_hyperparams['min_child_weight']) ,\n",
    "    ##'tree_method' : 'gpu_hist' \n",
    "\n",
    "} "
   ]
  },
  {
   "cell_type": "code",
   "execution_count": null,
   "id": "automated-bikini",
   "metadata": {
    "papermill": {
     "duration": 596.356772,
     "end_time": "2021-06-08T08:10:09.442675",
     "exception": false,
     "start_time": "2021-06-08T08:00:13.085903",
     "status": "completed"
    },
    "tags": []
   },
   "outputs": [],
   "source": [
    "y_oof_xgb, y_preds_xgb, fi_xgb = make_xgb_prediction(train, y_train, test, features, \\\n",
    "                                                     model_params=xgb_params)"
   ]
  },
  {
   "cell_type": "code",
   "execution_count": null,
   "id": "sustainable-grenada",
   "metadata": {
    "papermill": {
     "duration": 0.113799,
     "end_time": "2021-06-08T08:10:09.642190",
     "exception": false,
     "start_time": "2021-06-08T08:10:09.528391",
     "status": "completed"
    },
    "tags": []
   },
   "outputs": [],
   "source": [
    "print(f\"TEST AUC score = {roc_auc_score(answer['loan_status'], y_preds_xgb)}\")\n"
   ]
  },
  {
   "cell_type": "code",
   "execution_count": null,
   "id": "3c10df5e-7028-4408-86eb-0165a0f60576",
   "metadata": {},
   "outputs": [],
   "source": []
  }
 ],
 "metadata": {
  "kernelspec": {
   "display_name": "Python 3 (ipykernel)",
   "language": "python",
   "name": "python3"
  },
  "language_info": {
   "codemirror_mode": {
    "name": "ipython",
    "version": 3
   },
   "file_extension": ".py",
   "mimetype": "text/x-python",
   "name": "python",
   "nbconvert_exporter": "python",
   "pygments_lexer": "ipython3",
   "version": "3.9.16"
  },
  "papermill": {
   "default_parameters": {},
   "duration": 983.165074,
   "end_time": "2021-06-08T08:10:12.021199",
   "environment_variables": {},
   "exception": null,
   "input_path": "__notebook__.ipynb",
   "output_path": "__notebook__.ipynb",
   "parameters": {},
   "start_time": "2021-06-08T07:53:48.856125",
   "version": "2.3.3"
  }
 },
 "nbformat": 4,
 "nbformat_minor": 5
}
