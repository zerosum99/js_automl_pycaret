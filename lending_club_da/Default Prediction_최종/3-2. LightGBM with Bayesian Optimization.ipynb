{
 "cells": [
  {
   "cell_type": "code",
   "execution_count": 6,
   "id": "611d3699",
   "metadata": {
    "ExecuteTime": {
     "end_time": "2021-06-15T01:09:29.292003Z",
     "start_time": "2021-06-15T01:09:26.531928Z"
    }
   },
   "outputs": [
    {
     "name": "stdout",
     "output_type": "stream",
     "text": [
      "Collecting bayesian-optimization\n",
      "  Downloading bayesian-optimization-1.2.0.tar.gz (14 kB)\n",
      "Requirement already satisfied: numpy>=1.9.0 in /opt/conda/lib/python3.7/site-packages (from bayesian-optimization) (1.20.2)\n",
      "Requirement already satisfied: scipy>=0.14.0 in /opt/conda/lib/python3.7/site-packages (from bayesian-optimization) (1.4.1)\n",
      "Requirement already satisfied: scikit-learn>=0.18.0 in /opt/conda/lib/python3.7/site-packages (from bayesian-optimization) (0.24.2)\n",
      "Requirement already satisfied: joblib>=0.11 in /opt/conda/lib/python3.7/site-packages (from scikit-learn>=0.18.0->bayesian-optimization) (1.0.1)\n",
      "Requirement already satisfied: threadpoolctl>=2.0.0 in /opt/conda/lib/python3.7/site-packages (from scikit-learn>=0.18.0->bayesian-optimization) (2.1.0)\n",
      "Building wheels for collected packages: bayesian-optimization\n",
      "  Building wheel for bayesian-optimization (setup.py) ... \u001b[?25ldone\n",
      "\u001b[?25h  Created wheel for bayesian-optimization: filename=bayesian_optimization-1.2.0-py3-none-any.whl size=11685 sha256=9ce4dcb9d96e21662e6bbcc262a95298c60a107b182f3f49434400ef9c2627ad\n",
      "  Stored in directory: /home/notebook/.cache/pip/wheels/fd/9b/71/f127d694e02eb40bcf18c7ae9613b88a6be4470f57a8528c5b\n",
      "Successfully built bayesian-optimization\n",
      "Installing collected packages: bayesian-optimization\n",
      "Successfully installed bayesian-optimization-1.2.0\n",
      "Note: you may need to restart the kernel to use updated packages.\n"
     ]
    }
   ],
   "source": [
    "pip install bayesian-optimization"
   ]
  },
  {
   "cell_type": "code",
   "execution_count": 4,
   "id": "8ca1c294",
   "metadata": {
    "ExecuteTime": {
     "end_time": "2021-06-15T01:08:59.609211Z",
     "start_time": "2021-06-15T01:08:56.966939Z"
    }
   },
   "outputs": [
    {
     "name": "stdout",
     "output_type": "stream",
     "text": [
      "Collecting seaborn\n",
      "  Downloading seaborn-0.11.1-py3-none-any.whl (285 kB)\n",
      "\u001b[K     |████████████████████████████████| 285 kB 2.3 MB/s eta 0:00:01\n",
      "\u001b[?25hRequirement already satisfied: pandas>=0.23 in /opt/conda/lib/python3.7/site-packages (from seaborn) (1.2.4)\n",
      "Requirement already satisfied: matplotlib>=2.2 in /opt/conda/lib/python3.7/site-packages (from seaborn) (3.4.1)\n",
      "Requirement already satisfied: numpy>=1.15 in /opt/conda/lib/python3.7/site-packages (from seaborn) (1.20.2)\n",
      "Requirement already satisfied: scipy>=1.0 in /opt/conda/lib/python3.7/site-packages (from seaborn) (1.4.1)\n",
      "Requirement already satisfied: kiwisolver>=1.0.1 in /opt/conda/lib/python3.7/site-packages (from matplotlib>=2.2->seaborn) (1.3.1)\n",
      "Requirement already satisfied: cycler>=0.10 in /opt/conda/lib/python3.7/site-packages (from matplotlib>=2.2->seaborn) (0.10.0)\n",
      "Requirement already satisfied: python-dateutil>=2.7 in /opt/conda/lib/python3.7/site-packages (from matplotlib>=2.2->seaborn) (2.8.1)\n",
      "Requirement already satisfied: pillow>=6.2.0 in /opt/conda/lib/python3.7/site-packages (from matplotlib>=2.2->seaborn) (8.2.0)\n",
      "Requirement already satisfied: pyparsing>=2.2.1 in /opt/conda/lib/python3.7/site-packages (from matplotlib>=2.2->seaborn) (2.4.7)\n",
      "Requirement already satisfied: six in /opt/conda/lib/python3.7/site-packages (from cycler>=0.10->matplotlib>=2.2->seaborn) (1.15.0)\n",
      "Requirement already satisfied: pytz>=2017.3 in /opt/conda/lib/python3.7/site-packages (from pandas>=0.23->seaborn) (2021.1)\n",
      "Installing collected packages: seaborn\n",
      "Successfully installed seaborn-0.11.1\n",
      "Note: you may need to restart the kernel to use updated packages.\n"
     ]
    }
   ],
   "source": [
    "pip install seaborn"
   ]
  },
  {
   "cell_type": "code",
   "execution_count": 7,
   "id": "64ae0b49",
   "metadata": {
    "ExecuteTime": {
     "end_time": "2021-06-15T01:09:31.781891Z",
     "start_time": "2021-06-15T01:09:31.767089Z"
    },
    "_cell_guid": "b1076dfc-b9ad-4769-8c92-a6c4dae69d19",
    "_uuid": "8f2839f25d086af736a60e9eeb907d3b93b6e0e5",
    "execution": {
     "iopub.execute_input": "2021-06-08T04:23:07.452223Z",
     "iopub.status.busy": "2021-06-08T04:23:07.451406Z",
     "iopub.status.idle": "2021-06-08T04:23:09.765751Z",
     "shell.execute_reply": "2021-06-08T04:23:09.765235Z",
     "shell.execute_reply.started": "2021-06-08T02:21:50.919757Z"
    },
    "papermill": {
     "duration": 2.333801,
     "end_time": "2021-06-08T04:23:09.765881",
     "exception": false,
     "start_time": "2021-06-08T04:23:07.432080",
     "status": "completed"
    },
    "tags": []
   },
   "outputs": [],
   "source": [
    "# Suppress warnings \n",
    "import warnings\n",
    "warnings.filterwarnings('ignore')\n",
    "\n",
    "import os, sys, gc, warnings, random, datetime\n",
    "\n",
    "import pandas as pd\n",
    "import numpy as np\n",
    "\n",
    "from sklearn.preprocessing import LabelEncoder\n",
    "from sklearn.metrics import roc_auc_score, f1_score, precision_recall_curve, accuracy_score\n",
    "from sklearn.model_selection import KFold, StratifiedKFold\n",
    "\n",
    "import lightgbm as lgb\n",
    "\n",
    "from matplotlib import pyplot as plt\n",
    "import seaborn as sns\n",
    "\n",
    "from IPython.display import display\n",
    "from bayes_opt import BayesianOptimization\n",
    "\n",
    "\n",
    "\n",
    "from sklearn import metrics\n",
    "from sklearn.model_selection import train_test_split\n",
    "\n",
    "\n",
    "pd.set_option('display.max_columns', 200)\n",
    "\n",
    "# pd.options.display.max_rows = 10000\n",
    "# pd.options.display.max_columns = 1000\n",
    "# pd.options.display.max_colwidth = 1000"
   ]
  },
  {
   "cell_type": "code",
   "execution_count": 8,
   "id": "0736c266",
   "metadata": {
    "ExecuteTime": {
     "end_time": "2021-06-15T01:09:32.639749Z",
     "start_time": "2021-06-15T01:09:32.636730Z"
    },
    "execution": {
     "iopub.execute_input": "2021-06-08T04:23:09.804256Z",
     "iopub.status.busy": "2021-06-08T04:23:09.803765Z",
     "iopub.status.idle": "2021-06-08T04:23:09.806650Z",
     "shell.execute_reply": "2021-06-08T04:23:09.807010Z",
     "shell.execute_reply.started": "2021-06-08T02:21:53.518977Z"
    },
    "papermill": {
     "duration": 0.024036,
     "end_time": "2021-06-08T04:23:09.807144",
     "exception": false,
     "start_time": "2021-06-08T04:23:09.783108",
     "status": "completed"
    },
    "tags": []
   },
   "outputs": [],
   "source": [
    "def seed_everything(seed=0):\n",
    "    random.seed(seed)\n",
    "    os.environ['PYTHONHASHSEED'] = str(seed)\n",
    "    np.random.seed(seed)\n",
    "    \n",
    "SEED = 42\n",
    "seed_everything(SEED)"
   ]
  },
  {
   "cell_type": "code",
   "execution_count": 10,
   "id": "ccef6761",
   "metadata": {
    "ExecuteTime": {
     "end_time": "2021-06-15T01:10:40.753986Z",
     "start_time": "2021-06-15T01:10:39.253083Z"
    },
    "execution": {
     "iopub.execute_input": "2021-06-08T04:23:09.843545Z",
     "iopub.status.busy": "2021-06-08T04:23:09.843044Z",
     "iopub.status.idle": "2021-06-08T04:23:20.529624Z",
     "shell.execute_reply": "2021-06-08T04:23:20.529195Z",
     "shell.execute_reply.started": "2021-06-08T02:21:53.526787Z"
    },
    "papermill": {
     "duration": 10.706152,
     "end_time": "2021-06-08T04:23:20.529736",
     "exception": false,
     "start_time": "2021-06-08T04:23:09.823584",
     "status": "completed"
    },
    "tags": []
   },
   "outputs": [],
   "source": [
    "### Load Data\n",
    "df = pd.read_pickle('/home/work/toy-project/data/df_preprocessesd.pkl')\n"
   ]
  },
  {
   "cell_type": "code",
   "execution_count": 11,
   "id": "5b497cd3",
   "metadata": {
    "ExecuteTime": {
     "end_time": "2021-06-15T01:10:52.524385Z",
     "start_time": "2021-06-15T01:10:52.152956Z"
    },
    "execution": {
     "iopub.execute_input": "2021-06-08T04:23:20.595286Z",
     "iopub.status.busy": "2021-06-08T04:23:20.577608Z",
     "iopub.status.idle": "2021-06-08T04:23:20.862839Z",
     "shell.execute_reply": "2021-06-08T04:23:20.862247Z",
     "shell.execute_reply.started": "2021-06-08T02:22:05.411233Z"
    },
    "papermill": {
     "duration": 0.316806,
     "end_time": "2021-06-08T04:23:20.862988",
     "exception": false,
     "start_time": "2021-06-08T04:23:20.546182",
     "status": "completed"
    },
    "tags": []
   },
   "outputs": [],
   "source": [
    "df['issue_d'] = pd.to_datetime(df['issue_d'])\n",
    "df['issue_year'] = df['issue_d'].dt.year\n",
    "df.loc[df['issue_year'] == 2007 , 'issue_year'] = 201200\n",
    "df.loc[df['issue_year'] == 2008 , 'issue_year'] = 201200\n",
    "df.loc[df['issue_year'] == 2009 , 'issue_year'] = 201200\n",
    "df.loc[df['issue_year'] == 2010 , 'issue_year'] = 201200\n",
    "df.loc[df['issue_year'] == 2011 , 'issue_year'] = 201200\n",
    "df.loc[df['issue_year'] == 2012 , 'issue_year'] = 201200\n"
   ]
  },
  {
   "cell_type": "code",
   "execution_count": 12,
   "id": "a625cb61",
   "metadata": {
    "ExecuteTime": {
     "end_time": "2021-06-15T01:10:53.701620Z",
     "start_time": "2021-06-15T01:10:53.156705Z"
    },
    "execution": {
     "iopub.execute_input": "2021-06-08T04:23:20.917309Z",
     "iopub.status.busy": "2021-06-08T04:23:20.916632Z",
     "iopub.status.idle": "2021-06-08T04:23:21.542769Z",
     "shell.execute_reply": "2021-06-08T04:23:21.542217Z",
     "shell.execute_reply.started": "2021-06-08T02:22:05.908255Z"
    },
    "papermill": {
     "duration": 0.654661,
     "end_time": "2021-06-08T04:23:21.542909",
     "exception": false,
     "start_time": "2021-06-08T04:23:20.888248",
     "status": "completed"
    },
    "tags": []
   },
   "outputs": [],
   "source": [
    "train = df[df['issue_year'] != 2018]\n",
    "test = df[df['issue_year'] == 2018]"
   ]
  },
  {
   "cell_type": "code",
   "execution_count": 13,
   "id": "735d6f8b",
   "metadata": {
    "ExecuteTime": {
     "end_time": "2021-06-15T01:10:54.331586Z",
     "start_time": "2021-06-15T01:10:54.327784Z"
    },
    "execution": {
     "iopub.execute_input": "2021-06-08T04:23:21.598574Z",
     "iopub.status.busy": "2021-06-08T04:23:21.598033Z",
     "iopub.status.idle": "2021-06-08T04:23:21.603381Z",
     "shell.execute_reply": "2021-06-08T04:23:21.602748Z",
     "shell.execute_reply.started": "2021-06-08T02:22:06.670662Z"
    },
    "papermill": {
     "duration": 0.035307,
     "end_time": "2021-06-08T04:23:21.603515",
     "exception": false,
     "start_time": "2021-06-08T04:23:21.568208",
     "status": "completed"
    },
    "tags": []
   },
   "outputs": [],
   "source": [
    "answer = test[['id','loan_status']]\n",
    "# test.drop('loan_status',1, inplace = True)"
   ]
  },
  {
   "cell_type": "code",
   "execution_count": 14,
   "id": "3de3e5e4",
   "metadata": {
    "ExecuteTime": {
     "end_time": "2021-06-15T01:10:55.719774Z",
     "start_time": "2021-06-15T01:10:55.003070Z"
    },
    "execution": {
     "iopub.execute_input": "2021-06-08T04:23:21.641406Z",
     "iopub.status.busy": "2021-06-08T04:23:21.640862Z",
     "iopub.status.idle": "2021-06-08T04:23:22.047725Z",
     "shell.execute_reply": "2021-06-08T04:23:22.047276Z",
     "shell.execute_reply.started": "2021-06-08T02:22:06.693899Z"
    },
    "papermill": {
     "duration": 0.427603,
     "end_time": "2021-06-08T04:23:22.047840",
     "exception": false,
     "start_time": "2021-06-08T04:23:21.620237",
     "status": "completed"
    },
    "tags": []
   },
   "outputs": [
    {
     "name": "stdout",
     "output_type": "stream",
     "text": [
      "(1314290, 104)\n",
      "(1314290,)\n"
     ]
    }
   ],
   "source": [
    "# Load Data with selected features\n",
    "X = train.copy()\n",
    "# Labels\n",
    "y = train['loan_status']\n",
    "\n",
    "# Remove Labels from Dataframe\n",
    "X.drop(['loan_status'], axis = 1, inplace = True)\n",
    "# Final Data Shapes\n",
    "print(X.shape)\n",
    "print(y.shape)"
   ]
  },
  {
   "cell_type": "code",
   "execution_count": 15,
   "id": "f01c5c37",
   "metadata": {
    "ExecuteTime": {
     "end_time": "2021-06-15T01:11:49.567069Z",
     "start_time": "2021-06-15T01:11:49.152437Z"
    },
    "execution": {
     "iopub.execute_input": "2021-06-08T04:23:22.086021Z",
     "iopub.status.busy": "2021-06-08T04:23:22.085581Z",
     "iopub.status.idle": "2021-06-08T04:23:22.633641Z",
     "shell.execute_reply": "2021-06-08T04:23:22.634012Z",
     "shell.execute_reply.started": "2021-06-08T02:22:07.686026Z"
    },
    "papermill": {
     "duration": 0.569392,
     "end_time": "2021-06-08T04:23:22.634149",
     "exception": false,
     "start_time": "2021-06-08T04:23:22.064757",
     "status": "completed"
    },
    "tags": []
   },
   "outputs": [],
   "source": [
    "ttrain = train[train['issue_year'] != 2017]\n",
    "ttest = train[train['issue_year'] == 2017]"
   ]
  },
  {
   "cell_type": "code",
   "execution_count": 16,
   "id": "744567e0",
   "metadata": {
    "ExecuteTime": {
     "end_time": "2021-06-15T01:11:50.770291Z",
     "start_time": "2021-06-15T01:11:50.037598Z"
    },
    "execution": {
     "iopub.execute_input": "2021-06-08T04:23:22.673103Z",
     "iopub.status.busy": "2021-06-08T04:23:22.672665Z",
     "iopub.status.idle": "2021-06-08T04:23:23.096708Z",
     "shell.execute_reply": "2021-06-08T04:23:23.096183Z",
     "shell.execute_reply.started": "2021-06-08T02:22:08.178823Z"
    },
    "papermill": {
     "duration": 0.445915,
     "end_time": "2021-06-08T04:23:23.096817",
     "exception": false,
     "start_time": "2021-06-08T04:23:22.650902",
     "status": "completed"
    },
    "tags": []
   },
   "outputs": [],
   "source": [
    "X_train = ttrain.copy()\n",
    "y_train = ttrain['loan_status']\n",
    "X_train.drop(['loan_status'], axis = 1, inplace = True)\n",
    "\n",
    "X_test = ttest.copy()\n",
    "y_test = ttest['loan_status']\n",
    "X_test.drop(['loan_status'], axis = 1, inplace = True)"
   ]
  },
  {
   "cell_type": "code",
   "execution_count": 17,
   "id": "47b3ee12",
   "metadata": {
    "ExecuteTime": {
     "end_time": "2021-06-15T01:11:51.346476Z",
     "start_time": "2021-06-15T01:11:51.343401Z"
    },
    "execution": {
     "iopub.execute_input": "2021-06-08T04:23:23.137125Z",
     "iopub.status.busy": "2021-06-08T04:23:23.136643Z",
     "iopub.status.idle": "2021-06-08T04:23:23.139679Z",
     "shell.execute_reply": "2021-06-08T04:23:23.139215Z",
     "shell.execute_reply.started": "2021-06-08T02:22:09.144953Z"
    },
    "papermill": {
     "duration": 0.026022,
     "end_time": "2021-06-08T04:23:23.139789",
     "exception": false,
     "start_time": "2021-06-08T04:23:23.113767",
     "status": "completed"
    },
    "tags": []
   },
   "outputs": [],
   "source": [
    "remove_features = ['earliest_cr_line', 'issue_d', 'last_credit_pull_d', 'last_pymnt_d', 'next_pymnt_d',\n",
    "                  'initial_list_status','out_prncp','out_prncp_inv','total_pymnt','total_pymnt_inv','total_rec_prncp','total_rec_int','total_rec_late_fee',\n",
    "                   'recoveries','collection_recovery_fee','last_pymnt_amnt','last_fico_range_high','last_fico_range_low' , 'id', 'loan_status' , 'issue_year']\n",
    "features  = [col for col in list(train) if col not in remove_features]"
   ]
  },
  {
   "cell_type": "code",
   "execution_count": 18,
   "id": "96861469",
   "metadata": {
    "ExecuteTime": {
     "end_time": "2021-06-15T01:11:52.246906Z",
     "start_time": "2021-06-15T01:11:51.972180Z"
    },
    "execution": {
     "iopub.execute_input": "2021-06-08T04:23:23.309238Z",
     "iopub.status.busy": "2021-06-08T04:23:23.279691Z",
     "iopub.status.idle": "2021-06-08T04:23:23.335072Z",
     "shell.execute_reply": "2021-06-08T04:23:23.335664Z",
     "shell.execute_reply.started": "2021-06-08T02:22:09.152709Z"
    },
    "papermill": {
     "duration": 0.178661,
     "end_time": "2021-06-08T04:23:23.335852",
     "exception": false,
     "start_time": "2021-06-08T04:23:23.157191",
     "status": "completed"
    },
    "tags": []
   },
   "outputs": [],
   "source": [
    "X_train = X_train[features]\n",
    "X_test = X_test[features]"
   ]
  },
  {
   "cell_type": "markdown",
   "id": "6f106826",
   "metadata": {
    "papermill": {
     "duration": 0.016186,
     "end_time": "2021-06-08T04:23:23.375502",
     "exception": false,
     "start_time": "2021-06-08T04:23:23.359316",
     "status": "completed"
    },
    "tags": []
   },
   "source": [
    "## Bayesian Optimization"
   ]
  },
  {
   "cell_type": "code",
   "execution_count": 19,
   "id": "74cd0a68",
   "metadata": {
    "ExecuteTime": {
     "end_time": "2021-06-15T01:11:53.264744Z",
     "start_time": "2021-06-15T01:11:53.262180Z"
    },
    "execution": {
     "iopub.execute_input": "2021-06-08T04:23:23.414411Z",
     "iopub.status.busy": "2021-06-08T04:23:23.413930Z",
     "iopub.status.idle": "2021-06-08T04:23:23.417397Z",
     "shell.execute_reply": "2021-06-08T04:23:23.416895Z",
     "shell.execute_reply.started": "2021-06-08T02:22:09.468560Z"
    },
    "papermill": {
     "duration": 0.025644,
     "end_time": "2021-06-08T04:23:23.417530",
     "exception": false,
     "start_time": "2021-06-08T04:23:23.391886",
     "status": "completed"
    },
    "tags": []
   },
   "outputs": [],
   "source": [
    "bounds = {\n",
    "    'num_leaves': (50, 70), \n",
    "    'subsample' : (0.5, 1),\n",
    "    'colsample_bytree' : (0.5, 1),\n",
    "    'max_bin' : (49, 69) }"
   ]
  },
  {
   "cell_type": "code",
   "execution_count": 20,
   "id": "d0e20301",
   "metadata": {
    "ExecuteTime": {
     "end_time": "2021-06-15T01:11:53.987118Z",
     "start_time": "2021-06-15T01:11:53.982872Z"
    },
    "execution": {
     "iopub.execute_input": "2021-06-08T04:23:23.460003Z",
     "iopub.status.busy": "2021-06-08T04:23:23.459242Z",
     "iopub.status.idle": "2021-06-08T04:23:23.463577Z",
     "shell.execute_reply": "2021-06-08T04:23:23.463132Z",
     "shell.execute_reply.started": "2021-06-08T02:22:09.475708Z"
    },
    "papermill": {
     "duration": 0.029375,
     "end_time": "2021-06-08T04:23:23.463696",
     "exception": false,
     "start_time": "2021-06-08T04:23:23.434321",
     "status": "completed"
    },
    "tags": []
   },
   "outputs": [],
   "source": [
    "def train_model( num_leaves, colsample_bytree, subsample , max_bin):\n",
    "    \n",
    "    params = {\n",
    "                    'objective':'binary',\n",
    "                    'boosting_type':'gbdt',\n",
    "                    'metric':'auc',\n",
    "                    'n_jobs':-1,\n",
    "                    'learning_rate':0.05,\n",
    "                    'num_leaves': int(num_leaves), \n",
    "                    'max_depth':-1,\n",
    "                    'tree_learner':'serial',\n",
    "                    'colsample_bytree' : colsample_bytree,\n",
    "                    'subsample_freq':1,\n",
    "                    'subsample' : subsample,\n",
    "                    'n_estimators':10000,\n",
    "                    'max_bin':int(max_bin),\n",
    "                    'verbose':-1,\n",
    "                    'seed': SEED,\n",
    "                    'early_stopping_rounds':50, \n",
    "        \n",
    "          }\n",
    "    \n",
    "    trn_data = lgb.Dataset(X_train, y_train)\n",
    "    val_data = lgb.Dataset(X_test, y_test)\n",
    "    model = lgb.train(params, trn_data, 5000, valid_sets = [trn_data, val_data], verbose_eval=0, early_stopping_rounds=50)\n",
    "    # Returning negative rmse because optimizer tries to maximize a function\n",
    "    return model.best_score['valid_1']['auc']"
   ]
  },
  {
   "cell_type": "code",
   "execution_count": null,
   "id": "e2043637",
   "metadata": {
    "ExecuteTime": {
     "start_time": "2021-06-15T01:12:02.316Z"
    },
    "execution": {
     "iopub.execute_input": "2021-06-08T04:23:23.502166Z",
     "iopub.status.busy": "2021-06-08T04:23:23.501724Z",
     "iopub.status.idle": "2021-06-08T05:40:19.743386Z",
     "shell.execute_reply": "2021-06-08T05:40:19.743940Z",
     "shell.execute_reply.started": "2021-06-08T02:22:09.493675Z"
    },
    "papermill": {
     "duration": 4616.263433,
     "end_time": "2021-06-08T05:40:19.744266",
     "exception": false,
     "start_time": "2021-06-08T04:23:23.480833",
     "status": "completed"
    },
    "tags": []
   },
   "outputs": [
    {
     "name": "stdout",
     "output_type": "stream",
     "text": [
      "|   iter    |  target   | colsam... |  max_bin  | num_le... | subsample |\n",
      "-------------------------------------------------------------------------\n",
      "| \u001b[0m 1       \u001b[0m | \u001b[0m 0.7508  \u001b[0m | \u001b[0m 0.803   \u001b[0m | \u001b[0m 63.67   \u001b[0m | \u001b[0m 52.78   \u001b[0m | \u001b[0m 0.6563  \u001b[0m |\n",
      "| \u001b[0m 2       \u001b[0m | \u001b[0m 0.7503  \u001b[0m | \u001b[0m 0.9986  \u001b[0m | \u001b[0m 51.56   \u001b[0m | \u001b[0m 53.58   \u001b[0m | \u001b[0m 0.8765  \u001b[0m |\n",
      "| \u001b[0m 3       \u001b[0m | \u001b[0m 0.75    \u001b[0m | \u001b[0m 0.8311  \u001b[0m | \u001b[0m 64.69   \u001b[0m | \u001b[0m 51.94   \u001b[0m | \u001b[0m 0.5293  \u001b[0m |\n",
      "| \u001b[0m 4       \u001b[0m | \u001b[0m 0.7506  \u001b[0m | \u001b[0m 0.9812  \u001b[0m | \u001b[0m 61.33   \u001b[0m | \u001b[0m 51.73   \u001b[0m | \u001b[0m 0.7806  \u001b[0m |\n",
      "| \u001b[0m 5       \u001b[0m | \u001b[0m 0.7506  \u001b[0m | \u001b[0m 0.8083  \u001b[0m | \u001b[0m 68.28   \u001b[0m | \u001b[0m 61.49   \u001b[0m | \u001b[0m 0.6856  \u001b[0m |\n",
      "| \u001b[0m 6       \u001b[0m | \u001b[0m 0.7504  \u001b[0m | \u001b[0m 0.7261  \u001b[0m | \u001b[0m 53.04   \u001b[0m | \u001b[0m 61.39   \u001b[0m | \u001b[0m 0.5975  \u001b[0m |\n",
      "| \u001b[0m 7       \u001b[0m | \u001b[0m 0.75    \u001b[0m | \u001b[0m 0.7919  \u001b[0m | \u001b[0m 58.53   \u001b[0m | \u001b[0m 60.36   \u001b[0m | \u001b[0m 0.9115  \u001b[0m |\n",
      "| \u001b[0m 8       \u001b[0m | \u001b[0m 0.7504  \u001b[0m | \u001b[0m 0.8661  \u001b[0m | \u001b[0m 50.38   \u001b[0m | \u001b[0m 63.44   \u001b[0m | \u001b[0m 0.8217  \u001b[0m |\n"
     ]
    }
   ],
   "source": [
    "optimizer = BayesianOptimization(f=train_model, pbounds=bounds, random_state=2021)\n",
    "\n",
    "\n",
    "optimizer.maximize(init_points=10, n_iter=10)"
   ]
  },
  {
   "cell_type": "code",
   "execution_count": null,
   "id": "0cea044e",
   "metadata": {
    "ExecuteTime": {
     "start_time": "2021-06-15T01:13:01.687Z"
    },
    "execution": {
     "iopub.execute_input": "2021-06-08T05:40:19.815855Z",
     "iopub.status.busy": "2021-06-08T05:40:19.815244Z",
     "iopub.status.idle": "2021-06-08T05:40:19.818059Z",
     "shell.execute_reply": "2021-06-08T05:40:19.818539Z",
     "shell.execute_reply.started": "2021-06-08T03:35:05.520091Z"
    },
    "papermill": {
     "duration": 0.04174,
     "end_time": "2021-06-08T05:40:19.818678",
     "exception": false,
     "start_time": "2021-06-08T05:40:19.776938",
     "status": "completed"
    },
    "tags": []
   },
   "outputs": [],
   "source": [
    "optimizer.max['params']"
   ]
  },
  {
   "cell_type": "code",
   "execution_count": null,
   "id": "64d1cb27",
   "metadata": {
    "ExecuteTime": {
     "start_time": "2021-06-15T01:13:01.851Z"
    },
    "execution": {
     "iopub.execute_input": "2021-06-08T05:40:19.890956Z",
     "iopub.status.busy": "2021-06-08T05:40:19.890318Z",
     "iopub.status.idle": "2021-06-08T05:40:19.893795Z",
     "shell.execute_reply": "2021-06-08T05:40:19.893273Z",
     "shell.execute_reply.started": "2021-06-08T03:35:05.529658Z"
    },
    "papermill": {
     "duration": 0.042407,
     "end_time": "2021-06-08T05:40:19.893920",
     "exception": false,
     "start_time": "2021-06-08T05:40:19.851513",
     "status": "completed"
    },
    "tags": []
   },
   "outputs": [],
   "source": [
    "lgb_params = {        \n",
    "                    'objective':'binary',\n",
    "                    'boosting_type':'gbdt',\n",
    "                    'metric':'auc',\n",
    "                    'n_jobs':-1,\n",
    "                    'learning_rate':0.05,\n",
    "                    'num_leaves': int(optimizer.max['params']['num_leaves']), \n",
    "                    'max_depth':-1,\n",
    "                    'tree_learner':'serial',\n",
    "                    'colsample_bytree' : optimizer.max['params']['colsample_bytree'],\n",
    "                    'subsample_freq':1,\n",
    "                    'subsample' : optimizer.max['params']['subsample'],\n",
    "                    'n_estimators':10000,\n",
    "                    'max_bin':int(optimizer.max['params']['max_bin']),\n",
    "                    'verbose':-1,\n",
    "                    'seed': SEED,\n",
    "                    'early_stopping_rounds':100, \n",
    "    \n",
    "}"
   ]
  },
  {
   "cell_type": "code",
   "execution_count": null,
   "id": "966b7ebf",
   "metadata": {
    "ExecuteTime": {
     "start_time": "2021-06-15T01:13:02.046Z"
    },
    "execution": {
     "iopub.execute_input": "2021-06-08T05:40:19.965337Z",
     "iopub.status.busy": "2021-06-08T05:40:19.964749Z",
     "iopub.status.idle": "2021-06-08T05:40:19.999978Z",
     "shell.execute_reply": "2021-06-08T05:40:19.999432Z",
     "shell.execute_reply.started": "2021-06-08T04:21:52.429824Z"
    },
    "papermill": {
     "duration": 0.0731,
     "end_time": "2021-06-08T05:40:20.000120",
     "exception": false,
     "start_time": "2021-06-08T05:40:19.927020",
     "status": "completed"
    },
    "tags": []
   },
   "outputs": [],
   "source": [
    "y_train = train.pop('loan_status')\n",
    "y_test = test.pop('loan_status')\n",
    "train.reset_index(drop=True, inplace=True)\n",
    "test.reset_index(drop=True, inplace=True)\n",
    "y_train.reset_index(drop=True, inplace=True)\n",
    "y_test.reset_index(drop=True, inplace=True)"
   ]
  },
  {
   "cell_type": "code",
   "execution_count": null,
   "id": "861ec7cd",
   "metadata": {
    "ExecuteTime": {
     "start_time": "2021-06-15T01:13:02.286Z"
    },
    "execution": {
     "iopub.execute_input": "2021-06-08T05:40:20.073019Z",
     "iopub.status.busy": "2021-06-08T05:40:20.072371Z",
     "iopub.status.idle": "2021-06-08T05:40:20.075333Z",
     "shell.execute_reply": "2021-06-08T05:40:20.074780Z",
     "shell.execute_reply.started": "2021-06-08T04:21:56.879024Z"
    },
    "papermill": {
     "duration": 0.041929,
     "end_time": "2021-06-08T05:40:20.075491",
     "exception": false,
     "start_time": "2021-06-08T05:40:20.033562",
     "status": "completed"
    },
    "tags": []
   },
   "outputs": [],
   "source": [
    "remove_features = ['earliest_cr_line', 'issue_d', 'last_credit_pull_d', 'last_pymnt_d', 'next_pymnt_d',\n",
    "                  'initial_list_status','out_prncp','out_prncp_inv','total_pymnt','total_pymnt_inv','total_rec_prncp','total_rec_int','total_rec_late_fee',\n",
    "                   'recoveries','collection_recovery_fee','last_pymnt_amnt','last_fico_range_high','last_fico_range_low' , 'id', 'loan_status' , 'issue_year']\n",
    "features  = [col for col in list(train) if col not in remove_features]"
   ]
  },
  {
   "cell_type": "code",
   "execution_count": null,
   "id": "e950b4fd",
   "metadata": {
    "ExecuteTime": {
     "start_time": "2021-06-15T01:13:02.736Z"
    },
    "execution": {
     "iopub.execute_input": "2021-06-08T05:40:20.146548Z",
     "iopub.status.busy": "2021-06-08T05:40:20.145903Z",
     "iopub.status.idle": "2021-06-08T05:40:20.156581Z",
     "shell.execute_reply": "2021-06-08T05:40:20.157116Z",
     "shell.execute_reply.started": "2021-06-08T04:21:57.043287Z"
    },
    "papermill": {
     "duration": 0.047945,
     "end_time": "2021-06-08T05:40:20.157344",
     "exception": false,
     "start_time": "2021-06-08T05:40:20.109399",
     "status": "completed"
    },
    "tags": []
   },
   "outputs": [],
   "source": [
    "def make_lgb_prediction(train, y, test, features, categorical_features='auto', model_params=None, folds=5):\n",
    "#     def lgb_f1_score(y_hat, data):\n",
    "#         y_true = data.get_label()\n",
    "#         y_hat = np.round(y_hat) \n",
    "#         return 'f1', f1_score(y_true, y_hat, average='binary'), True\n",
    "    \n",
    "    skf = KFold(n_splits=folds, random_state=SEED, shuffle=True)\n",
    "    folds = 5\n",
    "    x_train = train[features]\n",
    "    x_test = test[features]\n",
    "\n",
    "    y_preds = np.zeros(x_test.shape[0])\n",
    "    y_oof = np.zeros(x_train.shape[0])\n",
    "    score = 0\n",
    "    split_groups = train['issue_year']\n",
    "    feature_importance = pd.DataFrame()\n",
    "    \n",
    "\n",
    "    for fold, (tr_idx, val_idx) in enumerate(skf.split(x_train, y)):\n",
    "        print(f'Fold: {fold+1}')\n",
    "\n",
    "        x_tr, x_val = x_train.loc[tr_idx, features], x_train.loc[val_idx, features]\n",
    "        y_tr, y_val = y[tr_idx], y[val_idx]\n",
    "\n",
    "        print(x_tr.shape, x_val.shape)\n",
    "\n",
    "        dtrain = lgb.Dataset(x_tr, label=y_tr)\n",
    "        dvalid = lgb.Dataset(x_val, label=y_val)\n",
    "\n",
    "        clf = lgb.train(\n",
    "            model_params,\n",
    "            dtrain,\n",
    "            valid_sets=[dtrain, dvalid],\n",
    "            categorical_feature=categorical_features,\n",
    "            verbose_eval=200,\n",
    "            early_stopping_rounds=100,\n",
    "#             feval=lgb_f1_score\n",
    "        )\n",
    "\n",
    "        fold_importance_df = pd.DataFrame()\n",
    "        fold_importance_df[\"Feature\"] = features\n",
    "        fold_importance_df[\"importance\"] = clf.feature_importance()\n",
    "        fold_importance_df[\"fold\"] = fold + 1\n",
    "        feature_importance = pd.concat([feature_importance, fold_importance_df], axis=0)\n",
    "        \n",
    "        y_pred_val = clf.predict(x_val)\n",
    "\n",
    "        y_oof[val_idx] = y_pred_val\n",
    "        print(f\"Fold {fold + 1} | AUC Score: {roc_auc_score(y_val, y_pred_val)}\")\n",
    "\n",
    "        score += roc_auc_score(y_val, y_pred_val) / folds\n",
    "        y_preds += clf.predict(x_test) / folds\n",
    "\n",
    "        del x_tr, x_val, y_tr, y_val\n",
    "        gc.collect()\n",
    "\n",
    "    print(f\"\\nMean AUC score = {score}\")\n",
    "    print(f\"OOF AUC score = {roc_auc_score(y, y_oof)}\")\n",
    "    \n",
    "    return y_oof, y_preds, feature_importance"
   ]
  },
  {
   "cell_type": "code",
   "execution_count": null,
   "id": "0c28aca3",
   "metadata": {
    "ExecuteTime": {
     "start_time": "2021-06-15T01:13:03.066Z"
    },
    "execution": {
     "iopub.execute_input": "2021-06-08T05:40:20.229936Z",
     "iopub.status.busy": "2021-06-08T05:40:20.229310Z",
     "iopub.status.idle": "2021-06-08T06:08:57.728286Z",
     "shell.execute_reply": "2021-06-08T06:08:57.727711Z"
    },
    "papermill": {
     "duration": 1717.53714,
     "end_time": "2021-06-08T06:08:57.728405",
     "exception": false,
     "start_time": "2021-06-08T05:40:20.191265",
     "status": "completed"
    },
    "tags": []
   },
   "outputs": [],
   "source": [
    "y_oof_lgb, y_preds_lgb, fi_lgb = make_lgb_prediction(train, y_train, test, features, model_params=lgb_params)"
   ]
  },
  {
   "cell_type": "code",
   "execution_count": null,
   "id": "4c23334c",
   "metadata": {
    "ExecuteTime": {
     "start_time": "2021-06-15T01:13:03.741Z"
    },
    "execution": {
     "iopub.execute_input": "2021-06-08T06:08:57.807254Z",
     "iopub.status.busy": "2021-06-08T06:08:57.806758Z",
     "iopub.status.idle": "2021-06-08T06:08:57.832410Z",
     "shell.execute_reply": "2021-06-08T06:08:57.832934Z"
    },
    "papermill": {
     "duration": 0.068005,
     "end_time": "2021-06-08T06:08:57.833121",
     "exception": false,
     "start_time": "2021-06-08T06:08:57.765116",
     "status": "completed"
    },
    "tags": []
   },
   "outputs": [],
   "source": [
    "print(f\"TEST AUC score = {roc_auc_score(answer['loan_status'], y_preds_lgb)}\")"
   ]
  },
  {
   "cell_type": "markdown",
   "id": "877622a0",
   "metadata": {
    "papermill": {
     "duration": 0.055903,
     "end_time": "2021-06-08T06:08:57.945324",
     "exception": false,
     "start_time": "2021-06-08T06:08:57.889421",
     "status": "completed"
    },
    "tags": []
   },
   "source": [
    "## Feature Importance"
   ]
  },
  {
   "cell_type": "code",
   "execution_count": null,
   "id": "80cfe9ba",
   "metadata": {
    "ExecuteTime": {
     "start_time": "2021-06-15T01:13:04.521Z"
    },
    "execution": {
     "iopub.execute_input": "2021-06-08T06:08:58.080920Z",
     "iopub.status.busy": "2021-06-08T06:08:58.075206Z",
     "iopub.status.idle": "2021-06-08T06:09:02.085775Z",
     "shell.execute_reply": "2021-06-08T06:09:02.086151Z"
    },
    "papermill": {
     "duration": 4.085268,
     "end_time": "2021-06-08T06:09:02.086284",
     "exception": false,
     "start_time": "2021-06-08T06:08:58.001016",
     "status": "completed"
    },
    "tags": []
   },
   "outputs": [],
   "source": [
    "cols = (fi_lgb[[\"Feature\", \"importance\"]]\n",
    "        .groupby(\"Feature\")\n",
    "        .mean()\n",
    "        .sort_values(by=\"importance\", ascending=False)[:150].index)\n",
    "best_features = fi_lgb.loc[fi_lgb.Feature.isin(cols)]\n",
    "\n",
    "plt.figure(figsize=(14,28))\n",
    "sns.barplot(x=\"importance\", y=\"Feature\", data=best_features.sort_values(by=\"importance\",ascending=False))\n",
    "plt.title('Features importance (averaged/folds)')\n",
    "plt.tight_layout()\n",
    "plt.savefig('FI.png')"
   ]
  },
  {
   "cell_type": "code",
   "execution_count": null,
   "id": "44f893c1",
   "metadata": {
    "papermill": {
     "duration": 0.04018,
     "end_time": "2021-06-08T06:09:02.166736",
     "exception": false,
     "start_time": "2021-06-08T06:09:02.126556",
     "status": "completed"
    },
    "tags": []
   },
   "outputs": [],
   "source": []
  }
 ],
 "metadata": {
  "hide_input": false,
  "kernelspec": {
   "display_name": "Python 3",
   "language": "python",
   "name": "python3"
  },
  "language_info": {
   "codemirror_mode": {
    "name": "ipython",
    "version": 3
   },
   "file_extension": ".py",
   "mimetype": "text/x-python",
   "name": "python",
   "nbconvert_exporter": "python",
   "pygments_lexer": "ipython3",
   "version": "3.7.10"
  },
  "papermill": {
   "default_parameters": {},
   "duration": 6362.5032,
   "end_time": "2021-06-08T06:09:03.116728",
   "environment_variables": {},
   "exception": null,
   "input_path": "__notebook__.ipynb",
   "output_path": "__notebook__.ipynb",
   "parameters": {},
   "start_time": "2021-06-08T04:23:00.613528",
   "version": "2.3.3"
  }
 },
 "nbformat": 4,
 "nbformat_minor": 5
}
