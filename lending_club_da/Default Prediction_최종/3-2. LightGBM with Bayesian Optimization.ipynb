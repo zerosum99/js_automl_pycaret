{
 "cells": [
  {
   "cell_type": "code",
   "execution_count": null,
   "id": "163b8b59-d374-461a-a5cb-0080f1a15da9",
   "metadata": {},
   "outputs": [],
   "source": []
  },
  {
   "cell_type": "code",
   "execution_count": 1,
   "id": "83c04bd8-df4c-4626-a5cd-04fa7d18f7f6",
   "metadata": {},
   "outputs": [],
   "source": [
    "# Suppress warnings \n",
    "import warnings\n",
    "warnings.filterwarnings('ignore')\n",
    "\n",
    "import os, sys, gc, warnings, random, datetime\n",
    "\n",
    "import pandas as pd\n",
    "import numpy as np\n",
    "\n",
    "pd.set_option('display.max_columns', 200)\n",
    "\n",
    "# pd.options.display.max_rows = 10000\n",
    "# pd.options.display.max_columns = 1000\n",
    "# pd.options.display.max_colwidth = 1000"
   ]
  },
  {
   "cell_type": "code",
   "execution_count": null,
   "id": "bd60f039-9f5d-4a51-95c6-f9e1a03c67e9",
   "metadata": {},
   "outputs": [],
   "source": []
  },
  {
   "cell_type": "code",
   "execution_count": 2,
   "id": "64ae0b49",
   "metadata": {
    "ExecuteTime": {
     "end_time": "2021-06-15T01:09:31.781891Z",
     "start_time": "2021-06-15T01:09:31.767089Z"
    },
    "_cell_guid": "b1076dfc-b9ad-4769-8c92-a6c4dae69d19",
    "_uuid": "8f2839f25d086af736a60e9eeb907d3b93b6e0e5",
    "papermill": {
     "duration": 2.333801,
     "end_time": "2021-06-08T04:23:09.765881",
     "exception": false,
     "start_time": "2021-06-08T04:23:07.432080",
     "status": "completed"
    },
    "tags": []
   },
   "outputs": [],
   "source": [
    "from sklearn.preprocessing import LabelEncoder\n",
    "from sklearn.metrics import roc_auc_score, f1_score, precision_recall_curve, accuracy_score\n",
    "from sklearn.model_selection import KFold, StratifiedKFold\n",
    "\n",
    "import lightgbm as lgb\n",
    "\n",
    "from matplotlib import pyplot as plt\n",
    "import seaborn as sns\n",
    "\n",
    "from IPython.display import display\n",
    "from bayes_opt import BayesianOptimization\n",
    "\n",
    "\n",
    "\n",
    "from sklearn import metrics\n",
    "from sklearn.model_selection import train_test_split"
   ]
  },
  {
   "cell_type": "code",
   "execution_count": null,
   "id": "c69eccad-81eb-49c8-8947-0a84b14c3487",
   "metadata": {},
   "outputs": [],
   "source": []
  },
  {
   "cell_type": "code",
   "execution_count": null,
   "id": "74dbe108-9699-4588-8f05-91d3ac65beda",
   "metadata": {},
   "outputs": [],
   "source": []
  },
  {
   "cell_type": "code",
   "execution_count": 3,
   "id": "0736c266",
   "metadata": {
    "ExecuteTime": {
     "end_time": "2021-06-15T01:09:32.639749Z",
     "start_time": "2021-06-15T01:09:32.636730Z"
    },
    "papermill": {
     "duration": 0.024036,
     "end_time": "2021-06-08T04:23:09.807144",
     "exception": false,
     "start_time": "2021-06-08T04:23:09.783108",
     "status": "completed"
    },
    "tags": []
   },
   "outputs": [],
   "source": [
    "def seed_everything(seed=0):\n",
    "    random.seed(seed)\n",
    "    os.environ['PYTHONHASHSEED'] = str(seed)\n",
    "    np.random.seed(seed)\n",
    "    \n",
    "SEED = 42\n",
    "seed_everything(SEED)"
   ]
  },
  {
   "cell_type": "code",
   "execution_count": null,
   "id": "a29601da-1e9b-49f0-bdb6-d20f09f8a64b",
   "metadata": {},
   "outputs": [],
   "source": []
  },
  {
   "cell_type": "code",
   "execution_count": 4,
   "id": "1f8df596-2d76-42e6-b94c-1bd10f67e760",
   "metadata": {},
   "outputs": [],
   "source": [
    "path_read =\"/Users/a06411/Documents/data_hub/lending_club/lgb_selected.pkl\""
   ]
  },
  {
   "cell_type": "code",
   "execution_count": 5,
   "id": "ccef6761",
   "metadata": {
    "ExecuteTime": {
     "end_time": "2021-06-15T01:10:40.753986Z",
     "start_time": "2021-06-15T01:10:39.253083Z"
    },
    "papermill": {
     "duration": 10.706152,
     "end_time": "2021-06-08T04:23:20.529736",
     "exception": false,
     "start_time": "2021-06-08T04:23:09.823584",
     "status": "completed"
    },
    "tags": []
   },
   "outputs": [],
   "source": [
    "### Load Data\n",
    "df = pd.read_pickle(path_read)\n"
   ]
  },
  {
   "cell_type": "code",
   "execution_count": 6,
   "id": "5b497cd3",
   "metadata": {
    "ExecuteTime": {
     "end_time": "2021-06-15T01:10:52.524385Z",
     "start_time": "2021-06-15T01:10:52.152956Z"
    },
    "papermill": {
     "duration": 0.316806,
     "end_time": "2021-06-08T04:23:20.862988",
     "exception": false,
     "start_time": "2021-06-08T04:23:20.546182",
     "status": "completed"
    },
    "tags": []
   },
   "outputs": [],
   "source": [
    "df['issue_d'] = pd.to_datetime(df['issue_d'])\n",
    "df['issue_year'] = df['issue_d'].dt.year\n",
    "df.loc[df['issue_year'] == 2007 , 'issue_year'] = 201200\n",
    "df.loc[df['issue_year'] == 2008 , 'issue_year'] = 201200\n",
    "df.loc[df['issue_year'] == 2009 , 'issue_year'] = 201200\n",
    "df.loc[df['issue_year'] == 2010 , 'issue_year'] = 201200\n",
    "df.loc[df['issue_year'] == 2011 , 'issue_year'] = 201200\n",
    "df.loc[df['issue_year'] == 2012 , 'issue_year'] = 201200\n"
   ]
  },
  {
   "cell_type": "code",
   "execution_count": 7,
   "id": "a625cb61",
   "metadata": {
    "ExecuteTime": {
     "end_time": "2021-06-15T01:10:53.701620Z",
     "start_time": "2021-06-15T01:10:53.156705Z"
    },
    "papermill": {
     "duration": 0.654661,
     "end_time": "2021-06-08T04:23:21.542909",
     "exception": false,
     "start_time": "2021-06-08T04:23:20.888248",
     "status": "completed"
    },
    "tags": []
   },
   "outputs": [],
   "source": [
    "train = df[df['issue_year'] != 2018]\n",
    "test = df[df['issue_year'] == 2018]"
   ]
  },
  {
   "cell_type": "code",
   "execution_count": 8,
   "id": "735d6f8b",
   "metadata": {
    "ExecuteTime": {
     "end_time": "2021-06-15T01:10:54.331586Z",
     "start_time": "2021-06-15T01:10:54.327784Z"
    },
    "papermill": {
     "duration": 0.035307,
     "end_time": "2021-06-08T04:23:21.603515",
     "exception": false,
     "start_time": "2021-06-08T04:23:21.568208",
     "status": "completed"
    },
    "tags": []
   },
   "outputs": [],
   "source": [
    "answer = test[['id','loan_status']]\n",
    "# test.drop('loan_status',1, inplace = True)"
   ]
  },
  {
   "cell_type": "code",
   "execution_count": 9,
   "id": "3de3e5e4",
   "metadata": {
    "ExecuteTime": {
     "end_time": "2021-06-15T01:10:55.719774Z",
     "start_time": "2021-06-15T01:10:55.003070Z"
    },
    "papermill": {
     "duration": 0.427603,
     "end_time": "2021-06-08T04:23:22.047840",
     "exception": false,
     "start_time": "2021-06-08T04:23:21.620237",
     "status": "completed"
    },
    "tags": []
   },
   "outputs": [
    {
     "name": "stdout",
     "output_type": "stream",
     "text": [
      "(1314290, 63)\n",
      "(1314290,)\n"
     ]
    }
   ],
   "source": [
    "# Load Data with selected features\n",
    "X = train.copy()\n",
    "# Labels\n",
    "y = train['loan_status']\n",
    "\n",
    "# Remove Labels from Dataframe\n",
    "X.drop(['loan_status'], axis = 1, inplace = True)\n",
    "# Final Data Shapes\n",
    "print(X.shape)\n",
    "print(y.shape)"
   ]
  },
  {
   "cell_type": "code",
   "execution_count": 10,
   "id": "f01c5c37",
   "metadata": {
    "ExecuteTime": {
     "end_time": "2021-06-15T01:11:49.567069Z",
     "start_time": "2021-06-15T01:11:49.152437Z"
    },
    "papermill": {
     "duration": 0.569392,
     "end_time": "2021-06-08T04:23:22.634149",
     "exception": false,
     "start_time": "2021-06-08T04:23:22.064757",
     "status": "completed"
    },
    "tags": []
   },
   "outputs": [],
   "source": [
    "ttrain = train[train['issue_year'] != 2017]\n",
    "ttest = train[train['issue_year'] == 2017]"
   ]
  },
  {
   "cell_type": "code",
   "execution_count": 11,
   "id": "744567e0",
   "metadata": {
    "ExecuteTime": {
     "end_time": "2021-06-15T01:11:50.770291Z",
     "start_time": "2021-06-15T01:11:50.037598Z"
    },
    "papermill": {
     "duration": 0.445915,
     "end_time": "2021-06-08T04:23:23.096817",
     "exception": false,
     "start_time": "2021-06-08T04:23:22.650902",
     "status": "completed"
    },
    "tags": []
   },
   "outputs": [],
   "source": [
    "X_train = ttrain.copy()\n",
    "y_train = ttrain['loan_status']\n",
    "X_train.drop(['loan_status'], axis = 1, inplace = True)\n",
    "\n",
    "X_test = ttest.copy()\n",
    "y_test = ttest['loan_status']\n",
    "X_test.drop(['loan_status'], axis = 1, inplace = True)"
   ]
  },
  {
   "cell_type": "code",
   "execution_count": 12,
   "id": "47b3ee12",
   "metadata": {
    "ExecuteTime": {
     "end_time": "2021-06-15T01:11:51.346476Z",
     "start_time": "2021-06-15T01:11:51.343401Z"
    },
    "papermill": {
     "duration": 0.026022,
     "end_time": "2021-06-08T04:23:23.139789",
     "exception": false,
     "start_time": "2021-06-08T04:23:23.113767",
     "status": "completed"
    },
    "tags": []
   },
   "outputs": [],
   "source": [
    "remove_features = ['earliest_cr_line', 'issue_d', 'last_credit_pull_d', 'last_pymnt_d', 'next_pymnt_d',\n",
    "                  'initial_list_status','out_prncp','out_prncp_inv','total_pymnt','total_pymnt_inv','total_rec_prncp','total_rec_int','total_rec_late_fee',\n",
    "                   'recoveries','collection_recovery_fee','last_pymnt_amnt','last_fico_range_high','last_fico_range_low' , 'id', 'loan_status' , 'issue_year']\n",
    "features  = [col for col in list(train) if col not in remove_features]"
   ]
  },
  {
   "cell_type": "code",
   "execution_count": 13,
   "id": "96861469",
   "metadata": {
    "ExecuteTime": {
     "end_time": "2021-06-15T01:11:52.246906Z",
     "start_time": "2021-06-15T01:11:51.972180Z"
    },
    "papermill": {
     "duration": 0.178661,
     "end_time": "2021-06-08T04:23:23.335852",
     "exception": false,
     "start_time": "2021-06-08T04:23:23.157191",
     "status": "completed"
    },
    "tags": []
   },
   "outputs": [],
   "source": [
    "X_train = X_train[features]\n",
    "X_test = X_test[features]"
   ]
  },
  {
   "cell_type": "code",
   "execution_count": null,
   "id": "8d6669f7-c244-425c-8c82-ca502871b36a",
   "metadata": {},
   "outputs": [],
   "source": []
  },
  {
   "cell_type": "code",
   "execution_count": null,
   "id": "778d04b2-cb6c-4ba0-8442-31d384f9e76a",
   "metadata": {},
   "outputs": [],
   "source": []
  },
  {
   "cell_type": "markdown",
   "id": "6f106826",
   "metadata": {
    "papermill": {
     "duration": 0.016186,
     "end_time": "2021-06-08T04:23:23.375502",
     "exception": false,
     "start_time": "2021-06-08T04:23:23.359316",
     "status": "completed"
    },
    "tags": []
   },
   "source": [
    "## Bayesian Optimization"
   ]
  },
  {
   "cell_type": "code",
   "execution_count": 14,
   "id": "74cd0a68",
   "metadata": {
    "ExecuteTime": {
     "end_time": "2021-06-15T01:11:53.264744Z",
     "start_time": "2021-06-15T01:11:53.262180Z"
    },
    "papermill": {
     "duration": 0.025644,
     "end_time": "2021-06-08T04:23:23.417530",
     "exception": false,
     "start_time": "2021-06-08T04:23:23.391886",
     "status": "completed"
    },
    "tags": []
   },
   "outputs": [],
   "source": [
    "bounds = {\n",
    "    'num_leaves': (50, 70), \n",
    "    'subsample' : (0.5, 1),\n",
    "    'colsample_bytree' : (0.5, 1),\n",
    "    'max_bin' : (49, 69) }"
   ]
  },
  {
   "cell_type": "code",
   "execution_count": 15,
   "id": "d0e20301",
   "metadata": {
    "ExecuteTime": {
     "end_time": "2021-06-15T01:11:53.987118Z",
     "start_time": "2021-06-15T01:11:53.982872Z"
    },
    "papermill": {
     "duration": 0.029375,
     "end_time": "2021-06-08T04:23:23.463696",
     "exception": false,
     "start_time": "2021-06-08T04:23:23.434321",
     "status": "completed"
    },
    "tags": []
   },
   "outputs": [],
   "source": [
    "def train_model( num_leaves, colsample_bytree, subsample , max_bin):\n",
    "    \n",
    "    params = {\n",
    "                    'objective':'binary',\n",
    "                    'boosting_type':'gbdt',\n",
    "                    'metric':'auc',\n",
    "                    'n_jobs':-1,\n",
    "                    'learning_rate':0.05,\n",
    "                    'num_leaves': int(num_leaves), \n",
    "                    'max_depth':-1,\n",
    "                    'tree_learner':'serial',\n",
    "                    'colsample_bytree' : colsample_bytree,\n",
    "                    'subsample_freq':1,\n",
    "                    'subsample' : subsample,\n",
    "                    'n_estimators':10000,\n",
    "                    'max_bin':int(max_bin),\n",
    "                    'verbose':-1,\n",
    "                    'seed': SEED,\n",
    "                    #'early_stopping_rounds':50, \n",
    "        \n",
    "          }\n",
    "    \n",
    "    trn_data = lgb.Dataset(X_train, y_train)\n",
    "    val_data = lgb.Dataset(X_test, y_test)\n",
    "    model = lgb.train(params, trn_data, 5000, valid_sets = [trn_data, val_data])\n",
    "    # Returning negative rmse because optimizer tries to maximize a function\n",
    "    return model.best_score['valid_1']['auc']"
   ]
  },
  {
   "cell_type": "code",
   "execution_count": 16,
   "id": "e2043637",
   "metadata": {
    "ExecuteTime": {
     "start_time": "2021-06-15T01:12:02.316Z"
    },
    "papermill": {
     "duration": 4616.263433,
     "end_time": "2021-06-08T05:40:19.744266",
     "exception": false,
     "start_time": "2021-06-08T04:23:23.480833",
     "status": "completed"
    },
    "tags": []
   },
   "outputs": [
    {
     "name": "stdout",
     "output_type": "stream",
     "text": [
      "|   iter    |  target   | colsam... |  max_bin  | num_le... | subsample |\n",
      "-------------------------------------------------------------------------\n"
     ]
    },
    {
     "ename": "KeyboardInterrupt",
     "evalue": "",
     "output_type": "error",
     "traceback": [
      "\u001b[0;31m---------------------------------------------------------------------------\u001b[0m",
      "\u001b[0;31mKeyboardInterrupt\u001b[0m                         Traceback (most recent call last)",
      "Cell \u001b[0;32mIn[16], line 4\u001b[0m\n\u001b[1;32m      1\u001b[0m optimizer \u001b[38;5;241m=\u001b[39m BayesianOptimization(f\u001b[38;5;241m=\u001b[39mtrain_model, pbounds\u001b[38;5;241m=\u001b[39mbounds, random_state\u001b[38;5;241m=\u001b[39m\u001b[38;5;241m2021\u001b[39m)\n\u001b[0;32m----> 4\u001b[0m \u001b[43moptimizer\u001b[49m\u001b[38;5;241;43m.\u001b[39;49m\u001b[43mmaximize\u001b[49m\u001b[43m(\u001b[49m\u001b[43minit_points\u001b[49m\u001b[38;5;241;43m=\u001b[39;49m\u001b[38;5;241;43m10\u001b[39;49m\u001b[43m,\u001b[49m\u001b[43m \u001b[49m\u001b[43mn_iter\u001b[49m\u001b[38;5;241;43m=\u001b[39;49m\u001b[38;5;241;43m10\u001b[39;49m\u001b[43m)\u001b[49m\n",
      "File \u001b[0;32m~/opt/anaconda3/envs/pycaret/lib/python3.9/site-packages/bayes_opt/bayesian_optimization.py:310\u001b[0m, in \u001b[0;36mBayesianOptimization.maximize\u001b[0;34m(self, init_points, n_iter, acquisition_function, acq, kappa, kappa_decay, kappa_decay_delay, xi, **gp_params)\u001b[0m\n\u001b[1;32m    308\u001b[0m     x_probe \u001b[38;5;241m=\u001b[39m \u001b[38;5;28mself\u001b[39m\u001b[38;5;241m.\u001b[39msuggest(util)\n\u001b[1;32m    309\u001b[0m     iteration \u001b[38;5;241m+\u001b[39m\u001b[38;5;241m=\u001b[39m \u001b[38;5;241m1\u001b[39m\n\u001b[0;32m--> 310\u001b[0m \u001b[38;5;28;43mself\u001b[39;49m\u001b[38;5;241;43m.\u001b[39;49m\u001b[43mprobe\u001b[49m\u001b[43m(\u001b[49m\u001b[43mx_probe\u001b[49m\u001b[43m,\u001b[49m\u001b[43m \u001b[49m\u001b[43mlazy\u001b[49m\u001b[38;5;241;43m=\u001b[39;49m\u001b[38;5;28;43;01mFalse\u001b[39;49;00m\u001b[43m)\u001b[49m\n\u001b[1;32m    312\u001b[0m \u001b[38;5;28;01mif\u001b[39;00m \u001b[38;5;28mself\u001b[39m\u001b[38;5;241m.\u001b[39m_bounds_transformer \u001b[38;5;129;01mand\u001b[39;00m iteration \u001b[38;5;241m>\u001b[39m \u001b[38;5;241m0\u001b[39m:\n\u001b[1;32m    313\u001b[0m     \u001b[38;5;66;03m# The bounds transformer should only modify the bounds after\u001b[39;00m\n\u001b[1;32m    314\u001b[0m     \u001b[38;5;66;03m# the init_points points (only for the true iterations)\u001b[39;00m\n\u001b[1;32m    315\u001b[0m     \u001b[38;5;28mself\u001b[39m\u001b[38;5;241m.\u001b[39mset_bounds(\n\u001b[1;32m    316\u001b[0m         \u001b[38;5;28mself\u001b[39m\u001b[38;5;241m.\u001b[39m_bounds_transformer\u001b[38;5;241m.\u001b[39mtransform(\u001b[38;5;28mself\u001b[39m\u001b[38;5;241m.\u001b[39m_space))\n",
      "File \u001b[0;32m~/opt/anaconda3/envs/pycaret/lib/python3.9/site-packages/bayes_opt/bayesian_optimization.py:208\u001b[0m, in \u001b[0;36mBayesianOptimization.probe\u001b[0;34m(self, params, lazy)\u001b[0m\n\u001b[1;32m    206\u001b[0m     \u001b[38;5;28mself\u001b[39m\u001b[38;5;241m.\u001b[39m_queue\u001b[38;5;241m.\u001b[39madd(params)\n\u001b[1;32m    207\u001b[0m \u001b[38;5;28;01melse\u001b[39;00m:\n\u001b[0;32m--> 208\u001b[0m     \u001b[38;5;28;43mself\u001b[39;49m\u001b[38;5;241;43m.\u001b[39;49m\u001b[43m_space\u001b[49m\u001b[38;5;241;43m.\u001b[39;49m\u001b[43mprobe\u001b[49m\u001b[43m(\u001b[49m\u001b[43mparams\u001b[49m\u001b[43m)\u001b[49m\n\u001b[1;32m    209\u001b[0m     \u001b[38;5;28mself\u001b[39m\u001b[38;5;241m.\u001b[39mdispatch(Events\u001b[38;5;241m.\u001b[39mOPTIMIZATION_STEP)\n",
      "File \u001b[0;32m~/opt/anaconda3/envs/pycaret/lib/python3.9/site-packages/bayes_opt/target_space.py:236\u001b[0m, in \u001b[0;36mTargetSpace.probe\u001b[0;34m(self, params)\u001b[0m\n\u001b[1;32m    234\u001b[0m x \u001b[38;5;241m=\u001b[39m \u001b[38;5;28mself\u001b[39m\u001b[38;5;241m.\u001b[39m_as_array(params)\n\u001b[1;32m    235\u001b[0m params \u001b[38;5;241m=\u001b[39m \u001b[38;5;28mdict\u001b[39m(\u001b[38;5;28mzip\u001b[39m(\u001b[38;5;28mself\u001b[39m\u001b[38;5;241m.\u001b[39m_keys, x))\n\u001b[0;32m--> 236\u001b[0m target \u001b[38;5;241m=\u001b[39m \u001b[38;5;28;43mself\u001b[39;49m\u001b[38;5;241;43m.\u001b[39;49m\u001b[43mtarget_func\u001b[49m\u001b[43m(\u001b[49m\u001b[38;5;241;43m*\u001b[39;49m\u001b[38;5;241;43m*\u001b[39;49m\u001b[43mparams\u001b[49m\u001b[43m)\u001b[49m\n\u001b[1;32m    238\u001b[0m \u001b[38;5;28;01mif\u001b[39;00m \u001b[38;5;28mself\u001b[39m\u001b[38;5;241m.\u001b[39m_constraint \u001b[38;5;129;01mis\u001b[39;00m \u001b[38;5;28;01mNone\u001b[39;00m:\n\u001b[1;32m    239\u001b[0m     \u001b[38;5;28mself\u001b[39m\u001b[38;5;241m.\u001b[39mregister(x, target)\n",
      "Cell \u001b[0;32mIn[15], line 25\u001b[0m, in \u001b[0;36mtrain_model\u001b[0;34m(num_leaves, colsample_bytree, subsample, max_bin)\u001b[0m\n\u001b[1;32m     23\u001b[0m trn_data \u001b[38;5;241m=\u001b[39m lgb\u001b[38;5;241m.\u001b[39mDataset(X_train, y_train)\n\u001b[1;32m     24\u001b[0m val_data \u001b[38;5;241m=\u001b[39m lgb\u001b[38;5;241m.\u001b[39mDataset(X_test, y_test)\n\u001b[0;32m---> 25\u001b[0m model \u001b[38;5;241m=\u001b[39m \u001b[43mlgb\u001b[49m\u001b[38;5;241;43m.\u001b[39;49m\u001b[43mtrain\u001b[49m\u001b[43m(\u001b[49m\u001b[43mparams\u001b[49m\u001b[43m,\u001b[49m\u001b[43m \u001b[49m\u001b[43mtrn_data\u001b[49m\u001b[43m,\u001b[49m\u001b[43m \u001b[49m\u001b[38;5;241;43m5000\u001b[39;49m\u001b[43m,\u001b[49m\u001b[43m \u001b[49m\u001b[43mvalid_sets\u001b[49m\u001b[43m \u001b[49m\u001b[38;5;241;43m=\u001b[39;49m\u001b[43m \u001b[49m\u001b[43m[\u001b[49m\u001b[43mtrn_data\u001b[49m\u001b[43m,\u001b[49m\u001b[43m \u001b[49m\u001b[43mval_data\u001b[49m\u001b[43m]\u001b[49m\u001b[43m)\u001b[49m\n\u001b[1;32m     26\u001b[0m \u001b[38;5;66;03m# Returning negative rmse because optimizer tries to maximize a function\u001b[39;00m\n\u001b[1;32m     27\u001b[0m \u001b[38;5;28;01mreturn\u001b[39;00m model\u001b[38;5;241m.\u001b[39mbest_score[\u001b[38;5;124m'\u001b[39m\u001b[38;5;124mvalid_1\u001b[39m\u001b[38;5;124m'\u001b[39m][\u001b[38;5;124m'\u001b[39m\u001b[38;5;124mauc\u001b[39m\u001b[38;5;124m'\u001b[39m]\n",
      "File \u001b[0;32m~/opt/anaconda3/envs/pycaret/lib/python3.9/site-packages/lightgbm/engine.py:266\u001b[0m, in \u001b[0;36mtrain\u001b[0;34m(params, train_set, num_boost_round, valid_sets, valid_names, feval, init_model, feature_name, categorical_feature, keep_training_booster, callbacks)\u001b[0m\n\u001b[1;32m    258\u001b[0m \u001b[38;5;28;01mfor\u001b[39;00m cb \u001b[38;5;129;01min\u001b[39;00m callbacks_before_iter:\n\u001b[1;32m    259\u001b[0m     cb(callback\u001b[38;5;241m.\u001b[39mCallbackEnv(model\u001b[38;5;241m=\u001b[39mbooster,\n\u001b[1;32m    260\u001b[0m                             params\u001b[38;5;241m=\u001b[39mparams,\n\u001b[1;32m    261\u001b[0m                             iteration\u001b[38;5;241m=\u001b[39mi,\n\u001b[1;32m    262\u001b[0m                             begin_iteration\u001b[38;5;241m=\u001b[39minit_iteration,\n\u001b[1;32m    263\u001b[0m                             end_iteration\u001b[38;5;241m=\u001b[39minit_iteration \u001b[38;5;241m+\u001b[39m num_boost_round,\n\u001b[1;32m    264\u001b[0m                             evaluation_result_list\u001b[38;5;241m=\u001b[39m\u001b[38;5;28;01mNone\u001b[39;00m))\n\u001b[0;32m--> 266\u001b[0m \u001b[43mbooster\u001b[49m\u001b[38;5;241;43m.\u001b[39;49m\u001b[43mupdate\u001b[49m\u001b[43m(\u001b[49m\u001b[43mfobj\u001b[49m\u001b[38;5;241;43m=\u001b[39;49m\u001b[43mfobj\u001b[49m\u001b[43m)\u001b[49m\n\u001b[1;32m    268\u001b[0m evaluation_result_list: List[_LGBM_BoosterEvalMethodResultType] \u001b[38;5;241m=\u001b[39m []\n\u001b[1;32m    269\u001b[0m \u001b[38;5;66;03m# check evaluation result.\u001b[39;00m\n",
      "File \u001b[0;32m~/opt/anaconda3/envs/pycaret/lib/python3.9/site-packages/lightgbm/basic.py:3557\u001b[0m, in \u001b[0;36mBooster.update\u001b[0;34m(self, train_set, fobj)\u001b[0m\n\u001b[1;32m   3555\u001b[0m \u001b[38;5;28;01mif\u001b[39;00m \u001b[38;5;28mself\u001b[39m\u001b[38;5;241m.\u001b[39m__set_objective_to_none:\n\u001b[1;32m   3556\u001b[0m     \u001b[38;5;28;01mraise\u001b[39;00m LightGBMError(\u001b[38;5;124m'\u001b[39m\u001b[38;5;124mCannot update due to null objective function.\u001b[39m\u001b[38;5;124m'\u001b[39m)\n\u001b[0;32m-> 3557\u001b[0m _safe_call(\u001b[43m_LIB\u001b[49m\u001b[38;5;241;43m.\u001b[39;49m\u001b[43mLGBM_BoosterUpdateOneIter\u001b[49m\u001b[43m(\u001b[49m\n\u001b[1;32m   3558\u001b[0m \u001b[43m    \u001b[49m\u001b[38;5;28;43mself\u001b[39;49m\u001b[38;5;241;43m.\u001b[39;49m\u001b[43m_handle\u001b[49m\u001b[43m,\u001b[49m\n\u001b[1;32m   3559\u001b[0m \u001b[43m    \u001b[49m\u001b[43mctypes\u001b[49m\u001b[38;5;241;43m.\u001b[39;49m\u001b[43mbyref\u001b[49m\u001b[43m(\u001b[49m\u001b[43mis_finished\u001b[49m\u001b[43m)\u001b[49m\u001b[43m)\u001b[49m)\n\u001b[1;32m   3560\u001b[0m \u001b[38;5;28mself\u001b[39m\u001b[38;5;241m.\u001b[39m__is_predicted_cur_iter \u001b[38;5;241m=\u001b[39m [\u001b[38;5;28;01mFalse\u001b[39;00m \u001b[38;5;28;01mfor\u001b[39;00m _ \u001b[38;5;129;01min\u001b[39;00m \u001b[38;5;28mrange\u001b[39m(\u001b[38;5;28mself\u001b[39m\u001b[38;5;241m.\u001b[39m__num_dataset)]\n\u001b[1;32m   3561\u001b[0m \u001b[38;5;28;01mreturn\u001b[39;00m is_finished\u001b[38;5;241m.\u001b[39mvalue \u001b[38;5;241m==\u001b[39m \u001b[38;5;241m1\u001b[39m\n",
      "\u001b[0;31mKeyboardInterrupt\u001b[0m: "
     ]
    }
   ],
   "source": [
    "optimizer = BayesianOptimization(f=train_model, pbounds=bounds, random_state=2021)\n",
    "\n",
    "\n",
    "optimizer.maximize(init_points=10, n_iter=10)"
   ]
  },
  {
   "cell_type": "code",
   "execution_count": null,
   "id": "ba2f8e7f-9d9a-42f1-8a8b-aa3b80d3a31a",
   "metadata": {},
   "outputs": [],
   "source": []
  },
  {
   "cell_type": "code",
   "execution_count": null,
   "id": "0cea044e",
   "metadata": {
    "ExecuteTime": {
     "start_time": "2021-06-15T01:13:01.687Z"
    },
    "papermill": {
     "duration": 0.04174,
     "end_time": "2021-06-08T05:40:19.818678",
     "exception": false,
     "start_time": "2021-06-08T05:40:19.776938",
     "status": "completed"
    },
    "tags": []
   },
   "outputs": [],
   "source": [
    "optimizer.max['params']"
   ]
  },
  {
   "cell_type": "code",
   "execution_count": null,
   "id": "64d1cb27",
   "metadata": {
    "ExecuteTime": {
     "start_time": "2021-06-15T01:13:01.851Z"
    },
    "papermill": {
     "duration": 0.042407,
     "end_time": "2021-06-08T05:40:19.893920",
     "exception": false,
     "start_time": "2021-06-08T05:40:19.851513",
     "status": "completed"
    },
    "tags": []
   },
   "outputs": [],
   "source": [
    "lgb_params = {        \n",
    "                    'objective':'binary',\n",
    "                    'boosting_type':'gbdt',\n",
    "                    'metric':'auc',\n",
    "                    'n_jobs':-1,\n",
    "                    'learning_rate':0.05,\n",
    "                    'num_leaves': int(optimizer.max['params']['num_leaves']), \n",
    "                    'max_depth':-1,\n",
    "                    'tree_learner':'serial',\n",
    "                    'colsample_bytree' : optimizer.max['params']['colsample_bytree'],\n",
    "                    'subsample_freq':1,\n",
    "                    'subsample' : optimizer.max['params']['subsample'],\n",
    "                    'n_estimators':10000,\n",
    "                    'max_bin':int(optimizer.max['params']['max_bin']),\n",
    "                    'verbose':-1,\n",
    "                    'seed': SEED,\n",
    "                    #'early_stopping_rounds':100, \n",
    "    \n",
    "}"
   ]
  },
  {
   "cell_type": "code",
   "execution_count": null,
   "id": "2e910e9b-d73b-4d9f-8200-476709fa05d2",
   "metadata": {},
   "outputs": [],
   "source": []
  },
  {
   "cell_type": "code",
   "execution_count": null,
   "id": "41a1b91c-6800-41ea-b05e-c43e9f0b2009",
   "metadata": {},
   "outputs": [],
   "source": []
  },
  {
   "cell_type": "code",
   "execution_count": null,
   "id": "966b7ebf",
   "metadata": {
    "ExecuteTime": {
     "start_time": "2021-06-15T01:13:02.046Z"
    },
    "papermill": {
     "duration": 0.0731,
     "end_time": "2021-06-08T05:40:20.000120",
     "exception": false,
     "start_time": "2021-06-08T05:40:19.927020",
     "status": "completed"
    },
    "tags": []
   },
   "outputs": [],
   "source": [
    "y_train = train.pop('loan_status')\n",
    "y_test = test.pop('loan_status')\n",
    "train.reset_index(drop=True, inplace=True)\n",
    "test.reset_index(drop=True, inplace=True)\n",
    "y_train.reset_index(drop=True, inplace=True)\n",
    "y_test.reset_index(drop=True, inplace=True)"
   ]
  },
  {
   "cell_type": "code",
   "execution_count": null,
   "id": "9ec4f0d2-9615-416a-b899-49ee0c259816",
   "metadata": {},
   "outputs": [],
   "source": []
  },
  {
   "cell_type": "code",
   "execution_count": null,
   "id": "861ec7cd",
   "metadata": {
    "ExecuteTime": {
     "start_time": "2021-06-15T01:13:02.286Z"
    },
    "papermill": {
     "duration": 0.041929,
     "end_time": "2021-06-08T05:40:20.075491",
     "exception": false,
     "start_time": "2021-06-08T05:40:20.033562",
     "status": "completed"
    },
    "tags": []
   },
   "outputs": [],
   "source": [
    "remove_features = ['earliest_cr_line', 'issue_d', 'last_credit_pull_d', 'last_pymnt_d', 'next_pymnt_d',\n",
    "                  'initial_list_status','out_prncp','out_prncp_inv','total_pymnt','total_pymnt_inv','total_rec_prncp','total_rec_int','total_rec_late_fee',\n",
    "                   'recoveries','collection_recovery_fee','last_pymnt_amnt','last_fico_range_high','last_fico_range_low' , 'id', 'loan_status' , 'issue_year']\n",
    "features  = [col for col in list(train) if col not in remove_features]"
   ]
  },
  {
   "cell_type": "code",
   "execution_count": null,
   "id": "3b8ac67d-e07c-4679-80a7-4774cd6aff15",
   "metadata": {},
   "outputs": [],
   "source": []
  },
  {
   "cell_type": "code",
   "execution_count": null,
   "id": "d7c79e8f-1dbd-4b10-bcec-a4227ef251cb",
   "metadata": {},
   "outputs": [],
   "source": []
  },
  {
   "cell_type": "code",
   "execution_count": null,
   "id": "e950b4fd",
   "metadata": {
    "ExecuteTime": {
     "start_time": "2021-06-15T01:13:02.736Z"
    },
    "papermill": {
     "duration": 0.047945,
     "end_time": "2021-06-08T05:40:20.157344",
     "exception": false,
     "start_time": "2021-06-08T05:40:20.109399",
     "status": "completed"
    },
    "tags": []
   },
   "outputs": [],
   "source": [
    "def make_lgb_prediction(train, y, test, features, categorical_features='auto', model_params=None, folds=5):\n",
    "#     def lgb_f1_score(y_hat, data):\n",
    "#         y_true = data.get_label()\n",
    "#         y_hat = np.round(y_hat) \n",
    "#         return 'f1', f1_score(y_true, y_hat, average='binary'), True\n",
    "    \n",
    "    skf = KFold(n_splits=folds, random_state=SEED, shuffle=True)\n",
    "    folds = 5\n",
    "    x_train = train[features]\n",
    "    x_test = test[features]\n",
    "\n",
    "    y_preds = np.zeros(x_test.shape[0])\n",
    "    y_oof = np.zeros(x_train.shape[0])\n",
    "    score = 0\n",
    "    split_groups = train['issue_year']\n",
    "    feature_importance = pd.DataFrame()\n",
    "    \n",
    "\n",
    "    for fold, (tr_idx, val_idx) in enumerate(skf.split(x_train, y)):\n",
    "        print(f'Fold: {fold+1}')\n",
    "\n",
    "        x_tr, x_val = x_train.loc[tr_idx, features], x_train.loc[val_idx, features]\n",
    "        y_tr, y_val = y[tr_idx], y[val_idx]\n",
    "\n",
    "        print(x_tr.shape, x_val.shape)\n",
    "\n",
    "        dtrain = lgb.Dataset(x_tr, label=y_tr)\n",
    "        dvalid = lgb.Dataset(x_val, label=y_val)\n",
    "\n",
    "        clf = lgb.train(\n",
    "            model_params,\n",
    "            dtrain,\n",
    "            valid_sets=[dtrain, dvalid],\n",
    "            categorical_feature=categorical_features,\n",
    "            verbose_eval=200,\n",
    "            early_stopping_rounds=100,\n",
    "#             feval=lgb_f1_score\n",
    "        )\n",
    "\n",
    "        fold_importance_df = pd.DataFrame()\n",
    "        fold_importance_df[\"Feature\"] = features\n",
    "        fold_importance_df[\"importance\"] = clf.feature_importance()\n",
    "        fold_importance_df[\"fold\"] = fold + 1\n",
    "        feature_importance = pd.concat([feature_importance, fold_importance_df], axis=0)\n",
    "        \n",
    "        y_pred_val = clf.predict(x_val)\n",
    "\n",
    "        y_oof[val_idx] = y_pred_val\n",
    "        print(f\"Fold {fold + 1} | AUC Score: {roc_auc_score(y_val, y_pred_val)}\")\n",
    "\n",
    "        score += roc_auc_score(y_val, y_pred_val) / folds\n",
    "        y_preds += clf.predict(x_test) / folds\n",
    "\n",
    "        del x_tr, x_val, y_tr, y_val\n",
    "        gc.collect()\n",
    "\n",
    "    print(f\"\\nMean AUC score = {score}\")\n",
    "    print(f\"OOF AUC score = {roc_auc_score(y, y_oof)}\")\n",
    "    \n",
    "    return y_oof, y_preds, feature_importance"
   ]
  },
  {
   "cell_type": "code",
   "execution_count": null,
   "id": "0c28aca3",
   "metadata": {
    "ExecuteTime": {
     "start_time": "2021-06-15T01:13:03.066Z"
    },
    "papermill": {
     "duration": 1717.53714,
     "end_time": "2021-06-08T06:08:57.728405",
     "exception": false,
     "start_time": "2021-06-08T05:40:20.191265",
     "status": "completed"
    },
    "tags": []
   },
   "outputs": [],
   "source": [
    "y_oof_lgb, y_preds_lgb, fi_lgb = make_lgb_prediction(train, y_train, test, features, model_params=lgb_params)"
   ]
  },
  {
   "cell_type": "code",
   "execution_count": null,
   "id": "4c23334c",
   "metadata": {
    "ExecuteTime": {
     "start_time": "2021-06-15T01:13:03.741Z"
    },
    "papermill": {
     "duration": 0.068005,
     "end_time": "2021-06-08T06:08:57.833121",
     "exception": false,
     "start_time": "2021-06-08T06:08:57.765116",
     "status": "completed"
    },
    "tags": []
   },
   "outputs": [],
   "source": [
    "print(f\"TEST AUC score = {roc_auc_score(answer['loan_status'], y_preds_lgb)}\")"
   ]
  },
  {
   "cell_type": "code",
   "execution_count": null,
   "id": "e05756c6-69ce-4d92-876f-e274d0639894",
   "metadata": {},
   "outputs": [],
   "source": []
  },
  {
   "cell_type": "code",
   "execution_count": null,
   "id": "da4c9536-bed0-4526-b359-73d57e106686",
   "metadata": {},
   "outputs": [],
   "source": []
  },
  {
   "cell_type": "markdown",
   "id": "877622a0",
   "metadata": {
    "papermill": {
     "duration": 0.055903,
     "end_time": "2021-06-08T06:08:57.945324",
     "exception": false,
     "start_time": "2021-06-08T06:08:57.889421",
     "status": "completed"
    },
    "tags": []
   },
   "source": [
    "## Feature Importance"
   ]
  },
  {
   "cell_type": "code",
   "execution_count": null,
   "id": "80cfe9ba",
   "metadata": {
    "ExecuteTime": {
     "start_time": "2021-06-15T01:13:04.521Z"
    },
    "papermill": {
     "duration": 4.085268,
     "end_time": "2021-06-08T06:09:02.086284",
     "exception": false,
     "start_time": "2021-06-08T06:08:58.001016",
     "status": "completed"
    },
    "tags": []
   },
   "outputs": [],
   "source": [
    "cols = (fi_lgb[[\"Feature\", \"importance\"]]\n",
    "        .groupby(\"Feature\")\n",
    "        .mean()\n",
    "        .sort_values(by=\"importance\", ascending=False)[:150].index)\n",
    "best_features = fi_lgb.loc[fi_lgb.Feature.isin(cols)]\n",
    "\n",
    "plt.figure(figsize=(14,28))\n",
    "sns.barplot(x=\"importance\", y=\"Feature\", data=best_features.sort_values(by=\"importance\",ascending=False))\n",
    "plt.title('Features importance (averaged/folds)')\n",
    "plt.tight_layout()\n",
    "plt.savefig('FI.png')"
   ]
  },
  {
   "cell_type": "code",
   "execution_count": null,
   "id": "44f893c1",
   "metadata": {
    "papermill": {
     "duration": 0.04018,
     "end_time": "2021-06-08T06:09:02.166736",
     "exception": false,
     "start_time": "2021-06-08T06:09:02.126556",
     "status": "completed"
    },
    "tags": []
   },
   "outputs": [],
   "source": []
  },
  {
   "cell_type": "code",
   "execution_count": null,
   "id": "fa1d709c-1563-4823-8fc0-382c78701435",
   "metadata": {},
   "outputs": [],
   "source": []
  },
  {
   "cell_type": "code",
   "execution_count": null,
   "id": "aeeee9ed-fea1-4562-aa07-e32e9a523cea",
   "metadata": {},
   "outputs": [],
   "source": []
  },
  {
   "cell_type": "code",
   "execution_count": null,
   "id": "7f3b1fb9-7b94-42c5-94c1-ac3158023da5",
   "metadata": {},
   "outputs": [],
   "source": []
  },
  {
   "cell_type": "code",
   "execution_count": null,
   "id": "63f50adb-8a89-44de-80ac-66cb4f3a6fbd",
   "metadata": {},
   "outputs": [],
   "source": []
  },
  {
   "cell_type": "code",
   "execution_count": null,
   "id": "5f5bc607-6acc-43f0-9e8c-e7290668a2a0",
   "metadata": {},
   "outputs": [],
   "source": []
  }
 ],
 "metadata": {
  "hide_input": false,
  "kernelspec": {
   "display_name": "Python 3 (ipykernel)",
   "language": "python",
   "name": "python3"
  },
  "language_info": {
   "codemirror_mode": {
    "name": "ipython",
    "version": 3
   },
   "file_extension": ".py",
   "mimetype": "text/x-python",
   "name": "python",
   "nbconvert_exporter": "python",
   "pygments_lexer": "ipython3",
   "version": "3.9.16"
  },
  "papermill": {
   "default_parameters": {},
   "duration": 6362.5032,
   "end_time": "2021-06-08T06:09:03.116728",
   "environment_variables": {},
   "exception": null,
   "input_path": "__notebook__.ipynb",
   "output_path": "__notebook__.ipynb",
   "parameters": {},
   "start_time": "2021-06-08T04:23:00.613528",
   "version": "2.3.3"
  }
 },
 "nbformat": 4,
 "nbformat_minor": 5
}
