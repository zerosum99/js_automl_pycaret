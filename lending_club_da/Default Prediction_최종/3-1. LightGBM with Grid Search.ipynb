{
 "cells": [
  {
   "cell_type": "markdown",
   "metadata": {},
   "source": [
    "### 0. Data Load"
   ]
  },
  {
   "cell_type": "code",
   "execution_count": 4,
   "metadata": {
    "ExecuteTime": {
     "end_time": "2021-06-14T04:23:33.939179Z",
     "start_time": "2021-06-14T04:23:33.935165Z"
    },
    "execution": {
     "iopub.execute_input": "2021-06-11T04:07:36.482876Z",
     "iopub.status.busy": "2021-06-11T04:07:36.482568Z",
     "iopub.status.idle": "2021-06-11T04:07:36.490622Z",
     "shell.execute_reply": "2021-06-11T04:07:36.489579Z",
     "shell.execute_reply.started": "2021-06-11T04:07:36.482841Z"
    }
   },
   "outputs": [],
   "source": [
    "import warnings\n",
    "warnings.filterwarnings('ignore')\n",
    "\n",
    "import os, sys, gc, warnings, random, datetime\n",
    "\n",
    "import pandas as pd\n",
    "import numpy as np\n",
    "\n",
    "from sklearn.preprocessing import LabelEncoder\n",
    "from sklearn.metrics import roc_auc_score, f1_score, precision_recall_curve, accuracy_score\n",
    "from sklearn.model_selection import KFold, StratifiedKFold , GroupKFold\n",
    "\n",
    "import lightgbm as lgb\n",
    "\n",
    "from matplotlib import pyplot as plt\n",
    "import seaborn as sns\n",
    "\n",
    "from IPython.display import display\n",
    "\n",
    "from sklearn import metrics\n",
    "from sklearn.model_selection import train_test_split, GridSearchCV\n",
    "\n",
    "\n",
    "pd.set_option('display.max_columns', 200)"
   ]
  },
  {
   "cell_type": "code",
   "execution_count": 5,
   "metadata": {
    "ExecuteTime": {
     "end_time": "2021-06-14T04:23:44.022349Z",
     "start_time": "2021-06-14T04:23:43.022241Z"
    },
    "execution": {
     "iopub.execute_input": "2021-06-11T04:08:06.538674Z",
     "iopub.status.busy": "2021-06-11T04:08:06.538162Z",
     "iopub.status.idle": "2021-06-11T04:08:15.877603Z",
     "shell.execute_reply": "2021-06-11T04:08:15.876741Z",
     "shell.execute_reply.started": "2021-06-11T04:08:06.538643Z"
    }
   },
   "outputs": [],
   "source": [
    "df = pd.read_pickle('/home/work/toy-project/data/lgb_selected.pkl')"
   ]
  },
  {
   "cell_type": "markdown",
   "metadata": {},
   "source": [
    "#### Train (Before Year 2018) & Test (Year 2018) for Prediction"
   ]
  },
  {
   "cell_type": "code",
   "execution_count": 6,
   "metadata": {
    "ExecuteTime": {
     "end_time": "2021-06-14T04:23:53.283023Z",
     "start_time": "2021-06-14T04:23:52.966728Z"
    },
    "execution": {
     "iopub.execute_input": "2021-06-11T04:08:25.204711Z",
     "iopub.status.busy": "2021-06-11T04:08:25.204222Z",
     "iopub.status.idle": "2021-06-11T04:08:25.632902Z",
     "shell.execute_reply": "2021-06-11T04:08:25.632148Z",
     "shell.execute_reply.started": "2021-06-11T04:08:25.204681Z"
    }
   },
   "outputs": [],
   "source": [
    "df['issue_d'] = pd.to_datetime(df['issue_d'])\n",
    "df['issue_year'] = df['issue_d'].dt.year"
   ]
  },
  {
   "cell_type": "code",
   "execution_count": 7,
   "metadata": {
    "ExecuteTime": {
     "end_time": "2021-06-14T04:23:56.734437Z",
     "start_time": "2021-06-14T04:23:56.336860Z"
    },
    "execution": {
     "iopub.execute_input": "2021-06-11T04:08:31.261824Z",
     "iopub.status.busy": "2021-06-11T04:08:31.261323Z",
     "iopub.status.idle": "2021-06-11T04:08:31.773694Z",
     "shell.execute_reply": "2021-06-11T04:08:31.772670Z",
     "shell.execute_reply.started": "2021-06-11T04:08:31.261781Z"
    }
   },
   "outputs": [],
   "source": [
    "train = df[df['issue_year'] != 2018]\n",
    "test = df[df['issue_year'] == 2018]\n",
    "\n",
    "train.reset_index(drop=True, inplace=True)\n",
    "test.reset_index(drop=True, inplace=True)\n",
    "\n",
    "answer = test['loan_status']"
   ]
  },
  {
   "cell_type": "code",
   "execution_count": 8,
   "metadata": {
    "ExecuteTime": {
     "end_time": "2021-06-14T04:23:58.818864Z",
     "start_time": "2021-06-14T04:23:58.349791Z"
    },
    "execution": {
     "iopub.execute_input": "2021-06-11T04:08:39.655718Z",
     "iopub.status.busy": "2021-06-11T04:08:39.655346Z",
     "iopub.status.idle": "2021-06-11T04:08:40.223949Z",
     "shell.execute_reply": "2021-06-11T04:08:40.222948Z",
     "shell.execute_reply.started": "2021-06-11T04:08:39.655684Z"
    }
   },
   "outputs": [
    {
     "name": "stdout",
     "output_type": "stream",
     "text": [
      "(1314290, 63)\n",
      "(1314290,)\n"
     ]
    }
   ],
   "source": [
    "# Load Data with selected features\n",
    "X = train.copy()\n",
    "# Labels\n",
    "y = train['loan_status']\n",
    "\n",
    "# Remove Labels from Dataframe\n",
    "X.drop(['loan_status'], axis = 1, inplace = True)\n",
    "# Final Data Shapes\n",
    "print(X.shape)\n",
    "print(y.shape)"
   ]
  },
  {
   "cell_type": "markdown",
   "metadata": {},
   "source": [
    "#### Train(Before year 2017) & Test(Year 2018) for Optimization"
   ]
  },
  {
   "cell_type": "code",
   "execution_count": 9,
   "metadata": {
    "ExecuteTime": {
     "end_time": "2021-06-14T04:24:03.208751Z",
     "start_time": "2021-06-14T04:24:02.886961Z"
    },
    "execution": {
     "iopub.execute_input": "2021-06-11T04:08:55.958486Z",
     "iopub.status.busy": "2021-06-11T04:08:55.958145Z",
     "iopub.status.idle": "2021-06-11T04:08:56.260395Z",
     "shell.execute_reply": "2021-06-11T04:08:56.259454Z",
     "shell.execute_reply.started": "2021-06-11T04:08:55.958458Z"
    }
   },
   "outputs": [],
   "source": [
    "ttrain = train[train['issue_year'] != 2017]\n",
    "ttest = train[train['issue_year'] == 2017]"
   ]
  },
  {
   "cell_type": "code",
   "execution_count": 10,
   "metadata": {
    "ExecuteTime": {
     "end_time": "2021-06-14T04:24:05.042021Z",
     "start_time": "2021-06-14T04:24:03.287169Z"
    },
    "execution": {
     "iopub.execute_input": "2021-06-11T04:09:02.655122Z",
     "iopub.status.busy": "2021-06-11T04:09:02.654770Z",
     "iopub.status.idle": "2021-06-11T04:09:03.214617Z",
     "shell.execute_reply": "2021-06-11T04:09:03.213717Z",
     "shell.execute_reply.started": "2021-06-11T04:09:02.655089Z"
    }
   },
   "outputs": [],
   "source": [
    "X_train = ttrain.copy()\n",
    "y_train = ttrain['loan_status']\n",
    "X_train.drop(['loan_status'], axis = 1, inplace = True)\n",
    "\n",
    "X_test = ttest.copy()\n",
    "y_test = ttest['loan_status']\n",
    "X_test.drop(['loan_status'], axis = 1, inplace = True)"
   ]
  },
  {
   "cell_type": "code",
   "execution_count": 11,
   "metadata": {
    "ExecuteTime": {
     "end_time": "2021-06-14T04:24:05.189783Z",
     "start_time": "2021-06-14T04:24:05.185744Z"
    },
    "execution": {
     "iopub.execute_input": "2021-06-11T04:09:08.706601Z",
     "iopub.status.busy": "2021-06-11T04:09:08.706198Z",
     "iopub.status.idle": "2021-06-11T04:09:08.712059Z",
     "shell.execute_reply": "2021-06-11T04:09:08.711248Z",
     "shell.execute_reply.started": "2021-06-11T04:09:08.706566Z"
    }
   },
   "outputs": [],
   "source": [
    "remove_features = ['earliest_cr_line', 'issue_d', 'last_credit_pull_d', 'last_pymnt_d', 'next_pymnt_d',\n",
    "                  'initial_list_status','out_prncp','out_prncp_inv','total_pymnt','total_pymnt_inv','total_rec_prncp','total_rec_int','total_rec_late_fee',\n",
    "                   'recoveries','collection_recovery_fee','last_pymnt_amnt','last_fico_range_high','last_fico_range_low' , 'id', 'loan_status' , 'issue_year' ]\n",
    "features  = [col for col in list(train) if col not in remove_features]"
   ]
  },
  {
   "cell_type": "markdown",
   "metadata": {},
   "source": [
    "### Grid Search"
   ]
  },
  {
   "cell_type": "markdown",
   "metadata": {},
   "source": [
    "#### (1) Initiate a model"
   ]
  },
  {
   "cell_type": "code",
   "execution_count": 12,
   "metadata": {
    "ExecuteTime": {
     "end_time": "2021-06-14T04:24:10.191509Z",
     "start_time": "2021-06-14T04:24:10.183705Z"
    },
    "execution": {
     "iopub.execute_input": "2021-06-11T04:09:40.960639Z",
     "iopub.status.busy": "2021-06-11T04:09:40.960054Z",
     "iopub.status.idle": "2021-06-11T04:09:40.971081Z",
     "shell.execute_reply": "2021-06-11T04:09:40.970137Z",
     "shell.execute_reply.started": "2021-06-11T04:09:40.960606Z"
    }
   },
   "outputs": [
    {
     "data": {
      "text/plain": [
       "dict_keys(['boosting_type', 'class_weight', 'colsample_bytree', 'importance_type', 'learning_rate', 'max_depth', 'min_child_samples', 'min_child_weight', 'min_split_gain', 'n_estimators', 'n_jobs', 'num_leaves', 'objective', 'random_state', 'reg_alpha', 'reg_lambda', 'silent', 'subsample', 'subsample_for_bin', 'subsample_freq', 'max_bin'])"
      ]
     },
     "execution_count": 12,
     "metadata": {},
     "output_type": "execute_result"
    }
   ],
   "source": [
    "params = {\n",
    "    'application': 'binary',\n",
    "    'boosting': 'gbdt', \n",
    "    'num_iterations': 100, \n",
    "    'learning_rate': 0.05,\n",
    "    'num_leaves': 62,\n",
    "    'max_depth': -1,\n",
    "    'max_bin': 510, \n",
    "    'lambda_l1': 5, \n",
    "    'lambda_l2': 10, \n",
    "    'metric' : 'binary_error',\n",
    "    'subsample_for_bin': 200,\n",
    "    'subsample': 1,\n",
    "    'colsample_bytree': 0.8, \n",
    "    'min_split_gain': 0.5, \n",
    "    'min_child_weight': 1, \n",
    "    'min_child_samples': 5\n",
    "}\n",
    "\n",
    "mdl = lgb.LGBMClassifier(boosting_type= 'gbdt', \n",
    "          objective = 'binary', \n",
    "          n_jobs = 5, \n",
    "          silent = True,\n",
    "          max_depth = params['max_depth'],\n",
    "          max_bin = params['max_bin'], \n",
    "          subsample_for_bin = params['subsample_for_bin'],\n",
    "          subsample = params['subsample'], \n",
    "          min_split_gain = params['min_split_gain'], \n",
    "          min_child_weight = params['min_child_weight'], \n",
    "          min_child_samples = params['min_child_samples'])\n",
    "\n",
    "mdl.get_params().keys()"
   ]
  },
  {
   "cell_type": "code",
   "execution_count": 13,
   "metadata": {
    "ExecuteTime": {
     "end_time": "2021-06-14T10:22:36.756477Z",
     "start_time": "2021-06-14T04:24:40.280046Z"
    }
   },
   "outputs": [
    {
     "name": "stdout",
     "output_type": "stream",
     "text": [
      "Fitting 4 folds for each of 32 candidates, totalling 128 fits\n",
      "[LightGBM] [Warning] bagging_fraction is set=0.6, subsample=1 will be ignored. Current value: bagging_fraction=0.6\n",
      "[1]\tvalid_0's auc: 0.750068\tvalid_0's binary_logloss: 0.485556\tvalid_1's auc: 0.710997\tvalid_1's binary_logloss: 0.575477\n",
      "Training until validation scores don't improve for 100 rounds\n",
      "[2]\tvalid_0's auc: 0.752822\tvalid_0's binary_logloss: 0.47316\tvalid_1's auc: 0.71495\tvalid_1's binary_logloss: 0.562778\n",
      "[3]\tvalid_0's auc: 0.754143\tvalid_0's binary_logloss: 0.463625\tvalid_1's auc: 0.717379\tvalid_1's binary_logloss: 0.553078\n",
      "[4]\tvalid_0's auc: 0.755177\tvalid_0's binary_logloss: 0.455969\tvalid_1's auc: 0.718774\tvalid_1's binary_logloss: 0.545397\n",
      "[5]\tvalid_0's auc: 0.755885\tvalid_0's binary_logloss: 0.449683\tvalid_1's auc: 0.719624\tvalid_1's binary_logloss: 0.539243\n",
      "[6]\tvalid_0's auc: 0.756593\tvalid_0's binary_logloss: 0.44442\tvalid_1's auc: 0.720341\tvalid_1's binary_logloss: 0.534156\n",
      "[7]\tvalid_0's auc: 0.757202\tvalid_0's binary_logloss: 0.439985\tvalid_1's auc: 0.720878\tvalid_1's binary_logloss: 0.529819\n",
      "[8]\tvalid_0's auc: 0.757674\tvalid_0's binary_logloss: 0.436238\tvalid_1's auc: 0.72122\tvalid_1's binary_logloss: 0.526423\n",
      "[9]\tvalid_0's auc: 0.758237\tvalid_0's binary_logloss: 0.433008\tvalid_1's auc: 0.72211\tvalid_1's binary_logloss: 0.523375\n",
      "[10]\tvalid_0's auc: 0.758757\tvalid_0's binary_logloss: 0.430212\tvalid_1's auc: 0.722644\tvalid_1's binary_logloss: 0.520787\n",
      "[11]\tvalid_0's auc: 0.759363\tvalid_0's binary_logloss: 0.427782\tvalid_1's auc: 0.723126\tvalid_1's binary_logloss: 0.518689\n",
      "[12]\tvalid_0's auc: 0.759918\tvalid_0's binary_logloss: 0.425676\tvalid_1's auc: 0.723625\tvalid_1's binary_logloss: 0.516848\n",
      "[13]\tvalid_0's auc: 0.760427\tvalid_0's binary_logloss: 0.423819\tvalid_1's auc: 0.724136\tvalid_1's binary_logloss: 0.51517\n",
      "[14]\tvalid_0's auc: 0.760949\tvalid_0's binary_logloss: 0.422171\tvalid_1's auc: 0.724721\tvalid_1's binary_logloss: 0.513711\n",
      "[15]\tvalid_0's auc: 0.761509\tvalid_0's binary_logloss: 0.420711\tvalid_1's auc: 0.7255\tvalid_1's binary_logloss: 0.512324\n",
      "[16]\tvalid_0's auc: 0.761963\tvalid_0's binary_logloss: 0.419421\tvalid_1's auc: 0.725957\tvalid_1's binary_logloss: 0.511177\n",
      "[17]\tvalid_0's auc: 0.76246\tvalid_0's binary_logloss: 0.418268\tvalid_1's auc: 0.72648\tvalid_1's binary_logloss: 0.510224\n",
      "[18]\tvalid_0's auc: 0.762893\tvalid_0's binary_logloss: 0.41723\tvalid_1's auc: 0.727011\tvalid_1's binary_logloss: 0.509246\n",
      "[19]\tvalid_0's auc: 0.763413\tvalid_0's binary_logloss: 0.416277\tvalid_1's auc: 0.727514\tvalid_1's binary_logloss: 0.50847\n",
      "[20]\tvalid_0's auc: 0.763891\tvalid_0's binary_logloss: 0.415408\tvalid_1's auc: 0.727873\tvalid_1's binary_logloss: 0.50784\n",
      "[21]\tvalid_0's auc: 0.764387\tvalid_0's binary_logloss: 0.414628\tvalid_1's auc: 0.728299\tvalid_1's binary_logloss: 0.507226\n",
      "[22]\tvalid_0's auc: 0.764842\tvalid_0's binary_logloss: 0.4139\tvalid_1's auc: 0.728855\tvalid_1's binary_logloss: 0.506548\n",
      "[23]\tvalid_0's auc: 0.765327\tvalid_0's binary_logloss: 0.413246\tvalid_1's auc: 0.729365\tvalid_1's binary_logloss: 0.50597\n",
      "[24]\tvalid_0's auc: 0.765695\tvalid_0's binary_logloss: 0.41266\tvalid_1's auc: 0.729672\tvalid_1's binary_logloss: 0.505531\n",
      "[25]\tvalid_0's auc: 0.766098\tvalid_0's binary_logloss: 0.412124\tvalid_1's auc: 0.729997\tvalid_1's binary_logloss: 0.505093\n",
      "[26]\tvalid_0's auc: 0.766502\tvalid_0's binary_logloss: 0.411597\tvalid_1's auc: 0.730493\tvalid_1's binary_logloss: 0.50455\n",
      "[27]\tvalid_0's auc: 0.766955\tvalid_0's binary_logloss: 0.411108\tvalid_1's auc: 0.730895\tvalid_1's binary_logloss: 0.504163\n",
      "[28]\tvalid_0's auc: 0.767356\tvalid_0's binary_logloss: 0.410644\tvalid_1's auc: 0.73133\tvalid_1's binary_logloss: 0.503716\n",
      "[29]\tvalid_0's auc: 0.76778\tvalid_0's binary_logloss: 0.410212\tvalid_1's auc: 0.731807\tvalid_1's binary_logloss: 0.503263\n",
      "[30]\tvalid_0's auc: 0.76823\tvalid_0's binary_logloss: 0.409789\tvalid_1's auc: 0.73219\tvalid_1's binary_logloss: 0.502937\n",
      "[31]\tvalid_0's auc: 0.768657\tvalid_0's binary_logloss: 0.409405\tvalid_1's auc: 0.732569\tvalid_1's binary_logloss: 0.502658\n",
      "[32]\tvalid_0's auc: 0.769025\tvalid_0's binary_logloss: 0.409045\tvalid_1's auc: 0.73297\tvalid_1's binary_logloss: 0.502296\n",
      "[33]\tvalid_0's auc: 0.769449\tvalid_0's binary_logloss: 0.408676\tvalid_1's auc: 0.733422\tvalid_1's binary_logloss: 0.501936\n",
      "[34]\tvalid_0's auc: 0.769841\tvalid_0's binary_logloss: 0.408346\tvalid_1's auc: 0.733801\tvalid_1's binary_logloss: 0.501663\n",
      "[35]\tvalid_0's auc: 0.770197\tvalid_0's binary_logloss: 0.408038\tvalid_1's auc: 0.734309\tvalid_1's binary_logloss: 0.501244\n",
      "[36]\tvalid_0's auc: 0.77049\tvalid_0's binary_logloss: 0.40776\tvalid_1's auc: 0.734556\tvalid_1's binary_logloss: 0.501035\n",
      "[37]\tvalid_0's auc: 0.770875\tvalid_0's binary_logloss: 0.407459\tvalid_1's auc: 0.734918\tvalid_1's binary_logloss: 0.500783\n",
      "[38]\tvalid_0's auc: 0.771256\tvalid_0's binary_logloss: 0.407174\tvalid_1's auc: 0.735217\tvalid_1's binary_logloss: 0.500582\n",
      "[39]\tvalid_0's auc: 0.77158\tvalid_0's binary_logloss: 0.406915\tvalid_1's auc: 0.735506\tvalid_1's binary_logloss: 0.500357\n",
      "[40]\tvalid_0's auc: 0.771926\tvalid_0's binary_logloss: 0.406665\tvalid_1's auc: 0.735831\tvalid_1's binary_logloss: 0.500131\n",
      "[41]\tvalid_0's auc: 0.772269\tvalid_0's binary_logloss: 0.406422\tvalid_1's auc: 0.736124\tvalid_1's binary_logloss: 0.499877\n",
      "[42]\tvalid_0's auc: 0.772595\tvalid_0's binary_logloss: 0.406186\tvalid_1's auc: 0.73631\tvalid_1's binary_logloss: 0.499746\n",
      "[43]\tvalid_0's auc: 0.772943\tvalid_0's binary_logloss: 0.405948\tvalid_1's auc: 0.736583\tvalid_1's binary_logloss: 0.499555\n",
      "[44]\tvalid_0's auc: 0.773306\tvalid_0's binary_logloss: 0.405711\tvalid_1's auc: 0.73686\tvalid_1's binary_logloss: 0.49938\n",
      "[45]\tvalid_0's auc: 0.773601\tvalid_0's binary_logloss: 0.405501\tvalid_1's auc: 0.73707\tvalid_1's binary_logloss: 0.499259\n",
      "[46]\tvalid_0's auc: 0.773933\tvalid_0's binary_logloss: 0.405281\tvalid_1's auc: 0.737389\tvalid_1's binary_logloss: 0.499045\n",
      "[47]\tvalid_0's auc: 0.774248\tvalid_0's binary_logloss: 0.405075\tvalid_1's auc: 0.737671\tvalid_1's binary_logloss: 0.498877\n",
      "[48]\tvalid_0's auc: 0.774552\tvalid_0's binary_logloss: 0.404878\tvalid_1's auc: 0.737887\tvalid_1's binary_logloss: 0.498744\n",
      "[49]\tvalid_0's auc: 0.774847\tvalid_0's binary_logloss: 0.404687\tvalid_1's auc: 0.73816\tvalid_1's binary_logloss: 0.498568\n",
      "[50]\tvalid_0's auc: 0.775102\tvalid_0's binary_logloss: 0.404507\tvalid_1's auc: 0.738303\tvalid_1's binary_logloss: 0.498446\n",
      "[51]\tvalid_0's auc: 0.775451\tvalid_0's binary_logloss: 0.404297\tvalid_1's auc: 0.738587\tvalid_1's binary_logloss: 0.498266\n",
      "[52]\tvalid_0's auc: 0.77576\tvalid_0's binary_logloss: 0.404101\tvalid_1's auc: 0.738818\tvalid_1's binary_logloss: 0.4981\n",
      "[53]\tvalid_0's auc: 0.775995\tvalid_0's binary_logloss: 0.403944\tvalid_1's auc: 0.739027\tvalid_1's binary_logloss: 0.497945\n",
      "[54]\tvalid_0's auc: 0.776318\tvalid_0's binary_logloss: 0.403748\tvalid_1's auc: 0.739323\tvalid_1's binary_logloss: 0.497748\n",
      "[55]\tvalid_0's auc: 0.776624\tvalid_0's binary_logloss: 0.403566\tvalid_1's auc: 0.739486\tvalid_1's binary_logloss: 0.497664\n",
      "[56]\tvalid_0's auc: 0.776913\tvalid_0's binary_logloss: 0.403384\tvalid_1's auc: 0.739721\tvalid_1's binary_logloss: 0.497525\n",
      "[57]\tvalid_0's auc: 0.777145\tvalid_0's binary_logloss: 0.403237\tvalid_1's auc: 0.739882\tvalid_1's binary_logloss: 0.497415\n",
      "[58]\tvalid_0's auc: 0.777386\tvalid_0's binary_logloss: 0.403086\tvalid_1's auc: 0.740008\tvalid_1's binary_logloss: 0.497332\n",
      "[59]\tvalid_0's auc: 0.777645\tvalid_0's binary_logloss: 0.402921\tvalid_1's auc: 0.740158\tvalid_1's binary_logloss: 0.497233\n",
      "[60]\tvalid_0's auc: 0.777884\tvalid_0's binary_logloss: 0.402772\tvalid_1's auc: 0.740271\tvalid_1's binary_logloss: 0.497184\n",
      "[61]\tvalid_0's auc: 0.778138\tvalid_0's binary_logloss: 0.402612\tvalid_1's auc: 0.740475\tvalid_1's binary_logloss: 0.497062\n",
      "[62]\tvalid_0's auc: 0.778447\tvalid_0's binary_logloss: 0.402423\tvalid_1's auc: 0.740678\tvalid_1's binary_logloss: 0.496933\n",
      "[63]\tvalid_0's auc: 0.778717\tvalid_0's binary_logloss: 0.402262\tvalid_1's auc: 0.740828\tvalid_1's binary_logloss: 0.496846\n",
      "[64]\tvalid_0's auc: 0.778938\tvalid_0's binary_logloss: 0.402123\tvalid_1's auc: 0.740947\tvalid_1's binary_logloss: 0.496774\n",
      "[65]\tvalid_0's auc: 0.779154\tvalid_0's binary_logloss: 0.401987\tvalid_1's auc: 0.741051\tvalid_1's binary_logloss: 0.496718\n",
      "[66]\tvalid_0's auc: 0.779385\tvalid_0's binary_logloss: 0.401834\tvalid_1's auc: 0.741128\tvalid_1's binary_logloss: 0.496679\n"
     ]
    },
    {
     "name": "stdout",
     "output_type": "stream",
     "text": [
      "[67]\tvalid_0's auc: 0.77963\tvalid_0's binary_logloss: 0.401693\tvalid_1's auc: 0.741223\tvalid_1's binary_logloss: 0.496617\n",
      "[68]\tvalid_0's auc: 0.779872\tvalid_0's binary_logloss: 0.401553\tvalid_1's auc: 0.741308\tvalid_1's binary_logloss: 0.496551\n",
      "[69]\tvalid_0's auc: 0.780125\tvalid_0's binary_logloss: 0.401403\tvalid_1's auc: 0.741468\tvalid_1's binary_logloss: 0.49644\n",
      "[70]\tvalid_0's auc: 0.780436\tvalid_0's binary_logloss: 0.401227\tvalid_1's auc: 0.741577\tvalid_1's binary_logloss: 0.496376\n",
      "[71]\tvalid_0's auc: 0.78069\tvalid_0's binary_logloss: 0.401076\tvalid_1's auc: 0.741736\tvalid_1's binary_logloss: 0.496285\n",
      "[72]\tvalid_0's auc: 0.780891\tvalid_0's binary_logloss: 0.400947\tvalid_1's auc: 0.741802\tvalid_1's binary_logloss: 0.496248\n",
      "[73]\tvalid_0's auc: 0.781131\tvalid_0's binary_logloss: 0.40081\tvalid_1's auc: 0.741864\tvalid_1's binary_logloss: 0.496207\n",
      "[74]\tvalid_0's auc: 0.78135\tvalid_0's binary_logloss: 0.400681\tvalid_1's auc: 0.74197\tvalid_1's binary_logloss: 0.496118\n",
      "[75]\tvalid_0's auc: 0.781618\tvalid_0's binary_logloss: 0.400534\tvalid_1's auc: 0.742003\tvalid_1's binary_logloss: 0.496122\n",
      "[76]\tvalid_0's auc: 0.781847\tvalid_0's binary_logloss: 0.400403\tvalid_1's auc: 0.742076\tvalid_1's binary_logloss: 0.496069\n",
      "[77]\tvalid_0's auc: 0.782078\tvalid_0's binary_logloss: 0.400273\tvalid_1's auc: 0.742172\tvalid_1's binary_logloss: 0.496013\n",
      "[78]\tvalid_0's auc: 0.782329\tvalid_0's binary_logloss: 0.400126\tvalid_1's auc: 0.742227\tvalid_1's binary_logloss: 0.495963\n",
      "[79]\tvalid_0's auc: 0.782537\tvalid_0's binary_logloss: 0.399993\tvalid_1's auc: 0.742289\tvalid_1's binary_logloss: 0.495921\n",
      "[80]\tvalid_0's auc: 0.782739\tvalid_0's binary_logloss: 0.399864\tvalid_1's auc: 0.742425\tvalid_1's binary_logloss: 0.495833\n",
      "[81]\tvalid_0's auc: 0.782954\tvalid_0's binary_logloss: 0.399737\tvalid_1's auc: 0.74251\tvalid_1's binary_logloss: 0.495798\n",
      "[82]\tvalid_0's auc: 0.783154\tvalid_0's binary_logloss: 0.399621\tvalid_1's auc: 0.742585\tvalid_1's binary_logloss: 0.495762\n",
      "[83]\tvalid_0's auc: 0.783396\tvalid_0's binary_logloss: 0.399485\tvalid_1's auc: 0.742712\tvalid_1's binary_logloss: 0.495651\n",
      "[84]\tvalid_0's auc: 0.783619\tvalid_0's binary_logloss: 0.399356\tvalid_1's auc: 0.742822\tvalid_1's binary_logloss: 0.495565\n",
      "[85]\tvalid_0's auc: 0.783856\tvalid_0's binary_logloss: 0.399214\tvalid_1's auc: 0.742905\tvalid_1's binary_logloss: 0.495516\n",
      "[86]\tvalid_0's auc: 0.784079\tvalid_0's binary_logloss: 0.399082\tvalid_1's auc: 0.742948\tvalid_1's binary_logloss: 0.495477\n",
      "[87]\tvalid_0's auc: 0.784269\tvalid_0's binary_logloss: 0.398969\tvalid_1's auc: 0.743008\tvalid_1's binary_logloss: 0.495438\n",
      "[88]\tvalid_0's auc: 0.784485\tvalid_0's binary_logloss: 0.398843\tvalid_1's auc: 0.743066\tvalid_1's binary_logloss: 0.495389\n",
      "[89]\tvalid_0's auc: 0.784712\tvalid_0's binary_logloss: 0.398725\tvalid_1's auc: 0.743113\tvalid_1's binary_logloss: 0.495365\n",
      "[90]\tvalid_0's auc: 0.784914\tvalid_0's binary_logloss: 0.398604\tvalid_1's auc: 0.743163\tvalid_1's binary_logloss: 0.495348\n",
      "[91]\tvalid_0's auc: 0.785127\tvalid_0's binary_logloss: 0.398473\tvalid_1's auc: 0.743245\tvalid_1's binary_logloss: 0.495295\n",
      "[92]\tvalid_0's auc: 0.785368\tvalid_0's binary_logloss: 0.398329\tvalid_1's auc: 0.743365\tvalid_1's binary_logloss: 0.49523\n",
      "[93]\tvalid_0's auc: 0.785573\tvalid_0's binary_logloss: 0.398204\tvalid_1's auc: 0.743459\tvalid_1's binary_logloss: 0.49518\n",
      "[94]\tvalid_0's auc: 0.785801\tvalid_0's binary_logloss: 0.398084\tvalid_1's auc: 0.743513\tvalid_1's binary_logloss: 0.495147\n",
      "[95]\tvalid_0's auc: 0.786032\tvalid_0's binary_logloss: 0.397943\tvalid_1's auc: 0.743613\tvalid_1's binary_logloss: 0.495087\n",
      "[96]\tvalid_0's auc: 0.786237\tvalid_0's binary_logloss: 0.397824\tvalid_1's auc: 0.743656\tvalid_1's binary_logloss: 0.495058\n",
      "[97]\tvalid_0's auc: 0.786419\tvalid_0's binary_logloss: 0.397707\tvalid_1's auc: 0.743745\tvalid_1's binary_logloss: 0.495005\n",
      "[98]\tvalid_0's auc: 0.786626\tvalid_0's binary_logloss: 0.397594\tvalid_1's auc: 0.743764\tvalid_1's binary_logloss: 0.494989\n",
      "[99]\tvalid_0's auc: 0.786844\tvalid_0's binary_logloss: 0.397468\tvalid_1's auc: 0.743829\tvalid_1's binary_logloss: 0.494955\n",
      "[100]\tvalid_0's auc: 0.787059\tvalid_0's binary_logloss: 0.397347\tvalid_1's auc: 0.743859\tvalid_1's binary_logloss: 0.494924\n",
      "Did not meet early stopping. Best iteration is:\n",
      "[100]\tvalid_0's auc: 0.787059\tvalid_0's binary_logloss: 0.397347\tvalid_1's auc: 0.743859\tvalid_1's binary_logloss: 0.494924\n",
      "{'bagging_fraction': 0.6, 'learning_rate': 0.1, 'max_depth': 10, 'num_leaves': 125, 'reg_alpha': 1}\n",
      "0.826073089862429\n"
     ]
    }
   ],
   "source": [
    "gridParams = {\n",
    "    'bagging_fraction': [0.6, 0.8],\n",
    "    'learning_rate': [0.01, 0.1],\n",
    "    'num_leaves': [125, 255],\n",
    "    'max_depth': [10,20],\n",
    "    'reg_alpha' : [0.5,1]\n",
    "    }\n",
    "\n",
    "grid = GridSearchCV(mdl, gridParams, verbose=1, cv=4, n_jobs=-1)\n",
    "\n",
    "grid.fit(X_train[features], y_train, early_stopping_rounds=100, eval_metric='auc',\n",
    "         eval_set=[(X_train[features], y_train), (X_test[features], y_test)])\n",
    "\n",
    "print(grid.best_params_)\n",
    "print(grid.best_score_)"
   ]
  },
  {
   "cell_type": "code",
   "execution_count": 14,
   "metadata": {
    "ExecuteTime": {
     "end_time": "2021-06-14T10:22:36.760940Z",
     "start_time": "2021-06-14T10:22:36.758112Z"
    },
    "execution": {
     "iopub.execute_input": "2021-06-11T06:07:52.424294Z",
     "iopub.status.busy": "2021-06-11T06:07:52.423590Z",
     "iopub.status.idle": "2021-06-11T06:07:52.431934Z",
     "shell.execute_reply": "2021-06-11T06:07:52.430852Z",
     "shell.execute_reply.started": "2021-06-11T06:07:52.424205Z"
    }
   },
   "outputs": [],
   "source": [
    "params['bagging_fraction'] = grid.best_params_['bagging_fraction']\n",
    "params['learning_rate'] = grid.best_params_['learning_rate']\n",
    "params['num_leaves'] = grid.best_params_['num_leaves']\n",
    "params['max_depth'] = grid.best_params_['max_depth']\n",
    "params['reg_alpha'] = grid.best_params_['reg_alpha']"
   ]
  },
  {
   "cell_type": "markdown",
   "metadata": {},
   "source": [
    "### Prediction"
   ]
  },
  {
   "cell_type": "code",
   "execution_count": 15,
   "metadata": {
    "ExecuteTime": {
     "end_time": "2021-06-14T10:22:36.767758Z",
     "start_time": "2021-06-14T10:22:36.762279Z"
    },
    "execution": {
     "iopub.execute_input": "2021-06-11T06:07:52.433665Z",
     "iopub.status.busy": "2021-06-11T06:07:52.433361Z",
     "iopub.status.idle": "2021-06-11T06:07:52.450322Z",
     "shell.execute_reply": "2021-06-11T06:07:52.448962Z",
     "shell.execute_reply.started": "2021-06-11T06:07:52.433628Z"
    }
   },
   "outputs": [],
   "source": [
    "def seed_everything(seed=0):\n",
    "    random.seed(seed)\n",
    "    os.environ['PYTHONHASHSEED'] = str(seed)\n",
    "    np.random.seed(seed)\n",
    "    \n",
    "SEED = 42\n",
    "seed_everything(SEED)"
   ]
  },
  {
   "cell_type": "code",
   "execution_count": 17,
   "metadata": {
    "ExecuteTime": {
     "end_time": "2021-06-14T10:37:13.081296Z",
     "start_time": "2021-06-14T10:37:13.074906Z"
    },
    "execution": {
     "iopub.execute_input": "2021-06-11T06:07:52.452148Z",
     "iopub.status.busy": "2021-06-11T06:07:52.451701Z",
     "iopub.status.idle": "2021-06-11T06:07:52.468042Z",
     "shell.execute_reply": "2021-06-11T06:07:52.466858Z",
     "shell.execute_reply.started": "2021-06-11T06:07:52.452116Z"
    }
   },
   "outputs": [],
   "source": [
    "def make_lgb_prediction(train, y, test, features, categorical_features='auto', model_params=None, folds=5):\n",
    "    \n",
    "    skf = KFold(n_splits=folds, random_state=SEED, shuffle=True)\n",
    "    folds = 5\n",
    "    x_train = train[features]\n",
    "    x_test = test[features]\n",
    "\n",
    "    y_preds = np.zeros(x_test.shape[0])\n",
    "    y_oof = np.zeros(x_train.shape[0])\n",
    "    score = 0\n",
    "    split_groups = train['issue_year']\n",
    "    \n",
    "\n",
    "    for fold, (tr_idx, val_idx) in enumerate(skf.split(x_train, y)):\n",
    "        print(f'Fold: {fold+1}')\n",
    "\n",
    "        x_tr, x_val = x_train.loc[tr_idx, features], x_train.loc[val_idx, features]\n",
    "        y_tr, y_val = y[tr_idx], y[val_idx]\n",
    "\n",
    "        print(x_tr.shape, x_val.shape)\n",
    "\n",
    "        dtrain = lgb.Dataset(x_tr, label=y_tr)\n",
    "        dvalid = lgb.Dataset(x_val, label=y_val)\n",
    "\n",
    "        clf = lgb.train(\n",
    "            model_params,\n",
    "            dtrain,\n",
    "            valid_sets=[dtrain, dvalid],\n",
    "            categorical_feature=categorical_features,\n",
    "            verbose_eval=200,\n",
    "            early_stopping_rounds=100\n",
    "        )\n",
    "        \n",
    "        y_pred_val = clf.predict(x_val)\n",
    "\n",
    "        y_oof[val_idx] = y_pred_val\n",
    "        print(f\"Fold {fold + 1} | AUC Score: {roc_auc_score(y_val, y_pred_val)}\")\n",
    "\n",
    "        score += roc_auc_score(y_val, y_pred_val) / folds\n",
    "        y_preds += clf.predict(x_test) / folds\n",
    "\n",
    "        del x_tr, x_val, y_tr, y_val\n",
    "        gc.collect()\n",
    "\n",
    "    print(f\"\\nMean AUC score = {score}\")\n",
    "    print(f\"OOF AUC score = {roc_auc_score(y, y_oof)}\")\n",
    "    \n",
    "    return y_oof, y_preds, clf"
   ]
  },
  {
   "cell_type": "code",
   "execution_count": 18,
   "metadata": {
    "ExecuteTime": {
     "end_time": "2021-06-14T10:38:56.026955Z",
     "start_time": "2021-06-14T10:37:21.068853Z"
    }
   },
   "outputs": [
    {
     "name": "stdout",
     "output_type": "stream",
     "text": [
      "Fold: 1\n",
      "(1051432, 60) (262858, 60)\n",
      "[LightGBM] [Warning] Using too small ``bin_construct_sample_cnt`` may encounter unexpected errors and poor accuracy.\n",
      "[LightGBM] [Warning] bagging_fraction is set=0.6, subsample=1 will be ignored. Current value: bagging_fraction=0.6\n",
      "[LightGBM] [Warning] lambda_l1 is set=5, reg_alpha=1 will be ignored. Current value: lambda_l1=5\n",
      "[LightGBM] [Info] Number of positive: 222028, number of negative: 829404\n",
      "[LightGBM] [Warning] Auto-choosing row-wise multi-threading, the overhead of testing was 0.099310 seconds.\n",
      "You can set `force_row_wise=true` to remove the overhead.\n",
      "And if memory is not enough, you can set `force_col_wise=true`.\n",
      "[LightGBM] [Info] Total Bins 1824\n",
      "[LightGBM] [Info] Number of data points in the train set: 1051432, number of used features: 59\n",
      "[LightGBM] [Warning] bagging_fraction is set=0.6, subsample=1 will be ignored. Current value: bagging_fraction=0.6\n",
      "[LightGBM] [Warning] lambda_l1 is set=5, reg_alpha=1 will be ignored. Current value: lambda_l1=5\n",
      "[LightGBM] [Info] [binary:BoostFromScore]: pavg=0.211167 -> initscore=-1.317904\n",
      "[LightGBM] [Info] Start training from score -1.317904\n",
      "Training until validation scores don't improve for 100 rounds\n",
      "Did not meet early stopping. Best iteration is:\n",
      "[100]\ttraining's binary_error: 0.177421\tvalid_1's binary_error: 0.180839\n",
      "Fold 1 | AUC Score: 0.7675472548211888\n",
      "Fold: 2\n",
      "(1051432, 60) (262858, 60)\n",
      "[LightGBM] [Warning] bagging_fraction is set=0.6, subsample=1 will be ignored. Current value: bagging_fraction=0.6\n",
      "[LightGBM] [Warning] lambda_l1 is set=5, reg_alpha=1 will be ignored. Current value: lambda_l1=5\n",
      "[LightGBM] [Warning] Using too small ``bin_construct_sample_cnt`` may encounter unexpected errors and poor accuracy.\n",
      "[LightGBM] [Warning] bagging_fraction is set=0.6, subsample=1 will be ignored. Current value: bagging_fraction=0.6\n",
      "[LightGBM] [Warning] lambda_l1 is set=5, reg_alpha=1 will be ignored. Current value: lambda_l1=5\n",
      "[LightGBM] [Info] Number of positive: 221880, number of negative: 829552\n",
      "[LightGBM] [Warning] Auto-choosing col-wise multi-threading, the overhead of testing was 0.297272 seconds.\n",
      "You can set `force_col_wise=true` to remove the overhead.\n",
      "[LightGBM] [Info] Total Bins 1807\n",
      "[LightGBM] [Info] Number of data points in the train set: 1051432, number of used features: 59\n",
      "[LightGBM] [Warning] bagging_fraction is set=0.6, subsample=1 will be ignored. Current value: bagging_fraction=0.6\n",
      "[LightGBM] [Warning] lambda_l1 is set=5, reg_alpha=1 will be ignored. Current value: lambda_l1=5\n",
      "[LightGBM] [Info] [binary:BoostFromScore]: pavg=0.211026 -> initscore=-1.318749\n",
      "[LightGBM] [Info] Start training from score -1.318749\n",
      "Training until validation scores don't improve for 100 rounds\n",
      "Did not meet early stopping. Best iteration is:\n",
      "[100]\ttraining's binary_error: 0.177306\tvalid_1's binary_error: 0.181105\n",
      "Fold 2 | AUC Score: 0.7704467804835068\n",
      "Fold: 3\n",
      "(1051432, 60) (262858, 60)\n",
      "[LightGBM] [Warning] bagging_fraction is set=0.6, subsample=1 will be ignored. Current value: bagging_fraction=0.6\n",
      "[LightGBM] [Warning] lambda_l1 is set=5, reg_alpha=1 will be ignored. Current value: lambda_l1=5\n",
      "[LightGBM] [Warning] Using too small ``bin_construct_sample_cnt`` may encounter unexpected errors and poor accuracy.\n",
      "[LightGBM] [Warning] bagging_fraction is set=0.6, subsample=1 will be ignored. Current value: bagging_fraction=0.6\n",
      "[LightGBM] [Warning] lambda_l1 is set=5, reg_alpha=1 will be ignored. Current value: lambda_l1=5\n",
      "[LightGBM] [Info] Number of positive: 222125, number of negative: 829307\n",
      "[LightGBM] [Warning] Auto-choosing row-wise multi-threading, the overhead of testing was 0.104724 seconds.\n",
      "You can set `force_row_wise=true` to remove the overhead.\n",
      "And if memory is not enough, you can set `force_col_wise=true`.\n",
      "[LightGBM] [Info] Total Bins 1828\n",
      "[LightGBM] [Info] Number of data points in the train set: 1051432, number of used features: 59\n",
      "[LightGBM] [Warning] bagging_fraction is set=0.6, subsample=1 will be ignored. Current value: bagging_fraction=0.6\n",
      "[LightGBM] [Warning] lambda_l1 is set=5, reg_alpha=1 will be ignored. Current value: lambda_l1=5\n",
      "[LightGBM] [Info] [binary:BoostFromScore]: pavg=0.211260 -> initscore=-1.317350\n",
      "[LightGBM] [Info] Start training from score -1.317350\n",
      "Training until validation scores don't improve for 100 rounds\n",
      "Did not meet early stopping. Best iteration is:\n",
      "[100]\ttraining's binary_error: 0.177486\tvalid_1's binary_error: 0.18031\n",
      "Fold 3 | AUC Score: 0.7685358955664716\n",
      "Fold: 4\n",
      "(1051432, 60) (262858, 60)\n",
      "[LightGBM] [Warning] bagging_fraction is set=0.6, subsample=1 will be ignored. Current value: bagging_fraction=0.6\n",
      "[LightGBM] [Warning] lambda_l1 is set=5, reg_alpha=1 will be ignored. Current value: lambda_l1=5\n",
      "[LightGBM] [Warning] Using too small ``bin_construct_sample_cnt`` may encounter unexpected errors and poor accuracy.\n",
      "[LightGBM] [Warning] bagging_fraction is set=0.6, subsample=1 will be ignored. Current value: bagging_fraction=0.6\n",
      "[LightGBM] [Warning] lambda_l1 is set=5, reg_alpha=1 will be ignored. Current value: lambda_l1=5\n",
      "[LightGBM] [Info] Number of positive: 221899, number of negative: 829533\n",
      "[LightGBM] [Warning] Auto-choosing col-wise multi-threading, the overhead of testing was 0.300013 seconds.\n",
      "You can set `force_col_wise=true` to remove the overhead.\n",
      "[LightGBM] [Info] Total Bins 1845\n",
      "[LightGBM] [Info] Number of data points in the train set: 1051432, number of used features: 59\n",
      "[LightGBM] [Warning] bagging_fraction is set=0.6, subsample=1 will be ignored. Current value: bagging_fraction=0.6\n",
      "[LightGBM] [Warning] lambda_l1 is set=5, reg_alpha=1 will be ignored. Current value: lambda_l1=5\n",
      "[LightGBM] [Info] [binary:BoostFromScore]: pavg=0.211045 -> initscore=-1.318641\n",
      "[LightGBM] [Info] Start training from score -1.318641\n",
      "Training until validation scores don't improve for 100 rounds\n",
      "Did not meet early stopping. Best iteration is:\n",
      "[100]\ttraining's binary_error: 0.177183\tvalid_1's binary_error: 0.181056\n",
      "Fold 4 | AUC Score: 0.7670997875152168\n",
      "Fold: 5\n",
      "(1051432, 60) (262858, 60)\n",
      "[LightGBM] [Warning] bagging_fraction is set=0.6, subsample=1 will be ignored. Current value: bagging_fraction=0.6\n",
      "[LightGBM] [Warning] lambda_l1 is set=5, reg_alpha=1 will be ignored. Current value: lambda_l1=5\n",
      "[LightGBM] [Warning] Using too small ``bin_construct_sample_cnt`` may encounter unexpected errors and poor accuracy.\n",
      "[LightGBM] [Warning] bagging_fraction is set=0.6, subsample=1 will be ignored. Current value: bagging_fraction=0.6\n",
      "[LightGBM] [Warning] lambda_l1 is set=5, reg_alpha=1 will be ignored. Current value: lambda_l1=5\n",
      "[LightGBM] [Info] Number of positive: 221980, number of negative: 829452\n",
      "[LightGBM] [Warning] Auto-choosing col-wise multi-threading, the overhead of testing was 0.308571 seconds.\n",
      "You can set `force_col_wise=true` to remove the overhead.\n",
      "[LightGBM] [Info] Total Bins 1824\n",
      "[LightGBM] [Info] Number of data points in the train set: 1051432, number of used features: 59\n",
      "[LightGBM] [Warning] bagging_fraction is set=0.6, subsample=1 will be ignored. Current value: bagging_fraction=0.6\n",
      "[LightGBM] [Warning] lambda_l1 is set=5, reg_alpha=1 will be ignored. Current value: lambda_l1=5\n",
      "[LightGBM] [Info] [binary:BoostFromScore]: pavg=0.211122 -> initscore=-1.318178\n",
      "[LightGBM] [Info] Start training from score -1.318178\n",
      "Training until validation scores don't improve for 100 rounds\n",
      "Did not meet early stopping. Best iteration is:\n",
      "[100]\ttraining's binary_error: 0.177466\tvalid_1's binary_error: 0.180147\n",
      "Fold 5 | AUC Score: 0.7681634351139169\n",
      "\n",
      "Mean AUC score = 0.7683586307000603\n",
      "OOF AUC score = 0.7683545373946594\n"
     ]
    }
   ],
   "source": [
    "y_oof_lgb, y_preds_lgb, mdl = make_lgb_prediction(X, y, test, features, model_params=params)"
   ]
  },
  {
   "cell_type": "code",
   "execution_count": 23,
   "metadata": {
    "ExecuteTime": {
     "end_time": "2021-06-14T10:42:03.518341Z",
     "start_time": "2021-06-14T10:42:03.445023Z"
    }
   },
   "outputs": [
    {
     "data": {
      "text/plain": [
       "['/home/work/toy-project/model/lgbm_grid.pkl']"
      ]
     },
     "execution_count": 23,
     "metadata": {},
     "output_type": "execute_result"
    }
   ],
   "source": [
    "import joblib\n",
    "joblib.dump(mdl, '/home/work/toy-project/model/lgbm_grid.pkl')"
   ]
  },
  {
   "cell_type": "code",
   "execution_count": null,
   "metadata": {},
   "outputs": [],
   "source": []
  }
 ],
 "metadata": {
  "hide_input": false,
  "kernelspec": {
   "display_name": "Python 3",
   "language": "python",
   "name": "python3"
  },
  "language_info": {
   "codemirror_mode": {
    "name": "ipython",
    "version": 3
   },
   "file_extension": ".py",
   "mimetype": "text/x-python",
   "name": "python",
   "nbconvert_exporter": "python",
   "pygments_lexer": "ipython3",
   "version": "3.7.10"
  }
 },
 "nbformat": 4,
 "nbformat_minor": 4
}
