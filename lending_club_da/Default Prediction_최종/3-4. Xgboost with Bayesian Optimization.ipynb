{
 "cells": [
  {
   "cell_type": "code",
   "execution_count": 1,
   "id": "essential-engine",
   "metadata": {
    "_cell_guid": "b1076dfc-b9ad-4769-8c92-a6c4dae69d19",
    "_uuid": "8f2839f25d086af736a60e9eeb907d3b93b6e0e5",
    "execution": {
     "iopub.execute_input": "2021-06-08T07:53:57.016893Z",
     "iopub.status.busy": "2021-06-08T07:53:57.016028Z",
     "iopub.status.idle": "2021-06-08T07:54:01.863713Z",
     "shell.execute_reply": "2021-06-08T07:54:01.862678Z",
     "shell.execute_reply.started": "2021-06-08T06:39:30.101062Z"
    },
    "papermill": {
     "duration": 4.887774,
     "end_time": "2021-06-08T07:54:01.863897",
     "exception": false,
     "start_time": "2021-06-08T07:53:56.976123",
     "status": "completed"
    },
    "tags": []
   },
   "outputs": [
    {
     "data": {
      "text/html": [
       "<style type='text/css'>\n",
       ".datatable table.frame { margin-bottom: 0; }\n",
       ".datatable table.frame thead { border-bottom: none; }\n",
       ".datatable table.frame tr.coltypes td {  color: #FFFFFF;  line-height: 6px;  padding: 0 0.5em;}\n",
       ".datatable .bool    { background: #DDDD99; }\n",
       ".datatable .object  { background: #565656; }\n",
       ".datatable .int     { background: #5D9E5D; }\n",
       ".datatable .float   { background: #4040CC; }\n",
       ".datatable .str     { background: #CC4040; }\n",
       ".datatable .row_index {  background: var(--jp-border-color3);  border-right: 1px solid var(--jp-border-color0);  color: var(--jp-ui-font-color3);  font-size: 9px;}\n",
       ".datatable .frame tr.coltypes .row_index {  background: var(--jp-border-color0);}\n",
       ".datatable th:nth-child(2) { padding-left: 12px; }\n",
       ".datatable .hellipsis {  color: var(--jp-cell-editor-border-color);}\n",
       ".datatable .vellipsis {  background: var(--jp-layout-color0);  color: var(--jp-cell-editor-border-color);}\n",
       ".datatable .na {  color: var(--jp-cell-editor-border-color);  font-size: 80%;}\n",
       ".datatable .footer { font-size: 9px; }\n",
       ".datatable .frame_dimensions {  background: var(--jp-border-color3);  border-top: 1px solid var(--jp-border-color0);  color: var(--jp-ui-font-color3);  display: inline-block;  opacity: 0.6;  padding: 1px 10px 1px 5px;}\n",
       "</style>\n"
      ],
      "text/plain": [
       "<IPython.core.display.HTML object>"
      ]
     },
     "metadata": {},
     "output_type": "display_data"
    }
   ],
   "source": [
    "import pandas as pd\n",
    "import numpy as np\n",
    "import xgboost as xgb\n",
    "import lightgbm as lgb\n",
    "import os, sys, gc, warnings, random, datetime\n",
    "from skopt import BayesSearchCV\n",
    "from sklearn.metrics import roc_auc_score, f1_score, precision_recall_curve, accuracy_score\n",
    "from sklearn.model_selection import StratifiedKFold , KFold\n",
    "from hyperopt import STATUS_OK, Trials, fmin, hp, tpe\n",
    "from sklearn.model_selection import train_test_split\n",
    "# SETTINGS - CHANGE THESE TO GET SOMETHING MEANINGFUL\n",
    "ITERATIONS = 10 # 1000\n",
    "# TRAINING_SIZE = 100000 # 20000000\n",
    "# TEST_SIZE = 25000\n",
    "\n"
   ]
  },
  {
   "cell_type": "code",
   "execution_count": 2,
   "id": "radio-sixth",
   "metadata": {
    "execution": {
     "iopub.execute_input": "2021-06-08T07:54:01.913108Z",
     "iopub.status.busy": "2021-06-08T07:54:01.912246Z",
     "iopub.status.idle": "2021-06-08T07:54:01.916152Z",
     "shell.execute_reply": "2021-06-08T07:54:01.916677Z",
     "shell.execute_reply.started": "2021-06-08T06:39:33.972920Z"
    },
    "papermill": {
     "duration": 0.030833,
     "end_time": "2021-06-08T07:54:01.916855",
     "exception": false,
     "start_time": "2021-06-08T07:54:01.886022",
     "status": "completed"
    },
    "tags": []
   },
   "outputs": [],
   "source": [
    "def seed_everything(seed=0):\n",
    "    random.seed(seed)\n",
    "    os.environ['PYTHONHASHSEED'] = str(seed)\n",
    "    np.random.seed(seed)\n",
    "    \n",
    "SEED = 42\n",
    "seed_everything(SEED)"
   ]
  },
  {
   "cell_type": "code",
   "execution_count": 3,
   "id": "golden-platform",
   "metadata": {
    "execution": {
     "iopub.execute_input": "2021-06-08T07:54:01.965308Z",
     "iopub.status.busy": "2021-06-08T07:54:01.964534Z",
     "iopub.status.idle": "2021-06-08T07:54:14.419744Z",
     "shell.execute_reply": "2021-06-08T07:54:14.419147Z",
     "shell.execute_reply.started": "2021-06-08T06:39:33.981280Z"
    },
    "papermill": {
     "duration": 12.48169,
     "end_time": "2021-06-08T07:54:14.419904",
     "exception": false,
     "start_time": "2021-06-08T07:54:01.938214",
     "status": "completed"
    },
    "tags": []
   },
   "outputs": [],
   "source": [
    "### Load Data\n",
    "df = pd.read_pickle('../input/default-prediction-data-preprocessing/df_preprocessesd.pkl')\n",
    "\n",
    "X = df.drop('loan_status', axis=1)\n",
    "\n",
    "y = df['loan_status']\n",
    "\n",
    "X_train, X_test, y_train, y_test = train_test_split(X, y, test_size = 0.2, random_state = 2021)"
   ]
  },
  {
   "cell_type": "code",
   "execution_count": 4,
   "id": "aggregate-evidence",
   "metadata": {
    "execution": {
     "iopub.execute_input": "2021-06-08T07:54:14.543037Z",
     "iopub.status.busy": "2021-06-08T07:54:14.489093Z",
     "iopub.status.idle": "2021-06-08T07:54:14.896734Z",
     "shell.execute_reply": "2021-06-08T07:54:14.896059Z",
     "shell.execute_reply.started": "2021-06-08T06:39:45.910946Z"
    },
    "papermill": {
     "duration": 0.455126,
     "end_time": "2021-06-08T07:54:14.896930",
     "exception": false,
     "start_time": "2021-06-08T07:54:14.441804",
     "status": "completed"
    },
    "tags": []
   },
   "outputs": [],
   "source": [
    "df['issue_d'] = pd.to_datetime(df['issue_d'])\n",
    "df['issue_year'] = df['issue_d'].dt.year"
   ]
  },
  {
   "cell_type": "code",
   "execution_count": 5,
   "id": "clinical-binding",
   "metadata": {
    "execution": {
     "iopub.execute_input": "2021-06-08T07:54:14.946873Z",
     "iopub.status.busy": "2021-06-08T07:54:14.945737Z",
     "iopub.status.idle": "2021-06-08T07:54:15.618515Z",
     "shell.execute_reply": "2021-06-08T07:54:15.617927Z",
     "shell.execute_reply.started": "2021-06-08T06:39:46.277911Z"
    },
    "papermill": {
     "duration": 0.699402,
     "end_time": "2021-06-08T07:54:15.618692",
     "exception": false,
     "start_time": "2021-06-08T07:54:14.919290",
     "status": "completed"
    },
    "tags": []
   },
   "outputs": [],
   "source": [
    "train = df[df['issue_year'] != 2018]\n",
    "test = df[df['issue_year'] == 2018]"
   ]
  },
  {
   "cell_type": "code",
   "execution_count": 6,
   "id": "extraordinary-government",
   "metadata": {
    "execution": {
     "iopub.execute_input": "2021-06-08T07:54:15.669991Z",
     "iopub.status.busy": "2021-06-08T07:54:15.667802Z",
     "iopub.status.idle": "2021-06-08T07:54:15.670912Z",
     "shell.execute_reply": "2021-06-08T07:54:15.671451Z",
     "shell.execute_reply.started": "2021-06-08T06:39:46.854058Z"
    },
    "papermill": {
     "duration": 0.030623,
     "end_time": "2021-06-08T07:54:15.671617",
     "exception": false,
     "start_time": "2021-06-08T07:54:15.640994",
     "status": "completed"
    },
    "tags": []
   },
   "outputs": [],
   "source": [
    "train.reset_index(drop=True, inplace=True)\n",
    "test.reset_index(drop=True, inplace=True)"
   ]
  },
  {
   "cell_type": "code",
   "execution_count": 7,
   "id": "unlimited-break",
   "metadata": {
    "execution": {
     "iopub.execute_input": "2021-06-08T07:54:15.723447Z",
     "iopub.status.busy": "2021-06-08T07:54:15.721257Z",
     "iopub.status.idle": "2021-06-08T07:54:15.724384Z",
     "shell.execute_reply": "2021-06-08T07:54:15.724959Z",
     "shell.execute_reply.started": "2021-06-08T06:39:46.861376Z"
    },
    "papermill": {
     "duration": 0.031424,
     "end_time": "2021-06-08T07:54:15.725109",
     "exception": false,
     "start_time": "2021-06-08T07:54:15.693685",
     "status": "completed"
    },
    "tags": []
   },
   "outputs": [],
   "source": [
    "answer = test[['id','loan_status']]\n",
    "# test.drop('loan_status',1, inplace = True)"
   ]
  },
  {
   "cell_type": "code",
   "execution_count": 8,
   "id": "expected-testament",
   "metadata": {
    "execution": {
     "iopub.execute_input": "2021-06-08T07:54:15.776248Z",
     "iopub.status.busy": "2021-06-08T07:54:15.774779Z",
     "iopub.status.idle": "2021-06-08T07:54:16.640373Z",
     "shell.execute_reply": "2021-06-08T07:54:16.641216Z",
     "shell.execute_reply.started": "2021-06-08T06:39:46.873307Z"
    },
    "papermill": {
     "duration": 0.894961,
     "end_time": "2021-06-08T07:54:16.641470",
     "exception": false,
     "start_time": "2021-06-08T07:54:15.746509",
     "status": "completed"
    },
    "tags": []
   },
   "outputs": [
    {
     "name": "stdout",
     "output_type": "stream",
     "text": [
      "(1314290, 104)\n",
      "(1314290,)\n"
     ]
    }
   ],
   "source": [
    "# Load Data with selected features\n",
    "X = train.copy()\n",
    "# Labels\n",
    "y = train['loan_status']\n",
    "\n",
    "# Remove Labels from Dataframe\n",
    "X.drop(['loan_status'], axis = 1, inplace = True)\n",
    "# Final Data Shapes\n",
    "print(X.shape)\n",
    "print(y.shape)"
   ]
  },
  {
   "cell_type": "code",
   "execution_count": 9,
   "id": "differential-delaware",
   "metadata": {
    "execution": {
     "iopub.execute_input": "2021-06-08T07:54:16.692961Z",
     "iopub.status.busy": "2021-06-08T07:54:16.691814Z",
     "iopub.status.idle": "2021-06-08T07:54:17.197091Z",
     "shell.execute_reply": "2021-06-08T07:54:17.196470Z",
     "shell.execute_reply.started": "2021-06-08T06:39:47.709608Z"
    },
    "papermill": {
     "duration": 0.53231,
     "end_time": "2021-06-08T07:54:17.197268",
     "exception": false,
     "start_time": "2021-06-08T07:54:16.664958",
     "status": "completed"
    },
    "tags": []
   },
   "outputs": [],
   "source": [
    "ttrain = train[train['issue_year'] != 2017]\n",
    "ttest = train[train['issue_year'] == 2017]"
   ]
  },
  {
   "cell_type": "code",
   "execution_count": 10,
   "id": "accompanied-advocate",
   "metadata": {
    "execution": {
     "iopub.execute_input": "2021-06-08T07:54:17.248429Z",
     "iopub.status.busy": "2021-06-08T07:54:17.245022Z",
     "iopub.status.idle": "2021-06-08T07:54:18.131485Z",
     "shell.execute_reply": "2021-06-08T07:54:18.130909Z",
     "shell.execute_reply.started": "2021-06-08T06:39:48.140587Z"
    },
    "papermill": {
     "duration": 0.912208,
     "end_time": "2021-06-08T07:54:18.131662",
     "exception": false,
     "start_time": "2021-06-08T07:54:17.219454",
     "status": "completed"
    },
    "tags": []
   },
   "outputs": [],
   "source": [
    "X_train = ttrain.copy()\n",
    "y_train = ttrain['loan_status']\n",
    "X_train.drop(['loan_status'], axis = 1, inplace = True)\n",
    "\n",
    "X_test = ttest.copy()\n",
    "y_test = ttest['loan_status']\n",
    "X_test.drop(['loan_status'], axis = 1, inplace = True)"
   ]
  },
  {
   "cell_type": "code",
   "execution_count": 11,
   "id": "supposed-cycling",
   "metadata": {
    "execution": {
     "iopub.execute_input": "2021-06-08T07:54:18.184136Z",
     "iopub.status.busy": "2021-06-08T07:54:18.181833Z",
     "iopub.status.idle": "2021-06-08T07:54:18.185020Z",
     "shell.execute_reply": "2021-06-08T07:54:18.185591Z",
     "shell.execute_reply.started": "2021-06-08T06:39:48.900902Z"
    },
    "papermill": {
     "duration": 0.032066,
     "end_time": "2021-06-08T07:54:18.185769",
     "exception": false,
     "start_time": "2021-06-08T07:54:18.153703",
     "status": "completed"
    },
    "tags": []
   },
   "outputs": [],
   "source": [
    "remove_features = ['earliest_cr_line', 'issue_d', 'last_credit_pull_d', 'last_pymnt_d', 'next_pymnt_d',\n",
    "                  'initial_list_status','out_prncp','out_prncp_inv','total_pymnt','total_pymnt_inv','total_rec_prncp','total_rec_int','total_rec_late_fee',\n",
    "                   'recoveries','collection_recovery_fee','last_pymnt_amnt','last_fico_range_high','last_fico_range_low' , 'id', 'loan_status' , 'issue_year' ]\n",
    "features  = [col for col in list(train) if col not in remove_features]"
   ]
  },
  {
   "cell_type": "code",
   "execution_count": 12,
   "id": "connected-developer",
   "metadata": {
    "execution": {
     "iopub.execute_input": "2021-06-08T07:54:18.576959Z",
     "iopub.status.busy": "2021-06-08T07:54:18.529832Z",
     "iopub.status.idle": "2021-06-08T07:54:18.580257Z",
     "shell.execute_reply": "2021-06-08T07:54:18.579708Z",
     "shell.execute_reply.started": "2021-06-08T06:39:48.908485Z"
    },
    "papermill": {
     "duration": 0.372485,
     "end_time": "2021-06-08T07:54:18.580410",
     "exception": false,
     "start_time": "2021-06-08T07:54:18.207925",
     "status": "completed"
    },
    "tags": []
   },
   "outputs": [],
   "source": [
    "X_train = X_train[features]\n",
    "X_test = X_test[features]"
   ]
  },
  {
   "cell_type": "code",
   "execution_count": 13,
   "id": "legal-little",
   "metadata": {
    "execution": {
     "iopub.execute_input": "2021-06-08T07:54:18.632381Z",
     "iopub.status.busy": "2021-06-08T07:54:18.631437Z",
     "iopub.status.idle": "2021-06-08T07:54:18.635972Z",
     "shell.execute_reply": "2021-06-08T07:54:18.635409Z",
     "shell.execute_reply.started": "2021-06-08T06:39:49.205479Z"
    },
    "papermill": {
     "duration": 0.033369,
     "end_time": "2021-06-08T07:54:18.636166",
     "exception": false,
     "start_time": "2021-06-08T07:54:18.602797",
     "status": "completed"
    },
    "tags": []
   },
   "outputs": [],
   "source": [
    "space={'max_depth': hp.quniform(\"max_depth\", 6, 24, 3),\n",
    "        'gamma': hp.uniform ('gamma', 1,9),\n",
    "        'colsample_bytree' : hp.uniform('colsample_bytree', 0.5,1),\n",
    "       'subsample' : hp.uniform('subsample', 0.5,1) , \n",
    "        'min_child_weight' : hp.quniform('min_child_weight', 0, 10, 1),\n",
    "        'n_estimators': 5000,\n",
    "        'seed': 2021,\n",
    "       'learning_rate' :0.1\n",
    "    }"
   ]
  },
  {
   "cell_type": "code",
   "execution_count": 14,
   "id": "brazilian-breeding",
   "metadata": {
    "execution": {
     "iopub.execute_input": "2021-06-08T07:54:18.689671Z",
     "iopub.status.busy": "2021-06-08T07:54:18.688570Z",
     "iopub.status.idle": "2021-06-08T07:54:18.691680Z",
     "shell.execute_reply": "2021-06-08T07:54:18.692186Z",
     "shell.execute_reply.started": "2021-06-08T06:39:49.212801Z"
    },
    "papermill": {
     "duration": 0.034282,
     "end_time": "2021-06-08T07:54:18.692349",
     "exception": false,
     "start_time": "2021-06-08T07:54:18.658067",
     "status": "completed"
    },
    "tags": []
   },
   "outputs": [],
   "source": [
    "def objective(space):\n",
    "    clf=xgb.XGBClassifier(\n",
    "                    n_estimators =space['n_estimators'], max_depth = int(space['max_depth']), \n",
    "        gamma = space['gamma'],\n",
    "                    min_child_weight=int(space['min_child_weight']),\n",
    "                    colsample_bytree=space['colsample_bytree'],subsample=space['subsample'], tree_method = 'gpu_hist')\n",
    "    \n",
    "    evaluation = [( X_train, y_train), ( X_test, y_test)]\n",
    "    \n",
    "    clf.fit(X_train, y_train,\n",
    "            eval_set=evaluation, eval_metric=\"auc\",\n",
    "            early_stopping_rounds=40,verbose=False )\n",
    "    \n",
    "\n",
    "    pred = clf.predict(X_test)\n",
    "    auc = roc_auc_score(y_test, pred)\n",
    "    print (\"SCORE:\", auc)\n",
    "    return {'loss': -auc, 'status': STATUS_OK }"
   ]
  },
  {
   "cell_type": "code",
   "execution_count": 15,
   "id": "protecting-mapping",
   "metadata": {
    "execution": {
     "iopub.execute_input": "2021-06-08T07:54:18.748044Z",
     "iopub.status.busy": "2021-06-08T07:54:18.746909Z",
     "iopub.status.idle": "2021-06-08T08:00:11.743706Z",
     "shell.execute_reply": "2021-06-08T08:00:11.743009Z",
     "shell.execute_reply.started": "2021-06-08T06:39:49.225417Z"
    },
    "papermill": {
     "duration": 353.029458,
     "end_time": "2021-06-08T08:00:11.743867",
     "exception": false,
     "start_time": "2021-06-08T07:54:18.714409",
     "status": "completed"
    },
    "tags": []
   },
   "outputs": [
    {
     "name": "stdout",
     "output_type": "stream",
     "text": [
      "SCORE:\n",
      "0.5930155800471401\n",
      "SCORE:\n",
      "0.5891068203507362\n",
      "SCORE:\n",
      "0.593937562203731\n",
      "SCORE:\n",
      "0.5959334584672952\n",
      "SCORE:\n",
      "0.589610523387128\n",
      "SCORE:\n",
      "0.5904792427964867\n",
      "SCORE:\n",
      "0.5925160286522845\n",
      "SCORE:\n",
      "0.5938502165086698\n",
      "SCORE:\n",
      "0.5922436930746605\n",
      "SCORE:\n",
      "0.594616272589871\n",
      "SCORE:\n",
      "0.5883996497391423\n",
      "SCORE:\n",
      "0.5936295689762715\n",
      "SCORE:\n",
      "0.5932502079436313\n",
      "SCORE:\n",
      "0.5924825757705717\n",
      "SCORE:\n",
      "0.5889890196841372\n",
      "SCORE:\n",
      "0.5897198618642737\n",
      "SCORE:\n",
      "0.5925578573210014\n",
      "SCORE:\n",
      "0.5867032329346424\n",
      "SCORE:\n",
      "0.5901813138714517\n",
      "SCORE:\n",
      "0.5858883282752936\n",
      "100%|██████████| 20/20 [05:52<00:00, 17.65s/trial, best loss: -0.5959334584672952]\n"
     ]
    }
   ],
   "source": [
    "trials = Trials()\n",
    "# Suppress warnings \n",
    "import warnings\n",
    "\n",
    "\n",
    "warnings.filterwarnings('ignore')\n",
    "best_hyperparams = fmin(fn = objective,\n",
    "                        space = space,\n",
    "                        algo = tpe.suggest,\n",
    "                        max_evals = 20,\n",
    "                        trials = trials)"
   ]
  },
  {
   "cell_type": "code",
   "execution_count": 16,
   "id": "eleven-local",
   "metadata": {
    "execution": {
     "iopub.execute_input": "2021-06-08T08:00:11.891670Z",
     "iopub.status.busy": "2021-06-08T08:00:11.890885Z",
     "iopub.status.idle": "2021-06-08T08:00:11.896915Z",
     "shell.execute_reply": "2021-06-08T08:00:11.897781Z",
     "shell.execute_reply.started": "2021-06-08T06:44:17.884470Z"
    },
    "papermill": {
     "duration": 0.082671,
     "end_time": "2021-06-08T08:00:11.898021",
     "exception": false,
     "start_time": "2021-06-08T08:00:11.815350",
     "status": "completed"
    },
    "tags": []
   },
   "outputs": [
    {
     "name": "stdout",
     "output_type": "stream",
     "text": [
      "The best hyperparameters are :  \n",
      "\n",
      "{'colsample_bytree': 0.9663738680257999, 'gamma': 2.0839181644346807, 'max_depth': 21.0, 'min_child_weight': 1.0, 'subsample': 0.7266616777453659}\n"
     ]
    }
   ],
   "source": [
    "print(\"The best hyperparameters are : \",\"\\n\")\n",
    "print(best_hyperparams)"
   ]
  },
  {
   "cell_type": "code",
   "execution_count": 17,
   "id": "suspected-ethics",
   "metadata": {
    "execution": {
     "iopub.execute_input": "2021-06-08T08:00:12.048080Z",
     "iopub.status.busy": "2021-06-08T08:00:12.046742Z",
     "iopub.status.idle": "2021-06-08T08:00:12.110211Z",
     "shell.execute_reply": "2021-06-08T08:00:12.109632Z",
     "shell.execute_reply.started": "2021-06-08T06:44:17.890800Z"
    },
    "papermill": {
     "duration": 0.140838,
     "end_time": "2021-06-08T08:00:12.110368",
     "exception": false,
     "start_time": "2021-06-08T08:00:11.969530",
     "status": "completed"
    },
    "tags": []
   },
   "outputs": [],
   "source": [
    "y_train = train.pop('loan_status')\n",
    "y_test = test.pop('loan_status')\n",
    "train.reset_index(drop=True, inplace=True)\n",
    "test.reset_index(drop=True, inplace=True)\n",
    "y_train.reset_index(drop=True, inplace=True)\n",
    "y_test.reset_index(drop=True, inplace=True)"
   ]
  },
  {
   "cell_type": "code",
   "execution_count": 18,
   "id": "grave-software",
   "metadata": {
    "execution": {
     "iopub.execute_input": "2021-06-08T08:00:12.364290Z",
     "iopub.status.busy": "2021-06-08T08:00:12.362963Z",
     "iopub.status.idle": "2021-06-08T08:00:12.366934Z",
     "shell.execute_reply": "2021-06-08T08:00:12.367980Z",
     "shell.execute_reply.started": "2021-06-08T06:44:17.949358Z"
    },
    "papermill": {
     "duration": 0.152738,
     "end_time": "2021-06-08T08:00:12.368234",
     "exception": false,
     "start_time": "2021-06-08T08:00:12.215496",
     "status": "completed"
    },
    "tags": []
   },
   "outputs": [],
   "source": [
    "# remove_features = ['id','loan_status']\n",
    "features = [col for col in list(train) if col not in remove_features]"
   ]
  },
  {
   "cell_type": "code",
   "execution_count": 19,
   "id": "specialized-memorabilia",
   "metadata": {
    "execution": {
     "iopub.execute_input": "2021-06-08T08:00:12.624276Z",
     "iopub.status.busy": "2021-06-08T08:00:12.623201Z",
     "iopub.status.idle": "2021-06-08T08:00:12.633491Z",
     "shell.execute_reply": "2021-06-08T08:00:12.634516Z",
     "shell.execute_reply.started": "2021-06-08T06:44:17.956992Z"
    },
    "papermill": {
     "duration": 0.144591,
     "end_time": "2021-06-08T08:00:12.634794",
     "exception": false,
     "start_time": "2021-06-08T08:00:12.490203",
     "status": "completed"
    },
    "tags": []
   },
   "outputs": [],
   "source": [
    "def make_xgb_prediction(train, y, test, features, model_params=None, folds=5):\n",
    "    \n",
    "    skf = KFold(n_splits=folds, random_state=SEED, shuffle=True)\n",
    "    \n",
    "    x_train = train[features]\n",
    "    x_test = test[features]\n",
    "\n",
    "    y_preds = np.zeros(x_test.shape[0])\n",
    "    y_oof = np.zeros(x_train.shape[0])\n",
    "    score = 0\n",
    "\n",
    "    feature_importance = pd.DataFrame()\n",
    "    feature_importance['feature'] = features\n",
    "\n",
    "    for fold, (tr_idx, val_idx) in enumerate(skf.split(x_train, y)):\n",
    "        print(f'Fold: {fold+1}')\n",
    "\n",
    "        x_tr, x_val = x_train.loc[tr_idx, features], x_train.loc[val_idx, features]\n",
    "        y_tr, y_val = y[tr_idx], y[val_idx]\n",
    "\n",
    "        print(x_tr.shape, x_val.shape)\n",
    "\n",
    "        dtrain = xgb.DMatrix(x_tr, label=y_tr)\n",
    "        dvalid = xgb.DMatrix(x_val, label=y_val)\n",
    "\n",
    "        clf = xgb.train(\n",
    "            model_params,\n",
    "            dtrain,\n",
    "            num_boost_round=10000, \n",
    "            evals=[(dtrain, 'train'), (dvalid, 'valid')],\n",
    "            verbose_eval=50,\n",
    "            early_stopping_rounds=100\n",
    "\n",
    "        )\n",
    "\n",
    "#         feature_importance[f'fold_{fold+1}'] = clf.get_score()\n",
    "\n",
    "        y_pred_val = clf.predict(dvalid)\n",
    "\n",
    "        y_oof[val_idx] = y_pred_val\n",
    "        print(f\"Fold {fold + 1} | AUC Score: {roc_auc_score(y_val, y_pred_val)}\")\n",
    "\n",
    "        score += roc_auc_score(y_val, y_pred_val) / folds\n",
    "        y_preds += clf.predict(xgb.DMatrix(x_test)) / folds\n",
    "\n",
    "        del x_tr, x_val, y_tr, y_val\n",
    "        gc.collect()\n",
    "\n",
    "    print(f\"\\nMean AUC score = {score}\")\n",
    "    print(f\"OOF AUC score = {roc_auc_score(y, y_oof)}\")\n",
    "    \n",
    "    return y_oof, y_preds, feature_importance"
   ]
  },
  {
   "cell_type": "code",
   "execution_count": 20,
   "id": "affected-affiliate",
   "metadata": {
    "execution": {
     "iopub.execute_input": "2021-06-08T08:00:12.864248Z",
     "iopub.status.busy": "2021-06-08T08:00:12.862132Z",
     "iopub.status.idle": "2021-06-08T08:00:12.865175Z",
     "shell.execute_reply": "2021-06-08T08:00:12.865745Z",
     "shell.execute_reply.started": "2021-06-08T06:44:17.971797Z"
    },
    "papermill": {
     "duration": 0.109975,
     "end_time": "2021-06-08T08:00:12.865913",
     "exception": false,
     "start_time": "2021-06-08T08:00:12.755938",
     "status": "completed"
    },
    "tags": []
   },
   "outputs": [],
   "source": [
    "# # xgb model params\n",
    "# xgb_params = {\n",
    "#     'objective': 'binary:logistic',\n",
    "#     'learning_rate': 0.1,\n",
    "#     'max_depth': 9,\n",
    "#     'colsample_bytree': 0.8,\n",
    "#      'subsample': 0.8,\n",
    "#     'eval_metric': 'auc',\n",
    "#     'seed': SEED,\n",
    "\n",
    "#     'min_child_weight' : 3,\n",
    "#      'tree_method' : 'gpu_hist' \n",
    "\n",
    "# } "
   ]
  },
  {
   "cell_type": "code",
   "execution_count": 21,
   "id": "toxic-attendance",
   "metadata": {
    "execution": {
     "iopub.execute_input": "2021-06-08T08:00:13.012620Z",
     "iopub.status.busy": "2021-06-08T08:00:13.011514Z",
     "iopub.status.idle": "2021-06-08T08:00:13.015193Z",
     "shell.execute_reply": "2021-06-08T08:00:13.014625Z",
     "shell.execute_reply.started": "2021-06-08T06:44:17.981996Z"
    },
    "papermill": {
     "duration": 0.079102,
     "end_time": "2021-06-08T08:00:13.015330",
     "exception": false,
     "start_time": "2021-06-08T08:00:12.936228",
     "status": "completed"
    },
    "tags": []
   },
   "outputs": [],
   "source": [
    "# xgb model params\n",
    "xgb_params = {\n",
    "    'objective': 'binary:logistic',\n",
    "    'learning_rate': 0.1,\n",
    "    'max_depth': int(best_hyperparams['max_depth']),\n",
    "    'colsample_bytree': best_hyperparams['colsample_bytree'],\n",
    "     'subsample': best_hyperparams['subsample'],\n",
    "    'eval_metric': 'auc',\n",
    "    'seed': SEED,\n",
    "    'gamma' : best_hyperparams['gamma'],\n",
    "    'min_child_weight' : int(best_hyperparams['min_child_weight']) ,\n",
    "    'tree_method' : 'gpu_hist' \n",
    "\n",
    "} "
   ]
  },
  {
   "cell_type": "code",
   "execution_count": 22,
   "id": "automated-bikini",
   "metadata": {
    "execution": {
     "iopub.execute_input": "2021-06-08T08:00:13.494785Z",
     "iopub.status.busy": "2021-06-08T08:00:13.481379Z",
     "iopub.status.idle": "2021-06-08T08:10:09.442436Z",
     "shell.execute_reply": "2021-06-08T08:10:09.441888Z",
     "shell.execute_reply.started": "2021-06-08T06:44:17.996548Z"
    },
    "papermill": {
     "duration": 596.356772,
     "end_time": "2021-06-08T08:10:09.442675",
     "exception": false,
     "start_time": "2021-06-08T08:00:13.085903",
     "status": "completed"
    },
    "tags": []
   },
   "outputs": [
    {
     "name": "stdout",
     "output_type": "stream",
     "text": [
      "Fold: 1\n",
      "(1051432, 88) (262858, 88)\n",
      "[0]\ttrain-auc:0.70120\tvalid-auc:0.70623\n",
      "[50]\ttrain-auc:0.83178\tvalid-auc:0.75164\n",
      "[100]\ttrain-auc:0.83564\tvalid-auc:0.74994\n",
      "[150]\ttrain-auc:0.83572\tvalid-auc:0.75203\n",
      "[173]\ttrain-auc:0.83371\tvalid-auc:0.75256\n",
      "Fold 1 | AUC Score: 0.754732909532277\n",
      "Fold: 2\n",
      "(1051432, 88) (262858, 88)\n",
      "[0]\ttrain-auc:0.70707\tvalid-auc:0.69926\n",
      "[50]\ttrain-auc:0.83468\tvalid-auc:0.75281\n",
      "[100]\ttrain-auc:0.83856\tvalid-auc:0.74658\n",
      "[150]\ttrain-auc:0.83729\tvalid-auc:0.73403\n",
      "[182]\ttrain-auc:0.83866\tvalid-auc:0.75093\n",
      "Fold 2 | AUC Score: 0.7565933638665706\n",
      "Fold: 3\n",
      "(1051432, 88) (262858, 88)\n",
      "[0]\ttrain-auc:0.71066\tvalid-auc:0.71127\n",
      "[50]\ttrain-auc:0.83432\tvalid-auc:0.75136\n",
      "[100]\ttrain-auc:0.83666\tvalid-auc:0.75377\n",
      "[150]\ttrain-auc:0.83723\tvalid-auc:0.75089\n",
      "[200]\ttrain-auc:0.83823\tvalid-auc:0.75176\n",
      "[215]\ttrain-auc:0.83789\tvalid-auc:0.74911\n",
      "Fold 3 | AUC Score: 0.7545796430110537\n",
      "Fold: 4\n",
      "(1051432, 88) (262858, 88)\n",
      "[0]\ttrain-auc:0.71021\tvalid-auc:0.70598\n",
      "[50]\ttrain-auc:0.83498\tvalid-auc:0.74639\n",
      "[100]\ttrain-auc:0.83591\tvalid-auc:0.74799\n",
      "[150]\ttrain-auc:0.83610\tvalid-auc:0.75119\n",
      "[168]\ttrain-auc:0.83471\tvalid-auc:0.74329\n",
      "Fold 4 | AUC Score: 0.7532251062666726\n",
      "Fold: 5\n",
      "(1051432, 88) (262858, 88)\n",
      "[0]\ttrain-auc:0.70765\tvalid-auc:0.70877\n",
      "[50]\ttrain-auc:0.83220\tvalid-auc:0.75247\n",
      "[100]\ttrain-auc:0.83432\tvalid-auc:0.75467\n",
      "[150]\ttrain-auc:0.83697\tvalid-auc:0.74879\n",
      "[178]\ttrain-auc:0.83709\tvalid-auc:0.75215\n",
      "Fold 5 | AUC Score: 0.7550628532757158\n",
      "\n",
      "Mean AUC score = 0.754838775190458\n",
      "OOF AUC score = 0.7548369634578689\n"
     ]
    }
   ],
   "source": [
    "y_oof_xgb, y_preds_xgb, fi_xgb = make_xgb_prediction(train, y_train, test, features, \\\n",
    "                                                     model_params=xgb_params)"
   ]
  },
  {
   "cell_type": "code",
   "execution_count": 23,
   "id": "sustainable-grenada",
   "metadata": {
    "execution": {
     "iopub.execute_input": "2021-06-08T08:10:09.615715Z",
     "iopub.status.busy": "2021-06-08T08:10:09.614658Z",
     "iopub.status.idle": "2021-06-08T08:10:09.640961Z",
     "shell.execute_reply": "2021-06-08T08:10:09.641910Z",
     "shell.execute_reply.started": "2021-06-08T06:50:39.758914Z"
    },
    "papermill": {
     "duration": 0.113799,
     "end_time": "2021-06-08T08:10:09.642190",
     "exception": false,
     "start_time": "2021-06-08T08:10:09.528391",
     "status": "completed"
    },
    "tags": []
   },
   "outputs": [
    {
     "name": "stdout",
     "output_type": "stream",
     "text": [
      "TEST AUC score = 0.7337023294507146\n"
     ]
    }
   ],
   "source": [
    "print(f\"TEST AUC score = {roc_auc_score(answer['loan_status'], y_preds_xgb)}\")\n"
   ]
  }
 ],
 "metadata": {
  "kernelspec": {
   "display_name": "Python 3",
   "language": "python",
   "name": "python3"
  },
  "language_info": {
   "codemirror_mode": {
    "name": "ipython",
    "version": 3
   },
   "file_extension": ".py",
   "mimetype": "text/x-python",
   "name": "python",
   "nbconvert_exporter": "python",
   "pygments_lexer": "ipython3",
   "version": "3.7.10"
  },
  "papermill": {
   "default_parameters": {},
   "duration": 983.165074,
   "end_time": "2021-06-08T08:10:12.021199",
   "environment_variables": {},
   "exception": null,
   "input_path": "__notebook__.ipynb",
   "output_path": "__notebook__.ipynb",
   "parameters": {},
   "start_time": "2021-06-08T07:53:48.856125",
   "version": "2.3.3"
  }
 },
 "nbformat": 4,
 "nbformat_minor": 5
}
