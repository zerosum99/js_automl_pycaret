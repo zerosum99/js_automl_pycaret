{
 "cells": [
  {
   "cell_type": "markdown",
   "metadata": {
    "id": "dnI49D48NOMS"
   },
   "source": [
    "## 0. Data Load"
   ]
  },
  {
   "cell_type": "code",
   "execution_count": 7,
   "metadata": {
    "executionInfo": {
     "elapsed": 378,
     "status": "ok",
     "timestamp": 1622520055903,
     "user": {
      "displayName": "김유민",
      "photoUrl": "",
      "userId": "07984756873607088886"
     },
     "user_tz": -540
    },
    "id": "HvOw_LB8HWlP"
   },
   "outputs": [],
   "source": [
    "import warnings\n",
    "warnings.filterwarnings('ignore')\n",
    "\n",
    "import os, sys, gc, warnings, random, datetime\n",
    "\n",
    "import pandas as pd\n",
    "import numpy as np\n",
    "\n",
    "from sklearn.preprocessing import LabelEncoder\n",
    "from sklearn.metrics import roc_auc_score, f1_score, precision_recall_curve, accuracy_score\n",
    "from sklearn.model_selection import KFold, StratifiedKFold\n",
    "\n",
    "import lightgbm as lgb\n",
    "\n",
    "from IPython.display import display\n",
    "\n",
    "from sklearn import metrics\n",
    "from sklearn.model_selection import (train_test_split, GridSearchCV)\n",
    "\n",
    "pd.set_option('display.max_columns', 200)"
   ]
  },
  {
   "cell_type": "code",
   "execution_count": 9,
   "metadata": {
    "executionInfo": {
     "elapsed": 10036,
     "status": "ok",
     "timestamp": 1622520078644,
     "user": {
      "displayName": "김유민",
      "photoUrl": "",
      "userId": "07984756873607088886"
     },
     "user_tz": -540
    },
    "id": "h49KywjIIwci"
   },
   "outputs": [],
   "source": [
    "df = pd.read_csv('/content/drive/MyDrive/LendingClub_ym/lgb_selected_default.csv')\n",
    "df = df.loc[df['loan_status'] !=' Current']\n",
    "train, test = train_test_split(df,test_size = 0.2, random_state = 2020)\n",
    "y_train = train.pop('loan_status')\n",
    "y_test = test.pop('loan_status')\n",
    "train.reset_index(drop=True, inplace=True)\n",
    "test.reset_index(drop=True, inplace=True)\n",
    "y_train.reset_index(drop=True, inplace=True)\n",
    "y_test.reset_index(drop=True, inplace=True)"
   ]
  },
  {
   "cell_type": "code",
   "execution_count": null,
   "metadata": {
    "id": "LIqRBKPvQJKp"
   },
   "outputs": [],
   "source": []
  },
  {
   "cell_type": "code",
   "execution_count": null,
   "metadata": {
    "id": "hc4cRu5wQJM2"
   },
   "outputs": [],
   "source": []
  },
  {
   "cell_type": "markdown",
   "metadata": {
    "id": "10eKrfwfQJkL"
   },
   "source": [
    "## Grid Search"
   ]
  },
  {
   "cell_type": "markdown",
   "metadata": {
    "id": "GkFoblE8QeLo"
   },
   "source": [
    "### (1) Initiate a model"
   ]
  },
  {
   "cell_type": "code",
   "execution_count": 13,
   "metadata": {
    "colab": {
     "base_uri": "https://localhost:8080/"
    },
    "executionInfo": {
     "elapsed": 241,
     "status": "ok",
     "timestamp": 1622520088496,
     "user": {
      "displayName": "김유민",
      "photoUrl": "",
      "userId": "07984756873607088886"
     },
     "user_tz": -540
    },
    "id": "1FlcOpGaQKr6",
    "outputId": "a71d5efc-f742-46ad-cc88-4e1e88943f94"
   },
   "outputs": [
    {
     "data": {
      "text/plain": [
       "dict_keys(['boosting_type', 'class_weight', 'colsample_bytree', 'importance_type', 'learning_rate', 'max_depth', 'min_child_samples', 'min_child_weight', 'min_split_gain', 'n_estimators', 'n_jobs', 'num_leaves', 'objective', 'random_state', 'reg_alpha', 'reg_lambda', 'silent', 'subsample', 'subsample_for_bin', 'subsample_freq', 'max_bin'])"
      ]
     },
     "execution_count": 13,
     "metadata": {
      "tags": []
     },
     "output_type": "execute_result"
    }
   ],
   "source": [
    "params = {\n",
    "    'application': 'binary', \n",
    "#     'num_class' : 1, # used for multi-classes\n",
    "    'boosting': 'gbdt', \n",
    "    'num_iterations': 100, \n",
    "    'learning_rate': 0.05,\n",
    "    'num_leaves': 62,\n",
    "    'max_depth': -1,\n",
    "    'max_bin': 510, \n",
    "    'lambda_l1': 5, \n",
    "    'lambda_l2': 10, \n",
    "    'metric' : 'binary_error',\n",
    "    'subsample_for_bin': 200,\n",
    "    'subsample': 1,\n",
    "    'colsample_bytree': 0.8, \n",
    "    'min_split_gain': 0.5, \n",
    "    'min_child_weight': 1, \n",
    "    'min_child_samples': 5\n",
    "}\n",
    "\n",
    "# Initiate classifier to use\n",
    "mdl = lgb.LGBMClassifier(boosting_type= 'gbdt', \n",
    "          objective = 'binary', \n",
    "          n_jobs = 5, \n",
    "          silent = True,\n",
    "          max_depth = params['max_depth'],\n",
    "          max_bin = params['max_bin'], \n",
    "          subsample_for_bin = params['subsample_for_bin'],\n",
    "          subsample = params['subsample'], \n",
    "          min_split_gain = params['min_split_gain'], \n",
    "          min_child_weight = params['min_child_weight'], \n",
    "          min_child_samples = params['min_child_samples'])\n",
    "\n",
    "mdl.get_params().keys()"
   ]
  },
  {
   "cell_type": "markdown",
   "metadata": {
    "id": "SA7Fj_MaQhx3"
   },
   "source": [
    "### (2) Grid Search"
   ]
  },
  {
   "cell_type": "code",
   "execution_count": 19,
   "metadata": {
    "colab": {
     "base_uri": "https://localhost:8080/"
    },
    "executionInfo": {
     "elapsed": 6710448,
     "status": "ok",
     "timestamp": 1622514128078,
     "user": {
      "displayName": "김유민",
      "photoUrl": "",
      "userId": "07984756873607088886"
     },
     "user_tz": -540
    },
    "id": "EnkDOBZcQcYL",
    "outputId": "f97504de-8b4d-4009-af4a-1d82136302bf"
   },
   "outputs": [
    {
     "name": "stdout",
     "output_type": "stream",
     "text": [
      "Fitting 4 folds for each of 32 candidates, totalling 128 fits\n"
     ]
    },
    {
     "name": "stderr",
     "output_type": "stream",
     "text": [
      "[Parallel(n_jobs=-1)]: Using backend LokyBackend with 2 concurrent workers.\n",
      "[Parallel(n_jobs=-1)]: Done  46 tasks      | elapsed: 37.7min\n",
      "[Parallel(n_jobs=-1)]: Done 128 out of 128 | elapsed: 110.3min finished\n"
     ]
    },
    {
     "name": "stdout",
     "output_type": "stream",
     "text": [
      "{'bagging_fraction': 0.6, 'learning_rate': 0.1, 'max_depth': 20, 'num_leaves': 255, 'reg_alpha': 1}\n",
      "0.9918762929763447\n"
     ]
    }
   ],
   "source": [
    "gridParams = {\n",
    "    'bagging_fraction': [0.6, 0.8],\n",
    "    'learning_rate': [0.01, 0.1],\n",
    "    'num_leaves': [125, 255],\n",
    "    'max_depth': [10,20],\n",
    "    'reg_alpha' : [0.5,1]\n",
    "    }\n",
    "\n",
    "grid = GridSearchCV(mdl, gridParams, verbose=1, cv=4, n_jobs=-1)\n",
    "\n",
    "grid.fit(train, y_train)\n",
    "\n",
    "print(grid.best_params_)\n",
    "print(grid.best_score_)"
   ]
  },
  {
   "cell_type": "code",
   "execution_count": 14,
   "metadata": {
    "colab": {
     "base_uri": "https://localhost:8080/"
    },
    "executionInfo": {
     "elapsed": 6604382,
     "status": "ok",
     "timestamp": 1622526709505,
     "user": {
      "displayName": "김유민",
      "photoUrl": "",
      "userId": "07984756873607088886"
     },
     "user_tz": -540
    },
    "id": "eh7eekftu-c3",
    "outputId": "e70e84e8-04af-40e5-e221-fc1baf6c1931"
   },
   "outputs": [
    {
     "name": "stdout",
     "output_type": "stream",
     "text": [
      "Fitting 4 folds for each of 32 candidates, totalling 128 fits\n"
     ]
    },
    {
     "name": "stderr",
     "output_type": "stream",
     "text": [
      "[Parallel(n_jobs=-1)]: Using backend LokyBackend with 2 concurrent workers.\n",
      "[Parallel(n_jobs=-1)]: Done  46 tasks      | elapsed: 37.4min\n",
      "[Parallel(n_jobs=-1)]: Done 128 out of 128 | elapsed: 108.6min finished\n"
     ]
    },
    {
     "name": "stdout",
     "output_type": "stream",
     "text": [
      "{'bagging_fraction': 0.6, 'learning_rate': 0.1, 'max_depth': 20, 'num_leaves': 255, 'reg_alpha': 1}\n",
      "0.9918762929763447\n"
     ]
    }
   ],
   "source": [
    "gridParams = {\n",
    "    'bagging_fraction': [0.6, 0.8],\n",
    "    'learning_rate': [0.01, 0.1],\n",
    "    'num_leaves': [125, 255],\n",
    "    'max_depth': [10,20],\n",
    "    'reg_alpha' : [0.5,1]\n",
    "    }\n",
    "\n",
    "grid = GridSearchCV(mdl, gridParams, verbose=1, cv=4, n_jobs=-1)\n",
    "\n",
    "grid.fit(train, y_train)\n",
    "\n",
    "print(grid.best_params_)\n",
    "print(grid.best_score_)"
   ]
  },
  {
   "cell_type": "code",
   "execution_count": 15,
   "metadata": {
    "executionInfo": {
     "elapsed": 10,
     "status": "ok",
     "timestamp": 1622526709507,
     "user": {
      "displayName": "김유민",
      "photoUrl": "",
      "userId": "07984756873607088886"
     },
     "user_tz": -540
    },
    "id": "ngY8nmi1QuP2"
   },
   "outputs": [],
   "source": [
    "params['bagging_fraction'] = grid.best_params_['bagging_fraction']\n",
    "params['learning_rate'] = grid.best_params_['learning_rate']\n",
    "params['num_leaves'] = grid.best_params_['num_leaves']\n",
    "params['max_depth'] = grid.best_params_['max_depth']\n",
    "params['reg_alpha'] = grid.best_params_['reg_alpha']"
   ]
  },
  {
   "cell_type": "markdown",
   "metadata": {
    "id": "10phcFf0M-bz"
   },
   "source": [
    "### (3) Prediction"
   ]
  },
  {
   "cell_type": "code",
   "execution_count": 11,
   "metadata": {
    "executionInfo": {
     "elapsed": 23,
     "status": "ok",
     "timestamp": 1622520078648,
     "user": {
      "displayName": "김유민",
      "photoUrl": "",
      "userId": "07984756873607088886"
     },
     "user_tz": -540
    },
    "id": "BAwUdxVrI1F6"
   },
   "outputs": [],
   "source": [
    "def seed_everything(seed=0):\n",
    "    random.seed(seed)\n",
    "    os.environ['PYTHONHASHSEED'] = str(seed)\n",
    "    np.random.seed(seed)\n",
    "    \n",
    "SEED = 42\n",
    "seed_everything(SEED)"
   ]
  },
  {
   "cell_type": "code",
   "execution_count": 12,
   "metadata": {
    "executionInfo": {
     "elapsed": 22,
     "status": "ok",
     "timestamp": 1622520078649,
     "user": {
      "displayName": "김유민",
      "photoUrl": "",
      "userId": "07984756873607088886"
     },
     "user_tz": -540
    },
    "id": "rP2PXvhWIRKh"
   },
   "outputs": [],
   "source": [
    "def make_lgb_prediction(train, y, test, features, categorical_features='auto', model_params=None, folds=5):\n",
    "    def lgb_f1_score(y_hat, data):\n",
    "        y_true = data.get_label()\n",
    "        y_hat = np.round(y_hat) \n",
    "        return 'f1', f1_score(y_true, y_hat, average='binary'), True\n",
    "    \n",
    "    skf = KFold(n_splits=folds, random_state=SEED, shuffle=True)\n",
    "    \n",
    "    x_train = train[features]\n",
    "    x_test = test[features]\n",
    "\n",
    "    y_preds = np.zeros(x_test.shape[0])\n",
    "    y_oof = np.zeros(x_train.shape[0])\n",
    "    score = 0\n",
    "\n",
    "    feature_importance = pd.DataFrame()\n",
    "    feature_importance['feature'] = features\n",
    "\n",
    "    for fold, (tr_idx, val_idx) in enumerate(skf.split(x_train, y)):\n",
    "        print(f'Fold: {fold+1}')\n",
    "\n",
    "        x_tr, x_val = x_train.loc[tr_idx, features], x_train.loc[val_idx, features]\n",
    "        y_tr, y_val = y[tr_idx], y[val_idx]\n",
    "\n",
    "        print(x_tr.shape, x_val.shape)\n",
    "\n",
    "        dtrain = lgb.Dataset(x_tr, label=y_tr)\n",
    "        dvalid = lgb.Dataset(x_val, label=y_val)\n",
    "\n",
    "        clf = lgb.train(\n",
    "            model_params,\n",
    "            dtrain,\n",
    "            valid_sets=[dtrain, dvalid],\n",
    "            categorical_feature=categorical_features,\n",
    "            verbose_eval=200,\n",
    "            early_stopping_rounds=100,\n",
    "            feval=lgb_f1_score\n",
    "        )\n",
    "\n",
    "        feature_importance[f'fold_{fold+1}'] = clf.feature_importance()\n",
    "\n",
    "        y_pred_val = clf.predict(x_val)\n",
    "\n",
    "        y_oof[val_idx] = y_pred_val\n",
    "        print(f\"Fold {fold + 1} | F1 Score: {f1_score(y_val, np.round(y_pred_val), average='micro')}\")\n",
    "\n",
    "        score += f1_score(y_val, np.round(y_pred_val), average='micro') / folds\n",
    "        y_preds += clf.predict(x_test) / folds\n",
    "\n",
    "        del x_tr, x_val, y_tr, y_val\n",
    "        gc.collect()\n",
    "\n",
    "    print(f\"\\nMean F1 score = {score}\")\n",
    "    print(f\"OOF F1 score = {f1_score(y, np.round(y_oof), average='micro')}\")\n",
    "    \n",
    "    return y_oof, y_preds, feature_importance"
   ]
  },
  {
   "cell_type": "code",
   "execution_count": 10,
   "metadata": {
    "executionInfo": {
     "elapsed": 24,
     "status": "ok",
     "timestamp": 1622520078647,
     "user": {
      "displayName": "김유민",
      "photoUrl": "",
      "userId": "07984756873607088886"
     },
     "user_tz": -540
    },
    "id": "HjzERb35Iz9r"
   },
   "outputs": [],
   "source": [
    "remove_features = ['id','loan_status']\n",
    "features = [col for col in list(train) if col not in remove_features]"
   ]
  },
  {
   "cell_type": "code",
   "execution_count": 16,
   "metadata": {
    "colab": {
     "base_uri": "https://localhost:8080/"
    },
    "executionInfo": {
     "elapsed": 914732,
     "status": "ok",
     "timestamp": 1622527624233,
     "user": {
      "displayName": "김유민",
      "photoUrl": "",
      "userId": "07984756873607088886"
     },
     "user_tz": -540
    },
    "id": "L9vgtVjEU6uc",
    "outputId": "996c3a69-7929-4d8f-d137-ee90aeb2dac4"
   },
   "outputs": [
    {
     "name": "stdout",
     "output_type": "stream",
     "text": [
      "Fold: 1\n",
      "(1446827, 41) (361707, 41)\n",
      "Training until validation scores don't improve for 100 rounds.\n",
      "Did not meet early stopping. Best iteration is:\n",
      "[100]\ttraining's binary_error: 0.00726072\ttraining's f1: 0.995839\tvalid_1's binary_error: 0.00855665\tvalid_1's f1: 0.995101\n",
      "Fold 1 | F1 Score: 0.991443350557219\n",
      "Fold: 2\n",
      "(1446827, 41) (361707, 41)\n",
      "Training until validation scores don't improve for 100 rounds.\n",
      "Did not meet early stopping. Best iteration is:\n",
      "[100]\ttraining's binary_error: 0.00743835\ttraining's f1: 0.995738\tvalid_1's binary_error: 0.0085373\tvalid_1's f1: 0.995113\n",
      "Fold 2 | F1 Score: 0.9914627032377035\n",
      "Fold: 3\n",
      "(1446827, 41) (361707, 41)\n",
      "Training until validation scores don't improve for 100 rounds.\n",
      "Did not meet early stopping. Best iteration is:\n",
      "[100]\ttraining's binary_error: 0.00733467\ttraining's f1: 0.995797\tvalid_1's binary_error: 0.00870041\tvalid_1's f1: 0.995018\n",
      "Fold 3 | F1 Score: 0.9912995877879057\n",
      "Fold: 4\n",
      "(1446827, 41) (361707, 41)\n",
      "Training until validation scores don't improve for 100 rounds.\n",
      "Did not meet early stopping. Best iteration is:\n",
      "[100]\ttraining's binary_error: 0.00737199\ttraining's f1: 0.995778\tvalid_1's binary_error: 0.008623\tvalid_1's f1: 0.995053\n",
      "Fold 4 | F1 Score: 0.9913769985098436\n",
      "Fold: 5\n",
      "(1446828, 41) (361706, 41)\n",
      "Training until validation scores don't improve for 100 rounds.\n",
      "Did not meet early stopping. Best iteration is:\n",
      "[100]\ttraining's binary_error: 0.00748603\ttraining's f1: 0.99571\tvalid_1's binary_error: 0.0085152\tvalid_1's f1: 0.995125\n",
      "Fold 5 | F1 Score: 0.9914847970451139\n",
      "\n",
      "Mean F1 score = 0.9914134874275572\n",
      "OOF F1 score = 0.9914134873881276\n"
     ]
    }
   ],
   "source": [
    "y_oof_lgb, y_preds_lgb, fi_lgb = make_lgb_prediction(train, y_train, test, features, model_params=params)"
   ]
  },
  {
   "cell_type": "code",
   "execution_count": null,
   "metadata": {
    "id": "kSVcVOna7ndH"
   },
   "outputs": [],
   "source": []
  }
 ],
 "metadata": {
  "colab": {
   "authorship_tag": "ABX9TyM+vL2uBceaajUc6GxfMwUA",
   "collapsed_sections": [],
   "mount_file_id": "1KcqeHhub4z8oPhNRuMuEw8IypCj1F-Oo",
   "name": "[Default Prediction] LightGBM with Grid Search Optimization.ipynb",
   "provenance": []
  },
  "hide_input": false,
  "kernelspec": {
   "display_name": "Python 3",
   "language": "python",
   "name": "python3"
  },
  "language_info": {
   "codemirror_mode": {
    "name": "ipython",
    "version": 3
   },
   "file_extension": ".py",
   "mimetype": "text/x-python",
   "name": "python",
   "nbconvert_exporter": "python",
   "pygments_lexer": "ipython3",
   "version": "3.7.10"
  }
 },
 "nbformat": 4,
 "nbformat_minor": 1
}
