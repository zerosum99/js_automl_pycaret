{
 "cells": [
  {
   "cell_type": "code",
   "execution_count": null,
   "id": "fa83a89d-a8b1-41c9-bbeb-810f5443e37a",
   "metadata": {},
   "outputs": [],
   "source": []
  },
  {
   "cell_type": "code",
   "execution_count": 1,
   "id": "4fd8871c-0dba-4200-a148-619559a7765b",
   "metadata": {},
   "outputs": [],
   "source": [
    "import pycaret"
   ]
  },
  {
   "cell_type": "code",
   "execution_count": 2,
   "id": "b5bc21fa-b7a7-41cf-a2d3-90438803f7ba",
   "metadata": {},
   "outputs": [
    {
     "data": {
      "text/plain": [
       "'3.0.0'"
      ]
     },
     "execution_count": 2,
     "metadata": {},
     "output_type": "execute_result"
    }
   ],
   "source": [
    "pycaret.__version__"
   ]
  },
  {
   "cell_type": "code",
   "execution_count": 3,
   "id": "7d897797-fef8-4ec9-b165-5f0c1f72155f",
   "metadata": {},
   "outputs": [],
   "source": [
    "import pandas as pd"
   ]
  },
  {
   "cell_type": "code",
   "execution_count": null,
   "id": "a38b6fd3-3293-42b1-9ea7-910a6dedbfd2",
   "metadata": {},
   "outputs": [],
   "source": []
  },
  {
   "cell_type": "code",
   "execution_count": 25,
   "id": "a0d0a5cd-6bea-4811-b014-a93f7b892412",
   "metadata": {},
   "outputs": [],
   "source": [
    "path_read =\"/Users/a06411/Documents/data_hub/lending_club/lending_club.csv\""
   ]
  },
  {
   "cell_type": "code",
   "execution_count": 26,
   "id": "47abb159-66fe-4160-93ff-b4c06b0ba995",
   "metadata": {},
   "outputs": [],
   "source": [
    "df = pd.read_csv(path_read)"
   ]
  },
  {
   "cell_type": "code",
   "execution_count": 31,
   "id": "6cca362d-7c69-4a98-9893-44f373e08c11",
   "metadata": {},
   "outputs": [
    {
     "data": {
      "text/plain": [
       "(2260701, 151)"
      ]
     },
     "execution_count": 31,
     "metadata": {},
     "output_type": "execute_result"
    }
   ],
   "source": [
    "df.shape"
   ]
  },
  {
   "cell_type": "code",
   "execution_count": 61,
   "id": "bf500fd4-1c27-414a-a875-b6e1f6d09e14",
   "metadata": {},
   "outputs": [],
   "source": [
    "###Drop Current\n",
    "df = df[df['loan_status'] != 'Current']"
   ]
  },
  {
   "cell_type": "code",
   "execution_count": 62,
   "id": "911ac582-e2ab-4a21-9bf7-d92519e8bf0b",
   "metadata": {},
   "outputs": [
    {
     "data": {
      "text/plain": [
       "Fully Paid                                             1076751\n",
       "Charged Off                                             268559\n",
       "Late (31-120 days)                                       21467\n",
       "In Grace Period                                           8436\n",
       "Late (16-30 days)                                         4349\n",
       "Does not meet the credit policy. Status:Fully Paid        1988\n",
       "Does not meet the credit policy. Status:Charged Off        761\n",
       "Default                                                     40\n",
       "Name: loan_status, dtype: int64"
      ]
     },
     "execution_count": 62,
     "metadata": {},
     "output_type": "execute_result"
    }
   ],
   "source": [
    "df['loan_status'].value_counts()"
   ]
  },
  {
   "cell_type": "code",
   "execution_count": 63,
   "id": "eb74a4f2-48dc-43fa-802f-83fce5e6f557",
   "metadata": {},
   "outputs": [],
   "source": [
    "df['loan_status'] = df.loan_status.map({'Fully Paid':0, \n",
    "                                            'Charged Off': 1\n",
    "                                            , 'Late (31-120 days)': 1\n",
    "                                           , 'Late (16-30 days)': 1\n",
    "                                           , 'In Grace Period': 0\n",
    "                                           , 'Does not meet the credit policy. Status:Fully Paid': 0\n",
    "                                           , 'Does not meet the credit policy. Status:Charged Off': 1\n",
    "                                           , 'Default': 1})"
   ]
  },
  {
   "cell_type": "code",
   "execution_count": 64,
   "id": "613337f1-f00b-4fa0-bdbc-bf53cdfacba9",
   "metadata": {},
   "outputs": [
    {
     "data": {
      "text/plain": [
       "0    1087175\n",
       "1     295176\n",
       "Name: loan_status, dtype: int64"
      ]
     },
     "execution_count": 64,
     "metadata": {},
     "output_type": "execute_result"
    }
   ],
   "source": [
    "df['loan_status'].value_counts()"
   ]
  },
  {
   "cell_type": "code",
   "execution_count": null,
   "id": "73f274d2-5464-4a63-af43-2f529cb2be04",
   "metadata": {},
   "outputs": [],
   "source": []
  },
  {
   "cell_type": "code",
   "execution_count": 65,
   "id": "0a374379-0299-4722-806d-d9b496e1bd06",
   "metadata": {},
   "outputs": [],
   "source": [
    "feat_imp = [\"int_rate\",\"dti\",\"annual_inc\",\"mo_sin_old_rev_tl_op\",\n",
    "            \"acc_open_past_24mths\",\"loan_amnt\",\"emp_length\",\n",
    "            \"revol_bal\", \"term\", \"funded_amnt_inv\", \"installment\", \"purpose\",\n",
    "            \"total_rev_hi_lim\",\"fico_range_low\",\"debt_settlement_flag\", \n",
    "            \"mort_acc\",\"total_bc_limit\",\"home_ownership\",\n",
    "            \"avg_cur_bal\",\"all_util\",\"mths_since_recent_bc\",\"total_acc\",\n",
    "            \"open_acc_6m\",\"bc_util\",\"num_actv_rev_tl\",    \n",
    "            \"funded_amnt\",\"hardship_flag\",\"num_rev_tl_bal_gt_0\",\n",
    "            \"mths_since_recent_inq\",\"inq_last_6mths\", \"num_il_tl\",\n",
    "            \"mo_sin_old_il_acct\",\"num_rev_accts\",\"num_tl_120dpd_2m\",\n",
    "            \"total_il_high_credit_limit\",\"application_type\",\n",
    "            \"revol_util\",\"tot_hi_cred_lim\",\"delinq_2yrs\",\n",
    "            \"mo_sin_rcnt_tl\",\"num_actv_bc_tl\",\"mths_since_last_record\",\n",
    "            \"percent_bc_gt_75\", \"bc_open_to_buy\",\"max_bal_bc\",\n",
    "            \"grade\",\"open_rv_24m\",\"mo_sin_rcnt_rev_tl_op\",\n",
    "            \"pct_tl_nvr_dlq\",\"verification_status\",\"tot_cur_bal\",\"total_bal_ex_mort\",\n",
    "            \"mths_since_last_major_derog\",\"inq_fi\",\"mths_since_rcnt_il\",\n",
    "            \"inq_last_12m\",\"mths_since_last_delinq\",\"num_bc_tl\", 'loan_status']"
   ]
  },
  {
   "cell_type": "code",
   "execution_count": 66,
   "id": "4cdd1f78-6b24-43c7-b64e-602d65ea6187",
   "metadata": {},
   "outputs": [
    {
     "data": {
      "text/plain": [
       "0"
      ]
     },
     "execution_count": 66,
     "metadata": {},
     "output_type": "execute_result"
    }
   ],
   "source": [
    "df['loan_status'].isna().sum()"
   ]
  },
  {
   "cell_type": "code",
   "execution_count": 67,
   "id": "8a737937-38f7-4748-aad2-0ebec920a2ad",
   "metadata": {},
   "outputs": [],
   "source": [
    "df = df[df['loan_status'].notna()] "
   ]
  },
  {
   "cell_type": "code",
   "execution_count": 68,
   "id": "391c318b-8751-4e6b-95b8-469d18f40ed2",
   "metadata": {},
   "outputs": [
    {
     "data": {
      "text/plain": [
       "(1382351, 151)"
      ]
     },
     "execution_count": 68,
     "metadata": {},
     "output_type": "execute_result"
    }
   ],
   "source": [
    "df.shape"
   ]
  },
  {
   "cell_type": "code",
   "execution_count": 69,
   "id": "8663c66b-8152-4c33-9ba3-c770d5070123",
   "metadata": {},
   "outputs": [],
   "source": [
    "df_a = df[feat_imp]"
   ]
  },
  {
   "cell_type": "code",
   "execution_count": 70,
   "id": "a2f6ea4b-f0dc-4d4e-b111-3b915bd17126",
   "metadata": {},
   "outputs": [
    {
     "data": {
      "text/plain": [
       "(1382351, 59)"
      ]
     },
     "execution_count": 70,
     "metadata": {},
     "output_type": "execute_result"
    }
   ],
   "source": [
    "df_a.shape"
   ]
  },
  {
   "cell_type": "code",
   "execution_count": null,
   "id": "5df7ab31-9511-420b-a1e8-7b4df8df530f",
   "metadata": {},
   "outputs": [],
   "source": []
  },
  {
   "cell_type": "code",
   "execution_count": 71,
   "id": "392c0583-3bed-4e13-92d7-4707059462a0",
   "metadata": {},
   "outputs": [],
   "source": [
    "from sklearn.model_selection import train_test_split\n",
    "from sklearn.metrics import roc_auc_score "
   ]
  },
  {
   "cell_type": "code",
   "execution_count": 72,
   "id": "2fd5c082-f6b3-41ef-9e15-2837c29a5d1e",
   "metadata": {},
   "outputs": [],
   "source": [
    "SEED = 2021\n",
    "TARGET = 'loan_status'"
   ]
  },
  {
   "cell_type": "code",
   "execution_count": 73,
   "id": "4dd8e9de-2431-4a1f-9333-1d0348db623f",
   "metadata": {},
   "outputs": [],
   "source": [
    "X = df_a\n",
    "Y = df_a['loan_status']"
   ]
  },
  {
   "cell_type": "code",
   "execution_count": 74,
   "id": "a7372888-2f94-4dbe-bf81-32d7bdd81e36",
   "metadata": {},
   "outputs": [],
   "source": [
    "X_train, X_test = train_test_split(X, test_size = 0.999, stratify=Y,random_state = SEED)"
   ]
  },
  {
   "cell_type": "code",
   "execution_count": 75,
   "id": "2e6c95a8-ad3c-49a4-8aa1-742bf3d76cdc",
   "metadata": {},
   "outputs": [
    {
     "data": {
      "text/plain": [
       "(1382, 59)"
      ]
     },
     "execution_count": 75,
     "metadata": {},
     "output_type": "execute_result"
    }
   ],
   "source": [
    "X_train.shape"
   ]
  },
  {
   "cell_type": "code",
   "execution_count": null,
   "id": "f1a00209-f060-4a55-803a-5f17cc77fdd8",
   "metadata": {},
   "outputs": [],
   "source": []
  },
  {
   "cell_type": "code",
   "execution_count": 76,
   "id": "97720718-624a-4305-9464-12116cd5de15",
   "metadata": {},
   "outputs": [
    {
     "data": {
      "text/plain": [
       "0    1087\n",
       "1     295\n",
       "Name: loan_status, dtype: int64"
      ]
     },
     "execution_count": 76,
     "metadata": {},
     "output_type": "execute_result"
    }
   ],
   "source": [
    "X_train['loan_status'].value_counts()"
   ]
  },
  {
   "cell_type": "code",
   "execution_count": null,
   "id": "a12484db-97b5-4e9c-8d5d-7c2b2b0791d1",
   "metadata": {},
   "outputs": [],
   "source": []
  },
  {
   "cell_type": "code",
   "execution_count": 46,
   "id": "44e89b43-64b0-4dda-bbb3-0710253cbc99",
   "metadata": {},
   "outputs": [],
   "source": [
    "# 분류 \n",
    "from pycaret.classification import *"
   ]
  },
  {
   "cell_type": "code",
   "execution_count": 77,
   "id": "0fcdb1ce-fc17-4552-8598-6c2b56da22ab",
   "metadata": {},
   "outputs": [
    {
     "data": {
      "text/html": [
       "<style type=\"text/css\">\n",
       "#T_a9190_row11_col1 {\n",
       "  background-color: lightgreen;\n",
       "}\n",
       "</style>\n",
       "<table id=\"T_a9190\">\n",
       "  <thead>\n",
       "    <tr>\n",
       "      <th class=\"blank level0\" >&nbsp;</th>\n",
       "      <th id=\"T_a9190_level0_col0\" class=\"col_heading level0 col0\" >Description</th>\n",
       "      <th id=\"T_a9190_level0_col1\" class=\"col_heading level0 col1\" >Value</th>\n",
       "    </tr>\n",
       "  </thead>\n",
       "  <tbody>\n",
       "    <tr>\n",
       "      <th id=\"T_a9190_level0_row0\" class=\"row_heading level0 row0\" >0</th>\n",
       "      <td id=\"T_a9190_row0_col0\" class=\"data row0 col0\" >Session id</td>\n",
       "      <td id=\"T_a9190_row0_col1\" class=\"data row0 col1\" >1867</td>\n",
       "    </tr>\n",
       "    <tr>\n",
       "      <th id=\"T_a9190_level0_row1\" class=\"row_heading level0 row1\" >1</th>\n",
       "      <td id=\"T_a9190_row1_col0\" class=\"data row1 col0\" >Target</td>\n",
       "      <td id=\"T_a9190_row1_col1\" class=\"data row1 col1\" >loan_status</td>\n",
       "    </tr>\n",
       "    <tr>\n",
       "      <th id=\"T_a9190_level0_row2\" class=\"row_heading level0 row2\" >2</th>\n",
       "      <td id=\"T_a9190_row2_col0\" class=\"data row2 col0\" >Target type</td>\n",
       "      <td id=\"T_a9190_row2_col1\" class=\"data row2 col1\" >Binary</td>\n",
       "    </tr>\n",
       "    <tr>\n",
       "      <th id=\"T_a9190_level0_row3\" class=\"row_heading level0 row3\" >3</th>\n",
       "      <td id=\"T_a9190_row3_col0\" class=\"data row3 col0\" >Original data shape</td>\n",
       "      <td id=\"T_a9190_row3_col1\" class=\"data row3 col1\" >(1382, 59)</td>\n",
       "    </tr>\n",
       "    <tr>\n",
       "      <th id=\"T_a9190_level0_row4\" class=\"row_heading level0 row4\" >4</th>\n",
       "      <td id=\"T_a9190_row4_col0\" class=\"data row4 col0\" >Transformed data shape</td>\n",
       "      <td id=\"T_a9190_row4_col1\" class=\"data row4 col1\" >(1382, 91)</td>\n",
       "    </tr>\n",
       "    <tr>\n",
       "      <th id=\"T_a9190_level0_row5\" class=\"row_heading level0 row5\" >5</th>\n",
       "      <td id=\"T_a9190_row5_col0\" class=\"data row5 col0\" >Transformed train set shape</td>\n",
       "      <td id=\"T_a9190_row5_col1\" class=\"data row5 col1\" >(967, 91)</td>\n",
       "    </tr>\n",
       "    <tr>\n",
       "      <th id=\"T_a9190_level0_row6\" class=\"row_heading level0 row6\" >6</th>\n",
       "      <td id=\"T_a9190_row6_col0\" class=\"data row6 col0\" >Transformed test set shape</td>\n",
       "      <td id=\"T_a9190_row6_col1\" class=\"data row6 col1\" >(415, 91)</td>\n",
       "    </tr>\n",
       "    <tr>\n",
       "      <th id=\"T_a9190_level0_row7\" class=\"row_heading level0 row7\" >7</th>\n",
       "      <td id=\"T_a9190_row7_col0\" class=\"data row7 col0\" >Ordinal features</td>\n",
       "      <td id=\"T_a9190_row7_col1\" class=\"data row7 col1\" >3</td>\n",
       "    </tr>\n",
       "    <tr>\n",
       "      <th id=\"T_a9190_level0_row8\" class=\"row_heading level0 row8\" >8</th>\n",
       "      <td id=\"T_a9190_row8_col0\" class=\"data row8 col0\" >Numeric features</td>\n",
       "      <td id=\"T_a9190_row8_col1\" class=\"data row8 col1\" >49</td>\n",
       "    </tr>\n",
       "    <tr>\n",
       "      <th id=\"T_a9190_level0_row9\" class=\"row_heading level0 row9\" >9</th>\n",
       "      <td id=\"T_a9190_row9_col0\" class=\"data row9 col0\" >Categorical features</td>\n",
       "      <td id=\"T_a9190_row9_col1\" class=\"data row9 col1\" >9</td>\n",
       "    </tr>\n",
       "    <tr>\n",
       "      <th id=\"T_a9190_level0_row10\" class=\"row_heading level0 row10\" >10</th>\n",
       "      <td id=\"T_a9190_row10_col0\" class=\"data row10 col0\" >Rows with missing values</td>\n",
       "      <td id=\"T_a9190_row10_col1\" class=\"data row10 col1\" >98.6%</td>\n",
       "    </tr>\n",
       "    <tr>\n",
       "      <th id=\"T_a9190_level0_row11\" class=\"row_heading level0 row11\" >11</th>\n",
       "      <td id=\"T_a9190_row11_col0\" class=\"data row11 col0\" >Preprocess</td>\n",
       "      <td id=\"T_a9190_row11_col1\" class=\"data row11 col1\" >True</td>\n",
       "    </tr>\n",
       "    <tr>\n",
       "      <th id=\"T_a9190_level0_row12\" class=\"row_heading level0 row12\" >12</th>\n",
       "      <td id=\"T_a9190_row12_col0\" class=\"data row12 col0\" >Imputation type</td>\n",
       "      <td id=\"T_a9190_row12_col1\" class=\"data row12 col1\" >simple</td>\n",
       "    </tr>\n",
       "    <tr>\n",
       "      <th id=\"T_a9190_level0_row13\" class=\"row_heading level0 row13\" >13</th>\n",
       "      <td id=\"T_a9190_row13_col0\" class=\"data row13 col0\" >Numeric imputation</td>\n",
       "      <td id=\"T_a9190_row13_col1\" class=\"data row13 col1\" >mean</td>\n",
       "    </tr>\n",
       "    <tr>\n",
       "      <th id=\"T_a9190_level0_row14\" class=\"row_heading level0 row14\" >14</th>\n",
       "      <td id=\"T_a9190_row14_col0\" class=\"data row14 col0\" >Categorical imputation</td>\n",
       "      <td id=\"T_a9190_row14_col1\" class=\"data row14 col1\" >mode</td>\n",
       "    </tr>\n",
       "    <tr>\n",
       "      <th id=\"T_a9190_level0_row15\" class=\"row_heading level0 row15\" >15</th>\n",
       "      <td id=\"T_a9190_row15_col0\" class=\"data row15 col0\" >Maximum one-hot encoding</td>\n",
       "      <td id=\"T_a9190_row15_col1\" class=\"data row15 col1\" >25</td>\n",
       "    </tr>\n",
       "    <tr>\n",
       "      <th id=\"T_a9190_level0_row16\" class=\"row_heading level0 row16\" >16</th>\n",
       "      <td id=\"T_a9190_row16_col0\" class=\"data row16 col0\" >Encoding method</td>\n",
       "      <td id=\"T_a9190_row16_col1\" class=\"data row16 col1\" >None</td>\n",
       "    </tr>\n",
       "    <tr>\n",
       "      <th id=\"T_a9190_level0_row17\" class=\"row_heading level0 row17\" >17</th>\n",
       "      <td id=\"T_a9190_row17_col0\" class=\"data row17 col0\" >Fold Generator</td>\n",
       "      <td id=\"T_a9190_row17_col1\" class=\"data row17 col1\" >StratifiedKFold</td>\n",
       "    </tr>\n",
       "    <tr>\n",
       "      <th id=\"T_a9190_level0_row18\" class=\"row_heading level0 row18\" >18</th>\n",
       "      <td id=\"T_a9190_row18_col0\" class=\"data row18 col0\" >Fold Number</td>\n",
       "      <td id=\"T_a9190_row18_col1\" class=\"data row18 col1\" >10</td>\n",
       "    </tr>\n",
       "    <tr>\n",
       "      <th id=\"T_a9190_level0_row19\" class=\"row_heading level0 row19\" >19</th>\n",
       "      <td id=\"T_a9190_row19_col0\" class=\"data row19 col0\" >CPU Jobs</td>\n",
       "      <td id=\"T_a9190_row19_col1\" class=\"data row19 col1\" >-1</td>\n",
       "    </tr>\n",
       "    <tr>\n",
       "      <th id=\"T_a9190_level0_row20\" class=\"row_heading level0 row20\" >20</th>\n",
       "      <td id=\"T_a9190_row20_col0\" class=\"data row20 col0\" >Use GPU</td>\n",
       "      <td id=\"T_a9190_row20_col1\" class=\"data row20 col1\" >False</td>\n",
       "    </tr>\n",
       "    <tr>\n",
       "      <th id=\"T_a9190_level0_row21\" class=\"row_heading level0 row21\" >21</th>\n",
       "      <td id=\"T_a9190_row21_col0\" class=\"data row21 col0\" >Log Experiment</td>\n",
       "      <td id=\"T_a9190_row21_col1\" class=\"data row21 col1\" >False</td>\n",
       "    </tr>\n",
       "    <tr>\n",
       "      <th id=\"T_a9190_level0_row22\" class=\"row_heading level0 row22\" >22</th>\n",
       "      <td id=\"T_a9190_row22_col0\" class=\"data row22 col0\" >Experiment Name</td>\n",
       "      <td id=\"T_a9190_row22_col1\" class=\"data row22 col1\" >clf-default-name</td>\n",
       "    </tr>\n",
       "    <tr>\n",
       "      <th id=\"T_a9190_level0_row23\" class=\"row_heading level0 row23\" >23</th>\n",
       "      <td id=\"T_a9190_row23_col0\" class=\"data row23 col0\" >USI</td>\n",
       "      <td id=\"T_a9190_row23_col1\" class=\"data row23 col1\" >6c2f</td>\n",
       "    </tr>\n",
       "  </tbody>\n",
       "</table>\n"
      ],
      "text/plain": [
       "<pandas.io.formats.style.Styler at 0x2e7c7d760>"
      ]
     },
     "metadata": {},
     "output_type": "display_data"
    }
   ],
   "source": [
    "setup_clf = setup(data=X_train, target='loan_status')"
   ]
  },
  {
   "cell_type": "code",
   "execution_count": 78,
   "id": "155ee1da-ff20-4de0-9f8a-ee35de8fee1d",
   "metadata": {},
   "outputs": [
    {
     "data": {
      "text/html": [
       "<div>\n",
       "<style scoped>\n",
       "    .dataframe tbody tr th:only-of-type {\n",
       "        vertical-align: middle;\n",
       "    }\n",
       "\n",
       "    .dataframe tbody tr th {\n",
       "        vertical-align: top;\n",
       "    }\n",
       "\n",
       "    .dataframe thead th {\n",
       "        text-align: right;\n",
       "    }\n",
       "</style>\n",
       "<table border=\"1\" class=\"dataframe\">\n",
       "  <thead>\n",
       "    <tr style=\"text-align: right;\">\n",
       "      <th></th>\n",
       "      <th>Name</th>\n",
       "      <th>Reference</th>\n",
       "      <th>Turbo</th>\n",
       "    </tr>\n",
       "    <tr>\n",
       "      <th>ID</th>\n",
       "      <th></th>\n",
       "      <th></th>\n",
       "      <th></th>\n",
       "    </tr>\n",
       "  </thead>\n",
       "  <tbody>\n",
       "    <tr>\n",
       "      <th>lr</th>\n",
       "      <td>Logistic Regression</td>\n",
       "      <td>sklearn.linear_model._logistic.LogisticRegression</td>\n",
       "      <td>True</td>\n",
       "    </tr>\n",
       "    <tr>\n",
       "      <th>knn</th>\n",
       "      <td>K Neighbors Classifier</td>\n",
       "      <td>sklearn.neighbors._classification.KNeighborsCl...</td>\n",
       "      <td>True</td>\n",
       "    </tr>\n",
       "    <tr>\n",
       "      <th>nb</th>\n",
       "      <td>Naive Bayes</td>\n",
       "      <td>sklearn.naive_bayes.GaussianNB</td>\n",
       "      <td>True</td>\n",
       "    </tr>\n",
       "    <tr>\n",
       "      <th>dt</th>\n",
       "      <td>Decision Tree Classifier</td>\n",
       "      <td>sklearn.tree._classes.DecisionTreeClassifier</td>\n",
       "      <td>True</td>\n",
       "    </tr>\n",
       "    <tr>\n",
       "      <th>svm</th>\n",
       "      <td>SVM - Linear Kernel</td>\n",
       "      <td>sklearn.linear_model._stochastic_gradient.SGDC...</td>\n",
       "      <td>True</td>\n",
       "    </tr>\n",
       "    <tr>\n",
       "      <th>rbfsvm</th>\n",
       "      <td>SVM - Radial Kernel</td>\n",
       "      <td>sklearn.svm._classes.SVC</td>\n",
       "      <td>False</td>\n",
       "    </tr>\n",
       "    <tr>\n",
       "      <th>gpc</th>\n",
       "      <td>Gaussian Process Classifier</td>\n",
       "      <td>sklearn.gaussian_process._gpc.GaussianProcessC...</td>\n",
       "      <td>False</td>\n",
       "    </tr>\n",
       "    <tr>\n",
       "      <th>mlp</th>\n",
       "      <td>MLP Classifier</td>\n",
       "      <td>sklearn.neural_network._multilayer_perceptron....</td>\n",
       "      <td>False</td>\n",
       "    </tr>\n",
       "    <tr>\n",
       "      <th>ridge</th>\n",
       "      <td>Ridge Classifier</td>\n",
       "      <td>sklearn.linear_model._ridge.RidgeClassifier</td>\n",
       "      <td>True</td>\n",
       "    </tr>\n",
       "    <tr>\n",
       "      <th>rf</th>\n",
       "      <td>Random Forest Classifier</td>\n",
       "      <td>sklearn.ensemble._forest.RandomForestClassifier</td>\n",
       "      <td>True</td>\n",
       "    </tr>\n",
       "    <tr>\n",
       "      <th>qda</th>\n",
       "      <td>Quadratic Discriminant Analysis</td>\n",
       "      <td>sklearn.discriminant_analysis.QuadraticDiscrim...</td>\n",
       "      <td>True</td>\n",
       "    </tr>\n",
       "    <tr>\n",
       "      <th>ada</th>\n",
       "      <td>Ada Boost Classifier</td>\n",
       "      <td>sklearn.ensemble._weight_boosting.AdaBoostClas...</td>\n",
       "      <td>True</td>\n",
       "    </tr>\n",
       "    <tr>\n",
       "      <th>gbc</th>\n",
       "      <td>Gradient Boosting Classifier</td>\n",
       "      <td>sklearn.ensemble._gb.GradientBoostingClassifier</td>\n",
       "      <td>True</td>\n",
       "    </tr>\n",
       "    <tr>\n",
       "      <th>lda</th>\n",
       "      <td>Linear Discriminant Analysis</td>\n",
       "      <td>sklearn.discriminant_analysis.LinearDiscrimina...</td>\n",
       "      <td>True</td>\n",
       "    </tr>\n",
       "    <tr>\n",
       "      <th>et</th>\n",
       "      <td>Extra Trees Classifier</td>\n",
       "      <td>sklearn.ensemble._forest.ExtraTreesClassifier</td>\n",
       "      <td>True</td>\n",
       "    </tr>\n",
       "    <tr>\n",
       "      <th>xgboost</th>\n",
       "      <td>Extreme Gradient Boosting</td>\n",
       "      <td>xgboost.sklearn.XGBClassifier</td>\n",
       "      <td>True</td>\n",
       "    </tr>\n",
       "    <tr>\n",
       "      <th>lightgbm</th>\n",
       "      <td>Light Gradient Boosting Machine</td>\n",
       "      <td>lightgbm.sklearn.LGBMClassifier</td>\n",
       "      <td>True</td>\n",
       "    </tr>\n",
       "    <tr>\n",
       "      <th>catboost</th>\n",
       "      <td>CatBoost Classifier</td>\n",
       "      <td>catboost.core.CatBoostClassifier</td>\n",
       "      <td>True</td>\n",
       "    </tr>\n",
       "    <tr>\n",
       "      <th>dummy</th>\n",
       "      <td>Dummy Classifier</td>\n",
       "      <td>sklearn.dummy.DummyClassifier</td>\n",
       "      <td>True</td>\n",
       "    </tr>\n",
       "  </tbody>\n",
       "</table>\n",
       "</div>"
      ],
      "text/plain": [
       "                                     Name  \\\n",
       "ID                                          \n",
       "lr                    Logistic Regression   \n",
       "knn                K Neighbors Classifier   \n",
       "nb                            Naive Bayes   \n",
       "dt               Decision Tree Classifier   \n",
       "svm                   SVM - Linear Kernel   \n",
       "rbfsvm                SVM - Radial Kernel   \n",
       "gpc           Gaussian Process Classifier   \n",
       "mlp                        MLP Classifier   \n",
       "ridge                    Ridge Classifier   \n",
       "rf               Random Forest Classifier   \n",
       "qda       Quadratic Discriminant Analysis   \n",
       "ada                  Ada Boost Classifier   \n",
       "gbc          Gradient Boosting Classifier   \n",
       "lda          Linear Discriminant Analysis   \n",
       "et                 Extra Trees Classifier   \n",
       "xgboost         Extreme Gradient Boosting   \n",
       "lightgbm  Light Gradient Boosting Machine   \n",
       "catboost              CatBoost Classifier   \n",
       "dummy                    Dummy Classifier   \n",
       "\n",
       "                                                  Reference  Turbo  \n",
       "ID                                                                  \n",
       "lr        sklearn.linear_model._logistic.LogisticRegression   True  \n",
       "knn       sklearn.neighbors._classification.KNeighborsCl...   True  \n",
       "nb                           sklearn.naive_bayes.GaussianNB   True  \n",
       "dt             sklearn.tree._classes.DecisionTreeClassifier   True  \n",
       "svm       sklearn.linear_model._stochastic_gradient.SGDC...   True  \n",
       "rbfsvm                             sklearn.svm._classes.SVC  False  \n",
       "gpc       sklearn.gaussian_process._gpc.GaussianProcessC...  False  \n",
       "mlp       sklearn.neural_network._multilayer_perceptron....  False  \n",
       "ridge           sklearn.linear_model._ridge.RidgeClassifier   True  \n",
       "rf          sklearn.ensemble._forest.RandomForestClassifier   True  \n",
       "qda       sklearn.discriminant_analysis.QuadraticDiscrim...   True  \n",
       "ada       sklearn.ensemble._weight_boosting.AdaBoostClas...   True  \n",
       "gbc         sklearn.ensemble._gb.GradientBoostingClassifier   True  \n",
       "lda       sklearn.discriminant_analysis.LinearDiscrimina...   True  \n",
       "et            sklearn.ensemble._forest.ExtraTreesClassifier   True  \n",
       "xgboost                       xgboost.sklearn.XGBClassifier   True  \n",
       "lightgbm                    lightgbm.sklearn.LGBMClassifier   True  \n",
       "catboost                   catboost.core.CatBoostClassifier   True  \n",
       "dummy                         sklearn.dummy.DummyClassifier   True  "
      ]
     },
     "execution_count": 78,
     "metadata": {},
     "output_type": "execute_result"
    }
   ],
   "source": [
    "models()"
   ]
  },
  {
   "cell_type": "code",
   "execution_count": null,
   "id": "d3e29b71-1c84-40eb-941a-f7eeb3e22b90",
   "metadata": {},
   "outputs": [],
   "source": []
  },
  {
   "cell_type": "code",
   "execution_count": 79,
   "id": "fa45ae4d-5aca-4db6-ab02-da5966ed84d4",
   "metadata": {},
   "outputs": [
    {
     "data": {
      "text/html": [],
      "text/plain": [
       "<IPython.core.display.HTML object>"
      ]
     },
     "metadata": {},
     "output_type": "display_data"
    },
    {
     "data": {
      "text/html": [
       "<style type=\"text/css\">\n",
       "#T_ee14e_row5_col0, #T_ee14e_row5_col1, #T_ee14e_row5_col2, #T_ee14e_row5_col3, #T_ee14e_row5_col4, #T_ee14e_row5_col5, #T_ee14e_row5_col6 {\n",
       "  background: yellow;\n",
       "}\n",
       "</style>\n",
       "<table id=\"T_ee14e\">\n",
       "  <thead>\n",
       "    <tr>\n",
       "      <th class=\"blank level0\" >&nbsp;</th>\n",
       "      <th id=\"T_ee14e_level0_col0\" class=\"col_heading level0 col0\" >Accuracy</th>\n",
       "      <th id=\"T_ee14e_level0_col1\" class=\"col_heading level0 col1\" >AUC</th>\n",
       "      <th id=\"T_ee14e_level0_col2\" class=\"col_heading level0 col2\" >Recall</th>\n",
       "      <th id=\"T_ee14e_level0_col3\" class=\"col_heading level0 col3\" >Prec.</th>\n",
       "      <th id=\"T_ee14e_level0_col4\" class=\"col_heading level0 col4\" >F1</th>\n",
       "      <th id=\"T_ee14e_level0_col5\" class=\"col_heading level0 col5\" >Kappa</th>\n",
       "      <th id=\"T_ee14e_level0_col6\" class=\"col_heading level0 col6\" >MCC</th>\n",
       "    </tr>\n",
       "    <tr>\n",
       "      <th class=\"index_name level0\" >Fold</th>\n",
       "      <th class=\"blank col0\" >&nbsp;</th>\n",
       "      <th class=\"blank col1\" >&nbsp;</th>\n",
       "      <th class=\"blank col2\" >&nbsp;</th>\n",
       "      <th class=\"blank col3\" >&nbsp;</th>\n",
       "      <th class=\"blank col4\" >&nbsp;</th>\n",
       "      <th class=\"blank col5\" >&nbsp;</th>\n",
       "      <th class=\"blank col6\" >&nbsp;</th>\n",
       "    </tr>\n",
       "  </thead>\n",
       "  <tbody>\n",
       "    <tr>\n",
       "      <th id=\"T_ee14e_level0_row0\" class=\"row_heading level0 row0\" >0</th>\n",
       "      <td id=\"T_ee14e_row0_col0\" class=\"data row0 col0\" >0.7990</td>\n",
       "      <td id=\"T_ee14e_row0_col1\" class=\"data row0 col1\" >0.7462</td>\n",
       "      <td id=\"T_ee14e_row0_col2\" class=\"data row0 col2\" >0.0732</td>\n",
       "      <td id=\"T_ee14e_row0_col3\" class=\"data row0 col3\" >0.7500</td>\n",
       "      <td id=\"T_ee14e_row0_col4\" class=\"data row0 col4\" >0.1333</td>\n",
       "      <td id=\"T_ee14e_row0_col5\" class=\"data row0 col5\" >0.0995</td>\n",
       "      <td id=\"T_ee14e_row0_col6\" class=\"data row0 col6\" >0.1914</td>\n",
       "    </tr>\n",
       "    <tr>\n",
       "      <th id=\"T_ee14e_level0_row1\" class=\"row_heading level0 row1\" >1</th>\n",
       "      <td id=\"T_ee14e_row1_col0\" class=\"data row1 col0\" >0.7990</td>\n",
       "      <td id=\"T_ee14e_row1_col1\" class=\"data row1 col1\" >0.7634</td>\n",
       "      <td id=\"T_ee14e_row1_col2\" class=\"data row1 col2\" >0.0952</td>\n",
       "      <td id=\"T_ee14e_row1_col3\" class=\"data row1 col3\" >0.8000</td>\n",
       "      <td id=\"T_ee14e_row1_col4\" class=\"data row1 col4\" >0.1702</td>\n",
       "      <td id=\"T_ee14e_row1_col5\" class=\"data row1 col5\" >0.1301</td>\n",
       "      <td id=\"T_ee14e_row1_col6\" class=\"data row1 col6\" >0.2304</td>\n",
       "    </tr>\n",
       "    <tr>\n",
       "      <th id=\"T_ee14e_level0_row2\" class=\"row_heading level0 row2\" >2</th>\n",
       "      <td id=\"T_ee14e_row2_col0\" class=\"data row2 col0\" >0.8187</td>\n",
       "      <td id=\"T_ee14e_row2_col1\" class=\"data row2 col1\" >0.8078</td>\n",
       "      <td id=\"T_ee14e_row2_col2\" class=\"data row2 col2\" >0.2195</td>\n",
       "      <td id=\"T_ee14e_row2_col3\" class=\"data row2 col3\" >0.7500</td>\n",
       "      <td id=\"T_ee14e_row2_col4\" class=\"data row2 col4\" >0.3396</td>\n",
       "      <td id=\"T_ee14e_row2_col5\" class=\"data row2 col5\" >0.2693</td>\n",
       "      <td id=\"T_ee14e_row2_col6\" class=\"data row2 col6\" >0.3384</td>\n",
       "    </tr>\n",
       "    <tr>\n",
       "      <th id=\"T_ee14e_level0_row3\" class=\"row_heading level0 row3\" >3</th>\n",
       "      <td id=\"T_ee14e_row3_col0\" class=\"data row3 col0\" >0.8031</td>\n",
       "      <td id=\"T_ee14e_row3_col1\" class=\"data row3 col1\" >0.7362</td>\n",
       "      <td id=\"T_ee14e_row3_col2\" class=\"data row3 col2\" >0.1463</td>\n",
       "      <td id=\"T_ee14e_row3_col3\" class=\"data row3 col3\" >0.6667</td>\n",
       "      <td id=\"T_ee14e_row3_col4\" class=\"data row3 col4\" >0.2400</td>\n",
       "      <td id=\"T_ee14e_row3_col5\" class=\"data row3 col5\" >0.1771</td>\n",
       "      <td id=\"T_ee14e_row3_col6\" class=\"data row3 col6\" >0.2456</td>\n",
       "    </tr>\n",
       "    <tr>\n",
       "      <th id=\"T_ee14e_level0_row4\" class=\"row_heading level0 row4\" >4</th>\n",
       "      <td id=\"T_ee14e_row4_col0\" class=\"data row4 col0\" >0.8031</td>\n",
       "      <td id=\"T_ee14e_row4_col1\" class=\"data row4 col1\" >0.7760</td>\n",
       "      <td id=\"T_ee14e_row4_col2\" class=\"data row4 col2\" >0.0732</td>\n",
       "      <td id=\"T_ee14e_row4_col3\" class=\"data row4 col3\" >1.0000</td>\n",
       "      <td id=\"T_ee14e_row4_col4\" class=\"data row4 col4\" >0.1364</td>\n",
       "      <td id=\"T_ee14e_row4_col5\" class=\"data row4 col5\" >0.1106</td>\n",
       "      <td id=\"T_ee14e_row4_col6\" class=\"data row4 col6\" >0.2419</td>\n",
       "    </tr>\n",
       "    <tr>\n",
       "      <th id=\"T_ee14e_level0_row5\" class=\"row_heading level0 row5\" >Mean</th>\n",
       "      <td id=\"T_ee14e_row5_col0\" class=\"data row5 col0\" >0.8046</td>\n",
       "      <td id=\"T_ee14e_row5_col1\" class=\"data row5 col1\" >0.7659</td>\n",
       "      <td id=\"T_ee14e_row5_col2\" class=\"data row5 col2\" >0.1215</td>\n",
       "      <td id=\"T_ee14e_row5_col3\" class=\"data row5 col3\" >0.7933</td>\n",
       "      <td id=\"T_ee14e_row5_col4\" class=\"data row5 col4\" >0.2039</td>\n",
       "      <td id=\"T_ee14e_row5_col5\" class=\"data row5 col5\" >0.1573</td>\n",
       "      <td id=\"T_ee14e_row5_col6\" class=\"data row5 col6\" >0.2496</td>\n",
       "    </tr>\n",
       "    <tr>\n",
       "      <th id=\"T_ee14e_level0_row6\" class=\"row_heading level0 row6\" >Std</th>\n",
       "      <td id=\"T_ee14e_row6_col0\" class=\"data row6 col0\" >0.0073</td>\n",
       "      <td id=\"T_ee14e_row6_col1\" class=\"data row6 col1\" >0.0250</td>\n",
       "      <td id=\"T_ee14e_row6_col2\" class=\"data row6 col2\" >0.0558</td>\n",
       "      <td id=\"T_ee14e_row6_col3\" class=\"data row6 col3\" >0.1119</td>\n",
       "      <td id=\"T_ee14e_row6_col4\" class=\"data row6 col4\" >0.0780</td>\n",
       "      <td id=\"T_ee14e_row6_col5\" class=\"data row6 col5\" >0.0620</td>\n",
       "      <td id=\"T_ee14e_row6_col6\" class=\"data row6 col6\" >0.0484</td>\n",
       "    </tr>\n",
       "  </tbody>\n",
       "</table>\n"
      ],
      "text/plain": [
       "<pandas.io.formats.style.Styler at 0x2a1c57d60>"
      ]
     },
     "metadata": {},
     "output_type": "display_data"
    },
    {
     "data": {
      "text/html": [],
      "text/plain": [
       "<IPython.core.display.HTML object>"
      ]
     },
     "metadata": {},
     "output_type": "display_data"
    }
   ],
   "source": [
    "rf = create_model('rf', fold=5)"
   ]
  },
  {
   "cell_type": "code",
   "execution_count": null,
   "id": "653fcf08-0fd1-4649-b23d-9c13d387fdff",
   "metadata": {},
   "outputs": [],
   "source": []
  },
  {
   "cell_type": "code",
   "execution_count": 80,
   "id": "76fb2c7f-834a-48df-953a-c455eb9d814e",
   "metadata": {},
   "outputs": [
    {
     "data": {
      "text/html": [],
      "text/plain": [
       "<IPython.core.display.HTML object>"
      ]
     },
     "metadata": {},
     "output_type": "display_data"
    },
    {
     "data": {
      "text/html": [
       "<style type=\"text/css\">\n",
       "#T_bfa5b th {\n",
       "  text-align: left;\n",
       "}\n",
       "#T_bfa5b_row0_col0, #T_bfa5b_row0_col3, #T_bfa5b_row0_col4, #T_bfa5b_row0_col5, #T_bfa5b_row0_col6, #T_bfa5b_row1_col0, #T_bfa5b_row1_col1, #T_bfa5b_row1_col2, #T_bfa5b_row1_col3, #T_bfa5b_row1_col4, #T_bfa5b_row1_col5, #T_bfa5b_row1_col6, #T_bfa5b_row1_col7, #T_bfa5b_row2_col0, #T_bfa5b_row2_col1, #T_bfa5b_row2_col2, #T_bfa5b_row2_col3, #T_bfa5b_row2_col5, #T_bfa5b_row2_col6, #T_bfa5b_row2_col7, #T_bfa5b_row3_col0, #T_bfa5b_row3_col1, #T_bfa5b_row3_col2, #T_bfa5b_row3_col3, #T_bfa5b_row3_col4, #T_bfa5b_row3_col5, #T_bfa5b_row3_col6, #T_bfa5b_row3_col7, #T_bfa5b_row4_col0, #T_bfa5b_row4_col2, #T_bfa5b_row4_col3, #T_bfa5b_row4_col4, #T_bfa5b_row4_col5, #T_bfa5b_row4_col6, #T_bfa5b_row4_col7, #T_bfa5b_row5_col0, #T_bfa5b_row5_col1, #T_bfa5b_row5_col2, #T_bfa5b_row5_col3, #T_bfa5b_row5_col4, #T_bfa5b_row5_col5, #T_bfa5b_row5_col6, #T_bfa5b_row5_col7, #T_bfa5b_row6_col0, #T_bfa5b_row6_col1, #T_bfa5b_row6_col2, #T_bfa5b_row6_col3, #T_bfa5b_row6_col4, #T_bfa5b_row6_col7, #T_bfa5b_row7_col0, #T_bfa5b_row7_col1, #T_bfa5b_row7_col2, #T_bfa5b_row7_col3, #T_bfa5b_row7_col4, #T_bfa5b_row7_col5, #T_bfa5b_row7_col6, #T_bfa5b_row7_col7, #T_bfa5b_row8_col0, #T_bfa5b_row8_col1, #T_bfa5b_row8_col2, #T_bfa5b_row8_col3, #T_bfa5b_row8_col4, #T_bfa5b_row8_col5, #T_bfa5b_row8_col6, #T_bfa5b_row8_col7, #T_bfa5b_row9_col0, #T_bfa5b_row9_col1, #T_bfa5b_row9_col2, #T_bfa5b_row9_col3, #T_bfa5b_row9_col4, #T_bfa5b_row9_col5, #T_bfa5b_row9_col6, #T_bfa5b_row9_col7, #T_bfa5b_row10_col0, #T_bfa5b_row10_col1, #T_bfa5b_row10_col2, #T_bfa5b_row10_col3, #T_bfa5b_row10_col4, #T_bfa5b_row10_col5, #T_bfa5b_row10_col6, #T_bfa5b_row10_col7, #T_bfa5b_row11_col0, #T_bfa5b_row11_col1, #T_bfa5b_row11_col2, #T_bfa5b_row11_col4, #T_bfa5b_row11_col5, #T_bfa5b_row11_col6, #T_bfa5b_row11_col7, #T_bfa5b_row12_col0, #T_bfa5b_row12_col1, #T_bfa5b_row12_col2, #T_bfa5b_row12_col3, #T_bfa5b_row12_col4, #T_bfa5b_row12_col5, #T_bfa5b_row12_col6, #T_bfa5b_row12_col7, #T_bfa5b_row13_col0, #T_bfa5b_row13_col1, #T_bfa5b_row13_col2, #T_bfa5b_row13_col3, #T_bfa5b_row13_col4, #T_bfa5b_row13_col5, #T_bfa5b_row13_col6, #T_bfa5b_row13_col7, #T_bfa5b_row14_col0, #T_bfa5b_row14_col1, #T_bfa5b_row14_col2, #T_bfa5b_row14_col3, #T_bfa5b_row14_col4, #T_bfa5b_row14_col5, #T_bfa5b_row14_col6, #T_bfa5b_row14_col7 {\n",
       "  text-align: left;\n",
       "}\n",
       "#T_bfa5b_row0_col1, #T_bfa5b_row0_col2, #T_bfa5b_row0_col7, #T_bfa5b_row2_col4, #T_bfa5b_row4_col1, #T_bfa5b_row6_col5, #T_bfa5b_row6_col6, #T_bfa5b_row11_col3 {\n",
       "  text-align: left;\n",
       "  background-color: yellow;\n",
       "}\n",
       "#T_bfa5b_row0_col8, #T_bfa5b_row1_col8, #T_bfa5b_row2_col8, #T_bfa5b_row3_col8, #T_bfa5b_row4_col8, #T_bfa5b_row5_col8, #T_bfa5b_row6_col8, #T_bfa5b_row7_col8, #T_bfa5b_row8_col8, #T_bfa5b_row9_col8, #T_bfa5b_row10_col8, #T_bfa5b_row11_col8, #T_bfa5b_row12_col8 {\n",
       "  text-align: left;\n",
       "  background-color: lightgrey;\n",
       "}\n",
       "#T_bfa5b_row13_col8, #T_bfa5b_row14_col8 {\n",
       "  text-align: left;\n",
       "  background-color: yellow;\n",
       "  background-color: lightgrey;\n",
       "}\n",
       "</style>\n",
       "<table id=\"T_bfa5b\">\n",
       "  <thead>\n",
       "    <tr>\n",
       "      <th class=\"blank level0\" >&nbsp;</th>\n",
       "      <th id=\"T_bfa5b_level0_col0\" class=\"col_heading level0 col0\" >Model</th>\n",
       "      <th id=\"T_bfa5b_level0_col1\" class=\"col_heading level0 col1\" >Accuracy</th>\n",
       "      <th id=\"T_bfa5b_level0_col2\" class=\"col_heading level0 col2\" >AUC</th>\n",
       "      <th id=\"T_bfa5b_level0_col3\" class=\"col_heading level0 col3\" >Recall</th>\n",
       "      <th id=\"T_bfa5b_level0_col4\" class=\"col_heading level0 col4\" >Prec.</th>\n",
       "      <th id=\"T_bfa5b_level0_col5\" class=\"col_heading level0 col5\" >F1</th>\n",
       "      <th id=\"T_bfa5b_level0_col6\" class=\"col_heading level0 col6\" >Kappa</th>\n",
       "      <th id=\"T_bfa5b_level0_col7\" class=\"col_heading level0 col7\" >MCC</th>\n",
       "      <th id=\"T_bfa5b_level0_col8\" class=\"col_heading level0 col8\" >TT (Sec)</th>\n",
       "    </tr>\n",
       "  </thead>\n",
       "  <tbody>\n",
       "    <tr>\n",
       "      <th id=\"T_bfa5b_level0_row0\" class=\"row_heading level0 row0\" >catboost</th>\n",
       "      <td id=\"T_bfa5b_row0_col0\" class=\"data row0 col0\" >CatBoost Classifier</td>\n",
       "      <td id=\"T_bfa5b_row0_col1\" class=\"data row0 col1\" >0.8118</td>\n",
       "      <td id=\"T_bfa5b_row0_col2\" class=\"data row0 col2\" >0.7753</td>\n",
       "      <td id=\"T_bfa5b_row0_col3\" class=\"data row0 col3\" >0.1790</td>\n",
       "      <td id=\"T_bfa5b_row0_col4\" class=\"data row0 col4\" >0.7939</td>\n",
       "      <td id=\"T_bfa5b_row0_col5\" class=\"data row0 col5\" >0.2850</td>\n",
       "      <td id=\"T_bfa5b_row0_col6\" class=\"data row0 col6\" >0.2227</td>\n",
       "      <td id=\"T_bfa5b_row0_col7\" class=\"data row0 col7\" >0.3092</td>\n",
       "      <td id=\"T_bfa5b_row0_col8\" class=\"data row0 col8\" >0.8980</td>\n",
       "    </tr>\n",
       "    <tr>\n",
       "      <th id=\"T_bfa5b_level0_row1\" class=\"row_heading level0 row1\" >lightgbm</th>\n",
       "      <td id=\"T_bfa5b_row1_col0\" class=\"data row1 col0\" >Light Gradient Boosting Machine</td>\n",
       "      <td id=\"T_bfa5b_row1_col1\" class=\"data row1 col1\" >0.7974</td>\n",
       "      <td id=\"T_bfa5b_row1_col2\" class=\"data row1 col2\" >0.7600</td>\n",
       "      <td id=\"T_bfa5b_row1_col3\" class=\"data row1 col3\" >0.2326</td>\n",
       "      <td id=\"T_bfa5b_row1_col4\" class=\"data row1 col4\" >0.5892</td>\n",
       "      <td id=\"T_bfa5b_row1_col5\" class=\"data row1 col5\" >0.3281</td>\n",
       "      <td id=\"T_bfa5b_row1_col6\" class=\"data row1 col6\" >0.2331</td>\n",
       "      <td id=\"T_bfa5b_row1_col7\" class=\"data row1 col7\" >0.2715</td>\n",
       "      <td id=\"T_bfa5b_row1_col8\" class=\"data row1 col8\" >0.5120</td>\n",
       "    </tr>\n",
       "    <tr>\n",
       "      <th id=\"T_bfa5b_level0_row2\" class=\"row_heading level0 row2\" >rf</th>\n",
       "      <td id=\"T_bfa5b_row2_col0\" class=\"data row2 col0\" >Random Forest Classifier</td>\n",
       "      <td id=\"T_bfa5b_row2_col1\" class=\"data row2 col1\" >0.8077</td>\n",
       "      <td id=\"T_bfa5b_row2_col2\" class=\"data row2 col2\" >0.7546</td>\n",
       "      <td id=\"T_bfa5b_row2_col3\" class=\"data row2 col3\" >0.1255</td>\n",
       "      <td id=\"T_bfa5b_row2_col4\" class=\"data row2 col4\" >0.8467</td>\n",
       "      <td id=\"T_bfa5b_row2_col5\" class=\"data row2 col5\" >0.2128</td>\n",
       "      <td id=\"T_bfa5b_row2_col6\" class=\"data row2 col6\" >0.1677</td>\n",
       "      <td id=\"T_bfa5b_row2_col7\" class=\"data row2 col7\" >0.2692</td>\n",
       "      <td id=\"T_bfa5b_row2_col8\" class=\"data row2 col8\" >0.1420</td>\n",
       "    </tr>\n",
       "    <tr>\n",
       "      <th id=\"T_bfa5b_level0_row3\" class=\"row_heading level0 row3\" >lda</th>\n",
       "      <td id=\"T_bfa5b_row3_col0\" class=\"data row3 col0\" >Linear Discriminant Analysis</td>\n",
       "      <td id=\"T_bfa5b_row3_col1\" class=\"data row3 col1\" >0.7973</td>\n",
       "      <td id=\"T_bfa5b_row3_col2\" class=\"data row3 col2\" >0.7405</td>\n",
       "      <td id=\"T_bfa5b_row3_col3\" class=\"data row3 col3\" >0.2469</td>\n",
       "      <td id=\"T_bfa5b_row3_col4\" class=\"data row3 col4\" >0.5789</td>\n",
       "      <td id=\"T_bfa5b_row3_col5\" class=\"data row3 col5\" >0.3400</td>\n",
       "      <td id=\"T_bfa5b_row3_col6\" class=\"data row3 col6\" >0.2420</td>\n",
       "      <td id=\"T_bfa5b_row3_col7\" class=\"data row3 col7\" >0.2759</td>\n",
       "      <td id=\"T_bfa5b_row3_col8\" class=\"data row3 col8\" >0.1030</td>\n",
       "    </tr>\n",
       "    <tr>\n",
       "      <th id=\"T_bfa5b_level0_row4\" class=\"row_heading level0 row4\" >et</th>\n",
       "      <td id=\"T_bfa5b_row4_col0\" class=\"data row4 col0\" >Extra Trees Classifier</td>\n",
       "      <td id=\"T_bfa5b_row4_col1\" class=\"data row4 col1\" >0.8118</td>\n",
       "      <td id=\"T_bfa5b_row4_col2\" class=\"data row4 col2\" >0.7404</td>\n",
       "      <td id=\"T_bfa5b_row4_col3\" class=\"data row4 col3\" >0.1645</td>\n",
       "      <td id=\"T_bfa5b_row4_col4\" class=\"data row4 col4\" >0.7671</td>\n",
       "      <td id=\"T_bfa5b_row4_col5\" class=\"data row4 col5\" >0.2672</td>\n",
       "      <td id=\"T_bfa5b_row4_col6\" class=\"data row4 col6\" >0.2101</td>\n",
       "      <td id=\"T_bfa5b_row4_col7\" class=\"data row4 col7\" >0.2934</td>\n",
       "      <td id=\"T_bfa5b_row4_col8\" class=\"data row4 col8\" >0.1400</td>\n",
       "    </tr>\n",
       "    <tr>\n",
       "      <th id=\"T_bfa5b_level0_row5\" class=\"row_heading level0 row5\" >gbc</th>\n",
       "      <td id=\"T_bfa5b_row5_col0\" class=\"data row5 col0\" >Gradient Boosting Classifier</td>\n",
       "      <td id=\"T_bfa5b_row5_col1\" class=\"data row5 col1\" >0.7880</td>\n",
       "      <td id=\"T_bfa5b_row5_col2\" class=\"data row5 col2\" >0.7388</td>\n",
       "      <td id=\"T_bfa5b_row5_col3\" class=\"data row5 col3\" >0.2031</td>\n",
       "      <td id=\"T_bfa5b_row5_col4\" class=\"data row5 col4\" >0.5212</td>\n",
       "      <td id=\"T_bfa5b_row5_col5\" class=\"data row5 col5\" >0.2895</td>\n",
       "      <td id=\"T_bfa5b_row5_col6\" class=\"data row5 col6\" >0.1914</td>\n",
       "      <td id=\"T_bfa5b_row5_col7\" class=\"data row5 col7\" >0.2227</td>\n",
       "      <td id=\"T_bfa5b_row5_col8\" class=\"data row5 col8\" >0.1760</td>\n",
       "    </tr>\n",
       "    <tr>\n",
       "      <th id=\"T_bfa5b_level0_row6\" class=\"row_heading level0 row6\" >ada</th>\n",
       "      <td id=\"T_bfa5b_row6_col0\" class=\"data row6 col0\" >Ada Boost Classifier</td>\n",
       "      <td id=\"T_bfa5b_row6_col1\" class=\"data row6 col1\" >0.7902</td>\n",
       "      <td id=\"T_bfa5b_row6_col2\" class=\"data row6 col2\" >0.7039</td>\n",
       "      <td id=\"T_bfa5b_row6_col3\" class=\"data row6 col3\" >0.3350</td>\n",
       "      <td id=\"T_bfa5b_row6_col4\" class=\"data row6 col4\" >0.5205</td>\n",
       "      <td id=\"T_bfa5b_row6_col5\" class=\"data row6 col5\" >0.4038</td>\n",
       "      <td id=\"T_bfa5b_row6_col6\" class=\"data row6 col6\" >0.2841</td>\n",
       "      <td id=\"T_bfa5b_row6_col7\" class=\"data row6 col7\" >0.2961</td>\n",
       "      <td id=\"T_bfa5b_row6_col8\" class=\"data row6 col8\" >0.1270</td>\n",
       "    </tr>\n",
       "    <tr>\n",
       "      <th id=\"T_bfa5b_level0_row7\" class=\"row_heading level0 row7\" >nb</th>\n",
       "      <td id=\"T_bfa5b_row7_col0\" class=\"data row7 col0\" >Naive Bayes</td>\n",
       "      <td id=\"T_bfa5b_row7_col1\" class=\"data row7 col1\" >0.5005</td>\n",
       "      <td id=\"T_bfa5b_row7_col2\" class=\"data row7 col2\" >0.6549</td>\n",
       "      <td id=\"T_bfa5b_row7_col3\" class=\"data row7 col3\" >0.7669</td>\n",
       "      <td id=\"T_bfa5b_row7_col4\" class=\"data row7 col4\" >0.2690</td>\n",
       "      <td id=\"T_bfa5b_row7_col5\" class=\"data row7 col5\" >0.3976</td>\n",
       "      <td id=\"T_bfa5b_row7_col6\" class=\"data row7 col6\" >0.1193</td>\n",
       "      <td id=\"T_bfa5b_row7_col7\" class=\"data row7 col7\" >0.1640</td>\n",
       "      <td id=\"T_bfa5b_row7_col8\" class=\"data row7 col8\" >0.0930</td>\n",
       "    </tr>\n",
       "    <tr>\n",
       "      <th id=\"T_bfa5b_level0_row8\" class=\"row_heading level0 row8\" >lr</th>\n",
       "      <td id=\"T_bfa5b_row8_col0\" class=\"data row8 col0\" >Logistic Regression</td>\n",
       "      <td id=\"T_bfa5b_row8_col1\" class=\"data row8 col1\" >0.7787</td>\n",
       "      <td id=\"T_bfa5b_row8_col2\" class=\"data row8 col2\" >0.6364</td>\n",
       "      <td id=\"T_bfa5b_row8_col3\" class=\"data row8 col3\" >0.0145</td>\n",
       "      <td id=\"T_bfa5b_row8_col4\" class=\"data row8 col4\" >0.1750</td>\n",
       "      <td id=\"T_bfa5b_row8_col5\" class=\"data row8 col5\" >0.0262</td>\n",
       "      <td id=\"T_bfa5b_row8_col6\" class=\"data row8 col6\" >-0.0000</td>\n",
       "      <td id=\"T_bfa5b_row8_col7\" class=\"data row8 col7\" >-0.0024</td>\n",
       "      <td id=\"T_bfa5b_row8_col8\" class=\"data row8 col8\" >0.2040</td>\n",
       "    </tr>\n",
       "    <tr>\n",
       "      <th id=\"T_bfa5b_level0_row9\" class=\"row_heading level0 row9\" >knn</th>\n",
       "      <td id=\"T_bfa5b_row9_col0\" class=\"data row9 col0\" >K Neighbors Classifier</td>\n",
       "      <td id=\"T_bfa5b_row9_col1\" class=\"data row9 col1\" >0.7405</td>\n",
       "      <td id=\"T_bfa5b_row9_col2\" class=\"data row9 col2\" >0.5737</td>\n",
       "      <td id=\"T_bfa5b_row9_col3\" class=\"data row9 col3\" >0.1267</td>\n",
       "      <td id=\"T_bfa5b_row9_col4\" class=\"data row9 col4\" >0.2727</td>\n",
       "      <td id=\"T_bfa5b_row9_col5\" class=\"data row9 col5\" >0.1678</td>\n",
       "      <td id=\"T_bfa5b_row9_col6\" class=\"data row9 col6\" >0.0423</td>\n",
       "      <td id=\"T_bfa5b_row9_col7\" class=\"data row9 col7\" >0.0477</td>\n",
       "      <td id=\"T_bfa5b_row9_col8\" class=\"data row9 col8\" >0.0980</td>\n",
       "    </tr>\n",
       "    <tr>\n",
       "      <th id=\"T_bfa5b_level0_row10\" class=\"row_heading level0 row10\" >dt</th>\n",
       "      <td id=\"T_bfa5b_row10_col0\" class=\"data row10 col0\" >Decision Tree Classifier</td>\n",
       "      <td id=\"T_bfa5b_row10_col1\" class=\"data row10 col1\" >0.7085</td>\n",
       "      <td id=\"T_bfa5b_row10_col2\" class=\"data row10 col2\" >0.5705</td>\n",
       "      <td id=\"T_bfa5b_row10_col3\" class=\"data row10 col3\" >0.3302</td>\n",
       "      <td id=\"T_bfa5b_row10_col4\" class=\"data row10 col4\" >0.3239</td>\n",
       "      <td id=\"T_bfa5b_row10_col5\" class=\"data row10 col5\" >0.3220</td>\n",
       "      <td id=\"T_bfa5b_row10_col6\" class=\"data row10 col6\" >0.1390</td>\n",
       "      <td id=\"T_bfa5b_row10_col7\" class=\"data row10 col7\" >0.1406</td>\n",
       "      <td id=\"T_bfa5b_row10_col8\" class=\"data row10 col8\" >0.0960</td>\n",
       "    </tr>\n",
       "    <tr>\n",
       "      <th id=\"T_bfa5b_level0_row11\" class=\"row_heading level0 row11\" >qda</th>\n",
       "      <td id=\"T_bfa5b_row11_col0\" class=\"data row11 col0\" >Quadratic Discriminant Analysis</td>\n",
       "      <td id=\"T_bfa5b_row11_col1\" class=\"data row11 col1\" >0.3051</td>\n",
       "      <td id=\"T_bfa5b_row11_col2\" class=\"data row11 col2\" >0.5632</td>\n",
       "      <td id=\"T_bfa5b_row11_col3\" class=\"data row11 col3\" >0.9324</td>\n",
       "      <td id=\"T_bfa5b_row11_col4\" class=\"data row11 col4\" >0.2261</td>\n",
       "      <td id=\"T_bfa5b_row11_col5\" class=\"data row11 col5\" >0.3638</td>\n",
       "      <td id=\"T_bfa5b_row11_col6\" class=\"data row11 col6\" >0.0320</td>\n",
       "      <td id=\"T_bfa5b_row11_col7\" class=\"data row11 col7\" >0.0847</td>\n",
       "      <td id=\"T_bfa5b_row11_col8\" class=\"data row11 col8\" >0.1060</td>\n",
       "    </tr>\n",
       "    <tr>\n",
       "      <th id=\"T_bfa5b_level0_row12\" class=\"row_heading level0 row12\" >dummy</th>\n",
       "      <td id=\"T_bfa5b_row12_col0\" class=\"data row12 col0\" >Dummy Classifier</td>\n",
       "      <td id=\"T_bfa5b_row12_col1\" class=\"data row12 col1\" >0.7870</td>\n",
       "      <td id=\"T_bfa5b_row12_col2\" class=\"data row12 col2\" >0.5000</td>\n",
       "      <td id=\"T_bfa5b_row12_col3\" class=\"data row12 col3\" >0.0000</td>\n",
       "      <td id=\"T_bfa5b_row12_col4\" class=\"data row12 col4\" >0.0000</td>\n",
       "      <td id=\"T_bfa5b_row12_col5\" class=\"data row12 col5\" >0.0000</td>\n",
       "      <td id=\"T_bfa5b_row12_col6\" class=\"data row12 col6\" >0.0000</td>\n",
       "      <td id=\"T_bfa5b_row12_col7\" class=\"data row12 col7\" >0.0000</td>\n",
       "      <td id=\"T_bfa5b_row12_col8\" class=\"data row12 col8\" >0.1100</td>\n",
       "    </tr>\n",
       "    <tr>\n",
       "      <th id=\"T_bfa5b_level0_row13\" class=\"row_heading level0 row13\" >svm</th>\n",
       "      <td id=\"T_bfa5b_row13_col0\" class=\"data row13 col0\" >SVM - Linear Kernel</td>\n",
       "      <td id=\"T_bfa5b_row13_col1\" class=\"data row13 col1\" >0.6684</td>\n",
       "      <td id=\"T_bfa5b_row13_col2\" class=\"data row13 col2\" >0.0000</td>\n",
       "      <td id=\"T_bfa5b_row13_col3\" class=\"data row13 col3\" >0.2624</td>\n",
       "      <td id=\"T_bfa5b_row13_col4\" class=\"data row13 col4\" >0.2498</td>\n",
       "      <td id=\"T_bfa5b_row13_col5\" class=\"data row13 col5\" >0.1413</td>\n",
       "      <td id=\"T_bfa5b_row13_col6\" class=\"data row13 col6\" >0.0193</td>\n",
       "      <td id=\"T_bfa5b_row13_col7\" class=\"data row13 col7\" >0.0486</td>\n",
       "      <td id=\"T_bfa5b_row13_col8\" class=\"data row13 col8\" >0.0880</td>\n",
       "    </tr>\n",
       "    <tr>\n",
       "      <th id=\"T_bfa5b_level0_row14\" class=\"row_heading level0 row14\" >ridge</th>\n",
       "      <td id=\"T_bfa5b_row14_col0\" class=\"data row14 col0\" >Ridge Classifier</td>\n",
       "      <td id=\"T_bfa5b_row14_col1\" class=\"data row14 col1\" >0.7973</td>\n",
       "      <td id=\"T_bfa5b_row14_col2\" class=\"data row14 col2\" >0.0000</td>\n",
       "      <td id=\"T_bfa5b_row14_col3\" class=\"data row14 col3\" >0.1795</td>\n",
       "      <td id=\"T_bfa5b_row14_col4\" class=\"data row14 col4\" >0.6111</td>\n",
       "      <td id=\"T_bfa5b_row14_col5\" class=\"data row14 col5\" >0.2688</td>\n",
       "      <td id=\"T_bfa5b_row14_col6\" class=\"data row14 col6\" >0.1904</td>\n",
       "      <td id=\"T_bfa5b_row14_col7\" class=\"data row14 col7\" >0.2422</td>\n",
       "      <td id=\"T_bfa5b_row14_col8\" class=\"data row14 col8\" >0.0880</td>\n",
       "    </tr>\n",
       "  </tbody>\n",
       "</table>\n"
      ],
      "text/plain": [
       "<pandas.io.formats.style.Styler at 0x2a0e1e880>"
      ]
     },
     "metadata": {},
     "output_type": "display_data"
    },
    {
     "data": {
      "text/html": [],
      "text/plain": [
       "<IPython.core.display.HTML object>"
      ]
     },
     "metadata": {},
     "output_type": "display_data"
    }
   ],
   "source": [
    "top5 = compare_models(sort='AUC', n_select=5)"
   ]
  },
  {
   "cell_type": "code",
   "execution_count": null,
   "id": "af848860-fa01-4803-97ff-2015403a7c5b",
   "metadata": {},
   "outputs": [],
   "source": []
  }
 ],
 "metadata": {
  "kernelspec": {
   "display_name": "Python 3 (ipykernel)",
   "language": "python",
   "name": "python3"
  },
  "language_info": {
   "codemirror_mode": {
    "name": "ipython",
    "version": 3
   },
   "file_extension": ".py",
   "mimetype": "text/x-python",
   "name": "python",
   "nbconvert_exporter": "python",
   "pygments_lexer": "ipython3",
   "version": "3.9.16"
  }
 },
 "nbformat": 4,
 "nbformat_minor": 5
}
