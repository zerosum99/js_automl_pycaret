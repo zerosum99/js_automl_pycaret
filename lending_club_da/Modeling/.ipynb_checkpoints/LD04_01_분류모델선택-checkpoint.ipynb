{
 "cells": [
  {
   "cell_type": "code",
   "execution_count": null,
   "id": "30d44cbc-d1f1-480b-a8d5-8066e4b997d5",
   "metadata": {},
   "outputs": [],
   "source": []
  },
  {
   "cell_type": "markdown",
   "id": "16f2a75a-da8e-4f13-985a-f2f884ed78dd",
   "metadata": {},
   "source": [
    "# 1. 모델 선정\n",
    "pycaret 패키지 내 AutoML을 적용해 데이터셋에 가장 적합한 모델을 선정한다.\n",
    "\n",
    "데이터 불러오기\n",
    "전처리와 변수 선정이 완료된 데이터를 불러온다."
   ]
  },
  {
   "cell_type": "code",
   "execution_count": null,
   "id": "8a52cb9b-2585-4659-a275-de78c335ab1f",
   "metadata": {},
   "outputs": [],
   "source": []
  },
  {
   "cell_type": "code",
   "execution_count": 1,
   "id": "e1964a5a-3282-4738-8e03-15b678298c35",
   "metadata": {},
   "outputs": [],
   "source": [
    "import re\n",
    "import os\n",
    "\n",
    "import pandas as pd\n",
    "import numpy as np\n",
    "import pycaret    "
   ]
  },
  {
   "cell_type": "code",
   "execution_count": 2,
   "id": "16c552e1-f626-47c9-9ca5-a260021c4f20",
   "metadata": {},
   "outputs": [
    {
     "data": {
      "text/plain": [
       "'3.0.0'"
      ]
     },
     "execution_count": 2,
     "metadata": {},
     "output_type": "execute_result"
    }
   ],
   "source": [
    "pycaret.__version__"
   ]
  },
  {
   "cell_type": "code",
   "execution_count": 3,
   "id": "01982507-2d28-4912-a86e-419d89d4cc26",
   "metadata": {},
   "outputs": [
    {
     "data": {
      "text/plain": [
       "'/Users/a06411/Documents/GitHub/js_automl_pycaret/lending_club_da/Modeling'"
      ]
     },
     "execution_count": 3,
     "metadata": {},
     "output_type": "execute_result"
    }
   ],
   "source": [
    "%pwd"
   ]
  },
  {
   "cell_type": "code",
   "execution_count": 4,
   "id": "b370d53e-2c7e-49df-bc69-06a272a68804",
   "metadata": {},
   "outputs": [],
   "source": [
    "path_read = '/Users/a06411/Documents/data_hub/lending_club/lgb_selected.pkl'"
   ]
  },
  {
   "cell_type": "code",
   "execution_count": 5,
   "id": "359b3326-1282-4885-8003-7b10db20c372",
   "metadata": {},
   "outputs": [],
   "source": [
    "df = pd.read_pickle(path_read )"
   ]
  },
  {
   "cell_type": "code",
   "execution_count": 6,
   "id": "7be2ddd2-1acb-464b-a6b7-7ecd8a26a90b",
   "metadata": {},
   "outputs": [
    {
     "data": {
      "text/plain": [
       "(1382351, 63)"
      ]
     },
     "execution_count": 6,
     "metadata": {},
     "output_type": "execute_result"
    }
   ],
   "source": [
    "df.shape"
   ]
  },
  {
   "cell_type": "code",
   "execution_count": 7,
   "id": "ce74657c-beee-4144-bd2b-ec5dd3bb0f87",
   "metadata": {},
   "outputs": [],
   "source": [
    "df_sample = df.copy()"
   ]
  },
  {
   "cell_type": "code",
   "execution_count": null,
   "id": "df52037c-a98e-4fdb-8843-5f8c2ab27c1e",
   "metadata": {},
   "outputs": [],
   "source": []
  },
  {
   "cell_type": "code",
   "execution_count": 10,
   "id": "c4173bda-c548-482e-8929-0b223b1d9bde",
   "metadata": {},
   "outputs": [],
   "source": [
    "df_sample = df_sample.sample(frac=0.01, replace=True, random_state=2020)"
   ]
  },
  {
   "cell_type": "code",
   "execution_count": 11,
   "id": "a023c0c5-68ee-4e5a-9653-87f72774a37a",
   "metadata": {},
   "outputs": [
    {
     "data": {
      "text/plain": [
       "(13824, 63)"
      ]
     },
     "execution_count": 11,
     "metadata": {},
     "output_type": "execute_result"
    }
   ],
   "source": [
    "df_sample.shape"
   ]
  },
  {
   "cell_type": "code",
   "execution_count": null,
   "id": "fca6795f-2951-4f4e-9d3b-9ea7ece364df",
   "metadata": {},
   "outputs": [],
   "source": []
  },
  {
   "cell_type": "code",
   "execution_count": 12,
   "id": "e7c12441-ea37-498f-b80e-f07a4d78ba0c",
   "metadata": {},
   "outputs": [
    {
     "data": {
      "text/plain": [
       "Index(['int_rate', 'dti', 'annual_inc', 'mo_sin_old_rev_tl_op',\n",
       "       'acc_open_past_24mths', 'loan_amnt', 'emp_length', 'addr_state',\n",
       "       'revol_bal', 'term', 'sub_grade', 'funded_amnt_inv', 'installment',\n",
       "       'purpose', 'total_rev_hi_lim', 'fico_range_low', 'debt_settlement_flag',\n",
       "       'mort_acc', 'total_bc_limit', 'home_ownership', 'avg_cur_bal',\n",
       "       'all_util', 'mths_since_recent_bc', 'total_acc', 'open_acc_6m',\n",
       "       'bc_util', 'num_actv_rev_tl', 'funded_amnt', 'hardship_flag',\n",
       "       'num_rev_tl_bal_gt_0', 'mths_since_recent_inq', 'inq_last_6mths',\n",
       "       'num_il_tl', 'mo_sin_old_il_acct', 'num_rev_accts', 'num_tl_120dpd_2m',\n",
       "       'total_il_high_credit_limit', 'application_type', 'revol_util',\n",
       "       'tot_hi_cred_lim', 'delinq_2yrs', 'mo_sin_rcnt_tl', 'num_actv_bc_tl',\n",
       "       'mths_since_last_record', 'percent_bc_gt_75', 'bc_open_to_buy',\n",
       "       'max_bal_bc', 'grade', 'open_rv_24m', 'mo_sin_rcnt_rev_tl_op',\n",
       "       'pct_tl_nvr_dlq', 'verification_status', 'tot_cur_bal',\n",
       "       'total_bal_ex_mort', 'mths_since_last_major_derog', 'inq_fi',\n",
       "       'mths_since_rcnt_il', 'inq_last_12m', 'mths_since_last_delinq',\n",
       "       'num_bc_tl', 'loan_status', 'issue_d', 'id'],\n",
       "      dtype='object')"
      ]
     },
     "execution_count": 12,
     "metadata": {},
     "output_type": "execute_result"
    }
   ],
   "source": [
    "df_sample.columns"
   ]
  },
  {
   "cell_type": "code",
   "execution_count": null,
   "id": "0862ce18-4d3c-429a-b24c-7fa9fcded026",
   "metadata": {},
   "outputs": [],
   "source": []
  },
  {
   "cell_type": "code",
   "execution_count": 13,
   "id": "99921b26-ecab-489f-ba15-3c7b74a8063f",
   "metadata": {},
   "outputs": [],
   "source": [
    "from pycaret.classification import *"
   ]
  },
  {
   "cell_type": "code",
   "execution_count": 15,
   "id": "f3069775-876f-49f4-a9e7-1a80cb272f20",
   "metadata": {},
   "outputs": [],
   "source": [
    "cols = [*df_sample.columns[:-2]]"
   ]
  },
  {
   "cell_type": "code",
   "execution_count": 16,
   "id": "e0415c37-97c5-4d15-9896-a56383470435",
   "metadata": {},
   "outputs": [],
   "source": [
    "data = df_sample[cols]"
   ]
  },
  {
   "cell_type": "code",
   "execution_count": 19,
   "id": "af543045-a270-4998-9962-be00fccb5d73",
   "metadata": {},
   "outputs": [
    {
     "data": {
      "text/html": [
       "<style type=\"text/css\">\n",
       "#T_eafa0_row8_col1 {\n",
       "  background-color: lightgreen;\n",
       "}\n",
       "</style>\n",
       "<table id=\"T_eafa0\">\n",
       "  <thead>\n",
       "    <tr>\n",
       "      <th class=\"blank level0\" >&nbsp;</th>\n",
       "      <th id=\"T_eafa0_level0_col0\" class=\"col_heading level0 col0\" >Description</th>\n",
       "      <th id=\"T_eafa0_level0_col1\" class=\"col_heading level0 col1\" >Value</th>\n",
       "    </tr>\n",
       "  </thead>\n",
       "  <tbody>\n",
       "    <tr>\n",
       "      <th id=\"T_eafa0_level0_row0\" class=\"row_heading level0 row0\" >0</th>\n",
       "      <td id=\"T_eafa0_row0_col0\" class=\"data row0 col0\" >Session id</td>\n",
       "      <td id=\"T_eafa0_row0_col1\" class=\"data row0 col1\" >664</td>\n",
       "    </tr>\n",
       "    <tr>\n",
       "      <th id=\"T_eafa0_level0_row1\" class=\"row_heading level0 row1\" >1</th>\n",
       "      <td id=\"T_eafa0_row1_col0\" class=\"data row1 col0\" >Target</td>\n",
       "      <td id=\"T_eafa0_row1_col1\" class=\"data row1 col1\" >loan_status</td>\n",
       "    </tr>\n",
       "    <tr>\n",
       "      <th id=\"T_eafa0_level0_row2\" class=\"row_heading level0 row2\" >2</th>\n",
       "      <td id=\"T_eafa0_row2_col0\" class=\"data row2 col0\" >Target type</td>\n",
       "      <td id=\"T_eafa0_row2_col1\" class=\"data row2 col1\" >Binary</td>\n",
       "    </tr>\n",
       "    <tr>\n",
       "      <th id=\"T_eafa0_level0_row3\" class=\"row_heading level0 row3\" >3</th>\n",
       "      <td id=\"T_eafa0_row3_col0\" class=\"data row3 col0\" >Original data shape</td>\n",
       "      <td id=\"T_eafa0_row3_col1\" class=\"data row3 col1\" >(13980, 61)</td>\n",
       "    </tr>\n",
       "    <tr>\n",
       "      <th id=\"T_eafa0_level0_row4\" class=\"row_heading level0 row4\" >4</th>\n",
       "      <td id=\"T_eafa0_row4_col0\" class=\"data row4 col0\" >Transformed data shape</td>\n",
       "      <td id=\"T_eafa0_row4_col1\" class=\"data row4 col1\" >(14916, 61)</td>\n",
       "    </tr>\n",
       "    <tr>\n",
       "      <th id=\"T_eafa0_level0_row5\" class=\"row_heading level0 row5\" >5</th>\n",
       "      <td id=\"T_eafa0_row5_col0\" class=\"data row5 col0\" >Transformed train set shape</td>\n",
       "      <td id=\"T_eafa0_row5_col1\" class=\"data row5 col1\" >(10467, 61)</td>\n",
       "    </tr>\n",
       "    <tr>\n",
       "      <th id=\"T_eafa0_level0_row6\" class=\"row_heading level0 row6\" >6</th>\n",
       "      <td id=\"T_eafa0_row6_col0\" class=\"data row6 col0\" >Transformed test set shape</td>\n",
       "      <td id=\"T_eafa0_row6_col1\" class=\"data row6 col1\" >(4449, 61)</td>\n",
       "    </tr>\n",
       "    <tr>\n",
       "      <th id=\"T_eafa0_level0_row7\" class=\"row_heading level0 row7\" >7</th>\n",
       "      <td id=\"T_eafa0_row7_col0\" class=\"data row7 col0\" >Numeric features</td>\n",
       "      <td id=\"T_eafa0_row7_col1\" class=\"data row7 col1\" >60</td>\n",
       "    </tr>\n",
       "    <tr>\n",
       "      <th id=\"T_eafa0_level0_row8\" class=\"row_heading level0 row8\" >8</th>\n",
       "      <td id=\"T_eafa0_row8_col0\" class=\"data row8 col0\" >Preprocess</td>\n",
       "      <td id=\"T_eafa0_row8_col1\" class=\"data row8 col1\" >True</td>\n",
       "    </tr>\n",
       "    <tr>\n",
       "      <th id=\"T_eafa0_level0_row9\" class=\"row_heading level0 row9\" >9</th>\n",
       "      <td id=\"T_eafa0_row9_col0\" class=\"data row9 col0\" >Imputation type</td>\n",
       "      <td id=\"T_eafa0_row9_col1\" class=\"data row9 col1\" >simple</td>\n",
       "    </tr>\n",
       "    <tr>\n",
       "      <th id=\"T_eafa0_level0_row10\" class=\"row_heading level0 row10\" >10</th>\n",
       "      <td id=\"T_eafa0_row10_col0\" class=\"data row10 col0\" >Numeric imputation</td>\n",
       "      <td id=\"T_eafa0_row10_col1\" class=\"data row10 col1\" >mean</td>\n",
       "    </tr>\n",
       "    <tr>\n",
       "      <th id=\"T_eafa0_level0_row11\" class=\"row_heading level0 row11\" >11</th>\n",
       "      <td id=\"T_eafa0_row11_col0\" class=\"data row11 col0\" >Categorical imputation</td>\n",
       "      <td id=\"T_eafa0_row11_col1\" class=\"data row11 col1\" >mode</td>\n",
       "    </tr>\n",
       "    <tr>\n",
       "      <th id=\"T_eafa0_level0_row12\" class=\"row_heading level0 row12\" >12</th>\n",
       "      <td id=\"T_eafa0_row12_col0\" class=\"data row12 col0\" >Fold Generator</td>\n",
       "      <td id=\"T_eafa0_row12_col1\" class=\"data row12 col1\" >StratifiedKFold</td>\n",
       "    </tr>\n",
       "    <tr>\n",
       "      <th id=\"T_eafa0_level0_row13\" class=\"row_heading level0 row13\" >13</th>\n",
       "      <td id=\"T_eafa0_row13_col0\" class=\"data row13 col0\" >Fold Number</td>\n",
       "      <td id=\"T_eafa0_row13_col1\" class=\"data row13 col1\" >10</td>\n",
       "    </tr>\n",
       "    <tr>\n",
       "      <th id=\"T_eafa0_level0_row14\" class=\"row_heading level0 row14\" >14</th>\n",
       "      <td id=\"T_eafa0_row14_col0\" class=\"data row14 col0\" >CPU Jobs</td>\n",
       "      <td id=\"T_eafa0_row14_col1\" class=\"data row14 col1\" >-1</td>\n",
       "    </tr>\n",
       "    <tr>\n",
       "      <th id=\"T_eafa0_level0_row15\" class=\"row_heading level0 row15\" >15</th>\n",
       "      <td id=\"T_eafa0_row15_col0\" class=\"data row15 col0\" >Use GPU</td>\n",
       "      <td id=\"T_eafa0_row15_col1\" class=\"data row15 col1\" >False</td>\n",
       "    </tr>\n",
       "    <tr>\n",
       "      <th id=\"T_eafa0_level0_row16\" class=\"row_heading level0 row16\" >16</th>\n",
       "      <td id=\"T_eafa0_row16_col0\" class=\"data row16 col0\" >Log Experiment</td>\n",
       "      <td id=\"T_eafa0_row16_col1\" class=\"data row16 col1\" >False</td>\n",
       "    </tr>\n",
       "    <tr>\n",
       "      <th id=\"T_eafa0_level0_row17\" class=\"row_heading level0 row17\" >17</th>\n",
       "      <td id=\"T_eafa0_row17_col0\" class=\"data row17 col0\" >Experiment Name</td>\n",
       "      <td id=\"T_eafa0_row17_col1\" class=\"data row17 col1\" >clf-default-name</td>\n",
       "    </tr>\n",
       "    <tr>\n",
       "      <th id=\"T_eafa0_level0_row18\" class=\"row_heading level0 row18\" >18</th>\n",
       "      <td id=\"T_eafa0_row18_col0\" class=\"data row18 col0\" >USI</td>\n",
       "      <td id=\"T_eafa0_row18_col1\" class=\"data row18 col1\" >61a1</td>\n",
       "    </tr>\n",
       "  </tbody>\n",
       "</table>\n"
      ],
      "text/plain": [
       "<pandas.io.formats.style.Styler at 0x2bd61e670>"
      ]
     },
     "metadata": {},
     "output_type": "display_data"
    }
   ],
   "source": [
    "clf = setup(data = data, target = 'loan_status')"
   ]
  },
  {
   "cell_type": "code",
   "execution_count": null,
   "id": "adb01bc0-c94f-4b11-9b57-cdffc739a249",
   "metadata": {},
   "outputs": [],
   "source": []
  },
  {
   "cell_type": "code",
   "execution_count": 20,
   "id": "1f619eff-703f-4fc6-b950-001c46e44ad6",
   "metadata": {},
   "outputs": [
    {
     "data": {
      "text/html": [],
      "text/plain": [
       "<IPython.core.display.HTML object>"
      ]
     },
     "metadata": {},
     "output_type": "display_data"
    },
    {
     "data": {
      "text/html": [
       "<style type=\"text/css\">\n",
       "#T_5e285 th {\n",
       "  text-align: left;\n",
       "}\n",
       "#T_5e285_row0_col0, #T_5e285_row0_col1, #T_5e285_row0_col3, #T_5e285_row0_col4, #T_5e285_row0_col5, #T_5e285_row0_col6, #T_5e285_row0_col7, #T_5e285_row1_col0, #T_5e285_row1_col1, #T_5e285_row1_col2, #T_5e285_row1_col3, #T_5e285_row1_col4, #T_5e285_row1_col5, #T_5e285_row1_col6, #T_5e285_row1_col7, #T_5e285_row2_col0, #T_5e285_row2_col2, #T_5e285_row2_col3, #T_5e285_row2_col4, #T_5e285_row2_col5, #T_5e285_row2_col6, #T_5e285_row3_col0, #T_5e285_row3_col1, #T_5e285_row3_col2, #T_5e285_row3_col3, #T_5e285_row3_col4, #T_5e285_row3_col5, #T_5e285_row3_col6, #T_5e285_row3_col7, #T_5e285_row4_col0, #T_5e285_row4_col1, #T_5e285_row4_col2, #T_5e285_row4_col3, #T_5e285_row4_col4, #T_5e285_row4_col5, #T_5e285_row4_col6, #T_5e285_row4_col7, #T_5e285_row5_col0, #T_5e285_row5_col1, #T_5e285_row5_col2, #T_5e285_row5_col3, #T_5e285_row5_col4, #T_5e285_row5_col5, #T_5e285_row5_col6, #T_5e285_row5_col7, #T_5e285_row6_col0, #T_5e285_row6_col1, #T_5e285_row6_col2, #T_5e285_row6_col3, #T_5e285_row6_col4, #T_5e285_row6_col5, #T_5e285_row6_col7, #T_5e285_row7_col0, #T_5e285_row7_col1, #T_5e285_row7_col2, #T_5e285_row7_col3, #T_5e285_row7_col4, #T_5e285_row7_col5, #T_5e285_row7_col6, #T_5e285_row7_col7, #T_5e285_row8_col0, #T_5e285_row8_col1, #T_5e285_row8_col2, #T_5e285_row8_col3, #T_5e285_row8_col5, #T_5e285_row8_col6, #T_5e285_row8_col7, #T_5e285_row9_col0, #T_5e285_row9_col1, #T_5e285_row9_col2, #T_5e285_row9_col4, #T_5e285_row9_col6, #T_5e285_row9_col7, #T_5e285_row10_col0, #T_5e285_row10_col1, #T_5e285_row10_col2, #T_5e285_row10_col3, #T_5e285_row10_col4, #T_5e285_row10_col5, #T_5e285_row10_col6, #T_5e285_row10_col7, #T_5e285_row11_col0, #T_5e285_row11_col1, #T_5e285_row11_col2, #T_5e285_row11_col3, #T_5e285_row11_col4, #T_5e285_row11_col5, #T_5e285_row11_col6, #T_5e285_row11_col7, #T_5e285_row12_col0, #T_5e285_row12_col1, #T_5e285_row12_col2, #T_5e285_row12_col3, #T_5e285_row12_col4, #T_5e285_row12_col5, #T_5e285_row12_col6, #T_5e285_row12_col7, #T_5e285_row13_col0, #T_5e285_row13_col1, #T_5e285_row13_col2, #T_5e285_row13_col3, #T_5e285_row13_col4, #T_5e285_row13_col5, #T_5e285_row13_col6, #T_5e285_row13_col7, #T_5e285_row14_col0, #T_5e285_row14_col1, #T_5e285_row14_col2, #T_5e285_row14_col3, #T_5e285_row14_col4, #T_5e285_row14_col5, #T_5e285_row14_col6, #T_5e285_row14_col7, #T_5e285_row15_col0, #T_5e285_row15_col1, #T_5e285_row15_col2, #T_5e285_row15_col3, #T_5e285_row15_col4, #T_5e285_row15_col5, #T_5e285_row15_col6, #T_5e285_row15_col7 {\n",
       "  text-align: left;\n",
       "}\n",
       "#T_5e285_row0_col2, #T_5e285_row2_col1, #T_5e285_row2_col7, #T_5e285_row6_col6, #T_5e285_row8_col4, #T_5e285_row9_col3, #T_5e285_row9_col5 {\n",
       "  text-align: left;\n",
       "  background-color: yellow;\n",
       "}\n",
       "#T_5e285_row0_col8, #T_5e285_row1_col8, #T_5e285_row2_col8, #T_5e285_row3_col8, #T_5e285_row4_col8, #T_5e285_row5_col8, #T_5e285_row6_col8, #T_5e285_row7_col8, #T_5e285_row9_col8, #T_5e285_row10_col8, #T_5e285_row11_col8, #T_5e285_row12_col8, #T_5e285_row14_col8 {\n",
       "  text-align: left;\n",
       "  background-color: lightgrey;\n",
       "}\n",
       "#T_5e285_row8_col8, #T_5e285_row13_col8, #T_5e285_row15_col8 {\n",
       "  text-align: left;\n",
       "  background-color: yellow;\n",
       "  background-color: lightgrey;\n",
       "}\n",
       "</style>\n",
       "<table id=\"T_5e285\">\n",
       "  <thead>\n",
       "    <tr>\n",
       "      <th class=\"blank level0\" >&nbsp;</th>\n",
       "      <th id=\"T_5e285_level0_col0\" class=\"col_heading level0 col0\" >Model</th>\n",
       "      <th id=\"T_5e285_level0_col1\" class=\"col_heading level0 col1\" >Accuracy</th>\n",
       "      <th id=\"T_5e285_level0_col2\" class=\"col_heading level0 col2\" >AUC</th>\n",
       "      <th id=\"T_5e285_level0_col3\" class=\"col_heading level0 col3\" >Recall</th>\n",
       "      <th id=\"T_5e285_level0_col4\" class=\"col_heading level0 col4\" >Prec.</th>\n",
       "      <th id=\"T_5e285_level0_col5\" class=\"col_heading level0 col5\" >F1</th>\n",
       "      <th id=\"T_5e285_level0_col6\" class=\"col_heading level0 col6\" >Kappa</th>\n",
       "      <th id=\"T_5e285_level0_col7\" class=\"col_heading level0 col7\" >MCC</th>\n",
       "      <th id=\"T_5e285_level0_col8\" class=\"col_heading level0 col8\" >TT (Sec)</th>\n",
       "    </tr>\n",
       "  </thead>\n",
       "  <tbody>\n",
       "    <tr>\n",
       "      <th id=\"T_5e285_level0_row0\" class=\"row_heading level0 row0\" >et</th>\n",
       "      <td id=\"T_5e285_row0_col0\" class=\"data row0 col0\" >Extra Trees Classifier</td>\n",
       "      <td id=\"T_5e285_row0_col1\" class=\"data row0 col1\" >0.8282</td>\n",
       "      <td id=\"T_5e285_row0_col2\" class=\"data row0 col2\" >0.7742</td>\n",
       "      <td id=\"T_5e285_row0_col3\" class=\"data row0 col3\" >0.2156</td>\n",
       "      <td id=\"T_5e285_row0_col4\" class=\"data row0 col4\" >0.8610</td>\n",
       "      <td id=\"T_5e285_row0_col5\" class=\"data row0 col5\" >0.3446</td>\n",
       "      <td id=\"T_5e285_row0_col6\" class=\"data row0 col6\" >0.2846</td>\n",
       "      <td id=\"T_5e285_row0_col7\" class=\"data row0 col7\" >0.3764</td>\n",
       "      <td id=\"T_5e285_row0_col8\" class=\"data row0 col8\" >0.4200</td>\n",
       "    </tr>\n",
       "    <tr>\n",
       "      <th id=\"T_5e285_level0_row1\" class=\"row_heading level0 row1\" >catboost</th>\n",
       "      <td id=\"T_5e285_row1_col0\" class=\"data row1 col0\" >CatBoost Classifier</td>\n",
       "      <td id=\"T_5e285_row1_col1\" class=\"data row1 col1\" >0.8268</td>\n",
       "      <td id=\"T_5e285_row1_col2\" class=\"data row1 col2\" >0.7706</td>\n",
       "      <td id=\"T_5e285_row1_col3\" class=\"data row1 col3\" >0.2521</td>\n",
       "      <td id=\"T_5e285_row1_col4\" class=\"data row1 col4\" >0.7628</td>\n",
       "      <td id=\"T_5e285_row1_col5\" class=\"data row1 col5\" >0.3787</td>\n",
       "      <td id=\"T_5e285_row1_col6\" class=\"data row1 col6\" >0.3066</td>\n",
       "      <td id=\"T_5e285_row1_col7\" class=\"data row1 col7\" >0.3707</td>\n",
       "      <td id=\"T_5e285_row1_col8\" class=\"data row1 col8\" >1.6667</td>\n",
       "    </tr>\n",
       "    <tr>\n",
       "      <th id=\"T_5e285_level0_row2\" class=\"row_heading level0 row2\" >rf</th>\n",
       "      <td id=\"T_5e285_row2_col0\" class=\"data row2 col0\" >Random Forest Classifier</td>\n",
       "      <td id=\"T_5e285_row2_col1\" class=\"data row2 col1\" >0.8298</td>\n",
       "      <td id=\"T_5e285_row2_col2\" class=\"data row2 col2\" >0.7702</td>\n",
       "      <td id=\"T_5e285_row2_col3\" class=\"data row2 col3\" >0.2252</td>\n",
       "      <td id=\"T_5e285_row2_col4\" class=\"data row2 col4\" >0.8599</td>\n",
       "      <td id=\"T_5e285_row2_col5\" class=\"data row2 col5\" >0.3566</td>\n",
       "      <td id=\"T_5e285_row2_col6\" class=\"data row2 col6\" >0.2954</td>\n",
       "      <td id=\"T_5e285_row2_col7\" class=\"data row2 col7\" >0.3847</td>\n",
       "      <td id=\"T_5e285_row2_col8\" class=\"data row2 col8\" >0.4467</td>\n",
       "    </tr>\n",
       "    <tr>\n",
       "      <th id=\"T_5e285_level0_row3\" class=\"row_heading level0 row3\" >lightgbm</th>\n",
       "      <td id=\"T_5e285_row3_col0\" class=\"data row3 col0\" >Light Gradient Boosting Machine</td>\n",
       "      <td id=\"T_5e285_row3_col1\" class=\"data row3 col1\" >0.8213</td>\n",
       "      <td id=\"T_5e285_row3_col2\" class=\"data row3 col2\" >0.7613</td>\n",
       "      <td id=\"T_5e285_row3_col3\" class=\"data row3 col3\" >0.2657</td>\n",
       "      <td id=\"T_5e285_row3_col4\" class=\"data row3 col4\" >0.6937</td>\n",
       "      <td id=\"T_5e285_row3_col5\" class=\"data row3 col5\" >0.3840</td>\n",
       "      <td id=\"T_5e285_row3_col6\" class=\"data row3 col6\" >0.3030</td>\n",
       "      <td id=\"T_5e285_row3_col7\" class=\"data row3 col7\" >0.3511</td>\n",
       "      <td id=\"T_5e285_row3_col8\" class=\"data row3 col8\" >0.7233</td>\n",
       "    </tr>\n",
       "    <tr>\n",
       "      <th id=\"T_5e285_level0_row4\" class=\"row_heading level0 row4\" >gbc</th>\n",
       "      <td id=\"T_5e285_row4_col0\" class=\"data row4 col0\" >Gradient Boosting Classifier</td>\n",
       "      <td id=\"T_5e285_row4_col1\" class=\"data row4 col1\" >0.8256</td>\n",
       "      <td id=\"T_5e285_row4_col2\" class=\"data row4 col2\" >0.7611</td>\n",
       "      <td id=\"T_5e285_row4_col3\" class=\"data row4 col3\" >0.2393</td>\n",
       "      <td id=\"T_5e285_row4_col4\" class=\"data row4 col4\" >0.7710</td>\n",
       "      <td id=\"T_5e285_row4_col5\" class=\"data row4 col5\" >0.3649</td>\n",
       "      <td id=\"T_5e285_row4_col6\" class=\"data row4 col6\" >0.2950</td>\n",
       "      <td id=\"T_5e285_row4_col7\" class=\"data row4 col7\" >0.3636</td>\n",
       "      <td id=\"T_5e285_row4_col8\" class=\"data row4 col8\" >1.5300</td>\n",
       "    </tr>\n",
       "    <tr>\n",
       "      <th id=\"T_5e285_level0_row5\" class=\"row_heading level0 row5\" >lda</th>\n",
       "      <td id=\"T_5e285_row5_col0\" class=\"data row5 col0\" >Linear Discriminant Analysis</td>\n",
       "      <td id=\"T_5e285_row5_col1\" class=\"data row5 col1\" >0.8193</td>\n",
       "      <td id=\"T_5e285_row5_col2\" class=\"data row5 col2\" >0.7451</td>\n",
       "      <td id=\"T_5e285_row5_col3\" class=\"data row5 col3\" >0.2065</td>\n",
       "      <td id=\"T_5e285_row5_col4\" class=\"data row5 col4\" >0.7531</td>\n",
       "      <td id=\"T_5e285_row5_col5\" class=\"data row5 col5\" >0.3234</td>\n",
       "      <td id=\"T_5e285_row5_col6\" class=\"data row5 col6\" >0.2565</td>\n",
       "      <td id=\"T_5e285_row5_col7\" class=\"data row5 col7\" >0.3291</td>\n",
       "      <td id=\"T_5e285_row5_col8\" class=\"data row5 col8\" >0.2367</td>\n",
       "    </tr>\n",
       "    <tr>\n",
       "      <th id=\"T_5e285_level0_row6\" class=\"row_heading level0 row6\" >xgboost</th>\n",
       "      <td id=\"T_5e285_row6_col0\" class=\"data row6 col0\" >Extreme Gradient Boosting</td>\n",
       "      <td id=\"T_5e285_row6_col1\" class=\"data row6 col1\" >0.8157</td>\n",
       "      <td id=\"T_5e285_row6_col2\" class=\"data row6 col2\" >0.7412</td>\n",
       "      <td id=\"T_5e285_row6_col3\" class=\"data row6 col3\" >0.2958</td>\n",
       "      <td id=\"T_5e285_row6_col4\" class=\"data row6 col4\" >0.6288</td>\n",
       "      <td id=\"T_5e285_row6_col5\" class=\"data row6 col5\" >0.4020</td>\n",
       "      <td id=\"T_5e285_row6_col6\" class=\"data row6 col6\" >0.3095</td>\n",
       "      <td id=\"T_5e285_row6_col7\" class=\"data row6 col7\" >0.3404</td>\n",
       "      <td id=\"T_5e285_row6_col8\" class=\"data row6 col8\" >0.8700</td>\n",
       "    </tr>\n",
       "    <tr>\n",
       "      <th id=\"T_5e285_level0_row7\" class=\"row_heading level0 row7\" >ada</th>\n",
       "      <td id=\"T_5e285_row7_col0\" class=\"data row7 col0\" >Ada Boost Classifier</td>\n",
       "      <td id=\"T_5e285_row7_col1\" class=\"data row7 col1\" >0.8184</td>\n",
       "      <td id=\"T_5e285_row7_col2\" class=\"data row7 col2\" >0.7377</td>\n",
       "      <td id=\"T_5e285_row7_col3\" class=\"data row7 col3\" >0.2357</td>\n",
       "      <td id=\"T_5e285_row7_col4\" class=\"data row7 col4\" >0.6984</td>\n",
       "      <td id=\"T_5e285_row7_col5\" class=\"data row7 col5\" >0.3520</td>\n",
       "      <td id=\"T_5e285_row7_col6\" class=\"data row7 col6\" >0.2755</td>\n",
       "      <td id=\"T_5e285_row7_col7\" class=\"data row7 col7\" >0.3310</td>\n",
       "      <td id=\"T_5e285_row7_col8\" class=\"data row7 col8\" >0.7200</td>\n",
       "    </tr>\n",
       "    <tr>\n",
       "      <th id=\"T_5e285_level0_row8\" class=\"row_heading level0 row8\" >qda</th>\n",
       "      <td id=\"T_5e285_row8_col0\" class=\"data row8 col0\" >Quadratic Discriminant Analysis</td>\n",
       "      <td id=\"T_5e285_row8_col1\" class=\"data row8 col1\" >0.8138</td>\n",
       "      <td id=\"T_5e285_row8_col2\" class=\"data row8 col2\" >0.7196</td>\n",
       "      <td id=\"T_5e285_row8_col3\" class=\"data row8 col3\" >0.1190</td>\n",
       "      <td id=\"T_5e285_row8_col4\" class=\"data row8 col4\" >0.9406</td>\n",
       "      <td id=\"T_5e285_row8_col5\" class=\"data row8 col5\" >0.2112</td>\n",
       "      <td id=\"T_5e285_row8_col6\" class=\"data row8 col6\" >0.1723</td>\n",
       "      <td id=\"T_5e285_row8_col7\" class=\"data row8 col7\" >0.2964</td>\n",
       "      <td id=\"T_5e285_row8_col8\" class=\"data row8 col8\" >0.2167</td>\n",
       "    </tr>\n",
       "    <tr>\n",
       "      <th id=\"T_5e285_level0_row9\" class=\"row_heading level0 row9\" >nb</th>\n",
       "      <td id=\"T_5e285_row9_col0\" class=\"data row9 col0\" >Naive Bayes</td>\n",
       "      <td id=\"T_5e285_row9_col1\" class=\"data row9 col1\" >0.6002</td>\n",
       "      <td id=\"T_5e285_row9_col2\" class=\"data row9 col2\" >0.6683</td>\n",
       "      <td id=\"T_5e285_row9_col3\" class=\"data row9 col3\" >0.6732</td>\n",
       "      <td id=\"T_5e285_row9_col4\" class=\"data row9 col4\" >0.2988</td>\n",
       "      <td id=\"T_5e285_row9_col5\" class=\"data row9 col5\" >0.4138</td>\n",
       "      <td id=\"T_5e285_row9_col6\" class=\"data row9 col6\" >0.1740</td>\n",
       "      <td id=\"T_5e285_row9_col7\" class=\"data row9 col7\" >0.2072</td>\n",
       "      <td id=\"T_5e285_row9_col8\" class=\"data row9 col8\" >0.6267</td>\n",
       "    </tr>\n",
       "    <tr>\n",
       "      <th id=\"T_5e285_level0_row10\" class=\"row_heading level0 row10\" >lr</th>\n",
       "      <td id=\"T_5e285_row10_col0\" class=\"data row10 col0\" >Logistic Regression</td>\n",
       "      <td id=\"T_5e285_row10_col1\" class=\"data row10 col1\" >0.7889</td>\n",
       "      <td id=\"T_5e285_row10_col2\" class=\"data row10 col2\" >0.6539</td>\n",
       "      <td id=\"T_5e285_row10_col3\" class=\"data row10 col3\" >0.0059</td>\n",
       "      <td id=\"T_5e285_row10_col4\" class=\"data row10 col4\" >0.4784</td>\n",
       "      <td id=\"T_5e285_row10_col5\" class=\"data row10 col5\" >0.0116</td>\n",
       "      <td id=\"T_5e285_row10_col6\" class=\"data row10 col6\" >0.0038</td>\n",
       "      <td id=\"T_5e285_row10_col7\" class=\"data row10 col7\" >0.0254</td>\n",
       "      <td id=\"T_5e285_row10_col8\" class=\"data row10 col8\" >1.1167</td>\n",
       "    </tr>\n",
       "    <tr>\n",
       "      <th id=\"T_5e285_level0_row11\" class=\"row_heading level0 row11\" >dt</th>\n",
       "      <td id=\"T_5e285_row11_col0\" class=\"data row11 col0\" >Decision Tree Classifier</td>\n",
       "      <td id=\"T_5e285_row11_col1\" class=\"data row11 col1\" >0.7375</td>\n",
       "      <td id=\"T_5e285_row11_col2\" class=\"data row11 col2\" >0.6192</td>\n",
       "      <td id=\"T_5e285_row11_col3\" class=\"data row11 col3\" >0.4157</td>\n",
       "      <td id=\"T_5e285_row11_col4\" class=\"data row11 col4\" >0.3831</td>\n",
       "      <td id=\"T_5e285_row11_col5\" class=\"data row11 col5\" >0.3984</td>\n",
       "      <td id=\"T_5e285_row11_col6\" class=\"data row11 col6\" >0.2310</td>\n",
       "      <td id=\"T_5e285_row11_col7\" class=\"data row11 col7\" >0.2314</td>\n",
       "      <td id=\"T_5e285_row11_col8\" class=\"data row11 col8\" >0.5333</td>\n",
       "    </tr>\n",
       "    <tr>\n",
       "      <th id=\"T_5e285_level0_row12\" class=\"row_heading level0 row12\" >knn</th>\n",
       "      <td id=\"T_5e285_row12_col0\" class=\"data row12 col0\" >K Neighbors Classifier</td>\n",
       "      <td id=\"T_5e285_row12_col1\" class=\"data row12 col1\" >0.7780</td>\n",
       "      <td id=\"T_5e285_row12_col2\" class=\"data row12 col2\" >0.6122</td>\n",
       "      <td id=\"T_5e285_row12_col3\" class=\"data row12 col3\" >0.1837</td>\n",
       "      <td id=\"T_5e285_row12_col4\" class=\"data row12 col4\" >0.4314</td>\n",
       "      <td id=\"T_5e285_row12_col5\" class=\"data row12 col5\" >0.2576</td>\n",
       "      <td id=\"T_5e285_row12_col6\" class=\"data row12 col6\" >0.1512</td>\n",
       "      <td id=\"T_5e285_row12_col7\" class=\"data row12 col7\" >0.1704</td>\n",
       "      <td id=\"T_5e285_row12_col8\" class=\"data row12 col8\" >0.6533</td>\n",
       "    </tr>\n",
       "    <tr>\n",
       "      <th id=\"T_5e285_level0_row13\" class=\"row_heading level0 row13\" >dummy</th>\n",
       "      <td id=\"T_5e285_row13_col0\" class=\"data row13 col0\" >Dummy Classifier</td>\n",
       "      <td id=\"T_5e285_row13_col1\" class=\"data row13 col1\" >0.7904</td>\n",
       "      <td id=\"T_5e285_row13_col2\" class=\"data row13 col2\" >0.5000</td>\n",
       "      <td id=\"T_5e285_row13_col3\" class=\"data row13 col3\" >0.0000</td>\n",
       "      <td id=\"T_5e285_row13_col4\" class=\"data row13 col4\" >0.0000</td>\n",
       "      <td id=\"T_5e285_row13_col5\" class=\"data row13 col5\" >0.0000</td>\n",
       "      <td id=\"T_5e285_row13_col6\" class=\"data row13 col6\" >0.0000</td>\n",
       "      <td id=\"T_5e285_row13_col7\" class=\"data row13 col7\" >0.0000</td>\n",
       "      <td id=\"T_5e285_row13_col8\" class=\"data row13 col8\" >0.2167</td>\n",
       "    </tr>\n",
       "    <tr>\n",
       "      <th id=\"T_5e285_level0_row14\" class=\"row_heading level0 row14\" >svm</th>\n",
       "      <td id=\"T_5e285_row14_col0\" class=\"data row14 col0\" >SVM - Linear Kernel</td>\n",
       "      <td id=\"T_5e285_row14_col1\" class=\"data row14 col1\" >0.7151</td>\n",
       "      <td id=\"T_5e285_row14_col2\" class=\"data row14 col2\" >0.0000</td>\n",
       "      <td id=\"T_5e285_row14_col3\" class=\"data row14 col3\" >0.2466</td>\n",
       "      <td id=\"T_5e285_row14_col4\" class=\"data row14 col4\" >0.2826</td>\n",
       "      <td id=\"T_5e285_row14_col5\" class=\"data row14 col5\" >0.2548</td>\n",
       "      <td id=\"T_5e285_row14_col6\" class=\"data row14 col6\" >0.0856</td>\n",
       "      <td id=\"T_5e285_row14_col7\" class=\"data row14 col7\" >0.0876</td>\n",
       "      <td id=\"T_5e285_row14_col8\" class=\"data row14 col8\" >0.4133</td>\n",
       "    </tr>\n",
       "    <tr>\n",
       "      <th id=\"T_5e285_level0_row15\" class=\"row_heading level0 row15\" >ridge</th>\n",
       "      <td id=\"T_5e285_row15_col0\" class=\"data row15 col0\" >Ridge Classifier</td>\n",
       "      <td id=\"T_5e285_row15_col1\" class=\"data row15 col1\" >0.8172</td>\n",
       "      <td id=\"T_5e285_row15_col2\" class=\"data row15 col2\" >0.0000</td>\n",
       "      <td id=\"T_5e285_row15_col3\" class=\"data row15 col3\" >0.1550</td>\n",
       "      <td id=\"T_5e285_row15_col4\" class=\"data row15 col4\" >0.8528</td>\n",
       "      <td id=\"T_5e285_row15_col5\" class=\"data row15 col5\" >0.2617</td>\n",
       "      <td id=\"T_5e285_row15_col6\" class=\"data row15 col6\" >0.2111</td>\n",
       "      <td id=\"T_5e285_row15_col7\" class=\"data row15 col7\" >0.3138</td>\n",
       "      <td id=\"T_5e285_row15_col8\" class=\"data row15 col8\" >0.2167</td>\n",
       "    </tr>\n",
       "  </tbody>\n",
       "</table>\n"
      ],
      "text/plain": [
       "<pandas.io.formats.style.Styler at 0x2bad818b0>"
      ]
     },
     "metadata": {},
     "output_type": "display_data"
    },
    {
     "data": {
      "text/html": [],
      "text/plain": [
       "<IPython.core.display.HTML object>"
      ]
     },
     "metadata": {},
     "output_type": "display_data"
    }
   ],
   "source": [
    "best_3 = compare_models(sort ='AUC', fold=3, n_select = 3)"
   ]
  },
  {
   "cell_type": "markdown",
   "id": "50d7c50d-092f-43db-93f0-beb620a6c0dc",
   "metadata": {},
   "source": [
    "AUC 기준 Catboost, XGBoost, LightGBM이 우수한 모델로 선정되었다.\n",
    "3개 모델을 대상으로 파라미터 최적화를 진행한다."
   ]
  },
  {
   "cell_type": "code",
   "execution_count": null,
   "id": "3ff216b5-9d9d-451a-a5be-f0b775503530",
   "metadata": {},
   "outputs": [],
   "source": []
  }
 ],
 "metadata": {
  "kernelspec": {
   "display_name": "Python 3 (ipykernel)",
   "language": "python",
   "name": "python3"
  },
  "language_info": {
   "codemirror_mode": {
    "name": "ipython",
    "version": 3
   },
   "file_extension": ".py",
   "mimetype": "text/x-python",
   "name": "python",
   "nbconvert_exporter": "python",
   "pygments_lexer": "ipython3",
   "version": "3.9.16"
  }
 },
 "nbformat": 4,
 "nbformat_minor": 5
}
