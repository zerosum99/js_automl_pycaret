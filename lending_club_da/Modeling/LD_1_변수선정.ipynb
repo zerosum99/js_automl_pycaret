{
 "cells": [
  {
   "cell_type": "code",
   "execution_count": null,
   "id": "60f3ef7b-ba8d-4f2e-89a0-04f2ed34fe20",
   "metadata": {},
   "outputs": [],
   "source": []
  },
  {
   "cell_type": "code",
   "execution_count": null,
   "id": "40ecf550-ce13-4619-921f-3a461cc2f82a",
   "metadata": {},
   "outputs": [],
   "source": []
  },
  {
   "cell_type": "code",
   "execution_count": 1,
   "id": "147fcd2f-3325-4e54-ba15-225ae34f8c61",
   "metadata": {},
   "outputs": [],
   "source": [
    "import pandas as pd\n",
    "import numpy as np\n",
    "import pickle, os\n",
    "import warnings\n",
    "warnings.filterwarnings('ignore')\n"
   ]
  },
  {
   "cell_type": "code",
   "execution_count": null,
   "id": "a6dfb2b7-3b0a-4450-ba39-463f332cde55",
   "metadata": {},
   "outputs": [],
   "source": []
  },
  {
   "cell_type": "code",
   "execution_count": 2,
   "id": "a021da31-ae56-47d4-9710-fe4e6930a202",
   "metadata": {},
   "outputs": [],
   "source": [
    "path_read =\"/Users/a06411/Documents/data_hub/lending_club/df_preprocessed_ld_0.pkl\""
   ]
  },
  {
   "cell_type": "code",
   "execution_count": null,
   "id": "37e62b88-f774-4f4d-a4ee-dcc465b26381",
   "metadata": {},
   "outputs": [],
   "source": []
  },
  {
   "cell_type": "code",
   "execution_count": 3,
   "id": "13c3e933-ede3-4991-bfae-8b300c74f8e7",
   "metadata": {},
   "outputs": [],
   "source": [
    "df = pd.read_pickle(path_read)"
   ]
  },
  {
   "cell_type": "code",
   "execution_count": 4,
   "id": "564022b2-c633-4e6b-9dc0-02e487b35a0b",
   "metadata": {},
   "outputs": [
    {
     "data": {
      "text/plain": [
       "(1382351, 104)"
      ]
     },
     "execution_count": 4,
     "metadata": {},
     "output_type": "execute_result"
    }
   ],
   "source": [
    "df.shape"
   ]
  },
  {
   "cell_type": "code",
   "execution_count": null,
   "id": "65c57b51-6977-4acb-a3e1-b4af42c839a9",
   "metadata": {},
   "outputs": [],
   "source": []
  },
  {
   "cell_type": "code",
   "execution_count": null,
   "id": "3ae30b79-60ae-4039-b104-3ce7aafd7c6a",
   "metadata": {},
   "outputs": [],
   "source": []
  },
  {
   "cell_type": "markdown",
   "id": "1861f697-dda2-40fd-a7f6-719a19dc6891",
   "metadata": {},
   "source": [
    "## 분산분석(ANOVA)\n",
    "- 연속형 변수에 대해 분산분석을 적용한다"
   ]
  },
  {
   "cell_type": "code",
   "execution_count": 5,
   "id": "17ca29a7-b626-4194-bc7e-1d98ab278c2b",
   "metadata": {},
   "outputs": [],
   "source": [
    "from sklearn.feature_selection import chi2, f_classif\n",
    "from sklearn.feature_selection import SelectKBest\n"
   ]
  },
  {
   "cell_type": "code",
   "execution_count": 6,
   "id": "8fb1e68f-0364-437e-9da5-8a0d8fa8c657",
   "metadata": {},
   "outputs": [],
   "source": [
    "num_col = np.setdiff1d(df.select_dtypes('number').columns.values, ['id','loan_status'])\n",
    "X, y = df[num_col], df['loan_status']"
   ]
  },
  {
   "cell_type": "code",
   "execution_count": 7,
   "id": "cd2831d7-91e9-4cbe-837b-b66610a27179",
   "metadata": {},
   "outputs": [
    {
     "data": {
      "text/plain": [
       "array(['acc_now_delinq', 'acc_open_past_24mths', 'addr_state', 'all_util',\n",
       "       'annual_inc', 'application_type', 'avg_cur_bal', 'bc_open_to_buy',\n",
       "       'bc_util', 'chargeoff_within_12_mths', 'collection_recovery_fee',\n",
       "       'collections_12_mths_ex_med', 'debt_settlement_flag',\n",
       "       'delinq_2yrs', 'delinq_amnt', 'disbursement_method', 'dti',\n",
       "       'emp_length', 'fico_range_high', 'fico_range_low', 'funded_amnt',\n",
       "       'funded_amnt_inv', 'grade', 'hardship_flag', 'home_ownership',\n",
       "       'il_util', 'initial_list_status', 'inq_fi', 'inq_last_12m',\n",
       "       'inq_last_6mths', 'installment', 'int_rate',\n",
       "       'last_fico_range_high', 'last_fico_range_low', 'last_pymnt_amnt',\n",
       "       'loan_amnt', 'max_bal_bc', 'mo_sin_old_il_acct',\n",
       "       'mo_sin_old_rev_tl_op', 'mo_sin_rcnt_rev_tl_op', 'mo_sin_rcnt_tl',\n",
       "       'mort_acc', 'mths_since_last_delinq',\n",
       "       'mths_since_last_major_derog', 'mths_since_last_record',\n",
       "       'mths_since_rcnt_il', 'mths_since_recent_bc',\n",
       "       'mths_since_recent_bc_dlq', 'mths_since_recent_inq',\n",
       "       'mths_since_recent_revol_delinq', 'num_accts_ever_120_pd',\n",
       "       'num_actv_bc_tl', 'num_actv_rev_tl', 'num_bc_sats', 'num_bc_tl',\n",
       "       'num_il_tl', 'num_op_rev_tl', 'num_rev_accts',\n",
       "       'num_rev_tl_bal_gt_0', 'num_sats', 'num_tl_120dpd_2m',\n",
       "       'num_tl_30dpd', 'num_tl_90g_dpd_24m', 'num_tl_op_past_12m',\n",
       "       'open_acc', 'open_acc_6m', 'open_act_il', 'open_il_12m',\n",
       "       'open_il_24m', 'open_rv_12m', 'open_rv_24m', 'out_prncp',\n",
       "       'out_prncp_inv', 'pct_tl_nvr_dlq', 'percent_bc_gt_75', 'pub_rec',\n",
       "       'pub_rec_bankruptcies', 'purpose', 'pymnt_plan', 'recoveries',\n",
       "       'revol_bal', 'revol_util', 'sub_grade', 'tax_liens', 'term',\n",
       "       'tot_coll_amt', 'tot_cur_bal', 'tot_hi_cred_lim', 'total_acc',\n",
       "       'total_bal_ex_mort', 'total_bal_il', 'total_bc_limit',\n",
       "       'total_cu_tl', 'total_il_high_credit_limit', 'total_pymnt',\n",
       "       'total_pymnt_inv', 'total_rec_int', 'total_rec_late_fee',\n",
       "       'total_rec_prncp', 'total_rev_hi_lim', 'verification_status'],\n",
       "      dtype=object)"
      ]
     },
     "execution_count": 7,
     "metadata": {},
     "output_type": "execute_result"
    }
   ],
   "source": [
    "num_col"
   ]
  },
  {
   "cell_type": "code",
   "execution_count": 8,
   "id": "780ada62-e6ae-4a21-a202-9f8c69c82f66",
   "metadata": {},
   "outputs": [],
   "source": [
    "X = X.fillna(0) "
   ]
  },
  {
   "cell_type": "code",
   "execution_count": 9,
   "id": "1ef1990d-9567-45e4-96a4-187f2407591d",
   "metadata": {},
   "outputs": [
    {
     "data": {
      "text/plain": [
       "(1382351, 101)"
      ]
     },
     "execution_count": 9,
     "metadata": {},
     "output_type": "execute_result"
    }
   ],
   "source": [
    "X.shape"
   ]
  },
  {
   "cell_type": "code",
   "execution_count": 10,
   "id": "f9dcbe33-2954-48be-92a0-35ecefb3ca26",
   "metadata": {},
   "outputs": [
    {
     "data": {
      "text/html": [
       "<style>#sk-container-id-1 {color: black;}#sk-container-id-1 pre{padding: 0;}#sk-container-id-1 div.sk-toggleable {background-color: white;}#sk-container-id-1 label.sk-toggleable__label {cursor: pointer;display: block;width: 100%;margin-bottom: 0;padding: 0.3em;box-sizing: border-box;text-align: center;}#sk-container-id-1 label.sk-toggleable__label-arrow:before {content: \"▸\";float: left;margin-right: 0.25em;color: #696969;}#sk-container-id-1 label.sk-toggleable__label-arrow:hover:before {color: black;}#sk-container-id-1 div.sk-estimator:hover label.sk-toggleable__label-arrow:before {color: black;}#sk-container-id-1 div.sk-toggleable__content {max-height: 0;max-width: 0;overflow: hidden;text-align: left;background-color: #f0f8ff;}#sk-container-id-1 div.sk-toggleable__content pre {margin: 0.2em;color: black;border-radius: 0.25em;background-color: #f0f8ff;}#sk-container-id-1 input.sk-toggleable__control:checked~div.sk-toggleable__content {max-height: 200px;max-width: 100%;overflow: auto;}#sk-container-id-1 input.sk-toggleable__control:checked~label.sk-toggleable__label-arrow:before {content: \"▾\";}#sk-container-id-1 div.sk-estimator input.sk-toggleable__control:checked~label.sk-toggleable__label {background-color: #d4ebff;}#sk-container-id-1 div.sk-label input.sk-toggleable__control:checked~label.sk-toggleable__label {background-color: #d4ebff;}#sk-container-id-1 input.sk-hidden--visually {border: 0;clip: rect(1px 1px 1px 1px);clip: rect(1px, 1px, 1px, 1px);height: 1px;margin: -1px;overflow: hidden;padding: 0;position: absolute;width: 1px;}#sk-container-id-1 div.sk-estimator {font-family: monospace;background-color: #f0f8ff;border: 1px dotted black;border-radius: 0.25em;box-sizing: border-box;margin-bottom: 0.5em;}#sk-container-id-1 div.sk-estimator:hover {background-color: #d4ebff;}#sk-container-id-1 div.sk-parallel-item::after {content: \"\";width: 100%;border-bottom: 1px solid gray;flex-grow: 1;}#sk-container-id-1 div.sk-label:hover label.sk-toggleable__label {background-color: #d4ebff;}#sk-container-id-1 div.sk-serial::before {content: \"\";position: absolute;border-left: 1px solid gray;box-sizing: border-box;top: 0;bottom: 0;left: 50%;z-index: 0;}#sk-container-id-1 div.sk-serial {display: flex;flex-direction: column;align-items: center;background-color: white;padding-right: 0.2em;padding-left: 0.2em;position: relative;}#sk-container-id-1 div.sk-item {position: relative;z-index: 1;}#sk-container-id-1 div.sk-parallel {display: flex;align-items: stretch;justify-content: center;background-color: white;position: relative;}#sk-container-id-1 div.sk-item::before, #sk-container-id-1 div.sk-parallel-item::before {content: \"\";position: absolute;border-left: 1px solid gray;box-sizing: border-box;top: 0;bottom: 0;left: 50%;z-index: -1;}#sk-container-id-1 div.sk-parallel-item {display: flex;flex-direction: column;z-index: 1;position: relative;background-color: white;}#sk-container-id-1 div.sk-parallel-item:first-child::after {align-self: flex-end;width: 50%;}#sk-container-id-1 div.sk-parallel-item:last-child::after {align-self: flex-start;width: 50%;}#sk-container-id-1 div.sk-parallel-item:only-child::after {width: 0;}#sk-container-id-1 div.sk-dashed-wrapped {border: 1px dashed gray;margin: 0 0.4em 0.5em 0.4em;box-sizing: border-box;padding-bottom: 0.4em;background-color: white;}#sk-container-id-1 div.sk-label label {font-family: monospace;font-weight: bold;display: inline-block;line-height: 1.2em;}#sk-container-id-1 div.sk-label-container {text-align: center;}#sk-container-id-1 div.sk-container {/* jupyter's `normalize.less` sets `[hidden] { display: none; }` but bootstrap.min.css set `[hidden] { display: none !important; }` so we also need the `!important` here to be able to override the default hidden behavior on the sphinx rendered scikit-learn.org. See: https://github.com/scikit-learn/scikit-learn/issues/21755 */display: inline-block !important;position: relative;}#sk-container-id-1 div.sk-text-repr-fallback {display: none;}</style><div id=\"sk-container-id-1\" class=\"sk-top-container\"><div class=\"sk-text-repr-fallback\"><pre>SelectKBest(k=50)</pre><b>In a Jupyter environment, please rerun this cell to show the HTML representation or trust the notebook. <br />On GitHub, the HTML representation is unable to render, please try loading this page with nbviewer.org.</b></div><div class=\"sk-container\" hidden><div class=\"sk-item\"><div class=\"sk-estimator sk-toggleable\"><input class=\"sk-toggleable__control sk-hidden--visually\" id=\"sk-estimator-id-1\" type=\"checkbox\" checked><label for=\"sk-estimator-id-1\" class=\"sk-toggleable__label sk-toggleable__label-arrow\">SelectKBest</label><div class=\"sk-toggleable__content\"><pre>SelectKBest(k=50)</pre></div></div></div></div></div>"
      ],
      "text/plain": [
       "SelectKBest(k=50)"
      ]
     },
     "execution_count": 10,
     "metadata": {},
     "output_type": "execute_result"
    }
   ],
   "source": [
    "selector = SelectKBest(f_classif, k=50)\n",
    "selector.fit(X,y)"
   ]
  },
  {
   "cell_type": "code",
   "execution_count": 11,
   "id": "23a40fa8-453e-401d-a767-e4af1095911a",
   "metadata": {},
   "outputs": [],
   "source": [
    "cols = selector.get_support(indices = True)\n"
   ]
  },
  {
   "cell_type": "code",
   "execution_count": 12,
   "id": "ae3d3d77-105d-4277-8832-773bd62e49df",
   "metadata": {},
   "outputs": [
    {
     "data": {
      "text/plain": [
       "array([  1,   3,   6,   7,   8,  10,  12,  16,  18,  19,  20,  21,  22,\n",
       "        24,  25,  27,  28,  29,  30,  31,  32,  33,  34,  35,  41,  52,\n",
       "        58,  63,  65,  66,  67,  68,  69,  70,  71,  72,  74,  79,  81,\n",
       "        82,  84,  86,  87,  91,  94,  95,  96,  97,  98, 100])"
      ]
     },
     "execution_count": 12,
     "metadata": {},
     "output_type": "execute_result"
    }
   ],
   "source": [
    "cols"
   ]
  },
  {
   "cell_type": "code",
   "execution_count": 13,
   "id": "a6fc9695-c5d8-43d5-893b-facb869fe18f",
   "metadata": {},
   "outputs": [
    {
     "name": "stdout",
     "output_type": "stream",
     "text": [
      "(1382351, 50)\n"
     ]
    }
   ],
   "source": [
    "df_anova = df.iloc[:,cols]\n",
    "print(df_anova.shape)"
   ]
  },
  {
   "cell_type": "code",
   "execution_count": null,
   "id": "f8fead51-e9e6-4dee-afbb-9c846fd2cb25",
   "metadata": {},
   "outputs": [],
   "source": []
  },
  {
   "cell_type": "markdown",
   "id": "883a1347-40e2-4783-b053-5be34a0e296a",
   "metadata": {},
   "source": [
    "## F-value를 기준으로 가장 유의한 50개 변수를 확인한다.\n",
    "\n",
    "- F-value: 사기 데이터와 정상 데이터 간의 분산 비교 척도(높을수록 유의한 변수)"
   ]
  },
  {
   "cell_type": "code",
   "execution_count": 14,
   "id": "4062264f-905c-4815-a4ae-7c28d2700cdd",
   "metadata": {},
   "outputs": [],
   "source": [
    "cols = X.columns.values[selector.get_support()]\n",
    "scores = np.round(selector.scores_[selector.get_support()]*0.1, 2)\n",
    "cols_scores = list(zip(cols, scores))\n"
   ]
  },
  {
   "cell_type": "code",
   "execution_count": null,
   "id": "fd314f74-1f2a-4d46-b821-6b5ef63a4ad6",
   "metadata": {},
   "outputs": [],
   "source": []
  },
  {
   "cell_type": "code",
   "execution_count": 15,
   "id": "4e10b333-2ef8-418f-b783-23acfbfd1310",
   "metadata": {},
   "outputs": [
    {
     "data": {
      "text/html": [
       "<div>\n",
       "<style scoped>\n",
       "    .dataframe tbody tr th:only-of-type {\n",
       "        vertical-align: middle;\n",
       "    }\n",
       "\n",
       "    .dataframe tbody tr th {\n",
       "        vertical-align: top;\n",
       "    }\n",
       "\n",
       "    .dataframe thead th {\n",
       "        text-align: right;\n",
       "    }\n",
       "</style>\n",
       "<table border=\"1\" class=\"dataframe\">\n",
       "  <thead>\n",
       "    <tr style=\"text-align: right;\">\n",
       "      <th></th>\n",
       "      <th>Feat_names</th>\n",
       "      <th>F_Scores</th>\n",
       "    </tr>\n",
       "  </thead>\n",
       "  <tbody>\n",
       "    <tr>\n",
       "      <th>20</th>\n",
       "      <td>last_fico_range_high</td>\n",
       "      <td>108219.69</td>\n",
       "    </tr>\n",
       "    <tr>\n",
       "      <th>21</th>\n",
       "      <td>last_fico_range_low</td>\n",
       "      <td>65255.72</td>\n",
       "    </tr>\n",
       "    <tr>\n",
       "      <th>37</th>\n",
       "      <td>recoveries</td>\n",
       "      <td>40854.02</td>\n",
       "    </tr>\n",
       "    <tr>\n",
       "      <th>5</th>\n",
       "      <td>collection_recovery_fee</td>\n",
       "      <td>35764.78</td>\n",
       "    </tr>\n",
       "    <tr>\n",
       "      <th>48</th>\n",
       "      <td>total_rec_prncp</td>\n",
       "      <td>33685.10</td>\n",
       "    </tr>\n",
       "    <tr>\n",
       "      <th>22</th>\n",
       "      <td>last_pymnt_amnt</td>\n",
       "      <td>19964.12</td>\n",
       "    </tr>\n",
       "    <tr>\n",
       "      <th>44</th>\n",
       "      <td>total_pymnt</td>\n",
       "      <td>15679.36</td>\n",
       "    </tr>\n",
       "    <tr>\n",
       "      <th>45</th>\n",
       "      <td>total_pymnt_inv</td>\n",
       "      <td>15617.20</td>\n",
       "    </tr>\n",
       "    <tr>\n",
       "      <th>6</th>\n",
       "      <td>debt_settlement_flag</td>\n",
       "      <td>14237.99</td>\n",
       "    </tr>\n",
       "    <tr>\n",
       "      <th>39</th>\n",
       "      <td>sub_grade</td>\n",
       "      <td>10537.48</td>\n",
       "    </tr>\n",
       "  </tbody>\n",
       "</table>\n",
       "</div>"
      ],
      "text/plain": [
       "                 Feat_names   F_Scores\n",
       "20     last_fico_range_high  108219.69\n",
       "21      last_fico_range_low   65255.72\n",
       "37               recoveries   40854.02\n",
       "5   collection_recovery_fee   35764.78\n",
       "48          total_rec_prncp   33685.10\n",
       "22          last_pymnt_amnt   19964.12\n",
       "44              total_pymnt   15679.36\n",
       "45          total_pymnt_inv   15617.20\n",
       "6      debt_settlement_flag   14237.99\n",
       "39                sub_grade   10537.48"
      ]
     },
     "execution_count": 15,
     "metadata": {},
     "output_type": "execute_result"
    }
   ],
   "source": [
    "ns_df = pd.DataFrame(data = cols_scores, columns=['Feat_names', 'F_Scores'])\n",
    "ns_df.sort_values(['F_Scores', 'Feat_names'], ascending = [False, True], inplace=True)\n",
    "ns_df.head(10)"
   ]
  },
  {
   "cell_type": "code",
   "execution_count": null,
   "id": "1f501a05-10a9-41a1-9d89-8c4e7e301eba",
   "metadata": {},
   "outputs": [],
   "source": []
  },
  {
   "cell_type": "markdown",
   "id": "f5397ce7-b30a-4fe9-bd86-5fbdad17648e",
   "metadata": {},
   "source": [
    "# 카이제곱검정(Chi-Squared Test)\n",
    "- 범주형 변수에 대해 카이제곱검정을 적용한다."
   ]
  },
  {
   "cell_type": "code",
   "execution_count": null,
   "id": "98854d8e-b93b-425e-9aae-b2c2b1c24091",
   "metadata": {},
   "outputs": [],
   "source": []
  },
  {
   "cell_type": "code",
   "execution_count": 16,
   "id": "001d559f-961c-4a99-8801-004996f15a62",
   "metadata": {},
   "outputs": [],
   "source": [
    "obj_col = ['application_type', 'debt_settlement_flag', 'disbursement_method',\n",
    "           'hardship_flag', 'home_ownership',\n",
    "       'initial_list_status', 'purpose', 'pymnt_plan', 'sub_grade', 'term',\n",
    "       'verification_status','grade']"
   ]
  },
  {
   "cell_type": "code",
   "execution_count": null,
   "id": "dc615e4f-2b2f-4410-ac84-6c8abf0864d1",
   "metadata": {},
   "outputs": [],
   "source": []
  },
  {
   "cell_type": "code",
   "execution_count": 17,
   "id": "d6da07de-5240-4c3a-92b2-9e4485267ef2",
   "metadata": {},
   "outputs": [],
   "source": [
    "from sklearn.feature_selection import chi2\n",
    "from sklearn.feature_selection import SelectKBest"
   ]
  },
  {
   "cell_type": "code",
   "execution_count": null,
   "id": "dbcb965b-973e-46ab-b41d-1b9d1f7e95ed",
   "metadata": {},
   "outputs": [],
   "source": []
  },
  {
   "cell_type": "code",
   "execution_count": 18,
   "id": "45ffe2e1-8bd6-4fa4-a796-d8c909ec5f67",
   "metadata": {},
   "outputs": [],
   "source": [
    "X, y = df[obj_col], df['loan_status']"
   ]
  },
  {
   "cell_type": "code",
   "execution_count": 19,
   "id": "d7be40e2-3b20-49b6-b775-cbce4428f647",
   "metadata": {},
   "outputs": [
    {
     "data": {
      "text/html": [
       "<style>#sk-container-id-2 {color: black;}#sk-container-id-2 pre{padding: 0;}#sk-container-id-2 div.sk-toggleable {background-color: white;}#sk-container-id-2 label.sk-toggleable__label {cursor: pointer;display: block;width: 100%;margin-bottom: 0;padding: 0.3em;box-sizing: border-box;text-align: center;}#sk-container-id-2 label.sk-toggleable__label-arrow:before {content: \"▸\";float: left;margin-right: 0.25em;color: #696969;}#sk-container-id-2 label.sk-toggleable__label-arrow:hover:before {color: black;}#sk-container-id-2 div.sk-estimator:hover label.sk-toggleable__label-arrow:before {color: black;}#sk-container-id-2 div.sk-toggleable__content {max-height: 0;max-width: 0;overflow: hidden;text-align: left;background-color: #f0f8ff;}#sk-container-id-2 div.sk-toggleable__content pre {margin: 0.2em;color: black;border-radius: 0.25em;background-color: #f0f8ff;}#sk-container-id-2 input.sk-toggleable__control:checked~div.sk-toggleable__content {max-height: 200px;max-width: 100%;overflow: auto;}#sk-container-id-2 input.sk-toggleable__control:checked~label.sk-toggleable__label-arrow:before {content: \"▾\";}#sk-container-id-2 div.sk-estimator input.sk-toggleable__control:checked~label.sk-toggleable__label {background-color: #d4ebff;}#sk-container-id-2 div.sk-label input.sk-toggleable__control:checked~label.sk-toggleable__label {background-color: #d4ebff;}#sk-container-id-2 input.sk-hidden--visually {border: 0;clip: rect(1px 1px 1px 1px);clip: rect(1px, 1px, 1px, 1px);height: 1px;margin: -1px;overflow: hidden;padding: 0;position: absolute;width: 1px;}#sk-container-id-2 div.sk-estimator {font-family: monospace;background-color: #f0f8ff;border: 1px dotted black;border-radius: 0.25em;box-sizing: border-box;margin-bottom: 0.5em;}#sk-container-id-2 div.sk-estimator:hover {background-color: #d4ebff;}#sk-container-id-2 div.sk-parallel-item::after {content: \"\";width: 100%;border-bottom: 1px solid gray;flex-grow: 1;}#sk-container-id-2 div.sk-label:hover label.sk-toggleable__label {background-color: #d4ebff;}#sk-container-id-2 div.sk-serial::before {content: \"\";position: absolute;border-left: 1px solid gray;box-sizing: border-box;top: 0;bottom: 0;left: 50%;z-index: 0;}#sk-container-id-2 div.sk-serial {display: flex;flex-direction: column;align-items: center;background-color: white;padding-right: 0.2em;padding-left: 0.2em;position: relative;}#sk-container-id-2 div.sk-item {position: relative;z-index: 1;}#sk-container-id-2 div.sk-parallel {display: flex;align-items: stretch;justify-content: center;background-color: white;position: relative;}#sk-container-id-2 div.sk-item::before, #sk-container-id-2 div.sk-parallel-item::before {content: \"\";position: absolute;border-left: 1px solid gray;box-sizing: border-box;top: 0;bottom: 0;left: 50%;z-index: -1;}#sk-container-id-2 div.sk-parallel-item {display: flex;flex-direction: column;z-index: 1;position: relative;background-color: white;}#sk-container-id-2 div.sk-parallel-item:first-child::after {align-self: flex-end;width: 50%;}#sk-container-id-2 div.sk-parallel-item:last-child::after {align-self: flex-start;width: 50%;}#sk-container-id-2 div.sk-parallel-item:only-child::after {width: 0;}#sk-container-id-2 div.sk-dashed-wrapped {border: 1px dashed gray;margin: 0 0.4em 0.5em 0.4em;box-sizing: border-box;padding-bottom: 0.4em;background-color: white;}#sk-container-id-2 div.sk-label label {font-family: monospace;font-weight: bold;display: inline-block;line-height: 1.2em;}#sk-container-id-2 div.sk-label-container {text-align: center;}#sk-container-id-2 div.sk-container {/* jupyter's `normalize.less` sets `[hidden] { display: none; }` but bootstrap.min.css set `[hidden] { display: none !important; }` so we also need the `!important` here to be able to override the default hidden behavior on the sphinx rendered scikit-learn.org. See: https://github.com/scikit-learn/scikit-learn/issues/21755 */display: inline-block !important;position: relative;}#sk-container-id-2 div.sk-text-repr-fallback {display: none;}</style><div id=\"sk-container-id-2\" class=\"sk-top-container\"><div class=\"sk-text-repr-fallback\"><pre>SelectKBest(k=&#x27;all&#x27;, score_func=&lt;function chi2 at 0x17aee10d0&gt;)</pre><b>In a Jupyter environment, please rerun this cell to show the HTML representation or trust the notebook. <br />On GitHub, the HTML representation is unable to render, please try loading this page with nbviewer.org.</b></div><div class=\"sk-container\" hidden><div class=\"sk-item\"><div class=\"sk-estimator sk-toggleable\"><input class=\"sk-toggleable__control sk-hidden--visually\" id=\"sk-estimator-id-2\" type=\"checkbox\" checked><label for=\"sk-estimator-id-2\" class=\"sk-toggleable__label sk-toggleable__label-arrow\">SelectKBest</label><div class=\"sk-toggleable__content\"><pre>SelectKBest(k=&#x27;all&#x27;, score_func=&lt;function chi2 at 0x17aee10d0&gt;)</pre></div></div></div></div></div>"
      ],
      "text/plain": [
       "SelectKBest(k='all', score_func=<function chi2 at 0x17aee10d0>)"
      ]
     },
     "execution_count": 19,
     "metadata": {},
     "output_type": "execute_result"
    }
   ],
   "source": [
    "selector = SelectKBest(chi2, k='all')\n",
    "selector.fit(X,y)\n"
   ]
  },
  {
   "cell_type": "code",
   "execution_count": 20,
   "id": "e7135651-0150-41de-a5b8-147a4aca6d40",
   "metadata": {},
   "outputs": [
    {
     "name": "stdout",
     "output_type": "stream",
     "text": [
      "(1382351, 12)\n"
     ]
    }
   ],
   "source": [
    "cols = selector.get_support(indices = True)\n",
    "df_chi = df.iloc[:,cols]\n",
    "print(df_chi.shape)"
   ]
  },
  {
   "cell_type": "code",
   "execution_count": null,
   "id": "c991ec00-1400-4612-98c1-d6c72bf3ba53",
   "metadata": {},
   "outputs": [],
   "source": []
  },
  {
   "cell_type": "markdown",
   "id": "81934df5-00b7-42a5-a251-16d8174d8e4c",
   "metadata": {},
   "source": [
    "## P-value을 기준으로 유의한 변수를 확인한다.\n",
    "\n",
    "- P-value: 사기 데이터와 정상 데이터가 동일한 분포를 가지는지에 대한 척도(낮을수록 유의한 변수)"
   ]
  },
  {
   "cell_type": "code",
   "execution_count": null,
   "id": "86ff10a3-8483-4b66-bdb6-f5cee7288577",
   "metadata": {},
   "outputs": [],
   "source": []
  },
  {
   "cell_type": "code",
   "execution_count": 21,
   "id": "812fa705-5213-45f7-aca9-bee4676a8684",
   "metadata": {},
   "outputs": [],
   "source": [
    "cols = X.columns.values[selector.get_support()]\n",
    "scores = selector.pvalues_[selector.get_support()]\n",
    "cols_scores = list(zip(cols, scores))\n"
   ]
  },
  {
   "cell_type": "code",
   "execution_count": null,
   "id": "4ec3c73d-b2b8-42a7-80f5-8e541bc987cc",
   "metadata": {},
   "outputs": [],
   "source": []
  },
  {
   "cell_type": "code",
   "execution_count": 22,
   "id": "463d4828-c982-471f-b8b1-5309b697794a",
   "metadata": {},
   "outputs": [
    {
     "data": {
      "text/html": [
       "<div>\n",
       "<style scoped>\n",
       "    .dataframe tbody tr th:only-of-type {\n",
       "        vertical-align: middle;\n",
       "    }\n",
       "\n",
       "    .dataframe tbody tr th {\n",
       "        vertical-align: top;\n",
       "    }\n",
       "\n",
       "    .dataframe thead th {\n",
       "        text-align: right;\n",
       "    }\n",
       "</style>\n",
       "<table border=\"1\" class=\"dataframe\">\n",
       "  <thead>\n",
       "    <tr style=\"text-align: right;\">\n",
       "      <th></th>\n",
       "      <th>Feat_names</th>\n",
       "      <th>P_Values</th>\n",
       "    </tr>\n",
       "  </thead>\n",
       "  <tbody>\n",
       "    <tr>\n",
       "      <th>0</th>\n",
       "      <td>application_type</td>\n",
       "      <td>0.000000e+00</td>\n",
       "    </tr>\n",
       "    <tr>\n",
       "      <th>1</th>\n",
       "      <td>debt_settlement_flag</td>\n",
       "      <td>0.000000e+00</td>\n",
       "    </tr>\n",
       "    <tr>\n",
       "      <th>11</th>\n",
       "      <td>grade</td>\n",
       "      <td>0.000000e+00</td>\n",
       "    </tr>\n",
       "    <tr>\n",
       "      <th>3</th>\n",
       "      <td>hardship_flag</td>\n",
       "      <td>0.000000e+00</td>\n",
       "    </tr>\n",
       "    <tr>\n",
       "      <th>4</th>\n",
       "      <td>home_ownership</td>\n",
       "      <td>0.000000e+00</td>\n",
       "    </tr>\n",
       "    <tr>\n",
       "      <th>6</th>\n",
       "      <td>purpose</td>\n",
       "      <td>0.000000e+00</td>\n",
       "    </tr>\n",
       "    <tr>\n",
       "      <th>7</th>\n",
       "      <td>pymnt_plan</td>\n",
       "      <td>0.000000e+00</td>\n",
       "    </tr>\n",
       "    <tr>\n",
       "      <th>8</th>\n",
       "      <td>sub_grade</td>\n",
       "      <td>0.000000e+00</td>\n",
       "    </tr>\n",
       "    <tr>\n",
       "      <th>9</th>\n",
       "      <td>term</td>\n",
       "      <td>0.000000e+00</td>\n",
       "    </tr>\n",
       "    <tr>\n",
       "      <th>10</th>\n",
       "      <td>verification_status</td>\n",
       "      <td>0.000000e+00</td>\n",
       "    </tr>\n",
       "    <tr>\n",
       "      <th>5</th>\n",
       "      <td>initial_list_status</td>\n",
       "      <td>1.295990e-72</td>\n",
       "    </tr>\n",
       "    <tr>\n",
       "      <th>2</th>\n",
       "      <td>disbursement_method</td>\n",
       "      <td>4.828748e-27</td>\n",
       "    </tr>\n",
       "  </tbody>\n",
       "</table>\n",
       "</div>"
      ],
      "text/plain": [
       "              Feat_names      P_Values\n",
       "0       application_type  0.000000e+00\n",
       "1   debt_settlement_flag  0.000000e+00\n",
       "11                 grade  0.000000e+00\n",
       "3          hardship_flag  0.000000e+00\n",
       "4         home_ownership  0.000000e+00\n",
       "6                purpose  0.000000e+00\n",
       "7             pymnt_plan  0.000000e+00\n",
       "8              sub_grade  0.000000e+00\n",
       "9                   term  0.000000e+00\n",
       "10   verification_status  0.000000e+00\n",
       "5    initial_list_status  1.295990e-72\n",
       "2    disbursement_method  4.828748e-27"
      ]
     },
     "execution_count": 22,
     "metadata": {},
     "output_type": "execute_result"
    }
   ],
   "source": [
    "ns_df = pd.DataFrame(data = cols_scores, columns=['Feat_names', 'P_Values'])\n",
    "ns_df.sort_values(['P_Values', 'Feat_names'], ascending = [True, True],inplace= True)\n",
    "ns_df"
   ]
  },
  {
   "cell_type": "code",
   "execution_count": null,
   "id": "a93dcd2d-9e0b-4287-811f-0022c0040056",
   "metadata": {},
   "outputs": [],
   "source": []
  },
  {
   "cell_type": "code",
   "execution_count": null,
   "id": "0c5c5c0d-5308-44ee-8fc5-724f3974eff6",
   "metadata": {},
   "outputs": [],
   "source": []
  },
  {
   "cell_type": "markdown",
   "id": "4173d5c6-b48d-4943-a564-dda58df46622",
   "metadata": {},
   "source": [
    "# 머신러닝 모델(LightGBM)\n",
    "- 머신러닝 모델을 적용해 각 변수의 중요도를 살펴본다."
   ]
  },
  {
   "cell_type": "code",
   "execution_count": null,
   "id": "9a6dfb6c-d8db-49d6-94d3-a9bc84789161",
   "metadata": {},
   "outputs": [],
   "source": []
  },
  {
   "cell_type": "code",
   "execution_count": 23,
   "id": "6911755b-5b50-4e72-9cb5-7700ef70fad7",
   "metadata": {},
   "outputs": [],
   "source": [
    "import time\n",
    "import lightgbm as lgb\n",
    "from lightgbm import LGBMClassifier\n",
    "\n",
    "from sklearn.model_selection import train_test_split\n",
    "from sklearn.metrics import roc_auc_score \n",
    "\n",
    "import gc, warnings\n",
    "warnings.filterwarnings('ignore')"
   ]
  },
  {
   "cell_type": "code",
   "execution_count": null,
   "id": "f8fae5a1-ba41-459c-b580-441c10b61e28",
   "metadata": {},
   "outputs": [],
   "source": []
  },
  {
   "cell_type": "markdown",
   "id": "83b5cc69-a7bc-4d0e-b599-b0a4cb739d3c",
   "metadata": {},
   "source": [
    "## 모델링에 적용되지 않는 변수(ID, 타겟변수, 날짜변수 등) 제외:"
   ]
  },
  {
   "cell_type": "code",
   "execution_count": 24,
   "id": "3d07cbc8-3cf3-4221-8e9f-33d1330f6e36",
   "metadata": {},
   "outputs": [],
   "source": [
    "SEED = 2021\n",
    "TARGET = 'loan_status'\n",
    "\n",
    "remove_features = ['id', 'loan_status','earliest_cr_line', 'issue_d', 'last_credit_pull_d', 'last_pymnt_d', 'next_pymnt_d','Unnamed: 0']\n",
    "features_columns = [col for col in list(df) if col not in remove_features]"
   ]
  },
  {
   "cell_type": "code",
   "execution_count": null,
   "id": "7b2294b0-2f41-4529-b4cc-cf95037b5e40",
   "metadata": {},
   "outputs": [],
   "source": []
  },
  {
   "cell_type": "markdown",
   "id": "704c062c-33de-4aff-a2a4-b337218b29b3",
   "metadata": {},
   "source": [
    "## 데이터를 7:3 비율로 나눠 학습/평가 데이터 생성:"
   ]
  },
  {
   "cell_type": "code",
   "execution_count": 25,
   "id": "06a822fd-7cd1-43c2-a5fa-97788df3f1c1",
   "metadata": {},
   "outputs": [],
   "source": [
    "X,y = df[features_columns], df[TARGET]\n",
    "X_train, X_test, y_train, y_test = train_test_split(X, y, test_size = 0.3, random_state = 0)"
   ]
  },
  {
   "cell_type": "code",
   "execution_count": null,
   "id": "466a1a15-7c18-465c-9e3c-2de45a12d70a",
   "metadata": {},
   "outputs": [],
   "source": []
  },
  {
   "cell_type": "markdown",
   "id": "293d52e4-94be-48d0-9420-7c531590c115",
   "metadata": {},
   "source": [
    "## LightGBM 모델 학습:"
   ]
  },
  {
   "cell_type": "code",
   "execution_count": null,
   "id": "ec7964a8-f784-4b85-9092-c15cced3210a",
   "metadata": {},
   "outputs": [],
   "source": []
  },
  {
   "cell_type": "code",
   "execution_count": null,
   "id": "f2932573-f357-44b0-b6b4-b9f8adc6fb1f",
   "metadata": {},
   "outputs": [],
   "source": [
    "clf = lgb.LGBMClassifier()\n",
    "clf.fit(X_train, y_train)"
   ]
  },
  {
   "cell_type": "code",
   "execution_count": null,
   "id": "f3d2ca36-6978-49f0-a6e9-f7bd4b0f6a20",
   "metadata": {},
   "outputs": [],
   "source": []
  },
  {
   "cell_type": "markdown",
   "id": "06bcde91-d59f-4654-8c2e-d0ba449a6b26",
   "metadata": {},
   "source": [
    "## Feature Importance Value를 기준으로 유의한 변수를 확인한다."
   ]
  },
  {
   "cell_type": "code",
   "execution_count": null,
   "id": "e75206a9-d9c5-41e2-a92c-fea2b855c000",
   "metadata": {},
   "outputs": [],
   "source": [
    "feature_imp = pd.DataFrame(sorted(zip(X.columns,clf.feature_importances_)), columns=['Feature','Value'])\n",
    "feature_imp.sort_values(by=\"Value\", ascending=False).head(10)"
   ]
  },
  {
   "cell_type": "code",
   "execution_count": null,
   "id": "f099d190-cb55-4ebf-b3f7-e74b24c96ed5",
   "metadata": {},
   "outputs": [],
   "source": []
  },
  {
   "cell_type": "markdown",
   "id": "760f71ae-ae79-44ae-8305-3ee72069f2ab",
   "metadata": {},
   "source": [
    "# SHAP\n",
    "- SHAP을 적용해 각 변수의 중요도를 살펴본다.\n"
   ]
  },
  {
   "cell_type": "markdown",
   "id": "bdaf41f6-37b9-4df1-b7da-16fcb5297630",
   "metadata": {},
   "source": [
    "## 데이터 크기로 인한 RAM 이슈를 막기 위해 일정 비율 랜덤 샘플링한다."
   ]
  },
  {
   "cell_type": "code",
   "execution_count": null,
   "id": "fbe66679-9c71-420f-8e0a-089a2b5539ac",
   "metadata": {},
   "outputs": [],
   "source": [
    "df_sample = X_train.copy()\n",
    "df_sample.sample(frac=0.1, replace=True, random_state=2020)"
   ]
  },
  {
   "cell_type": "code",
   "execution_count": null,
   "id": "dc896fc9-a1c1-4c63-8112-899ef0614603",
   "metadata": {},
   "outputs": [],
   "source": []
  },
  {
   "cell_type": "markdown",
   "id": "5794e67a-8b05-4b27-b11e-448257216165",
   "metadata": {},
   "source": [
    "## SHAP value를 기준으로 유의한 변수를 확인한다."
   ]
  },
  {
   "cell_type": "code",
   "execution_count": null,
   "id": "628157c2-0237-4e5c-8b90-8838cf7a79d1",
   "metadata": {},
   "outputs": [],
   "source": [
    "import shap\n",
    "shap_values = shap.TreeExplainer(clf).shap_values(df_sample)\n",
    "shap.summary_plot(shap_values, X_train, plot_type=\"bar\")"
   ]
  },
  {
   "cell_type": "code",
   "execution_count": null,
   "id": "4753784d-a61f-4d09-b08b-a41440f81126",
   "metadata": {},
   "outputs": [],
   "source": []
  },
  {
   "cell_type": "markdown",
   "id": "e237f658-4b97-4b32-8594-b0584e069b53",
   "metadata": {},
   "source": [
    "## 추가 변수 조정\n",
    "- 4가지 변수선택법(ANOVA, Chi-Squared Test, ML Model, SHAP)에서 공통으로 유의한 변수를 추출한다.\n",
    "- 그 결과, 머신러닝 모델 기준으로 지나치게 높은 성능(AUC: 0.9914)을 보인다.\n",
    "- 과도한 성능을 낮추고 더 적은 지표에도 안정적인 성능을 가지도록 특정 변수를 직접 제거 후 최종 독립변수를 선택한다."
   ]
  },
  {
   "cell_type": "markdown",
   "id": "36cbfa4c-798b-42c5-a886-abe775815993",
   "metadata": {},
   "source": [
    "### 기존 성능 지표 확인:"
   ]
  },
  {
   "cell_type": "code",
   "execution_count": null,
   "id": "8252b572-cff8-47d3-bc17-cab635a42fcc",
   "metadata": {},
   "outputs": [],
   "source": [
    "y_pred=clf.predict(X_test)\n",
    "print('LightGBM Model AUC score: {0:0.4f}'.format(roc_auc_score(y_test, y_pred)))"
   ]
  },
  {
   "cell_type": "markdown",
   "id": "e1113a8a-a2c0-457b-a485-912b7024773d",
   "metadata": {},
   "source": [
    "### 영향력이 높은 변수 확인:"
   ]
  },
  {
   "cell_type": "code",
   "execution_count": null,
   "id": "b47f295b-cdde-4e2b-aa97-c898ea0f8951",
   "metadata": {},
   "outputs": [],
   "source": [
    "import matplotlib.pyplot as plt\n",
    "import seaborn as sns\n",
    "\n",
    "feature_imp = pd.DataFrame(sorted(zip(X.columns,clf.feature_importances_)), columns=['Feature','Value'])\n",
    "\n",
    "plt.figure(figsize=(30, 20))\n",
    "sns.barplot(x=\"Value\", y=\"Feature\", data=feature_imp.sort_values(by=\"Value\", ascending=False))\n",
    "plt.title('LightGBM Features')\n",
    "plt.tight_layout()\n",
    "plt.show()"
   ]
  },
  {
   "cell_type": "code",
   "execution_count": null,
   "id": "fbd0c4b9-8d50-4f53-86e5-35e979c5a08f",
   "metadata": {},
   "outputs": [],
   "source": []
  },
  {
   "cell_type": "markdown",
   "id": "a133a617-c7a1-4473-8da1-013816583b35",
   "metadata": {},
   "source": [
    "### 총 58개 독립변수 선택:"
   ]
  },
  {
   "cell_type": "code",
   "execution_count": null,
   "id": "d64e4065-b42a-4a0c-b0ac-0ec3c0ce2d28",
   "metadata": {},
   "outputs": [],
   "source": [
    "feat_imp = [\"int_rate\",\"dti\",\"annual_inc\",\"mo_sin_old_rev_tl_op\",\n",
    "            \"acc_open_past_24mths\",\"loan_amnt\",\"emp_length\",\n",
    "            \"revol_bal\", \"term\", \"funded_amnt_inv\", \"installment\", \"purpose\",\n",
    "            \"total_rev_hi_lim\",\"fico_range_low\",\"debt_settlement_flag\", \n",
    "            \"mort_acc\",\"total_bc_limit\",\"home_ownership\",\n",
    "            \"avg_cur_bal\",\"all_util\",\"mths_since_recent_bc\",\"total_acc\",\n",
    "            \"open_acc_6m\",\"bc_util\",\"num_actv_rev_tl\",    \n",
    "            \"funded_amnt\",\"hardship_flag\",\"num_rev_tl_bal_gt_0\",\n",
    "            \"mths_since_recent_inq\",\"inq_last_6mths\", \"num_il_tl\",\n",
    "            \"mo_sin_old_il_acct\",\"num_rev_accts\",\"num_tl_120dpd_2m\",\n",
    "            \"total_il_high_credit_limit\",\"application_type\",\n",
    "            \"revol_util\",\"tot_hi_cred_lim\",\"delinq_2yrs\",\n",
    "            \"mo_sin_rcnt_tl\",\"num_actv_bc_tl\",\"mths_since_last_record\",\n",
    "            \"percent_bc_gt_75\", \"bc_open_to_buy\",\"max_bal_bc\",\n",
    "            \"grade\",\"open_rv_24m\",\"mo_sin_rcnt_rev_tl_op\",\n",
    "            \"pct_tl_nvr_dlq\",\"verification_status\",\"tot_cur_bal\",\"total_bal_ex_mort\",\n",
    "            \"mths_since_last_major_derog\",\"inq_fi\",\"mths_since_rcnt_il\",\n",
    "            \"inq_last_12m\",\"mths_since_last_delinq\",\"num_bc_tl\"]"
   ]
  },
  {
   "cell_type": "code",
   "execution_count": null,
   "id": "a49c811c-0076-416d-b869-adb016b2832e",
   "metadata": {},
   "outputs": [],
   "source": []
  },
  {
   "cell_type": "markdown",
   "id": "18bb1190-1372-4ba2-a62a-2afb96357018",
   "metadata": {},
   "source": [
    "### LightGBM 모델 재학습:"
   ]
  },
  {
   "cell_type": "code",
   "execution_count": null,
   "id": "7aa13ec7-e274-49d1-a3b6-5f8928a4e5e6",
   "metadata": {},
   "outputs": [],
   "source": [
    "X,y = df[feat_imp], df[TARGET]\n",
    "X_train, X_test, y_train, y_test = train_test_split(X, y, test_size = 0.3, random_state = 0)\n",
    "\n",
    "clf = lgb.LGBMClassifier()\n",
    "clf.fit(X_train, y_train)"
   ]
  },
  {
   "cell_type": "code",
   "execution_count": null,
   "id": "6bc88aa8-9ef3-4af2-92b4-87632e90dd24",
   "metadata": {},
   "outputs": [],
   "source": []
  },
  {
   "cell_type": "markdown",
   "id": "03203373-eb1f-48ca-8d00-1dc3f0818e7d",
   "metadata": {},
   "source": [
    "### 낮춘 모델 성능 지표 확인:"
   ]
  },
  {
   "cell_type": "code",
   "execution_count": null,
   "id": "0a623a3d-8753-447c-baf1-45af694d25cf",
   "metadata": {},
   "outputs": [],
   "source": [
    "y_pred=clf.predict(X_test)\n",
    "print('LightGBM Model AUC score: {0:0.4f}'.format(roc_auc_score(y_test, y_pred)))"
   ]
  },
  {
   "cell_type": "code",
   "execution_count": null,
   "id": "a2701e7f-9835-4a15-9f48-c78781539d3d",
   "metadata": {},
   "outputs": [],
   "source": []
  },
  {
   "cell_type": "markdown",
   "id": "8e864a0c-5755-4527-a495-0a6c8608f16b",
   "metadata": {},
   "source": [
    "### 최종 데이터셋(ID, 58개 독립변수, 종속변수, 날짜변수) 저장:"
   ]
  },
  {
   "cell_type": "code",
   "execution_count": null,
   "id": "8cc77861-7cb9-4db4-9ba6-070c2fef22b2",
   "metadata": {},
   "outputs": [],
   "source": [
    "feat_imp += ['loan_status','issue_d','id']"
   ]
  },
  {
   "cell_type": "code",
   "execution_count": null,
   "id": "408d39c4-b9a2-4a2c-afdc-3126ab2cf76b",
   "metadata": {},
   "outputs": [],
   "source": [
    "path_write =\"/Users/a06411/Documents/data_hub/lending_club/feature_selected_ld_1.pkl\""
   ]
  },
  {
   "cell_type": "code",
   "execution_count": null,
   "id": "79647ce8-bf56-41ed-9532-fa121dec684b",
   "metadata": {},
   "outputs": [],
   "source": []
  },
  {
   "cell_type": "code",
   "execution_count": null,
   "id": "e94f88fa-6999-424c-bfbb-0b05099364a0",
   "metadata": {},
   "outputs": [],
   "source": [
    "df[feat_imp].to_pickle(path_write)"
   ]
  },
  {
   "cell_type": "code",
   "execution_count": null,
   "id": "cba17495-f329-46e2-8528-f27b4ebebe72",
   "metadata": {},
   "outputs": [],
   "source": []
  }
 ],
 "metadata": {
  "kernelspec": {
   "display_name": "Python 3 (ipykernel)",
   "language": "python",
   "name": "python3"
  },
  "language_info": {
   "codemirror_mode": {
    "name": "ipython",
    "version": 3
   },
   "file_extension": ".py",
   "mimetype": "text/x-python",
   "name": "python",
   "nbconvert_exporter": "python",
   "pygments_lexer": "ipython3",
   "version": "3.9.16"
  }
 },
 "nbformat": 4,
 "nbformat_minor": 5
}
