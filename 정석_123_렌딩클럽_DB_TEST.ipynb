{
 "cells": [
  {
   "cell_type": "markdown",
   "metadata": {
    "id": "xwsHI177kKfy"
   },
   "source": [
    "## 0. READ DATA"
   ]
  },
  {
   "cell_type": "code",
   "execution_count": 2,
   "metadata": {
    "executionInfo": {
     "elapsed": 592,
     "status": "ok",
     "timestamp": 1620793835549,
     "user": {
      "displayName": "김유민",
      "photoUrl": "",
      "userId": "07984756873607088886"
     },
     "user_tz": -540
    },
    "id": "S6ucF4Y_eIAu"
   },
   "outputs": [],
   "source": [
    "import pandas as pd\n",
    "import numpy as np\n",
    "import os\n"
   ]
  },
  {
   "cell_type": "code",
   "execution_count": null,
   "metadata": {},
   "outputs": [],
   "source": [
    "## 데이터 확인 "
   ]
  },
  {
   "cell_type": "code",
   "execution_count": 4,
   "metadata": {},
   "outputs": [],
   "source": [
    "path_db = \"/Users/a06411/Documents/GitHub/js_automl_pycaret/lending_club_data/sql_db/lending_club_2012.db\""
   ]
  },
  {
   "cell_type": "markdown",
   "metadata": {},
   "source": [
    "## sqlite  데이터 베이스 연결 "
   ]
  },
  {
   "cell_type": "code",
   "execution_count": 5,
   "metadata": {},
   "outputs": [],
   "source": [
    "import sqlite3"
   ]
  },
  {
   "cell_type": "code",
   "execution_count": 6,
   "metadata": {},
   "outputs": [],
   "source": [
    "con = sqlite3.connect(path_db)"
   ]
  },
  {
   "cell_type": "code",
   "execution_count": null,
   "metadata": {},
   "outputs": [],
   "source": []
  },
  {
   "cell_type": "markdown",
   "metadata": {},
   "source": [
    "## 판다스에서 쿼리로 테이블 조회하기"
   ]
  },
  {
   "cell_type": "code",
   "execution_count": 7,
   "metadata": {
    "colab": {
     "base_uri": "https://localhost:8080/",
     "height": 202
    },
    "executionInfo": {
     "elapsed": 9500,
     "status": "ok",
     "timestamp": 1620795482056,
     "user": {
      "displayName": "김유민",
      "photoUrl": "",
      "userId": "07984756873607088886"
     },
     "user_tz": -540
    },
    "id": "EHf43zhFec_7",
    "outputId": "67bfbb13-cde5-4901-d6f4-98a875653e41"
   },
   "outputs": [],
   "source": [
    "df = pd.read_sql(\"SELECT * FROM trade\", con, index_col=None)"
   ]
  },
  {
   "cell_type": "code",
   "execution_count": 8,
   "metadata": {},
   "outputs": [
    {
     "data": {
      "text/html": [
       "<div>\n",
       "<style scoped>\n",
       "    .dataframe tbody tr th:only-of-type {\n",
       "        vertical-align: middle;\n",
       "    }\n",
       "\n",
       "    .dataframe tbody tr th {\n",
       "        vertical-align: top;\n",
       "    }\n",
       "\n",
       "    .dataframe thead th {\n",
       "        text-align: right;\n",
       "    }\n",
       "</style>\n",
       "<table border=\"1\" class=\"dataframe\">\n",
       "  <thead>\n",
       "    <tr style=\"text-align: right;\">\n",
       "      <th></th>\n",
       "      <th>id</th>\n",
       "      <th>open_acc_6m</th>\n",
       "      <th>total_cu_tl</th>\n",
       "      <th>acc_open_past_24mths</th>\n",
       "      <th>pct_tl_nvr_dlq</th>\n",
       "    </tr>\n",
       "  </thead>\n",
       "  <tbody>\n",
       "    <tr>\n",
       "      <th>0</th>\n",
       "      <td>2828755</td>\n",
       "      <td>None</td>\n",
       "      <td>None</td>\n",
       "      <td>8.0</td>\n",
       "      <td>92.0</td>\n",
       "    </tr>\n",
       "    <tr>\n",
       "      <th>1</th>\n",
       "      <td>2828209</td>\n",
       "      <td>None</td>\n",
       "      <td>None</td>\n",
       "      <td>2.0</td>\n",
       "      <td>92.0</td>\n",
       "    </tr>\n",
       "    <tr>\n",
       "      <th>2</th>\n",
       "      <td>2634739</td>\n",
       "      <td>None</td>\n",
       "      <td>None</td>\n",
       "      <td>3.0</td>\n",
       "      <td>100.0</td>\n",
       "    </tr>\n",
       "    <tr>\n",
       "      <th>3</th>\n",
       "      <td>2837824</td>\n",
       "      <td>None</td>\n",
       "      <td>None</td>\n",
       "      <td>13.0</td>\n",
       "      <td>98.0</td>\n",
       "    </tr>\n",
       "    <tr>\n",
       "      <th>4</th>\n",
       "      <td>2837644</td>\n",
       "      <td>None</td>\n",
       "      <td>None</td>\n",
       "      <td>4.0</td>\n",
       "      <td>92.0</td>\n",
       "    </tr>\n",
       "  </tbody>\n",
       "</table>\n",
       "</div>"
      ],
      "text/plain": [
       "        id open_acc_6m total_cu_tl  acc_open_past_24mths  pct_tl_nvr_dlq\n",
       "0  2828755        None        None                   8.0            92.0\n",
       "1  2828209        None        None                   2.0            92.0\n",
       "2  2634739        None        None                   3.0           100.0\n",
       "3  2837824        None        None                  13.0            98.0\n",
       "4  2837644        None        None                   4.0            92.0"
      ]
     },
     "execution_count": 8,
     "metadata": {},
     "output_type": "execute_result"
    }
   ],
   "source": [
    "df.head()"
   ]
  },
  {
   "cell_type": "code",
   "execution_count": 9,
   "metadata": {
    "colab": {
     "base_uri": "https://localhost:8080/"
    },
    "executionInfo": {
     "elapsed": 611,
     "status": "ok",
     "timestamp": 1620795504704,
     "user": {
      "displayName": "김유민",
      "photoUrl": "",
      "userId": "07984756873607088886"
     },
     "user_tz": -540
    },
    "id": "EQ8eee16kJcb",
    "outputId": "b22595c4-d16b-47fc-828b-8ada4fe19921"
   },
   "outputs": [
    {
     "data": {
      "text/plain": [
       "(53367, 5)"
      ]
     },
     "execution_count": 9,
     "metadata": {},
     "output_type": "execute_result"
    }
   ],
   "source": [
    "df.shape"
   ]
  },
  {
   "cell_type": "markdown",
   "metadata": {
    "id": "JhJCSZ4dfTm6"
   },
   "source": [
    "### 1. TABLE 수정"
   ]
  },
  {
   "cell_type": "code",
   "execution_count": null,
   "metadata": {
    "id": "n_DmStiSfV15"
   },
   "outputs": [],
   "source": [
    "# cur = conn.cursor()\n",
    "# conn.execute('CREATE TABLE employee_data(id INTEGER, name TEXT, nickname TEXT, department TEXT, employment_date TEXT)')\n",
    "# cur.executemany( 'INSERT INTO employee_data VALUES (?, ?, ?, ?, ?)', \n",
    "#                 [(1001, 'Donghyun', 'SOMJANG', 'Development', '2020-04-01 00:00:00.000'), \n",
    "#                  (2001, 'Sol', 'Fairy', 'Marketing', '2020-04-01 00:00:00.000'), \n",
    "#                  (2002, 'Jiyoung', 'Magician', 'Marketing', '2020-04-01 00:00:00.000'), \n",
    "#                  (1002, 'Hyeona', 'Theif', 'Development', '2020-04-01 00:00:00.000'),\n",
    "#                  (1003, 'Soyoung', 'Chief', 'Development', '2020-04-01 00:00:00.000') ] )\n",
    "# conn.commit()\n",
    "# conn.close()"
   ]
  },
  {
   "cell_type": "code",
   "execution_count": null,
   "metadata": {
    "id": "dw0fovBie0kQ"
   },
   "outputs": [],
   "source": [
    "con.close()"
   ]
  }
 ],
 "metadata": {
  "colab": {
   "authorship_tag": "ABX9TyMGwVEud5hSd06pct8jujbQ",
   "collapsed_sections": [],
   "mount_file_id": "1rm9elo64kIVLZQbB_rYL-vGlNiLcw65H",
   "name": "DB_TEST.ipynb",
   "provenance": [],
   "toc_visible": true
  },
  "kernelspec": {
   "display_name": "Python 3 (ipykernel)",
   "language": "python",
   "name": "python3"
  },
  "language_info": {
   "codemirror_mode": {
    "name": "ipython",
    "version": 3
   },
   "file_extension": ".py",
   "mimetype": "text/x-python",
   "name": "python",
   "nbconvert_exporter": "python",
   "pygments_lexer": "ipython3",
   "version": "3.9.16"
  }
 },
 "nbformat": 4,
 "nbformat_minor": 4
}
