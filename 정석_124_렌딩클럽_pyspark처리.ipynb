{
 "cells": [
  {
   "cell_type": "code",
   "execution_count": null,
   "id": "18e3373b-2f81-427d-8a1f-c5ed4f63fc45",
   "metadata": {},
   "outputs": [],
   "source": []
  },
  {
   "cell_type": "code",
   "execution_count": null,
   "id": "c8a9acc7-5836-4498-a87f-9aa5d9a43f30",
   "metadata": {},
   "outputs": [],
   "source": []
  },
  {
   "cell_type": "code",
   "execution_count": 1,
   "id": "83e1114a-5411-4625-ad3b-075e688fec24",
   "metadata": {},
   "outputs": [
    {
     "name": "stdout",
     "output_type": "stream",
     "text": [
      ":: loading settings :: url = jar:file:/Users/a06411/opt/anaconda3/envs/pycaret/lib/python3.9/site-packages/pyspark/jars/ivy-2.5.1.jar!/org/apache/ivy/core/settings/ivysettings.xml\n"
     ]
    },
    {
     "name": "stderr",
     "output_type": "stream",
     "text": [
      "Ivy Default Cache set to: /Users/a06411/.ivy2/cache\n",
      "The jars for the packages stored in: /Users/a06411/.ivy2/jars\n",
      "org.xerial#sqlite-jdbc added as a dependency\n",
      ":: resolving dependencies :: org.apache.spark#spark-submit-parent-605fb76d-726b-4e09-8cfd-f30889bce227;1.0\n",
      "\tconfs: [default]\n",
      "\tfound org.xerial#sqlite-jdbc;3.34.0 in central\n",
      "downloading https://repo1.maven.org/maven2/org/xerial/sqlite-jdbc/3.34.0/sqlite-jdbc-3.34.0.jar ...\n",
      "\t[SUCCESSFUL ] org.xerial#sqlite-jdbc;3.34.0!sqlite-jdbc.jar (1448ms)\n",
      ":: resolution report :: resolve 1782ms :: artifacts dl 1452ms\n",
      "\t:: modules in use:\n",
      "\torg.xerial#sqlite-jdbc;3.34.0 from central in [default]\n",
      "\t---------------------------------------------------------------------\n",
      "\t|                  |            modules            ||   artifacts   |\n",
      "\t|       conf       | number| search|dwnlded|evicted|| number|dwnlded|\n",
      "\t---------------------------------------------------------------------\n",
      "\t|      default     |   1   |   1   |   1   |   0   ||   1   |   1   |\n",
      "\t---------------------------------------------------------------------\n",
      "\n",
      ":: problems summary ::\n",
      ":::: ERRORS\n",
      "\tServer access error at url https://repos.spark-packages.org/org/sonatype/oss/oss-parent/9/oss-parent-9.jar (javax.net.ssl.SSLHandshakeException: PKIX path building failed: sun.security.provider.certpath.SunCertPathBuilderException: unable to find valid certification path to requested target)\n",
      "\n",
      "\n",
      ":: USE VERBOSE OR DEBUG MESSAGE LEVEL FOR MORE DETAILS\n",
      ":: retrieving :: org.apache.spark#spark-submit-parent-605fb76d-726b-4e09-8cfd-f30889bce227\n",
      "\tconfs: [default]\n",
      "\t1 artifacts copied, 0 already retrieved (7125kB/9ms)\n",
      "23/09/12 09:24:35 WARN NativeCodeLoader: Unable to load native-hadoop library for your platform... using builtin-java classes where applicable\n",
      "Setting default log level to \"WARN\".\n",
      "To adjust logging level use sc.setLogLevel(newLevel). For SparkR, use setLogLevel(newLevel).\n",
      "23/09/12 09:24:36 WARN Utils: Service 'SparkUI' could not bind on port 4040. Attempting port 4041.\n"
     ]
    }
   ],
   "source": [
    "from pyspark.sql import SparkSession\n",
    "\n",
    "spark = (SparkSession.builder\\\n",
    "           .config('spark.jars.packages', 'org.xerial:sqlite-jdbc:3.34.0')\n",
    "           .config(\"spark.driver.host\",\"127.0.0.1\") \n",
    "           .config(\"spark.driver.bindAddress\",\"127.0.0.1\")\n",
    "           .getOrCreate())\n"
   ]
  },
  {
   "cell_type": "code",
   "execution_count": 4,
   "id": "b9bcf110-02e5-415d-9f34-fda5ca41d2b9",
   "metadata": {},
   "outputs": [],
   "source": [
    "path_db1 = \"/Users/a06411/Documents/GitHub/js_automl_pycaret/lending_club_data/sql_db/lending_club_2012.db\""
   ]
  },
  {
   "cell_type": "code",
   "execution_count": 6,
   "id": "ed8b3060-b337-4d72-bfea-0f164d120910",
   "metadata": {},
   "outputs": [],
   "source": [
    "df = (spark.read.format('jdbc') \n",
    "        .options(driver='org.sqlite.JDBC', dbtable='borrower',\n",
    "                 url='jdbc:sqlite:'+path_db1)\n",
    "        .load())"
   ]
  },
  {
   "cell_type": "code",
   "execution_count": 9,
   "id": "30f765ff-d295-41ef-96e1-f52184dd5092",
   "metadata": {},
   "outputs": [
    {
     "data": {
      "text/plain": [
       "53367"
      ]
     },
     "execution_count": 9,
     "metadata": {},
     "output_type": "execute_result"
    }
   ],
   "source": [
    "df.count()"
   ]
  },
  {
   "cell_type": "code",
   "execution_count": 10,
   "id": "c0e00832-db30-4803-b541-5ed5bc1ca0f7",
   "metadata": {},
   "outputs": [
    {
     "data": {
      "text/plain": [
       "['id',\n",
       " 'emp_title',\n",
       " 'emp_length',\n",
       " 'home_ownership',\n",
       " 'zip_code',\n",
       " 'addr_state',\n",
       " 'member_id']"
      ]
     },
     "execution_count": 10,
     "metadata": {},
     "output_type": "execute_result"
    }
   ],
   "source": [
    "df.columns"
   ]
  },
  {
   "cell_type": "code",
   "execution_count": null,
   "id": "ea78c342-257e-4148-aa9a-1a90018689e4",
   "metadata": {},
   "outputs": [],
   "source": []
  },
  {
   "cell_type": "code",
   "execution_count": null,
   "id": "4edae93f-e54a-4335-913a-b02754122945",
   "metadata": {},
   "outputs": [],
   "source": []
  },
  {
   "cell_type": "code",
   "execution_count": 11,
   "id": "3dc82897-7bc5-4d0e-94b6-336eb4fc5029",
   "metadata": {},
   "outputs": [
    {
     "name": "stderr",
     "output_type": "stream",
     "text": [
      "23/09/12 09:35:49 WARN SparkSession: Using an existing Spark session; only runtime SQL configurations will take effect.\n"
     ]
    }
   ],
   "source": [
    "import os\n",
    "\n",
    "from pyspark.sql import SparkSession\n",
    "\n",
    "spark1 = (SparkSession.builder\n",
    "    .master(\"local\")\n",
    "    .appName(\"SQLite JDBC\")\n",
    "    .config(\n",
    "        \"spark.jars\",\n",
    "        \"{}/sqlite-jdbc-3.34.0.jar\".format(os.getcwd()))\n",
    "    .config(\n",
    "        \"spark.driver.extraClassPath\",\n",
    "        \"{}/sqlite-jdbc-3.34.0.jar\".format(os.getcwd()))\n",
    "    .getOrCreate())"
   ]
  },
  {
   "cell_type": "code",
   "execution_count": null,
   "id": "3cb6711c-2234-4cf5-b255-844a254cee26",
   "metadata": {},
   "outputs": [],
   "source": []
  },
  {
   "cell_type": "markdown",
   "id": "999c19f2-f8e3-49b9-87f5-42472d55d45d",
   "metadata": {},
   "source": [
    "## 쿼리로 읽어오기 "
   ]
  },
  {
   "cell_type": "code",
   "execution_count": 16,
   "id": "3859d248-bca5-48d3-bd9d-bc9492036002",
   "metadata": {},
   "outputs": [],
   "source": [
    "driver='org.sqlite.JDBC'\n",
    "url='jdbc:sqlite:'+path_db1"
   ]
  },
  {
   "cell_type": "code",
   "execution_count": 20,
   "id": "eca54b26-2a7a-4bb4-9d1e-b9b8e23695d4",
   "metadata": {},
   "outputs": [],
   "source": [
    "query = \"select * from borrower limit 100\""
   ]
  },
  {
   "cell_type": "code",
   "execution_count": 22,
   "id": "a0f4da6b-41a9-4d20-8446-d5f3de2a8d5f",
   "metadata": {},
   "outputs": [],
   "source": [
    "df = spark1 \\\n",
    "    .read \\\n",
    "    .format(\"jdbc\") \\\n",
    "    .option(\"driver\", driver) \\\n",
    "    .option(\"url\", url) \\\n",
    "    .option(\"query\", query) \\\n",
    "    .load()"
   ]
  },
  {
   "cell_type": "code",
   "execution_count": 23,
   "id": "8abfdcfa-a19a-4818-8b9c-2bf1be26f1e3",
   "metadata": {},
   "outputs": [
    {
     "name": "stdout",
     "output_type": "stream",
     "text": [
      "root\n",
      " |-- id: integer (nullable = true)\n",
      " |-- emp_title: string (nullable = true)\n",
      " |-- emp_length: string (nullable = true)\n",
      " |-- home_ownership: string (nullable = true)\n",
      " |-- zip_code: string (nullable = true)\n",
      " |-- addr_state: string (nullable = true)\n",
      " |-- member_id: double (nullable = true)\n",
      "\n"
     ]
    }
   ],
   "source": [
    "df.printSchema()"
   ]
  },
  {
   "cell_type": "code",
   "execution_count": 25,
   "id": "72b44af1-d21f-493b-bcd1-2c5828741c58",
   "metadata": {},
   "outputs": [
    {
     "data": {
      "text/plain": [
       "100"
      ]
     },
     "execution_count": 25,
     "metadata": {},
     "output_type": "execute_result"
    }
   ],
   "source": [
    "df.count()"
   ]
  },
  {
   "cell_type": "code",
   "execution_count": 28,
   "id": "10b65c26-ce4b-45a2-aa5d-f28f707aab1e",
   "metadata": {},
   "outputs": [
    {
     "name": "stdout",
     "output_type": "stream",
     "text": [
      "+-------+--------------------+----------+--------------+--------+----------+---------+\n",
      "|     id|           emp_title|emp_length|home_ownership|zip_code|addr_state|member_id|\n",
      "+-------+--------------------+----------+--------------+--------+----------+---------+\n",
      "|2828755|University of Pho...|   2 years|          RENT|   970xx|        OR|     null|\n",
      "|2828209|     city of branson| 10+ years|      MORTGAGE|   656xx|        MO|     null|\n",
      "|2634739|    henry Schein Inc|   8 years|          RENT|   115xx|        NY|     null|\n",
      "|2837824|  Sentara Healthcare|   6 years|      MORTGAGE|   234xx|        VA|     null|\n",
      "|2837644|                MCSD|   6 years|           OWN|   330xx|        FL|     null|\n",
      "|2836798|     Dept.of Defense| 10+ years|          RENT|   928xx|        CA|     null|\n",
      "|2826877|United States Pos...| 10+ years|          RENT|   274xx|        NC|     null|\n",
      "|2824664|            ref-chem| 10+ years|      MORTGAGE|   776xx|        TX|     null|\n",
      "|2837301|      Placid Express| 10+ years|          RENT|   113xx|        NY|     null|\n",
      "|2694737|Integrated Wind E...|   2 years|      MORTGAGE|   754xx|        TX|     null|\n",
      "|2825326|Tarrant County Sh...| 10+ years|           OWN|   761xx|        TX|     null|\n",
      "|2837228|the midnight mission|   6 years|      MORTGAGE|   906xx|        CA|     null|\n",
      "|2827256|State Compensatio...|   7 years|          RENT|   945xx|        CA|     null|\n",
      "|2827250|     Seal Source Inc|   7 years|      MORTGAGE|   972xx|        OR|     null|\n",
      "|2827189|Orange County Gov...|   6 years|      MORTGAGE|   272xx|        NC|     null|\n",
      "|2487374|Norfolk naval shi...|   5 years|      MORTGAGE|   237xx|        VA|     null|\n",
      "|2827120|Fantasy Springs R...|   8 years|          RENT|   922xx|        CA|     null|\n",
      "|2827122|State of Maryland...| 10+ years|          RENT|   212xx|        MD|     null|\n",
      "|2835292|           Citigroup|   3 years|      MORTGAGE|   331xx|        FL|     null|\n",
      "|2827092|National Oilwell ...|   3 years|          RENT|   917xx|        CA|     null|\n",
      "+-------+--------------------+----------+--------------+--------+----------+---------+\n",
      "only showing top 20 rows\n",
      "\n"
     ]
    }
   ],
   "source": [
    "df.show()"
   ]
  },
  {
   "cell_type": "code",
   "execution_count": null,
   "id": "948061e8-5b2e-438c-b59d-4a4527f4613b",
   "metadata": {},
   "outputs": [],
   "source": []
  }
 ],
 "metadata": {
  "kernelspec": {
   "display_name": "Python 3 (ipykernel)",
   "language": "python",
   "name": "python3"
  },
  "language_info": {
   "codemirror_mode": {
    "name": "ipython",
    "version": 3
   },
   "file_extension": ".py",
   "mimetype": "text/x-python",
   "name": "python",
   "nbconvert_exporter": "python",
   "pygments_lexer": "ipython3",
   "version": "3.9.16"
  }
 },
 "nbformat": 4,
 "nbformat_minor": 5
}
