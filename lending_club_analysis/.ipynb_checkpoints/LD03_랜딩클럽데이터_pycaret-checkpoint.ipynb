{
 "cells": [
  {
   "cell_type": "markdown",
   "id": "925e3254-606b-4cee-9b1e-adffce712956",
   "metadata": {},
   "source": [
    "# 1. 파이케롯 버전확인하기 "
   ]
  },
  {
   "cell_type": "code",
   "execution_count": 1,
   "id": "4fd8871c-0dba-4200-a148-619559a7765b",
   "metadata": {},
   "outputs": [],
   "source": [
    "import pycaret"
   ]
  },
  {
   "cell_type": "code",
   "execution_count": 2,
   "id": "b5bc21fa-b7a7-41cf-a2d3-90438803f7ba",
   "metadata": {},
   "outputs": [
    {
     "data": {
      "text/plain": [
       "'3.0.0'"
      ]
     },
     "execution_count": 2,
     "metadata": {},
     "output_type": "execute_result"
    }
   ],
   "source": [
    "pycaret.__version__"
   ]
  },
  {
   "cell_type": "markdown",
   "id": "149b51b1-c0d5-4473-9cca-4d837e8405e0",
   "metadata": {},
   "source": [
    "## 2. 데이터 읽어오기 "
   ]
  },
  {
   "cell_type": "markdown",
   "id": "9026c229-bb2c-4be5-8232-b3dd48be1db5",
   "metadata": {},
   "source": [
    "## 2-1 판단스 모듈로 데이터 읽어오기"
   ]
  },
  {
   "cell_type": "code",
   "execution_count": 3,
   "id": "7d897797-fef8-4ec9-b165-5f0c1f72155f",
   "metadata": {},
   "outputs": [],
   "source": [
    "import pandas as pd"
   ]
  },
  {
   "cell_type": "code",
   "execution_count": null,
   "id": "a38b6fd3-3293-42b1-9ea7-910a6dedbfd2",
   "metadata": {},
   "outputs": [],
   "source": []
  },
  {
   "cell_type": "code",
   "execution_count": 4,
   "id": "a0d0a5cd-6bea-4811-b014-a93f7b892412",
   "metadata": {},
   "outputs": [],
   "source": [
    "path_read =\"/Users/a06411/Documents/data_hub/lending_club/lending_club.csv\""
   ]
  },
  {
   "cell_type": "code",
   "execution_count": 5,
   "id": "47abb159-66fe-4160-93ff-b4c06b0ba995",
   "metadata": {},
   "outputs": [],
   "source": [
    "df = pd.read_csv(path_read)"
   ]
  },
  {
   "cell_type": "code",
   "execution_count": 6,
   "id": "6cca362d-7c69-4a98-9893-44f373e08c11",
   "metadata": {},
   "outputs": [
    {
     "data": {
      "text/plain": [
       "(2260701, 151)"
      ]
     },
     "execution_count": 6,
     "metadata": {},
     "output_type": "execute_result"
    }
   ],
   "source": [
    "df.shape"
   ]
  },
  {
   "cell_type": "markdown",
   "id": "3dc1ae95-5013-4817-bceb-3ca85e9f5409",
   "metadata": {},
   "source": [
    "## 2-2  데이터 정비하기  "
   ]
  },
  {
   "cell_type": "markdown",
   "id": "26ed6a92-9b1a-403b-835f-42b9d60f3317",
   "metadata": {},
   "source": [
    "### 진행중인 계좌는 일단 제거"
   ]
  },
  {
   "cell_type": "code",
   "execution_count": 7,
   "id": "bf500fd4-1c27-414a-a875-b6e1f6d09e14",
   "metadata": {},
   "outputs": [],
   "source": [
    "###Drop Current\n",
    "df = df[df['loan_status'] != 'Current']"
   ]
  },
  {
   "cell_type": "markdown",
   "id": "7aa5bc47-3f46-4ea6-ba60-8fac424c58f5",
   "metadata": {},
   "source": [
    "## 2-3 이진 분류를 위한 인코딩 처리 "
   ]
  },
  {
   "cell_type": "markdown",
   "id": "382b3aaa-7f8e-49b9-9834-a4dcddf2ab09",
   "metadata": {},
   "source": [
    "### 상태 확인 "
   ]
  },
  {
   "cell_type": "code",
   "execution_count": 8,
   "id": "911ac582-e2ab-4a21-9bf7-d92519e8bf0b",
   "metadata": {},
   "outputs": [
    {
     "data": {
      "text/plain": [
       "Fully Paid                                             1076751\n",
       "Charged Off                                             268559\n",
       "Late (31-120 days)                                       21467\n",
       "In Grace Period                                           8436\n",
       "Late (16-30 days)                                         4349\n",
       "Does not meet the credit policy. Status:Fully Paid        1988\n",
       "Does not meet the credit policy. Status:Charged Off        761\n",
       "Default                                                     40\n",
       "Name: loan_status, dtype: int64"
      ]
     },
     "execution_count": 8,
     "metadata": {},
     "output_type": "execute_result"
    }
   ],
   "source": [
    "df['loan_status'].value_counts()"
   ]
  },
  {
   "cell_type": "markdown",
   "id": "caad5346-a9cd-42d1-9006-d1946df08547",
   "metadata": {},
   "source": [
    "### map으로 상태 변경 "
   ]
  },
  {
   "cell_type": "code",
   "execution_count": 9,
   "id": "eb74a4f2-48dc-43fa-802f-83fce5e6f557",
   "metadata": {},
   "outputs": [],
   "source": [
    "df['loan_status'] = df.loan_status.map({'Fully Paid':0, \n",
    "                                            'Charged Off': 1\n",
    "                                            , 'Late (31-120 days)': 1\n",
    "                                           , 'Late (16-30 days)': 1\n",
    "                                           , 'In Grace Period': 0\n",
    "                                           , 'Does not meet the credit policy. Status:Fully Paid': 0\n",
    "                                           , 'Does not meet the credit policy. Status:Charged Off': 1\n",
    "                                           , 'Default': 1})"
   ]
  },
  {
   "cell_type": "code",
   "execution_count": 10,
   "id": "613337f1-f00b-4fa0-bdbc-bf53cdfacba9",
   "metadata": {},
   "outputs": [
    {
     "data": {
      "text/plain": [
       "0.0    1087175\n",
       "1.0     295176\n",
       "Name: loan_status, dtype: int64"
      ]
     },
     "execution_count": 10,
     "metadata": {},
     "output_type": "execute_result"
    }
   ],
   "source": [
    "df['loan_status'].value_counts()"
   ]
  },
  {
   "cell_type": "markdown",
   "id": "b9f5d305-62bd-4013-990c-e8849a43ea9e",
   "metadata": {},
   "source": [
    "## 2-4 특정 값 조정 "
   ]
  },
  {
   "cell_type": "code",
   "execution_count": 11,
   "id": "e9b4e434-ab50-4d67-a43c-7724852267d3",
   "metadata": {},
   "outputs": [],
   "source": [
    "df['emp_length'] = df.emp_length.map({'10+ years':10, \n",
    "                                     '3 years': 3, \n",
    "                                     '2 years': 2, \n",
    "                                      '< 1 year': 1,\n",
    "                                      '1 year ': 1, \n",
    "                                      '4 years': 4,\n",
    "                                      '5 years' : 5,\n",
    "                                      '8 years' : 8,\n",
    "                                      '6 years' : 6,\n",
    "                                      '7 years' : 7,\n",
    "                                      '9 years' : 9})"
   ]
  },
  {
   "cell_type": "markdown",
   "id": "c80adf31-7330-4720-81d6-5a9a8e9d583b",
   "metadata": {},
   "source": [
    "## 2-5  널값 제외 "
   ]
  },
  {
   "cell_type": "code",
   "execution_count": 12,
   "id": "4cdd1f78-6b24-43c7-b64e-602d65ea6187",
   "metadata": {},
   "outputs": [
    {
     "data": {
      "text/plain": [
       "33"
      ]
     },
     "execution_count": 12,
     "metadata": {},
     "output_type": "execute_result"
    }
   ],
   "source": [
    "df['loan_status'].isna().sum()"
   ]
  },
  {
   "cell_type": "code",
   "execution_count": 13,
   "id": "8a737937-38f7-4748-aad2-0ebec920a2ad",
   "metadata": {},
   "outputs": [],
   "source": [
    "df = df[df['loan_status'].notna()] "
   ]
  },
  {
   "cell_type": "code",
   "execution_count": 14,
   "id": "391c318b-8751-4e6b-95b8-469d18f40ed2",
   "metadata": {},
   "outputs": [
    {
     "data": {
      "text/plain": [
       "(1382351, 151)"
      ]
     },
     "execution_count": 14,
     "metadata": {},
     "output_type": "execute_result"
    }
   ],
   "source": [
    "df.shape"
   ]
  },
  {
   "cell_type": "markdown",
   "id": "64d91b10-1e34-44de-bbac-995fc43de5ff",
   "metadata": {},
   "source": [
    "## 3. 피처 선택 "
   ]
  },
  {
   "cell_type": "markdown",
   "id": "8d690227-dfbf-4656-a563-a1f87e8d2caf",
   "metadata": {},
   "source": [
    "## 3-1 피처에 해당하는 칼럼만 선택 "
   ]
  },
  {
   "cell_type": "code",
   "execution_count": 15,
   "id": "0a374379-0299-4722-806d-d9b496e1bd06",
   "metadata": {},
   "outputs": [],
   "source": [
    "feat_imp = [\"int_rate\",\"dti\",\"annual_inc\",\"mo_sin_old_rev_tl_op\",\n",
    "            \"acc_open_past_24mths\",\"loan_amnt\",\"emp_length\",\n",
    "            \"revol_bal\", \"term\", \"funded_amnt_inv\", \"installment\", \"purpose\",\n",
    "            \"total_rev_hi_lim\",\"fico_range_low\",\"debt_settlement_flag\", \n",
    "            \"mort_acc\",\"total_bc_limit\",\"home_ownership\",\n",
    "            \"avg_cur_bal\",\"all_util\",\"mths_since_recent_bc\",\"total_acc\",\n",
    "            \"open_acc_6m\",\"bc_util\",\"num_actv_rev_tl\",    \n",
    "            \"funded_amnt\",\"hardship_flag\",\"num_rev_tl_bal_gt_0\",\n",
    "            \"mths_since_recent_inq\",\"inq_last_6mths\", \"num_il_tl\",\n",
    "            \"mo_sin_old_il_acct\",\"num_rev_accts\",\"num_tl_120dpd_2m\",\n",
    "            \"total_il_high_credit_limit\",\"application_type\",\n",
    "            \"revol_util\",\"tot_hi_cred_lim\",\"delinq_2yrs\",\n",
    "            \"mo_sin_rcnt_tl\",\"num_actv_bc_tl\",\"mths_since_last_record\",\n",
    "            \"percent_bc_gt_75\", \"bc_open_to_buy\",\"max_bal_bc\",\n",
    "            \"grade\",\"open_rv_24m\",\"mo_sin_rcnt_rev_tl_op\",\n",
    "            \"pct_tl_nvr_dlq\",\"verification_status\",\"tot_cur_bal\",\"total_bal_ex_mort\",\n",
    "            \"mths_since_last_major_derog\",\"inq_fi\",\"mths_since_rcnt_il\",\n",
    "            \"inq_last_12m\",\"mths_since_last_delinq\",\"num_bc_tl\", 'loan_status']"
   ]
  },
  {
   "cell_type": "code",
   "execution_count": 16,
   "id": "8663c66b-8152-4c33-9ba3-c770d5070123",
   "metadata": {},
   "outputs": [],
   "source": [
    "df_a = df[feat_imp]"
   ]
  },
  {
   "cell_type": "code",
   "execution_count": 17,
   "id": "a2f6ea4b-f0dc-4d4e-b111-3b915bd17126",
   "metadata": {},
   "outputs": [
    {
     "data": {
      "text/plain": [
       "(1382351, 59)"
      ]
     },
     "execution_count": 17,
     "metadata": {},
     "output_type": "execute_result"
    }
   ],
   "source": [
    "df_a.shape"
   ]
  },
  {
   "cell_type": "markdown",
   "id": "9cd67fb5-4003-4f44-9950-5cea6dc5aa1e",
   "metadata": {},
   "source": [
    "## 3-2 분석가능한 데이터만 추출 "
   ]
  },
  {
   "cell_type": "code",
   "execution_count": 18,
   "id": "392c0583-3bed-4e13-92d7-4707059462a0",
   "metadata": {},
   "outputs": [],
   "source": [
    "from sklearn.model_selection import train_test_split\n",
    "from sklearn.metrics import roc_auc_score "
   ]
  },
  {
   "cell_type": "code",
   "execution_count": 19,
   "id": "2fd5c082-f6b3-41ef-9e15-2837c29a5d1e",
   "metadata": {},
   "outputs": [],
   "source": [
    "SEED = 2021\n",
    "TARGET = 'loan_status'"
   ]
  },
  {
   "cell_type": "code",
   "execution_count": 20,
   "id": "4dd8e9de-2431-4a1f-9333-1d0348db623f",
   "metadata": {},
   "outputs": [],
   "source": [
    "X = df_a\n",
    "Y = df_a['loan_status']"
   ]
  },
  {
   "cell_type": "code",
   "execution_count": 21,
   "id": "a7372888-2f94-4dbe-bf81-32d7bdd81e36",
   "metadata": {},
   "outputs": [],
   "source": [
    "X_train, X_test = train_test_split(X, test_size = 0.999, stratify=Y,random_state = SEED)"
   ]
  },
  {
   "cell_type": "code",
   "execution_count": 22,
   "id": "2e6c95a8-ad3c-49a4-8aa1-742bf3d76cdc",
   "metadata": {},
   "outputs": [
    {
     "data": {
      "text/plain": [
       "(1382, 59)"
      ]
     },
     "execution_count": 22,
     "metadata": {},
     "output_type": "execute_result"
    }
   ],
   "source": [
    "X_train.shape"
   ]
  },
  {
   "cell_type": "markdown",
   "id": "3a246228-e9fe-478c-bdcb-0a626884e73a",
   "metadata": {},
   "source": [
    "### 현재 데이터를 확인 "
   ]
  },
  {
   "cell_type": "code",
   "execution_count": 23,
   "id": "97720718-624a-4305-9464-12116cd5de15",
   "metadata": {},
   "outputs": [
    {
     "data": {
      "text/plain": [
       "0.0    1087\n",
       "1.0     295\n",
       "Name: loan_status, dtype: int64"
      ]
     },
     "execution_count": 23,
     "metadata": {},
     "output_type": "execute_result"
    }
   ],
   "source": [
    "X_train['loan_status'].value_counts()"
   ]
  },
  {
   "cell_type": "code",
   "execution_count": 24,
   "id": "53509668-9389-4d64-91c5-8e071e5bba53",
   "metadata": {},
   "outputs": [
    {
     "data": {
      "text/plain": [
       "10.0    459\n",
       "3.0     113\n",
       "2.0     112\n",
       "1.0     108\n",
       "4.0      83\n",
       "5.0      82\n",
       "8.0      74\n",
       "6.0      73\n",
       "7.0      59\n",
       "9.0      46\n",
       "Name: emp_length, dtype: int64"
      ]
     },
     "execution_count": 24,
     "metadata": {},
     "output_type": "execute_result"
    }
   ],
   "source": [
    "X_train['emp_length'].value_counts()"
   ]
  },
  {
   "cell_type": "code",
   "execution_count": null,
   "id": "1328400b-ec12-4149-bcfd-3b3082285d47",
   "metadata": {},
   "outputs": [],
   "source": []
  },
  {
   "cell_type": "code",
   "execution_count": 25,
   "id": "197303ec-87c2-40ff-aa80-fc0c5a205f2c",
   "metadata": {},
   "outputs": [
    {
     "data": {
      "text/html": [
       "<div>\n",
       "<style scoped>\n",
       "    .dataframe tbody tr th:only-of-type {\n",
       "        vertical-align: middle;\n",
       "    }\n",
       "\n",
       "    .dataframe tbody tr th {\n",
       "        vertical-align: top;\n",
       "    }\n",
       "\n",
       "    .dataframe thead th {\n",
       "        text-align: right;\n",
       "    }\n",
       "</style>\n",
       "<table border=\"1\" class=\"dataframe\">\n",
       "  <thead>\n",
       "    <tr style=\"text-align: right;\">\n",
       "      <th></th>\n",
       "      <th>int_rate</th>\n",
       "      <th>dti</th>\n",
       "      <th>annual_inc</th>\n",
       "      <th>mo_sin_old_rev_tl_op</th>\n",
       "      <th>acc_open_past_24mths</th>\n",
       "      <th>loan_amnt</th>\n",
       "      <th>emp_length</th>\n",
       "      <th>revol_bal</th>\n",
       "      <th>term</th>\n",
       "      <th>funded_amnt_inv</th>\n",
       "      <th>...</th>\n",
       "      <th>verification_status</th>\n",
       "      <th>tot_cur_bal</th>\n",
       "      <th>total_bal_ex_mort</th>\n",
       "      <th>mths_since_last_major_derog</th>\n",
       "      <th>inq_fi</th>\n",
       "      <th>mths_since_rcnt_il</th>\n",
       "      <th>inq_last_12m</th>\n",
       "      <th>mths_since_last_delinq</th>\n",
       "      <th>num_bc_tl</th>\n",
       "      <th>loan_status</th>\n",
       "    </tr>\n",
       "  </thead>\n",
       "  <tbody>\n",
       "    <tr>\n",
       "      <th>1013219</th>\n",
       "      <td>11.99</td>\n",
       "      <td>20.91</td>\n",
       "      <td>50000.0</td>\n",
       "      <td>255.0</td>\n",
       "      <td>2.0</td>\n",
       "      <td>9000.0</td>\n",
       "      <td>7.0</td>\n",
       "      <td>6411.0</td>\n",
       "      <td>36 months</td>\n",
       "      <td>9000.0</td>\n",
       "      <td>...</td>\n",
       "      <td>Not Verified</td>\n",
       "      <td>39873.0</td>\n",
       "      <td>39873.0</td>\n",
       "      <td>59.0</td>\n",
       "      <td>0.0</td>\n",
       "      <td>15.0</td>\n",
       "      <td>2.0</td>\n",
       "      <td>15.0</td>\n",
       "      <td>9.0</td>\n",
       "      <td>0.0</td>\n",
       "    </tr>\n",
       "    <tr>\n",
       "      <th>723423</th>\n",
       "      <td>19.53</td>\n",
       "      <td>5.74</td>\n",
       "      <td>61000.0</td>\n",
       "      <td>50.0</td>\n",
       "      <td>3.0</td>\n",
       "      <td>11250.0</td>\n",
       "      <td>3.0</td>\n",
       "      <td>4519.0</td>\n",
       "      <td>36 months</td>\n",
       "      <td>11250.0</td>\n",
       "      <td>...</td>\n",
       "      <td>Verified</td>\n",
       "      <td>8032.0</td>\n",
       "      <td>8032.0</td>\n",
       "      <td>NaN</td>\n",
       "      <td>2.0</td>\n",
       "      <td>11.0</td>\n",
       "      <td>3.0</td>\n",
       "      <td>NaN</td>\n",
       "      <td>3.0</td>\n",
       "      <td>0.0</td>\n",
       "    </tr>\n",
       "    <tr>\n",
       "      <th>1005841</th>\n",
       "      <td>9.75</td>\n",
       "      <td>18.44</td>\n",
       "      <td>108000.0</td>\n",
       "      <td>124.0</td>\n",
       "      <td>4.0</td>\n",
       "      <td>8000.0</td>\n",
       "      <td>10.0</td>\n",
       "      <td>11080.0</td>\n",
       "      <td>36 months</td>\n",
       "      <td>8000.0</td>\n",
       "      <td>...</td>\n",
       "      <td>Source Verified</td>\n",
       "      <td>208014.0</td>\n",
       "      <td>208014.0</td>\n",
       "      <td>26.0</td>\n",
       "      <td>2.0</td>\n",
       "      <td>7.0</td>\n",
       "      <td>6.0</td>\n",
       "      <td>6.0</td>\n",
       "      <td>14.0</td>\n",
       "      <td>0.0</td>\n",
       "    </tr>\n",
       "    <tr>\n",
       "      <th>1719346</th>\n",
       "      <td>7.24</td>\n",
       "      <td>15.34</td>\n",
       "      <td>107000.0</td>\n",
       "      <td>162.0</td>\n",
       "      <td>5.0</td>\n",
       "      <td>9200.0</td>\n",
       "      <td>5.0</td>\n",
       "      <td>4669.0</td>\n",
       "      <td>36 months</td>\n",
       "      <td>9200.0</td>\n",
       "      <td>...</td>\n",
       "      <td>Source Verified</td>\n",
       "      <td>257164.0</td>\n",
       "      <td>69027.0</td>\n",
       "      <td>NaN</td>\n",
       "      <td>0.0</td>\n",
       "      <td>4.0</td>\n",
       "      <td>0.0</td>\n",
       "      <td>NaN</td>\n",
       "      <td>3.0</td>\n",
       "      <td>0.0</td>\n",
       "    </tr>\n",
       "    <tr>\n",
       "      <th>982181</th>\n",
       "      <td>11.44</td>\n",
       "      <td>11.00</td>\n",
       "      <td>55000.0</td>\n",
       "      <td>154.0</td>\n",
       "      <td>2.0</td>\n",
       "      <td>15000.0</td>\n",
       "      <td>10.0</td>\n",
       "      <td>17657.0</td>\n",
       "      <td>36 months</td>\n",
       "      <td>15000.0</td>\n",
       "      <td>...</td>\n",
       "      <td>Not Verified</td>\n",
       "      <td>17657.0</td>\n",
       "      <td>17657.0</td>\n",
       "      <td>NaN</td>\n",
       "      <td>1.0</td>\n",
       "      <td>NaN</td>\n",
       "      <td>2.0</td>\n",
       "      <td>NaN</td>\n",
       "      <td>13.0</td>\n",
       "      <td>0.0</td>\n",
       "    </tr>\n",
       "  </tbody>\n",
       "</table>\n",
       "<p>5 rows × 59 columns</p>\n",
       "</div>"
      ],
      "text/plain": [
       "         int_rate    dti  annual_inc  mo_sin_old_rev_tl_op  \\\n",
       "1013219     11.99  20.91     50000.0                 255.0   \n",
       "723423      19.53   5.74     61000.0                  50.0   \n",
       "1005841      9.75  18.44    108000.0                 124.0   \n",
       "1719346      7.24  15.34    107000.0                 162.0   \n",
       "982181      11.44  11.00     55000.0                 154.0   \n",
       "\n",
       "         acc_open_past_24mths  loan_amnt  emp_length  revol_bal        term  \\\n",
       "1013219                   2.0     9000.0         7.0     6411.0   36 months   \n",
       "723423                    3.0    11250.0         3.0     4519.0   36 months   \n",
       "1005841                   4.0     8000.0        10.0    11080.0   36 months   \n",
       "1719346                   5.0     9200.0         5.0     4669.0   36 months   \n",
       "982181                    2.0    15000.0        10.0    17657.0   36 months   \n",
       "\n",
       "         funded_amnt_inv  ...  verification_status tot_cur_bal  \\\n",
       "1013219           9000.0  ...         Not Verified     39873.0   \n",
       "723423           11250.0  ...             Verified      8032.0   \n",
       "1005841           8000.0  ...      Source Verified    208014.0   \n",
       "1719346           9200.0  ...      Source Verified    257164.0   \n",
       "982181           15000.0  ...         Not Verified     17657.0   \n",
       "\n",
       "         total_bal_ex_mort  mths_since_last_major_derog inq_fi  \\\n",
       "1013219            39873.0                         59.0    0.0   \n",
       "723423              8032.0                          NaN    2.0   \n",
       "1005841           208014.0                         26.0    2.0   \n",
       "1719346            69027.0                          NaN    0.0   \n",
       "982181             17657.0                          NaN    1.0   \n",
       "\n",
       "         mths_since_rcnt_il  inq_last_12m mths_since_last_delinq  num_bc_tl  \\\n",
       "1013219                15.0           2.0                   15.0        9.0   \n",
       "723423                 11.0           3.0                    NaN        3.0   \n",
       "1005841                 7.0           6.0                    6.0       14.0   \n",
       "1719346                 4.0           0.0                    NaN        3.0   \n",
       "982181                  NaN           2.0                    NaN       13.0   \n",
       "\n",
       "         loan_status  \n",
       "1013219          0.0  \n",
       "723423           0.0  \n",
       "1005841          0.0  \n",
       "1719346          0.0  \n",
       "982181           0.0  \n",
       "\n",
       "[5 rows x 59 columns]"
      ]
     },
     "execution_count": 25,
     "metadata": {},
     "output_type": "execute_result"
    }
   ],
   "source": [
    "X_train.head()"
   ]
  },
  {
   "cell_type": "code",
   "execution_count": null,
   "id": "56753849-d5b5-4581-abc9-9a466591bf4b",
   "metadata": {},
   "outputs": [],
   "source": []
  },
  {
   "cell_type": "markdown",
   "id": "96c1bf90-508c-416c-a2aa-a7c60a7ad397",
   "metadata": {},
   "source": [
    "## 4. 분류 모델 사용 및 데이터 준비 "
   ]
  },
  {
   "cell_type": "markdown",
   "id": "34005041-78cc-4ea4-9445-11634b00233d",
   "metadata": {},
   "source": [
    "## 4-1 분류 환경 구성 "
   ]
  },
  {
   "cell_type": "code",
   "execution_count": 26,
   "id": "44e89b43-64b0-4dda-bbb3-0710253cbc99",
   "metadata": {},
   "outputs": [],
   "source": [
    "# 분류 \n",
    "from pycaret.classification import *"
   ]
  },
  {
   "cell_type": "code",
   "execution_count": 27,
   "id": "0fcdb1ce-fc17-4552-8598-6c2b56da22ab",
   "metadata": {},
   "outputs": [
    {
     "data": {
      "text/html": [
       "<style type=\"text/css\">\n",
       "#T_c0bc3_row11_col1 {\n",
       "  background-color: lightgreen;\n",
       "}\n",
       "</style>\n",
       "<table id=\"T_c0bc3\">\n",
       "  <thead>\n",
       "    <tr>\n",
       "      <th class=\"blank level0\" >&nbsp;</th>\n",
       "      <th id=\"T_c0bc3_level0_col0\" class=\"col_heading level0 col0\" >Description</th>\n",
       "      <th id=\"T_c0bc3_level0_col1\" class=\"col_heading level0 col1\" >Value</th>\n",
       "    </tr>\n",
       "  </thead>\n",
       "  <tbody>\n",
       "    <tr>\n",
       "      <th id=\"T_c0bc3_level0_row0\" class=\"row_heading level0 row0\" >0</th>\n",
       "      <td id=\"T_c0bc3_row0_col0\" class=\"data row0 col0\" >Session id</td>\n",
       "      <td id=\"T_c0bc3_row0_col1\" class=\"data row0 col1\" >3590</td>\n",
       "    </tr>\n",
       "    <tr>\n",
       "      <th id=\"T_c0bc3_level0_row1\" class=\"row_heading level0 row1\" >1</th>\n",
       "      <td id=\"T_c0bc3_row1_col0\" class=\"data row1 col0\" >Target</td>\n",
       "      <td id=\"T_c0bc3_row1_col1\" class=\"data row1 col1\" >loan_status</td>\n",
       "    </tr>\n",
       "    <tr>\n",
       "      <th id=\"T_c0bc3_level0_row2\" class=\"row_heading level0 row2\" >2</th>\n",
       "      <td id=\"T_c0bc3_row2_col0\" class=\"data row2 col0\" >Target type</td>\n",
       "      <td id=\"T_c0bc3_row2_col1\" class=\"data row2 col1\" >Binary</td>\n",
       "    </tr>\n",
       "    <tr>\n",
       "      <th id=\"T_c0bc3_level0_row3\" class=\"row_heading level0 row3\" >3</th>\n",
       "      <td id=\"T_c0bc3_row3_col0\" class=\"data row3 col0\" >Original data shape</td>\n",
       "      <td id=\"T_c0bc3_row3_col1\" class=\"data row3 col1\" >(1382, 59)</td>\n",
       "    </tr>\n",
       "    <tr>\n",
       "      <th id=\"T_c0bc3_level0_row4\" class=\"row_heading level0 row4\" >4</th>\n",
       "      <td id=\"T_c0bc3_row4_col0\" class=\"data row4 col0\" >Transformed data shape</td>\n",
       "      <td id=\"T_c0bc3_row4_col1\" class=\"data row4 col1\" >(1382, 81)</td>\n",
       "    </tr>\n",
       "    <tr>\n",
       "      <th id=\"T_c0bc3_level0_row5\" class=\"row_heading level0 row5\" >5</th>\n",
       "      <td id=\"T_c0bc3_row5_col0\" class=\"data row5 col0\" >Transformed train set shape</td>\n",
       "      <td id=\"T_c0bc3_row5_col1\" class=\"data row5 col1\" >(967, 81)</td>\n",
       "    </tr>\n",
       "    <tr>\n",
       "      <th id=\"T_c0bc3_level0_row6\" class=\"row_heading level0 row6\" >6</th>\n",
       "      <td id=\"T_c0bc3_row6_col0\" class=\"data row6 col0\" >Transformed test set shape</td>\n",
       "      <td id=\"T_c0bc3_row6_col1\" class=\"data row6 col1\" >(415, 81)</td>\n",
       "    </tr>\n",
       "    <tr>\n",
       "      <th id=\"T_c0bc3_level0_row7\" class=\"row_heading level0 row7\" >7</th>\n",
       "      <td id=\"T_c0bc3_row7_col0\" class=\"data row7 col0\" >Ordinal features</td>\n",
       "      <td id=\"T_c0bc3_row7_col1\" class=\"data row7 col1\" >3</td>\n",
       "    </tr>\n",
       "    <tr>\n",
       "      <th id=\"T_c0bc3_level0_row8\" class=\"row_heading level0 row8\" >8</th>\n",
       "      <td id=\"T_c0bc3_row8_col0\" class=\"data row8 col0\" >Numeric features</td>\n",
       "      <td id=\"T_c0bc3_row8_col1\" class=\"data row8 col1\" >50</td>\n",
       "    </tr>\n",
       "    <tr>\n",
       "      <th id=\"T_c0bc3_level0_row9\" class=\"row_heading level0 row9\" >9</th>\n",
       "      <td id=\"T_c0bc3_row9_col0\" class=\"data row9 col0\" >Categorical features</td>\n",
       "      <td id=\"T_c0bc3_row9_col1\" class=\"data row9 col1\" >8</td>\n",
       "    </tr>\n",
       "    <tr>\n",
       "      <th id=\"T_c0bc3_level0_row10\" class=\"row_heading level0 row10\" >10</th>\n",
       "      <td id=\"T_c0bc3_row10_col0\" class=\"data row10 col0\" >Rows with missing values</td>\n",
       "      <td id=\"T_c0bc3_row10_col1\" class=\"data row10 col1\" >98.6%</td>\n",
       "    </tr>\n",
       "    <tr>\n",
       "      <th id=\"T_c0bc3_level0_row11\" class=\"row_heading level0 row11\" >11</th>\n",
       "      <td id=\"T_c0bc3_row11_col0\" class=\"data row11 col0\" >Preprocess</td>\n",
       "      <td id=\"T_c0bc3_row11_col1\" class=\"data row11 col1\" >True</td>\n",
       "    </tr>\n",
       "    <tr>\n",
       "      <th id=\"T_c0bc3_level0_row12\" class=\"row_heading level0 row12\" >12</th>\n",
       "      <td id=\"T_c0bc3_row12_col0\" class=\"data row12 col0\" >Imputation type</td>\n",
       "      <td id=\"T_c0bc3_row12_col1\" class=\"data row12 col1\" >simple</td>\n",
       "    </tr>\n",
       "    <tr>\n",
       "      <th id=\"T_c0bc3_level0_row13\" class=\"row_heading level0 row13\" >13</th>\n",
       "      <td id=\"T_c0bc3_row13_col0\" class=\"data row13 col0\" >Numeric imputation</td>\n",
       "      <td id=\"T_c0bc3_row13_col1\" class=\"data row13 col1\" >mean</td>\n",
       "    </tr>\n",
       "    <tr>\n",
       "      <th id=\"T_c0bc3_level0_row14\" class=\"row_heading level0 row14\" >14</th>\n",
       "      <td id=\"T_c0bc3_row14_col0\" class=\"data row14 col0\" >Categorical imputation</td>\n",
       "      <td id=\"T_c0bc3_row14_col1\" class=\"data row14 col1\" >mode</td>\n",
       "    </tr>\n",
       "    <tr>\n",
       "      <th id=\"T_c0bc3_level0_row15\" class=\"row_heading level0 row15\" >15</th>\n",
       "      <td id=\"T_c0bc3_row15_col0\" class=\"data row15 col0\" >Maximum one-hot encoding</td>\n",
       "      <td id=\"T_c0bc3_row15_col1\" class=\"data row15 col1\" >25</td>\n",
       "    </tr>\n",
       "    <tr>\n",
       "      <th id=\"T_c0bc3_level0_row16\" class=\"row_heading level0 row16\" >16</th>\n",
       "      <td id=\"T_c0bc3_row16_col0\" class=\"data row16 col0\" >Encoding method</td>\n",
       "      <td id=\"T_c0bc3_row16_col1\" class=\"data row16 col1\" >None</td>\n",
       "    </tr>\n",
       "    <tr>\n",
       "      <th id=\"T_c0bc3_level0_row17\" class=\"row_heading level0 row17\" >17</th>\n",
       "      <td id=\"T_c0bc3_row17_col0\" class=\"data row17 col0\" >Fold Generator</td>\n",
       "      <td id=\"T_c0bc3_row17_col1\" class=\"data row17 col1\" >StratifiedKFold</td>\n",
       "    </tr>\n",
       "    <tr>\n",
       "      <th id=\"T_c0bc3_level0_row18\" class=\"row_heading level0 row18\" >18</th>\n",
       "      <td id=\"T_c0bc3_row18_col0\" class=\"data row18 col0\" >Fold Number</td>\n",
       "      <td id=\"T_c0bc3_row18_col1\" class=\"data row18 col1\" >10</td>\n",
       "    </tr>\n",
       "    <tr>\n",
       "      <th id=\"T_c0bc3_level0_row19\" class=\"row_heading level0 row19\" >19</th>\n",
       "      <td id=\"T_c0bc3_row19_col0\" class=\"data row19 col0\" >CPU Jobs</td>\n",
       "      <td id=\"T_c0bc3_row19_col1\" class=\"data row19 col1\" >-1</td>\n",
       "    </tr>\n",
       "    <tr>\n",
       "      <th id=\"T_c0bc3_level0_row20\" class=\"row_heading level0 row20\" >20</th>\n",
       "      <td id=\"T_c0bc3_row20_col0\" class=\"data row20 col0\" >Use GPU</td>\n",
       "      <td id=\"T_c0bc3_row20_col1\" class=\"data row20 col1\" >False</td>\n",
       "    </tr>\n",
       "    <tr>\n",
       "      <th id=\"T_c0bc3_level0_row21\" class=\"row_heading level0 row21\" >21</th>\n",
       "      <td id=\"T_c0bc3_row21_col0\" class=\"data row21 col0\" >Log Experiment</td>\n",
       "      <td id=\"T_c0bc3_row21_col1\" class=\"data row21 col1\" >False</td>\n",
       "    </tr>\n",
       "    <tr>\n",
       "      <th id=\"T_c0bc3_level0_row22\" class=\"row_heading level0 row22\" >22</th>\n",
       "      <td id=\"T_c0bc3_row22_col0\" class=\"data row22 col0\" >Experiment Name</td>\n",
       "      <td id=\"T_c0bc3_row22_col1\" class=\"data row22 col1\" >clf-default-name</td>\n",
       "    </tr>\n",
       "    <tr>\n",
       "      <th id=\"T_c0bc3_level0_row23\" class=\"row_heading level0 row23\" >23</th>\n",
       "      <td id=\"T_c0bc3_row23_col0\" class=\"data row23 col0\" >USI</td>\n",
       "      <td id=\"T_c0bc3_row23_col1\" class=\"data row23 col1\" >f4cf</td>\n",
       "    </tr>\n",
       "  </tbody>\n",
       "</table>\n"
      ],
      "text/plain": [
       "<pandas.io.formats.style.Styler at 0x176b13eb0>"
      ]
     },
     "metadata": {},
     "output_type": "display_data"
    }
   ],
   "source": [
    "setup_clf = setup(data=X_train, target='loan_status')"
   ]
  },
  {
   "cell_type": "markdown",
   "id": "09efdb19-c897-49b0-81aa-7b73aeee072e",
   "metadata": {},
   "source": [
    "## 4-2 분류 모델 확인 "
   ]
  },
  {
   "cell_type": "markdown",
   "id": "a5ac595d-6a6c-410d-a29e-14a761afdfdd",
   "metadata": {},
   "source": [
    "### 모델 및 메트릭스 확인 "
   ]
  },
  {
   "cell_type": "code",
   "execution_count": 28,
   "id": "155ee1da-ff20-4de0-9f8a-ee35de8fee1d",
   "metadata": {},
   "outputs": [
    {
     "data": {
      "text/html": [
       "<div>\n",
       "<style scoped>\n",
       "    .dataframe tbody tr th:only-of-type {\n",
       "        vertical-align: middle;\n",
       "    }\n",
       "\n",
       "    .dataframe tbody tr th {\n",
       "        vertical-align: top;\n",
       "    }\n",
       "\n",
       "    .dataframe thead th {\n",
       "        text-align: right;\n",
       "    }\n",
       "</style>\n",
       "<table border=\"1\" class=\"dataframe\">\n",
       "  <thead>\n",
       "    <tr style=\"text-align: right;\">\n",
       "      <th></th>\n",
       "      <th>Name</th>\n",
       "      <th>Reference</th>\n",
       "      <th>Turbo</th>\n",
       "    </tr>\n",
       "    <tr>\n",
       "      <th>ID</th>\n",
       "      <th></th>\n",
       "      <th></th>\n",
       "      <th></th>\n",
       "    </tr>\n",
       "  </thead>\n",
       "  <tbody>\n",
       "    <tr>\n",
       "      <th>lr</th>\n",
       "      <td>Logistic Regression</td>\n",
       "      <td>sklearn.linear_model._logistic.LogisticRegression</td>\n",
       "      <td>True</td>\n",
       "    </tr>\n",
       "    <tr>\n",
       "      <th>knn</th>\n",
       "      <td>K Neighbors Classifier</td>\n",
       "      <td>sklearn.neighbors._classification.KNeighborsCl...</td>\n",
       "      <td>True</td>\n",
       "    </tr>\n",
       "    <tr>\n",
       "      <th>nb</th>\n",
       "      <td>Naive Bayes</td>\n",
       "      <td>sklearn.naive_bayes.GaussianNB</td>\n",
       "      <td>True</td>\n",
       "    </tr>\n",
       "    <tr>\n",
       "      <th>dt</th>\n",
       "      <td>Decision Tree Classifier</td>\n",
       "      <td>sklearn.tree._classes.DecisionTreeClassifier</td>\n",
       "      <td>True</td>\n",
       "    </tr>\n",
       "    <tr>\n",
       "      <th>svm</th>\n",
       "      <td>SVM - Linear Kernel</td>\n",
       "      <td>sklearn.linear_model._stochastic_gradient.SGDC...</td>\n",
       "      <td>True</td>\n",
       "    </tr>\n",
       "    <tr>\n",
       "      <th>rbfsvm</th>\n",
       "      <td>SVM - Radial Kernel</td>\n",
       "      <td>sklearn.svm._classes.SVC</td>\n",
       "      <td>False</td>\n",
       "    </tr>\n",
       "    <tr>\n",
       "      <th>gpc</th>\n",
       "      <td>Gaussian Process Classifier</td>\n",
       "      <td>sklearn.gaussian_process._gpc.GaussianProcessC...</td>\n",
       "      <td>False</td>\n",
       "    </tr>\n",
       "    <tr>\n",
       "      <th>mlp</th>\n",
       "      <td>MLP Classifier</td>\n",
       "      <td>sklearn.neural_network._multilayer_perceptron....</td>\n",
       "      <td>False</td>\n",
       "    </tr>\n",
       "    <tr>\n",
       "      <th>ridge</th>\n",
       "      <td>Ridge Classifier</td>\n",
       "      <td>sklearn.linear_model._ridge.RidgeClassifier</td>\n",
       "      <td>True</td>\n",
       "    </tr>\n",
       "    <tr>\n",
       "      <th>rf</th>\n",
       "      <td>Random Forest Classifier</td>\n",
       "      <td>sklearn.ensemble._forest.RandomForestClassifier</td>\n",
       "      <td>True</td>\n",
       "    </tr>\n",
       "    <tr>\n",
       "      <th>qda</th>\n",
       "      <td>Quadratic Discriminant Analysis</td>\n",
       "      <td>sklearn.discriminant_analysis.QuadraticDiscrim...</td>\n",
       "      <td>True</td>\n",
       "    </tr>\n",
       "    <tr>\n",
       "      <th>ada</th>\n",
       "      <td>Ada Boost Classifier</td>\n",
       "      <td>sklearn.ensemble._weight_boosting.AdaBoostClas...</td>\n",
       "      <td>True</td>\n",
       "    </tr>\n",
       "    <tr>\n",
       "      <th>gbc</th>\n",
       "      <td>Gradient Boosting Classifier</td>\n",
       "      <td>sklearn.ensemble._gb.GradientBoostingClassifier</td>\n",
       "      <td>True</td>\n",
       "    </tr>\n",
       "    <tr>\n",
       "      <th>lda</th>\n",
       "      <td>Linear Discriminant Analysis</td>\n",
       "      <td>sklearn.discriminant_analysis.LinearDiscrimina...</td>\n",
       "      <td>True</td>\n",
       "    </tr>\n",
       "    <tr>\n",
       "      <th>et</th>\n",
       "      <td>Extra Trees Classifier</td>\n",
       "      <td>sklearn.ensemble._forest.ExtraTreesClassifier</td>\n",
       "      <td>True</td>\n",
       "    </tr>\n",
       "    <tr>\n",
       "      <th>xgboost</th>\n",
       "      <td>Extreme Gradient Boosting</td>\n",
       "      <td>xgboost.sklearn.XGBClassifier</td>\n",
       "      <td>True</td>\n",
       "    </tr>\n",
       "    <tr>\n",
       "      <th>lightgbm</th>\n",
       "      <td>Light Gradient Boosting Machine</td>\n",
       "      <td>lightgbm.sklearn.LGBMClassifier</td>\n",
       "      <td>True</td>\n",
       "    </tr>\n",
       "    <tr>\n",
       "      <th>catboost</th>\n",
       "      <td>CatBoost Classifier</td>\n",
       "      <td>catboost.core.CatBoostClassifier</td>\n",
       "      <td>True</td>\n",
       "    </tr>\n",
       "    <tr>\n",
       "      <th>dummy</th>\n",
       "      <td>Dummy Classifier</td>\n",
       "      <td>sklearn.dummy.DummyClassifier</td>\n",
       "      <td>True</td>\n",
       "    </tr>\n",
       "  </tbody>\n",
       "</table>\n",
       "</div>"
      ],
      "text/plain": [
       "                                     Name  \\\n",
       "ID                                          \n",
       "lr                    Logistic Regression   \n",
       "knn                K Neighbors Classifier   \n",
       "nb                            Naive Bayes   \n",
       "dt               Decision Tree Classifier   \n",
       "svm                   SVM - Linear Kernel   \n",
       "rbfsvm                SVM - Radial Kernel   \n",
       "gpc           Gaussian Process Classifier   \n",
       "mlp                        MLP Classifier   \n",
       "ridge                    Ridge Classifier   \n",
       "rf               Random Forest Classifier   \n",
       "qda       Quadratic Discriminant Analysis   \n",
       "ada                  Ada Boost Classifier   \n",
       "gbc          Gradient Boosting Classifier   \n",
       "lda          Linear Discriminant Analysis   \n",
       "et                 Extra Trees Classifier   \n",
       "xgboost         Extreme Gradient Boosting   \n",
       "lightgbm  Light Gradient Boosting Machine   \n",
       "catboost              CatBoost Classifier   \n",
       "dummy                    Dummy Classifier   \n",
       "\n",
       "                                                  Reference  Turbo  \n",
       "ID                                                                  \n",
       "lr        sklearn.linear_model._logistic.LogisticRegression   True  \n",
       "knn       sklearn.neighbors._classification.KNeighborsCl...   True  \n",
       "nb                           sklearn.naive_bayes.GaussianNB   True  \n",
       "dt             sklearn.tree._classes.DecisionTreeClassifier   True  \n",
       "svm       sklearn.linear_model._stochastic_gradient.SGDC...   True  \n",
       "rbfsvm                             sklearn.svm._classes.SVC  False  \n",
       "gpc       sklearn.gaussian_process._gpc.GaussianProcessC...  False  \n",
       "mlp       sklearn.neural_network._multilayer_perceptron....  False  \n",
       "ridge           sklearn.linear_model._ridge.RidgeClassifier   True  \n",
       "rf          sklearn.ensemble._forest.RandomForestClassifier   True  \n",
       "qda       sklearn.discriminant_analysis.QuadraticDiscrim...   True  \n",
       "ada       sklearn.ensemble._weight_boosting.AdaBoostClas...   True  \n",
       "gbc         sklearn.ensemble._gb.GradientBoostingClassifier   True  \n",
       "lda       sklearn.discriminant_analysis.LinearDiscrimina...   True  \n",
       "et            sklearn.ensemble._forest.ExtraTreesClassifier   True  \n",
       "xgboost                       xgboost.sklearn.XGBClassifier   True  \n",
       "lightgbm                    lightgbm.sklearn.LGBMClassifier   True  \n",
       "catboost                   catboost.core.CatBoostClassifier   True  \n",
       "dummy                         sklearn.dummy.DummyClassifier   True  "
      ]
     },
     "execution_count": 28,
     "metadata": {},
     "output_type": "execute_result"
    }
   ],
   "source": [
    "models()"
   ]
  },
  {
   "cell_type": "markdown",
   "id": "f405c539-0cd3-4a76-af58-a149cd1be09e",
   "metadata": {},
   "source": [
    "###  메트릭스 확인하기 "
   ]
  },
  {
   "cell_type": "code",
   "execution_count": 29,
   "id": "670864af-39da-4271-ba0f-f2042b95efd1",
   "metadata": {},
   "outputs": [
    {
     "data": {
      "text/html": [
       "<div>\n",
       "<style scoped>\n",
       "    .dataframe tbody tr th:only-of-type {\n",
       "        vertical-align: middle;\n",
       "    }\n",
       "\n",
       "    .dataframe tbody tr th {\n",
       "        vertical-align: top;\n",
       "    }\n",
       "\n",
       "    .dataframe thead th {\n",
       "        text-align: right;\n",
       "    }\n",
       "</style>\n",
       "<table border=\"1\" class=\"dataframe\">\n",
       "  <thead>\n",
       "    <tr style=\"text-align: right;\">\n",
       "      <th></th>\n",
       "      <th>Name</th>\n",
       "      <th>Display Name</th>\n",
       "      <th>Score Function</th>\n",
       "      <th>Scorer</th>\n",
       "      <th>Target</th>\n",
       "      <th>Args</th>\n",
       "      <th>Greater is Better</th>\n",
       "      <th>Multiclass</th>\n",
       "      <th>Custom</th>\n",
       "    </tr>\n",
       "    <tr>\n",
       "      <th>ID</th>\n",
       "      <th></th>\n",
       "      <th></th>\n",
       "      <th></th>\n",
       "      <th></th>\n",
       "      <th></th>\n",
       "      <th></th>\n",
       "      <th></th>\n",
       "      <th></th>\n",
       "      <th></th>\n",
       "    </tr>\n",
       "  </thead>\n",
       "  <tbody>\n",
       "    <tr>\n",
       "      <th>acc</th>\n",
       "      <td>Accuracy</td>\n",
       "      <td>Accuracy</td>\n",
       "      <td>&lt;function accuracy_score at 0x156a489d0&gt;</td>\n",
       "      <td>accuracy</td>\n",
       "      <td>pred</td>\n",
       "      <td>{}</td>\n",
       "      <td>True</td>\n",
       "      <td>True</td>\n",
       "      <td>False</td>\n",
       "    </tr>\n",
       "    <tr>\n",
       "      <th>auc</th>\n",
       "      <td>AUC</td>\n",
       "      <td>AUC</td>\n",
       "      <td>&lt;pycaret.internal.metrics.BinaryMulticlassScor...</td>\n",
       "      <td>make_scorer(roc_auc_score, needs_proba=True, e...</td>\n",
       "      <td>pred_proba</td>\n",
       "      <td>{'average': 'weighted', 'multi_class': 'ovr'}</td>\n",
       "      <td>True</td>\n",
       "      <td>True</td>\n",
       "      <td>False</td>\n",
       "    </tr>\n",
       "    <tr>\n",
       "      <th>recall</th>\n",
       "      <td>Recall</td>\n",
       "      <td>Recall</td>\n",
       "      <td>&lt;pycaret.internal.metrics.BinaryMulticlassScor...</td>\n",
       "      <td>make_scorer(recall_score, average=weighted)</td>\n",
       "      <td>pred</td>\n",
       "      <td>{'average': 'weighted'}</td>\n",
       "      <td>True</td>\n",
       "      <td>True</td>\n",
       "      <td>False</td>\n",
       "    </tr>\n",
       "    <tr>\n",
       "      <th>precision</th>\n",
       "      <td>Precision</td>\n",
       "      <td>Prec.</td>\n",
       "      <td>&lt;pycaret.internal.metrics.BinaryMulticlassScor...</td>\n",
       "      <td>make_scorer(precision_score, average=weighted)</td>\n",
       "      <td>pred</td>\n",
       "      <td>{'average': 'weighted'}</td>\n",
       "      <td>True</td>\n",
       "      <td>True</td>\n",
       "      <td>False</td>\n",
       "    </tr>\n",
       "    <tr>\n",
       "      <th>f1</th>\n",
       "      <td>F1</td>\n",
       "      <td>F1</td>\n",
       "      <td>&lt;pycaret.internal.metrics.BinaryMulticlassScor...</td>\n",
       "      <td>make_scorer(f1_score, average=weighted)</td>\n",
       "      <td>pred</td>\n",
       "      <td>{'average': 'weighted'}</td>\n",
       "      <td>True</td>\n",
       "      <td>True</td>\n",
       "      <td>False</td>\n",
       "    </tr>\n",
       "    <tr>\n",
       "      <th>kappa</th>\n",
       "      <td>Kappa</td>\n",
       "      <td>Kappa</td>\n",
       "      <td>&lt;function cohen_kappa_score at 0x156a48af0&gt;</td>\n",
       "      <td>make_scorer(cohen_kappa_score)</td>\n",
       "      <td>pred</td>\n",
       "      <td>{}</td>\n",
       "      <td>True</td>\n",
       "      <td>True</td>\n",
       "      <td>False</td>\n",
       "    </tr>\n",
       "    <tr>\n",
       "      <th>mcc</th>\n",
       "      <td>MCC</td>\n",
       "      <td>MCC</td>\n",
       "      <td>&lt;function matthews_corrcoef at 0x156a48c10&gt;</td>\n",
       "      <td>make_scorer(matthews_corrcoef)</td>\n",
       "      <td>pred</td>\n",
       "      <td>{}</td>\n",
       "      <td>True</td>\n",
       "      <td>True</td>\n",
       "      <td>False</td>\n",
       "    </tr>\n",
       "  </tbody>\n",
       "</table>\n",
       "</div>"
      ],
      "text/plain": [
       "                Name Display Name  \\\n",
       "ID                                  \n",
       "acc         Accuracy     Accuracy   \n",
       "auc              AUC          AUC   \n",
       "recall        Recall       Recall   \n",
       "precision  Precision        Prec.   \n",
       "f1                F1           F1   \n",
       "kappa          Kappa        Kappa   \n",
       "mcc              MCC          MCC   \n",
       "\n",
       "                                              Score Function  \\\n",
       "ID                                                             \n",
       "acc                 <function accuracy_score at 0x156a489d0>   \n",
       "auc        <pycaret.internal.metrics.BinaryMulticlassScor...   \n",
       "recall     <pycaret.internal.metrics.BinaryMulticlassScor...   \n",
       "precision  <pycaret.internal.metrics.BinaryMulticlassScor...   \n",
       "f1         <pycaret.internal.metrics.BinaryMulticlassScor...   \n",
       "kappa            <function cohen_kappa_score at 0x156a48af0>   \n",
       "mcc              <function matthews_corrcoef at 0x156a48c10>   \n",
       "\n",
       "                                                      Scorer      Target  \\\n",
       "ID                                                                         \n",
       "acc                                                 accuracy        pred   \n",
       "auc        make_scorer(roc_auc_score, needs_proba=True, e...  pred_proba   \n",
       "recall           make_scorer(recall_score, average=weighted)        pred   \n",
       "precision     make_scorer(precision_score, average=weighted)        pred   \n",
       "f1                   make_scorer(f1_score, average=weighted)        pred   \n",
       "kappa                         make_scorer(cohen_kappa_score)        pred   \n",
       "mcc                           make_scorer(matthews_corrcoef)        pred   \n",
       "\n",
       "                                                    Args  Greater is Better  \\\n",
       "ID                                                                            \n",
       "acc                                                   {}               True   \n",
       "auc        {'average': 'weighted', 'multi_class': 'ovr'}               True   \n",
       "recall                           {'average': 'weighted'}               True   \n",
       "precision                        {'average': 'weighted'}               True   \n",
       "f1                               {'average': 'weighted'}               True   \n",
       "kappa                                                 {}               True   \n",
       "mcc                                                   {}               True   \n",
       "\n",
       "           Multiclass  Custom  \n",
       "ID                             \n",
       "acc              True   False  \n",
       "auc              True   False  \n",
       "recall           True   False  \n",
       "precision        True   False  \n",
       "f1               True   False  \n",
       "kappa            True   False  \n",
       "mcc              True   False  "
      ]
     },
     "execution_count": 29,
     "metadata": {},
     "output_type": "execute_result"
    }
   ],
   "source": [
    "get_metrics()"
   ]
  },
  {
   "cell_type": "markdown",
   "id": "009f4ad5-df40-4d31-a3ab-bfce6d0e1122",
   "metadata": {},
   "source": [
    "## 5.  모델 작업 "
   ]
  },
  {
   "cell_type": "markdown",
   "id": "0529ef62-9c1b-4673-9467-21511d749a12",
   "metadata": {},
   "source": [
    "## 5-1. 하나 모델 선택 "
   ]
  },
  {
   "cell_type": "code",
   "execution_count": 30,
   "id": "fa45ae4d-5aca-4db6-ab02-da5966ed84d4",
   "metadata": {},
   "outputs": [
    {
     "data": {
      "text/html": [],
      "text/plain": [
       "<IPython.core.display.HTML object>"
      ]
     },
     "metadata": {},
     "output_type": "display_data"
    },
    {
     "data": {
      "text/html": [
       "<style type=\"text/css\">\n",
       "#T_a314f_row5_col0, #T_a314f_row5_col1, #T_a314f_row5_col2, #T_a314f_row5_col3, #T_a314f_row5_col4, #T_a314f_row5_col5, #T_a314f_row5_col6 {\n",
       "  background: yellow;\n",
       "}\n",
       "</style>\n",
       "<table id=\"T_a314f\">\n",
       "  <thead>\n",
       "    <tr>\n",
       "      <th class=\"blank level0\" >&nbsp;</th>\n",
       "      <th id=\"T_a314f_level0_col0\" class=\"col_heading level0 col0\" >Accuracy</th>\n",
       "      <th id=\"T_a314f_level0_col1\" class=\"col_heading level0 col1\" >AUC</th>\n",
       "      <th id=\"T_a314f_level0_col2\" class=\"col_heading level0 col2\" >Recall</th>\n",
       "      <th id=\"T_a314f_level0_col3\" class=\"col_heading level0 col3\" >Prec.</th>\n",
       "      <th id=\"T_a314f_level0_col4\" class=\"col_heading level0 col4\" >F1</th>\n",
       "      <th id=\"T_a314f_level0_col5\" class=\"col_heading level0 col5\" >Kappa</th>\n",
       "      <th id=\"T_a314f_level0_col6\" class=\"col_heading level0 col6\" >MCC</th>\n",
       "    </tr>\n",
       "    <tr>\n",
       "      <th class=\"index_name level0\" >Fold</th>\n",
       "      <th class=\"blank col0\" >&nbsp;</th>\n",
       "      <th class=\"blank col1\" >&nbsp;</th>\n",
       "      <th class=\"blank col2\" >&nbsp;</th>\n",
       "      <th class=\"blank col3\" >&nbsp;</th>\n",
       "      <th class=\"blank col4\" >&nbsp;</th>\n",
       "      <th class=\"blank col5\" >&nbsp;</th>\n",
       "      <th class=\"blank col6\" >&nbsp;</th>\n",
       "    </tr>\n",
       "  </thead>\n",
       "  <tbody>\n",
       "    <tr>\n",
       "      <th id=\"T_a314f_level0_row0\" class=\"row_heading level0 row0\" >0</th>\n",
       "      <td id=\"T_a314f_row0_col0\" class=\"data row0 col0\" >0.7990</td>\n",
       "      <td id=\"T_a314f_row0_col1\" class=\"data row0 col1\" >0.6952</td>\n",
       "      <td id=\"T_a314f_row0_col2\" class=\"data row0 col2\" >0.1220</td>\n",
       "      <td id=\"T_a314f_row0_col3\" class=\"data row0 col3\" >0.6250</td>\n",
       "      <td id=\"T_a314f_row0_col4\" class=\"data row0 col4\" >0.2041</td>\n",
       "      <td id=\"T_a314f_row0_col5\" class=\"data row0 col5\" >0.1451</td>\n",
       "      <td id=\"T_a314f_row0_col6\" class=\"data row0 col6\" >0.2101</td>\n",
       "    </tr>\n",
       "    <tr>\n",
       "      <th id=\"T_a314f_level0_row1\" class=\"row_heading level0 row1\" >1</th>\n",
       "      <td id=\"T_a314f_row1_col0\" class=\"data row1 col0\" >0.7990</td>\n",
       "      <td id=\"T_a314f_row1_col1\" class=\"data row1 col1\" >0.7639</td>\n",
       "      <td id=\"T_a314f_row1_col2\" class=\"data row1 col2\" >0.0952</td>\n",
       "      <td id=\"T_a314f_row1_col3\" class=\"data row1 col3\" >0.8000</td>\n",
       "      <td id=\"T_a314f_row1_col4\" class=\"data row1 col4\" >0.1702</td>\n",
       "      <td id=\"T_a314f_row1_col5\" class=\"data row1 col5\" >0.1301</td>\n",
       "      <td id=\"T_a314f_row1_col6\" class=\"data row1 col6\" >0.2304</td>\n",
       "    </tr>\n",
       "    <tr>\n",
       "      <th id=\"T_a314f_level0_row2\" class=\"row_heading level0 row2\" >2</th>\n",
       "      <td id=\"T_a314f_row2_col0\" class=\"data row2 col0\" >0.8342</td>\n",
       "      <td id=\"T_a314f_row2_col1\" class=\"data row2 col1\" >0.7722</td>\n",
       "      <td id=\"T_a314f_row2_col2\" class=\"data row2 col2\" >0.2439</td>\n",
       "      <td id=\"T_a314f_row2_col3\" class=\"data row2 col3\" >0.9091</td>\n",
       "      <td id=\"T_a314f_row2_col4\" class=\"data row2 col4\" >0.3846</td>\n",
       "      <td id=\"T_a314f_row2_col5\" class=\"data row2 col5\" >0.3238</td>\n",
       "      <td id=\"T_a314f_row2_col6\" class=\"data row2 col6\" >0.4187</td>\n",
       "    </tr>\n",
       "    <tr>\n",
       "      <th id=\"T_a314f_level0_row3\" class=\"row_heading level0 row3\" >3</th>\n",
       "      <td id=\"T_a314f_row3_col0\" class=\"data row3 col0\" >0.8187</td>\n",
       "      <td id=\"T_a314f_row3_col1\" class=\"data row3 col1\" >0.7878</td>\n",
       "      <td id=\"T_a314f_row3_col2\" class=\"data row3 col2\" >0.1463</td>\n",
       "      <td id=\"T_a314f_row3_col3\" class=\"data row3 col3\" >1.0000</td>\n",
       "      <td id=\"T_a314f_row3_col4\" class=\"data row3 col4\" >0.2553</td>\n",
       "      <td id=\"T_a314f_row3_col5\" class=\"data row3 col5\" >0.2126</td>\n",
       "      <td id=\"T_a314f_row3_col6\" class=\"data row3 col6\" >0.3449</td>\n",
       "    </tr>\n",
       "    <tr>\n",
       "      <th id=\"T_a314f_level0_row4\" class=\"row_heading level0 row4\" >4</th>\n",
       "      <td id=\"T_a314f_row4_col0\" class=\"data row4 col0\" >0.8083</td>\n",
       "      <td id=\"T_a314f_row4_col1\" class=\"data row4 col1\" >0.7353</td>\n",
       "      <td id=\"T_a314f_row4_col2\" class=\"data row4 col2\" >0.1220</td>\n",
       "      <td id=\"T_a314f_row4_col3\" class=\"data row4 col3\" >0.8333</td>\n",
       "      <td id=\"T_a314f_row4_col4\" class=\"data row4 col4\" >0.2128</td>\n",
       "      <td id=\"T_a314f_row4_col5\" class=\"data row4 col5\" >0.1676</td>\n",
       "      <td id=\"T_a314f_row4_col6\" class=\"data row4 col6\" >0.2719</td>\n",
       "    </tr>\n",
       "    <tr>\n",
       "      <th id=\"T_a314f_level0_row5\" class=\"row_heading level0 row5\" >Mean</th>\n",
       "      <td id=\"T_a314f_row5_col0\" class=\"data row5 col0\" >0.8118</td>\n",
       "      <td id=\"T_a314f_row5_col1\" class=\"data row5 col1\" >0.7509</td>\n",
       "      <td id=\"T_a314f_row5_col2\" class=\"data row5 col2\" >0.1459</td>\n",
       "      <td id=\"T_a314f_row5_col3\" class=\"data row5 col3\" >0.8335</td>\n",
       "      <td id=\"T_a314f_row5_col4\" class=\"data row5 col4\" >0.2454</td>\n",
       "      <td id=\"T_a314f_row5_col5\" class=\"data row5 col5\" >0.1959</td>\n",
       "      <td id=\"T_a314f_row5_col6\" class=\"data row5 col6\" >0.2952</td>\n",
       "    </tr>\n",
       "    <tr>\n",
       "      <th id=\"T_a314f_level0_row6\" class=\"row_heading level0 row6\" >Std</th>\n",
       "      <td id=\"T_a314f_row6_col0\" class=\"data row6 col0\" >0.0133</td>\n",
       "      <td id=\"T_a314f_row6_col1\" class=\"data row6 col1\" >0.0326</td>\n",
       "      <td id=\"T_a314f_row6_col2\" class=\"data row6 col2\" >0.0516</td>\n",
       "      <td id=\"T_a314f_row6_col3\" class=\"data row6 col3\" >0.1249</td>\n",
       "      <td id=\"T_a314f_row6_col4\" class=\"data row6 col4\" >0.0747</td>\n",
       "      <td id=\"T_a314f_row6_col5\" class=\"data row6 col5\" >0.0698</td>\n",
       "      <td id=\"T_a314f_row6_col6\" class=\"data row6 col6\" >0.0771</td>\n",
       "    </tr>\n",
       "  </tbody>\n",
       "</table>\n"
      ],
      "text/plain": [
       "<pandas.io.formats.style.Styler at 0x176af24c0>"
      ]
     },
     "metadata": {},
     "output_type": "display_data"
    },
    {
     "data": {
      "text/html": [],
      "text/plain": [
       "<IPython.core.display.HTML object>"
      ]
     },
     "metadata": {},
     "output_type": "display_data"
    }
   ],
   "source": [
    "rf = create_model('rf', fold=5)"
   ]
  },
  {
   "cell_type": "code",
   "execution_count": 31,
   "id": "a1adafd9-1d0b-4641-8243-feb95f8f1177",
   "metadata": {},
   "outputs": [
    {
     "data": {
      "text/html": [],
      "text/plain": [
       "<IPython.core.display.HTML object>"
      ]
     },
     "metadata": {},
     "output_type": "display_data"
    },
    {
     "data": {
      "text/html": [
       "<style type=\"text/css\">\n",
       "#T_35167_row5_col0, #T_35167_row5_col1, #T_35167_row5_col2, #T_35167_row5_col3, #T_35167_row5_col4, #T_35167_row5_col5, #T_35167_row5_col6 {\n",
       "  background: yellow;\n",
       "}\n",
       "</style>\n",
       "<table id=\"T_35167\">\n",
       "  <thead>\n",
       "    <tr>\n",
       "      <th class=\"blank level0\" >&nbsp;</th>\n",
       "      <th id=\"T_35167_level0_col0\" class=\"col_heading level0 col0\" >Accuracy</th>\n",
       "      <th id=\"T_35167_level0_col1\" class=\"col_heading level0 col1\" >AUC</th>\n",
       "      <th id=\"T_35167_level0_col2\" class=\"col_heading level0 col2\" >Recall</th>\n",
       "      <th id=\"T_35167_level0_col3\" class=\"col_heading level0 col3\" >Prec.</th>\n",
       "      <th id=\"T_35167_level0_col4\" class=\"col_heading level0 col4\" >F1</th>\n",
       "      <th id=\"T_35167_level0_col5\" class=\"col_heading level0 col5\" >Kappa</th>\n",
       "      <th id=\"T_35167_level0_col6\" class=\"col_heading level0 col6\" >MCC</th>\n",
       "    </tr>\n",
       "    <tr>\n",
       "      <th class=\"index_name level0\" >Fold</th>\n",
       "      <th class=\"blank col0\" >&nbsp;</th>\n",
       "      <th class=\"blank col1\" >&nbsp;</th>\n",
       "      <th class=\"blank col2\" >&nbsp;</th>\n",
       "      <th class=\"blank col3\" >&nbsp;</th>\n",
       "      <th class=\"blank col4\" >&nbsp;</th>\n",
       "      <th class=\"blank col5\" >&nbsp;</th>\n",
       "      <th class=\"blank col6\" >&nbsp;</th>\n",
       "    </tr>\n",
       "  </thead>\n",
       "  <tbody>\n",
       "    <tr>\n",
       "      <th id=\"T_35167_level0_row0\" class=\"row_heading level0 row0\" >0</th>\n",
       "      <td id=\"T_35167_row0_col0\" class=\"data row0 col0\" >0.7629</td>\n",
       "      <td id=\"T_35167_row0_col1\" class=\"data row0 col1\" >0.7081</td>\n",
       "      <td id=\"T_35167_row0_col2\" class=\"data row0 col2\" >0.2195</td>\n",
       "      <td id=\"T_35167_row0_col3\" class=\"data row0 col3\" >0.3913</td>\n",
       "      <td id=\"T_35167_row0_col4\" class=\"data row0 col4\" >0.2812</td>\n",
       "      <td id=\"T_35167_row0_col5\" class=\"data row0 col5\" >0.1525</td>\n",
       "      <td id=\"T_35167_row0_col6\" class=\"data row0 col6\" >0.1617</td>\n",
       "    </tr>\n",
       "    <tr>\n",
       "      <th id=\"T_35167_level0_row1\" class=\"row_heading level0 row1\" >1</th>\n",
       "      <td id=\"T_35167_row1_col0\" class=\"data row1 col0\" >0.8093</td>\n",
       "      <td id=\"T_35167_row1_col1\" class=\"data row1 col1\" >0.7481</td>\n",
       "      <td id=\"T_35167_row1_col2\" class=\"data row1 col2\" >0.2143</td>\n",
       "      <td id=\"T_35167_row1_col3\" class=\"data row1 col3\" >0.6923</td>\n",
       "      <td id=\"T_35167_row1_col4\" class=\"data row1 col4\" >0.3273</td>\n",
       "      <td id=\"T_35167_row1_col5\" class=\"data row1 col5\" >0.2506</td>\n",
       "      <td id=\"T_35167_row1_col6\" class=\"data row1 col6\" >0.3096</td>\n",
       "    </tr>\n",
       "    <tr>\n",
       "      <th id=\"T_35167_level0_row2\" class=\"row_heading level0 row2\" >2</th>\n",
       "      <td id=\"T_35167_row2_col0\" class=\"data row2 col0\" >0.8290</td>\n",
       "      <td id=\"T_35167_row2_col1\" class=\"data row2 col1\" >0.7619</td>\n",
       "      <td id=\"T_35167_row2_col2\" class=\"data row2 col2\" >0.2927</td>\n",
       "      <td id=\"T_35167_row2_col3\" class=\"data row2 col3\" >0.7500</td>\n",
       "      <td id=\"T_35167_row2_col4\" class=\"data row2 col4\" >0.4211</td>\n",
       "      <td id=\"T_35167_row2_col5\" class=\"data row2 col5\" >0.3427</td>\n",
       "      <td id=\"T_35167_row2_col6\" class=\"data row2 col6\" >0.3951</td>\n",
       "    </tr>\n",
       "    <tr>\n",
       "      <th id=\"T_35167_level0_row3\" class=\"row_heading level0 row3\" >3</th>\n",
       "      <td id=\"T_35167_row3_col0\" class=\"data row3 col0\" >0.8083</td>\n",
       "      <td id=\"T_35167_row3_col1\" class=\"data row3 col1\" >0.7391</td>\n",
       "      <td id=\"T_35167_row3_col2\" class=\"data row3 col2\" >0.1707</td>\n",
       "      <td id=\"T_35167_row3_col3\" class=\"data row3 col3\" >0.7000</td>\n",
       "      <td id=\"T_35167_row3_col4\" class=\"data row3 col4\" >0.2745</td>\n",
       "      <td id=\"T_35167_row3_col5\" class=\"data row3 col5\" >0.2086</td>\n",
       "      <td id=\"T_35167_row3_col6\" class=\"data row3 col6\" >0.2786</td>\n",
       "    </tr>\n",
       "    <tr>\n",
       "      <th id=\"T_35167_level0_row4\" class=\"row_heading level0 row4\" >4</th>\n",
       "      <td id=\"T_35167_row4_col0\" class=\"data row4 col0\" >0.7720</td>\n",
       "      <td id=\"T_35167_row4_col1\" class=\"data row4 col1\" >0.7288</td>\n",
       "      <td id=\"T_35167_row4_col2\" class=\"data row4 col2\" >0.2927</td>\n",
       "      <td id=\"T_35167_row4_col3\" class=\"data row4 col3\" >0.4444</td>\n",
       "      <td id=\"T_35167_row4_col4\" class=\"data row4 col4\" >0.3529</td>\n",
       "      <td id=\"T_35167_row4_col5\" class=\"data row4 col5\" >0.2216</td>\n",
       "      <td id=\"T_35167_row4_col6\" class=\"data row4 col6\" >0.2288</td>\n",
       "    </tr>\n",
       "    <tr>\n",
       "      <th id=\"T_35167_level0_row5\" class=\"row_heading level0 row5\" >Mean</th>\n",
       "      <td id=\"T_35167_row5_col0\" class=\"data row5 col0\" >0.7963</td>\n",
       "      <td id=\"T_35167_row5_col1\" class=\"data row5 col1\" >0.7372</td>\n",
       "      <td id=\"T_35167_row5_col2\" class=\"data row5 col2\" >0.2380</td>\n",
       "      <td id=\"T_35167_row5_col3\" class=\"data row5 col3\" >0.5956</td>\n",
       "      <td id=\"T_35167_row5_col4\" class=\"data row5 col4\" >0.3314</td>\n",
       "      <td id=\"T_35167_row5_col5\" class=\"data row5 col5\" >0.2352</td>\n",
       "      <td id=\"T_35167_row5_col6\" class=\"data row5 col6\" >0.2748</td>\n",
       "    </tr>\n",
       "    <tr>\n",
       "      <th id=\"T_35167_level0_row6\" class=\"row_heading level0 row6\" >Std</th>\n",
       "      <td id=\"T_35167_row6_col0\" class=\"data row6 col0\" >0.0249</td>\n",
       "      <td id=\"T_35167_row6_col1\" class=\"data row6 col1\" >0.0182</td>\n",
       "      <td id=\"T_35167_row6_col2\" class=\"data row6 col2\" >0.0478</td>\n",
       "      <td id=\"T_35167_row6_col3\" class=\"data row6 col3\" >0.1474</td>\n",
       "      <td id=\"T_35167_row6_col4\" class=\"data row6 col4\" >0.0534</td>\n",
       "      <td id=\"T_35167_row6_col5\" class=\"data row6 col5\" >0.0625</td>\n",
       "      <td id=\"T_35167_row6_col6\" class=\"data row6 col6\" >0.0783</td>\n",
       "    </tr>\n",
       "  </tbody>\n",
       "</table>\n"
      ],
      "text/plain": [
       "<pandas.io.formats.style.Styler at 0x1768d9520>"
      ]
     },
     "metadata": {},
     "output_type": "display_data"
    },
    {
     "data": {
      "text/html": [],
      "text/plain": [
       "<IPython.core.display.HTML object>"
      ]
     },
     "metadata": {},
     "output_type": "display_data"
    }
   ],
   "source": [
    "xgboost = create_model('xgboost', fold=5)"
   ]
  },
  {
   "cell_type": "code",
   "execution_count": null,
   "id": "e8f857c1-974a-4633-9550-5dc64d739b1b",
   "metadata": {},
   "outputs": [],
   "source": []
  },
  {
   "cell_type": "markdown",
   "id": "baf04a5f-a675-4b34-abc6-fcd8b9b0908f",
   "metadata": {},
   "source": [
    "## 5-2. 여러 모델 선정 "
   ]
  },
  {
   "cell_type": "code",
   "execution_count": 32,
   "id": "76fb2c7f-834a-48df-953a-c455eb9d814e",
   "metadata": {},
   "outputs": [
    {
     "data": {
      "text/html": [],
      "text/plain": [
       "<IPython.core.display.HTML object>"
      ]
     },
     "metadata": {},
     "output_type": "display_data"
    },
    {
     "data": {
      "text/html": [
       "<style type=\"text/css\">\n",
       "#T_2df6d th {\n",
       "  text-align: left;\n",
       "}\n",
       "#T_2df6d_row0_col0, #T_2df6d_row0_col1, #T_2df6d_row0_col3, #T_2df6d_row0_col5, #T_2df6d_row0_col6, #T_2df6d_row0_col7, #T_2df6d_row1_col0, #T_2df6d_row1_col2, #T_2df6d_row1_col3, #T_2df6d_row1_col4, #T_2df6d_row1_col5, #T_2df6d_row1_col6, #T_2df6d_row2_col0, #T_2df6d_row2_col1, #T_2df6d_row2_col2, #T_2df6d_row2_col3, #T_2df6d_row2_col4, #T_2df6d_row2_col5, #T_2df6d_row2_col6, #T_2df6d_row2_col7, #T_2df6d_row3_col0, #T_2df6d_row3_col1, #T_2df6d_row3_col2, #T_2df6d_row3_col3, #T_2df6d_row3_col4, #T_2df6d_row3_col5, #T_2df6d_row3_col6, #T_2df6d_row3_col7, #T_2df6d_row4_col0, #T_2df6d_row4_col1, #T_2df6d_row4_col2, #T_2df6d_row4_col3, #T_2df6d_row4_col4, #T_2df6d_row4_col5, #T_2df6d_row4_col7, #T_2df6d_row5_col0, #T_2df6d_row5_col1, #T_2df6d_row5_col2, #T_2df6d_row5_col3, #T_2df6d_row5_col4, #T_2df6d_row5_col5, #T_2df6d_row5_col6, #T_2df6d_row5_col7, #T_2df6d_row6_col0, #T_2df6d_row6_col1, #T_2df6d_row6_col2, #T_2df6d_row6_col3, #T_2df6d_row6_col4, #T_2df6d_row6_col5, #T_2df6d_row6_col6, #T_2df6d_row6_col7, #T_2df6d_row7_col0, #T_2df6d_row7_col1, #T_2df6d_row7_col2, #T_2df6d_row7_col3, #T_2df6d_row7_col4, #T_2df6d_row7_col5, #T_2df6d_row7_col6, #T_2df6d_row7_col7, #T_2df6d_row8_col0, #T_2df6d_row8_col1, #T_2df6d_row8_col2, #T_2df6d_row8_col3, #T_2df6d_row8_col4, #T_2df6d_row8_col6, #T_2df6d_row8_col7, #T_2df6d_row9_col0, #T_2df6d_row9_col1, #T_2df6d_row9_col2, #T_2df6d_row9_col3, #T_2df6d_row9_col4, #T_2df6d_row9_col5, #T_2df6d_row9_col6, #T_2df6d_row9_col7, #T_2df6d_row10_col0, #T_2df6d_row10_col1, #T_2df6d_row10_col2, #T_2df6d_row10_col3, #T_2df6d_row10_col4, #T_2df6d_row10_col5, #T_2df6d_row10_col6, #T_2df6d_row10_col7, #T_2df6d_row11_col0, #T_2df6d_row11_col1, #T_2df6d_row11_col2, #T_2df6d_row11_col4, #T_2df6d_row11_col5, #T_2df6d_row11_col6, #T_2df6d_row11_col7, #T_2df6d_row12_col0, #T_2df6d_row12_col1, #T_2df6d_row12_col2, #T_2df6d_row12_col3, #T_2df6d_row12_col4, #T_2df6d_row12_col5, #T_2df6d_row12_col6, #T_2df6d_row12_col7, #T_2df6d_row13_col0, #T_2df6d_row13_col1, #T_2df6d_row13_col2, #T_2df6d_row13_col3, #T_2df6d_row13_col4, #T_2df6d_row13_col5, #T_2df6d_row13_col6, #T_2df6d_row13_col7, #T_2df6d_row14_col0, #T_2df6d_row14_col1, #T_2df6d_row14_col2, #T_2df6d_row14_col3, #T_2df6d_row14_col4, #T_2df6d_row14_col5, #T_2df6d_row14_col6, #T_2df6d_row14_col7, #T_2df6d_row15_col0, #T_2df6d_row15_col1, #T_2df6d_row15_col2, #T_2df6d_row15_col3, #T_2df6d_row15_col4, #T_2df6d_row15_col5, #T_2df6d_row15_col6, #T_2df6d_row15_col7 {\n",
       "  text-align: left;\n",
       "}\n",
       "#T_2df6d_row0_col2, #T_2df6d_row0_col4, #T_2df6d_row1_col1, #T_2df6d_row1_col7, #T_2df6d_row4_col6, #T_2df6d_row8_col5, #T_2df6d_row11_col3 {\n",
       "  text-align: left;\n",
       "  background-color: yellow;\n",
       "}\n",
       "#T_2df6d_row0_col8, #T_2df6d_row1_col8, #T_2df6d_row2_col8, #T_2df6d_row3_col8, #T_2df6d_row4_col8, #T_2df6d_row5_col8, #T_2df6d_row6_col8, #T_2df6d_row7_col8, #T_2df6d_row8_col8, #T_2df6d_row9_col8, #T_2df6d_row10_col8, #T_2df6d_row11_col8, #T_2df6d_row12_col8, #T_2df6d_row13_col8, #T_2df6d_row15_col8 {\n",
       "  text-align: left;\n",
       "  background-color: lightgrey;\n",
       "}\n",
       "#T_2df6d_row14_col8 {\n",
       "  text-align: left;\n",
       "  background-color: yellow;\n",
       "  background-color: lightgrey;\n",
       "}\n",
       "</style>\n",
       "<table id=\"T_2df6d\">\n",
       "  <thead>\n",
       "    <tr>\n",
       "      <th class=\"blank level0\" >&nbsp;</th>\n",
       "      <th id=\"T_2df6d_level0_col0\" class=\"col_heading level0 col0\" >Model</th>\n",
       "      <th id=\"T_2df6d_level0_col1\" class=\"col_heading level0 col1\" >Accuracy</th>\n",
       "      <th id=\"T_2df6d_level0_col2\" class=\"col_heading level0 col2\" >AUC</th>\n",
       "      <th id=\"T_2df6d_level0_col3\" class=\"col_heading level0 col3\" >Recall</th>\n",
       "      <th id=\"T_2df6d_level0_col4\" class=\"col_heading level0 col4\" >Prec.</th>\n",
       "      <th id=\"T_2df6d_level0_col5\" class=\"col_heading level0 col5\" >F1</th>\n",
       "      <th id=\"T_2df6d_level0_col6\" class=\"col_heading level0 col6\" >Kappa</th>\n",
       "      <th id=\"T_2df6d_level0_col7\" class=\"col_heading level0 col7\" >MCC</th>\n",
       "      <th id=\"T_2df6d_level0_col8\" class=\"col_heading level0 col8\" >TT (Sec)</th>\n",
       "    </tr>\n",
       "  </thead>\n",
       "  <tbody>\n",
       "    <tr>\n",
       "      <th id=\"T_2df6d_level0_row0\" class=\"row_heading level0 row0\" >catboost</th>\n",
       "      <td id=\"T_2df6d_row0_col0\" class=\"data row0 col0\" >CatBoost Classifier</td>\n",
       "      <td id=\"T_2df6d_row0_col1\" class=\"data row0 col1\" >0.8108</td>\n",
       "      <td id=\"T_2df6d_row0_col2\" class=\"data row0 col2\" >0.7449</td>\n",
       "      <td id=\"T_2df6d_row0_col3\" class=\"data row0 col3\" >0.1619</td>\n",
       "      <td id=\"T_2df6d_row0_col4\" class=\"data row0 col4\" >0.6950</td>\n",
       "      <td id=\"T_2df6d_row0_col5\" class=\"data row0 col5\" >0.2481</td>\n",
       "      <td id=\"T_2df6d_row0_col6\" class=\"data row0 col6\" >0.1991</td>\n",
       "      <td id=\"T_2df6d_row0_col7\" class=\"data row0 col7\" >0.2672</td>\n",
       "      <td id=\"T_2df6d_row0_col8\" class=\"data row0 col8\" >1.0380</td>\n",
       "    </tr>\n",
       "    <tr>\n",
       "      <th id=\"T_2df6d_level0_row1\" class=\"row_heading level0 row1\" >rf</th>\n",
       "      <td id=\"T_2df6d_row1_col0\" class=\"data row1 col0\" >Random Forest Classifier</td>\n",
       "      <td id=\"T_2df6d_row1_col1\" class=\"data row1 col1\" >0.8180</td>\n",
       "      <td id=\"T_2df6d_row1_col2\" class=\"data row1 col2\" >0.7419</td>\n",
       "      <td id=\"T_2df6d_row1_col3\" class=\"data row1 col3\" >0.1807</td>\n",
       "      <td id=\"T_2df6d_row1_col4\" class=\"data row1 col4\" >0.6910</td>\n",
       "      <td id=\"T_2df6d_row1_col5\" class=\"data row1 col5\" >0.2779</td>\n",
       "      <td id=\"T_2df6d_row1_col6\" class=\"data row1 col6\" >0.2303</td>\n",
       "      <td id=\"T_2df6d_row1_col7\" class=\"data row1 col7\" >0.3018</td>\n",
       "      <td id=\"T_2df6d_row1_col8\" class=\"data row1 col8\" >0.2760</td>\n",
       "    </tr>\n",
       "    <tr>\n",
       "      <th id=\"T_2df6d_level0_row2\" class=\"row_heading level0 row2\" >xgboost</th>\n",
       "      <td id=\"T_2df6d_row2_col0\" class=\"data row2 col0\" >Extreme Gradient Boosting</td>\n",
       "      <td id=\"T_2df6d_row2_col1\" class=\"data row2 col1\" >0.7869</td>\n",
       "      <td id=\"T_2df6d_row2_col2\" class=\"data row2 col2\" >0.7391</td>\n",
       "      <td id=\"T_2df6d_row2_col3\" class=\"data row2 col3\" >0.2671</td>\n",
       "      <td id=\"T_2df6d_row2_col4\" class=\"data row2 col4\" >0.5111</td>\n",
       "      <td id=\"T_2df6d_row2_col5\" class=\"data row2 col5\" >0.3453</td>\n",
       "      <td id=\"T_2df6d_row2_col6\" class=\"data row2 col6\" >0.2336</td>\n",
       "      <td id=\"T_2df6d_row2_col7\" class=\"data row2 col7\" >0.2537</td>\n",
       "      <td id=\"T_2df6d_row2_col8\" class=\"data row2 col8\" >0.2380</td>\n",
       "    </tr>\n",
       "    <tr>\n",
       "      <th id=\"T_2df6d_level0_row3\" class=\"row_heading level0 row3\" >lightgbm</th>\n",
       "      <td id=\"T_2df6d_row3_col0\" class=\"data row3 col0\" >Light Gradient Boosting Machine</td>\n",
       "      <td id=\"T_2df6d_row3_col1\" class=\"data row3 col1\" >0.8035</td>\n",
       "      <td id=\"T_2df6d_row3_col2\" class=\"data row3 col2\" >0.7332</td>\n",
       "      <td id=\"T_2df6d_row3_col3\" class=\"data row3 col3\" >0.2198</td>\n",
       "      <td id=\"T_2df6d_row3_col4\" class=\"data row3 col4\" >0.6196</td>\n",
       "      <td id=\"T_2df6d_row3_col5\" class=\"data row3 col5\" >0.3055</td>\n",
       "      <td id=\"T_2df6d_row3_col6\" class=\"data row3 col6\" >0.2288</td>\n",
       "      <td id=\"T_2df6d_row3_col7\" class=\"data row3 col7\" >0.2739</td>\n",
       "      <td id=\"T_2df6d_row3_col8\" class=\"data row3 col8\" >0.6270</td>\n",
       "    </tr>\n",
       "    <tr>\n",
       "      <th id=\"T_2df6d_level0_row4\" class=\"row_heading level0 row4\" >gbc</th>\n",
       "      <td id=\"T_2df6d_row4_col0\" class=\"data row4 col0\" >Gradient Boosting Classifier</td>\n",
       "      <td id=\"T_2df6d_row4_col1\" class=\"data row4 col1\" >0.8015</td>\n",
       "      <td id=\"T_2df6d_row4_col2\" class=\"data row4 col2\" >0.7303</td>\n",
       "      <td id=\"T_2df6d_row4_col3\" class=\"data row4 col3\" >0.2488</td>\n",
       "      <td id=\"T_2df6d_row4_col4\" class=\"data row4 col4\" >0.5641</td>\n",
       "      <td id=\"T_2df6d_row4_col5\" class=\"data row4 col5\" >0.3361</td>\n",
       "      <td id=\"T_2df6d_row4_col6\" class=\"data row4 col6\" >0.2462</td>\n",
       "      <td id=\"T_2df6d_row4_col7\" class=\"data row4 col7\" >0.2757</td>\n",
       "      <td id=\"T_2df6d_row4_col8\" class=\"data row4 col8\" >0.2880</td>\n",
       "    </tr>\n",
       "    <tr>\n",
       "      <th id=\"T_2df6d_level0_row5\" class=\"row_heading level0 row5\" >et</th>\n",
       "      <td id=\"T_2df6d_row5_col0\" class=\"data row5 col0\" >Extra Trees Classifier</td>\n",
       "      <td id=\"T_2df6d_row5_col1\" class=\"data row5 col1\" >0.8149</td>\n",
       "      <td id=\"T_2df6d_row5_col2\" class=\"data row5 col2\" >0.7281</td>\n",
       "      <td id=\"T_2df6d_row5_col3\" class=\"data row5 col3\" >0.1907</td>\n",
       "      <td id=\"T_2df6d_row5_col4\" class=\"data row5 col4\" >0.6867</td>\n",
       "      <td id=\"T_2df6d_row5_col5\" class=\"data row5 col5\" >0.2855</td>\n",
       "      <td id=\"T_2df6d_row5_col6\" class=\"data row5 col6\" >0.2305</td>\n",
       "      <td id=\"T_2df6d_row5_col7\" class=\"data row5 col7\" >0.2941</td>\n",
       "      <td id=\"T_2df6d_row5_col8\" class=\"data row5 col8\" >0.2530</td>\n",
       "    </tr>\n",
       "    <tr>\n",
       "      <th id=\"T_2df6d_level0_row6\" class=\"row_heading level0 row6\" >lda</th>\n",
       "      <td id=\"T_2df6d_row6_col0\" class=\"data row6 col0\" >Linear Discriminant Analysis</td>\n",
       "      <td id=\"T_2df6d_row6_col1\" class=\"data row6 col1\" >0.7922</td>\n",
       "      <td id=\"T_2df6d_row6_col2\" class=\"data row6 col2\" >0.7272</td>\n",
       "      <td id=\"T_2df6d_row6_col3\" class=\"data row6 col3\" >0.2395</td>\n",
       "      <td id=\"T_2df6d_row6_col4\" class=\"data row6 col4\" >0.5117</td>\n",
       "      <td id=\"T_2df6d_row6_col5\" class=\"data row6 col5\" >0.3143</td>\n",
       "      <td id=\"T_2df6d_row6_col6\" class=\"data row6 col6\" >0.2188</td>\n",
       "      <td id=\"T_2df6d_row6_col7\" class=\"data row6 col7\" >0.2422</td>\n",
       "      <td id=\"T_2df6d_row6_col8\" class=\"data row6 col8\" >0.2100</td>\n",
       "    </tr>\n",
       "    <tr>\n",
       "      <th id=\"T_2df6d_level0_row7\" class=\"row_heading level0 row7\" >ada</th>\n",
       "      <td id=\"T_2df6d_row7_col0\" class=\"data row7 col0\" >Ada Boost Classifier</td>\n",
       "      <td id=\"T_2df6d_row7_col1\" class=\"data row7 col1\" >0.7860</td>\n",
       "      <td id=\"T_2df6d_row7_col2\" class=\"data row7 col2\" >0.6907</td>\n",
       "      <td id=\"T_2df6d_row7_col3\" class=\"data row7 col3\" >0.2874</td>\n",
       "      <td id=\"T_2df6d_row7_col4\" class=\"data row7 col4\" >0.5063</td>\n",
       "      <td id=\"T_2df6d_row7_col5\" class=\"data row7 col5\" >0.3563</td>\n",
       "      <td id=\"T_2df6d_row7_col6\" class=\"data row7 col6\" >0.2432</td>\n",
       "      <td id=\"T_2df6d_row7_col7\" class=\"data row7 col7\" >0.2605</td>\n",
       "      <td id=\"T_2df6d_row7_col8\" class=\"data row7 col8\" >0.2240</td>\n",
       "    </tr>\n",
       "    <tr>\n",
       "      <th id=\"T_2df6d_level0_row8\" class=\"row_heading level0 row8\" >nb</th>\n",
       "      <td id=\"T_2df6d_row8_col0\" class=\"data row8 col0\" >Naive Bayes</td>\n",
       "      <td id=\"T_2df6d_row8_col1\" class=\"data row8 col1\" >0.5211</td>\n",
       "      <td id=\"T_2df6d_row8_col2\" class=\"data row8 col2\" >0.6462</td>\n",
       "      <td id=\"T_2df6d_row8_col3\" class=\"data row8 col3\" >0.6843</td>\n",
       "      <td id=\"T_2df6d_row8_col4\" class=\"data row8 col4\" >0.2628</td>\n",
       "      <td id=\"T_2df6d_row8_col5\" class=\"data row8 col5\" >0.3787</td>\n",
       "      <td id=\"T_2df6d_row8_col6\" class=\"data row8 col6\" >0.1028</td>\n",
       "      <td id=\"T_2df6d_row8_col7\" class=\"data row8 col7\" >0.1336</td>\n",
       "      <td id=\"T_2df6d_row8_col8\" class=\"data row8 col8\" >0.1970</td>\n",
       "    </tr>\n",
       "    <tr>\n",
       "      <th id=\"T_2df6d_level0_row9\" class=\"row_heading level0 row9\" >lr</th>\n",
       "      <td id=\"T_2df6d_row9_col0\" class=\"data row9 col0\" >Logistic Regression</td>\n",
       "      <td id=\"T_2df6d_row9_col1\" class=\"data row9 col1\" >0.7777</td>\n",
       "      <td id=\"T_2df6d_row9_col2\" class=\"data row9 col2\" >0.6374</td>\n",
       "      <td id=\"T_2df6d_row9_col3\" class=\"data row9 col3\" >0.0195</td>\n",
       "      <td id=\"T_2df6d_row9_col4\" class=\"data row9 col4\" >0.2167</td>\n",
       "      <td id=\"T_2df6d_row9_col5\" class=\"data row9 col5\" >0.0352</td>\n",
       "      <td id=\"T_2df6d_row9_col6\" class=\"data row9 col6\" >0.0040</td>\n",
       "      <td id=\"T_2df6d_row9_col7\" class=\"data row9 col7\" >0.0115</td>\n",
       "      <td id=\"T_2df6d_row9_col8\" class=\"data row9 col8\" >0.2360</td>\n",
       "    </tr>\n",
       "    <tr>\n",
       "      <th id=\"T_2df6d_level0_row10\" class=\"row_heading level0 row10\" >dt</th>\n",
       "      <td id=\"T_2df6d_row10_col0\" class=\"data row10 col0\" >Decision Tree Classifier</td>\n",
       "      <td id=\"T_2df6d_row10_col1\" class=\"data row10 col1\" >0.7281</td>\n",
       "      <td id=\"T_2df6d_row10_col2\" class=\"data row10 col2\" >0.6031</td>\n",
       "      <td id=\"T_2df6d_row10_col3\" class=\"data row10 col3\" >0.3850</td>\n",
       "      <td id=\"T_2df6d_row10_col4\" class=\"data row10 col4\" >0.3681</td>\n",
       "      <td id=\"T_2df6d_row10_col5\" class=\"data row10 col5\" >0.3714</td>\n",
       "      <td id=\"T_2df6d_row10_col6\" class=\"data row10 col6\" >0.1999</td>\n",
       "      <td id=\"T_2df6d_row10_col7\" class=\"data row10 col7\" >0.2026</td>\n",
       "      <td id=\"T_2df6d_row10_col8\" class=\"data row10 col8\" >0.1860</td>\n",
       "    </tr>\n",
       "    <tr>\n",
       "      <th id=\"T_2df6d_level0_row11\" class=\"row_heading level0 row11\" >qda</th>\n",
       "      <td id=\"T_2df6d_row11_col0\" class=\"data row11 col0\" >Quadratic Discriminant Analysis</td>\n",
       "      <td id=\"T_2df6d_row11_col1\" class=\"data row11 col1\" >0.3020</td>\n",
       "      <td id=\"T_2df6d_row11_col2\" class=\"data row11 col2\" >0.5606</td>\n",
       "      <td id=\"T_2df6d_row11_col3\" class=\"data row11 col3\" >0.9505</td>\n",
       "      <td id=\"T_2df6d_row11_col4\" class=\"data row11 col4\" >0.2277</td>\n",
       "      <td id=\"T_2df6d_row11_col5\" class=\"data row11 col5\" >0.3673</td>\n",
       "      <td id=\"T_2df6d_row11_col6\" class=\"data row11 col6\" >0.0360</td>\n",
       "      <td id=\"T_2df6d_row11_col7\" class=\"data row11 col7\" >0.1036</td>\n",
       "      <td id=\"T_2df6d_row11_col8\" class=\"data row11 col8\" >0.1900</td>\n",
       "    </tr>\n",
       "    <tr>\n",
       "      <th id=\"T_2df6d_level0_row12\" class=\"row_heading level0 row12\" >knn</th>\n",
       "      <td id=\"T_2df6d_row12_col0\" class=\"data row12 col0\" >K Neighbors Classifier</td>\n",
       "      <td id=\"T_2df6d_row12_col1\" class=\"data row12 col1\" >0.7642</td>\n",
       "      <td id=\"T_2df6d_row12_col2\" class=\"data row12 col2\" >0.5327</td>\n",
       "      <td id=\"T_2df6d_row12_col3\" class=\"data row12 col3\" >0.1405</td>\n",
       "      <td id=\"T_2df6d_row12_col4\" class=\"data row12 col4\" >0.3522</td>\n",
       "      <td id=\"T_2df6d_row12_col5\" class=\"data row12 col5\" >0.1966</td>\n",
       "      <td id=\"T_2df6d_row12_col6\" class=\"data row12 col6\" >0.0921</td>\n",
       "      <td id=\"T_2df6d_row12_col7\" class=\"data row12 col7\" >0.1050</td>\n",
       "      <td id=\"T_2df6d_row12_col8\" class=\"data row12 col8\" >0.1760</td>\n",
       "    </tr>\n",
       "    <tr>\n",
       "      <th id=\"T_2df6d_level0_row13\" class=\"row_heading level0 row13\" >dummy</th>\n",
       "      <td id=\"T_2df6d_row13_col0\" class=\"data row13 col0\" >Dummy Classifier</td>\n",
       "      <td id=\"T_2df6d_row13_col1\" class=\"data row13 col1\" >0.7870</td>\n",
       "      <td id=\"T_2df6d_row13_col2\" class=\"data row13 col2\" >0.5000</td>\n",
       "      <td id=\"T_2df6d_row13_col3\" class=\"data row13 col3\" >0.0000</td>\n",
       "      <td id=\"T_2df6d_row13_col4\" class=\"data row13 col4\" >0.0000</td>\n",
       "      <td id=\"T_2df6d_row13_col5\" class=\"data row13 col5\" >0.0000</td>\n",
       "      <td id=\"T_2df6d_row13_col6\" class=\"data row13 col6\" >0.0000</td>\n",
       "      <td id=\"T_2df6d_row13_col7\" class=\"data row13 col7\" >0.0000</td>\n",
       "      <td id=\"T_2df6d_row13_col8\" class=\"data row13 col8\" >0.1890</td>\n",
       "    </tr>\n",
       "    <tr>\n",
       "      <th id=\"T_2df6d_level0_row14\" class=\"row_heading level0 row14\" >svm</th>\n",
       "      <td id=\"T_2df6d_row14_col0\" class=\"data row14 col0\" >SVM - Linear Kernel</td>\n",
       "      <td id=\"T_2df6d_row14_col1\" class=\"data row14 col1\" >0.5915</td>\n",
       "      <td id=\"T_2df6d_row14_col2\" class=\"data row14 col2\" >0.0000</td>\n",
       "      <td id=\"T_2df6d_row14_col3\" class=\"data row14 col3\" >0.3779</td>\n",
       "      <td id=\"T_2df6d_row14_col4\" class=\"data row14 col4\" >0.2393</td>\n",
       "      <td id=\"T_2df6d_row14_col5\" class=\"data row14 col5\" >0.1995</td>\n",
       "      <td id=\"T_2df6d_row14_col6\" class=\"data row14 col6\" >0.0288</td>\n",
       "      <td id=\"T_2df6d_row14_col7\" class=\"data row14 col7\" >0.0372</td>\n",
       "      <td id=\"T_2df6d_row14_col8\" class=\"data row14 col8\" >0.1710</td>\n",
       "    </tr>\n",
       "    <tr>\n",
       "      <th id=\"T_2df6d_level0_row15\" class=\"row_heading level0 row15\" >ridge</th>\n",
       "      <td id=\"T_2df6d_row15_col0\" class=\"data row15 col0\" >Ridge Classifier</td>\n",
       "      <td id=\"T_2df6d_row15_col1\" class=\"data row15 col1\" >0.8056</td>\n",
       "      <td id=\"T_2df6d_row15_col2\" class=\"data row15 col2\" >0.0000</td>\n",
       "      <td id=\"T_2df6d_row15_col3\" class=\"data row15 col3\" >0.2052</td>\n",
       "      <td id=\"T_2df6d_row15_col4\" class=\"data row15 col4\" >0.6540</td>\n",
       "      <td id=\"T_2df6d_row15_col5\" class=\"data row15 col5\" >0.2987</td>\n",
       "      <td id=\"T_2df6d_row15_col6\" class=\"data row15 col6\" >0.2248</td>\n",
       "      <td id=\"T_2df6d_row15_col7\" class=\"data row15 col7\" >0.2753</td>\n",
       "      <td id=\"T_2df6d_row15_col8\" class=\"data row15 col8\" >0.1750</td>\n",
       "    </tr>\n",
       "  </tbody>\n",
       "</table>\n"
      ],
      "text/plain": [
       "<pandas.io.formats.style.Styler at 0x11feff190>"
      ]
     },
     "metadata": {},
     "output_type": "display_data"
    },
    {
     "data": {
      "text/html": [],
      "text/plain": [
       "<IPython.core.display.HTML object>"
      ]
     },
     "metadata": {},
     "output_type": "display_data"
    }
   ],
   "source": [
    "top5 = compare_models(sort='AUC', n_select=5)"
   ]
  },
  {
   "cell_type": "code",
   "execution_count": 33,
   "id": "af848860-fa01-4803-97ff-2015403a7c5b",
   "metadata": {},
   "outputs": [
    {
     "data": {
      "text/plain": [
       "[<catboost.core.CatBoostClassifier at 0x1723d0e50>,\n",
       " RandomForestClassifier(bootstrap=True, ccp_alpha=0.0, class_weight=None,\n",
       "                        criterion='gini', max_depth=None, max_features='sqrt',\n",
       "                        max_leaf_nodes=None, max_samples=None,\n",
       "                        min_impurity_decrease=0.0, min_samples_leaf=1,\n",
       "                        min_samples_split=2, min_weight_fraction_leaf=0.0,\n",
       "                        n_estimators=100, n_jobs=-1, oob_score=False,\n",
       "                        random_state=3590, verbose=0, warm_start=False),\n",
       " XGBClassifier(base_score=None, booster='gbtree', callbacks=None,\n",
       "               colsample_bylevel=None, colsample_bynode=None,\n",
       "               colsample_bytree=None, early_stopping_rounds=None,\n",
       "               enable_categorical=False, eval_metric=None, feature_types=None,\n",
       "               gamma=None, gpu_id=None, grow_policy=None, importance_type=None,\n",
       "               interaction_constraints=None, learning_rate=None, max_bin=None,\n",
       "               max_cat_threshold=None, max_cat_to_onehot=None,\n",
       "               max_delta_step=None, max_depth=None, max_leaves=None,\n",
       "               min_child_weight=None, missing=nan, monotone_constraints=None,\n",
       "               n_estimators=100, n_jobs=-1, num_parallel_tree=None,\n",
       "               objective='binary:logistic', predictor=None, ...),\n",
       " LGBMClassifier(boosting_type='gbdt', class_weight=None, colsample_bytree=1.0,\n",
       "                importance_type='split', learning_rate=0.1, max_depth=-1,\n",
       "                min_child_samples=20, min_child_weight=0.001, min_split_gain=0.0,\n",
       "                n_estimators=100, n_jobs=-1, num_leaves=31, objective=None,\n",
       "                random_state=3590, reg_alpha=0.0, reg_lambda=0.0, subsample=1.0,\n",
       "                subsample_for_bin=200000, subsample_freq=0),\n",
       " GradientBoostingClassifier(ccp_alpha=0.0, criterion='friedman_mse', init=None,\n",
       "                            learning_rate=0.1, loss='log_loss', max_depth=3,\n",
       "                            max_features=None, max_leaf_nodes=None,\n",
       "                            min_impurity_decrease=0.0, min_samples_leaf=1,\n",
       "                            min_samples_split=2, min_weight_fraction_leaf=0.0,\n",
       "                            n_estimators=100, n_iter_no_change=None,\n",
       "                            random_state=3590, subsample=1.0, tol=0.0001,\n",
       "                            validation_fraction=0.1, verbose=0,\n",
       "                            warm_start=False)]"
      ]
     },
     "execution_count": 33,
     "metadata": {},
     "output_type": "execute_result"
    }
   ],
   "source": [
    "top5"
   ]
  },
  {
   "cell_type": "markdown",
   "id": "b33b5969-87a9-4c41-b2bb-9601a170c6cd",
   "metadata": {},
   "source": [
    "## 5-3  모델 튜닝"
   ]
  },
  {
   "cell_type": "code",
   "execution_count": 35,
   "id": "73bb6d08-84b5-40ce-bc16-2e8bed0db750",
   "metadata": {},
   "outputs": [
    {
     "data": {
      "text/html": [],
      "text/plain": [
       "<IPython.core.display.HTML object>"
      ]
     },
     "metadata": {},
     "output_type": "display_data"
    },
    {
     "data": {
      "text/html": [
       "<style type=\"text/css\">\n",
       "#T_dcc5f_row10_col0, #T_dcc5f_row10_col1, #T_dcc5f_row10_col2, #T_dcc5f_row10_col3, #T_dcc5f_row10_col4, #T_dcc5f_row10_col5, #T_dcc5f_row10_col6 {\n",
       "  background: yellow;\n",
       "}\n",
       "</style>\n",
       "<table id=\"T_dcc5f\">\n",
       "  <thead>\n",
       "    <tr>\n",
       "      <th class=\"blank level0\" >&nbsp;</th>\n",
       "      <th id=\"T_dcc5f_level0_col0\" class=\"col_heading level0 col0\" >Accuracy</th>\n",
       "      <th id=\"T_dcc5f_level0_col1\" class=\"col_heading level0 col1\" >AUC</th>\n",
       "      <th id=\"T_dcc5f_level0_col2\" class=\"col_heading level0 col2\" >Recall</th>\n",
       "      <th id=\"T_dcc5f_level0_col3\" class=\"col_heading level0 col3\" >Prec.</th>\n",
       "      <th id=\"T_dcc5f_level0_col4\" class=\"col_heading level0 col4\" >F1</th>\n",
       "      <th id=\"T_dcc5f_level0_col5\" class=\"col_heading level0 col5\" >Kappa</th>\n",
       "      <th id=\"T_dcc5f_level0_col6\" class=\"col_heading level0 col6\" >MCC</th>\n",
       "    </tr>\n",
       "    <tr>\n",
       "      <th class=\"index_name level0\" >Fold</th>\n",
       "      <th class=\"blank col0\" >&nbsp;</th>\n",
       "      <th class=\"blank col1\" >&nbsp;</th>\n",
       "      <th class=\"blank col2\" >&nbsp;</th>\n",
       "      <th class=\"blank col3\" >&nbsp;</th>\n",
       "      <th class=\"blank col4\" >&nbsp;</th>\n",
       "      <th class=\"blank col5\" >&nbsp;</th>\n",
       "      <th class=\"blank col6\" >&nbsp;</th>\n",
       "    </tr>\n",
       "  </thead>\n",
       "  <tbody>\n",
       "    <tr>\n",
       "      <th id=\"T_dcc5f_level0_row0\" class=\"row_heading level0 row0\" >0</th>\n",
       "      <td id=\"T_dcc5f_row0_col0\" class=\"data row0 col0\" >0.7938</td>\n",
       "      <td id=\"T_dcc5f_row0_col1\" class=\"data row0 col1\" >0.7013</td>\n",
       "      <td id=\"T_dcc5f_row0_col2\" class=\"data row0 col2\" >0.0000</td>\n",
       "      <td id=\"T_dcc5f_row0_col3\" class=\"data row0 col3\" >0.0000</td>\n",
       "      <td id=\"T_dcc5f_row0_col4\" class=\"data row0 col4\" >0.0000</td>\n",
       "      <td id=\"T_dcc5f_row0_col5\" class=\"data row0 col5\" >0.0000</td>\n",
       "      <td id=\"T_dcc5f_row0_col6\" class=\"data row0 col6\" >0.0000</td>\n",
       "    </tr>\n",
       "    <tr>\n",
       "      <th id=\"T_dcc5f_level0_row1\" class=\"row_heading level0 row1\" >1</th>\n",
       "      <td id=\"T_dcc5f_row1_col0\" class=\"data row1 col0\" >0.7835</td>\n",
       "      <td id=\"T_dcc5f_row1_col1\" class=\"data row1 col1\" >0.5943</td>\n",
       "      <td id=\"T_dcc5f_row1_col2\" class=\"data row1 col2\" >0.0000</td>\n",
       "      <td id=\"T_dcc5f_row1_col3\" class=\"data row1 col3\" >0.0000</td>\n",
       "      <td id=\"T_dcc5f_row1_col4\" class=\"data row1 col4\" >0.0000</td>\n",
       "      <td id=\"T_dcc5f_row1_col5\" class=\"data row1 col5\" >0.0000</td>\n",
       "      <td id=\"T_dcc5f_row1_col6\" class=\"data row1 col6\" >0.0000</td>\n",
       "    </tr>\n",
       "    <tr>\n",
       "      <th id=\"T_dcc5f_level0_row2\" class=\"row_heading level0 row2\" >2</th>\n",
       "      <td id=\"T_dcc5f_row2_col0\" class=\"data row2 col0\" >0.7835</td>\n",
       "      <td id=\"T_dcc5f_row2_col1\" class=\"data row2 col1\" >0.5238</td>\n",
       "      <td id=\"T_dcc5f_row2_col2\" class=\"data row2 col2\" >0.0000</td>\n",
       "      <td id=\"T_dcc5f_row2_col3\" class=\"data row2 col3\" >0.0000</td>\n",
       "      <td id=\"T_dcc5f_row2_col4\" class=\"data row2 col4\" >0.0000</td>\n",
       "      <td id=\"T_dcc5f_row2_col5\" class=\"data row2 col5\" >0.0000</td>\n",
       "      <td id=\"T_dcc5f_row2_col6\" class=\"data row2 col6\" >0.0000</td>\n",
       "    </tr>\n",
       "    <tr>\n",
       "      <th id=\"T_dcc5f_level0_row3\" class=\"row_heading level0 row3\" >3</th>\n",
       "      <td id=\"T_dcc5f_row3_col0\" class=\"data row3 col0\" >0.7835</td>\n",
       "      <td id=\"T_dcc5f_row3_col1\" class=\"data row3 col1\" >0.6003</td>\n",
       "      <td id=\"T_dcc5f_row3_col2\" class=\"data row3 col2\" >0.0000</td>\n",
       "      <td id=\"T_dcc5f_row3_col3\" class=\"data row3 col3\" >0.0000</td>\n",
       "      <td id=\"T_dcc5f_row3_col4\" class=\"data row3 col4\" >0.0000</td>\n",
       "      <td id=\"T_dcc5f_row3_col5\" class=\"data row3 col5\" >0.0000</td>\n",
       "      <td id=\"T_dcc5f_row3_col6\" class=\"data row3 col6\" >0.0000</td>\n",
       "    </tr>\n",
       "    <tr>\n",
       "      <th id=\"T_dcc5f_level0_row4\" class=\"row_heading level0 row4\" >4</th>\n",
       "      <td id=\"T_dcc5f_row4_col0\" class=\"data row4 col0\" >0.7835</td>\n",
       "      <td id=\"T_dcc5f_row4_col1\" class=\"data row4 col1\" >0.7155</td>\n",
       "      <td id=\"T_dcc5f_row4_col2\" class=\"data row4 col2\" >0.0000</td>\n",
       "      <td id=\"T_dcc5f_row4_col3\" class=\"data row4 col3\" >0.0000</td>\n",
       "      <td id=\"T_dcc5f_row4_col4\" class=\"data row4 col4\" >0.0000</td>\n",
       "      <td id=\"T_dcc5f_row4_col5\" class=\"data row4 col5\" >0.0000</td>\n",
       "      <td id=\"T_dcc5f_row4_col6\" class=\"data row4 col6\" >0.0000</td>\n",
       "    </tr>\n",
       "    <tr>\n",
       "      <th id=\"T_dcc5f_level0_row5\" class=\"row_heading level0 row5\" >5</th>\n",
       "      <td id=\"T_dcc5f_row5_col0\" class=\"data row5 col0\" >0.7835</td>\n",
       "      <td id=\"T_dcc5f_row5_col1\" class=\"data row5 col1\" >0.7321</td>\n",
       "      <td id=\"T_dcc5f_row5_col2\" class=\"data row5 col2\" >0.0000</td>\n",
       "      <td id=\"T_dcc5f_row5_col3\" class=\"data row5 col3\" >0.0000</td>\n",
       "      <td id=\"T_dcc5f_row5_col4\" class=\"data row5 col4\" >0.0000</td>\n",
       "      <td id=\"T_dcc5f_row5_col5\" class=\"data row5 col5\" >0.0000</td>\n",
       "      <td id=\"T_dcc5f_row5_col6\" class=\"data row5 col6\" >0.0000</td>\n",
       "    </tr>\n",
       "    <tr>\n",
       "      <th id=\"T_dcc5f_level0_row6\" class=\"row_heading level0 row6\" >6</th>\n",
       "      <td id=\"T_dcc5f_row6_col0\" class=\"data row6 col0\" >0.7835</td>\n",
       "      <td id=\"T_dcc5f_row6_col1\" class=\"data row6 col1\" >0.6090</td>\n",
       "      <td id=\"T_dcc5f_row6_col2\" class=\"data row6 col2\" >0.0000</td>\n",
       "      <td id=\"T_dcc5f_row6_col3\" class=\"data row6 col3\" >0.0000</td>\n",
       "      <td id=\"T_dcc5f_row6_col4\" class=\"data row6 col4\" >0.0000</td>\n",
       "      <td id=\"T_dcc5f_row6_col5\" class=\"data row6 col5\" >0.0000</td>\n",
       "      <td id=\"T_dcc5f_row6_col6\" class=\"data row6 col6\" >0.0000</td>\n",
       "    </tr>\n",
       "    <tr>\n",
       "      <th id=\"T_dcc5f_level0_row7\" class=\"row_heading level0 row7\" >7</th>\n",
       "      <td id=\"T_dcc5f_row7_col0\" class=\"data row7 col0\" >0.7917</td>\n",
       "      <td id=\"T_dcc5f_row7_col1\" class=\"data row7 col1\" >0.7151</td>\n",
       "      <td id=\"T_dcc5f_row7_col2\" class=\"data row7 col2\" >0.0000</td>\n",
       "      <td id=\"T_dcc5f_row7_col3\" class=\"data row7 col3\" >0.0000</td>\n",
       "      <td id=\"T_dcc5f_row7_col4\" class=\"data row7 col4\" >0.0000</td>\n",
       "      <td id=\"T_dcc5f_row7_col5\" class=\"data row7 col5\" >0.0000</td>\n",
       "      <td id=\"T_dcc5f_row7_col6\" class=\"data row7 col6\" >0.0000</td>\n",
       "    </tr>\n",
       "    <tr>\n",
       "      <th id=\"T_dcc5f_level0_row8\" class=\"row_heading level0 row8\" >8</th>\n",
       "      <td id=\"T_dcc5f_row8_col0\" class=\"data row8 col0\" >0.7917</td>\n",
       "      <td id=\"T_dcc5f_row8_col1\" class=\"data row8 col1\" >0.6312</td>\n",
       "      <td id=\"T_dcc5f_row8_col2\" class=\"data row8 col2\" >0.0000</td>\n",
       "      <td id=\"T_dcc5f_row8_col3\" class=\"data row8 col3\" >0.0000</td>\n",
       "      <td id=\"T_dcc5f_row8_col4\" class=\"data row8 col4\" >0.0000</td>\n",
       "      <td id=\"T_dcc5f_row8_col5\" class=\"data row8 col5\" >0.0000</td>\n",
       "      <td id=\"T_dcc5f_row8_col6\" class=\"data row8 col6\" >0.0000</td>\n",
       "    </tr>\n",
       "    <tr>\n",
       "      <th id=\"T_dcc5f_level0_row9\" class=\"row_heading level0 row9\" >9</th>\n",
       "      <td id=\"T_dcc5f_row9_col0\" class=\"data row9 col0\" >0.7917</td>\n",
       "      <td id=\"T_dcc5f_row9_col1\" class=\"data row9 col1\" >0.7829</td>\n",
       "      <td id=\"T_dcc5f_row9_col2\" class=\"data row9 col2\" >0.0000</td>\n",
       "      <td id=\"T_dcc5f_row9_col3\" class=\"data row9 col3\" >0.0000</td>\n",
       "      <td id=\"T_dcc5f_row9_col4\" class=\"data row9 col4\" >0.0000</td>\n",
       "      <td id=\"T_dcc5f_row9_col5\" class=\"data row9 col5\" >0.0000</td>\n",
       "      <td id=\"T_dcc5f_row9_col6\" class=\"data row9 col6\" >0.0000</td>\n",
       "    </tr>\n",
       "    <tr>\n",
       "      <th id=\"T_dcc5f_level0_row10\" class=\"row_heading level0 row10\" >Mean</th>\n",
       "      <td id=\"T_dcc5f_row10_col0\" class=\"data row10 col0\" >0.7870</td>\n",
       "      <td id=\"T_dcc5f_row10_col1\" class=\"data row10 col1\" >0.6606</td>\n",
       "      <td id=\"T_dcc5f_row10_col2\" class=\"data row10 col2\" >0.0000</td>\n",
       "      <td id=\"T_dcc5f_row10_col3\" class=\"data row10 col3\" >0.0000</td>\n",
       "      <td id=\"T_dcc5f_row10_col4\" class=\"data row10 col4\" >0.0000</td>\n",
       "      <td id=\"T_dcc5f_row10_col5\" class=\"data row10 col5\" >0.0000</td>\n",
       "      <td id=\"T_dcc5f_row10_col6\" class=\"data row10 col6\" >0.0000</td>\n",
       "    </tr>\n",
       "    <tr>\n",
       "      <th id=\"T_dcc5f_level0_row11\" class=\"row_heading level0 row11\" >Std</th>\n",
       "      <td id=\"T_dcc5f_row11_col0\" class=\"data row11 col0\" >0.0043</td>\n",
       "      <td id=\"T_dcc5f_row11_col1\" class=\"data row11 col1\" >0.0762</td>\n",
       "      <td id=\"T_dcc5f_row11_col2\" class=\"data row11 col2\" >0.0000</td>\n",
       "      <td id=\"T_dcc5f_row11_col3\" class=\"data row11 col3\" >0.0000</td>\n",
       "      <td id=\"T_dcc5f_row11_col4\" class=\"data row11 col4\" >0.0000</td>\n",
       "      <td id=\"T_dcc5f_row11_col5\" class=\"data row11 col5\" >0.0000</td>\n",
       "      <td id=\"T_dcc5f_row11_col6\" class=\"data row11 col6\" >0.0000</td>\n",
       "    </tr>\n",
       "  </tbody>\n",
       "</table>\n"
      ],
      "text/plain": [
       "<pandas.io.formats.style.Styler at 0x176d0abe0>"
      ]
     },
     "metadata": {},
     "output_type": "display_data"
    },
    {
     "data": {
      "text/html": [],
      "text/plain": [
       "<IPython.core.display.HTML object>"
      ]
     },
     "metadata": {},
     "output_type": "display_data"
    },
    {
     "name": "stdout",
     "output_type": "stream",
     "text": [
      "Fitting 10 folds for each of 10 candidates, totalling 100 fits\n",
      "Original model was better than the tuned model, hence it will be returned. NOTE: The display metrics are for the tuned model (not the original one).\n"
     ]
    }
   ],
   "source": [
    "rf_tm = tune_model(top5[1])"
   ]
  },
  {
   "cell_type": "code",
   "execution_count": 36,
   "id": "e86d4be2-6555-4723-ad59-31daef7b1dd4",
   "metadata": {},
   "outputs": [
    {
     "data": {
      "text/html": [
       "<style>#sk-container-id-1 {color: black;background-color: white;}#sk-container-id-1 pre{padding: 0;}#sk-container-id-1 div.sk-toggleable {background-color: white;}#sk-container-id-1 label.sk-toggleable__label {cursor: pointer;display: block;width: 100%;margin-bottom: 0;padding: 0.3em;box-sizing: border-box;text-align: center;}#sk-container-id-1 label.sk-toggleable__label-arrow:before {content: \"▸\";float: left;margin-right: 0.25em;color: #696969;}#sk-container-id-1 label.sk-toggleable__label-arrow:hover:before {color: black;}#sk-container-id-1 div.sk-estimator:hover label.sk-toggleable__label-arrow:before {color: black;}#sk-container-id-1 div.sk-toggleable__content {max-height: 0;max-width: 0;overflow: hidden;text-align: left;background-color: #f0f8ff;}#sk-container-id-1 div.sk-toggleable__content pre {margin: 0.2em;color: black;border-radius: 0.25em;background-color: #f0f8ff;}#sk-container-id-1 input.sk-toggleable__control:checked~div.sk-toggleable__content {max-height: 200px;max-width: 100%;overflow: auto;}#sk-container-id-1 input.sk-toggleable__control:checked~label.sk-toggleable__label-arrow:before {content: \"▾\";}#sk-container-id-1 div.sk-estimator input.sk-toggleable__control:checked~label.sk-toggleable__label {background-color: #d4ebff;}#sk-container-id-1 div.sk-label input.sk-toggleable__control:checked~label.sk-toggleable__label {background-color: #d4ebff;}#sk-container-id-1 input.sk-hidden--visually {border: 0;clip: rect(1px 1px 1px 1px);clip: rect(1px, 1px, 1px, 1px);height: 1px;margin: -1px;overflow: hidden;padding: 0;position: absolute;width: 1px;}#sk-container-id-1 div.sk-estimator {font-family: monospace;background-color: #f0f8ff;border: 1px dotted black;border-radius: 0.25em;box-sizing: border-box;margin-bottom: 0.5em;}#sk-container-id-1 div.sk-estimator:hover {background-color: #d4ebff;}#sk-container-id-1 div.sk-parallel-item::after {content: \"\";width: 100%;border-bottom: 1px solid gray;flex-grow: 1;}#sk-container-id-1 div.sk-label:hover label.sk-toggleable__label {background-color: #d4ebff;}#sk-container-id-1 div.sk-serial::before {content: \"\";position: absolute;border-left: 1px solid gray;box-sizing: border-box;top: 0;bottom: 0;left: 50%;z-index: 0;}#sk-container-id-1 div.sk-serial {display: flex;flex-direction: column;align-items: center;background-color: white;padding-right: 0.2em;padding-left: 0.2em;position: relative;}#sk-container-id-1 div.sk-item {position: relative;z-index: 1;}#sk-container-id-1 div.sk-parallel {display: flex;align-items: stretch;justify-content: center;background-color: white;position: relative;}#sk-container-id-1 div.sk-item::before, #sk-container-id-1 div.sk-parallel-item::before {content: \"\";position: absolute;border-left: 1px solid gray;box-sizing: border-box;top: 0;bottom: 0;left: 50%;z-index: -1;}#sk-container-id-1 div.sk-parallel-item {display: flex;flex-direction: column;z-index: 1;position: relative;background-color: white;}#sk-container-id-1 div.sk-parallel-item:first-child::after {align-self: flex-end;width: 50%;}#sk-container-id-1 div.sk-parallel-item:last-child::after {align-self: flex-start;width: 50%;}#sk-container-id-1 div.sk-parallel-item:only-child::after {width: 0;}#sk-container-id-1 div.sk-dashed-wrapped {border: 1px dashed gray;margin: 0 0.4em 0.5em 0.4em;box-sizing: border-box;padding-bottom: 0.4em;background-color: white;}#sk-container-id-1 div.sk-label label {font-family: monospace;font-weight: bold;display: inline-block;line-height: 1.2em;}#sk-container-id-1 div.sk-label-container {text-align: center;}#sk-container-id-1 div.sk-container {/* jupyter's `normalize.less` sets `[hidden] { display: none; }` but bootstrap.min.css set `[hidden] { display: none !important; }` so we also need the `!important` here to be able to override the default hidden behavior on the sphinx rendered scikit-learn.org. See: https://github.com/scikit-learn/scikit-learn/issues/21755 */display: inline-block !important;position: relative;}#sk-container-id-1 div.sk-text-repr-fallback {display: none;}</style><div id=\"sk-container-id-1\" class=\"sk-top-container\"><div class=\"sk-text-repr-fallback\"><pre>RandomForestClassifier(bootstrap=True, ccp_alpha=0.0, class_weight=None,\n",
       "                       criterion=&#x27;gini&#x27;, max_depth=None, max_features=&#x27;sqrt&#x27;,\n",
       "                       max_leaf_nodes=None, max_samples=None,\n",
       "                       min_impurity_decrease=0.0, min_samples_leaf=1,\n",
       "                       min_samples_split=2, min_weight_fraction_leaf=0.0,\n",
       "                       n_estimators=100, n_jobs=-1, oob_score=False,\n",
       "                       random_state=3590, verbose=0, warm_start=False)</pre><b>In a Jupyter environment, please rerun this cell to show the HTML representation or trust the notebook. <br />On GitHub, the HTML representation is unable to render, please try loading this page with nbviewer.org.</b></div><div class=\"sk-container\" hidden><div class=\"sk-item\"><div class=\"sk-estimator sk-toggleable\"><input class=\"sk-toggleable__control sk-hidden--visually\" id=\"sk-estimator-id-1\" type=\"checkbox\" checked><label for=\"sk-estimator-id-1\" class=\"sk-toggleable__label sk-toggleable__label-arrow\">RandomForestClassifier</label><div class=\"sk-toggleable__content\"><pre>RandomForestClassifier(bootstrap=True, ccp_alpha=0.0, class_weight=None,\n",
       "                       criterion=&#x27;gini&#x27;, max_depth=None, max_features=&#x27;sqrt&#x27;,\n",
       "                       max_leaf_nodes=None, max_samples=None,\n",
       "                       min_impurity_decrease=0.0, min_samples_leaf=1,\n",
       "                       min_samples_split=2, min_weight_fraction_leaf=0.0,\n",
       "                       n_estimators=100, n_jobs=-1, oob_score=False,\n",
       "                       random_state=3590, verbose=0, warm_start=False)</pre></div></div></div></div></div>"
      ],
      "text/plain": [
       "RandomForestClassifier(bootstrap=True, ccp_alpha=0.0, class_weight=None,\n",
       "                       criterion='gini', max_depth=None, max_features='sqrt',\n",
       "                       max_leaf_nodes=None, max_samples=None,\n",
       "                       min_impurity_decrease=0.0, min_samples_leaf=1,\n",
       "                       min_samples_split=2, min_weight_fraction_leaf=0.0,\n",
       "                       n_estimators=100, n_jobs=-1, oob_score=False,\n",
       "                       random_state=3590, verbose=0, warm_start=False)"
      ]
     },
     "execution_count": 36,
     "metadata": {},
     "output_type": "execute_result"
    }
   ],
   "source": [
    "rf_tm"
   ]
  },
  {
   "cell_type": "code",
   "execution_count": 37,
   "id": "710a0c96-2076-41d0-bea4-4e162971d8d4",
   "metadata": {},
   "outputs": [
    {
     "data": {
      "text/html": [],
      "text/plain": [
       "<IPython.core.display.HTML object>"
      ]
     },
     "metadata": {},
     "output_type": "display_data"
    },
    {
     "data": {
      "text/html": [
       "<style type=\"text/css\">\n",
       "#T_1b9b7_row10_col0, #T_1b9b7_row10_col1, #T_1b9b7_row10_col2, #T_1b9b7_row10_col3, #T_1b9b7_row10_col4, #T_1b9b7_row10_col5, #T_1b9b7_row10_col6 {\n",
       "  background: yellow;\n",
       "}\n",
       "</style>\n",
       "<table id=\"T_1b9b7\">\n",
       "  <thead>\n",
       "    <tr>\n",
       "      <th class=\"blank level0\" >&nbsp;</th>\n",
       "      <th id=\"T_1b9b7_level0_col0\" class=\"col_heading level0 col0\" >Accuracy</th>\n",
       "      <th id=\"T_1b9b7_level0_col1\" class=\"col_heading level0 col1\" >AUC</th>\n",
       "      <th id=\"T_1b9b7_level0_col2\" class=\"col_heading level0 col2\" >Recall</th>\n",
       "      <th id=\"T_1b9b7_level0_col3\" class=\"col_heading level0 col3\" >Prec.</th>\n",
       "      <th id=\"T_1b9b7_level0_col4\" class=\"col_heading level0 col4\" >F1</th>\n",
       "      <th id=\"T_1b9b7_level0_col5\" class=\"col_heading level0 col5\" >Kappa</th>\n",
       "      <th id=\"T_1b9b7_level0_col6\" class=\"col_heading level0 col6\" >MCC</th>\n",
       "    </tr>\n",
       "    <tr>\n",
       "      <th class=\"index_name level0\" >Fold</th>\n",
       "      <th class=\"blank col0\" >&nbsp;</th>\n",
       "      <th class=\"blank col1\" >&nbsp;</th>\n",
       "      <th class=\"blank col2\" >&nbsp;</th>\n",
       "      <th class=\"blank col3\" >&nbsp;</th>\n",
       "      <th class=\"blank col4\" >&nbsp;</th>\n",
       "      <th class=\"blank col5\" >&nbsp;</th>\n",
       "      <th class=\"blank col6\" >&nbsp;</th>\n",
       "    </tr>\n",
       "  </thead>\n",
       "  <tbody>\n",
       "    <tr>\n",
       "      <th id=\"T_1b9b7_level0_row0\" class=\"row_heading level0 row0\" >0</th>\n",
       "      <td id=\"T_1b9b7_row0_col0\" class=\"data row0 col0\" >0.7113</td>\n",
       "      <td id=\"T_1b9b7_row0_col1\" class=\"data row0 col1\" >0.6695</td>\n",
       "      <td id=\"T_1b9b7_row0_col2\" class=\"data row0 col2\" >0.4000</td>\n",
       "      <td id=\"T_1b9b7_row0_col3\" class=\"data row0 col3\" >0.3333</td>\n",
       "      <td id=\"T_1b9b7_row0_col4\" class=\"data row0 col4\" >0.3636</td>\n",
       "      <td id=\"T_1b9b7_row0_col5\" class=\"data row0 col5\" >0.1790</td>\n",
       "      <td id=\"T_1b9b7_row0_col6\" class=\"data row0 col6\" >0.1802</td>\n",
       "    </tr>\n",
       "    <tr>\n",
       "      <th id=\"T_1b9b7_level0_row1\" class=\"row_heading level0 row1\" >1</th>\n",
       "      <td id=\"T_1b9b7_row1_col0\" class=\"data row1 col0\" >0.7835</td>\n",
       "      <td id=\"T_1b9b7_row1_col1\" class=\"data row1 col1\" >0.6936</td>\n",
       "      <td id=\"T_1b9b7_row1_col2\" class=\"data row1 col2\" >0.3810</td>\n",
       "      <td id=\"T_1b9b7_row1_col3\" class=\"data row1 col3\" >0.5000</td>\n",
       "      <td id=\"T_1b9b7_row1_col4\" class=\"data row1 col4\" >0.4324</td>\n",
       "      <td id=\"T_1b9b7_row1_col5\" class=\"data row1 col5\" >0.3017</td>\n",
       "      <td id=\"T_1b9b7_row1_col6\" class=\"data row1 col6\" >0.3059</td>\n",
       "    </tr>\n",
       "    <tr>\n",
       "      <th id=\"T_1b9b7_level0_row2\" class=\"row_heading level0 row2\" >2</th>\n",
       "      <td id=\"T_1b9b7_row2_col0\" class=\"data row2 col0\" >0.8351</td>\n",
       "      <td id=\"T_1b9b7_row2_col1\" class=\"data row2 col1\" >0.7888</td>\n",
       "      <td id=\"T_1b9b7_row2_col2\" class=\"data row2 col2\" >0.4762</td>\n",
       "      <td id=\"T_1b9b7_row2_col3\" class=\"data row2 col3\" >0.6667</td>\n",
       "      <td id=\"T_1b9b7_row2_col4\" class=\"data row2 col4\" >0.5556</td>\n",
       "      <td id=\"T_1b9b7_row2_col5\" class=\"data row2 col5\" >0.4577</td>\n",
       "      <td id=\"T_1b9b7_row2_col6\" class=\"data row2 col6\" >0.4675</td>\n",
       "    </tr>\n",
       "    <tr>\n",
       "      <th id=\"T_1b9b7_level0_row3\" class=\"row_heading level0 row3\" >3</th>\n",
       "      <td id=\"T_1b9b7_row3_col0\" class=\"data row3 col0\" >0.7629</td>\n",
       "      <td id=\"T_1b9b7_row3_col1\" class=\"data row3 col1\" >0.7018</td>\n",
       "      <td id=\"T_1b9b7_row3_col2\" class=\"data row3 col2\" >0.4762</td>\n",
       "      <td id=\"T_1b9b7_row3_col3\" class=\"data row3 col3\" >0.4545</td>\n",
       "      <td id=\"T_1b9b7_row3_col4\" class=\"data row3 col4\" >0.4651</td>\n",
       "      <td id=\"T_1b9b7_row3_col5\" class=\"data row3 col5\" >0.3129</td>\n",
       "      <td id=\"T_1b9b7_row3_col6\" class=\"data row3 col6\" >0.3130</td>\n",
       "    </tr>\n",
       "    <tr>\n",
       "      <th id=\"T_1b9b7_level0_row4\" class=\"row_heading level0 row4\" >4</th>\n",
       "      <td id=\"T_1b9b7_row4_col0\" class=\"data row4 col0\" >0.7423</td>\n",
       "      <td id=\"T_1b9b7_row4_col1\" class=\"data row4 col1\" >0.7713</td>\n",
       "      <td id=\"T_1b9b7_row4_col2\" class=\"data row4 col2\" >0.3810</td>\n",
       "      <td id=\"T_1b9b7_row4_col3\" class=\"data row4 col3\" >0.4000</td>\n",
       "      <td id=\"T_1b9b7_row4_col4\" class=\"data row4 col4\" >0.3902</td>\n",
       "      <td id=\"T_1b9b7_row4_col5\" class=\"data row4 col5\" >0.2270</td>\n",
       "      <td id=\"T_1b9b7_row4_col6\" class=\"data row4 col6\" >0.2271</td>\n",
       "    </tr>\n",
       "    <tr>\n",
       "      <th id=\"T_1b9b7_level0_row5\" class=\"row_heading level0 row5\" >5</th>\n",
       "      <td id=\"T_1b9b7_row5_col0\" class=\"data row5 col0\" >0.7526</td>\n",
       "      <td id=\"T_1b9b7_row5_col1\" class=\"data row5 col1\" >0.7437</td>\n",
       "      <td id=\"T_1b9b7_row5_col2\" class=\"data row5 col2\" >0.4286</td>\n",
       "      <td id=\"T_1b9b7_row5_col3\" class=\"data row5 col3\" >0.4286</td>\n",
       "      <td id=\"T_1b9b7_row5_col4\" class=\"data row5 col4\" >0.4286</td>\n",
       "      <td id=\"T_1b9b7_row5_col5\" class=\"data row5 col5\" >0.2707</td>\n",
       "      <td id=\"T_1b9b7_row5_col6\" class=\"data row5 col6\" >0.2707</td>\n",
       "    </tr>\n",
       "    <tr>\n",
       "      <th id=\"T_1b9b7_level0_row6\" class=\"row_heading level0 row6\" >6</th>\n",
       "      <td id=\"T_1b9b7_row6_col0\" class=\"data row6 col0\" >0.7629</td>\n",
       "      <td id=\"T_1b9b7_row6_col1\" class=\"data row6 col1\" >0.7575</td>\n",
       "      <td id=\"T_1b9b7_row6_col2\" class=\"data row6 col2\" >0.2381</td>\n",
       "      <td id=\"T_1b9b7_row6_col3\" class=\"data row6 col3\" >0.4167</td>\n",
       "      <td id=\"T_1b9b7_row6_col4\" class=\"data row6 col4\" >0.3030</td>\n",
       "      <td id=\"T_1b9b7_row6_col5\" class=\"data row6 col5\" >0.1728</td>\n",
       "      <td id=\"T_1b9b7_row6_col6\" class=\"data row6 col6\" >0.1826</td>\n",
       "    </tr>\n",
       "    <tr>\n",
       "      <th id=\"T_1b9b7_level0_row7\" class=\"row_heading level0 row7\" >7</th>\n",
       "      <td id=\"T_1b9b7_row7_col0\" class=\"data row7 col0\" >0.7708</td>\n",
       "      <td id=\"T_1b9b7_row7_col1\" class=\"data row7 col1\" >0.7941</td>\n",
       "      <td id=\"T_1b9b7_row7_col2\" class=\"data row7 col2\" >0.4000</td>\n",
       "      <td id=\"T_1b9b7_row7_col3\" class=\"data row7 col3\" >0.4444</td>\n",
       "      <td id=\"T_1b9b7_row7_col4\" class=\"data row7 col4\" >0.4211</td>\n",
       "      <td id=\"T_1b9b7_row7_col5\" class=\"data row7 col5\" >0.2787</td>\n",
       "      <td id=\"T_1b9b7_row7_col6\" class=\"data row7 col6\" >0.2793</td>\n",
       "    </tr>\n",
       "    <tr>\n",
       "      <th id=\"T_1b9b7_level0_row8\" class=\"row_heading level0 row8\" >8</th>\n",
       "      <td id=\"T_1b9b7_row8_col0\" class=\"data row8 col0\" >0.7917</td>\n",
       "      <td id=\"T_1b9b7_row8_col1\" class=\"data row8 col1\" >0.7309</td>\n",
       "      <td id=\"T_1b9b7_row8_col2\" class=\"data row8 col2\" >0.3500</td>\n",
       "      <td id=\"T_1b9b7_row8_col3\" class=\"data row8 col3\" >0.5000</td>\n",
       "      <td id=\"T_1b9b7_row8_col4\" class=\"data row8 col4\" >0.4118</td>\n",
       "      <td id=\"T_1b9b7_row8_col5\" class=\"data row8 col5\" >0.2899</td>\n",
       "      <td id=\"T_1b9b7_row8_col6\" class=\"data row8 col6\" >0.2968</td>\n",
       "    </tr>\n",
       "    <tr>\n",
       "      <th id=\"T_1b9b7_level0_row9\" class=\"row_heading level0 row9\" >9</th>\n",
       "      <td id=\"T_1b9b7_row9_col0\" class=\"data row9 col0\" >0.6875</td>\n",
       "      <td id=\"T_1b9b7_row9_col1\" class=\"data row9 col1\" >0.6362</td>\n",
       "      <td id=\"T_1b9b7_row9_col2\" class=\"data row9 col2\" >0.4000</td>\n",
       "      <td id=\"T_1b9b7_row9_col3\" class=\"data row9 col3\" >0.3077</td>\n",
       "      <td id=\"T_1b9b7_row9_col4\" class=\"data row9 col4\" >0.3478</td>\n",
       "      <td id=\"T_1b9b7_row9_col5\" class=\"data row9 col5\" >0.1469</td>\n",
       "      <td id=\"T_1b9b7_row9_col6\" class=\"data row9 col6\" >0.1491</td>\n",
       "    </tr>\n",
       "    <tr>\n",
       "      <th id=\"T_1b9b7_level0_row10\" class=\"row_heading level0 row10\" >Mean</th>\n",
       "      <td id=\"T_1b9b7_row10_col0\" class=\"data row10 col0\" >0.7601</td>\n",
       "      <td id=\"T_1b9b7_row10_col1\" class=\"data row10 col1\" >0.7287</td>\n",
       "      <td id=\"T_1b9b7_row10_col2\" class=\"data row10 col2\" >0.3931</td>\n",
       "      <td id=\"T_1b9b7_row10_col3\" class=\"data row10 col3\" >0.4452</td>\n",
       "      <td id=\"T_1b9b7_row10_col4\" class=\"data row10 col4\" >0.4119</td>\n",
       "      <td id=\"T_1b9b7_row10_col5\" class=\"data row10 col5\" >0.2637</td>\n",
       "      <td id=\"T_1b9b7_row10_col6\" class=\"data row10 col6\" >0.2672</td>\n",
       "    </tr>\n",
       "    <tr>\n",
       "      <th id=\"T_1b9b7_level0_row11\" class=\"row_heading level0 row11\" >Std</th>\n",
       "      <td id=\"T_1b9b7_row11_col0\" class=\"data row11 col0\" >0.0391</td>\n",
       "      <td id=\"T_1b9b7_row11_col1\" class=\"data row11 col1\" >0.0498</td>\n",
       "      <td id=\"T_1b9b7_row11_col2\" class=\"data row11 col2\" >0.0643</td>\n",
       "      <td id=\"T_1b9b7_row11_col3\" class=\"data row11 col3\" >0.0947</td>\n",
       "      <td id=\"T_1b9b7_row11_col4\" class=\"data row11 col4\" >0.0656</td>\n",
       "      <td id=\"T_1b9b7_row11_col5\" class=\"data row11 col5\" >0.0854</td>\n",
       "      <td id=\"T_1b9b7_row11_col6\" class=\"data row11 col6\" >0.0866</td>\n",
       "    </tr>\n",
       "  </tbody>\n",
       "</table>\n"
      ],
      "text/plain": [
       "<pandas.io.formats.style.Styler at 0x1768d9160>"
      ]
     },
     "metadata": {},
     "output_type": "display_data"
    },
    {
     "data": {
      "text/html": [],
      "text/plain": [
       "<IPython.core.display.HTML object>"
      ]
     },
     "metadata": {},
     "output_type": "display_data"
    },
    {
     "name": "stdout",
     "output_type": "stream",
     "text": [
      "Fitting 10 folds for each of 10 candidates, totalling 100 fits\n",
      "Original model was better than the tuned model, hence it will be returned. NOTE: The display metrics are for the tuned model (not the original one).\n"
     ]
    }
   ],
   "source": [
    "xg_tm = tune_model(top5[2])"
   ]
  },
  {
   "cell_type": "code",
   "execution_count": 38,
   "id": "257870b5-276d-48a5-98e3-3610f5c4b521",
   "metadata": {},
   "outputs": [
    {
     "data": {
      "text/html": [
       "<style>#sk-container-id-2 {color: black;background-color: white;}#sk-container-id-2 pre{padding: 0;}#sk-container-id-2 div.sk-toggleable {background-color: white;}#sk-container-id-2 label.sk-toggleable__label {cursor: pointer;display: block;width: 100%;margin-bottom: 0;padding: 0.3em;box-sizing: border-box;text-align: center;}#sk-container-id-2 label.sk-toggleable__label-arrow:before {content: \"▸\";float: left;margin-right: 0.25em;color: #696969;}#sk-container-id-2 label.sk-toggleable__label-arrow:hover:before {color: black;}#sk-container-id-2 div.sk-estimator:hover label.sk-toggleable__label-arrow:before {color: black;}#sk-container-id-2 div.sk-toggleable__content {max-height: 0;max-width: 0;overflow: hidden;text-align: left;background-color: #f0f8ff;}#sk-container-id-2 div.sk-toggleable__content pre {margin: 0.2em;color: black;border-radius: 0.25em;background-color: #f0f8ff;}#sk-container-id-2 input.sk-toggleable__control:checked~div.sk-toggleable__content {max-height: 200px;max-width: 100%;overflow: auto;}#sk-container-id-2 input.sk-toggleable__control:checked~label.sk-toggleable__label-arrow:before {content: \"▾\";}#sk-container-id-2 div.sk-estimator input.sk-toggleable__control:checked~label.sk-toggleable__label {background-color: #d4ebff;}#sk-container-id-2 div.sk-label input.sk-toggleable__control:checked~label.sk-toggleable__label {background-color: #d4ebff;}#sk-container-id-2 input.sk-hidden--visually {border: 0;clip: rect(1px 1px 1px 1px);clip: rect(1px, 1px, 1px, 1px);height: 1px;margin: -1px;overflow: hidden;padding: 0;position: absolute;width: 1px;}#sk-container-id-2 div.sk-estimator {font-family: monospace;background-color: #f0f8ff;border: 1px dotted black;border-radius: 0.25em;box-sizing: border-box;margin-bottom: 0.5em;}#sk-container-id-2 div.sk-estimator:hover {background-color: #d4ebff;}#sk-container-id-2 div.sk-parallel-item::after {content: \"\";width: 100%;border-bottom: 1px solid gray;flex-grow: 1;}#sk-container-id-2 div.sk-label:hover label.sk-toggleable__label {background-color: #d4ebff;}#sk-container-id-2 div.sk-serial::before {content: \"\";position: absolute;border-left: 1px solid gray;box-sizing: border-box;top: 0;bottom: 0;left: 50%;z-index: 0;}#sk-container-id-2 div.sk-serial {display: flex;flex-direction: column;align-items: center;background-color: white;padding-right: 0.2em;padding-left: 0.2em;position: relative;}#sk-container-id-2 div.sk-item {position: relative;z-index: 1;}#sk-container-id-2 div.sk-parallel {display: flex;align-items: stretch;justify-content: center;background-color: white;position: relative;}#sk-container-id-2 div.sk-item::before, #sk-container-id-2 div.sk-parallel-item::before {content: \"\";position: absolute;border-left: 1px solid gray;box-sizing: border-box;top: 0;bottom: 0;left: 50%;z-index: -1;}#sk-container-id-2 div.sk-parallel-item {display: flex;flex-direction: column;z-index: 1;position: relative;background-color: white;}#sk-container-id-2 div.sk-parallel-item:first-child::after {align-self: flex-end;width: 50%;}#sk-container-id-2 div.sk-parallel-item:last-child::after {align-self: flex-start;width: 50%;}#sk-container-id-2 div.sk-parallel-item:only-child::after {width: 0;}#sk-container-id-2 div.sk-dashed-wrapped {border: 1px dashed gray;margin: 0 0.4em 0.5em 0.4em;box-sizing: border-box;padding-bottom: 0.4em;background-color: white;}#sk-container-id-2 div.sk-label label {font-family: monospace;font-weight: bold;display: inline-block;line-height: 1.2em;}#sk-container-id-2 div.sk-label-container {text-align: center;}#sk-container-id-2 div.sk-container {/* jupyter's `normalize.less` sets `[hidden] { display: none; }` but bootstrap.min.css set `[hidden] { display: none !important; }` so we also need the `!important` here to be able to override the default hidden behavior on the sphinx rendered scikit-learn.org. See: https://github.com/scikit-learn/scikit-learn/issues/21755 */display: inline-block !important;position: relative;}#sk-container-id-2 div.sk-text-repr-fallback {display: none;}</style><div id=\"sk-container-id-2\" class=\"sk-top-container\"><div class=\"sk-text-repr-fallback\"><pre>XGBClassifier(base_score=None, booster=&#x27;gbtree&#x27;, callbacks=None,\n",
       "              colsample_bylevel=None, colsample_bynode=None,\n",
       "              colsample_bytree=None, early_stopping_rounds=None,\n",
       "              enable_categorical=False, eval_metric=None, feature_types=None,\n",
       "              gamma=None, gpu_id=None, grow_policy=None, importance_type=None,\n",
       "              interaction_constraints=None, learning_rate=None, max_bin=None,\n",
       "              max_cat_threshold=None, max_cat_to_onehot=None,\n",
       "              max_delta_step=None, max_depth=None, max_leaves=None,\n",
       "              min_child_weight=None, missing=nan, monotone_constraints=None,\n",
       "              n_estimators=100, n_jobs=-1, num_parallel_tree=None,\n",
       "              objective=&#x27;binary:logistic&#x27;, predictor=None, ...)</pre><b>In a Jupyter environment, please rerun this cell to show the HTML representation or trust the notebook. <br />On GitHub, the HTML representation is unable to render, please try loading this page with nbviewer.org.</b></div><div class=\"sk-container\" hidden><div class=\"sk-item\"><div class=\"sk-estimator sk-toggleable\"><input class=\"sk-toggleable__control sk-hidden--visually\" id=\"sk-estimator-id-2\" type=\"checkbox\" checked><label for=\"sk-estimator-id-2\" class=\"sk-toggleable__label sk-toggleable__label-arrow\">XGBClassifier</label><div class=\"sk-toggleable__content\"><pre>XGBClassifier(base_score=None, booster=&#x27;gbtree&#x27;, callbacks=None,\n",
       "              colsample_bylevel=None, colsample_bynode=None,\n",
       "              colsample_bytree=None, early_stopping_rounds=None,\n",
       "              enable_categorical=False, eval_metric=None, feature_types=None,\n",
       "              gamma=None, gpu_id=None, grow_policy=None, importance_type=None,\n",
       "              interaction_constraints=None, learning_rate=None, max_bin=None,\n",
       "              max_cat_threshold=None, max_cat_to_onehot=None,\n",
       "              max_delta_step=None, max_depth=None, max_leaves=None,\n",
       "              min_child_weight=None, missing=nan, monotone_constraints=None,\n",
       "              n_estimators=100, n_jobs=-1, num_parallel_tree=None,\n",
       "              objective=&#x27;binary:logistic&#x27;, predictor=None, ...)</pre></div></div></div></div></div>"
      ],
      "text/plain": [
       "XGBClassifier(base_score=None, booster='gbtree', callbacks=None,\n",
       "              colsample_bylevel=None, colsample_bynode=None,\n",
       "              colsample_bytree=None, early_stopping_rounds=None,\n",
       "              enable_categorical=False, eval_metric=None, feature_types=None,\n",
       "              gamma=None, gpu_id=None, grow_policy=None, importance_type=None,\n",
       "              interaction_constraints=None, learning_rate=None, max_bin=None,\n",
       "              max_cat_threshold=None, max_cat_to_onehot=None,\n",
       "              max_delta_step=None, max_depth=None, max_leaves=None,\n",
       "              min_child_weight=None, missing=nan, monotone_constraints=None,\n",
       "              n_estimators=100, n_jobs=-1, num_parallel_tree=None,\n",
       "              objective='binary:logistic', predictor=None, ...)"
      ]
     },
     "execution_count": 38,
     "metadata": {},
     "output_type": "execute_result"
    }
   ],
   "source": [
    "xg_tm"
   ]
  },
  {
   "cell_type": "code",
   "execution_count": null,
   "id": "d04fd6e8-8741-44c7-a52d-4acc77af02d4",
   "metadata": {},
   "outputs": [],
   "source": []
  },
  {
   "cell_type": "code",
   "execution_count": null,
   "id": "fa8a6e1c-25fa-4dae-835a-1a73b1833357",
   "metadata": {},
   "outputs": [],
   "source": [
    "help(tune_model)"
   ]
  },
  {
   "cell_type": "code",
   "execution_count": null,
   "id": "58e20701-51fc-4716-b4fa-6e3bd22f494e",
   "metadata": {},
   "outputs": [],
   "source": []
  },
  {
   "cell_type": "markdown",
   "id": "4048155a-a907-4574-8046-6a92bd24203d",
   "metadata": {},
   "source": [
    "## 6. 앙살블 모델 처리하기 "
   ]
  },
  {
   "cell_type": "code",
   "execution_count": null,
   "id": "dc405752-84ec-4b58-be20-8809fee91fc8",
   "metadata": {},
   "outputs": [],
   "source": []
  },
  {
   "cell_type": "code",
   "execution_count": 62,
   "id": "7b246978-d7a1-4953-95bd-7959970f5624",
   "metadata": {},
   "outputs": [
    {
     "data": {
      "text/html": [],
      "text/plain": [
       "<IPython.core.display.HTML object>"
      ]
     },
     "metadata": {},
     "output_type": "display_data"
    },
    {
     "data": {
      "text/html": [
       "<style type=\"text/css\">\n",
       "#T_fe1c5_row10_col0, #T_fe1c5_row10_col1, #T_fe1c5_row10_col2, #T_fe1c5_row10_col3, #T_fe1c5_row10_col4, #T_fe1c5_row10_col5, #T_fe1c5_row10_col6 {\n",
       "  background: yellow;\n",
       "}\n",
       "</style>\n",
       "<table id=\"T_fe1c5\">\n",
       "  <thead>\n",
       "    <tr>\n",
       "      <th class=\"blank level0\" >&nbsp;</th>\n",
       "      <th id=\"T_fe1c5_level0_col0\" class=\"col_heading level0 col0\" >Accuracy</th>\n",
       "      <th id=\"T_fe1c5_level0_col1\" class=\"col_heading level0 col1\" >AUC</th>\n",
       "      <th id=\"T_fe1c5_level0_col2\" class=\"col_heading level0 col2\" >Recall</th>\n",
       "      <th id=\"T_fe1c5_level0_col3\" class=\"col_heading level0 col3\" >Prec.</th>\n",
       "      <th id=\"T_fe1c5_level0_col4\" class=\"col_heading level0 col4\" >F1</th>\n",
       "      <th id=\"T_fe1c5_level0_col5\" class=\"col_heading level0 col5\" >Kappa</th>\n",
       "      <th id=\"T_fe1c5_level0_col6\" class=\"col_heading level0 col6\" >MCC</th>\n",
       "    </tr>\n",
       "    <tr>\n",
       "      <th class=\"index_name level0\" >Fold</th>\n",
       "      <th class=\"blank col0\" >&nbsp;</th>\n",
       "      <th class=\"blank col1\" >&nbsp;</th>\n",
       "      <th class=\"blank col2\" >&nbsp;</th>\n",
       "      <th class=\"blank col3\" >&nbsp;</th>\n",
       "      <th class=\"blank col4\" >&nbsp;</th>\n",
       "      <th class=\"blank col5\" >&nbsp;</th>\n",
       "      <th class=\"blank col6\" >&nbsp;</th>\n",
       "    </tr>\n",
       "  </thead>\n",
       "  <tbody>\n",
       "    <tr>\n",
       "      <th id=\"T_fe1c5_level0_row0\" class=\"row_heading level0 row0\" >0</th>\n",
       "      <td id=\"T_fe1c5_row0_col0\" class=\"data row0 col0\" >0.8144</td>\n",
       "      <td id=\"T_fe1c5_row0_col1\" class=\"data row0 col1\" >0.6740</td>\n",
       "      <td id=\"T_fe1c5_row0_col2\" class=\"data row0 col2\" >0.3000</td>\n",
       "      <td id=\"T_fe1c5_row0_col3\" class=\"data row0 col3\" >0.6000</td>\n",
       "      <td id=\"T_fe1c5_row0_col4\" class=\"data row0 col4\" >0.4000</td>\n",
       "      <td id=\"T_fe1c5_row0_col5\" class=\"data row0 col5\" >0.3044</td>\n",
       "      <td id=\"T_fe1c5_row0_col6\" class=\"data row0 col6\" >0.3300</td>\n",
       "    </tr>\n",
       "    <tr>\n",
       "      <th id=\"T_fe1c5_level0_row1\" class=\"row_heading level0 row1\" >1</th>\n",
       "      <td id=\"T_fe1c5_row1_col0\" class=\"data row1 col0\" >0.7835</td>\n",
       "      <td id=\"T_fe1c5_row1_col1\" class=\"data row1 col1\" >0.6980</td>\n",
       "      <td id=\"T_fe1c5_row1_col2\" class=\"data row1 col2\" >0.0000</td>\n",
       "      <td id=\"T_fe1c5_row1_col3\" class=\"data row1 col3\" >0.0000</td>\n",
       "      <td id=\"T_fe1c5_row1_col4\" class=\"data row1 col4\" >0.0000</td>\n",
       "      <td id=\"T_fe1c5_row1_col5\" class=\"data row1 col5\" >0.0000</td>\n",
       "      <td id=\"T_fe1c5_row1_col6\" class=\"data row1 col6\" >0.0000</td>\n",
       "    </tr>\n",
       "    <tr>\n",
       "      <th id=\"T_fe1c5_level0_row2\" class=\"row_heading level0 row2\" >2</th>\n",
       "      <td id=\"T_fe1c5_row2_col0\" class=\"data row2 col0\" >0.8144</td>\n",
       "      <td id=\"T_fe1c5_row2_col1\" class=\"data row2 col1\" >0.8296</td>\n",
       "      <td id=\"T_fe1c5_row2_col2\" class=\"data row2 col2\" >0.1905</td>\n",
       "      <td id=\"T_fe1c5_row2_col3\" class=\"data row2 col3\" >0.8000</td>\n",
       "      <td id=\"T_fe1c5_row2_col4\" class=\"data row2 col4\" >0.3077</td>\n",
       "      <td id=\"T_fe1c5_row2_col5\" class=\"data row2 col5\" >0.2448</td>\n",
       "      <td id=\"T_fe1c5_row2_col6\" class=\"data row2 col6\" >0.3303</td>\n",
       "    </tr>\n",
       "    <tr>\n",
       "      <th id=\"T_fe1c5_level0_row3\" class=\"row_heading level0 row3\" >3</th>\n",
       "      <td id=\"T_fe1c5_row3_col0\" class=\"data row3 col0\" >0.7938</td>\n",
       "      <td id=\"T_fe1c5_row3_col1\" class=\"data row3 col1\" >0.7011</td>\n",
       "      <td id=\"T_fe1c5_row3_col2\" class=\"data row3 col2\" >0.1429</td>\n",
       "      <td id=\"T_fe1c5_row3_col3\" class=\"data row3 col3\" >0.6000</td>\n",
       "      <td id=\"T_fe1c5_row3_col4\" class=\"data row3 col4\" >0.2308</td>\n",
       "      <td id=\"T_fe1c5_row3_col5\" class=\"data row3 col5\" >0.1609</td>\n",
       "      <td id=\"T_fe1c5_row3_col6\" class=\"data row3 col6\" >0.2171</td>\n",
       "    </tr>\n",
       "    <tr>\n",
       "      <th id=\"T_fe1c5_level0_row4\" class=\"row_heading level0 row4\" >4</th>\n",
       "      <td id=\"T_fe1c5_row4_col0\" class=\"data row4 col0\" >0.8247</td>\n",
       "      <td id=\"T_fe1c5_row4_col1\" class=\"data row4 col1\" >0.8051</td>\n",
       "      <td id=\"T_fe1c5_row4_col2\" class=\"data row4 col2\" >0.2857</td>\n",
       "      <td id=\"T_fe1c5_row4_col3\" class=\"data row4 col3\" >0.7500</td>\n",
       "      <td id=\"T_fe1c5_row4_col4\" class=\"data row4 col4\" >0.4138</td>\n",
       "      <td id=\"T_fe1c5_row4_col5\" class=\"data row4 col5\" >0.3343</td>\n",
       "      <td id=\"T_fe1c5_row4_col6\" class=\"data row4 col6\" >0.3884</td>\n",
       "    </tr>\n",
       "    <tr>\n",
       "      <th id=\"T_fe1c5_level0_row5\" class=\"row_heading level0 row5\" >5</th>\n",
       "      <td id=\"T_fe1c5_row5_col0\" class=\"data row5 col0\" >0.8247</td>\n",
       "      <td id=\"T_fe1c5_row5_col1\" class=\"data row5 col1\" >0.7694</td>\n",
       "      <td id=\"T_fe1c5_row5_col2\" class=\"data row5 col2\" >0.2857</td>\n",
       "      <td id=\"T_fe1c5_row5_col3\" class=\"data row5 col3\" >0.7500</td>\n",
       "      <td id=\"T_fe1c5_row5_col4\" class=\"data row5 col4\" >0.4138</td>\n",
       "      <td id=\"T_fe1c5_row5_col5\" class=\"data row5 col5\" >0.3343</td>\n",
       "      <td id=\"T_fe1c5_row5_col6\" class=\"data row5 col6\" >0.3884</td>\n",
       "    </tr>\n",
       "    <tr>\n",
       "      <th id=\"T_fe1c5_level0_row6\" class=\"row_heading level0 row6\" >6</th>\n",
       "      <td id=\"T_fe1c5_row6_col0\" class=\"data row6 col0\" >0.7938</td>\n",
       "      <td id=\"T_fe1c5_row6_col1\" class=\"data row6 col1\" >0.7794</td>\n",
       "      <td id=\"T_fe1c5_row6_col2\" class=\"data row6 col2\" >0.0952</td>\n",
       "      <td id=\"T_fe1c5_row6_col3\" class=\"data row6 col3\" >0.6667</td>\n",
       "      <td id=\"T_fe1c5_row6_col4\" class=\"data row6 col4\" >0.1667</td>\n",
       "      <td id=\"T_fe1c5_row6_col5\" class=\"data row6 col5\" >0.1190</td>\n",
       "      <td id=\"T_fe1c5_row6_col6\" class=\"data row6 col6\" >0.1953</td>\n",
       "    </tr>\n",
       "    <tr>\n",
       "      <th id=\"T_fe1c5_level0_row7\" class=\"row_heading level0 row7\" >7</th>\n",
       "      <td id=\"T_fe1c5_row7_col0\" class=\"data row7 col0\" >0.8542</td>\n",
       "      <td id=\"T_fe1c5_row7_col1\" class=\"data row7 col1\" >0.8046</td>\n",
       "      <td id=\"T_fe1c5_row7_col2\" class=\"data row7 col2\" >0.3000</td>\n",
       "      <td id=\"T_fe1c5_row7_col3\" class=\"data row7 col3\" >1.0000</td>\n",
       "      <td id=\"T_fe1c5_row7_col4\" class=\"data row7 col4\" >0.4615</td>\n",
       "      <td id=\"T_fe1c5_row7_col5\" class=\"data row7 col5\" >0.4043</td>\n",
       "      <td id=\"T_fe1c5_row7_col6\" class=\"data row7 col6\" >0.5033</td>\n",
       "    </tr>\n",
       "    <tr>\n",
       "      <th id=\"T_fe1c5_level0_row8\" class=\"row_heading level0 row8\" >8</th>\n",
       "      <td id=\"T_fe1c5_row8_col0\" class=\"data row8 col0\" >0.8021</td>\n",
       "      <td id=\"T_fe1c5_row8_col1\" class=\"data row8 col1\" >0.7375</td>\n",
       "      <td id=\"T_fe1c5_row8_col2\" class=\"data row8 col2\" >0.0500</td>\n",
       "      <td id=\"T_fe1c5_row8_col3\" class=\"data row8 col3\" >1.0000</td>\n",
       "      <td id=\"T_fe1c5_row8_col4\" class=\"data row8 col4\" >0.0952</td>\n",
       "      <td id=\"T_fe1c5_row8_col5\" class=\"data row8 col5\" >0.0769</td>\n",
       "      <td id=\"T_fe1c5_row8_col6\" class=\"data row8 col6\" >0.2000</td>\n",
       "    </tr>\n",
       "    <tr>\n",
       "      <th id=\"T_fe1c5_level0_row9\" class=\"row_heading level0 row9\" >9</th>\n",
       "      <td id=\"T_fe1c5_row9_col0\" class=\"data row9 col0\" >0.7708</td>\n",
       "      <td id=\"T_fe1c5_row9_col1\" class=\"data row9 col1\" >0.6796</td>\n",
       "      <td id=\"T_fe1c5_row9_col2\" class=\"data row9 col2\" >0.3500</td>\n",
       "      <td id=\"T_fe1c5_row9_col3\" class=\"data row9 col3\" >0.4375</td>\n",
       "      <td id=\"T_fe1c5_row9_col4\" class=\"data row9 col4\" >0.3889</td>\n",
       "      <td id=\"T_fe1c5_row9_col5\" class=\"data row9 col5\" >0.2500</td>\n",
       "      <td id=\"T_fe1c5_row9_col6\" class=\"data row9 col6\" >0.2524</td>\n",
       "    </tr>\n",
       "    <tr>\n",
       "      <th id=\"T_fe1c5_level0_row10\" class=\"row_heading level0 row10\" >Mean</th>\n",
       "      <td id=\"T_fe1c5_row10_col0\" class=\"data row10 col0\" >0.8077</td>\n",
       "      <td id=\"T_fe1c5_row10_col1\" class=\"data row10 col1\" >0.7478</td>\n",
       "      <td id=\"T_fe1c5_row10_col2\" class=\"data row10 col2\" >0.2000</td>\n",
       "      <td id=\"T_fe1c5_row10_col3\" class=\"data row10 col3\" >0.6604</td>\n",
       "      <td id=\"T_fe1c5_row10_col4\" class=\"data row10 col4\" >0.2878</td>\n",
       "      <td id=\"T_fe1c5_row10_col5\" class=\"data row10 col5\" >0.2229</td>\n",
       "      <td id=\"T_fe1c5_row10_col6\" class=\"data row10 col6\" >0.2805</td>\n",
       "    </tr>\n",
       "    <tr>\n",
       "      <th id=\"T_fe1c5_level0_row11\" class=\"row_heading level0 row11\" >Std</th>\n",
       "      <td id=\"T_fe1c5_row11_col0\" class=\"data row11 col0\" >0.0228</td>\n",
       "      <td id=\"T_fe1c5_row11_col1\" class=\"data row11 col1\" >0.0543</td>\n",
       "      <td id=\"T_fe1c5_row11_col2\" class=\"data row11 col2\" >0.1158</td>\n",
       "      <td id=\"T_fe1c5_row11_col3\" class=\"data row11 col3\" >0.2756</td>\n",
       "      <td id=\"T_fe1c5_row11_col4\" class=\"data row11 col4\" >0.1493</td>\n",
       "      <td id=\"T_fe1c5_row11_col5\" class=\"data row11 col5\" >0.1230</td>\n",
       "      <td id=\"T_fe1c5_row11_col6\" class=\"data row11 col6\" >0.1323</td>\n",
       "    </tr>\n",
       "  </tbody>\n",
       "</table>\n"
      ],
      "text/plain": [
       "<pandas.io.formats.style.Styler at 0x108200f70>"
      ]
     },
     "metadata": {},
     "output_type": "display_data"
    },
    {
     "data": {
      "text/html": [],
      "text/plain": [
       "<IPython.core.display.HTML object>"
      ]
     },
     "metadata": {},
     "output_type": "display_data"
    }
   ],
   "source": [
    "blender_tuned_top5 = blend_models(estimator_list=top5[:4])"
   ]
  },
  {
   "cell_type": "code",
   "execution_count": null,
   "id": "bb6248f4-dc6a-40b4-a7ab-a205e75a146b",
   "metadata": {},
   "outputs": [],
   "source": []
  },
  {
   "cell_type": "code",
   "execution_count": 45,
   "id": "4ca22f8e-59fb-4867-b94e-85f9e1a71924",
   "metadata": {},
   "outputs": [
    {
     "data": {
      "text/html": [
       "<style>#sk-container-id-4 {color: black;background-color: white;}#sk-container-id-4 pre{padding: 0;}#sk-container-id-4 div.sk-toggleable {background-color: white;}#sk-container-id-4 label.sk-toggleable__label {cursor: pointer;display: block;width: 100%;margin-bottom: 0;padding: 0.3em;box-sizing: border-box;text-align: center;}#sk-container-id-4 label.sk-toggleable__label-arrow:before {content: \"▸\";float: left;margin-right: 0.25em;color: #696969;}#sk-container-id-4 label.sk-toggleable__label-arrow:hover:before {color: black;}#sk-container-id-4 div.sk-estimator:hover label.sk-toggleable__label-arrow:before {color: black;}#sk-container-id-4 div.sk-toggleable__content {max-height: 0;max-width: 0;overflow: hidden;text-align: left;background-color: #f0f8ff;}#sk-container-id-4 div.sk-toggleable__content pre {margin: 0.2em;color: black;border-radius: 0.25em;background-color: #f0f8ff;}#sk-container-id-4 input.sk-toggleable__control:checked~div.sk-toggleable__content {max-height: 200px;max-width: 100%;overflow: auto;}#sk-container-id-4 input.sk-toggleable__control:checked~label.sk-toggleable__label-arrow:before {content: \"▾\";}#sk-container-id-4 div.sk-estimator input.sk-toggleable__control:checked~label.sk-toggleable__label {background-color: #d4ebff;}#sk-container-id-4 div.sk-label input.sk-toggleable__control:checked~label.sk-toggleable__label {background-color: #d4ebff;}#sk-container-id-4 input.sk-hidden--visually {border: 0;clip: rect(1px 1px 1px 1px);clip: rect(1px, 1px, 1px, 1px);height: 1px;margin: -1px;overflow: hidden;padding: 0;position: absolute;width: 1px;}#sk-container-id-4 div.sk-estimator {font-family: monospace;background-color: #f0f8ff;border: 1px dotted black;border-radius: 0.25em;box-sizing: border-box;margin-bottom: 0.5em;}#sk-container-id-4 div.sk-estimator:hover {background-color: #d4ebff;}#sk-container-id-4 div.sk-parallel-item::after {content: \"\";width: 100%;border-bottom: 1px solid gray;flex-grow: 1;}#sk-container-id-4 div.sk-label:hover label.sk-toggleable__label {background-color: #d4ebff;}#sk-container-id-4 div.sk-serial::before {content: \"\";position: absolute;border-left: 1px solid gray;box-sizing: border-box;top: 0;bottom: 0;left: 50%;z-index: 0;}#sk-container-id-4 div.sk-serial {display: flex;flex-direction: column;align-items: center;background-color: white;padding-right: 0.2em;padding-left: 0.2em;position: relative;}#sk-container-id-4 div.sk-item {position: relative;z-index: 1;}#sk-container-id-4 div.sk-parallel {display: flex;align-items: stretch;justify-content: center;background-color: white;position: relative;}#sk-container-id-4 div.sk-item::before, #sk-container-id-4 div.sk-parallel-item::before {content: \"\";position: absolute;border-left: 1px solid gray;box-sizing: border-box;top: 0;bottom: 0;left: 50%;z-index: -1;}#sk-container-id-4 div.sk-parallel-item {display: flex;flex-direction: column;z-index: 1;position: relative;background-color: white;}#sk-container-id-4 div.sk-parallel-item:first-child::after {align-self: flex-end;width: 50%;}#sk-container-id-4 div.sk-parallel-item:last-child::after {align-self: flex-start;width: 50%;}#sk-container-id-4 div.sk-parallel-item:only-child::after {width: 0;}#sk-container-id-4 div.sk-dashed-wrapped {border: 1px dashed gray;margin: 0 0.4em 0.5em 0.4em;box-sizing: border-box;padding-bottom: 0.4em;background-color: white;}#sk-container-id-4 div.sk-label label {font-family: monospace;font-weight: bold;display: inline-block;line-height: 1.2em;}#sk-container-id-4 div.sk-label-container {text-align: center;}#sk-container-id-4 div.sk-container {/* jupyter's `normalize.less` sets `[hidden] { display: none; }` but bootstrap.min.css set `[hidden] { display: none !important; }` so we also need the `!important` here to be able to override the default hidden behavior on the sphinx rendered scikit-learn.org. See: https://github.com/scikit-learn/scikit-learn/issues/21755 */display: inline-block !important;position: relative;}#sk-container-id-4 div.sk-text-repr-fallback {display: none;}</style><div id=\"sk-container-id-4\" class=\"sk-top-container\"><div class=\"sk-text-repr-fallback\"><pre>RandomForestClassifier(bootstrap=True, ccp_alpha=0.0, class_weight=None,\n",
       "                       criterion=&#x27;gini&#x27;, max_depth=None, max_features=&#x27;sqrt&#x27;,\n",
       "                       max_leaf_nodes=None, max_samples=None,\n",
       "                       min_impurity_decrease=0.0, min_samples_leaf=1,\n",
       "                       min_samples_split=2, min_weight_fraction_leaf=0.0,\n",
       "                       n_estimators=100, n_jobs=-1, oob_score=False,\n",
       "                       random_state=3590, verbose=0, warm_start=False)</pre><b>In a Jupyter environment, please rerun this cell to show the HTML representation or trust the notebook. <br />On GitHub, the HTML representation is unable to render, please try loading this page with nbviewer.org.</b></div><div class=\"sk-container\" hidden><div class=\"sk-item\"><div class=\"sk-estimator sk-toggleable\"><input class=\"sk-toggleable__control sk-hidden--visually\" id=\"sk-estimator-id-19\" type=\"checkbox\" checked><label for=\"sk-estimator-id-19\" class=\"sk-toggleable__label sk-toggleable__label-arrow\">RandomForestClassifier</label><div class=\"sk-toggleable__content\"><pre>RandomForestClassifier(bootstrap=True, ccp_alpha=0.0, class_weight=None,\n",
       "                       criterion=&#x27;gini&#x27;, max_depth=None, max_features=&#x27;sqrt&#x27;,\n",
       "                       max_leaf_nodes=None, max_samples=None,\n",
       "                       min_impurity_decrease=0.0, min_samples_leaf=1,\n",
       "                       min_samples_split=2, min_weight_fraction_leaf=0.0,\n",
       "                       n_estimators=100, n_jobs=-1, oob_score=False,\n",
       "                       random_state=3590, verbose=0, warm_start=False)</pre></div></div></div></div></div>"
      ],
      "text/plain": [
       "RandomForestClassifier(bootstrap=True, ccp_alpha=0.0, class_weight=None,\n",
       "                       criterion='gini', max_depth=None, max_features='sqrt',\n",
       "                       max_leaf_nodes=None, max_samples=None,\n",
       "                       min_impurity_decrease=0.0, min_samples_leaf=1,\n",
       "                       min_samples_split=2, min_weight_fraction_leaf=0.0,\n",
       "                       n_estimators=100, n_jobs=-1, oob_score=False,\n",
       "                       random_state=3590, verbose=0, warm_start=False)"
      ]
     },
     "execution_count": 45,
     "metadata": {},
     "output_type": "execute_result"
    }
   ],
   "source": [
    "top5[1]\n"
   ]
  },
  {
   "cell_type": "code",
   "execution_count": 63,
   "id": "10f03929-845e-45f7-9d79-ad3bbd6db683",
   "metadata": {},
   "outputs": [
    {
     "data": {
      "text/html": [],
      "text/plain": [
       "<IPython.core.display.HTML object>"
      ]
     },
     "metadata": {},
     "output_type": "display_data"
    },
    {
     "data": {
      "text/html": [
       "<style type=\"text/css\">\n",
       "#T_1b1d1_row10_col0, #T_1b1d1_row10_col1, #T_1b1d1_row10_col2, #T_1b1d1_row10_col3, #T_1b1d1_row10_col4, #T_1b1d1_row10_col5, #T_1b1d1_row10_col6 {\n",
       "  background: yellow;\n",
       "}\n",
       "</style>\n",
       "<table id=\"T_1b1d1\">\n",
       "  <thead>\n",
       "    <tr>\n",
       "      <th class=\"blank level0\" >&nbsp;</th>\n",
       "      <th id=\"T_1b1d1_level0_col0\" class=\"col_heading level0 col0\" >Accuracy</th>\n",
       "      <th id=\"T_1b1d1_level0_col1\" class=\"col_heading level0 col1\" >AUC</th>\n",
       "      <th id=\"T_1b1d1_level0_col2\" class=\"col_heading level0 col2\" >Recall</th>\n",
       "      <th id=\"T_1b1d1_level0_col3\" class=\"col_heading level0 col3\" >Prec.</th>\n",
       "      <th id=\"T_1b1d1_level0_col4\" class=\"col_heading level0 col4\" >F1</th>\n",
       "      <th id=\"T_1b1d1_level0_col5\" class=\"col_heading level0 col5\" >Kappa</th>\n",
       "      <th id=\"T_1b1d1_level0_col6\" class=\"col_heading level0 col6\" >MCC</th>\n",
       "    </tr>\n",
       "    <tr>\n",
       "      <th class=\"index_name level0\" >Fold</th>\n",
       "      <th class=\"blank col0\" >&nbsp;</th>\n",
       "      <th class=\"blank col1\" >&nbsp;</th>\n",
       "      <th class=\"blank col2\" >&nbsp;</th>\n",
       "      <th class=\"blank col3\" >&nbsp;</th>\n",
       "      <th class=\"blank col4\" >&nbsp;</th>\n",
       "      <th class=\"blank col5\" >&nbsp;</th>\n",
       "      <th class=\"blank col6\" >&nbsp;</th>\n",
       "    </tr>\n",
       "  </thead>\n",
       "  <tbody>\n",
       "    <tr>\n",
       "      <th id=\"T_1b1d1_level0_row0\" class=\"row_heading level0 row0\" >0</th>\n",
       "      <td id=\"T_1b1d1_row0_col0\" class=\"data row0 col0\" >0.8351</td>\n",
       "      <td id=\"T_1b1d1_row0_col1\" class=\"data row0 col1\" >0.6834</td>\n",
       "      <td id=\"T_1b1d1_row0_col2\" class=\"data row0 col2\" >0.2000</td>\n",
       "      <td id=\"T_1b1d1_row0_col3\" class=\"data row0 col3\" >1.0000</td>\n",
       "      <td id=\"T_1b1d1_row0_col4\" class=\"data row0 col4\" >0.3333</td>\n",
       "      <td id=\"T_1b1d1_row0_col5\" class=\"data row0 col5\" >0.2841</td>\n",
       "      <td id=\"T_1b1d1_row0_col6\" class=\"data row0 col6\" >0.4069</td>\n",
       "    </tr>\n",
       "    <tr>\n",
       "      <th id=\"T_1b1d1_level0_row1\" class=\"row_heading level0 row1\" >1</th>\n",
       "      <td id=\"T_1b1d1_row1_col0\" class=\"data row1 col0\" >0.7835</td>\n",
       "      <td id=\"T_1b1d1_row1_col1\" class=\"data row1 col1\" >0.6598</td>\n",
       "      <td id=\"T_1b1d1_row1_col2\" class=\"data row1 col2\" >0.0000</td>\n",
       "      <td id=\"T_1b1d1_row1_col3\" class=\"data row1 col3\" >0.0000</td>\n",
       "      <td id=\"T_1b1d1_row1_col4\" class=\"data row1 col4\" >0.0000</td>\n",
       "      <td id=\"T_1b1d1_row1_col5\" class=\"data row1 col5\" >0.0000</td>\n",
       "      <td id=\"T_1b1d1_row1_col6\" class=\"data row1 col6\" >0.0000</td>\n",
       "    </tr>\n",
       "    <tr>\n",
       "      <th id=\"T_1b1d1_level0_row2\" class=\"row_heading level0 row2\" >2</th>\n",
       "      <td id=\"T_1b1d1_row2_col0\" class=\"data row2 col0\" >0.8041</td>\n",
       "      <td id=\"T_1b1d1_row2_col1\" class=\"data row2 col1\" >0.8352</td>\n",
       "      <td id=\"T_1b1d1_row2_col2\" class=\"data row2 col2\" >0.0952</td>\n",
       "      <td id=\"T_1b1d1_row2_col3\" class=\"data row2 col3\" >1.0000</td>\n",
       "      <td id=\"T_1b1d1_row2_col4\" class=\"data row2 col4\" >0.1739</td>\n",
       "      <td id=\"T_1b1d1_row2_col5\" class=\"data row2 col5\" >0.1416</td>\n",
       "      <td id=\"T_1b1d1_row2_col6\" class=\"data row2 col6\" >0.2760</td>\n",
       "    </tr>\n",
       "    <tr>\n",
       "      <th id=\"T_1b1d1_level0_row3\" class=\"row_heading level0 row3\" >3</th>\n",
       "      <td id=\"T_1b1d1_row3_col0\" class=\"data row3 col0\" >0.7938</td>\n",
       "      <td id=\"T_1b1d1_row3_col1\" class=\"data row3 col1\" >0.7146</td>\n",
       "      <td id=\"T_1b1d1_row3_col2\" class=\"data row3 col2\" >0.0476</td>\n",
       "      <td id=\"T_1b1d1_row3_col3\" class=\"data row3 col3\" >1.0000</td>\n",
       "      <td id=\"T_1b1d1_row3_col4\" class=\"data row3 col4\" >0.0909</td>\n",
       "      <td id=\"T_1b1d1_row3_col5\" class=\"data row3 col5\" >0.0727</td>\n",
       "      <td id=\"T_1b1d1_row3_col6\" class=\"data row3 col6\" >0.1942</td>\n",
       "    </tr>\n",
       "    <tr>\n",
       "      <th id=\"T_1b1d1_level0_row4\" class=\"row_heading level0 row4\" >4</th>\n",
       "      <td id=\"T_1b1d1_row4_col0\" class=\"data row4 col0\" >0.8351</td>\n",
       "      <td id=\"T_1b1d1_row4_col1\" class=\"data row4 col1\" >0.8120</td>\n",
       "      <td id=\"T_1b1d1_row4_col2\" class=\"data row4 col2\" >0.2857</td>\n",
       "      <td id=\"T_1b1d1_row4_col3\" class=\"data row4 col3\" >0.8571</td>\n",
       "      <td id=\"T_1b1d1_row4_col4\" class=\"data row4 col4\" >0.4286</td>\n",
       "      <td id=\"T_1b1d1_row4_col5\" class=\"data row4 col5\" >0.3592</td>\n",
       "      <td id=\"T_1b1d1_row4_col6\" class=\"data row4 col6\" >0.4338</td>\n",
       "    </tr>\n",
       "    <tr>\n",
       "      <th id=\"T_1b1d1_level0_row5\" class=\"row_heading level0 row5\" >5</th>\n",
       "      <td id=\"T_1b1d1_row5_col0\" class=\"data row5 col0\" >0.8247</td>\n",
       "      <td id=\"T_1b1d1_row5_col1\" class=\"data row5 col1\" >0.7237</td>\n",
       "      <td id=\"T_1b1d1_row5_col2\" class=\"data row5 col2\" >0.1905</td>\n",
       "      <td id=\"T_1b1d1_row5_col3\" class=\"data row5 col3\" >1.0000</td>\n",
       "      <td id=\"T_1b1d1_row5_col4\" class=\"data row5 col4\" >0.3200</td>\n",
       "      <td id=\"T_1b1d1_row5_col5\" class=\"data row5 col5\" >0.2694</td>\n",
       "      <td id=\"T_1b1d1_row5_col6\" class=\"data row5 col6\" >0.3945</td>\n",
       "    </tr>\n",
       "    <tr>\n",
       "      <th id=\"T_1b1d1_level0_row6\" class=\"row_heading level0 row6\" >6</th>\n",
       "      <td id=\"T_1b1d1_row6_col0\" class=\"data row6 col0\" >0.7938</td>\n",
       "      <td id=\"T_1b1d1_row6_col1\" class=\"data row6 col1\" >0.7632</td>\n",
       "      <td id=\"T_1b1d1_row6_col2\" class=\"data row6 col2\" >0.0476</td>\n",
       "      <td id=\"T_1b1d1_row6_col3\" class=\"data row6 col3\" >1.0000</td>\n",
       "      <td id=\"T_1b1d1_row6_col4\" class=\"data row6 col4\" >0.0909</td>\n",
       "      <td id=\"T_1b1d1_row6_col5\" class=\"data row6 col5\" >0.0727</td>\n",
       "      <td id=\"T_1b1d1_row6_col6\" class=\"data row6 col6\" >0.1942</td>\n",
       "    </tr>\n",
       "    <tr>\n",
       "      <th id=\"T_1b1d1_level0_row7\" class=\"row_heading level0 row7\" >7</th>\n",
       "      <td id=\"T_1b1d1_row7_col0\" class=\"data row7 col0\" >0.8542</td>\n",
       "      <td id=\"T_1b1d1_row7_col1\" class=\"data row7 col1\" >0.8132</td>\n",
       "      <td id=\"T_1b1d1_row7_col2\" class=\"data row7 col2\" >0.3000</td>\n",
       "      <td id=\"T_1b1d1_row7_col3\" class=\"data row7 col3\" >1.0000</td>\n",
       "      <td id=\"T_1b1d1_row7_col4\" class=\"data row7 col4\" >0.4615</td>\n",
       "      <td id=\"T_1b1d1_row7_col5\" class=\"data row7 col5\" >0.4043</td>\n",
       "      <td id=\"T_1b1d1_row7_col6\" class=\"data row7 col6\" >0.5033</td>\n",
       "    </tr>\n",
       "    <tr>\n",
       "      <th id=\"T_1b1d1_level0_row8\" class=\"row_heading level0 row8\" >8</th>\n",
       "      <td id=\"T_1b1d1_row8_col0\" class=\"data row8 col0\" >0.7917</td>\n",
       "      <td id=\"T_1b1d1_row8_col1\" class=\"data row8 col1\" >0.7569</td>\n",
       "      <td id=\"T_1b1d1_row8_col2\" class=\"data row8 col2\" >0.0000</td>\n",
       "      <td id=\"T_1b1d1_row8_col3\" class=\"data row8 col3\" >0.0000</td>\n",
       "      <td id=\"T_1b1d1_row8_col4\" class=\"data row8 col4\" >0.0000</td>\n",
       "      <td id=\"T_1b1d1_row8_col5\" class=\"data row8 col5\" >0.0000</td>\n",
       "      <td id=\"T_1b1d1_row8_col6\" class=\"data row8 col6\" >0.0000</td>\n",
       "    </tr>\n",
       "    <tr>\n",
       "      <th id=\"T_1b1d1_level0_row9\" class=\"row_heading level0 row9\" >9</th>\n",
       "      <td id=\"T_1b1d1_row9_col0\" class=\"data row9 col0\" >0.8438</td>\n",
       "      <td id=\"T_1b1d1_row9_col1\" class=\"data row9 col1\" >0.7125</td>\n",
       "      <td id=\"T_1b1d1_row9_col2\" class=\"data row9 col2\" >0.3000</td>\n",
       "      <td id=\"T_1b1d1_row9_col3\" class=\"data row9 col3\" >0.8571</td>\n",
       "      <td id=\"T_1b1d1_row9_col4\" class=\"data row9 col4\" >0.4444</td>\n",
       "      <td id=\"T_1b1d1_row9_col5\" class=\"data row9 col5\" >0.3772</td>\n",
       "      <td id=\"T_1b1d1_row9_col6\" class=\"data row9 col6\" >0.4480</td>\n",
       "    </tr>\n",
       "    <tr>\n",
       "      <th id=\"T_1b1d1_level0_row10\" class=\"row_heading level0 row10\" >Mean</th>\n",
       "      <td id=\"T_1b1d1_row10_col0\" class=\"data row10 col0\" >0.8160</td>\n",
       "      <td id=\"T_1b1d1_row10_col1\" class=\"data row10 col1\" >0.7474</td>\n",
       "      <td id=\"T_1b1d1_row10_col2\" class=\"data row10 col2\" >0.1467</td>\n",
       "      <td id=\"T_1b1d1_row10_col3\" class=\"data row10 col3\" >0.7714</td>\n",
       "      <td id=\"T_1b1d1_row10_col4\" class=\"data row10 col4\" >0.2344</td>\n",
       "      <td id=\"T_1b1d1_row10_col5\" class=\"data row10 col5\" >0.1981</td>\n",
       "      <td id=\"T_1b1d1_row10_col6\" class=\"data row10 col6\" >0.2851</td>\n",
       "    </tr>\n",
       "    <tr>\n",
       "      <th id=\"T_1b1d1_level0_row11\" class=\"row_heading level0 row11\" >Std</th>\n",
       "      <td id=\"T_1b1d1_row11_col0\" class=\"data row11 col0\" >0.0241</td>\n",
       "      <td id=\"T_1b1d1_row11_col1\" class=\"data row11 col1\" >0.0558</td>\n",
       "      <td id=\"T_1b1d1_row11_col2\" class=\"data row11 col2\" >0.1168</td>\n",
       "      <td id=\"T_1b1d1_row11_col3\" class=\"data row11 col3\" >0.3897</td>\n",
       "      <td id=\"T_1b1d1_row11_col4\" class=\"data row11 col4\" >0.1747</td>\n",
       "      <td id=\"T_1b1d1_row11_col5\" class=\"data row11 col5\" >0.1504</td>\n",
       "      <td id=\"T_1b1d1_row11_col6\" class=\"data row11 col6\" >0.1739</td>\n",
       "    </tr>\n",
       "  </tbody>\n",
       "</table>\n"
      ],
      "text/plain": [
       "<pandas.io.formats.style.Styler at 0x281815040>"
      ]
     },
     "metadata": {},
     "output_type": "display_data"
    },
    {
     "data": {
      "text/html": [],
      "text/plain": [
       "<IPython.core.display.HTML object>"
      ]
     },
     "metadata": {},
     "output_type": "display_data"
    }
   ],
   "source": [
    "bagged_dt = ensemble_model(top5[1], method = 'Bagging')"
   ]
  },
  {
   "cell_type": "code",
   "execution_count": null,
   "id": "25e36c15-f3ff-4559-b433-c906418620a3",
   "metadata": {},
   "outputs": [],
   "source": []
  },
  {
   "cell_type": "code",
   "execution_count": null,
   "id": "553428cc-6be7-4e23-b4e9-729507972d92",
   "metadata": {},
   "outputs": [],
   "source": []
  },
  {
   "cell_type": "code",
   "execution_count": 64,
   "id": "ba14e776-cb57-4a53-9f8e-a231a5fbfcb3",
   "metadata": {},
   "outputs": [],
   "source": [
    "final_model = finalize_model(bagged_dt)"
   ]
  },
  {
   "cell_type": "code",
   "execution_count": 65,
   "id": "53c85d99-adc0-4312-9d9a-7537432e4df2",
   "metadata": {},
   "outputs": [
    {
     "data": {
      "text/html": [
       "<style>#sk-container-id-7 {color: black;background-color: white;}#sk-container-id-7 pre{padding: 0;}#sk-container-id-7 div.sk-toggleable {background-color: white;}#sk-container-id-7 label.sk-toggleable__label {cursor: pointer;display: block;width: 100%;margin-bottom: 0;padding: 0.3em;box-sizing: border-box;text-align: center;}#sk-container-id-7 label.sk-toggleable__label-arrow:before {content: \"▸\";float: left;margin-right: 0.25em;color: #696969;}#sk-container-id-7 label.sk-toggleable__label-arrow:hover:before {color: black;}#sk-container-id-7 div.sk-estimator:hover label.sk-toggleable__label-arrow:before {color: black;}#sk-container-id-7 div.sk-toggleable__content {max-height: 0;max-width: 0;overflow: hidden;text-align: left;background-color: #f0f8ff;}#sk-container-id-7 div.sk-toggleable__content pre {margin: 0.2em;color: black;border-radius: 0.25em;background-color: #f0f8ff;}#sk-container-id-7 input.sk-toggleable__control:checked~div.sk-toggleable__content {max-height: 200px;max-width: 100%;overflow: auto;}#sk-container-id-7 input.sk-toggleable__control:checked~label.sk-toggleable__label-arrow:before {content: \"▾\";}#sk-container-id-7 div.sk-estimator input.sk-toggleable__control:checked~label.sk-toggleable__label {background-color: #d4ebff;}#sk-container-id-7 div.sk-label input.sk-toggleable__control:checked~label.sk-toggleable__label {background-color: #d4ebff;}#sk-container-id-7 input.sk-hidden--visually {border: 0;clip: rect(1px 1px 1px 1px);clip: rect(1px, 1px, 1px, 1px);height: 1px;margin: -1px;overflow: hidden;padding: 0;position: absolute;width: 1px;}#sk-container-id-7 div.sk-estimator {font-family: monospace;background-color: #f0f8ff;border: 1px dotted black;border-radius: 0.25em;box-sizing: border-box;margin-bottom: 0.5em;}#sk-container-id-7 div.sk-estimator:hover {background-color: #d4ebff;}#sk-container-id-7 div.sk-parallel-item::after {content: \"\";width: 100%;border-bottom: 1px solid gray;flex-grow: 1;}#sk-container-id-7 div.sk-label:hover label.sk-toggleable__label {background-color: #d4ebff;}#sk-container-id-7 div.sk-serial::before {content: \"\";position: absolute;border-left: 1px solid gray;box-sizing: border-box;top: 0;bottom: 0;left: 50%;z-index: 0;}#sk-container-id-7 div.sk-serial {display: flex;flex-direction: column;align-items: center;background-color: white;padding-right: 0.2em;padding-left: 0.2em;position: relative;}#sk-container-id-7 div.sk-item {position: relative;z-index: 1;}#sk-container-id-7 div.sk-parallel {display: flex;align-items: stretch;justify-content: center;background-color: white;position: relative;}#sk-container-id-7 div.sk-item::before, #sk-container-id-7 div.sk-parallel-item::before {content: \"\";position: absolute;border-left: 1px solid gray;box-sizing: border-box;top: 0;bottom: 0;left: 50%;z-index: -1;}#sk-container-id-7 div.sk-parallel-item {display: flex;flex-direction: column;z-index: 1;position: relative;background-color: white;}#sk-container-id-7 div.sk-parallel-item:first-child::after {align-self: flex-end;width: 50%;}#sk-container-id-7 div.sk-parallel-item:last-child::after {align-self: flex-start;width: 50%;}#sk-container-id-7 div.sk-parallel-item:only-child::after {width: 0;}#sk-container-id-7 div.sk-dashed-wrapped {border: 1px dashed gray;margin: 0 0.4em 0.5em 0.4em;box-sizing: border-box;padding-bottom: 0.4em;background-color: white;}#sk-container-id-7 div.sk-label label {font-family: monospace;font-weight: bold;display: inline-block;line-height: 1.2em;}#sk-container-id-7 div.sk-label-container {text-align: center;}#sk-container-id-7 div.sk-container {/* jupyter's `normalize.less` sets `[hidden] { display: none; }` but bootstrap.min.css set `[hidden] { display: none !important; }` so we also need the `!important` here to be able to override the default hidden behavior on the sphinx rendered scikit-learn.org. See: https://github.com/scikit-learn/scikit-learn/issues/21755 */display: inline-block !important;position: relative;}#sk-container-id-7 div.sk-text-repr-fallback {display: none;}</style><div id=\"sk-container-id-7\" class=\"sk-top-container\"><div class=\"sk-text-repr-fallback\"><pre>Pipeline(memory=FastMemory(location=/var/folders/h4/44486vyn1_xbs13g1z50l5m00000gn/T/joblib),\n",
       "         steps=[(&#x27;numerical_imputer&#x27;,\n",
       "                 TransformerWrapper(exclude=None,\n",
       "                                    include=[&#x27;int_rate&#x27;, &#x27;dti&#x27;, &#x27;annual_inc&#x27;,\n",
       "                                             &#x27;mo_sin_old_rev_tl_op&#x27;,\n",
       "                                             &#x27;acc_open_past_24mths&#x27;,\n",
       "                                             &#x27;loan_amnt&#x27;, &#x27;emp_length&#x27;,\n",
       "                                             &#x27;revol_bal&#x27;, &#x27;funded_amnt_inv&#x27;,\n",
       "                                             &#x27;installment&#x27;, &#x27;total_rev_hi_lim&#x27;,\n",
       "                                             &#x27;fico_range_low&#x27;, &#x27;mort_a...\n",
       "                                                                    max_leaf_nodes=None,\n",
       "                                                                    max_samples=None,\n",
       "                                                                    min_impurity_decrease=0.0,\n",
       "                                                                    min_samples_leaf=1,\n",
       "                                                                    min_samples_split=2,\n",
       "                                                                    min_weight_fraction_leaf=0.0,\n",
       "                                                                    n_estimators=100,\n",
       "                                                                    n_jobs=-1,\n",
       "                                                                    oob_score=False,\n",
       "                                                                    random_state=3590,\n",
       "                                                                    verbose=0,\n",
       "                                                                    warm_start=False),\n",
       "                                   max_features=1.0, max_samples=1.0,\n",
       "                                   n_estimators=10, n_jobs=None,\n",
       "                                   oob_score=False, random_state=3590,\n",
       "                                   verbose=0, warm_start=False))],\n",
       "         verbose=False)</pre><b>In a Jupyter environment, please rerun this cell to show the HTML representation or trust the notebook. <br />On GitHub, the HTML representation is unable to render, please try loading this page with nbviewer.org.</b></div><div class=\"sk-container\" hidden><div class=\"sk-item sk-dashed-wrapped\"><div class=\"sk-label-container\"><div class=\"sk-label sk-toggleable\"><input class=\"sk-toggleable__control sk-hidden--visually\" id=\"sk-estimator-id-52\" type=\"checkbox\" ><label for=\"sk-estimator-id-52\" class=\"sk-toggleable__label sk-toggleable__label-arrow\">Pipeline</label><div class=\"sk-toggleable__content\"><pre>Pipeline(memory=FastMemory(location=/var/folders/h4/44486vyn1_xbs13g1z50l5m00000gn/T/joblib),\n",
       "         steps=[(&#x27;numerical_imputer&#x27;,\n",
       "                 TransformerWrapper(exclude=None,\n",
       "                                    include=[&#x27;int_rate&#x27;, &#x27;dti&#x27;, &#x27;annual_inc&#x27;,\n",
       "                                             &#x27;mo_sin_old_rev_tl_op&#x27;,\n",
       "                                             &#x27;acc_open_past_24mths&#x27;,\n",
       "                                             &#x27;loan_amnt&#x27;, &#x27;emp_length&#x27;,\n",
       "                                             &#x27;revol_bal&#x27;, &#x27;funded_amnt_inv&#x27;,\n",
       "                                             &#x27;installment&#x27;, &#x27;total_rev_hi_lim&#x27;,\n",
       "                                             &#x27;fico_range_low&#x27;, &#x27;mort_a...\n",
       "                                                                    max_leaf_nodes=None,\n",
       "                                                                    max_samples=None,\n",
       "                                                                    min_impurity_decrease=0.0,\n",
       "                                                                    min_samples_leaf=1,\n",
       "                                                                    min_samples_split=2,\n",
       "                                                                    min_weight_fraction_leaf=0.0,\n",
       "                                                                    n_estimators=100,\n",
       "                                                                    n_jobs=-1,\n",
       "                                                                    oob_score=False,\n",
       "                                                                    random_state=3590,\n",
       "                                                                    verbose=0,\n",
       "                                                                    warm_start=False),\n",
       "                                   max_features=1.0, max_samples=1.0,\n",
       "                                   n_estimators=10, n_jobs=None,\n",
       "                                   oob_score=False, random_state=3590,\n",
       "                                   verbose=0, warm_start=False))],\n",
       "         verbose=False)</pre></div></div></div><div class=\"sk-serial\"><div class=\"sk-item sk-dashed-wrapped\"><div class=\"sk-label-container\"><div class=\"sk-label sk-toggleable\"><input class=\"sk-toggleable__control sk-hidden--visually\" id=\"sk-estimator-id-53\" type=\"checkbox\" ><label for=\"sk-estimator-id-53\" class=\"sk-toggleable__label sk-toggleable__label-arrow\">numerical_imputer: TransformerWrapper</label><div class=\"sk-toggleable__content\"><pre>TransformerWrapper(exclude=None,\n",
       "                   include=[&#x27;int_rate&#x27;, &#x27;dti&#x27;, &#x27;annual_inc&#x27;,\n",
       "                            &#x27;mo_sin_old_rev_tl_op&#x27;, &#x27;acc_open_past_24mths&#x27;,\n",
       "                            &#x27;loan_amnt&#x27;, &#x27;emp_length&#x27;, &#x27;revol_bal&#x27;,\n",
       "                            &#x27;funded_amnt_inv&#x27;, &#x27;installment&#x27;,\n",
       "                            &#x27;total_rev_hi_lim&#x27;, &#x27;fico_range_low&#x27;, &#x27;mort_acc&#x27;,\n",
       "                            &#x27;total_bc_limit&#x27;, &#x27;avg_cur_bal&#x27;, &#x27;all_util&#x27;,\n",
       "                            &#x27;mths_since_recent_bc&#x27;, &#x27;total_acc&#x27;, &#x27;open_acc_6m&#x27;,\n",
       "                            &#x27;bc_util&#x27;, &#x27;num_actv_rev_tl&#x27;, &#x27;funded_amnt&#x27;,\n",
       "                            &#x27;num_rev_tl_bal_gt_0&#x27;, &#x27;mths_since_recent_inq&#x27;,\n",
       "                            &#x27;inq_last_6mths&#x27;, &#x27;num_il_tl&#x27;, &#x27;mo_sin_old_il_acct&#x27;,\n",
       "                            &#x27;num_rev_accts&#x27;, &#x27;num_tl_120dpd_2m&#x27;,\n",
       "                            &#x27;total_il_high_credit_limit&#x27;, ...],\n",
       "                   transformer=SimpleImputer(add_indicator=False, copy=True,\n",
       "                                             fill_value=None,\n",
       "                                             keep_empty_features=False,\n",
       "                                             missing_values=nan,\n",
       "                                             strategy=&#x27;mean&#x27;,\n",
       "                                             verbose=&#x27;deprecated&#x27;))</pre></div></div></div><div class=\"sk-parallel\"><div class=\"sk-parallel-item\"><div class=\"sk-item\"><div class=\"sk-label-container\"><div class=\"sk-label sk-toggleable\"><input class=\"sk-toggleable__control sk-hidden--visually\" id=\"sk-estimator-id-54\" type=\"checkbox\" ><label for=\"sk-estimator-id-54\" class=\"sk-toggleable__label sk-toggleable__label-arrow\">transformer: SimpleImputer</label><div class=\"sk-toggleable__content\"><pre>SimpleImputer()</pre></div></div></div><div class=\"sk-serial\"><div class=\"sk-item\"><div class=\"sk-estimator sk-toggleable\"><input class=\"sk-toggleable__control sk-hidden--visually\" id=\"sk-estimator-id-55\" type=\"checkbox\" ><label for=\"sk-estimator-id-55\" class=\"sk-toggleable__label sk-toggleable__label-arrow\">SimpleImputer</label><div class=\"sk-toggleable__content\"><pre>SimpleImputer()</pre></div></div></div></div></div></div></div></div><div class=\"sk-item sk-dashed-wrapped\"><div class=\"sk-label-container\"><div class=\"sk-label sk-toggleable\"><input class=\"sk-toggleable__control sk-hidden--visually\" id=\"sk-estimator-id-56\" type=\"checkbox\" ><label for=\"sk-estimator-id-56\" class=\"sk-toggleable__label sk-toggleable__label-arrow\">categorical_imputer: TransformerWrapper</label><div class=\"sk-toggleable__content\"><pre>TransformerWrapper(exclude=None,\n",
       "                   include=[&#x27;term&#x27;, &#x27;purpose&#x27;, &#x27;debt_settlement_flag&#x27;,\n",
       "                            &#x27;home_ownership&#x27;, &#x27;hardship_flag&#x27;,\n",
       "                            &#x27;application_type&#x27;, &#x27;grade&#x27;,\n",
       "                            &#x27;verification_status&#x27;],\n",
       "                   transformer=SimpleImputer(add_indicator=False, copy=True,\n",
       "                                             fill_value=None,\n",
       "                                             keep_empty_features=False,\n",
       "                                             missing_values=nan,\n",
       "                                             strategy=&#x27;most_frequent&#x27;,\n",
       "                                             verbose=&#x27;deprecated&#x27;))</pre></div></div></div><div class=\"sk-parallel\"><div class=\"sk-parallel-item\"><div class=\"sk-item\"><div class=\"sk-label-container\"><div class=\"sk-label sk-toggleable\"><input class=\"sk-toggleable__control sk-hidden--visually\" id=\"sk-estimator-id-57\" type=\"checkbox\" ><label for=\"sk-estimator-id-57\" class=\"sk-toggleable__label sk-toggleable__label-arrow\">transformer: SimpleImputer</label><div class=\"sk-toggleable__content\"><pre>SimpleImputer(strategy=&#x27;most_frequent&#x27;)</pre></div></div></div><div class=\"sk-serial\"><div class=\"sk-item\"><div class=\"sk-estimator sk-toggleable\"><input class=\"sk-toggleable__control sk-hidden--visually\" id=\"sk-estimator-id-58\" type=\"checkbox\" ><label for=\"sk-estimator-id-58\" class=\"sk-toggleable__label sk-toggleable__label-arrow\">SimpleImputer</label><div class=\"sk-toggleable__content\"><pre>SimpleImputer(strategy=&#x27;most_frequent&#x27;)</pre></div></div></div></div></div></div></div></div><div class=\"sk-item sk-dashed-wrapped\"><div class=\"sk-label-container\"><div class=\"sk-label sk-toggleable\"><input class=\"sk-toggleable__control sk-hidden--visually\" id=\"sk-estimator-id-59\" type=\"checkbox\" ><label for=\"sk-estimator-id-59\" class=\"sk-toggleable__label sk-toggleable__label-arrow\">ordinal_encoding: TransformerWrapper</label><div class=\"sk-toggleable__content\"><pre>TransformerWrapper(exclude=None,\n",
       "                   include=[&#x27;term&#x27;, &#x27;debt_settlement_flag&#x27;, &#x27;application_type&#x27;],\n",
       "                   transformer=OrdinalEncoder(cols=[&#x27;term&#x27;,\n",
       "                                                    &#x27;debt_settlement_flag&#x27;,\n",
       "                                                    &#x27;application_type&#x27;],\n",
       "                                              drop_invariant=False,\n",
       "                                              handle_missing=&#x27;return_nan&#x27;,\n",
       "                                              handle_unknown=&#x27;value&#x27;,\n",
       "                                              mapping=[{&#x27;col&#x27;: &#x27;term&#x27;,\n",
       "                                                        &#x27;data_type&#x27;: dtype(&#x27;O&#x27;),\n",
       "                                                        &#x27;mapping&#x27;:  36 months    0\n",
       " 60 months    1\n",
       "NaN          -1\n",
       "dtype: int64},\n",
       "                                                       {&#x27;col&#x27;: &#x27;debt_settlement_flag&#x27;,\n",
       "                                                        &#x27;data_type&#x27;: dtype(&#x27;O&#x27;),\n",
       "                                                        &#x27;mapping&#x27;: N      0\n",
       "Y      1\n",
       "NaN   -1\n",
       "dtype: int64},\n",
       "                                                       {&#x27;col&#x27;: &#x27;application_type&#x27;,\n",
       "                                                        &#x27;data_type&#x27;: dtype(&#x27;O&#x27;),\n",
       "                                                        &#x27;mapping&#x27;: Individual    0\n",
       "Joint App     1\n",
       "NaN          -1\n",
       "dtype: int64}],\n",
       "                                              return_df=True, verbose=0))</pre></div></div></div><div class=\"sk-parallel\"><div class=\"sk-parallel-item\"><div class=\"sk-item\"><div class=\"sk-label-container\"><div class=\"sk-label sk-toggleable\"><input class=\"sk-toggleable__control sk-hidden--visually\" id=\"sk-estimator-id-60\" type=\"checkbox\" ><label for=\"sk-estimator-id-60\" class=\"sk-toggleable__label sk-toggleable__label-arrow\">transformer: OrdinalEncoder</label><div class=\"sk-toggleable__content\"><pre>OrdinalEncoder(cols=[&#x27;term&#x27;, &#x27;debt_settlement_flag&#x27;, &#x27;application_type&#x27;],\n",
       "               handle_missing=&#x27;return_nan&#x27;,\n",
       "               mapping=[{&#x27;col&#x27;: &#x27;term&#x27;, &#x27;data_type&#x27;: dtype(&#x27;O&#x27;),\n",
       "                         &#x27;mapping&#x27;:  36 months    0\n",
       " 60 months    1\n",
       "NaN          -1\n",
       "dtype: int64},\n",
       "                        {&#x27;col&#x27;: &#x27;debt_settlement_flag&#x27;, &#x27;data_type&#x27;: dtype(&#x27;O&#x27;),\n",
       "                         &#x27;mapping&#x27;: N      0\n",
       "Y      1\n",
       "NaN   -1\n",
       "dtype: int64},\n",
       "                        {&#x27;col&#x27;: &#x27;application_type&#x27;, &#x27;data_type&#x27;: dtype(&#x27;O&#x27;),\n",
       "                         &#x27;mapping&#x27;: Individual    0\n",
       "Joint App     1\n",
       "NaN          -1\n",
       "dtype: int64}])</pre></div></div></div><div class=\"sk-serial\"><div class=\"sk-item\"><div class=\"sk-estimator sk-toggleable\"><input class=\"sk-toggleable__control sk-hidden--visually\" id=\"sk-estimator-id-61\" type=\"checkbox\" ><label for=\"sk-estimator-id-61\" class=\"sk-toggleable__label sk-toggleable__label-arrow\">OrdinalEncoder</label><div class=\"sk-toggleable__content\"><pre>OrdinalEncoder(cols=[&#x27;term&#x27;, &#x27;debt_settlement_flag&#x27;, &#x27;application_type&#x27;],\n",
       "               handle_missing=&#x27;return_nan&#x27;,\n",
       "               mapping=[{&#x27;col&#x27;: &#x27;term&#x27;, &#x27;data_type&#x27;: dtype(&#x27;O&#x27;),\n",
       "                         &#x27;mapping&#x27;:  36 months    0\n",
       " 60 months    1\n",
       "NaN          -1\n",
       "dtype: int64},\n",
       "                        {&#x27;col&#x27;: &#x27;debt_settlement_flag&#x27;, &#x27;data_type&#x27;: dtype(&#x27;O&#x27;),\n",
       "                         &#x27;mapping&#x27;: N      0\n",
       "Y      1\n",
       "NaN   -1\n",
       "dtype: int64},\n",
       "                        {&#x27;col&#x27;: &#x27;application_type&#x27;, &#x27;data_type&#x27;: dtype(&#x27;O&#x27;),\n",
       "                         &#x27;mapping&#x27;: Individual    0\n",
       "Joint App     1\n",
       "NaN          -1\n",
       "dtype: int64}])</pre></div></div></div></div></div></div></div></div><div class=\"sk-item sk-dashed-wrapped\"><div class=\"sk-label-container\"><div class=\"sk-label sk-toggleable\"><input class=\"sk-toggleable__control sk-hidden--visually\" id=\"sk-estimator-id-62\" type=\"checkbox\" ><label for=\"sk-estimator-id-62\" class=\"sk-toggleable__label sk-toggleable__label-arrow\">onehot_encoding: TransformerWrapper</label><div class=\"sk-toggleable__content\"><pre>TransformerWrapper(exclude=None,\n",
       "                   include=[&#x27;purpose&#x27;, &#x27;home_ownership&#x27;, &#x27;hardship_flag&#x27;,\n",
       "                            &#x27;grade&#x27;, &#x27;verification_status&#x27;],\n",
       "                   transformer=OneHotEncoder(cols=[&#x27;purpose&#x27;, &#x27;home_ownership&#x27;,\n",
       "                                                   &#x27;hardship_flag&#x27;, &#x27;grade&#x27;,\n",
       "                                                   &#x27;verification_status&#x27;],\n",
       "                                             drop_invariant=False,\n",
       "                                             handle_missing=&#x27;return_nan&#x27;,\n",
       "                                             handle_unknown=&#x27;value&#x27;,\n",
       "                                             return_df=True, use_cat_names=True,\n",
       "                                             verbose=0))</pre></div></div></div><div class=\"sk-parallel\"><div class=\"sk-parallel-item\"><div class=\"sk-item\"><div class=\"sk-label-container\"><div class=\"sk-label sk-toggleable\"><input class=\"sk-toggleable__control sk-hidden--visually\" id=\"sk-estimator-id-63\" type=\"checkbox\" ><label for=\"sk-estimator-id-63\" class=\"sk-toggleable__label sk-toggleable__label-arrow\">transformer: OneHotEncoder</label><div class=\"sk-toggleable__content\"><pre>OneHotEncoder(cols=[&#x27;purpose&#x27;, &#x27;home_ownership&#x27;, &#x27;hardship_flag&#x27;, &#x27;grade&#x27;,\n",
       "                    &#x27;verification_status&#x27;],\n",
       "              handle_missing=&#x27;return_nan&#x27;, use_cat_names=True)</pre></div></div></div><div class=\"sk-serial\"><div class=\"sk-item\"><div class=\"sk-estimator sk-toggleable\"><input class=\"sk-toggleable__control sk-hidden--visually\" id=\"sk-estimator-id-64\" type=\"checkbox\" ><label for=\"sk-estimator-id-64\" class=\"sk-toggleable__label sk-toggleable__label-arrow\">OneHotEncoder</label><div class=\"sk-toggleable__content\"><pre>OneHotEncoder(cols=[&#x27;purpose&#x27;, &#x27;home_ownership&#x27;, &#x27;hardship_flag&#x27;, &#x27;grade&#x27;,\n",
       "                    &#x27;verification_status&#x27;],\n",
       "              handle_missing=&#x27;return_nan&#x27;, use_cat_names=True)</pre></div></div></div></div></div></div></div></div><div class=\"sk-item sk-dashed-wrapped\"><div class=\"sk-label-container\"><div class=\"sk-label sk-toggleable\"><input class=\"sk-toggleable__control sk-hidden--visually\" id=\"sk-estimator-id-65\" type=\"checkbox\" ><label for=\"sk-estimator-id-65\" class=\"sk-toggleable__label sk-toggleable__label-arrow\">actual_estimator: BaggingClassifier</label><div class=\"sk-toggleable__content\"><pre>BaggingClassifier(base_estimator=&#x27;deprecated&#x27;, bootstrap=True,\n",
       "                  bootstrap_features=False,\n",
       "                  estimator=RandomForestClassifier(bootstrap=True,\n",
       "                                                   ccp_alpha=0.0,\n",
       "                                                   class_weight=None,\n",
       "                                                   criterion=&#x27;gini&#x27;,\n",
       "                                                   max_depth=None,\n",
       "                                                   max_features=&#x27;sqrt&#x27;,\n",
       "                                                   max_leaf_nodes=None,\n",
       "                                                   max_samples=None,\n",
       "                                                   min_impurity_decrease=0.0,\n",
       "                                                   min_samples_leaf=1,\n",
       "                                                   min_samples_split=2,\n",
       "                                                   min_weight_fraction_leaf=0.0,\n",
       "                                                   n_estimators=100, n_jobs=-1,\n",
       "                                                   oob_score=False,\n",
       "                                                   random_state=3590, verbose=0,\n",
       "                                                   warm_start=False),\n",
       "                  max_features=1.0, max_samples=1.0, n_estimators=10,\n",
       "                  n_jobs=None, oob_score=False, random_state=3590, verbose=0,\n",
       "                  warm_start=False)</pre></div></div></div><div class=\"sk-parallel\"><div class=\"sk-parallel-item\"><div class=\"sk-item\"><div class=\"sk-label-container\"><div class=\"sk-label sk-toggleable\"><input class=\"sk-toggleable__control sk-hidden--visually\" id=\"sk-estimator-id-66\" type=\"checkbox\" ><label for=\"sk-estimator-id-66\" class=\"sk-toggleable__label sk-toggleable__label-arrow\">estimator: RandomForestClassifier</label><div class=\"sk-toggleable__content\"><pre>RandomForestClassifier(n_jobs=-1, random_state=3590)</pre></div></div></div><div class=\"sk-serial\"><div class=\"sk-item\"><div class=\"sk-estimator sk-toggleable\"><input class=\"sk-toggleable__control sk-hidden--visually\" id=\"sk-estimator-id-67\" type=\"checkbox\" ><label for=\"sk-estimator-id-67\" class=\"sk-toggleable__label sk-toggleable__label-arrow\">RandomForestClassifier</label><div class=\"sk-toggleable__content\"><pre>RandomForestClassifier(n_jobs=-1, random_state=3590)</pre></div></div></div></div></div></div></div></div></div></div></div></div>"
      ],
      "text/plain": [
       "Pipeline(memory=FastMemory(location=/var/folders/h4/44486vyn1_xbs13g1z50l5m00000gn/T/joblib),\n",
       "         steps=[('numerical_imputer',\n",
       "                 TransformerWrapper(exclude=None,\n",
       "                                    include=['int_rate', 'dti', 'annual_inc',\n",
       "                                             'mo_sin_old_rev_tl_op',\n",
       "                                             'acc_open_past_24mths',\n",
       "                                             'loan_amnt', 'emp_length',\n",
       "                                             'revol_bal', 'funded_amnt_inv',\n",
       "                                             'installment', 'total_rev_hi_lim',\n",
       "                                             'fico_range_low', 'mort_a...\n",
       "                                                                    max_leaf_nodes=None,\n",
       "                                                                    max_samples=None,\n",
       "                                                                    min_impurity_decrease=0.0,\n",
       "                                                                    min_samples_leaf=1,\n",
       "                                                                    min_samples_split=2,\n",
       "                                                                    min_weight_fraction_leaf=0.0,\n",
       "                                                                    n_estimators=100,\n",
       "                                                                    n_jobs=-1,\n",
       "                                                                    oob_score=False,\n",
       "                                                                    random_state=3590,\n",
       "                                                                    verbose=0,\n",
       "                                                                    warm_start=False),\n",
       "                                   max_features=1.0, max_samples=1.0,\n",
       "                                   n_estimators=10, n_jobs=None,\n",
       "                                   oob_score=False, random_state=3590,\n",
       "                                   verbose=0, warm_start=False))],\n",
       "         verbose=False)"
      ]
     },
     "execution_count": 65,
     "metadata": {},
     "output_type": "execute_result"
    }
   ],
   "source": [
    "final_model"
   ]
  },
  {
   "cell_type": "code",
   "execution_count": null,
   "id": "e78f5f85-72ee-4241-89c4-56ee278b43a4",
   "metadata": {},
   "outputs": [],
   "source": [
    "## 5-4. 모델 검증  "
   ]
  },
  {
   "cell_type": "code",
   "execution_count": null,
   "id": "12b628bf-d0be-4ef4-b212-2691b78ddcf0",
   "metadata": {},
   "outputs": [],
   "source": []
  },
  {
   "cell_type": "code",
   "execution_count": 70,
   "id": "a9128a55-f4e7-4980-a629-01dc5fcf4097",
   "metadata": {},
   "outputs": [
    {
     "data": {
      "text/html": [],
      "text/plain": [
       "<IPython.core.display.HTML object>"
      ]
     },
     "metadata": {},
     "output_type": "display_data"
    },
    {
     "data": {
      "image/png": "[encoded data removed]",
      "text/plain": [
       "<Figure size 800x550 with 1 Axes>"
      ]
     },
     "metadata": {},
     "output_type": "display_data"
    }
   ],
   "source": [
    "plot_model(rf, plot = 'confusion_matrix')"
   ]
  },
  {
   "cell_type": "code",
   "execution_count": null,
   "id": "cdc48b5d-08ca-468c-933b-1ffde0855cb5",
   "metadata": {},
   "outputs": [],
   "source": []
  },
  {
   "cell_type": "code",
   "execution_count": null,
   "id": "63ac14e0-0266-4beb-b7b5-73902e00159e",
   "metadata": {},
   "outputs": [],
   "source": []
  },
  {
   "cell_type": "code",
   "execution_count": 71,
   "id": "79f095d2-777b-4cb4-ac17-2d725c401e2b",
   "metadata": {},
   "outputs": [
    {
     "data": {
      "image/png": "[encoded data removed]",
      "text/plain": [
       "<Figure size 2200x600 with 1 Axes>"
      ]
     },
     "metadata": {},
     "output_type": "display_data"
    },
    {
     "data": {
      "application/vnd.jupyter.widget-view+json": {
       "model_id": "4fcd64171bdf47b6a601ef7b4f18f7eb",
       "version_major": 2,
       "version_minor": 0
      },
      "text/plain": [
       "interactive(children=(ToggleButtons(description='Plot Type:', icons=('',), options=(('Pipeline Plot', 'pipelin…"
      ]
     },
     "metadata": {},
     "output_type": "display_data"
    }
   ],
   "source": [
    "evaluate_model(rf)"
   ]
  },
  {
   "cell_type": "code",
   "execution_count": null,
   "id": "67e0cabd-7d5c-435a-872d-a9a1b2618f11",
   "metadata": {},
   "outputs": [],
   "source": []
  },
  {
   "cell_type": "markdown",
   "id": "9d75ba80-f6c3-44f7-8d60-c3f4897c0eba",
   "metadata": {},
   "source": [
    "## 6 예측하기 "
   ]
  },
  {
   "cell_type": "code",
   "execution_count": 77,
   "id": "298636d3-15d8-4705-9113-562aea6ca77b",
   "metadata": {},
   "outputs": [
    {
     "data": {
      "text/html": [
       "<style type=\"text/css\">\n",
       "</style>\n",
       "<table id=\"T_52fa4\">\n",
       "  <thead>\n",
       "    <tr>\n",
       "      <th class=\"blank level0\" >&nbsp;</th>\n",
       "      <th id=\"T_52fa4_level0_col0\" class=\"col_heading level0 col0\" >Model</th>\n",
       "      <th id=\"T_52fa4_level0_col1\" class=\"col_heading level0 col1\" >Accuracy</th>\n",
       "      <th id=\"T_52fa4_level0_col2\" class=\"col_heading level0 col2\" >AUC</th>\n",
       "      <th id=\"T_52fa4_level0_col3\" class=\"col_heading level0 col3\" >Recall</th>\n",
       "      <th id=\"T_52fa4_level0_col4\" class=\"col_heading level0 col4\" >Prec.</th>\n",
       "      <th id=\"T_52fa4_level0_col5\" class=\"col_heading level0 col5\" >F1</th>\n",
       "      <th id=\"T_52fa4_level0_col6\" class=\"col_heading level0 col6\" >Kappa</th>\n",
       "      <th id=\"T_52fa4_level0_col7\" class=\"col_heading level0 col7\" >MCC</th>\n",
       "    </tr>\n",
       "  </thead>\n",
       "  <tbody>\n",
       "    <tr>\n",
       "      <th id=\"T_52fa4_level0_row0\" class=\"row_heading level0 row0\" >0</th>\n",
       "      <td id=\"T_52fa4_row0_col0\" class=\"data row0 col0\" >Random Forest Classifier</td>\n",
       "      <td id=\"T_52fa4_row0_col1\" class=\"data row0 col1\" >0.8000</td>\n",
       "      <td id=\"T_52fa4_row0_col2\" class=\"data row0 col2\" >0.7194</td>\n",
       "      <td id=\"T_52fa4_row0_col3\" class=\"data row0 col3\" >0.2174</td>\n",
       "      <td id=\"T_52fa4_row0_col4\" class=\"data row0 col4\" >0.7143</td>\n",
       "      <td id=\"T_52fa4_row0_col5\" class=\"data row0 col5\" >0.3333</td>\n",
       "      <td id=\"T_52fa4_row0_col6\" class=\"data row0 col6\" >0.2532</td>\n",
       "      <td id=\"T_52fa4_row0_col7\" class=\"data row0 col7\" >0.3157</td>\n",
       "    </tr>\n",
       "  </tbody>\n",
       "</table>\n"
      ],
      "text/plain": [
       "<pandas.io.formats.style.Styler at 0x280c2f160>"
      ]
     },
     "metadata": {},
     "output_type": "display_data"
    }
   ],
   "source": [
    "prediction = predict_model(rf, data=X_test.iloc[-100:])"
   ]
  },
  {
   "cell_type": "code",
   "execution_count": 78,
   "id": "7800e154-6ba8-40cb-9359-49b58bce9cad",
   "metadata": {},
   "outputs": [
    {
     "data": {
      "text/plain": [
       "Index(['int_rate', 'dti', 'annual_inc', 'mo_sin_old_rev_tl_op',\n",
       "       'acc_open_past_24mths', 'loan_amnt', 'emp_length', 'revol_bal', 'term',\n",
       "       'funded_amnt_inv', 'installment', 'purpose', 'total_rev_hi_lim',\n",
       "       'fico_range_low', 'debt_settlement_flag', 'mort_acc', 'total_bc_limit',\n",
       "       'home_ownership', 'avg_cur_bal', 'all_util', 'mths_since_recent_bc',\n",
       "       'total_acc', 'open_acc_6m', 'bc_util', 'num_actv_rev_tl', 'funded_amnt',\n",
       "       'hardship_flag', 'num_rev_tl_bal_gt_0', 'mths_since_recent_inq',\n",
       "       'inq_last_6mths', 'num_il_tl', 'mo_sin_old_il_acct', 'num_rev_accts',\n",
       "       'num_tl_120dpd_2m', 'total_il_high_credit_limit', 'application_type',\n",
       "       'revol_util', 'tot_hi_cred_lim', 'delinq_2yrs', 'mo_sin_rcnt_tl',\n",
       "       'num_actv_bc_tl', 'mths_since_last_record', 'percent_bc_gt_75',\n",
       "       'bc_open_to_buy', 'max_bal_bc', 'grade', 'open_rv_24m',\n",
       "       'mo_sin_rcnt_rev_tl_op', 'pct_tl_nvr_dlq', 'verification_status',\n",
       "       'tot_cur_bal', 'total_bal_ex_mort', 'mths_since_last_major_derog',\n",
       "       'inq_fi', 'mths_since_rcnt_il', 'inq_last_12m',\n",
       "       'mths_since_last_delinq', 'num_bc_tl', 'loan_status',\n",
       "       'prediction_label', 'prediction_score'],\n",
       "      dtype='object')"
      ]
     },
     "execution_count": 78,
     "metadata": {},
     "output_type": "execute_result"
    }
   ],
   "source": [
    "prediction.columns"
   ]
  },
  {
   "cell_type": "code",
   "execution_count": null,
   "id": "fe03f992-7a72-47ce-9ee0-0800aaf6361d",
   "metadata": {},
   "outputs": [],
   "source": []
  },
  {
   "cell_type": "markdown",
   "id": "129d87a5-5ec8-4655-88fb-1fea53afb9e1",
   "metadata": {},
   "source": [
    "## 7. 모델 해석 \n",
    "\n",
    "- binary classification: rf, dt, et, catboost, xgboost, lightgbm."
   ]
  },
  {
   "cell_type": "markdown",
   "id": "83ac19dc-947b-4360-a035-26cfce0d0a12",
   "metadata": {},
   "source": [
    "### 버전 상위로 없는 속성을 맞춰놓기 "
   ]
  },
  {
   "cell_type": "code",
   "execution_count": 75,
   "id": "43ac552f-1239-4e7c-8816-f00849f48955",
   "metadata": {},
   "outputs": [],
   "source": [
    "import numpy as np\n",
    "np.bool = np.bool_"
   ]
  },
  {
   "cell_type": "code",
   "execution_count": 76,
   "id": "7b3f8cf1-22ec-4b8c-8457-07a54e40db12",
   "metadata": {},
   "outputs": [
    {
     "data": {
      "image/png": "[encoded data removed]",
      "text/plain": [
       "<Figure size 800x950 with 2 Axes>"
      ]
     },
     "metadata": {},
     "output_type": "display_data"
    }
   ],
   "source": [
    "interpret_model(rf)"
   ]
  },
  {
   "cell_type": "code",
   "execution_count": null,
   "id": "7c70b006-4d93-4ae1-a51c-9130fd2b235c",
   "metadata": {},
   "outputs": [],
   "source": []
  }
 ],
 "metadata": {
  "kernelspec": {
   "display_name": "Python 3 (ipykernel)",
   "language": "python",
   "name": "python3"
  },
  "language_info": {
   "codemirror_mode": {
    "name": "ipython",
    "version": 3
   },
   "file_extension": ".py",
   "mimetype": "text/x-python",
   "name": "python",
   "nbconvert_exporter": "python",
   "pygments_lexer": "ipython3",
   "version": "3.9.16"
  }
 },
 "nbformat": 4,
 "nbformat_minor": 5
}
