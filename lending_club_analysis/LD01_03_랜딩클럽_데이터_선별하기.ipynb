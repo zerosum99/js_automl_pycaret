{
 "cells": [
  {
   "cell_type": "markdown",
   "id": "059b51b7-0f27-4c9d-b2aa-88437b51ee5e",
   "metadata": {},
   "source": [
    "## 1. 데이터 읽어오기 "
   ]
  },
  {
   "cell_type": "markdown",
   "id": "8e9f4776-f3d0-4c56-aaed-def9785ecec2",
   "metadata": {},
   "source": [
    "### 현재 작업 위치 확인하기 "
   ]
  },
  {
   "cell_type": "code",
   "execution_count": 1,
   "id": "c3655ae1-55ba-401e-a635-9ba9a0c6a212",
   "metadata": {},
   "outputs": [
    {
     "data": {
      "text/plain": [
       "'/Users/a06411/Documents/GitHub/js_automl_pycaret/lending_club_da'"
      ]
     },
     "execution_count": 1,
     "metadata": {},
     "output_type": "execute_result"
    }
   ],
   "source": [
    "%pwd"
   ]
  },
  {
   "cell_type": "markdown",
   "id": "ca23ffd3-ee8f-4921-9021-5f7d7fad6854",
   "metadata": {},
   "source": [
    "### 기본 모듈 사용하기 "
   ]
  },
  {
   "cell_type": "code",
   "execution_count": 3,
   "id": "ed6034de-9601-4647-9e67-533e0f3bdb18",
   "metadata": {},
   "outputs": [],
   "source": [
    "import pandas as pd\n",
    "import numpy as np\n",
    "import sqlite3\n",
    "import os"
   ]
  },
  {
   "cell_type": "code",
   "execution_count": 4,
   "id": "f09e9222-3941-4818-9e29-b6a1cc1b90c5",
   "metadata": {},
   "outputs": [
    {
     "data": {
      "text/plain": [
       "'1.5.3'"
      ]
     },
     "execution_count": 4,
     "metadata": {},
     "output_type": "execute_result"
    }
   ],
   "source": [
    "pd.__version__"
   ]
  },
  {
   "cell_type": "markdown",
   "id": "e6a9f350-c6a6-4082-b509-34f19cb7cf52",
   "metadata": {},
   "source": [
    "### 데이터의 위치 "
   ]
  },
  {
   "cell_type": "code",
   "execution_count": 2,
   "id": "797dcbaf-08c9-4b40-8aa1-3e44274e96ab",
   "metadata": {},
   "outputs": [],
   "source": [
    "path = \"/Users/a06411/Documents/data_hub/lending_club/lending_club.csv\""
   ]
  },
  {
   "cell_type": "markdown",
   "id": "0fb3b2a2-9683-4920-a6a8-bad3ad557492",
   "metadata": {},
   "source": [
    "### 데이터 읽기 "
   ]
  },
  {
   "cell_type": "code",
   "execution_count": 5,
   "id": "eb8531d7-0429-413d-8191-da08110273f1",
   "metadata": {},
   "outputs": [],
   "source": [
    "df_d = pd.read_csv(path, low_memory=False)"
   ]
  },
  {
   "cell_type": "code",
   "execution_count": 6,
   "id": "379cd827-9c5e-48b7-bc30-1ab239afcd20",
   "metadata": {},
   "outputs": [
    {
     "data": {
      "text/plain": [
       "(2260701, 151)"
      ]
     },
     "execution_count": 6,
     "metadata": {},
     "output_type": "execute_result"
    }
   ],
   "source": [
    "df_d.shape"
   ]
  },
  {
   "cell_type": "markdown",
   "id": "174ba5b4-eb16-4b45-98cb-638d219ee607",
   "metadata": {},
   "source": [
    "### 데이터 중에 문자 처리 칼럼 확인 "
   ]
  },
  {
   "cell_type": "code",
   "execution_count": 12,
   "id": "0dd1f02f-51de-46de-bf35-48bdfab88a5d",
   "metadata": {},
   "outputs": [
    {
     "data": {
      "text/plain": [
       "Index(['id', 'term', 'grade', 'sub_grade', 'emp_title', 'emp_length',\n",
       "       'home_ownership', 'verification_status', 'issue_d', 'loan_status',\n",
       "       'pymnt_plan', 'url', 'desc', 'purpose', 'title', 'zip_code',\n",
       "       'addr_state', 'earliest_cr_line', 'initial_list_status', 'last_pymnt_d',\n",
       "       'next_pymnt_d', 'last_credit_pull_d', 'application_type',\n",
       "       'verification_status_joint', 'sec_app_earliest_cr_line',\n",
       "       'hardship_flag', 'hardship_type', 'hardship_reason', 'hardship_status',\n",
       "       'hardship_start_date', 'hardship_end_date', 'payment_plan_start_date',\n",
       "       'hardship_loan_status', 'disbursement_method', 'debt_settlement_flag',\n",
       "       'debt_settlement_flag_date', 'settlement_status', 'settlement_date'],\n",
       "      dtype='object')"
      ]
     },
     "execution_count": 12,
     "metadata": {},
     "output_type": "execute_result"
    }
   ],
   "source": [
    "df_d.select_dtypes(include=\"object\").head().columns"
   ]
  },
  {
   "cell_type": "markdown",
   "id": "f6ccd070-0131-4068-b3e1-8e2a2f53df1d",
   "metadata": {},
   "source": [
    "# 2. 날짜 변환 처리 "
   ]
  },
  {
   "cell_type": "markdown",
   "id": "3db5dc49-de21-448e-89d8-81bcd8f732f0",
   "metadata": {},
   "source": [
    "### 날짜 처리 칼럼 확인 "
   ]
  },
  {
   "cell_type": "code",
   "execution_count": 13,
   "id": "790e4e68-3850-47f1-92db-25a0e2892e95",
   "metadata": {},
   "outputs": [
    {
     "data": {
      "text/plain": [
       "0    Dec-2015\n",
       "1    Dec-2015\n",
       "2    Dec-2015\n",
       "3    Dec-2015\n",
       "4    Dec-2015\n",
       "Name: issue_d, dtype: object"
      ]
     },
     "execution_count": 13,
     "metadata": {},
     "output_type": "execute_result"
    }
   ],
   "source": [
    "df_d['issue_d'].head()"
   ]
  },
  {
   "cell_type": "markdown",
   "id": "23bed2cf-6e0a-4751-bfc1-887f20b199a0",
   "metadata": {},
   "source": [
    "### 날짜를 변환 처리 "
   ]
  },
  {
   "cell_type": "code",
   "execution_count": 15,
   "id": "b8cae5ea-f748-43d5-8020-225bbcc814bb",
   "metadata": {},
   "outputs": [],
   "source": [
    "df_d['issue_d_date'] = pd.to_datetime(df_d['issue_d'])"
   ]
  },
  {
   "cell_type": "markdown",
   "id": "273ea66f-f34a-48da-a941-c5e6e0a1fb91",
   "metadata": {},
   "source": [
    "### 년도별 데이터 확인하기 "
   ]
  },
  {
   "cell_type": "code",
   "execution_count": 18,
   "id": "f1ef8b24-4101-4243-8bd5-d47dc3ca7421",
   "metadata": {},
   "outputs": [
    {
     "data": {
      "text/plain": [
       "2018.0    495242\n",
       "2017.0    443579\n",
       "2016.0    434407\n",
       "2015.0    421095\n",
       "2014.0    235629\n",
       "2013.0    134814\n",
       "2012.0     53367\n",
       "2011.0     21721\n",
       "2010.0     12537\n",
       "2009.0      5281\n",
       "2008.0      2393\n",
       "2007.0       603\n",
       "Name: issue_d_date, dtype: int64"
      ]
     },
     "execution_count": 18,
     "metadata": {},
     "output_type": "execute_result"
    }
   ],
   "source": [
    "(df_d['issue_d_date'].dt.year).value_counts()"
   ]
  },
  {
   "cell_type": "markdown",
   "id": "9f94500c-ea25-4479-a144-e0ee9e0144ff",
   "metadata": {},
   "source": [
    "### 특정 연도 데이터만 선택하기 "
   ]
  },
  {
   "cell_type": "code",
   "execution_count": 25,
   "id": "6fb3b38b-0fa1-43f0-9a73-f2d134c2d71e",
   "metadata": {},
   "outputs": [
    {
     "data": {
      "text/plain": [
       "53367"
      ]
     },
     "execution_count": 25,
     "metadata": {},
     "output_type": "execute_result"
    }
   ],
   "source": [
    "(df_d['issue_d_date'].dt.year == 2012.0).sum()"
   ]
  },
  {
   "cell_type": "code",
   "execution_count": 26,
   "id": "d27c5c0a-2e9d-409d-a621-728313e16032",
   "metadata": {},
   "outputs": [],
   "source": [
    "df_d_2012 = df_d[df_d['issue_d_date'].dt.year == 2012.0]"
   ]
  },
  {
   "cell_type": "code",
   "execution_count": null,
   "id": "5ceb012a-3cd0-49a2-aaf9-603b674d3953",
   "metadata": {},
   "outputs": [],
   "source": []
  },
  {
   "cell_type": "code",
   "execution_count": 27,
   "id": "2a47df5d-e7d8-42b0-986c-a510c54a1ec9",
   "metadata": {},
   "outputs": [
    {
     "data": {
      "text/plain": [
       "(53367, 152)"
      ]
     },
     "execution_count": 27,
     "metadata": {},
     "output_type": "execute_result"
    }
   ],
   "source": [
    "df_d_2012.shape"
   ]
  },
  {
   "cell_type": "code",
   "execution_count": 28,
   "id": "0c3b70c2-6cb9-4ef0-b94e-a43e46b3b076",
   "metadata": {},
   "outputs": [
    {
     "name": "stdout",
     "output_type": "stream",
     "text": [
      "<class 'pandas.core.frame.DataFrame'>\n",
      "Int64Index: 53367 entries, 1884897 to 1939378\n",
      "Columns: 152 entries, id to issue_d_date\n",
      "dtypes: datetime64[ns](1), float64(113), object(38)\n",
      "memory usage: 62.3+ MB\n"
     ]
    }
   ],
   "source": [
    "df_d_2012.info()"
   ]
  },
  {
   "cell_type": "code",
   "execution_count": 30,
   "id": "f3e4dbf3-65ba-46da-b81c-00116ae49cfa",
   "metadata": {},
   "outputs": [],
   "source": [
    "df_d_2012 = df_d_2012.drop('issue_d_date',axis=1)"
   ]
  },
  {
   "cell_type": "code",
   "execution_count": 31,
   "id": "fadd071c-6137-435e-8162-e38cb657baeb",
   "metadata": {},
   "outputs": [
    {
     "data": {
      "text/plain": [
       "(53367, 151)"
      ]
     },
     "execution_count": 31,
     "metadata": {},
     "output_type": "execute_result"
    }
   ],
   "source": [
    "df_d_2012.shape"
   ]
  },
  {
   "cell_type": "markdown",
   "id": "c4278806-7c5e-42ab-9237-875a6506feac",
   "metadata": {},
   "source": [
    "### 특정 데이터만 저장하기 "
   ]
  },
  {
   "cell_type": "code",
   "execution_count": 33,
   "id": "d394a326-b5da-4860-8c75-fd177496d9be",
   "metadata": {},
   "outputs": [],
   "source": [
    "path_w = '/Users/a06411/Documents/GitHub/js_automl_pycaret/lending_club_data/lending_club_2012.csv'"
   ]
  },
  {
   "cell_type": "code",
   "execution_count": 34,
   "id": "97a306eb-6ab1-4e66-aa6b-f3d1c3d86861",
   "metadata": {},
   "outputs": [],
   "source": [
    "df_d_2012.to_csv(path_w)"
   ]
  },
  {
   "cell_type": "code",
   "execution_count": null,
   "id": "fbc928cc-e141-4d98-949c-f22c59ae9bee",
   "metadata": {},
   "outputs": [],
   "source": []
  },
  {
   "cell_type": "code",
   "execution_count": null,
   "id": "4a42dbe3-c95a-41df-9d1d-cd04f5821316",
   "metadata": {},
   "outputs": [],
   "source": []
  },
  {
   "cell_type": "code",
   "execution_count": null,
   "id": "aa661c4a-9f36-4166-ada5-51795998ff90",
   "metadata": {},
   "outputs": [],
   "source": []
  }
 ],
 "metadata": {
  "kernelspec": {
   "display_name": "Python 3 (ipykernel)",
   "language": "python",
   "name": "python3"
  },
  "language_info": {
   "codemirror_mode": {
    "name": "ipython",
    "version": 3
   },
   "file_extension": ".py",
   "mimetype": "text/x-python",
   "name": "python",
   "nbconvert_exporter": "python",
   "pygments_lexer": "ipython3",
   "version": "3.9.16"
  }
 },
 "nbformat": 4,
 "nbformat_minor": 5
}
