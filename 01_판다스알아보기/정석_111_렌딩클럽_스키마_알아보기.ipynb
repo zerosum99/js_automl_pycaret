{
 "cells": [
  {
   "cell_type": "markdown",
   "id": "25f567cc-0519-485d-b0d5-c85dcaff0e9f",
   "metadata": {},
   "source": [
    "# 1. 렌딩클럽 스키마 확인하기 "
   ]
  },
  {
   "cell_type": "code",
   "execution_count": 2,
   "id": "81831b67-ccda-4e25-b5e4-580b86e323da",
   "metadata": {},
   "outputs": [],
   "source": [
    "import pandas as pd"
   ]
  },
  {
   "cell_type": "code",
   "execution_count": 3,
   "id": "c144d084-1c7e-4332-acad-8cbb765f48a4",
   "metadata": {},
   "outputs": [
    {
     "data": {
      "text/plain": [
       "'1.5.3'"
      ]
     },
     "execution_count": 3,
     "metadata": {},
     "output_type": "execute_result"
    }
   ],
   "source": [
    "pd.__version__"
   ]
  },
  {
   "cell_type": "markdown",
   "id": "f70616e8-ba65-4d57-b1af-8690d49699d4",
   "metadata": {},
   "source": [
    "## 렌딩클럽 스키마 엑셀 읽기"
   ]
  },
  {
   "cell_type": "code",
   "execution_count": 4,
   "id": "3b709132-723a-4795-bffe-dfedd9615b53",
   "metadata": {},
   "outputs": [],
   "source": [
    "df_ldcb_schema = pd.read_excel(\"../lending_club_data/테이블정보_한글칼럼명추가.xlsx\")"
   ]
  },
  {
   "cell_type": "code",
   "execution_count": 5,
   "id": "470c1d9f-48a1-4f51-95aa-0acab398e0e9",
   "metadata": {},
   "outputs": [
    {
     "data": {
      "text/plain": [
       "(150, 7)"
      ]
     },
     "execution_count": 5,
     "metadata": {},
     "output_type": "execute_result"
    }
   ],
   "source": [
    "df_ldcb_schema.shape"
   ]
  },
  {
   "cell_type": "markdown",
   "id": "3826275f-237c-4a7c-8257-e281377514bb",
   "metadata": {},
   "source": [
    "## 세부 정보 확인 "
   ]
  },
  {
   "cell_type": "code",
   "execution_count": 6,
   "id": "a52e54d3-2ca0-4763-912a-00ae8a56d4d8",
   "metadata": {},
   "outputs": [
    {
     "data": {
      "text/html": [
       "<div>\n",
       "<style scoped>\n",
       "    .dataframe tbody tr th:only-of-type {\n",
       "        vertical-align: middle;\n",
       "    }\n",
       "\n",
       "    .dataframe tbody tr th {\n",
       "        vertical-align: top;\n",
       "    }\n",
       "\n",
       "    .dataframe thead th {\n",
       "        text-align: right;\n",
       "    }\n",
       "</style>\n",
       "<table border=\"1\" class=\"dataframe\">\n",
       "  <thead>\n",
       "    <tr style=\"text-align: right;\">\n",
       "      <th></th>\n",
       "      <th>no</th>\n",
       "      <th>LoanStatNew</th>\n",
       "      <th>Label</th>\n",
       "      <th>Description</th>\n",
       "      <th>Korean</th>\n",
       "      <th>lab_desc</th>\n",
       "      <th>korean_name</th>\n",
       "    </tr>\n",
       "  </thead>\n",
       "  <tbody>\n",
       "    <tr>\n",
       "      <th>0</th>\n",
       "      <td>1</td>\n",
       "      <td>emp_title</td>\n",
       "      <td>borrower</td>\n",
       "      <td>The job title supplied by the Borrower when ap...</td>\n",
       "      <td>직업</td>\n",
       "      <td>고객 정보</td>\n",
       "      <td>직업명</td>\n",
       "    </tr>\n",
       "    <tr>\n",
       "      <th>1</th>\n",
       "      <td>2</td>\n",
       "      <td>emp_length</td>\n",
       "      <td>borrower</td>\n",
       "      <td>Employment length in years. Possible values ar...</td>\n",
       "      <td>연차</td>\n",
       "      <td>고객 정보</td>\n",
       "      <td>근무연차</td>\n",
       "    </tr>\n",
       "    <tr>\n",
       "      <th>2</th>\n",
       "      <td>3</td>\n",
       "      <td>home_ownership</td>\n",
       "      <td>borrower</td>\n",
       "      <td>The home ownership status provided by the borr...</td>\n",
       "      <td>주택_소유_상태</td>\n",
       "      <td>고객 정보</td>\n",
       "      <td>주택소유</td>\n",
       "    </tr>\n",
       "    <tr>\n",
       "      <th>3</th>\n",
       "      <td>4</td>\n",
       "      <td>zip_code</td>\n",
       "      <td>borrower</td>\n",
       "      <td>The first 3 numbers of the zip code provided b...</td>\n",
       "      <td>우편번호(앞 3자리)</td>\n",
       "      <td>고객 정보</td>\n",
       "      <td>우편번호</td>\n",
       "    </tr>\n",
       "    <tr>\n",
       "      <th>4</th>\n",
       "      <td>5</td>\n",
       "      <td>addr_state</td>\n",
       "      <td>borrower</td>\n",
       "      <td>The state provided by the borrower in the loan...</td>\n",
       "      <td>거주중인 주</td>\n",
       "      <td>고객 정보</td>\n",
       "      <td>거주국가</td>\n",
       "    </tr>\n",
       "  </tbody>\n",
       "</table>\n",
       "</div>"
      ],
      "text/plain": [
       "   no     LoanStatNew     Label  \\\n",
       "0   1       emp_title  borrower   \n",
       "1   2      emp_length  borrower   \n",
       "2   3  home_ownership  borrower   \n",
       "3   4        zip_code  borrower   \n",
       "4   5      addr_state  borrower   \n",
       "\n",
       "                                         Description       Korean lab_desc  \\\n",
       "0  The job title supplied by the Borrower when ap...           직업    고객 정보   \n",
       "1  Employment length in years. Possible values ar...           연차    고객 정보   \n",
       "2  The home ownership status provided by the borr...     주택_소유_상태    고객 정보   \n",
       "3  The first 3 numbers of the zip code provided b...  우편번호(앞 3자리)    고객 정보   \n",
       "4  The state provided by the borrower in the loan...       거주중인 주    고객 정보   \n",
       "\n",
       "  korean_name  \n",
       "0         직업명  \n",
       "1       근무연차   \n",
       "2        주택소유  \n",
       "3        우편번호  \n",
       "4        거주국가  "
      ]
     },
     "execution_count": 6,
     "metadata": {},
     "output_type": "execute_result"
    }
   ],
   "source": [
    "df_ldcb_schema.head()"
   ]
  },
  {
   "cell_type": "code",
   "execution_count": 8,
   "id": "52461c1a-e653-4c35-b84d-01590798b7db",
   "metadata": {},
   "outputs": [
    {
     "data": {
      "text/plain": [
       "Index(['no', 'LoanStatNew', 'Label', 'Description', 'Korean', 'lab_desc',\n",
       "       'korean_name'],\n",
       "      dtype='object')"
      ]
     },
     "execution_count": 8,
     "metadata": {},
     "output_type": "execute_result"
    }
   ],
   "source": [
    "df_ldcb_schema.columns"
   ]
  },
  {
   "cell_type": "markdown",
   "id": "aa0800ba-ac23-4463-a6a5-b11815d787f8",
   "metadata": {},
   "source": [
    "# 2. 칼럼명 확인"
   ]
  },
  {
   "cell_type": "markdown",
   "id": "b8e73424-d277-4e81-92b6-4730862f9efc",
   "metadata": {},
   "source": [
    "## 데이터의 영문 칼럼 이름 "
   ]
  },
  {
   "cell_type": "code",
   "execution_count": 9,
   "id": "054f8ed8-71d4-4fe7-9a6b-2b2de5f02d24",
   "metadata": {},
   "outputs": [
    {
     "name": "stdout",
     "output_type": "stream",
     "text": [
      "emp_title, emp_length, home_ownership, zip_code, addr_state, member_id, delinq_amnt, mort_acc, num_accts_ever_120_pd, num_actv_bc_tl, num_bc_sats, num_bc_tl, num_sats, num_tl_120dpd_2m, num_tl_30dpd, num_tl_90g_dpd_24m, num_tl_op_past_12m, percent_bc_gt_75, delinq_2yrs, earliest_cr_line, open_acc, pub_rec, revol_bal, revol_util, total_acc, last_credit_pull_d, all_util, tot_hi_cred_lim, total_bal_ex_mort, total_bc_limit, collections_12_mths_ex_med, chargeoff_within_12_mths, pub_rec_bankruptcies, tax_liens, mths_since_last_delinq, mths_since_last_major_derog, mths_since_recent_bc_dlq, mths_since_last_record, fico_range_low, fico_range_high, last_fico_range_high, last_fico_range_low, grade, sub_grade, hardship_flag, hardship_type, hardship_reason, hardship_status, deferral_term, hardship_amount, hardship_start_date, hardship_end_date, payment_plan_start_date, hardship_length, hardship_dpd, hardship_loan_status, orig_projected_additional_accrued_interest, hardship_payoff_balance_amount, hardship_last_payment_amount, disbursement_method, annual_inc, verification_status, dti, annual_inc_joint, dti_joint, verification_status_joint, inq_last_6mths, inq_fi, inq_last_12m, mths_since_recent_inq, open_act_il, open_il_12m, open_il_24m, total_bal_il, il_util, num_il_tl, total_il_high_credit_limit, mths_since_rcnt_il, mo_sin_old_il_acct, acc_now_delinq, tot_coll_amt, tot_cur_bal, max_bal_bc, avg_cur_bal, bc_util, loan_amnt, funded_amnt, funded_amnt_inv, term, int_rate, installment, issue_d, loan_status, pymnt_plan, url, desc, purpose, title, policy_code, application_type, mo_sin_rcnt_tl, mths_since_recent_bc, initial_list_status, out_prncp, out_prncp_inv, total_pymnt, total_pymnt_inv, total_rec_prncp, total_rec_int, total_rec_late_fee, recoveries, collection_recovery_fee, last_pymnt_d, last_pymnt_amnt, next_pymnt_d, mo_sin_old_rev_tl_op, mo_sin_rcnt_rev_tl_op, mths_since_recent_revol_delinq, open_rv_12m, open_rv_24m, total_rev_hi_lim, bc_open_to_buy, num_actv_rev_tl, num_op_rev_tl, num_rev_accts, num_rev_tl_bal_gt_0, revol_bal_joint, sec_app_fico_range_low, sec_app_fico_range_high, sec_app_earliest_cr_line, sec_app_inq_last_6mths, sec_app_mort_acc, sec_app_open_acc, sec_app_revol_util, sec_app_open_act_il, sec_app_num_rev_accts, sec_app_chargeoff_within_12_mths, sec_app_collections_12_mths_ex_med, sec_app_mths_since_last_major_derog, debt_settlement_flag, debt_settlement_flag_date, settlement_status, settlement_date, settlement_amount, settlement_percentage, settlement_term, open_acc_6m, total_cu_tl, acc_open_past_24mths, pct_tl_nvr_dlq, "
     ]
    }
   ],
   "source": [
    "for i in df_ldcb_schema['LoanStatNew'] :\n",
    "    print(i, end=\", \")"
   ]
  },
  {
   "cell_type": "markdown",
   "id": "75825cd7-5bbf-4546-bcf1-92272b350431",
   "metadata": {},
   "source": [
    "## 한글 칼럼명 확인 "
   ]
  },
  {
   "cell_type": "code",
   "execution_count": 10,
   "id": "f75b3e44-1278-4242-bc79-8a313fd77cf7",
   "metadata": {},
   "outputs": [
    {
     "name": "stdout",
     "output_type": "stream",
     "text": [
      "직업명, 근무연차 , 주택소유, 우편번호, 거주국가, 회원번호, 세금체납금액, 주택담도대출계좌수, 연체계좌수, 은행카드활동계좌개수, 은행카드정상계좌개수, 은행카드개수, 은행카드정상개수, 중기연체계좌개수, 단기연체계좌개수, 장기연체계좌개수, 최근개설계좌개수, 특정한도이상소진계좌비율, 연체발생회수 , 신용한도시작일자, 신용한도개설기록횟수, 신용이상기록횟수, 리볼링잔액, 리볼링사용비율, 신용한도, 신용한도총기록회수, 신용한도잔액, 총신용한도금액, 신용한도금액, 은행카드신요한도, 추심횟수, 연체횟수, 파산기록횟수, 세금유치권횟수, 최종연체개월수, 신용평가불랭이후개월수, 최근연체발생후개월수, 마지막거래이후개월수, FICO상한범위, FICO하한범위, 이전FICO상한범위, 이전FICO하한범위, 신용평가등급, 신용평가보조등급, 상환계획실행여부, 상환계획유형, 상환계획사유, 상환계획진행상태, 상환예정개월수, 매월이자납부금액, 상환시작일자, 상환마감일자, 상환계획시작일자, 기준이하납부개월수, 상환미지계좌, 상환이후대출상태, 상환이후추가대출금액, 상환시작일이후상환금액, 상환시작일이후마지막상환금액, 대출금지급유형, 연소득금액, 소득인증상태, 부채대비소득비율, 공동총소득금액, 공동부채대비소득비율, 공동소득인증상태, 6개월간상담횟수, 상담횟수, 12개월간상담횟수, 최근상담이후개월수, 할부거래횟수, 일년간할부계좌개수, 이년간할부계좌개수, 할부계좌잔액, 신용한도대비할부비율, 할부총계좌수, 할부신용한도, 최근할부발생개월수, 가장오리댄할부발생개월수, 연체계조개수, 연체추심금액, 총계좌잔액, 청구최대금액, 계좌평금금액, 신용한도대금비율, 대출금액, 대출약정금액, 투자자대출약정금액, 대출상환기간, 대출이자율, 매월상환금액, 대출조달월, 대출현재상태, 대출지불계획상태, url주소, 대출설명, 대출용도, 대출제목, 대출가능상태, 공동대출여부, 최근계죄개설개월수, 최근은행카드개월수, 대출초기상태, 잔존원금, 투자자잔존원금, 납부된총원금, 투자자납부된총원금, 납부누적원금, 납부누적이자, 납부누적연체료, 채무불이행회수율, 채무불이행회수범위, 최근지급월, 최근지급금액, 다음지급금액, 과거리볼빙발생개월수, 최근리볼빙발생개월수, 최근리볼빙연체개월수, 일년간리볼링거래횟수, 이년간리볼빙거래횟수, 리볼빙신용최대한도, 리볼빙구매총금액, 현재리볼빙진행개수, 현재개설된리볼빙계좌개수, 리볼빙총계좌수, 잔고0이상리볼빙거래개수, 공동리볼빙신용총금액, 보조FICO상한범위, 보조FICO하한범위, 보조신용한도, 보조신용조회횟수, 보조주택담도대출계좌수, 보조거래개수, 리볼빙총잔액비율, 보조할부거래개수, 보조리볼빙계좌수, 보조일년간 과금횟수, 보조일년간추심횟수, 보조나쁜평가개월수, 대출협력여부, 가장최근상환일자, 대출정산계획상태, 대출정산계획일자, 대출정산금액, 대출정산비율금액, 대출정산계획개월수, 최근은행거래횟수, 은행대출거래횟수, 최근거래횟수, 미연체거래비율, "
     ]
    }
   ],
   "source": [
    "for i in df_ldcb_schema['korean_name'] :\n",
    "    print(i, end=\", \")"
   ]
  },
  {
   "cell_type": "code",
   "execution_count": null,
   "id": "5d24004a-46d8-4f57-80c5-c0fed7be40a9",
   "metadata": {},
   "outputs": [],
   "source": []
  },
  {
   "cell_type": "markdown",
   "id": "30dd22be-c893-4c3a-bea7-1d26c5604a4f",
   "metadata": {},
   "source": [
    "# 3. 테이블 분류 "
   ]
  },
  {
   "cell_type": "markdown",
   "id": "a12ab66b-4b64-4e6f-8b3c-cce33b3e5636",
   "metadata": {},
   "source": [
    "## 테이블별 칼럼 조회"
   ]
  },
  {
   "cell_type": "code",
   "execution_count": 11,
   "id": "fc7f89f8-8590-47d8-90d8-223dc09d3571",
   "metadata": {},
   "outputs": [
    {
     "data": {
      "text/plain": [
       "credit                 32\n",
       "loan_account           23\n",
       "hardship               16\n",
       "payment                13\n",
       "secondary_applicant    13\n",
       "revolving              11\n",
       "installment             9\n",
       "settlement              7\n",
       "borrower                6\n",
       "credit_rating           6\n",
       "income                  6\n",
       "inquiry                 4\n",
       "trade                   4\n",
       "Name: Label, dtype: int64"
      ]
     },
     "execution_count": 11,
     "metadata": {},
     "output_type": "execute_result"
    }
   ],
   "source": [
    "df_ldcb_schema['Label'].value_counts()"
   ]
  },
  {
   "cell_type": "code",
   "execution_count": 16,
   "id": "8d9f838d-3503-42d5-bb2f-a80c16c8f78e",
   "metadata": {},
   "outputs": [
    {
     "data": {
      "text/plain": [
       "['borrower',\n",
       " 'borrower',\n",
       " 'borrower',\n",
       " 'borrower',\n",
       " 'borrower',\n",
       " 'borrower',\n",
       " 'credit',\n",
       " 'credit',\n",
       " 'credit',\n",
       " 'credit',\n",
       " 'credit',\n",
       " 'credit',\n",
       " 'credit',\n",
       " 'credit',\n",
       " 'credit',\n",
       " 'credit',\n",
       " 'credit',\n",
       " 'credit',\n",
       " 'credit',\n",
       " 'credit',\n",
       " 'credit',\n",
       " 'credit',\n",
       " 'credit',\n",
       " 'credit',\n",
       " 'credit',\n",
       " 'credit',\n",
       " 'credit',\n",
       " 'credit',\n",
       " 'credit',\n",
       " 'credit',\n",
       " 'credit',\n",
       " 'credit',\n",
       " 'credit',\n",
       " 'credit',\n",
       " 'credit',\n",
       " 'credit',\n",
       " 'credit',\n",
       " 'credit',\n",
       " 'credit_rating',\n",
       " 'credit_rating',\n",
       " 'credit_rating',\n",
       " 'credit_rating',\n",
       " 'credit_rating',\n",
       " 'credit_rating',\n",
       " 'hardship',\n",
       " 'hardship',\n",
       " 'hardship',\n",
       " 'hardship',\n",
       " 'hardship',\n",
       " 'hardship',\n",
       " 'hardship',\n",
       " 'hardship',\n",
       " 'hardship',\n",
       " 'hardship',\n",
       " 'hardship',\n",
       " 'hardship',\n",
       " 'hardship',\n",
       " 'hardship',\n",
       " 'hardship',\n",
       " 'hardship',\n",
       " 'income',\n",
       " 'income',\n",
       " 'income',\n",
       " 'income',\n",
       " 'income',\n",
       " 'income',\n",
       " 'inquiry',\n",
       " 'inquiry',\n",
       " 'inquiry',\n",
       " 'inquiry',\n",
       " 'installment',\n",
       " 'installment',\n",
       " 'installment',\n",
       " 'installment',\n",
       " 'installment',\n",
       " 'installment',\n",
       " 'installment',\n",
       " 'installment',\n",
       " 'installment',\n",
       " 'loan_account',\n",
       " 'loan_account',\n",
       " 'loan_account',\n",
       " 'loan_account',\n",
       " 'loan_account',\n",
       " 'loan_account',\n",
       " 'loan_account',\n",
       " 'loan_account',\n",
       " 'loan_account',\n",
       " 'loan_account',\n",
       " 'loan_account',\n",
       " 'loan_account',\n",
       " 'loan_account',\n",
       " 'loan_account',\n",
       " 'loan_account',\n",
       " 'loan_account',\n",
       " 'loan_account',\n",
       " 'loan_account',\n",
       " 'loan_account',\n",
       " 'loan_account',\n",
       " 'loan_account',\n",
       " 'loan_account',\n",
       " 'loan_account',\n",
       " 'payment',\n",
       " 'payment',\n",
       " 'payment',\n",
       " 'payment',\n",
       " 'payment',\n",
       " 'payment',\n",
       " 'payment',\n",
       " 'payment',\n",
       " 'payment',\n",
       " 'payment',\n",
       " 'payment',\n",
       " 'payment',\n",
       " 'payment',\n",
       " 'revolving',\n",
       " 'revolving',\n",
       " 'revolving',\n",
       " 'revolving',\n",
       " 'revolving',\n",
       " 'revolving',\n",
       " 'revolving',\n",
       " 'revolving',\n",
       " 'revolving',\n",
       " 'revolving',\n",
       " 'revolving',\n",
       " 'secondary_applicant',\n",
       " 'secondary_applicant',\n",
       " 'secondary_applicant',\n",
       " 'secondary_applicant',\n",
       " 'secondary_applicant',\n",
       " 'secondary_applicant',\n",
       " 'secondary_applicant',\n",
       " 'secondary_applicant',\n",
       " 'secondary_applicant',\n",
       " 'secondary_applicant',\n",
       " 'secondary_applicant',\n",
       " 'secondary_applicant',\n",
       " 'secondary_applicant',\n",
       " 'settlement',\n",
       " 'settlement',\n",
       " 'settlement',\n",
       " 'settlement',\n",
       " 'settlement',\n",
       " 'settlement',\n",
       " 'settlement',\n",
       " 'trade',\n",
       " 'trade',\n",
       " 'trade',\n",
       " 'trade']"
      ]
     },
     "execution_count": 16,
     "metadata": {},
     "output_type": "execute_result"
    }
   ],
   "source": [
    "[*df_ldcb_schema['Label']]"
   ]
  },
  {
   "cell_type": "markdown",
   "id": "65992f30-2e69-4764-9af4-06a65c76d6ce",
   "metadata": {},
   "source": [
    "##  각 칼럼의 한글 설명확인"
   ]
  },
  {
   "cell_type": "code",
   "execution_count": 12,
   "id": "e98db024-0508-418a-9dd7-3768485ce66e",
   "metadata": {},
   "outputs": [
    {
     "name": "stdout",
     "output_type": "stream",
     "text": [
      "직업, 연차, 주택_소유_상태, 우편번호(앞 3자리), 거주중인 주, 고객 ID, 체납 금액, 주택담보대출 계좌 수, 120일 이상 연체 계좌 수, 활성 카드 계좌 수, 정상 카드 계좌 수, 카드 계좌 수, 정상 계좌 수, 120일 연체 계좌 수, 30일 연체 계좌 수, 24개월 간 90일 이상 연체된 계좌 수, 최근  12개월 간 개설 계좌, 한도 75% 이상 사용한 카드 계좌 비율, 30일 이상 연체 발생한 횟수, 최초 신용한도 시작 월, 오픈 크레딧 기록 수, 신용에 불리한 기록 수, 총 대금 잔고, 대금 사용 비율, 신용 정보 기록 수, 최근 대출금 지급 월, 신용 한도 잔액, 총 신용 한도, 신용 한도 잔액(주택담보대출 제외), 총 카드 한도 금액, 12개월 내 추심 수, 12개월 내 연체 횟수, 공식적인 파산 기록 수, 세금 유치권 수, 차용인의 마지막 연체 이후의 개월 수 , 최근 90 일 또는 더 나쁜 평가 이후의 개월 수, 가장 최근의 카드 연체 이후의 개월 수 , 가장 최근의 기록으로부터의 개월 수 , FICO 상한범위(대출 시), FICO 하한범위(대출 시), FICO 상한범위(이전), FICO 하한범위(이전), 대출 등급, 대출 보조 등급, 상환 계획 착수 여부, 상환 계획 유형, 대출 사유, 상환 진행 상태, 상환 예정 개월수, 매달 이자 납부액, 상환 시작일, 상환 마감일, 상환 계획 착수 일자, 기준 미만 납부 개월 수, 상환 시작일보다 늦어진 계좌, 상환 시작일 이후 대출 상태, 상환 시작일 이후 추가된 금액, 시작일 이후 상환한 금액, 상환 시작일 이후 최종 지급액, 대출금 지급 유형, 연소득, 소득 인증 여부, 부채 대비 소득 비율, 공동 대출고객 포함 총 소득, 공동 대출고객 부채 대비 소득 비율, 공동 대출고객 소득 인증 여부, 지난 6개월 간 상담 수, 상담 수, 지난 12개월 간 상담 수, 가장 최근 상담 이후의 개월 수 , 할부 거래 수, 지난 12개월 간 개설한 할부 계좌 수, 지난 24개월 간 개설한 할부 계좌 수, 할부 계좌 잔액, 신용한도 대비 대금 비율(할부계좌), 할부 계좌 수, 할부 신용 한도, 최근 할부 계좌 개설 이후의 개월 수 , 가장 오래된 은행 할부 계좌 개설 이후의 개월 수 , 체납 계좌 수, 추심 금액, 총 계좌 잔액, 최대 청구 대금, 전 계좌 평균 대금, 신용한도 대비 대금 비율(카드계좌), 대출 금액, 대출 약정 금액, (투자자들에 의한) 대출 약정 금액, 대출 상환 기간, 대출의 이자율, 월별 상환 금액, 대출금이 조달된 달, 대출의 현재 상태, 대출에 대한 지불 계획이 입력되었는지 여부, Lending Club에 연결되는 URL주소, 대출 설명, 대출 용도, 대출 제목, 공개적으로 사용이 가능한 지 여부 ( 공개적으로 사용이 가능할 경우 : policy_code = 1, 공개적으로 사용이 불가능한 경우 policy_code = 2), 단일 이용자로 구성된 대출인지 여럿이서 구성한 대출인지 여부, 가장 최근의 계좌 개설 이후의 개월 수 , 가장 최근의 카드 계좌 개설 이후의 개월 수 , 대출의 초기 상태 ( W또는 F의 값을 가짐), 잔존원본, (투자자들에게 투자 받은) 잔존원본, 총 대출 금액 대비 현재까지 남부된 원금, 투자자들에게 투자받은 금액 대비 현재까지 남부된 원금, 현재까지 납부된 원금, 현재까지 납부된 이자, 현재까지 납부된 연체료, 회수율 (채무 불이행에 대한 원금 및 발생이자를 회수할 수 있는 범위), 채무 불이행에 대한 추심비용을 회수할 수 있는 범위, 지급이 이루어진 가장 최근의 달, 가장 최근 지급의 액수, 다음 예정된 지급 일자, 가장 오래된 리볼빙 계좌 개설 이후의 개월 수 , 가장 최근의 리볼빙 계좌 개설 이후의 개월 수 , 가장 최근의 리볼빙 연체 이후의 개월 수 , 최근 12개월간 이루어진 리볼빙 거래의 개수, 최근 24개월간 이루어진 리볼빙 거래의 개수, 리볼빙 최대 신용한도 / 리볼빙 신용한도, 리볼빙 카드로 구매할 수 있는 총액, 현재 진행중인 리볼빙 거래의 개수, 현재 개설되어있는 리볼빙 계좌의 개수, 리볼빙 계좌의 총 개수, 잔고가 0원 이상인 리볼빙 거래의 개수, 공동 차용자의 리볼빙 신용 잔액의 합계 (중복 잔액 순), 보조 신청자의 FICO 범위 (높음), 보조 신청자의 FICO 범위 (낮음), 보조 신청자의 지원시 최초의 신용 한도, 보조 신청자의 지원시 최근 6개월 간 신용조회 횟수, 보조 신청자의 지원시 주택 담보 대출 계좌의 개수, 보조 신청자의 지원시 진행 중인 거래의 개수, 모든 리볼빙 계좌의 최대 신용 / 신용 한도에 대한 현재 총 잔액의 비율, 보조 신청자의 지원시 현재 진행 중인 할부 거래의 개수, 보조 신청자의 지원시 리볼빙 계좌 수, 보조 신청자의 지원시 지난 12 개월 이내의 과금 횟수, 보조 신청자의 지원시 의료 수집을 제외한 지난 12 개월 이내 추심 건수, 보조 신청자의 지원시 최근 90 일 또는 더 나쁜 평가 이후의 개월 수, 대출을 상환한 차용인이 채무 결제 회사가 협력하고 있는지 여부, Debt_Settlement_Flag이 지정된 가장 최근의 날짜, 차용인의 정산 계획 상태, 차용인이 정산 계획을 승인한 날짜 , 차용인이 정산하기로 합의한 대출 금액, 대출에 대한 상환 잔액 금액의 백분율로 표현된 정산 금액, 차용자가 정산 계획에 포함되는 개월 수, 최근 6개월 동안 진행된 거래의 개수, 금융 거래 횟수, 최근 24개월간 시작된 거래의 개수, 한번도 연체되지 않은 거래의 비율, "
     ]
    }
   ],
   "source": [
    "for i in df_ldcb_schema['Korean'] :\n",
    "    print(i, end=\", \")"
   ]
  },
  {
   "cell_type": "code",
   "execution_count": null,
   "id": "0a53f06d-97a2-4dfc-9f6f-83dce68b1436",
   "metadata": {},
   "outputs": [],
   "source": []
  },
  {
   "cell_type": "code",
   "execution_count": 22,
   "id": "267449d7-96d5-4293-ba3b-416616bdb66a",
   "metadata": {},
   "outputs": [
    {
     "data": {
      "text/plain": [
       "<zip at 0x155e06200>"
      ]
     },
     "execution_count": 22,
     "metadata": {},
     "output_type": "execute_result"
    }
   ],
   "source": [
    "zip(df_ldcb_schema['LoanStatNew'].values,df_ldcb_schema['korean_name'].values)"
   ]
  },
  {
   "cell_type": "code",
   "execution_count": null,
   "id": "cfb2c672-b4c6-47d4-b226-b8194d0b76c1",
   "metadata": {},
   "outputs": [],
   "source": []
  },
  {
   "cell_type": "markdown",
   "id": "04e0fcd7-f7be-4837-9eeb-2108ea804c7e",
   "metadata": {},
   "source": [
    "# 3. 메타정보 관리 클래스 정의"
   ]
  },
  {
   "cell_type": "code",
   "execution_count": 39,
   "id": "bd8ef117-ae6a-47a9-9779-7ecfb7c7d3e8",
   "metadata": {},
   "outputs": [],
   "source": [
    "class SearchMeta :\n",
    "    def __init__(self,schema) :\n",
    "        self.schema = schema\n",
    "        self._createEnSchema()\n",
    "        self._createKrSchema()\n",
    "     \n",
    "    def _createEnSchema(self) :\n",
    "        self.edd = {k:v for k,v in zip(self.schema['LoanStatNew'].values,self.schema['korean_name'].values)} \n",
    "\n",
    "    def _createKrSchema(self) :\n",
    "        self.kdd = {k:v for k,v in zip(self.schema['korean_name'].values,self.schema['LoanStatNew'].values)} \n",
    "\n",
    "    def searchEnMeta(self,key) :\n",
    "        return self.edd.get(key) \n",
    "\n",
    "    def searchEnMetaAll(self,keys) :\n",
    "        return [ self.edd.get(key) for key in keys] \n",
    "\n",
    "    def searchKrMeta(self,key) :\n",
    "        return self.kdd.get(key) \n",
    "\n",
    "    def searchKrMetaAll(self,keys) :\n",
    "        return [ self.kdd.get(key) for key in keys] \n",
    "\n",
    "    def searchLable(self,lable) :\n",
    "        return self.schema[self.schema['Label'] == lable]"
   ]
  },
  {
   "cell_type": "code",
   "execution_count": 40,
   "id": "4f4dc1bf-c71a-4b0a-becc-4302cd189928",
   "metadata": {},
   "outputs": [],
   "source": [
    "meta = SearchMeta(df_ldcb_schema)"
   ]
  },
  {
   "cell_type": "code",
   "execution_count": 41,
   "id": "27e75f66-0353-443e-864c-9bf764c186d9",
   "metadata": {},
   "outputs": [
    {
     "data": {
      "text/html": [
       "<div>\n",
       "<style scoped>\n",
       "    .dataframe tbody tr th:only-of-type {\n",
       "        vertical-align: middle;\n",
       "    }\n",
       "\n",
       "    .dataframe tbody tr th {\n",
       "        vertical-align: top;\n",
       "    }\n",
       "\n",
       "    .dataframe thead th {\n",
       "        text-align: right;\n",
       "    }\n",
       "</style>\n",
       "<table border=\"1\" class=\"dataframe\">\n",
       "  <thead>\n",
       "    <tr style=\"text-align: right;\">\n",
       "      <th></th>\n",
       "      <th>no</th>\n",
       "      <th>LoanStatNew</th>\n",
       "      <th>Label</th>\n",
       "      <th>Description</th>\n",
       "      <th>Korean</th>\n",
       "      <th>lab_desc</th>\n",
       "      <th>korean_name</th>\n",
       "    </tr>\n",
       "  </thead>\n",
       "  <tbody>\n",
       "    <tr>\n",
       "      <th>0</th>\n",
       "      <td>1</td>\n",
       "      <td>emp_title</td>\n",
       "      <td>borrower</td>\n",
       "      <td>The job title supplied by the Borrower when ap...</td>\n",
       "      <td>직업</td>\n",
       "      <td>고객 정보</td>\n",
       "      <td>직업명</td>\n",
       "    </tr>\n",
       "    <tr>\n",
       "      <th>1</th>\n",
       "      <td>2</td>\n",
       "      <td>emp_length</td>\n",
       "      <td>borrower</td>\n",
       "      <td>Employment length in years. Possible values ar...</td>\n",
       "      <td>연차</td>\n",
       "      <td>고객 정보</td>\n",
       "      <td>근무연차</td>\n",
       "    </tr>\n",
       "    <tr>\n",
       "      <th>2</th>\n",
       "      <td>3</td>\n",
       "      <td>home_ownership</td>\n",
       "      <td>borrower</td>\n",
       "      <td>The home ownership status provided by the borr...</td>\n",
       "      <td>주택_소유_상태</td>\n",
       "      <td>고객 정보</td>\n",
       "      <td>주택소유</td>\n",
       "    </tr>\n",
       "    <tr>\n",
       "      <th>3</th>\n",
       "      <td>4</td>\n",
       "      <td>zip_code</td>\n",
       "      <td>borrower</td>\n",
       "      <td>The first 3 numbers of the zip code provided b...</td>\n",
       "      <td>우편번호(앞 3자리)</td>\n",
       "      <td>고객 정보</td>\n",
       "      <td>우편번호</td>\n",
       "    </tr>\n",
       "    <tr>\n",
       "      <th>4</th>\n",
       "      <td>5</td>\n",
       "      <td>addr_state</td>\n",
       "      <td>borrower</td>\n",
       "      <td>The state provided by the borrower in the loan...</td>\n",
       "      <td>거주중인 주</td>\n",
       "      <td>고객 정보</td>\n",
       "      <td>거주국가</td>\n",
       "    </tr>\n",
       "    <tr>\n",
       "      <th>5</th>\n",
       "      <td>6</td>\n",
       "      <td>member_id</td>\n",
       "      <td>borrower</td>\n",
       "      <td>A unique LC assigned Id for the borrower member.</td>\n",
       "      <td>고객 ID</td>\n",
       "      <td>고객 정보</td>\n",
       "      <td>회원번호</td>\n",
       "    </tr>\n",
       "  </tbody>\n",
       "</table>\n",
       "</div>"
      ],
      "text/plain": [
       "   no     LoanStatNew     Label  \\\n",
       "0   1       emp_title  borrower   \n",
       "1   2      emp_length  borrower   \n",
       "2   3  home_ownership  borrower   \n",
       "3   4        zip_code  borrower   \n",
       "4   5      addr_state  borrower   \n",
       "5   6       member_id  borrower   \n",
       "\n",
       "                                         Description       Korean lab_desc  \\\n",
       "0  The job title supplied by the Borrower when ap...           직업    고객 정보   \n",
       "1  Employment length in years. Possible values ar...           연차    고객 정보   \n",
       "2  The home ownership status provided by the borr...     주택_소유_상태    고객 정보   \n",
       "3  The first 3 numbers of the zip code provided b...  우편번호(앞 3자리)    고객 정보   \n",
       "4  The state provided by the borrower in the loan...       거주중인 주    고객 정보   \n",
       "5   A unique LC assigned Id for the borrower member.        고객 ID    고객 정보   \n",
       "\n",
       "  korean_name  \n",
       "0         직업명  \n",
       "1       근무연차   \n",
       "2        주택소유  \n",
       "3        우편번호  \n",
       "4        거주국가  \n",
       "5        회원번호  "
      ]
     },
     "execution_count": 41,
     "metadata": {},
     "output_type": "execute_result"
    }
   ],
   "source": [
    "meta.searchLable(\"borrower\")"
   ]
  },
  {
   "cell_type": "markdown",
   "id": "ec368138-e5ff-4479-98b0-9f18e8904232",
   "metadata": {},
   "source": [
    "## 메타관리 모듈을 작성 "
   ]
  },
  {
   "cell_type": "code",
   "execution_count": 7,
   "id": "a8a19ac9-32d2-4e6a-a5fe-596d9a6f18f9",
   "metadata": {},
   "outputs": [
    {
     "name": "stdout",
     "output_type": "stream",
     "text": [
      "Overwriting meta.py\n"
     ]
    }
   ],
   "source": [
    "%%writefile meta.py\n",
    "\n",
    "class SearchMeta :\n",
    "    def __init__(self,schema) :\n",
    "        self.schema = schema\n",
    "        self._createEnSchema()\n",
    "        self._createKrSchema()\n",
    "     \n",
    "    def _createEnSchema(self) :\n",
    "        self.edd = {k:v for k,v in zip(self.schema['LoanStatNew'].values,self.schema['korean_name'].values)} \n",
    "\n",
    "    def _createKrSchema(self) :\n",
    "        self.kdd = {k:v for k,v in zip(self.schema['korean_name'].values,self.schema['LoanStatNew'].values)} \n",
    "\n",
    "    def searchEnMeta(self,key) :\n",
    "        return self.edd.get(key) \n",
    "\n",
    "    def searchEnMetaAll(self,keys) :\n",
    "        return [ self.edd.get(key) for key in keys] \n",
    "\n",
    "    def searchKrMeta(self,key) :\n",
    "        return self.kdd.get(key) \n",
    "\n",
    "    def searchKrMetaAll(self,keys) :\n",
    "        return [ self.kdd.get(key) for key in keys] \n",
    "\n",
    "    def searchLable(self,lable) :\n",
    "        return self.schema[self.schema['Label'] == lable]"
   ]
  },
  {
   "cell_type": "code",
   "execution_count": null,
   "id": "24c2dc82-8a96-4712-b98f-251234df5e8e",
   "metadata": {},
   "outputs": [],
   "source": []
  }
 ],
 "metadata": {
  "kernelspec": {
   "display_name": "Python 3 (ipykernel)",
   "language": "python",
   "name": "python3"
  },
  "language_info": {
   "codemirror_mode": {
    "name": "ipython",
    "version": 3
   },
   "file_extension": ".py",
   "mimetype": "text/x-python",
   "name": "python",
   "nbconvert_exporter": "python",
   "pygments_lexer": "ipython3",
   "version": "3.9.19"
  }
 },
 "nbformat": 4,
 "nbformat_minor": 5
}
