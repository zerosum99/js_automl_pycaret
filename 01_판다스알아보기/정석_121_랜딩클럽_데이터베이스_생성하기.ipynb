{
 "cells": [
  {
   "cell_type": "code",
   "execution_count": null,
   "id": "b3e22203-efc3-4067-9207-8774d3b852e0",
   "metadata": {},
   "outputs": [],
   "source": []
  },
  {
   "cell_type": "markdown",
   "id": "c88aac67-e534-47af-a5b0-475dd32c1726",
   "metadata": {},
   "source": [
    "# 1. sqlite 사용하기 "
   ]
  },
  {
   "cell_type": "code",
   "execution_count": 1,
   "id": "1bd92f76-5391-4d82-8192-e9f38f539a0f",
   "metadata": {},
   "outputs": [],
   "source": [
    "import pandas as pd\n",
    "import numpy as np\n",
    "import sqlite3\n",
    "import os"
   ]
  },
  {
   "cell_type": "code",
   "execution_count": 2,
   "id": "0208bed4-a2c3-40c7-b494-93012b570771",
   "metadata": {},
   "outputs": [
    {
     "data": {
      "text/plain": [
       "'/Users/a06411/Documents/GitHub/js_automl_pycaret/01_판다스알아보기'"
      ]
     },
     "execution_count": 2,
     "metadata": {},
     "output_type": "execute_result"
    }
   ],
   "source": [
    "%pwd"
   ]
  },
  {
   "cell_type": "markdown",
   "id": "6818f416-0743-430d-b7ca-158539a887cf",
   "metadata": {},
   "source": [
    "## 스키마 정보 가져오기 "
   ]
  },
  {
   "cell_type": "code",
   "execution_count": 4,
   "id": "4130aba4-9e1e-4344-ab3b-1b37285758f8",
   "metadata": {},
   "outputs": [],
   "source": [
    "df_schema = pd.read_excel(\"../lending_club_data/테이블정보_한글칼럼명추가.xlsx\")"
   ]
  },
  {
   "cell_type": "code",
   "execution_count": 5,
   "id": "8e32b8b8-1d07-4be3-bf2d-94019e1c170e",
   "metadata": {},
   "outputs": [
    {
     "data": {
      "text/html": [
       "<div>\n",
       "<style scoped>\n",
       "    .dataframe tbody tr th:only-of-type {\n",
       "        vertical-align: middle;\n",
       "    }\n",
       "\n",
       "    .dataframe tbody tr th {\n",
       "        vertical-align: top;\n",
       "    }\n",
       "\n",
       "    .dataframe thead th {\n",
       "        text-align: right;\n",
       "    }\n",
       "</style>\n",
       "<table border=\"1\" class=\"dataframe\">\n",
       "  <thead>\n",
       "    <tr style=\"text-align: right;\">\n",
       "      <th></th>\n",
       "      <th>no</th>\n",
       "      <th>LoanStatNew</th>\n",
       "      <th>Label</th>\n",
       "      <th>Description</th>\n",
       "      <th>Korean</th>\n",
       "      <th>lab_desc</th>\n",
       "      <th>korean_name</th>\n",
       "    </tr>\n",
       "  </thead>\n",
       "  <tbody>\n",
       "    <tr>\n",
       "      <th>0</th>\n",
       "      <td>1</td>\n",
       "      <td>emp_title</td>\n",
       "      <td>borrower</td>\n",
       "      <td>The job title supplied by the Borrower when ap...</td>\n",
       "      <td>직업</td>\n",
       "      <td>고객 정보</td>\n",
       "      <td>직업명</td>\n",
       "    </tr>\n",
       "    <tr>\n",
       "      <th>1</th>\n",
       "      <td>2</td>\n",
       "      <td>emp_length</td>\n",
       "      <td>borrower</td>\n",
       "      <td>Employment length in years. Possible values ar...</td>\n",
       "      <td>연차</td>\n",
       "      <td>고객 정보</td>\n",
       "      <td>근무연차</td>\n",
       "    </tr>\n",
       "    <tr>\n",
       "      <th>2</th>\n",
       "      <td>3</td>\n",
       "      <td>home_ownership</td>\n",
       "      <td>borrower</td>\n",
       "      <td>The home ownership status provided by the borr...</td>\n",
       "      <td>주택_소유_상태</td>\n",
       "      <td>고객 정보</td>\n",
       "      <td>주택소유</td>\n",
       "    </tr>\n",
       "    <tr>\n",
       "      <th>3</th>\n",
       "      <td>4</td>\n",
       "      <td>zip_code</td>\n",
       "      <td>borrower</td>\n",
       "      <td>The first 3 numbers of the zip code provided b...</td>\n",
       "      <td>우편번호(앞 3자리)</td>\n",
       "      <td>고객 정보</td>\n",
       "      <td>우편번호</td>\n",
       "    </tr>\n",
       "    <tr>\n",
       "      <th>4</th>\n",
       "      <td>5</td>\n",
       "      <td>addr_state</td>\n",
       "      <td>borrower</td>\n",
       "      <td>The state provided by the borrower in the loan...</td>\n",
       "      <td>거주중인 주</td>\n",
       "      <td>고객 정보</td>\n",
       "      <td>거주국가</td>\n",
       "    </tr>\n",
       "  </tbody>\n",
       "</table>\n",
       "</div>"
      ],
      "text/plain": [
       "   no     LoanStatNew     Label  \\\n",
       "0   1       emp_title  borrower   \n",
       "1   2      emp_length  borrower   \n",
       "2   3  home_ownership  borrower   \n",
       "3   4        zip_code  borrower   \n",
       "4   5      addr_state  borrower   \n",
       "\n",
       "                                         Description       Korean lab_desc  \\\n",
       "0  The job title supplied by the Borrower when ap...           직업    고객 정보   \n",
       "1  Employment length in years. Possible values ar...           연차    고객 정보   \n",
       "2  The home ownership status provided by the borr...     주택_소유_상태    고객 정보   \n",
       "3  The first 3 numbers of the zip code provided b...  우편번호(앞 3자리)    고객 정보   \n",
       "4  The state provided by the borrower in the loan...       거주중인 주    고객 정보   \n",
       "\n",
       "  korean_name  \n",
       "0         직업명  \n",
       "1       근무연차   \n",
       "2        주택소유  \n",
       "3        우편번호  \n",
       "4        거주국가  "
      ]
     },
     "execution_count": 5,
     "metadata": {},
     "output_type": "execute_result"
    }
   ],
   "source": [
    "df_schema.head()"
   ]
  },
  {
   "cell_type": "code",
   "execution_count": 6,
   "id": "f6004f3e-1ca9-4e50-bac6-712f10dcbb29",
   "metadata": {},
   "outputs": [],
   "source": [
    "import meta"
   ]
  },
  {
   "cell_type": "code",
   "execution_count": 7,
   "id": "ea548fae-5045-4833-bf36-975347e69f18",
   "metadata": {},
   "outputs": [],
   "source": [
    "df_cols = meta.SearchMeta(df_schema)"
   ]
  },
  {
   "cell_type": "code",
   "execution_count": 8,
   "id": "4f3090c7-99e1-4160-8d87-dfe8d072db5d",
   "metadata": {},
   "outputs": [
    {
     "data": {
      "text/plain": [
       "<meta.SearchMeta at 0x11e8a6370>"
      ]
     },
     "execution_count": 8,
     "metadata": {},
     "output_type": "execute_result"
    }
   ],
   "source": [
    "df_cols"
   ]
  },
  {
   "cell_type": "markdown",
   "id": "e771f0b2-8a40-4183-9b2b-8b3f8418fd55",
   "metadata": {},
   "source": [
    "## 데이터 읽어오기 "
   ]
  },
  {
   "cell_type": "code",
   "execution_count": 9,
   "id": "c9291312-1105-4e91-a6a0-743621bf83d9",
   "metadata": {},
   "outputs": [],
   "source": [
    "path_r = '/Users/a06411/Documents/GitHub/js_automl_pycaret/lending_club_data/lending_club_2012.csv'"
   ]
  },
  {
   "cell_type": "code",
   "execution_count": 12,
   "id": "78cee918-9ebc-472d-9e43-ddf40a3b8a41",
   "metadata": {},
   "outputs": [],
   "source": [
    "accept = pd.read_csv(path_r,low_memory=False)"
   ]
  },
  {
   "cell_type": "code",
   "execution_count": 13,
   "id": "2b3f9e48-ec22-469a-8c08-a3f393b9f095",
   "metadata": {},
   "outputs": [
    {
     "data": {
      "text/html": [
       "<div>\n",
       "<style scoped>\n",
       "    .dataframe tbody tr th:only-of-type {\n",
       "        vertical-align: middle;\n",
       "    }\n",
       "\n",
       "    .dataframe tbody tr th {\n",
       "        vertical-align: top;\n",
       "    }\n",
       "\n",
       "    .dataframe thead th {\n",
       "        text-align: right;\n",
       "    }\n",
       "</style>\n",
       "<table border=\"1\" class=\"dataframe\">\n",
       "  <thead>\n",
       "    <tr style=\"text-align: right;\">\n",
       "      <th></th>\n",
       "      <th>id</th>\n",
       "      <th>회원번호</th>\n",
       "      <th>대출금액</th>\n",
       "      <th>대출약정금액</th>\n",
       "      <th>투자자대출약정금액</th>\n",
       "      <th>대출상환기간</th>\n",
       "      <th>대출이자율</th>\n",
       "      <th>매월상환금액</th>\n",
       "      <th>신용평가등급</th>\n",
       "      <th>신용평가보조등급</th>\n",
       "      <th>...</th>\n",
       "      <th>상환시작일이후상환금액</th>\n",
       "      <th>상환시작일이후마지막상환금액</th>\n",
       "      <th>대출금지급유형</th>\n",
       "      <th>대출협력여부</th>\n",
       "      <th>가장최근상환일자</th>\n",
       "      <th>대출정산계획상태</th>\n",
       "      <th>대출정산계획일자</th>\n",
       "      <th>대출정산금액</th>\n",
       "      <th>대출정산비율금액</th>\n",
       "      <th>대출정산계획개월수</th>\n",
       "    </tr>\n",
       "  </thead>\n",
       "  <tbody>\n",
       "    <tr>\n",
       "      <th>0</th>\n",
       "      <td>2515062</td>\n",
       "      <td>NaN</td>\n",
       "      <td>8500.0</td>\n",
       "      <td>8500.0</td>\n",
       "      <td>8500.0</td>\n",
       "      <td>36 months</td>\n",
       "      <td>13.11</td>\n",
       "      <td>286.85</td>\n",
       "      <td>B</td>\n",
       "      <td>B4</td>\n",
       "      <td>...</td>\n",
       "      <td>NaN</td>\n",
       "      <td>NaN</td>\n",
       "      <td>Cash</td>\n",
       "      <td>N</td>\n",
       "      <td>NaN</td>\n",
       "      <td>NaN</td>\n",
       "      <td>NaN</td>\n",
       "      <td>NaN</td>\n",
       "      <td>NaN</td>\n",
       "      <td>NaN</td>\n",
       "    </tr>\n",
       "    <tr>\n",
       "      <th>1</th>\n",
       "      <td>1435195</td>\n",
       "      <td>NaN</td>\n",
       "      <td>15850.0</td>\n",
       "      <td>15850.0</td>\n",
       "      <td>15850.0</td>\n",
       "      <td>36 months</td>\n",
       "      <td>19.05</td>\n",
       "      <td>581.40</td>\n",
       "      <td>D</td>\n",
       "      <td>D4</td>\n",
       "      <td>...</td>\n",
       "      <td>NaN</td>\n",
       "      <td>NaN</td>\n",
       "      <td>Cash</td>\n",
       "      <td>N</td>\n",
       "      <td>NaN</td>\n",
       "      <td>NaN</td>\n",
       "      <td>NaN</td>\n",
       "      <td>NaN</td>\n",
       "      <td>NaN</td>\n",
       "      <td>NaN</td>\n",
       "    </tr>\n",
       "    <tr>\n",
       "      <th>2</th>\n",
       "      <td>1856218</td>\n",
       "      <td>NaN</td>\n",
       "      <td>23850.0</td>\n",
       "      <td>23850.0</td>\n",
       "      <td>23850.0</td>\n",
       "      <td>60 months</td>\n",
       "      <td>19.05</td>\n",
       "      <td>619.34</td>\n",
       "      <td>D</td>\n",
       "      <td>D4</td>\n",
       "      <td>...</td>\n",
       "      <td>NaN</td>\n",
       "      <td>NaN</td>\n",
       "      <td>Cash</td>\n",
       "      <td>N</td>\n",
       "      <td>NaN</td>\n",
       "      <td>NaN</td>\n",
       "      <td>NaN</td>\n",
       "      <td>NaN</td>\n",
       "      <td>NaN</td>\n",
       "      <td>NaN</td>\n",
       "    </tr>\n",
       "    <tr>\n",
       "      <th>3</th>\n",
       "      <td>2216955</td>\n",
       "      <td>NaN</td>\n",
       "      <td>18000.0</td>\n",
       "      <td>18000.0</td>\n",
       "      <td>17950.0</td>\n",
       "      <td>60 months</td>\n",
       "      <td>19.05</td>\n",
       "      <td>467.43</td>\n",
       "      <td>D</td>\n",
       "      <td>D4</td>\n",
       "      <td>...</td>\n",
       "      <td>NaN</td>\n",
       "      <td>NaN</td>\n",
       "      <td>Cash</td>\n",
       "      <td>N</td>\n",
       "      <td>NaN</td>\n",
       "      <td>NaN</td>\n",
       "      <td>NaN</td>\n",
       "      <td>NaN</td>\n",
       "      <td>NaN</td>\n",
       "      <td>NaN</td>\n",
       "    </tr>\n",
       "    <tr>\n",
       "      <th>4</th>\n",
       "      <td>1506044</td>\n",
       "      <td>NaN</td>\n",
       "      <td>14000.0</td>\n",
       "      <td>14000.0</td>\n",
       "      <td>13750.0</td>\n",
       "      <td>36 months</td>\n",
       "      <td>12.12</td>\n",
       "      <td>465.81</td>\n",
       "      <td>B</td>\n",
       "      <td>B3</td>\n",
       "      <td>...</td>\n",
       "      <td>NaN</td>\n",
       "      <td>NaN</td>\n",
       "      <td>Cash</td>\n",
       "      <td>N</td>\n",
       "      <td>NaN</td>\n",
       "      <td>NaN</td>\n",
       "      <td>NaN</td>\n",
       "      <td>NaN</td>\n",
       "      <td>NaN</td>\n",
       "      <td>NaN</td>\n",
       "    </tr>\n",
       "  </tbody>\n",
       "</table>\n",
       "<p>5 rows × 151 columns</p>\n",
       "</div>"
      ],
      "text/plain": [
       "        id  회원번호     대출금액   대출약정금액  투자자대출약정금액      대출상환기간  대출이자율  매월상환금액  \\\n",
       "0  2515062   NaN   8500.0   8500.0     8500.0   36 months  13.11  286.85   \n",
       "1  1435195   NaN  15850.0  15850.0    15850.0   36 months  19.05  581.40   \n",
       "2  1856218   NaN  23850.0  23850.0    23850.0   60 months  19.05  619.34   \n",
       "3  2216955   NaN  18000.0  18000.0    17950.0   60 months  19.05  467.43   \n",
       "4  1506044   NaN  14000.0  14000.0    13750.0   36 months  12.12  465.81   \n",
       "\n",
       "  신용평가등급 신용평가보조등급  ... 상환시작일이후상환금액 상환시작일이후마지막상환금액 대출금지급유형  대출협력여부 가장최근상환일자  \\\n",
       "0      B       B4  ...         NaN            NaN    Cash       N      NaN   \n",
       "1      D       D4  ...         NaN            NaN    Cash       N      NaN   \n",
       "2      D       D4  ...         NaN            NaN    Cash       N      NaN   \n",
       "3      D       D4  ...         NaN            NaN    Cash       N      NaN   \n",
       "4      B       B3  ...         NaN            NaN    Cash       N      NaN   \n",
       "\n",
       "  대출정산계획상태 대출정산계획일자 대출정산금액 대출정산비율금액 대출정산계획개월수  \n",
       "0      NaN      NaN    NaN      NaN       NaN  \n",
       "1      NaN      NaN    NaN      NaN       NaN  \n",
       "2      NaN      NaN    NaN      NaN       NaN  \n",
       "3      NaN      NaN    NaN      NaN       NaN  \n",
       "4      NaN      NaN    NaN      NaN       NaN  \n",
       "\n",
       "[5 rows x 151 columns]"
      ]
     },
     "execution_count": 13,
     "metadata": {},
     "output_type": "execute_result"
    }
   ],
   "source": [
    "accept.head()"
   ]
  },
  {
   "cell_type": "code",
   "execution_count": null,
   "id": "9a5f5694-89ef-4937-a6a9-12628979b908",
   "metadata": {},
   "outputs": [],
   "source": []
  },
  {
   "cell_type": "markdown",
   "id": "9f6393c3-08f5-4dab-92f4-b3fb819b38b3",
   "metadata": {},
   "source": [
    "## 테이블을 생성하는 함수 작성 "
   ]
  },
  {
   "cell_type": "code",
   "execution_count": 14,
   "id": "af874539-4a1c-40ff-b5c2-a03d96e72b8b",
   "metadata": {},
   "outputs": [],
   "source": [
    "def put(df_csv, label_info, db):\n",
    "  tblname = label_info[\"Label\"].unique()\n",
    "  for i in tblname:\n",
    "    cols = list(label_info[label_info['Label'] == i]['korean_name'].values)    # label별 데이터 분리\n",
    "    df = df_csv[[\"id\"]+ cols]  #id값 포함\n",
    "    df.to_sql(i, db, if_exists='replace', index=False)\n",
    "  db.close()"
   ]
  },
  {
   "cell_type": "code",
   "execution_count": 15,
   "id": "4aced62f-b998-4770-bee4-d675924839ac",
   "metadata": {},
   "outputs": [],
   "source": [
    "## 데이터베이스 처리 패스 지정"
   ]
  },
  {
   "cell_type": "code",
   "execution_count": 16,
   "id": "b9b2b1c5-a925-4d7a-a5da-5c32a3d1be43",
   "metadata": {},
   "outputs": [],
   "source": [
    "path_db = \"/Users/a06411/Documents/GitHub/js_automl_pycaret/lending_club_data/sql_db/lending_club_2012_hw.db\""
   ]
  },
  {
   "cell_type": "markdown",
   "id": "bfdc74f5-eb90-4134-bada-a3178b2cf4d0",
   "metadata": {},
   "source": [
    "## sql 접속하고 스키마 생성하기 "
   ]
  },
  {
   "cell_type": "code",
   "execution_count": 17,
   "id": "bfd82ca3-b6e7-4407-a255-b8689037a18f",
   "metadata": {},
   "outputs": [],
   "source": [
    "con = sqlite3.connect(path_db)\n",
    "put(accept,df_schema, con)"
   ]
  },
  {
   "cell_type": "code",
   "execution_count": null,
   "id": "d87c7186-c0fb-4adc-9467-969b529bcdf0",
   "metadata": {},
   "outputs": [],
   "source": []
  }
 ],
 "metadata": {
  "kernelspec": {
   "display_name": "Python 3 (ipykernel)",
   "language": "python",
   "name": "python3"
  },
  "language_info": {
   "codemirror_mode": {
    "name": "ipython",
    "version": 3
   },
   "file_extension": ".py",
   "mimetype": "text/x-python",
   "name": "python",
   "nbconvert_exporter": "python",
   "pygments_lexer": "ipython3",
   "version": "3.9.19"
  }
 },
 "nbformat": 4,
 "nbformat_minor": 5
}
