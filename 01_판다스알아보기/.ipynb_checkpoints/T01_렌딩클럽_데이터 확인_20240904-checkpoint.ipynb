{
 "cells": [
  {
   "cell_type": "markdown",
   "id": "d7625687-c9d3-446e-889c-2379c07a18ef",
   "metadata": {},
   "source": [
    "## 모듈 사용하기"
   ]
  },
  {
   "cell_type": "code",
   "execution_count": 81,
   "id": "94567496-ef56-415f-8252-7037ff78a62e",
   "metadata": {},
   "outputs": [],
   "source": [
    "import pandas as pd\n",
    "import re\n",
    "import numpy as np\n",
    "import sqlite3\n",
    "import os"
   ]
  },
  {
   "cell_type": "code",
   "execution_count": 16,
   "id": "38252476-e183-431e-9166-b0f6ef5a4eba",
   "metadata": {},
   "outputs": [
    {
     "data": {
      "text/plain": [
       "'1.5.3'"
      ]
     },
     "execution_count": 16,
     "metadata": {},
     "output_type": "execute_result"
    }
   ],
   "source": [
    "pd.__version__"
   ]
  },
  {
   "cell_type": "markdown",
   "id": "132c3f44-6fcc-466c-b4b2-338d06cec59f",
   "metadata": {},
   "source": [
    "## 1. 렌딩클럽 데이터의 메타 데이터 확인하기 "
   ]
  },
  {
   "cell_type": "code",
   "execution_count": 3,
   "id": "20a5107d-b4e9-43a5-a7b5-403002581d6b",
   "metadata": {},
   "outputs": [],
   "source": [
    "df_ldcb_schema = pd.read_excel(\"../lending_club_data/테이블정보_한글칼럼명추가.xlsx\")"
   ]
  },
  {
   "cell_type": "code",
   "execution_count": 4,
   "id": "1783ae5f-4ab5-4fec-ae27-8f9b0326a3bf",
   "metadata": {},
   "outputs": [
    {
     "data": {
      "text/html": [
       "<div>\n",
       "<style scoped>\n",
       "    .dataframe tbody tr th:only-of-type {\n",
       "        vertical-align: middle;\n",
       "    }\n",
       "\n",
       "    .dataframe tbody tr th {\n",
       "        vertical-align: top;\n",
       "    }\n",
       "\n",
       "    .dataframe thead th {\n",
       "        text-align: right;\n",
       "    }\n",
       "</style>\n",
       "<table border=\"1\" class=\"dataframe\">\n",
       "  <thead>\n",
       "    <tr style=\"text-align: right;\">\n",
       "      <th></th>\n",
       "      <th>no</th>\n",
       "      <th>LoanStatNew</th>\n",
       "      <th>Label</th>\n",
       "      <th>Description</th>\n",
       "      <th>Korean</th>\n",
       "      <th>lab_desc</th>\n",
       "      <th>korean_name</th>\n",
       "    </tr>\n",
       "  </thead>\n",
       "  <tbody>\n",
       "    <tr>\n",
       "      <th>0</th>\n",
       "      <td>1</td>\n",
       "      <td>emp_title</td>\n",
       "      <td>borrower</td>\n",
       "      <td>The job title supplied by the Borrower when ap...</td>\n",
       "      <td>직업</td>\n",
       "      <td>고객 정보</td>\n",
       "      <td>직업명</td>\n",
       "    </tr>\n",
       "    <tr>\n",
       "      <th>1</th>\n",
       "      <td>2</td>\n",
       "      <td>emp_length</td>\n",
       "      <td>borrower</td>\n",
       "      <td>Employment length in years. Possible values ar...</td>\n",
       "      <td>연차</td>\n",
       "      <td>고객 정보</td>\n",
       "      <td>근무연차</td>\n",
       "    </tr>\n",
       "    <tr>\n",
       "      <th>2</th>\n",
       "      <td>3</td>\n",
       "      <td>home_ownership</td>\n",
       "      <td>borrower</td>\n",
       "      <td>The home ownership status provided by the borr...</td>\n",
       "      <td>주택_소유_상태</td>\n",
       "      <td>고객 정보</td>\n",
       "      <td>주택소유</td>\n",
       "    </tr>\n",
       "    <tr>\n",
       "      <th>3</th>\n",
       "      <td>4</td>\n",
       "      <td>zip_code</td>\n",
       "      <td>borrower</td>\n",
       "      <td>The first 3 numbers of the zip code provided b...</td>\n",
       "      <td>우편번호(앞 3자리)</td>\n",
       "      <td>고객 정보</td>\n",
       "      <td>우편번호</td>\n",
       "    </tr>\n",
       "    <tr>\n",
       "      <th>4</th>\n",
       "      <td>5</td>\n",
       "      <td>addr_state</td>\n",
       "      <td>borrower</td>\n",
       "      <td>The state provided by the borrower in the loan...</td>\n",
       "      <td>거주중인 주</td>\n",
       "      <td>고객 정보</td>\n",
       "      <td>거주국가</td>\n",
       "    </tr>\n",
       "    <tr>\n",
       "      <th>...</th>\n",
       "      <td>...</td>\n",
       "      <td>...</td>\n",
       "      <td>...</td>\n",
       "      <td>...</td>\n",
       "      <td>...</td>\n",
       "      <td>...</td>\n",
       "      <td>...</td>\n",
       "    </tr>\n",
       "    <tr>\n",
       "      <th>145</th>\n",
       "      <td>146</td>\n",
       "      <td>settlement_term</td>\n",
       "      <td>settlement</td>\n",
       "      <td>The number of months that the borrower will be...</td>\n",
       "      <td>차용자가 정산 계획에 포함되는 개월 수</td>\n",
       "      <td>settlement(부채 정산)\\n정보</td>\n",
       "      <td>대출정산계획개월수</td>\n",
       "    </tr>\n",
       "    <tr>\n",
       "      <th>146</th>\n",
       "      <td>147</td>\n",
       "      <td>open_acc_6m</td>\n",
       "      <td>trade</td>\n",
       "      <td>Number of open trades in last 6 months</td>\n",
       "      <td>최근 6개월 동안 진행된 거래의 개수</td>\n",
       "      <td>trade(금융 거래) 정보</td>\n",
       "      <td>최근은행거래횟수</td>\n",
       "    </tr>\n",
       "    <tr>\n",
       "      <th>147</th>\n",
       "      <td>148</td>\n",
       "      <td>total_cu_tl</td>\n",
       "      <td>trade</td>\n",
       "      <td>Number of finance trades</td>\n",
       "      <td>금융 거래 횟수</td>\n",
       "      <td>trade(금융 거래) 정보</td>\n",
       "      <td>은행대출거래횟수</td>\n",
       "    </tr>\n",
       "    <tr>\n",
       "      <th>148</th>\n",
       "      <td>149</td>\n",
       "      <td>acc_open_past_24mths</td>\n",
       "      <td>trade</td>\n",
       "      <td>Number of trades opened in past 24 months.</td>\n",
       "      <td>최근 24개월간 시작된 거래의 개수</td>\n",
       "      <td>trade(금융 거래) 정보</td>\n",
       "      <td>최근거래횟수</td>\n",
       "    </tr>\n",
       "    <tr>\n",
       "      <th>149</th>\n",
       "      <td>150</td>\n",
       "      <td>pct_tl_nvr_dlq</td>\n",
       "      <td>trade</td>\n",
       "      <td>Percent of trades never delinquent</td>\n",
       "      <td>한번도 연체되지 않은 거래의 비율</td>\n",
       "      <td>trade(금융 거래) 정보</td>\n",
       "      <td>미연체거래비율</td>\n",
       "    </tr>\n",
       "  </tbody>\n",
       "</table>\n",
       "<p>150 rows × 7 columns</p>\n",
       "</div>"
      ],
      "text/plain": [
       "      no           LoanStatNew       Label  \\\n",
       "0      1             emp_title    borrower   \n",
       "1      2            emp_length    borrower   \n",
       "2      3        home_ownership    borrower   \n",
       "3      4              zip_code    borrower   \n",
       "4      5            addr_state    borrower   \n",
       "..   ...                   ...         ...   \n",
       "145  146       settlement_term  settlement   \n",
       "146  147           open_acc_6m       trade   \n",
       "147  148           total_cu_tl       trade   \n",
       "148  149  acc_open_past_24mths       trade   \n",
       "149  150        pct_tl_nvr_dlq       trade   \n",
       "\n",
       "                                           Description                 Korean  \\\n",
       "0    The job title supplied by the Borrower when ap...                     직업   \n",
       "1    Employment length in years. Possible values ar...                     연차   \n",
       "2    The home ownership status provided by the borr...               주택_소유_상태   \n",
       "3    The first 3 numbers of the zip code provided b...            우편번호(앞 3자리)   \n",
       "4    The state provided by the borrower in the loan...                 거주중인 주   \n",
       "..                                                 ...                    ...   \n",
       "145  The number of months that the borrower will be...  차용자가 정산 계획에 포함되는 개월 수   \n",
       "146             Number of open trades in last 6 months   최근 6개월 동안 진행된 거래의 개수   \n",
       "147                           Number of finance trades               금융 거래 횟수   \n",
       "148         Number of trades opened in past 24 months.    최근 24개월간 시작된 거래의 개수   \n",
       "149                 Percent of trades never delinquent     한번도 연체되지 않은 거래의 비율   \n",
       "\n",
       "                  lab_desc korean_name  \n",
       "0                    고객 정보         직업명  \n",
       "1                    고객 정보       근무연차   \n",
       "2                    고객 정보        주택소유  \n",
       "3                    고객 정보        우편번호  \n",
       "4                    고객 정보        거주국가  \n",
       "..                     ...         ...  \n",
       "145  settlement(부채 정산)\\n정보   대출정산계획개월수  \n",
       "146        trade(금융 거래) 정보    최근은행거래횟수  \n",
       "147        trade(금융 거래) 정보    은행대출거래횟수  \n",
       "148        trade(금융 거래) 정보      최근거래횟수  \n",
       "149        trade(금융 거래) 정보     미연체거래비율  \n",
       "\n",
       "[150 rows x 7 columns]"
      ]
     },
     "execution_count": 4,
     "metadata": {},
     "output_type": "execute_result"
    }
   ],
   "source": [
    "df_ldcb_schema"
   ]
  },
  {
   "cell_type": "code",
   "execution_count": null,
   "id": "665dbdb9-0cb1-4fca-879c-01020fe31dd3",
   "metadata": {},
   "outputs": [],
   "source": []
  },
  {
   "cell_type": "markdown",
   "id": "8a794521-85c5-4f5b-9fd9-69c97108e42b",
   "metadata": {},
   "source": [
    "## 2. 칼럼명 확인 "
   ]
  },
  {
   "cell_type": "markdown",
   "id": "2bb25b52-8291-46ef-9ac7-6d21060aa496",
   "metadata": {},
   "source": [
    "## 2-1 영문칼럼명 확인 "
   ]
  },
  {
   "cell_type": "code",
   "execution_count": 5,
   "id": "feef3100-0813-4c0e-a2dc-7eb323ebce27",
   "metadata": {},
   "outputs": [
    {
     "name": "stdout",
     "output_type": "stream",
     "text": [
      "emp_title, emp_length, home_ownership, zip_code, addr_state, member_id, delinq_amnt, mort_acc, num_accts_ever_120_pd, num_actv_bc_tl, num_bc_sats, num_bc_tl, num_sats, num_tl_120dpd_2m, num_tl_30dpd, num_tl_90g_dpd_24m, num_tl_op_past_12m, percent_bc_gt_75, delinq_2yrs, earliest_cr_line, open_acc, pub_rec, revol_bal, revol_util, total_acc, last_credit_pull_d, all_util, tot_hi_cred_lim, total_bal_ex_mort, total_bc_limit, collections_12_mths_ex_med, chargeoff_within_12_mths, pub_rec_bankruptcies, tax_liens, mths_since_last_delinq, mths_since_last_major_derog, mths_since_recent_bc_dlq, mths_since_last_record, fico_range_low, fico_range_high, last_fico_range_high, last_fico_range_low, grade, sub_grade, hardship_flag, hardship_type, hardship_reason, hardship_status, deferral_term, hardship_amount, hardship_start_date, hardship_end_date, payment_plan_start_date, hardship_length, hardship_dpd, hardship_loan_status, orig_projected_additional_accrued_interest, hardship_payoff_balance_amount, hardship_last_payment_amount, disbursement_method, annual_inc, verification_status, dti, annual_inc_joint, dti_joint, verification_status_joint, inq_last_6mths, inq_fi, inq_last_12m, mths_since_recent_inq, open_act_il, open_il_12m, open_il_24m, total_bal_il, il_util, num_il_tl, total_il_high_credit_limit, mths_since_rcnt_il, mo_sin_old_il_acct, acc_now_delinq, tot_coll_amt, tot_cur_bal, max_bal_bc, avg_cur_bal, bc_util, loan_amnt, funded_amnt, funded_amnt_inv, term, int_rate, installment, issue_d, loan_status, pymnt_plan, url, desc, purpose, title, policy_code, application_type, mo_sin_rcnt_tl, mths_since_recent_bc, initial_list_status, out_prncp, out_prncp_inv, total_pymnt, total_pymnt_inv, total_rec_prncp, total_rec_int, total_rec_late_fee, recoveries, collection_recovery_fee, last_pymnt_d, last_pymnt_amnt, next_pymnt_d, mo_sin_old_rev_tl_op, mo_sin_rcnt_rev_tl_op, mths_since_recent_revol_delinq, open_rv_12m, open_rv_24m, total_rev_hi_lim, bc_open_to_buy, num_actv_rev_tl, num_op_rev_tl, num_rev_accts, num_rev_tl_bal_gt_0, revol_bal_joint, sec_app_fico_range_low, sec_app_fico_range_high, sec_app_earliest_cr_line, sec_app_inq_last_6mths, sec_app_mort_acc, sec_app_open_acc, sec_app_revol_util, sec_app_open_act_il, sec_app_num_rev_accts, sec_app_chargeoff_within_12_mths, sec_app_collections_12_mths_ex_med, sec_app_mths_since_last_major_derog, debt_settlement_flag, debt_settlement_flag_date, settlement_status, settlement_date, settlement_amount, settlement_percentage, settlement_term, open_acc_6m, total_cu_tl, acc_open_past_24mths, pct_tl_nvr_dlq, "
     ]
    }
   ],
   "source": [
    "for i in df_ldcb_schema['LoanStatNew'] :\n",
    "    print(i, end=\", \")"
   ]
  },
  {
   "cell_type": "markdown",
   "id": "91f7abe3-7a87-44b1-b1f6-fa42503fa163",
   "metadata": {},
   "source": [
    "## 2-2 한글 칼럼명"
   ]
  },
  {
   "cell_type": "code",
   "execution_count": 6,
   "id": "3753fe0b-bf65-451a-88d8-e539959995f4",
   "metadata": {},
   "outputs": [
    {
     "name": "stdout",
     "output_type": "stream",
     "text": [
      "직업명, 근무연차 , 주택소유, 우편번호, 거주국가, 회원번호, 세금체납금액, 주택담도대출계좌수, 연체계좌수, 은행카드활동계좌개수, 은행카드정상계좌개수, 은행카드개수, 은행카드정상개수, 중기연체계좌개수, 단기연체계좌개수, 장기연체계좌개수, 최근개설계좌개수, 특정한도이상소진계좌비율, 연체발생회수 , 신용한도시작일자, 신용한도개설기록횟수, 신용이상기록횟수, 리볼링잔액, 리볼링사용비율, 신용한도, 신용한도총기록회수, 신용한도잔액, 총신용한도금액, 신용한도금액, 은행카드신요한도, 추심횟수, 연체횟수, 파산기록횟수, 세금유치권횟수, 최종연체개월수, 신용평가불랭이후개월수, 최근연체발생후개월수, 마지막거래이후개월수, FICO상한범위, FICO하한범위, 이전FICO상한범위, 이전FICO하한범위, 신용평가등급, 신용평가보조등급, 상환계획실행여부, 상환계획유형, 상환계획사유, 상환계획진행상태, 상환예정개월수, 매월이자납부금액, 상환시작일자, 상환마감일자, 상환계획시작일자, 기준이하납부개월수, 상환미지계좌, 상환이후대출상태, 상환이후추가대출금액, 상환시작일이후상환금액, 상환시작일이후마지막상환금액, 대출금지급유형, 연소득금액, 소득인증상태, 부채대비소득비율, 공동총소득금액, 공동부채대비소득비율, 공동소득인증상태, 6개월간상담횟수, 상담횟수, 12개월간상담횟수, 최근상담이후개월수, 할부거래횟수, 일년간할부계좌개수, 이년간할부계좌개수, 할부계좌잔액, 신용한도대비할부비율, 할부총계좌수, 할부신용한도, 최근할부발생개월수, 가장오리댄할부발생개월수, 연체계조개수, 연체추심금액, 총계좌잔액, 청구최대금액, 계좌평금금액, 신용한도대금비율, 대출금액, 대출약정금액, 투자자대출약정금액, 대출상환기간, 대출이자율, 매월상환금액, 대출조달월, 대출현재상태, 대출지불계획상태, url주소, 대출설명, 대출용도, 대출제목, 대출가능상태, 공동대출여부, 최근계죄개설개월수, 최근은행카드개월수, 대출초기상태, 잔존원금, 투자자잔존원금, 납부된총원금, 투자자납부된총원금, 납부누적원금, 납부누적이자, 납부누적연체료, 채무불이행회수율, 채무불이행회수범위, 최근지급월, 최근지급금액, 다음지급금액, 과거리볼빙발생개월수, 최근리볼빙발생개월수, 최근리볼빙연체개월수, 일년간리볼링거래횟수, 이년간리볼빙거래횟수, 리볼빙신용최대한도, 리볼빙구매총금액, 현재리볼빙진행개수, 현재개설된리볼빙계좌개수, 리볼빙총계좌수, 잔고0이상리볼빙거래개수, 공동리볼빙신용총금액, 보조FICO상한범위, 보조FICO하한범위, 보조신용한도, 보조신용조회횟수, 보조주택담도대출계좌수, 보조거래개수, 리볼빙총잔액비율, 보조할부거래개수, 보조리볼빙계좌수, 보조일년간 과금횟수, 보조일년간추심횟수, 보조나쁜평가개월수, 대출협력여부, 가장최근상환일자, 대출정산계획상태, 대출정산계획일자, 대출정산금액, 대출정산비율금액, 대출정산계획개월수, 최근은행거래횟수, 은행대출거래횟수, 최근거래횟수, 미연체거래비율, "
     ]
    }
   ],
   "source": [
    "for i in df_ldcb_schema['korean_name'] :\n",
    "    print(i, end=\", \")"
   ]
  },
  {
   "cell_type": "markdown",
   "id": "a5ab2ba5-4354-4dc9-849e-36d51bee9499",
   "metadata": {},
   "source": [
    "## 2-3 칼럼에 대한 설명 "
   ]
  },
  {
   "cell_type": "code",
   "execution_count": 8,
   "id": "6effbce2-af49-4d32-b560-de795eb14e83",
   "metadata": {},
   "outputs": [
    {
     "name": "stdout",
     "output_type": "stream",
     "text": [
      "직업, 연차, 주택_소유_상태, 우편번호(앞 3자리), 거주중인 주, 고객 ID, 체납 금액, 주택담보대출 계좌 수, 120일 이상 연체 계좌 수, 활성 카드 계좌 수, 정상 카드 계좌 수, 카드 계좌 수, 정상 계좌 수, 120일 연체 계좌 수, 30일 연체 계좌 수, 24개월 간 90일 이상 연체된 계좌 수, 최근  12개월 간 개설 계좌, 한도 75% 이상 사용한 카드 계좌 비율, 30일 이상 연체 발생한 횟수, 최초 신용한도 시작 월, 오픈 크레딧 기록 수, 신용에 불리한 기록 수, 총 대금 잔고, 대금 사용 비율, 신용 정보 기록 수, 최근 대출금 지급 월, 신용 한도 잔액, 총 신용 한도, 신용 한도 잔액(주택담보대출 제외), 총 카드 한도 금액, 12개월 내 추심 수, 12개월 내 연체 횟수, 공식적인 파산 기록 수, 세금 유치권 수, 차용인의 마지막 연체 이후의 개월 수 , 최근 90 일 또는 더 나쁜 평가 이후의 개월 수, 가장 최근의 카드 연체 이후의 개월 수 , 가장 최근의 기록으로부터의 개월 수 , FICO 상한범위(대출 시), FICO 하한범위(대출 시), FICO 상한범위(이전), FICO 하한범위(이전), 대출 등급, 대출 보조 등급, 상환 계획 착수 여부, 상환 계획 유형, 대출 사유, 상환 진행 상태, 상환 예정 개월수, 매달 이자 납부액, 상환 시작일, 상환 마감일, 상환 계획 착수 일자, 기준 미만 납부 개월 수, 상환 시작일보다 늦어진 계좌, 상환 시작일 이후 대출 상태, 상환 시작일 이후 추가된 금액, 시작일 이후 상환한 금액, 상환 시작일 이후 최종 지급액, 대출금 지급 유형, 연소득, 소득 인증 여부, 부채 대비 소득 비율, 공동 대출고객 포함 총 소득, 공동 대출고객 부채 대비 소득 비율, 공동 대출고객 소득 인증 여부, 지난 6개월 간 상담 수, 상담 수, 지난 12개월 간 상담 수, 가장 최근 상담 이후의 개월 수 , 할부 거래 수, 지난 12개월 간 개설한 할부 계좌 수, 지난 24개월 간 개설한 할부 계좌 수, 할부 계좌 잔액, 신용한도 대비 대금 비율(할부계좌), 할부 계좌 수, 할부 신용 한도, 최근 할부 계좌 개설 이후의 개월 수 , 가장 오래된 은행 할부 계좌 개설 이후의 개월 수 , 체납 계좌 수, 추심 금액, 총 계좌 잔액, 최대 청구 대금, 전 계좌 평균 대금, 신용한도 대비 대금 비율(카드계좌), 대출 금액, 대출 약정 금액, (투자자들에 의한) 대출 약정 금액, 대출 상환 기간, 대출의 이자율, 월별 상환 금액, 대출금이 조달된 달, 대출의 현재 상태, 대출에 대한 지불 계획이 입력되었는지 여부, Lending Club에 연결되는 URL주소, 대출 설명, 대출 용도, 대출 제목, 공개적으로 사용이 가능한 지 여부 ( 공개적으로 사용이 가능할 경우 : policy_code = 1, 공개적으로 사용이 불가능한 경우 policy_code = 2), 단일 이용자로 구성된 대출인지 여럿이서 구성한 대출인지 여부, 가장 최근의 계좌 개설 이후의 개월 수 , 가장 최근의 카드 계좌 개설 이후의 개월 수 , 대출의 초기 상태 ( W또는 F의 값을 가짐), 잔존원본, (투자자들에게 투자 받은) 잔존원본, 총 대출 금액 대비 현재까지 남부된 원금, 투자자들에게 투자받은 금액 대비 현재까지 남부된 원금, 현재까지 납부된 원금, 현재까지 납부된 이자, 현재까지 납부된 연체료, 회수율 (채무 불이행에 대한 원금 및 발생이자를 회수할 수 있는 범위), 채무 불이행에 대한 추심비용을 회수할 수 있는 범위, 지급이 이루어진 가장 최근의 달, 가장 최근 지급의 액수, 다음 예정된 지급 일자, 가장 오래된 리볼빙 계좌 개설 이후의 개월 수 , 가장 최근의 리볼빙 계좌 개설 이후의 개월 수 , 가장 최근의 리볼빙 연체 이후의 개월 수 , 최근 12개월간 이루어진 리볼빙 거래의 개수, 최근 24개월간 이루어진 리볼빙 거래의 개수, 리볼빙 최대 신용한도 / 리볼빙 신용한도, 리볼빙 카드로 구매할 수 있는 총액, 현재 진행중인 리볼빙 거래의 개수, 현재 개설되어있는 리볼빙 계좌의 개수, 리볼빙 계좌의 총 개수, 잔고가 0원 이상인 리볼빙 거래의 개수, 공동 차용자의 리볼빙 신용 잔액의 합계 (중복 잔액 순), 보조 신청자의 FICO 범위 (높음), 보조 신청자의 FICO 범위 (낮음), 보조 신청자의 지원시 최초의 신용 한도, 보조 신청자의 지원시 최근 6개월 간 신용조회 횟수, 보조 신청자의 지원시 주택 담보 대출 계좌의 개수, 보조 신청자의 지원시 진행 중인 거래의 개수, 모든 리볼빙 계좌의 최대 신용 / 신용 한도에 대한 현재 총 잔액의 비율, 보조 신청자의 지원시 현재 진행 중인 할부 거래의 개수, 보조 신청자의 지원시 리볼빙 계좌 수, 보조 신청자의 지원시 지난 12 개월 이내의 과금 횟수, 보조 신청자의 지원시 의료 수집을 제외한 지난 12 개월 이내 추심 건수, 보조 신청자의 지원시 최근 90 일 또는 더 나쁜 평가 이후의 개월 수, 대출을 상환한 차용인이 채무 결제 회사가 협력하고 있는지 여부, Debt_Settlement_Flag이 지정된 가장 최근의 날짜, 차용인의 정산 계획 상태, 차용인이 정산 계획을 승인한 날짜 , 차용인이 정산하기로 합의한 대출 금액, 대출에 대한 상환 잔액 금액의 백분율로 표현된 정산 금액, 차용자가 정산 계획에 포함되는 개월 수, 최근 6개월 동안 진행된 거래의 개수, 금융 거래 횟수, 최근 24개월간 시작된 거래의 개수, 한번도 연체되지 않은 거래의 비율, "
     ]
    }
   ],
   "source": [
    "for i in df_ldcb_schema['Korean'] :\n",
    "    print(i, end=\", \")"
   ]
  },
  {
   "cell_type": "markdown",
   "id": "cb7bc0c9-5af6-4b67-8b8d-794fa737887e",
   "metadata": {},
   "source": [
    "## 2-4 테이블 확인 "
   ]
  },
  {
   "cell_type": "code",
   "execution_count": 9,
   "id": "ea8eba45-0546-47eb-8602-807ba56b7b84",
   "metadata": {},
   "outputs": [
    {
     "data": {
      "text/plain": [
       "credit                 32\n",
       "loan_account           23\n",
       "hardship               16\n",
       "payment                13\n",
       "secondary_applicant    13\n",
       "revolving              11\n",
       "installment             9\n",
       "settlement              7\n",
       "borrower                6\n",
       "credit_rating           6\n",
       "income                  6\n",
       "inquiry                 4\n",
       "trade                   4\n",
       "Name: Label, dtype: int64"
      ]
     },
     "execution_count": 9,
     "metadata": {},
     "output_type": "execute_result"
    }
   ],
   "source": [
    "df_ldcb_schema['Label'].value_counts()"
   ]
  },
  {
   "cell_type": "code",
   "execution_count": null,
   "id": "fa25f153-749a-42bd-a60d-c376299ca19e",
   "metadata": {},
   "outputs": [],
   "source": []
  },
  {
   "cell_type": "markdown",
   "id": "5de1e2ef-a1ce-4d0e-8f4c-a1717528e560",
   "metadata": {},
   "source": [
    "## 3. 클래스를 정의해서 메타 데이터 확인하기 "
   ]
  },
  {
   "cell_type": "code",
   "execution_count": 10,
   "id": "1a3e0fa3-305e-4013-b033-2e3fbe797372",
   "metadata": {},
   "outputs": [],
   "source": [
    "class SearchMeta :\n",
    "    def __init__(self,schema) :\n",
    "        self.schema = schema\n",
    "        self._createEnSchema()\n",
    "        self._createKrSchema()\n",
    "     \n",
    "    def _createEnSchema(self) :\n",
    "        self.edd = {k:v for k,v in zip(self.schema['LoanStatNew'].values,self.schema['korean_name'].values)} \n",
    "\n",
    "    def _createKrSchema(self) :\n",
    "        self.kdd = {k:v for k,v in zip(self.schema['korean_name'].values,self.schema['LoanStatNew'].values)} \n",
    "\n",
    "    def searchEnMeta(self,key) :\n",
    "        return self.edd.get(key) \n",
    "\n",
    "    def searchEnMetaAll(self,keys) :\n",
    "        return [ self.edd.get(key) for key in keys] \n",
    "\n",
    "    def searchKrMeta(self,key) :\n",
    "        return self.kdd.get(key) \n",
    "\n",
    "    def searchKrMetaAll(self,keys) :\n",
    "        return [ self.kdd.get(key) for key in keys] \n",
    "\n",
    "    def searchLable(self,lable) :\n",
    "        return self.schema[self.schema['Label'] == lable]"
   ]
  },
  {
   "cell_type": "markdown",
   "id": "5fd4e5d2-9c20-4559-913f-13ebbc351b79",
   "metadata": {},
   "source": [
    "## 모듈로 처리하기 "
   ]
  },
  {
   "cell_type": "code",
   "execution_count": 23,
   "id": "3680f731-da8b-47a4-bee7-0c69a2eb4991",
   "metadata": {},
   "outputs": [
    {
     "name": "stdout",
     "output_type": "stream",
     "text": [
      "Overwriting meta.py\n"
     ]
    }
   ],
   "source": [
    "%%writefile meta.py\n",
    "\n",
    "class SearchMeta :\n",
    "    def __init__(self,schema) :\n",
    "        self.schema = schema\n",
    "        self._createEnSchema()\n",
    "        self._createKrSchema()\n",
    "     \n",
    "    def _createEnSchema(self) :\n",
    "        self.edd = {k:v for k,v in zip(self.schema['LoanStatNew'].values,self.schema['korean_name'].values)} \n",
    "\n",
    "    def _createKrSchema(self) :\n",
    "        self.kdd = {k:v for k,v in zip(self.schema['korean_name'].values,self.schema['LoanStatNew'].values)} \n",
    "\n",
    "    def searchEnMeta(self,key) :\n",
    "        return self.edd.get(key) \n",
    "\n",
    "    def searchEnMetaAll(self,keys) :\n",
    "        return [ self.edd.get(key) for key in keys] \n",
    "\n",
    "    def searchKrMeta(self,key) :\n",
    "        return self.kdd.get(key) \n",
    "\n",
    "    def searchKrMetaAll(self,keys) :\n",
    "        return [ self.kdd.get(key) for key in keys] \n",
    "\n",
    "    def searchLable(self,lable) :\n",
    "        return self.schema[self.schema['Label'] == lable]"
   ]
  },
  {
   "cell_type": "code",
   "execution_count": null,
   "id": "c04a8a85-2633-4695-ae85-85d1b8fa71c7",
   "metadata": {},
   "outputs": [],
   "source": []
  },
  {
   "cell_type": "markdown",
   "id": "bfc9b257-ee69-4d4f-a71a-471504404ec4",
   "metadata": {},
   "source": [
    "## 객체 생성하기 "
   ]
  },
  {
   "cell_type": "code",
   "execution_count": 12,
   "id": "e6955419-507a-4a15-be72-5411d8e12e9b",
   "metadata": {},
   "outputs": [],
   "source": [
    "meta = SearchMeta(df_ldcb_schema)"
   ]
  },
  {
   "cell_type": "markdown",
   "id": "43ee5369-b39a-492c-8b9f-73327f2007e5",
   "metadata": {},
   "source": [
    "## 테이블 이름으로 메타정보 확인하기 "
   ]
  },
  {
   "cell_type": "code",
   "execution_count": 13,
   "id": "00dbfd2c-c538-4ab0-87ca-61736990b324",
   "metadata": {},
   "outputs": [
    {
     "data": {
      "text/html": [
       "<div>\n",
       "<style scoped>\n",
       "    .dataframe tbody tr th:only-of-type {\n",
       "        vertical-align: middle;\n",
       "    }\n",
       "\n",
       "    .dataframe tbody tr th {\n",
       "        vertical-align: top;\n",
       "    }\n",
       "\n",
       "    .dataframe thead th {\n",
       "        text-align: right;\n",
       "    }\n",
       "</style>\n",
       "<table border=\"1\" class=\"dataframe\">\n",
       "  <thead>\n",
       "    <tr style=\"text-align: right;\">\n",
       "      <th></th>\n",
       "      <th>no</th>\n",
       "      <th>LoanStatNew</th>\n",
       "      <th>Label</th>\n",
       "      <th>Description</th>\n",
       "      <th>Korean</th>\n",
       "      <th>lab_desc</th>\n",
       "      <th>korean_name</th>\n",
       "    </tr>\n",
       "  </thead>\n",
       "  <tbody>\n",
       "    <tr>\n",
       "      <th>0</th>\n",
       "      <td>1</td>\n",
       "      <td>emp_title</td>\n",
       "      <td>borrower</td>\n",
       "      <td>The job title supplied by the Borrower when ap...</td>\n",
       "      <td>직업</td>\n",
       "      <td>고객 정보</td>\n",
       "      <td>직업명</td>\n",
       "    </tr>\n",
       "    <tr>\n",
       "      <th>1</th>\n",
       "      <td>2</td>\n",
       "      <td>emp_length</td>\n",
       "      <td>borrower</td>\n",
       "      <td>Employment length in years. Possible values ar...</td>\n",
       "      <td>연차</td>\n",
       "      <td>고객 정보</td>\n",
       "      <td>근무연차</td>\n",
       "    </tr>\n",
       "    <tr>\n",
       "      <th>2</th>\n",
       "      <td>3</td>\n",
       "      <td>home_ownership</td>\n",
       "      <td>borrower</td>\n",
       "      <td>The home ownership status provided by the borr...</td>\n",
       "      <td>주택_소유_상태</td>\n",
       "      <td>고객 정보</td>\n",
       "      <td>주택소유</td>\n",
       "    </tr>\n",
       "    <tr>\n",
       "      <th>3</th>\n",
       "      <td>4</td>\n",
       "      <td>zip_code</td>\n",
       "      <td>borrower</td>\n",
       "      <td>The first 3 numbers of the zip code provided b...</td>\n",
       "      <td>우편번호(앞 3자리)</td>\n",
       "      <td>고객 정보</td>\n",
       "      <td>우편번호</td>\n",
       "    </tr>\n",
       "    <tr>\n",
       "      <th>4</th>\n",
       "      <td>5</td>\n",
       "      <td>addr_state</td>\n",
       "      <td>borrower</td>\n",
       "      <td>The state provided by the borrower in the loan...</td>\n",
       "      <td>거주중인 주</td>\n",
       "      <td>고객 정보</td>\n",
       "      <td>거주국가</td>\n",
       "    </tr>\n",
       "    <tr>\n",
       "      <th>5</th>\n",
       "      <td>6</td>\n",
       "      <td>member_id</td>\n",
       "      <td>borrower</td>\n",
       "      <td>A unique LC assigned Id for the borrower member.</td>\n",
       "      <td>고객 ID</td>\n",
       "      <td>고객 정보</td>\n",
       "      <td>회원번호</td>\n",
       "    </tr>\n",
       "  </tbody>\n",
       "</table>\n",
       "</div>"
      ],
      "text/plain": [
       "   no     LoanStatNew     Label  \\\n",
       "0   1       emp_title  borrower   \n",
       "1   2      emp_length  borrower   \n",
       "2   3  home_ownership  borrower   \n",
       "3   4        zip_code  borrower   \n",
       "4   5      addr_state  borrower   \n",
       "5   6       member_id  borrower   \n",
       "\n",
       "                                         Description       Korean lab_desc  \\\n",
       "0  The job title supplied by the Borrower when ap...           직업    고객 정보   \n",
       "1  Employment length in years. Possible values ar...           연차    고객 정보   \n",
       "2  The home ownership status provided by the borr...     주택_소유_상태    고객 정보   \n",
       "3  The first 3 numbers of the zip code provided b...  우편번호(앞 3자리)    고객 정보   \n",
       "4  The state provided by the borrower in the loan...       거주중인 주    고객 정보   \n",
       "5   A unique LC assigned Id for the borrower member.        고객 ID    고객 정보   \n",
       "\n",
       "  korean_name  \n",
       "0         직업명  \n",
       "1       근무연차   \n",
       "2        주택소유  \n",
       "3        우편번호  \n",
       "4        거주국가  \n",
       "5        회원번호  "
      ]
     },
     "execution_count": 13,
     "metadata": {},
     "output_type": "execute_result"
    }
   ],
   "source": [
    "meta.searchLable(\"borrower\")"
   ]
  },
  {
   "cell_type": "code",
   "execution_count": null,
   "id": "41ac7ac5-6089-4e8d-afc0-90a364c23fa7",
   "metadata": {},
   "outputs": [],
   "source": []
  },
  {
   "cell_type": "markdown",
   "id": "b92c9e99-7d71-4546-9b3c-1058d29e0229",
   "metadata": {},
   "source": [
    "## 4. 렌딩클럽 파케이 데이터 읽기 "
   ]
  },
  {
   "cell_type": "markdown",
   "id": "1bcb3db5-d872-4894-a5c0-493472a99628",
   "metadata": {},
   "source": [
    "## 4-1 파케이 파일 읽기"
   ]
  },
  {
   "cell_type": "markdown",
   "id": "1e107be2-26c3-4072-b8d6-53fd57de1af1",
   "metadata": {},
   "source": [
    "## 위치 지정하기 "
   ]
  },
  {
   "cell_type": "code",
   "execution_count": 20,
   "id": "567897ef-9f32-4c4e-ad86-94f84fd8293e",
   "metadata": {},
   "outputs": [
    {
     "data": {
      "text/plain": [
       "'/Users/a06411/Documents/GitHub/js_automl_pycaret/01_판다스알아보기'"
      ]
     },
     "execution_count": 20,
     "metadata": {},
     "output_type": "execute_result"
    }
   ],
   "source": [
    "%pwd"
   ]
  },
  {
   "cell_type": "code",
   "execution_count": 14,
   "id": "6a3f1076-be8a-44ff-9c83-69faf2e030e5",
   "metadata": {},
   "outputs": [],
   "source": [
    "path = '/Users/a06411/Documents/GitHub/js_automl_pycaret/data/lending_club_parquet/'"
   ]
  },
  {
   "cell_type": "markdown",
   "id": "7bc3bb91-fc12-4967-9768-e52b6051457b",
   "metadata": {},
   "source": [
    "##  파일을 읽고 상태 확인하기"
   ]
  },
  {
   "cell_type": "code",
   "execution_count": 17,
   "id": "22983e18-9ed0-4a7d-9167-0c32b0f1cb24",
   "metadata": {},
   "outputs": [],
   "source": [
    "df = pd.read_parquet(path)"
   ]
  },
  {
   "cell_type": "code",
   "execution_count": 18,
   "id": "76aa3488-1177-4be3-a78c-4faf3ab82de1",
   "metadata": {},
   "outputs": [
    {
     "data": {
      "text/plain": [
       "(2260701, 151)"
      ]
     },
     "execution_count": 18,
     "metadata": {},
     "output_type": "execute_result"
    }
   ],
   "source": [
    "df.shape"
   ]
  },
  {
   "cell_type": "code",
   "execution_count": null,
   "id": "8d06115a-230b-43eb-aba8-7c74f40f9615",
   "metadata": {},
   "outputs": [],
   "source": []
  },
  {
   "cell_type": "markdown",
   "id": "9b3884a0-f24a-4839-ad28-f01c65e835b3",
   "metadata": {},
   "source": [
    "## 4-2 스키마 확인 "
   ]
  },
  {
   "cell_type": "markdown",
   "id": "fe75d8a9-6eab-408b-ab5d-ac0cf691ec37",
   "metadata": {},
   "source": [
    "## 헤더 스키마 확인하기 "
   ]
  },
  {
   "cell_type": "code",
   "execution_count": 19,
   "id": "661efd94-312e-4502-8b54-3b79ff090ca9",
   "metadata": {},
   "outputs": [
    {
     "data": {
      "text/plain": [
       "Index(['id', 'member_id', 'term', 'grade', 'sub_grade', 'emp_title',\n",
       "       'emp_length', 'home_ownership', 'annual_inc', 'verification_status',\n",
       "       'issue_d', 'loan_status', 'pymnt_plan', 'url', 'desc', 'purpose',\n",
       "       'title', 'zip_code', 'addr_state', 'dti', 'delinq_2yrs',\n",
       "       'earliest_cr_line', 'fico_range_low', 'fico_range_high',\n",
       "       'inq_last_6mths', 'mths_since_last_delinq', 'mths_since_last_record',\n",
       "       'open_acc', 'pub_rec', 'revol_bal', 'revol_util', 'total_acc',\n",
       "       'initial_list_status', 'out_prncp', 'out_prncp_inv', 'total_pymnt',\n",
       "       'total_pymnt_inv', 'total_rec_prncp', 'total_rec_int',\n",
       "       'total_rec_late_fee', 'recoveries', 'collection_recovery_fee',\n",
       "       'last_pymnt_d', 'last_pymnt_amnt', 'next_pymnt_d', 'last_credit_pull_d',\n",
       "       'last_fico_range_high', 'last_fico_range_low',\n",
       "       'collections_12_mths_ex_med', 'mths_since_last_major_derog',\n",
       "       'policy_code', 'application_type', 'annual_inc_joint', 'dti_joint',\n",
       "       'verification_status_joint', 'acc_now_delinq', 'tot_coll_amt',\n",
       "       'tot_cur_bal', 'open_acc_6m', 'open_act_il', 'open_il_12m',\n",
       "       'open_il_24m', 'mths_since_rcnt_il', 'total_bal_il', 'il_util',\n",
       "       'open_rv_12m', 'open_rv_24m', 'max_bal_bc', 'all_util',\n",
       "       'total_rev_hi_lim', 'inq_fi', 'total_cu_tl', 'avg_cur_bal', 'bc_util',\n",
       "       'sec_app_earliest_cr_line', 'hardship_flag', 'hardship_type',\n",
       "       'hardship_reason', 'hardship_status', 'deferral_term',\n",
       "       'hardship_amount', 'hardship_start_date', 'hardship_end_date',\n",
       "       'payment_plan_start_date', 'hardship_length', 'hardship_dpd',\n",
       "       'hardship_loan_status', 'orig_projected_additional_accrued_interest',\n",
       "       'hardship_payoff_balance_amount', 'hardship_last_payment_amount',\n",
       "       'disbursement_method', 'debt_settlement_flag',\n",
       "       'debt_settlement_flag_date', 'settlement_status', 'settlement_date',\n",
       "       'settlement_amount', 'settlement_percentage', 'settlement_term'],\n",
       "      dtype='object')"
      ]
     },
     "execution_count": 19,
     "metadata": {},
     "output_type": "execute_result"
    }
   ],
   "source": [
    "df.select_dtypes(include=\"object\").head().columns"
   ]
  },
  {
   "cell_type": "markdown",
   "id": "9dd38065-8c04-4d65-8da4-6de5325c7c2f",
   "metadata": {},
   "source": [
    "## 한글 정보 읽기"
   ]
  },
  {
   "cell_type": "code",
   "execution_count": 21,
   "id": "df88a472-0f85-4def-93f6-b721b24e8517",
   "metadata": {},
   "outputs": [],
   "source": [
    "df_schema = pd.read_excel(\"../lending_club_data/테이블정보_한글칼럼명추가.xlsx\")"
   ]
  },
  {
   "cell_type": "code",
   "execution_count": 22,
   "id": "a3163ac4-fb6e-4b8f-a7af-f64b7cbb0071",
   "metadata": {},
   "outputs": [],
   "source": [
    "import meta"
   ]
  },
  {
   "cell_type": "code",
   "execution_count": 24,
   "id": "37b82200-f06f-4017-8ff7-8e88dc937350",
   "metadata": {},
   "outputs": [],
   "source": [
    "df_cols = meta.SearchMeta(df_schema)"
   ]
  },
  {
   "cell_type": "code",
   "execution_count": 25,
   "id": "6e37aee7-4004-42d7-b0b3-434cdd02e948",
   "metadata": {},
   "outputs": [
    {
     "data": {
      "text/plain": [
       "Index(['id', 'member_id', 'loan_amnt', 'funded_amnt', 'funded_amnt_inv',\n",
       "       'term', 'int_rate', 'installment', 'grade', 'sub_grade',\n",
       "       ...\n",
       "       'hardship_payoff_balance_amount', 'hardship_last_payment_amount',\n",
       "       'disbursement_method', 'debt_settlement_flag',\n",
       "       'debt_settlement_flag_date', 'settlement_status', 'settlement_date',\n",
       "       'settlement_amount', 'settlement_percentage', 'settlement_term'],\n",
       "      dtype='object', length=151)"
      ]
     },
     "execution_count": 25,
     "metadata": {},
     "output_type": "execute_result"
    }
   ],
   "source": [
    "df.columns"
   ]
  },
  {
   "cell_type": "code",
   "execution_count": 26,
   "id": "8f974b47-66de-40a7-9cab-da0db3cf182f",
   "metadata": {},
   "outputs": [],
   "source": [
    "cols = df_cols.searchEnMetaAll(df.columns[1:])"
   ]
  },
  {
   "cell_type": "code",
   "execution_count": 28,
   "id": "82dc3893-ffe3-4de6-813f-457ab3b845bf",
   "metadata": {},
   "outputs": [
    {
     "name": "stdout",
     "output_type": "stream",
     "text": [
      "회원번호, 대출금액, 대출약정금액, 투자자대출약정금액, 대출상환기간, 대출이자율, 매월상환금액, 신용평가등급, 신용평가보조등급, 직업명, 근무연차 , 주택소유, 연소득금액, 소득인증상태, 대출조달월, 대출현재상태, 대출지불계획상태, url주소, 대출설명, 대출용도, 대출제목, 우편번호, 거주국가, 부채대비소득비율, 연체발생회수 , 신용한도시작일자, FICO상한범위, FICO하한범위, 6개월간상담횟수, 최종연체개월수, 마지막거래이후개월수, 신용한도개설기록횟수, 신용이상기록횟수, 리볼링잔액, 리볼링사용비율, 신용한도, 대출초기상태, 잔존원금, 투자자잔존원금, 납부된총원금, 투자자납부된총원금, 납부누적원금, 납부누적이자, 납부누적연체료, 채무불이행회수율, 채무불이행회수범위, 최근지급월, 최근지급금액, 다음지급금액, 신용한도총기록회수, 이전FICO상한범위, 이전FICO하한범위, 추심횟수, 신용평가불랭이후개월수, 대출가능상태, 공동대출여부, 공동총소득금액, 공동부채대비소득비율, 공동소득인증상태, 연체계조개수, 연체추심금액, 총계좌잔액, 최근은행거래횟수, 할부거래횟수, 일년간할부계좌개수, 이년간할부계좌개수, 최근할부발생개월수, 할부계좌잔액, 신용한도대비할부비율, 일년간리볼링거래횟수, 이년간리볼빙거래횟수, 청구최대금액, 신용한도잔액, 리볼빙신용최대한도, 상담횟수, 은행대출거래횟수, 12개월간상담횟수, 최근거래횟수, 계좌평금금액, 리볼빙구매총금액, 신용한도대금비율, 연체횟수, 세금체납금액, 가장오리댄할부발생개월수, 과거리볼빙발생개월수, 최근리볼빙발생개월수, 최근계죄개설개월수, 주택담도대출계좌수, 최근은행카드개월수, 최근연체발생후개월수, 최근상담이후개월수, 최근리볼빙연체개월수, 연체계좌수, 은행카드활동계좌개수, 현재리볼빙진행개수, 은행카드정상계좌개수, 은행카드개수, 할부총계좌수, 현재개설된리볼빙계좌개수, 리볼빙총계좌수, 잔고0이상리볼빙거래개수, 은행카드정상개수, 중기연체계좌개수, 단기연체계좌개수, 장기연체계좌개수, 최근개설계좌개수, 미연체거래비율, 특정한도이상소진계좌비율, 파산기록횟수, 세금유치권횟수, 총신용한도금액, 신용한도금액, 은행카드신요한도, 할부신용한도, 공동리볼빙신용총금액, 보조FICO상한범위, 보조FICO하한범위, 보조신용한도, 보조신용조회횟수, 보조주택담도대출계좌수, 보조거래개수, 리볼빙총잔액비율, 보조할부거래개수, 보조리볼빙계좌수, 보조일년간 과금횟수, 보조일년간추심횟수, 보조나쁜평가개월수, 상환계획실행여부, 상환계획유형, 상환계획사유, 상환계획진행상태, 상환예정개월수, 매월이자납부금액, 상환시작일자, 상환마감일자, 상환계획시작일자, 기준이하납부개월수, 상환미지계좌, 상환이후대출상태, 상환이후추가대출금액, 상환시작일이후상환금액, 상환시작일이후마지막상환금액, 대출금지급유형, 대출협력여부, 가장최근상환일자, 대출정산계획상태, 대출정산계획일자, 대출정산금액, 대출정산비율금액, 대출정산계획개월수, "
     ]
    }
   ],
   "source": [
    "for i in cols :\n",
    "    print(i, end=\", \")"
   ]
  },
  {
   "cell_type": "markdown",
   "id": "ffcf344f-5ab8-416d-80c7-f12c463ab6ba",
   "metadata": {},
   "source": [
    "## id 추가"
   ]
  },
  {
   "cell_type": "code",
   "execution_count": 29,
   "id": "d455a160-3eb7-4542-baba-43cd9e08ead5",
   "metadata": {},
   "outputs": [],
   "source": [
    "cols.insert(0, df.columns[0])"
   ]
  },
  {
   "cell_type": "code",
   "execution_count": 30,
   "id": "9cd892ab-0e08-4261-8c8d-b093d4de58e0",
   "metadata": {},
   "outputs": [
    {
     "name": "stdout",
     "output_type": "stream",
     "text": [
      "id, 회원번호, 대출금액, 대출약정금액, 투자자대출약정금액, 대출상환기간, 대출이자율, 매월상환금액, 신용평가등급, 신용평가보조등급, 직업명, 근무연차 , 주택소유, 연소득금액, 소득인증상태, 대출조달월, 대출현재상태, 대출지불계획상태, url주소, 대출설명, 대출용도, 대출제목, 우편번호, 거주국가, 부채대비소득비율, 연체발생회수 , 신용한도시작일자, FICO상한범위, FICO하한범위, 6개월간상담횟수, 최종연체개월수, 마지막거래이후개월수, 신용한도개설기록횟수, 신용이상기록횟수, 리볼링잔액, 리볼링사용비율, 신용한도, 대출초기상태, 잔존원금, 투자자잔존원금, 납부된총원금, 투자자납부된총원금, 납부누적원금, 납부누적이자, 납부누적연체료, 채무불이행회수율, 채무불이행회수범위, 최근지급월, 최근지급금액, 다음지급금액, 신용한도총기록회수, 이전FICO상한범위, 이전FICO하한범위, 추심횟수, 신용평가불랭이후개월수, 대출가능상태, 공동대출여부, 공동총소득금액, 공동부채대비소득비율, 공동소득인증상태, 연체계조개수, 연체추심금액, 총계좌잔액, 최근은행거래횟수, 할부거래횟수, 일년간할부계좌개수, 이년간할부계좌개수, 최근할부발생개월수, 할부계좌잔액, 신용한도대비할부비율, 일년간리볼링거래횟수, 이년간리볼빙거래횟수, 청구최대금액, 신용한도잔액, 리볼빙신용최대한도, 상담횟수, 은행대출거래횟수, 12개월간상담횟수, 최근거래횟수, 계좌평금금액, 리볼빙구매총금액, 신용한도대금비율, 연체횟수, 세금체납금액, 가장오리댄할부발생개월수, 과거리볼빙발생개월수, 최근리볼빙발생개월수, 최근계죄개설개월수, 주택담도대출계좌수, 최근은행카드개월수, 최근연체발생후개월수, 최근상담이후개월수, 최근리볼빙연체개월수, 연체계좌수, 은행카드활동계좌개수, 현재리볼빙진행개수, 은행카드정상계좌개수, 은행카드개수, 할부총계좌수, 현재개설된리볼빙계좌개수, 리볼빙총계좌수, 잔고0이상리볼빙거래개수, 은행카드정상개수, 중기연체계좌개수, 단기연체계좌개수, 장기연체계좌개수, 최근개설계좌개수, 미연체거래비율, 특정한도이상소진계좌비율, 파산기록횟수, 세금유치권횟수, 총신용한도금액, 신용한도금액, 은행카드신요한도, 할부신용한도, 공동리볼빙신용총금액, 보조FICO상한범위, 보조FICO하한범위, 보조신용한도, 보조신용조회횟수, 보조주택담도대출계좌수, 보조거래개수, 리볼빙총잔액비율, 보조할부거래개수, 보조리볼빙계좌수, 보조일년간 과금횟수, 보조일년간추심횟수, 보조나쁜평가개월수, 상환계획실행여부, 상환계획유형, 상환계획사유, 상환계획진행상태, 상환예정개월수, 매월이자납부금액, 상환시작일자, 상환마감일자, 상환계획시작일자, 기준이하납부개월수, 상환미지계좌, 상환이후대출상태, 상환이후추가대출금액, 상환시작일이후상환금액, 상환시작일이후마지막상환금액, 대출금지급유형, 대출협력여부, 가장최근상환일자, 대출정산계획상태, 대출정산계획일자, 대출정산금액, 대출정산비율금액, 대출정산계획개월수, "
     ]
    }
   ],
   "source": [
    "for i in cols :\n",
    "    print(i, end=\", \")"
   ]
  },
  {
   "cell_type": "markdown",
   "id": "b6caa8a3-a7ec-4d92-bd85-93a820892d41",
   "metadata": {},
   "source": [
    "## 데이터프레임에 칼럼명을 한글로 변경하기"
   ]
  },
  {
   "cell_type": "code",
   "execution_count": 31,
   "id": "f6756cf5-d8b3-46c9-88f4-08cb452bfaf9",
   "metadata": {},
   "outputs": [],
   "source": [
    "df.columns = cols"
   ]
  },
  {
   "cell_type": "code",
   "execution_count": 32,
   "id": "f2afaea4-0cd0-4256-a983-46c4058060e2",
   "metadata": {},
   "outputs": [
    {
     "data": {
      "text/html": [
       "<div>\n",
       "<style scoped>\n",
       "    .dataframe tbody tr th:only-of-type {\n",
       "        vertical-align: middle;\n",
       "    }\n",
       "\n",
       "    .dataframe tbody tr th {\n",
       "        vertical-align: top;\n",
       "    }\n",
       "\n",
       "    .dataframe thead th {\n",
       "        text-align: right;\n",
       "    }\n",
       "</style>\n",
       "<table border=\"1\" class=\"dataframe\">\n",
       "  <thead>\n",
       "    <tr style=\"text-align: right;\">\n",
       "      <th></th>\n",
       "      <th>id</th>\n",
       "      <th>회원번호</th>\n",
       "      <th>대출금액</th>\n",
       "      <th>대출약정금액</th>\n",
       "      <th>투자자대출약정금액</th>\n",
       "      <th>대출상환기간</th>\n",
       "      <th>대출이자율</th>\n",
       "      <th>매월상환금액</th>\n",
       "      <th>신용평가등급</th>\n",
       "      <th>신용평가보조등급</th>\n",
       "      <th>...</th>\n",
       "      <th>상환시작일이후상환금액</th>\n",
       "      <th>상환시작일이후마지막상환금액</th>\n",
       "      <th>대출금지급유형</th>\n",
       "      <th>대출협력여부</th>\n",
       "      <th>가장최근상환일자</th>\n",
       "      <th>대출정산계획상태</th>\n",
       "      <th>대출정산계획일자</th>\n",
       "      <th>대출정산금액</th>\n",
       "      <th>대출정산비율금액</th>\n",
       "      <th>대출정산계획개월수</th>\n",
       "    </tr>\n",
       "  </thead>\n",
       "  <tbody>\n",
       "    <tr>\n",
       "      <th>0</th>\n",
       "      <td>63918338</td>\n",
       "      <td>None</td>\n",
       "      <td>25000.0</td>\n",
       "      <td>25000.0</td>\n",
       "      <td>25000.0</td>\n",
       "      <td>60 months</td>\n",
       "      <td>9.17</td>\n",
       "      <td>521.03</td>\n",
       "      <td>B</td>\n",
       "      <td>B2</td>\n",
       "      <td>...</td>\n",
       "      <td>None</td>\n",
       "      <td>None</td>\n",
       "      <td>Cash</td>\n",
       "      <td>N</td>\n",
       "      <td>None</td>\n",
       "      <td>None</td>\n",
       "      <td>None</td>\n",
       "      <td>None</td>\n",
       "      <td>None</td>\n",
       "      <td>None</td>\n",
       "    </tr>\n",
       "    <tr>\n",
       "      <th>1</th>\n",
       "      <td>60635644</td>\n",
       "      <td>None</td>\n",
       "      <td>30000.0</td>\n",
       "      <td>30000.0</td>\n",
       "      <td>30000.0</td>\n",
       "      <td>36 months</td>\n",
       "      <td>12.29</td>\n",
       "      <td>1000.59</td>\n",
       "      <td>C</td>\n",
       "      <td>C1</td>\n",
       "      <td>...</td>\n",
       "      <td>None</td>\n",
       "      <td>None</td>\n",
       "      <td>Cash</td>\n",
       "      <td>N</td>\n",
       "      <td>None</td>\n",
       "      <td>None</td>\n",
       "      <td>None</td>\n",
       "      <td>None</td>\n",
       "      <td>None</td>\n",
       "      <td>None</td>\n",
       "    </tr>\n",
       "    <tr>\n",
       "      <th>2</th>\n",
       "      <td>57206438</td>\n",
       "      <td>None</td>\n",
       "      <td>6000.0</td>\n",
       "      <td>6000.0</td>\n",
       "      <td>6000.0</td>\n",
       "      <td>36 months</td>\n",
       "      <td>9.17</td>\n",
       "      <td>191.28</td>\n",
       "      <td>B</td>\n",
       "      <td>B2</td>\n",
       "      <td>...</td>\n",
       "      <td>None</td>\n",
       "      <td>None</td>\n",
       "      <td>Cash</td>\n",
       "      <td>Y</td>\n",
       "      <td>May-2018</td>\n",
       "      <td>COMPLETE</td>\n",
       "      <td>May-2018</td>\n",
       "      <td>1050.0</td>\n",
       "      <td>49.95</td>\n",
       "      <td>1.0</td>\n",
       "    </tr>\n",
       "    <tr>\n",
       "      <th>3</th>\n",
       "      <td>65826019</td>\n",
       "      <td>None</td>\n",
       "      <td>6400.0</td>\n",
       "      <td>6400.0</td>\n",
       "      <td>6400.0</td>\n",
       "      <td>36 months</td>\n",
       "      <td>9.99</td>\n",
       "      <td>206.48</td>\n",
       "      <td>B</td>\n",
       "      <td>B3</td>\n",
       "      <td>...</td>\n",
       "      <td>None</td>\n",
       "      <td>None</td>\n",
       "      <td>Cash</td>\n",
       "      <td>N</td>\n",
       "      <td>None</td>\n",
       "      <td>None</td>\n",
       "      <td>None</td>\n",
       "      <td>None</td>\n",
       "      <td>None</td>\n",
       "      <td>None</td>\n",
       "    </tr>\n",
       "    <tr>\n",
       "      <th>4</th>\n",
       "      <td>62854410</td>\n",
       "      <td>None</td>\n",
       "      <td>35000.0</td>\n",
       "      <td>35000.0</td>\n",
       "      <td>35000.0</td>\n",
       "      <td>60 months</td>\n",
       "      <td>17.57</td>\n",
       "      <td>880.61</td>\n",
       "      <td>D</td>\n",
       "      <td>D4</td>\n",
       "      <td>...</td>\n",
       "      <td>None</td>\n",
       "      <td>None</td>\n",
       "      <td>Cash</td>\n",
       "      <td>N</td>\n",
       "      <td>None</td>\n",
       "      <td>None</td>\n",
       "      <td>None</td>\n",
       "      <td>None</td>\n",
       "      <td>None</td>\n",
       "      <td>None</td>\n",
       "    </tr>\n",
       "  </tbody>\n",
       "</table>\n",
       "<p>5 rows × 151 columns</p>\n",
       "</div>"
      ],
      "text/plain": [
       "         id  회원번호     대출금액   대출약정금액  투자자대출약정금액      대출상환기간  대출이자율   매월상환금액  \\\n",
       "0  63918338  None  25000.0  25000.0    25000.0   60 months   9.17   521.03   \n",
       "1  60635644  None  30000.0  30000.0    30000.0   36 months  12.29  1000.59   \n",
       "2  57206438  None   6000.0   6000.0     6000.0   36 months   9.17   191.28   \n",
       "3  65826019  None   6400.0   6400.0     6400.0   36 months   9.99   206.48   \n",
       "4  62854410  None  35000.0  35000.0    35000.0   60 months  17.57   880.61   \n",
       "\n",
       "  신용평가등급 신용평가보조등급  ... 상환시작일이후상환금액 상환시작일이후마지막상환금액 대출금지급유형 대출협력여부  가장최근상환일자  \\\n",
       "0      B       B2  ...        None           None    Cash      N      None   \n",
       "1      C       C1  ...        None           None    Cash      N      None   \n",
       "2      B       B2  ...        None           None    Cash      Y  May-2018   \n",
       "3      B       B3  ...        None           None    Cash      N      None   \n",
       "4      D       D4  ...        None           None    Cash      N      None   \n",
       "\n",
       "   대출정산계획상태  대출정산계획일자  대출정산금액 대출정산비율금액 대출정산계획개월수  \n",
       "0      None      None    None     None      None  \n",
       "1      None      None    None     None      None  \n",
       "2  COMPLETE  May-2018  1050.0    49.95       1.0  \n",
       "3      None      None    None     None      None  \n",
       "4      None      None    None     None      None  \n",
       "\n",
       "[5 rows x 151 columns]"
      ]
     },
     "execution_count": 32,
     "metadata": {},
     "output_type": "execute_result"
    }
   ],
   "source": [
    "df.head()"
   ]
  },
  {
   "cell_type": "code",
   "execution_count": null,
   "id": "932b3fd8-9695-42d6-b0b5-71a1298f2735",
   "metadata": {},
   "outputs": [],
   "source": []
  },
  {
   "cell_type": "code",
   "execution_count": null,
   "id": "5e7ef02e-563f-40f4-9764-bc22b25d03de",
   "metadata": {},
   "outputs": [],
   "source": []
  },
  {
   "cell_type": "markdown",
   "id": "b0e359a3-85e7-4780-b528-d00067cba74a",
   "metadata": {},
   "source": [
    "# 5. 데이터 변환 "
   ]
  },
  {
   "cell_type": "markdown",
   "id": "1a7fc2b5-eec2-4120-bbe4-a5a81d7fe4a2",
   "metadata": {},
   "source": [
    "## 날짜 변환 "
   ]
  },
  {
   "cell_type": "code",
   "execution_count": 34,
   "id": "7360ef70-522a-46d5-9c27-44126fa06fe1",
   "metadata": {},
   "outputs": [
    {
     "data": {
      "text/plain": [
       "'대출조달월'"
      ]
     },
     "execution_count": 34,
     "metadata": {},
     "output_type": "execute_result"
    }
   ],
   "source": [
    "df_cols.searchEnMeta('issue_d')"
   ]
  },
  {
   "cell_type": "code",
   "execution_count": 35,
   "id": "9a04365d-0eb8-44c9-b57b-b0467ec03260",
   "metadata": {},
   "outputs": [
    {
     "data": {
      "text/plain": [
       "array(['Nov-2015', 'Sep-2015', 'Aug-2015', 'Dec-2015', 'Oct-2015',\n",
       "       'Jul-2015', 'Feb-2015', 'May-2015', 'Mar-2015', 'Apr-2015',\n",
       "       'Jun-2015', 'Jan-2015', 'Jan-2018', 'Sep-2017', 'Mar-2018',\n",
       "       'Feb-2018', 'May-2016', 'Jul-2017', 'Apr-2016', 'Aug-2017',\n",
       "       'Jun-2016', 'Sep-2018', 'Jul-2018', 'Jun-2017', 'Aug-2018',\n",
       "       'May-2017', 'Mar-2016', 'Feb-2016', 'Apr-2017', 'Jan-2016',\n",
       "       'Nov-2014', 'Dec-2014', 'May-2014', 'Oct-2014', 'Jul-2014',\n",
       "       'Jun-2014', 'Sep-2014', 'Aug-2014', 'Apr-2014', 'Mar-2014',\n",
       "       'Oct-2018', 'Nov-2018', 'Dec-2018', 'Jan-2014', 'Feb-2014',\n",
       "       'May-2018', 'Apr-2018', 'Jun-2018', 'Jan-2011', 'Aug-2011',\n",
       "       'Dec-2011', 'Feb-2011', 'Nov-2010', 'Jul-2011', 'Mar-2011',\n",
       "       'May-2011', 'Jun-2011', 'Jun-2010', 'Oct-2011', 'Apr-2011',\n",
       "       'Oct-2010', 'May-2010', 'Sep-2010', 'Nov-2011', 'Dec-2010',\n",
       "       'Jul-2010', 'Sep-2011', 'Apr-2010', 'Aug-2010', 'Mar-2010',\n",
       "       'Mar-2017', 'Dec-2013', 'Aug-2013', 'Jan-2017', 'Sep-2013',\n",
       "       'Jan-2009', 'Feb-2017', 'Nov-2013', 'Oct-2013', 'Dec-2009',\n",
       "       'Apr-2009', 'May-2008', 'Jul-2013', 'Sep-2008', 'Mar-2008',\n",
       "       'Nov-2009', 'Dec-2008', 'Apr-2008', 'May-2009', 'Aug-2009',\n",
       "       'Jan-2010', 'Jan-2008', 'Nov-2008', 'Aug-2008', 'Jun-2009',\n",
       "       'Sep-2009', 'Oct-2009', 'Mar-2009', 'Oct-2007', 'Jul-2007',\n",
       "       'Nov-2007', 'Feb-2010', 'Feb-2008', 'Feb-2009', 'Aug-2007',\n",
       "       'Jun-2008', 'Jun-2007', 'Oct-2008', 'Dec-2007', 'Jul-2009',\n",
       "       'Jul-2008', 'Sep-2007', 'Dec-2012', 'Mar-2013', 'Aug-2016',\n",
       "       'May-2013', 'Sep-2016', 'Jan-2013', 'Aug-2012', 'Apr-2013',\n",
       "       'Jun-2013', 'Nov-2012', 'Sep-2012', 'Feb-2012', 'Feb-2013',\n",
       "       'Jan-2012', 'Mar-2012', 'Apr-2012', 'Oct-2012', 'Jul-2012',\n",
       "       'Jun-2012', 'May-2012', 'Dec-2017', 'Jul-2016', 'Dec-2016',\n",
       "       'Nov-2017', 'Oct-2017', None, 'Nov-2016', 'Oct-2016',\n",
       "       'Source Verified'], dtype=object)"
      ]
     },
     "execution_count": 35,
     "metadata": {},
     "output_type": "execute_result"
    }
   ],
   "source": [
    "df['대출조달월'].unique()"
   ]
  },
  {
   "cell_type": "code",
   "execution_count": 36,
   "id": "41cf10f0-d11e-4f8b-90cf-a7062bd2e8d0",
   "metadata": {},
   "outputs": [
    {
     "data": {
      "text/plain": [
       "Mar-2016           61992\n",
       "Oct-2015           48630\n",
       "May-2018           46311\n",
       "Oct-2018           46305\n",
       "Aug-2018           46079\n",
       "                   ...  \n",
       "Jul-2007              63\n",
       "Sep-2008              57\n",
       "Sep-2007              53\n",
       "Jun-2007              24\n",
       "Source Verified        1\n",
       "Name: 대출조달월, Length: 140, dtype: int64"
      ]
     },
     "execution_count": 36,
     "metadata": {},
     "output_type": "execute_result"
    }
   ],
   "source": [
    "df['대출조달월'].value_counts()"
   ]
  },
  {
   "cell_type": "markdown",
   "id": "5743584b-0b0a-4b6b-91ed-8c13e52a9751",
   "metadata": {},
   "source": [
    "## 5-2 널값과 이상값 변환 "
   ]
  },
  {
   "cell_type": "code",
   "execution_count": 37,
   "id": "6cfed8f5-fe65-4d5a-bcb4-e2b2bc280314",
   "metadata": {},
   "outputs": [],
   "source": [
    "df = df.drop(df[df['대출조달월'] == \"Source Verified\"].index)"
   ]
  },
  {
   "cell_type": "code",
   "execution_count": 38,
   "id": "03e40028-2064-418e-b9eb-16a1b69de00b",
   "metadata": {},
   "outputs": [
    {
     "data": {
      "text/plain": [
       "33"
      ]
     },
     "execution_count": 38,
     "metadata": {},
     "output_type": "execute_result"
    }
   ],
   "source": [
    "df['대출조달월'].isnull().sum()"
   ]
  },
  {
   "cell_type": "code",
   "execution_count": 39,
   "id": "b4925502-a9f4-41df-8937-29de7824579e",
   "metadata": {},
   "outputs": [],
   "source": [
    "df['대출조달월'] = df['대출조달월'].fillna(\"\")"
   ]
  },
  {
   "cell_type": "markdown",
   "id": "31144f1f-db22-40ec-b977-12f012dd173a",
   "metadata": {},
   "source": [
    "## 날짜를 변환 "
   ]
  },
  {
   "cell_type": "code",
   "execution_count": 40,
   "id": "27e7371c-4048-47d2-9c97-9d764acdc63b",
   "metadata": {},
   "outputs": [],
   "source": [
    "df['대출조달월_날짜변환'] = pd.to_datetime(df['대출조달월'])"
   ]
  },
  {
   "cell_type": "code",
   "execution_count": 41,
   "id": "f6996824-df3b-4f04-a09b-b3f1dcb4132d",
   "metadata": {},
   "outputs": [
    {
     "data": {
      "text/plain": [
       "dtype('<M8[ns]')"
      ]
     },
     "execution_count": 41,
     "metadata": {},
     "output_type": "execute_result"
    }
   ],
   "source": [
    "df['대출조달월_날짜변환'].dtype"
   ]
  },
  {
   "cell_type": "markdown",
   "id": "ae730480-3f5a-4d1f-8a7b-456697b5e0d4",
   "metadata": {},
   "source": [
    "## 날짜를 처리하는 객체를 알아보기"
   ]
  },
  {
   "cell_type": "code",
   "execution_count": null,
   "id": "e1224ae9-1bb9-41f3-9a23-810426ce7482",
   "metadata": {},
   "outputs": [],
   "source": []
  },
  {
   "cell_type": "code",
   "execution_count": 42,
   "id": "c8d5600b-cd90-4888-8c69-b1ccce5108ca",
   "metadata": {},
   "outputs": [
    {
     "data": {
      "text/plain": [
       "['__annotations__',\n",
       " '__class__',\n",
       " '__delattr__',\n",
       " '__dict__',\n",
       " '__dir__',\n",
       " '__doc__',\n",
       " '__eq__',\n",
       " '__format__',\n",
       " '__frozen',\n",
       " '__ge__',\n",
       " '__getattribute__',\n",
       " '__gt__',\n",
       " '__hash__',\n",
       " '__init__',\n",
       " '__init_subclass__',\n",
       " '__le__',\n",
       " '__lt__',\n",
       " '__module__',\n",
       " '__ne__',\n",
       " '__new__',\n",
       " '__reduce__',\n",
       " '__reduce_ex__',\n",
       " '__repr__',\n",
       " '__setattr__',\n",
       " '__sizeof__',\n",
       " '__str__',\n",
       " '__subclasshook__',\n",
       " '__weakref__',\n",
       " '_accessors',\n",
       " '_add_delegate_accessors',\n",
       " '_constructor',\n",
       " '_delegate_method',\n",
       " '_delegate_property_get',\n",
       " '_delegate_property_set',\n",
       " '_dir_additions',\n",
       " '_dir_deletions',\n",
       " '_freeze',\n",
       " '_get_values',\n",
       " '_hidden_attrs',\n",
       " '_parent',\n",
       " '_reset_cache',\n",
       " 'ceil',\n",
       " 'date',\n",
       " 'day',\n",
       " 'day_name',\n",
       " 'day_of_week',\n",
       " 'day_of_year',\n",
       " 'dayofweek',\n",
       " 'dayofyear',\n",
       " 'days_in_month',\n",
       " 'daysinmonth',\n",
       " 'floor',\n",
       " 'freq',\n",
       " 'hour',\n",
       " 'is_leap_year',\n",
       " 'is_month_end',\n",
       " 'is_month_start',\n",
       " 'is_quarter_end',\n",
       " 'is_quarter_start',\n",
       " 'is_year_end',\n",
       " 'is_year_start',\n",
       " 'isocalendar',\n",
       " 'microsecond',\n",
       " 'minute',\n",
       " 'month',\n",
       " 'month_name',\n",
       " 'nanosecond',\n",
       " 'normalize',\n",
       " 'quarter',\n",
       " 'round',\n",
       " 'second',\n",
       " 'strftime',\n",
       " 'time',\n",
       " 'timetz',\n",
       " 'to_period',\n",
       " 'to_pydatetime',\n",
       " 'tz',\n",
       " 'tz_convert',\n",
       " 'tz_localize',\n",
       " 'week',\n",
       " 'weekday',\n",
       " 'weekofyear',\n",
       " 'year']"
      ]
     },
     "execution_count": 42,
     "metadata": {},
     "output_type": "execute_result"
    }
   ],
   "source": [
    "dir(df['대출조달월_날짜변환'].dt)"
   ]
  },
  {
   "cell_type": "code",
   "execution_count": 43,
   "id": "429ef8be-ee88-4a3c-a69f-f34d5f8f8634",
   "metadata": {},
   "outputs": [
    {
     "data": {
      "text/plain": [
       "0          2015.0\n",
       "1          2015.0\n",
       "2          2015.0\n",
       "3          2015.0\n",
       "4          2015.0\n",
       "            ...  \n",
       "2260696    2016.0\n",
       "2260697    2016.0\n",
       "2260698    2016.0\n",
       "2260699    2016.0\n",
       "2260700    2016.0\n",
       "Name: 대출조달월_날짜변환, Length: 2260700, dtype: float64"
      ]
     },
     "execution_count": 43,
     "metadata": {},
     "output_type": "execute_result"
    }
   ],
   "source": [
    "df['대출조달월_날짜변환'].dt.year"
   ]
  },
  {
   "cell_type": "code",
   "execution_count": 44,
   "id": "1fa0c695-ee6e-4b7e-8f2c-b7425392a56a",
   "metadata": {},
   "outputs": [
    {
     "data": {
      "text/plain": [
       "2018.0    495242\n",
       "2017.0    443579\n",
       "2016.0    434407\n",
       "2015.0    421094\n",
       "2014.0    235629\n",
       "2013.0    134814\n",
       "2012.0     53367\n",
       "2011.0     21721\n",
       "2010.0     12537\n",
       "2009.0      5281\n",
       "2008.0      2393\n",
       "2007.0       603\n",
       "Name: 대출조달월_날짜변환, dtype: int64"
      ]
     },
     "execution_count": 44,
     "metadata": {},
     "output_type": "execute_result"
    }
   ],
   "source": [
    "(df['대출조달월_날짜변환'].dt.year).value_counts()"
   ]
  },
  {
   "cell_type": "code",
   "execution_count": null,
   "id": "3fada37a-d211-4c2f-a5f1-0fb393768300",
   "metadata": {},
   "outputs": [],
   "source": []
  },
  {
   "cell_type": "code",
   "execution_count": null,
   "id": "d5ed53b1-9c9b-48cc-8990-83eb73abdf57",
   "metadata": {},
   "outputs": [],
   "source": []
  },
  {
   "cell_type": "markdown",
   "id": "5a30d373-d731-41fd-ab47-f75e66c9ef35",
   "metadata": {},
   "source": [
    "# 6. 특정 데이터 선택"
   ]
  },
  {
   "cell_type": "markdown",
   "id": "5077f8da-0f1f-49b0-9e2c-a62ad5186576",
   "metadata": {},
   "source": [
    "## 6-1 특정 데이터만 선택 "
   ]
  },
  {
   "cell_type": "code",
   "execution_count": 45,
   "id": "961aabd2-d789-4e6d-ae77-30c435d4dc0e",
   "metadata": {},
   "outputs": [
    {
     "data": {
      "text/plain": [
       "53367"
      ]
     },
     "execution_count": 45,
     "metadata": {},
     "output_type": "execute_result"
    }
   ],
   "source": [
    "(df['대출조달월_날짜변환'].dt.year == 2012.0).sum()"
   ]
  },
  {
   "cell_type": "code",
   "execution_count": 46,
   "id": "96133159-7743-4547-898c-0fb553ceb9b9",
   "metadata": {},
   "outputs": [],
   "source": [
    "df_2012 = df[df['대출조달월_날짜변환'].dt.year == 2012.0]"
   ]
  },
  {
   "cell_type": "code",
   "execution_count": 47,
   "id": "35f74d5e-017a-4a3d-b549-6606f62f4feb",
   "metadata": {},
   "outputs": [
    {
     "data": {
      "text/plain": [
       "(53367, 152)"
      ]
     },
     "execution_count": 47,
     "metadata": {},
     "output_type": "execute_result"
    }
   ],
   "source": [
    "df_2012.shape"
   ]
  },
  {
   "cell_type": "markdown",
   "id": "229569ef-4344-4c9d-890f-be78156ee970",
   "metadata": {},
   "source": [
    "## 6-2 데이터 변환후 삭제 "
   ]
  },
  {
   "cell_type": "code",
   "execution_count": 52,
   "id": "3febe5fc-b573-4a0d-80c1-44189e23f413",
   "metadata": {},
   "outputs": [
    {
     "name": "stderr",
     "output_type": "stream",
     "text": [
      "/var/folders/h4/44486vyn1_xbs13g1z50l5m00000gn/T/ipykernel_94972/862396029.py:1: SettingWithCopyWarning: \n",
      "A value is trying to be set on a copy of a slice from a DataFrame.\n",
      "Try using .loc[row_indexer,col_indexer] = value instead\n",
      "\n",
      "See the caveats in the documentation: https://pandas.pydata.org/pandas-docs/stable/user_guide/indexing.html#returning-a-view-versus-a-copy\n",
      "  df_2012.loc[:, '대출조달월'] = df_2012['대출조달월_날짜변환']\n"
     ]
    }
   ],
   "source": [
    "df_2012.loc[:, '대출조달월'] = df_2012['대출조달월_날짜변환']"
   ]
  },
  {
   "cell_type": "code",
   "execution_count": 53,
   "id": "bfb3a901-6775-4d44-b039-8b18198784a8",
   "metadata": {},
   "outputs": [],
   "source": [
    "df_2012 = df_2012.drop('대출조달월_날짜변환',axis=1)"
   ]
  },
  {
   "cell_type": "code",
   "execution_count": 54,
   "id": "75b8731e-b98a-4cf0-a5f5-e9e6989d3a77",
   "metadata": {},
   "outputs": [
    {
     "data": {
      "text/plain": [
       "(53367, 151)"
      ]
     },
     "execution_count": 54,
     "metadata": {},
     "output_type": "execute_result"
    }
   ],
   "source": [
    "df_2012.shape"
   ]
  },
  {
   "cell_type": "code",
   "execution_count": null,
   "id": "4974b086-cacf-4849-851b-9ed0ec2723d1",
   "metadata": {},
   "outputs": [],
   "source": []
  },
  {
   "cell_type": "markdown",
   "id": "c07a521c-bfdc-4ba8-b861-fcd4395c6cd7",
   "metadata": {},
   "source": [
    "## 6-3 데이터 저장하기 "
   ]
  },
  {
   "cell_type": "code",
   "execution_count": 55,
   "id": "8609b6ba-e48d-4c7e-968a-162c99065ffd",
   "metadata": {},
   "outputs": [],
   "source": [
    "path_w = '/Users/a06411/Documents/GitHub/js_automl_pycaret/lending_club_data/lending_club_2012_2.csv'"
   ]
  },
  {
   "cell_type": "code",
   "execution_count": 56,
   "id": "ff8727fb-9a70-4813-b4e4-2c6678bdd8d8",
   "metadata": {},
   "outputs": [],
   "source": [
    "df_2012.to_csv(path_w,index=False)"
   ]
  },
  {
   "cell_type": "markdown",
   "id": "7a2200a0-1875-4ffa-a8a7-00917910e348",
   "metadata": {},
   "source": [
    "## 6-4 데이터 읽어오기 "
   ]
  },
  {
   "cell_type": "code",
   "execution_count": 58,
   "id": "4bb60bfa-47fc-4e73-825c-64d06e2162cf",
   "metadata": {},
   "outputs": [],
   "source": [
    "accept = pd.read_csv(path_w,low_memory=False)"
   ]
  },
  {
   "cell_type": "code",
   "execution_count": 59,
   "id": "a7b0105a-b39c-4a2e-be1e-44b32f0adb07",
   "metadata": {},
   "outputs": [
    {
     "data": {
      "text/html": [
       "<div>\n",
       "<style scoped>\n",
       "    .dataframe tbody tr th:only-of-type {\n",
       "        vertical-align: middle;\n",
       "    }\n",
       "\n",
       "    .dataframe tbody tr th {\n",
       "        vertical-align: top;\n",
       "    }\n",
       "\n",
       "    .dataframe thead th {\n",
       "        text-align: right;\n",
       "    }\n",
       "</style>\n",
       "<table border=\"1\" class=\"dataframe\">\n",
       "  <thead>\n",
       "    <tr style=\"text-align: right;\">\n",
       "      <th></th>\n",
       "      <th>id</th>\n",
       "      <th>회원번호</th>\n",
       "      <th>대출금액</th>\n",
       "      <th>대출약정금액</th>\n",
       "      <th>투자자대출약정금액</th>\n",
       "      <th>대출상환기간</th>\n",
       "      <th>대출이자율</th>\n",
       "      <th>매월상환금액</th>\n",
       "      <th>신용평가등급</th>\n",
       "      <th>신용평가보조등급</th>\n",
       "      <th>...</th>\n",
       "      <th>상환시작일이후상환금액</th>\n",
       "      <th>상환시작일이후마지막상환금액</th>\n",
       "      <th>대출금지급유형</th>\n",
       "      <th>대출협력여부</th>\n",
       "      <th>가장최근상환일자</th>\n",
       "      <th>대출정산계획상태</th>\n",
       "      <th>대출정산계획일자</th>\n",
       "      <th>대출정산금액</th>\n",
       "      <th>대출정산비율금액</th>\n",
       "      <th>대출정산계획개월수</th>\n",
       "    </tr>\n",
       "  </thead>\n",
       "  <tbody>\n",
       "    <tr>\n",
       "      <th>0</th>\n",
       "      <td>2515062</td>\n",
       "      <td>NaN</td>\n",
       "      <td>8500.0</td>\n",
       "      <td>8500.0</td>\n",
       "      <td>8500.0</td>\n",
       "      <td>36 months</td>\n",
       "      <td>13.11</td>\n",
       "      <td>286.85</td>\n",
       "      <td>B</td>\n",
       "      <td>B4</td>\n",
       "      <td>...</td>\n",
       "      <td>NaN</td>\n",
       "      <td>NaN</td>\n",
       "      <td>Cash</td>\n",
       "      <td>N</td>\n",
       "      <td>NaN</td>\n",
       "      <td>NaN</td>\n",
       "      <td>NaN</td>\n",
       "      <td>NaN</td>\n",
       "      <td>NaN</td>\n",
       "      <td>NaN</td>\n",
       "    </tr>\n",
       "    <tr>\n",
       "      <th>1</th>\n",
       "      <td>1435195</td>\n",
       "      <td>NaN</td>\n",
       "      <td>15850.0</td>\n",
       "      <td>15850.0</td>\n",
       "      <td>15850.0</td>\n",
       "      <td>36 months</td>\n",
       "      <td>19.05</td>\n",
       "      <td>581.40</td>\n",
       "      <td>D</td>\n",
       "      <td>D4</td>\n",
       "      <td>...</td>\n",
       "      <td>NaN</td>\n",
       "      <td>NaN</td>\n",
       "      <td>Cash</td>\n",
       "      <td>N</td>\n",
       "      <td>NaN</td>\n",
       "      <td>NaN</td>\n",
       "      <td>NaN</td>\n",
       "      <td>NaN</td>\n",
       "      <td>NaN</td>\n",
       "      <td>NaN</td>\n",
       "    </tr>\n",
       "    <tr>\n",
       "      <th>2</th>\n",
       "      <td>1856218</td>\n",
       "      <td>NaN</td>\n",
       "      <td>23850.0</td>\n",
       "      <td>23850.0</td>\n",
       "      <td>23850.0</td>\n",
       "      <td>60 months</td>\n",
       "      <td>19.05</td>\n",
       "      <td>619.34</td>\n",
       "      <td>D</td>\n",
       "      <td>D4</td>\n",
       "      <td>...</td>\n",
       "      <td>NaN</td>\n",
       "      <td>NaN</td>\n",
       "      <td>Cash</td>\n",
       "      <td>N</td>\n",
       "      <td>NaN</td>\n",
       "      <td>NaN</td>\n",
       "      <td>NaN</td>\n",
       "      <td>NaN</td>\n",
       "      <td>NaN</td>\n",
       "      <td>NaN</td>\n",
       "    </tr>\n",
       "    <tr>\n",
       "      <th>3</th>\n",
       "      <td>2216955</td>\n",
       "      <td>NaN</td>\n",
       "      <td>18000.0</td>\n",
       "      <td>18000.0</td>\n",
       "      <td>17950.0</td>\n",
       "      <td>60 months</td>\n",
       "      <td>19.05</td>\n",
       "      <td>467.43</td>\n",
       "      <td>D</td>\n",
       "      <td>D4</td>\n",
       "      <td>...</td>\n",
       "      <td>NaN</td>\n",
       "      <td>NaN</td>\n",
       "      <td>Cash</td>\n",
       "      <td>N</td>\n",
       "      <td>NaN</td>\n",
       "      <td>NaN</td>\n",
       "      <td>NaN</td>\n",
       "      <td>NaN</td>\n",
       "      <td>NaN</td>\n",
       "      <td>NaN</td>\n",
       "    </tr>\n",
       "    <tr>\n",
       "      <th>4</th>\n",
       "      <td>1506044</td>\n",
       "      <td>NaN</td>\n",
       "      <td>14000.0</td>\n",
       "      <td>14000.0</td>\n",
       "      <td>13750.0</td>\n",
       "      <td>36 months</td>\n",
       "      <td>12.12</td>\n",
       "      <td>465.81</td>\n",
       "      <td>B</td>\n",
       "      <td>B3</td>\n",
       "      <td>...</td>\n",
       "      <td>NaN</td>\n",
       "      <td>NaN</td>\n",
       "      <td>Cash</td>\n",
       "      <td>N</td>\n",
       "      <td>NaN</td>\n",
       "      <td>NaN</td>\n",
       "      <td>NaN</td>\n",
       "      <td>NaN</td>\n",
       "      <td>NaN</td>\n",
       "      <td>NaN</td>\n",
       "    </tr>\n",
       "  </tbody>\n",
       "</table>\n",
       "<p>5 rows × 151 columns</p>\n",
       "</div>"
      ],
      "text/plain": [
       "        id  회원번호     대출금액   대출약정금액  투자자대출약정금액      대출상환기간  대출이자율  매월상환금액  \\\n",
       "0  2515062   NaN   8500.0   8500.0     8500.0   36 months  13.11  286.85   \n",
       "1  1435195   NaN  15850.0  15850.0    15850.0   36 months  19.05  581.40   \n",
       "2  1856218   NaN  23850.0  23850.0    23850.0   60 months  19.05  619.34   \n",
       "3  2216955   NaN  18000.0  18000.0    17950.0   60 months  19.05  467.43   \n",
       "4  1506044   NaN  14000.0  14000.0    13750.0   36 months  12.12  465.81   \n",
       "\n",
       "  신용평가등급 신용평가보조등급  ... 상환시작일이후상환금액 상환시작일이후마지막상환금액 대출금지급유형  대출협력여부 가장최근상환일자  \\\n",
       "0      B       B4  ...         NaN            NaN    Cash       N      NaN   \n",
       "1      D       D4  ...         NaN            NaN    Cash       N      NaN   \n",
       "2      D       D4  ...         NaN            NaN    Cash       N      NaN   \n",
       "3      D       D4  ...         NaN            NaN    Cash       N      NaN   \n",
       "4      B       B3  ...         NaN            NaN    Cash       N      NaN   \n",
       "\n",
       "  대출정산계획상태 대출정산계획일자 대출정산금액 대출정산비율금액 대출정산계획개월수  \n",
       "0      NaN      NaN    NaN      NaN       NaN  \n",
       "1      NaN      NaN    NaN      NaN       NaN  \n",
       "2      NaN      NaN    NaN      NaN       NaN  \n",
       "3      NaN      NaN    NaN      NaN       NaN  \n",
       "4      NaN      NaN    NaN      NaN       NaN  \n",
       "\n",
       "[5 rows x 151 columns]"
      ]
     },
     "execution_count": 59,
     "metadata": {},
     "output_type": "execute_result"
    }
   ],
   "source": [
    "accept.head()"
   ]
  },
  {
   "cell_type": "markdown",
   "id": "d05583c3-625b-4f3d-9551-d1e6ec499c24",
   "metadata": {},
   "source": [
    "## 6-5 테이블 생성하기 "
   ]
  },
  {
   "cell_type": "markdown",
   "id": "8f2d6d02-bd37-4045-a514-bd4dd933e6e0",
   "metadata": {},
   "source": [
    "## 테이블 생성 함수 "
   ]
  },
  {
   "cell_type": "code",
   "execution_count": 61,
   "id": "cd7c0c98-91db-4db4-9a76-cd0c213ed320",
   "metadata": {},
   "outputs": [],
   "source": [
    "def put(df_csv, label_info, db):\n",
    "   tblname = label_info[\"Label\"].unique()\n",
    "   for i in tblname:\n",
    "       cols = list(label_info[label_info['Label'] == i]['korean_name'].values)    # label별 데이터 분리\n",
    "       df = df_csv[[\"id\"]+ cols]  #id값 포함\n",
    "       df.to_sql(i, db, if_exists='replace', index=False)\n",
    "   db.close()"
   ]
  },
  {
   "cell_type": "markdown",
   "id": "66c9d330-e954-4526-a05b-d10294c37cdd",
   "metadata": {},
   "source": [
    "## 데이터베이스 생성하기 "
   ]
  },
  {
   "cell_type": "code",
   "execution_count": 62,
   "id": "0639b7cb-c87f-4c9a-91b6-00f85f026de2",
   "metadata": {},
   "outputs": [],
   "source": [
    "path_db = \"/Users/a06411/Documents/GitHub/js_automl_pycaret/lending_club_data/sql_db/lending_club_2012_hw2.db\""
   ]
  },
  {
   "cell_type": "code",
   "execution_count": 63,
   "id": "cafc8f58-5b33-45a5-aa11-9273184c9e1d",
   "metadata": {},
   "outputs": [],
   "source": [
    "con = sqlite3.connect(path_db)\n",
    "put(accept,df_schema, con)"
   ]
  },
  {
   "cell_type": "code",
   "execution_count": null,
   "id": "37bf44fd-1e89-4f89-9a34-8c3fea9d37d8",
   "metadata": {},
   "outputs": [],
   "source": []
  },
  {
   "cell_type": "markdown",
   "id": "76d55cae-7c82-42b7-bd57-e9c0f466d432",
   "metadata": {},
   "source": [
    "# 7  데이터 베이스 조회하기 "
   ]
  },
  {
   "cell_type": "markdown",
   "id": "1254c69d-301a-4474-83cc-59a0607ae1fc",
   "metadata": {},
   "source": [
    "## 7-1 데이터베이스 내의 테이블 확인하기 "
   ]
  },
  {
   "cell_type": "code",
   "execution_count": 65,
   "id": "c846cd87-e448-4e38-92bc-e8b61df11ef6",
   "metadata": {},
   "outputs": [],
   "source": [
    "path_db2 = \"/Users/a06411/Documents/GitHub/js_automl_pycaret/lending_club_data/sql_db/lending_club_2012_hw2.db\""
   ]
  },
  {
   "cell_type": "code",
   "execution_count": 66,
   "id": "b0f4935d-84ab-47a8-8e72-725860562983",
   "metadata": {},
   "outputs": [],
   "source": [
    "con2 = sqlite3.connect(path_db2)"
   ]
  },
  {
   "cell_type": "markdown",
   "id": "9032ba85-28e2-4688-b398-a9e0e315b0a4",
   "metadata": {},
   "source": [
    "## 테이블 정보 확인하기 "
   ]
  },
  {
   "cell_type": "code",
   "execution_count": 67,
   "id": "77246117-c633-457d-ad7d-9c1f48135533",
   "metadata": {},
   "outputs": [],
   "source": [
    "sub_query = \"\"\"SELECT name \n",
    "           FROM sqlite_master \n",
    "           WHERE type IN ('table', 'view') AND name NOT LIKE 'sqlite_%' \"\"\""
   ]
  },
  {
   "cell_type": "code",
   "execution_count": 70,
   "id": "d63977cd-8f93-46b2-8d99-ed5c503c6d49",
   "metadata": {},
   "outputs": [
    {
     "data": {
      "text/html": [
       "<div>\n",
       "<style scoped>\n",
       "    .dataframe tbody tr th:only-of-type {\n",
       "        vertical-align: middle;\n",
       "    }\n",
       "\n",
       "    .dataframe tbody tr th {\n",
       "        vertical-align: top;\n",
       "    }\n",
       "\n",
       "    .dataframe thead th {\n",
       "        text-align: right;\n",
       "    }\n",
       "</style>\n",
       "<table border=\"1\" class=\"dataframe\">\n",
       "  <thead>\n",
       "    <tr style=\"text-align: right;\">\n",
       "      <th></th>\n",
       "      <th>name</th>\n",
       "    </tr>\n",
       "  </thead>\n",
       "  <tbody>\n",
       "    <tr>\n",
       "      <th>0</th>\n",
       "      <td>borrower</td>\n",
       "    </tr>\n",
       "    <tr>\n",
       "      <th>1</th>\n",
       "      <td>credit</td>\n",
       "    </tr>\n",
       "    <tr>\n",
       "      <th>2</th>\n",
       "      <td>credit_rating</td>\n",
       "    </tr>\n",
       "    <tr>\n",
       "      <th>3</th>\n",
       "      <td>hardship</td>\n",
       "    </tr>\n",
       "    <tr>\n",
       "      <th>4</th>\n",
       "      <td>income</td>\n",
       "    </tr>\n",
       "    <tr>\n",
       "      <th>5</th>\n",
       "      <td>inquiry</td>\n",
       "    </tr>\n",
       "    <tr>\n",
       "      <th>6</th>\n",
       "      <td>installment</td>\n",
       "    </tr>\n",
       "    <tr>\n",
       "      <th>7</th>\n",
       "      <td>loan_account</td>\n",
       "    </tr>\n",
       "    <tr>\n",
       "      <th>8</th>\n",
       "      <td>payment</td>\n",
       "    </tr>\n",
       "    <tr>\n",
       "      <th>9</th>\n",
       "      <td>revolving</td>\n",
       "    </tr>\n",
       "    <tr>\n",
       "      <th>10</th>\n",
       "      <td>secondary_applicant</td>\n",
       "    </tr>\n",
       "    <tr>\n",
       "      <th>11</th>\n",
       "      <td>settlement</td>\n",
       "    </tr>\n",
       "    <tr>\n",
       "      <th>12</th>\n",
       "      <td>trade</td>\n",
       "    </tr>\n",
       "  </tbody>\n",
       "</table>\n",
       "</div>"
      ],
      "text/plain": [
       "                   name\n",
       "0              borrower\n",
       "1                credit\n",
       "2         credit_rating\n",
       "3              hardship\n",
       "4                income\n",
       "5               inquiry\n",
       "6           installment\n",
       "7          loan_account\n",
       "8               payment\n",
       "9             revolving\n",
       "10  secondary_applicant\n",
       "11           settlement\n",
       "12                trade"
      ]
     },
     "execution_count": 70,
     "metadata": {},
     "output_type": "execute_result"
    }
   ],
   "source": [
    " pd.read_sql_query(sub_query,con2)"
   ]
  },
  {
   "cell_type": "code",
   "execution_count": 73,
   "id": "c1fcaffe-6c81-46bb-a24a-e823a4279eac",
   "metadata": {},
   "outputs": [],
   "source": [
    "df_tbl_name = pd.read_sql_query(sub_query,con2)"
   ]
  },
  {
   "cell_type": "code",
   "execution_count": 74,
   "id": "305048b7-f542-43dc-a5fc-fdd1862e0a85",
   "metadata": {},
   "outputs": [
    {
     "data": {
      "text/plain": [
       "['borrower',\n",
       " 'credit',\n",
       " 'credit_rating',\n",
       " 'hardship',\n",
       " 'income',\n",
       " 'inquiry',\n",
       " 'installment',\n",
       " 'loan_account',\n",
       " 'payment',\n",
       " 'revolving',\n",
       " 'secondary_applicant',\n",
       " 'settlement',\n",
       " 'trade']"
      ]
     },
     "execution_count": 74,
     "metadata": {},
     "output_type": "execute_result"
    }
   ],
   "source": [
    "[*df_tbl_name['name']]"
   ]
  },
  {
   "cell_type": "code",
   "execution_count": 75,
   "id": "0a70d06f-4b48-4923-ae6f-490b13fde87a",
   "metadata": {},
   "outputs": [],
   "source": [
    "query = \"SELECT * FROM sqlite_master WHERE type='table';\""
   ]
  },
  {
   "cell_type": "code",
   "execution_count": 76,
   "id": "70da618d-c3a4-41ec-9c81-2b53753ed780",
   "metadata": {},
   "outputs": [
    {
     "data": {
      "text/html": [
       "<div>\n",
       "<style scoped>\n",
       "    .dataframe tbody tr th:only-of-type {\n",
       "        vertical-align: middle;\n",
       "    }\n",
       "\n",
       "    .dataframe tbody tr th {\n",
       "        vertical-align: top;\n",
       "    }\n",
       "\n",
       "    .dataframe thead th {\n",
       "        text-align: right;\n",
       "    }\n",
       "</style>\n",
       "<table border=\"1\" class=\"dataframe\">\n",
       "  <thead>\n",
       "    <tr style=\"text-align: right;\">\n",
       "      <th></th>\n",
       "      <th>type</th>\n",
       "      <th>name</th>\n",
       "      <th>tbl_name</th>\n",
       "      <th>rootpage</th>\n",
       "      <th>sql</th>\n",
       "    </tr>\n",
       "  </thead>\n",
       "  <tbody>\n",
       "    <tr>\n",
       "      <th>0</th>\n",
       "      <td>table</td>\n",
       "      <td>borrower</td>\n",
       "      <td>borrower</td>\n",
       "      <td>2</td>\n",
       "      <td>CREATE TABLE \"borrower\" (\\n\"id\" INTEGER,\\n  \"직...</td>\n",
       "    </tr>\n",
       "    <tr>\n",
       "      <th>1</th>\n",
       "      <td>table</td>\n",
       "      <td>credit</td>\n",
       "      <td>credit</td>\n",
       "      <td>717</td>\n",
       "      <td>CREATE TABLE \"credit\" (\\n\"id\" INTEGER,\\n  \"세금체...</td>\n",
       "    </tr>\n",
       "    <tr>\n",
       "      <th>2</th>\n",
       "      <td>table</td>\n",
       "      <td>credit_rating</td>\n",
       "      <td>credit_rating</td>\n",
       "      <td>1793</td>\n",
       "      <td>CREATE TABLE \"credit_rating\" (\\n\"id\" INTEGER,\\...</td>\n",
       "    </tr>\n",
       "    <tr>\n",
       "      <th>3</th>\n",
       "      <td>table</td>\n",
       "      <td>hardship</td>\n",
       "      <td>hardship</td>\n",
       "      <td>2156</td>\n",
       "      <td>CREATE TABLE \"hardship\" (\\n\"id\" INTEGER,\\n  \"상...</td>\n",
       "    </tr>\n",
       "    <tr>\n",
       "      <th>4</th>\n",
       "      <td>table</td>\n",
       "      <td>income</td>\n",
       "      <td>income</td>\n",
       "      <td>2574</td>\n",
       "      <td>CREATE TABLE \"income\" (\\n\"id\" INTEGER,\\n  \"연소득...</td>\n",
       "    </tr>\n",
       "    <tr>\n",
       "      <th>5</th>\n",
       "      <td>table</td>\n",
       "      <td>inquiry</td>\n",
       "      <td>inquiry</td>\n",
       "      <td>3084</td>\n",
       "      <td>CREATE TABLE \"inquiry\" (\\n\"id\" INTEGER,\\n  \"6개...</td>\n",
       "    </tr>\n",
       "    <tr>\n",
       "      <th>6</th>\n",
       "      <td>table</td>\n",
       "      <td>installment</td>\n",
       "      <td>installment</td>\n",
       "      <td>3288</td>\n",
       "      <td>CREATE TABLE \"installment\" (\\n\"id\" INTEGER,\\n ...</td>\n",
       "    </tr>\n",
       "    <tr>\n",
       "      <th>7</th>\n",
       "      <td>table</td>\n",
       "      <td>loan_account</td>\n",
       "      <td>loan_account</td>\n",
       "      <td>3575</td>\n",
       "      <td>CREATE TABLE \"loan_account\" (\\n\"id\" INTEGER,\\n...</td>\n",
       "    </tr>\n",
       "    <tr>\n",
       "      <th>8</th>\n",
       "      <td>table</td>\n",
       "      <td>payment</td>\n",
       "      <td>payment</td>\n",
       "      <td>8318</td>\n",
       "      <td>CREATE TABLE \"payment\" (\\n\"id\" INTEGER,\\n  \"대출...</td>\n",
       "    </tr>\n",
       "    <tr>\n",
       "      <th>9</th>\n",
       "      <td>table</td>\n",
       "      <td>revolving</td>\n",
       "      <td>revolving</td>\n",
       "      <td>9243</td>\n",
       "      <td>CREATE TABLE \"revolving\" (\\n\"id\" INTEGER,\\n  \"...</td>\n",
       "    </tr>\n",
       "    <tr>\n",
       "      <th>10</th>\n",
       "      <td>table</td>\n",
       "      <td>secondary_applicant</td>\n",
       "      <td>secondary_applicant</td>\n",
       "      <td>9609</td>\n",
       "      <td>CREATE TABLE \"secondary_applicant\" (\\n\"id\" INT...</td>\n",
       "    </tr>\n",
       "    <tr>\n",
       "      <th>11</th>\n",
       "      <td>table</td>\n",
       "      <td>settlement</td>\n",
       "      <td>settlement</td>\n",
       "      <td>9921</td>\n",
       "      <td>CREATE TABLE \"settlement\" (\\n\"id\" INTEGER,\\n  ...</td>\n",
       "    </tr>\n",
       "    <tr>\n",
       "      <th>12</th>\n",
       "      <td>table</td>\n",
       "      <td>trade</td>\n",
       "      <td>trade</td>\n",
       "      <td>10170</td>\n",
       "      <td>CREATE TABLE \"trade\" (\\n\"id\" INTEGER,\\n  \"최근은행...</td>\n",
       "    </tr>\n",
       "  </tbody>\n",
       "</table>\n",
       "</div>"
      ],
      "text/plain": [
       "     type                 name             tbl_name  rootpage  \\\n",
       "0   table             borrower             borrower         2   \n",
       "1   table               credit               credit       717   \n",
       "2   table        credit_rating        credit_rating      1793   \n",
       "3   table             hardship             hardship      2156   \n",
       "4   table               income               income      2574   \n",
       "5   table              inquiry              inquiry      3084   \n",
       "6   table          installment          installment      3288   \n",
       "7   table         loan_account         loan_account      3575   \n",
       "8   table              payment              payment      8318   \n",
       "9   table            revolving            revolving      9243   \n",
       "10  table  secondary_applicant  secondary_applicant      9609   \n",
       "11  table           settlement           settlement      9921   \n",
       "12  table                trade                trade     10170   \n",
       "\n",
       "                                                  sql  \n",
       "0   CREATE TABLE \"borrower\" (\\n\"id\" INTEGER,\\n  \"직...  \n",
       "1   CREATE TABLE \"credit\" (\\n\"id\" INTEGER,\\n  \"세금체...  \n",
       "2   CREATE TABLE \"credit_rating\" (\\n\"id\" INTEGER,\\...  \n",
       "3   CREATE TABLE \"hardship\" (\\n\"id\" INTEGER,\\n  \"상...  \n",
       "4   CREATE TABLE \"income\" (\\n\"id\" INTEGER,\\n  \"연소득...  \n",
       "5   CREATE TABLE \"inquiry\" (\\n\"id\" INTEGER,\\n  \"6개...  \n",
       "6   CREATE TABLE \"installment\" (\\n\"id\" INTEGER,\\n ...  \n",
       "7   CREATE TABLE \"loan_account\" (\\n\"id\" INTEGER,\\n...  \n",
       "8   CREATE TABLE \"payment\" (\\n\"id\" INTEGER,\\n  \"대출...  \n",
       "9   CREATE TABLE \"revolving\" (\\n\"id\" INTEGER,\\n  \"...  \n",
       "10  CREATE TABLE \"secondary_applicant\" (\\n\"id\" INT...  \n",
       "11  CREATE TABLE \"settlement\" (\\n\"id\" INTEGER,\\n  ...  \n",
       "12  CREATE TABLE \"trade\" (\\n\"id\" INTEGER,\\n  \"최근은행...  "
      ]
     },
     "execution_count": 76,
     "metadata": {},
     "output_type": "execute_result"
    }
   ],
   "source": [
    "pd.read_sql_query(query,con2)"
   ]
  },
  {
   "cell_type": "markdown",
   "id": "f03ad77b-50c2-4599-a150-8adcfde643cd",
   "metadata": {},
   "source": [
    "## 7-2 실제 테이블의 정보 가져오기"
   ]
  },
  {
   "cell_type": "markdown",
   "id": "b766b6a3-0bdf-46f8-a872-31f700b20574",
   "metadata": {},
   "source": [
    "## 함수 정의하기 "
   ]
  },
  {
   "cell_type": "code",
   "execution_count": 77,
   "id": "049cb28d-bbe6-4505-aaf8-21d653482edb",
   "metadata": {},
   "outputs": [],
   "source": [
    "def select_table(tbl_name,conn) :\n",
    "    query = f\"SELECT * FROM {tbl_name};\"\n",
    "    df = pd.read_sql_query(query,conn)\n",
    "    return df "
   ]
  },
  {
   "cell_type": "code",
   "execution_count": 78,
   "id": "5a40ff51-de07-46e0-b5b5-56abf72d7c40",
   "metadata": {},
   "outputs": [],
   "source": [
    "tbl_name = \"borrower\""
   ]
  },
  {
   "cell_type": "code",
   "execution_count": 79,
   "id": "2e7cf480-9a7e-45a6-bcbd-d8bc5510acd7",
   "metadata": {},
   "outputs": [],
   "source": [
    "df_borrower = select_table(tbl_name, con2)"
   ]
  },
  {
   "cell_type": "code",
   "execution_count": 80,
   "id": "87b43aae-4f17-451d-87a6-e7ff67072d0f",
   "metadata": {},
   "outputs": [
    {
     "name": "stdout",
     "output_type": "stream",
     "text": [
      "<class 'pandas.core.frame.DataFrame'>\n",
      "RangeIndex: 53367 entries, 0 to 53366\n",
      "Data columns (total 7 columns):\n",
      " #   Column  Non-Null Count  Dtype \n",
      "---  ------  --------------  ----- \n",
      " 0   id      53367 non-null  int64 \n",
      " 1   직업명     50195 non-null  object\n",
      " 2   근무연차    51442 non-null  object\n",
      " 3   주택소유    53367 non-null  object\n",
      " 4   우편번호    53367 non-null  object\n",
      " 5   거주국가    53367 non-null  object\n",
      " 6   회원번호    0 non-null      object\n",
      "dtypes: int64(1), object(6)\n",
      "memory usage: 2.9+ MB\n"
     ]
    }
   ],
   "source": [
    "df_borrower.info()"
   ]
  },
  {
   "cell_type": "markdown",
   "id": "0a091215-f02a-47e0-b6f9-ca67a03ffa1c",
   "metadata": {},
   "source": [
    "##  데이터를 읽어오기 "
   ]
  },
  {
   "cell_type": "code",
   "execution_count": 82,
   "id": "3ddefb89-d8bd-4351-a7bc-dcc309e903af",
   "metadata": {},
   "outputs": [],
   "source": [
    "path_r = '/Users/a06411/Documents/GitHub/js_automl_pycaret/lending_club_data/lending_club_2012_2.csv'"
   ]
  },
  {
   "cell_type": "code",
   "execution_count": 92,
   "id": "443ea167-c277-41a2-9d69-b84afad56d96",
   "metadata": {},
   "outputs": [
    {
     "name": "stderr",
     "output_type": "stream",
     "text": [
      "/var/folders/h4/44486vyn1_xbs13g1z50l5m00000gn/T/ipykernel_94972/1448226099.py:1: DtypeWarning: Columns (129,130,131,134,135,136,139) have mixed types. Specify dtype option on import or set low_memory=False.\n",
      "  df2 = pd.read_csv(path_r)\n"
     ]
    }
   ],
   "source": [
    "df2 = pd.read_csv(path_r)"
   ]
  },
  {
   "cell_type": "code",
   "execution_count": 93,
   "id": "a5084664-cc35-422f-9051-a338364ef846",
   "metadata": {},
   "outputs": [
    {
     "data": {
      "text/plain": [
       "(53367, 151)"
      ]
     },
     "execution_count": 93,
     "metadata": {},
     "output_type": "execute_result"
    }
   ],
   "source": [
    "df2.shape"
   ]
  },
  {
   "cell_type": "markdown",
   "id": "310ab691-d901-4122-9f55-49ca29bc6287",
   "metadata": {},
   "source": [
    "## 대출상태 확인하기 "
   ]
  },
  {
   "cell_type": "code",
   "execution_count": 94,
   "id": "90a485cd-8711-41b5-a30c-e8a6499cb068",
   "metadata": {},
   "outputs": [
    {
     "data": {
      "text/plain": [
       "'대출현재상태'"
      ]
     },
     "execution_count": 94,
     "metadata": {},
     "output_type": "execute_result"
    }
   ],
   "source": [
    "df_cols.searchEnMeta('loan_status')"
   ]
  },
  {
   "cell_type": "code",
   "execution_count": 99,
   "id": "6b1c4fd5-7199-4a70-bb2d-f3951d18a3e5",
   "metadata": {},
   "outputs": [
    {
     "data": {
      "text/plain": [
       "53367"
      ]
     },
     "execution_count": 99,
     "metadata": {},
     "output_type": "execute_result"
    }
   ],
   "source": [
    "(df2['대출현재상태'] != 'Current').sum()"
   ]
  },
  {
   "cell_type": "markdown",
   "id": "95334fdb-1f42-4d6c-a7d1-0ca006ce3e09",
   "metadata": {},
   "source": [
    "## 데이터 상태 변경확인"
   ]
  },
  {
   "cell_type": "code",
   "execution_count": 101,
   "id": "00c1a898-b54e-492c-9d1f-de2f6c1f81fa",
   "metadata": {},
   "outputs": [
    {
     "data": {
      "text/plain": [
       "Fully Paid     44723\n",
       "Charged Off     8644\n",
       "Name: 대출현재상태, dtype: int64"
      ]
     },
     "execution_count": 101,
     "metadata": {},
     "output_type": "execute_result"
    }
   ],
   "source": [
    "df2['대출현재상태'].value_counts()"
   ]
  },
  {
   "cell_type": "code",
   "execution_count": 102,
   "id": "f04c6c35-962f-4323-8c49-a64eb8faab62",
   "metadata": {},
   "outputs": [],
   "source": [
    "df2['대출현재상태'] = df2['대출현재상태'].map({'Fully Paid':0, \n",
    "                                            'Charged Off': 1\n",
    "                                            , 'Late (31-120 days)': 1\n",
    "                                           , 'Late (16-30 days)': 1\n",
    "                                           , 'In Grace Period': 0\n",
    "                                           , 'Does not meet the credit policy. Status:Fully Paid': 0\n",
    "                                           , 'Does not meet the credit policy. Status:Charged Off': 1\n",
    "                                           , 'Default': 1})"
   ]
  },
  {
   "cell_type": "code",
   "execution_count": 103,
   "id": "03f3517b-a2f0-4e4f-8935-522a128635c9",
   "metadata": {},
   "outputs": [
    {
     "data": {
      "text/plain": [
       "0    44723\n",
       "1     8644\n",
       "Name: 대출현재상태, dtype: int64"
      ]
     },
     "execution_count": 103,
     "metadata": {},
     "output_type": "execute_result"
    }
   ],
   "source": [
    "df2['대출현재상태'].value_counts()"
   ]
  },
  {
   "cell_type": "code",
   "execution_count": 107,
   "id": "a470ce8f-25d8-4292-aae7-17bf13479b64",
   "metadata": {},
   "outputs": [
    {
     "data": {
      "text/plain": [
       "0"
      ]
     },
     "execution_count": 107,
     "metadata": {},
     "output_type": "execute_result"
    }
   ],
   "source": [
    "df2['대출현재상태'].isna().sum()"
   ]
  },
  {
   "cell_type": "code",
   "execution_count": null,
   "id": "98a62b9f-9052-4d30-990c-324c779bc363",
   "metadata": {},
   "outputs": [],
   "source": []
  },
  {
   "cell_type": "code",
   "execution_count": 104,
   "id": "96469a8e-9615-4420-a2bb-7fb2809da5c2",
   "metadata": {},
   "outputs": [
    {
     "data": {
      "text/plain": [
       "'근무연차 '"
      ]
     },
     "execution_count": 104,
     "metadata": {},
     "output_type": "execute_result"
    }
   ],
   "source": [
    "df_cols.searchEnMeta('emp_length')"
   ]
  },
  {
   "cell_type": "code",
   "execution_count": 105,
   "id": "258398dc-929f-4844-8010-79cf8852982b",
   "metadata": {},
   "outputs": [],
   "source": [
    "df2['근무연차 '] = df2['근무연차 '].map({'10+ years':10, \n",
    "                                     '3 years': 3, \n",
    "                                     '2 years': 2, \n",
    "                                      '< 1 year': 1,\n",
    "                                      '1 year ': 1, \n",
    "                                      '4 years': 4,\n",
    "                                      '5 years' : 5,\n",
    "                                      '8 years' : 8,\n",
    "                                      '6 years' : 6,\n",
    "                                      '7 years' : 7,\n",
    "                                      '9 years' : 9})"
   ]
  },
  {
   "cell_type": "code",
   "execution_count": 106,
   "id": "5b0c29ba-0dc5-427e-ac2c-6d398d0c1852",
   "metadata": {},
   "outputs": [
    {
     "data": {
      "text/plain": [
       "10.0    15396\n",
       "2.0      4906\n",
       "5.0      4543\n",
       "1.0      4140\n",
       "4.0      3962\n",
       "3.0      3872\n",
       "6.0      3743\n",
       "7.0      3037\n",
       "8.0      2285\n",
       "9.0      1907\n",
       "Name: 근무연차 , dtype: int64"
      ]
     },
     "execution_count": 106,
     "metadata": {},
     "output_type": "execute_result"
    }
   ],
   "source": [
    "df2['근무연차 '].value_counts()"
   ]
  },
  {
   "cell_type": "code",
   "execution_count": null,
   "id": "f163986d-4846-43d6-88a8-2e8482f3048f",
   "metadata": {},
   "outputs": [],
   "source": []
  },
  {
   "cell_type": "markdown",
   "id": "4cf09143-84fc-43cc-ad39-f26c81cfe47d",
   "metadata": {},
   "source": [
    "##  피처 칼럼 산정 "
   ]
  },
  {
   "cell_type": "code",
   "execution_count": 108,
   "id": "5919e483-a39d-4920-a673-4ccc7d8c4fd7",
   "metadata": {},
   "outputs": [],
   "source": [
    "feat_imp = [\"int_rate\",\"dti\",\"annual_inc\",\"mo_sin_old_rev_tl_op\",\n",
    "            \"acc_open_past_24mths\",\"loan_amnt\",\"emp_length\",\n",
    "            \"revol_bal\", \"term\", \"funded_amnt_inv\", \"installment\", \"purpose\",\n",
    "            \"total_rev_hi_lim\",\"fico_range_low\",\"debt_settlement_flag\", \n",
    "            \"mort_acc\",\"total_bc_limit\",\"home_ownership\",\n",
    "            \"avg_cur_bal\",\"all_util\",\"mths_since_recent_bc\",\"total_acc\",\n",
    "            \"open_acc_6m\",\"bc_util\",\"num_actv_rev_tl\",    \n",
    "            \"funded_amnt\",\"hardship_flag\",\"num_rev_tl_bal_gt_0\",\n",
    "            \"mths_since_recent_inq\",\"inq_last_6mths\", \"num_il_tl\",\n",
    "            \"mo_sin_old_il_acct\",\"num_rev_accts\",\"num_tl_120dpd_2m\",\n",
    "            \"total_il_high_credit_limit\",\"application_type\",\n",
    "            \"revol_util\",\"tot_hi_cred_lim\",\"delinq_2yrs\",\n",
    "            \"mo_sin_rcnt_tl\",\"num_actv_bc_tl\",\"mths_since_last_record\",\n",
    "            \"percent_bc_gt_75\", \"bc_open_to_buy\",\"max_bal_bc\",\n",
    "            \"grade\",\"open_rv_24m\",\"mo_sin_rcnt_rev_tl_op\",\n",
    "            \"pct_tl_nvr_dlq\",\"verification_status\",\"tot_cur_bal\",\"total_bal_ex_mort\",\n",
    "            \"mths_since_last_major_derog\",\"inq_fi\",\"mths_since_rcnt_il\",\n",
    "            \"inq_last_12m\",\"mths_since_last_delinq\",\"num_bc_tl\", 'loan_status']"
   ]
  },
  {
   "cell_type": "code",
   "execution_count": 109,
   "id": "4195f706-7382-4684-8016-83dcaf8ddd25",
   "metadata": {},
   "outputs": [],
   "source": [
    "ll = [] \n",
    "\n",
    "for i in feat_imp :\n",
    "    ll.append(df_cols.searchEnMeta(i))"
   ]
  },
  {
   "cell_type": "code",
   "execution_count": 110,
   "id": "edad78c9-eab2-4275-9932-44e11862e556",
   "metadata": {},
   "outputs": [
    {
     "data": {
      "text/plain": [
       "['대출이자율',\n",
       " '부채대비소득비율',\n",
       " '연소득금액',\n",
       " '과거리볼빙발생개월수',\n",
       " '최근거래횟수',\n",
       " '대출금액',\n",
       " '근무연차 ',\n",
       " '리볼링잔액',\n",
       " '대출상환기간',\n",
       " '투자자대출약정금액',\n",
       " '매월상환금액',\n",
       " '대출용도',\n",
       " '리볼빙신용최대한도',\n",
       " 'FICO상한범위',\n",
       " '대출협력여부',\n",
       " '주택담도대출계좌수',\n",
       " '은행카드신요한도',\n",
       " '주택소유',\n",
       " '계좌평금금액',\n",
       " '신용한도잔액',\n",
       " '최근은행카드개월수',\n",
       " '신용한도',\n",
       " '최근은행거래횟수',\n",
       " '신용한도대금비율',\n",
       " '현재리볼빙진행개수',\n",
       " '대출약정금액',\n",
       " '상환계획실행여부',\n",
       " '잔고0이상리볼빙거래개수',\n",
       " '최근상담이후개월수',\n",
       " '6개월간상담횟수',\n",
       " '할부총계좌수',\n",
       " '가장오리댄할부발생개월수',\n",
       " '리볼빙총계좌수',\n",
       " '중기연체계좌개수',\n",
       " '할부신용한도',\n",
       " '공동대출여부',\n",
       " '리볼링사용비율',\n",
       " '총신용한도금액',\n",
       " '연체발생회수 ',\n",
       " '최근계죄개설개월수',\n",
       " '은행카드활동계좌개수',\n",
       " '마지막거래이후개월수',\n",
       " '특정한도이상소진계좌비율',\n",
       " '리볼빙구매총금액',\n",
       " '청구최대금액',\n",
       " '신용평가등급',\n",
       " '이년간리볼빙거래횟수',\n",
       " '최근리볼빙발생개월수',\n",
       " '미연체거래비율',\n",
       " '소득인증상태',\n",
       " '총계좌잔액',\n",
       " '신용한도금액',\n",
       " '신용평가불랭이후개월수',\n",
       " '상담횟수',\n",
       " '최근할부발생개월수',\n",
       " '12개월간상담횟수',\n",
       " '최종연체개월수',\n",
       " '은행카드개수',\n",
       " '대출현재상태']"
      ]
     },
     "execution_count": 110,
     "metadata": {},
     "output_type": "execute_result"
    }
   ],
   "source": [
    "ll"
   ]
  },
  {
   "cell_type": "code",
   "execution_count": 111,
   "id": "d061227d-7c4c-4ed2-bffb-3efc836b6c1c",
   "metadata": {},
   "outputs": [],
   "source": [
    "df_analysis = df2[ll]"
   ]
  },
  {
   "cell_type": "code",
   "execution_count": 112,
   "id": "20be5c56-18ba-4cf4-ab7a-2c6b370713bf",
   "metadata": {},
   "outputs": [
    {
     "data": {
      "text/plain": [
       "(53367, 59)"
      ]
     },
     "execution_count": 112,
     "metadata": {},
     "output_type": "execute_result"
    }
   ],
   "source": [
    "df_analysis.shape"
   ]
  },
  {
   "cell_type": "code",
   "execution_count": null,
   "id": "f7352615-808c-412f-bae4-2cbc2ecf6bfc",
   "metadata": {},
   "outputs": [],
   "source": []
  },
  {
   "cell_type": "code",
   "execution_count": 113,
   "id": "56aeb48a-b235-44ef-b83d-3930d08a5ba0",
   "metadata": {},
   "outputs": [],
   "source": [
    "from sklearn.model_selection import train_test_split\n",
    "from sklearn.metrics import roc_auc_score "
   ]
  },
  {
   "cell_type": "code",
   "execution_count": null,
   "id": "36226804-a79d-4964-a032-36b21c92dc8b",
   "metadata": {},
   "outputs": [],
   "source": []
  },
  {
   "cell_type": "code",
   "execution_count": 114,
   "id": "60fe311f-9641-45e4-ae6a-a15042634f8a",
   "metadata": {},
   "outputs": [],
   "source": [
    "SEED = 2021\n",
    "TARGET = '대출현재상태'"
   ]
  },
  {
   "cell_type": "code",
   "execution_count": 116,
   "id": "e42ffd9b-141f-46fc-8d4a-ea06c46843c6",
   "metadata": {},
   "outputs": [],
   "source": [
    "X = df_analysis\n",
    "Y = df_analysis[TARGET]"
   ]
  },
  {
   "cell_type": "code",
   "execution_count": 121,
   "id": "ba2a4ad3-89d3-4009-866a-19f90ac1f2b2",
   "metadata": {},
   "outputs": [],
   "source": [
    "X_train, X_test = train_test_split(X, test_size = 0.95, stratify=Y,random_state = SEED)"
   ]
  },
  {
   "cell_type": "code",
   "execution_count": 122,
   "id": "86ac4919-6417-415d-8460-a6c789f3d03f",
   "metadata": {},
   "outputs": [
    {
     "data": {
      "text/plain": [
       "(2668, 59)"
      ]
     },
     "execution_count": 122,
     "metadata": {},
     "output_type": "execute_result"
    }
   ],
   "source": [
    "X_train.shape"
   ]
  },
  {
   "cell_type": "code",
   "execution_count": 123,
   "id": "ffc0d2f4-2954-430b-b86b-4cb957164785",
   "metadata": {},
   "outputs": [
    {
     "data": {
      "text/plain": [
       "0    2236\n",
       "1     432\n",
       "Name: 대출현재상태, dtype: int64"
      ]
     },
     "execution_count": 123,
     "metadata": {},
     "output_type": "execute_result"
    }
   ],
   "source": [
    "X_train[TARGET].value_counts()"
   ]
  },
  {
   "cell_type": "code",
   "execution_count": 124,
   "id": "88fe675b-3b25-496e-9a4d-d5af46ce5c27",
   "metadata": {},
   "outputs": [
    {
     "data": {
      "text/plain": [
       "10.0    753\n",
       "2.0     269\n",
       "5.0     222\n",
       "1.0     218\n",
       "4.0     215\n",
       "6.0     176\n",
       "3.0     173\n",
       "7.0     157\n",
       "8.0     135\n",
       "9.0      91\n",
       "Name: 근무연차 , dtype: int64"
      ]
     },
     "execution_count": 124,
     "metadata": {},
     "output_type": "execute_result"
    }
   ],
   "source": [
    "X_train['근무연차 '].value_counts()"
   ]
  },
  {
   "cell_type": "code",
   "execution_count": 125,
   "id": "94cb6802-240c-436f-9d7d-ded83a6a2ccb",
   "metadata": {},
   "outputs": [
    {
     "data": {
      "text/html": [
       "<div>\n",
       "<style scoped>\n",
       "    .dataframe tbody tr th:only-of-type {\n",
       "        vertical-align: middle;\n",
       "    }\n",
       "\n",
       "    .dataframe tbody tr th {\n",
       "        vertical-align: top;\n",
       "    }\n",
       "\n",
       "    .dataframe thead th {\n",
       "        text-align: right;\n",
       "    }\n",
       "</style>\n",
       "<table border=\"1\" class=\"dataframe\">\n",
       "  <thead>\n",
       "    <tr style=\"text-align: right;\">\n",
       "      <th></th>\n",
       "      <th>대출이자율</th>\n",
       "      <th>부채대비소득비율</th>\n",
       "      <th>연소득금액</th>\n",
       "      <th>과거리볼빙발생개월수</th>\n",
       "      <th>최근거래횟수</th>\n",
       "      <th>대출금액</th>\n",
       "      <th>근무연차</th>\n",
       "      <th>리볼링잔액</th>\n",
       "      <th>대출상환기간</th>\n",
       "      <th>투자자대출약정금액</th>\n",
       "      <th>...</th>\n",
       "      <th>소득인증상태</th>\n",
       "      <th>총계좌잔액</th>\n",
       "      <th>신용한도금액</th>\n",
       "      <th>신용평가불랭이후개월수</th>\n",
       "      <th>상담횟수</th>\n",
       "      <th>최근할부발생개월수</th>\n",
       "      <th>12개월간상담횟수</th>\n",
       "      <th>최종연체개월수</th>\n",
       "      <th>은행카드개수</th>\n",
       "      <th>대출현재상태</th>\n",
       "    </tr>\n",
       "  </thead>\n",
       "  <tbody>\n",
       "    <tr>\n",
       "      <th>17890</th>\n",
       "      <td>13.11</td>\n",
       "      <td>28.99</td>\n",
       "      <td>97000.0</td>\n",
       "      <td>NaN</td>\n",
       "      <td>4.0</td>\n",
       "      <td>21000.0</td>\n",
       "      <td>5.0</td>\n",
       "      <td>17047.0</td>\n",
       "      <td>36 months</td>\n",
       "      <td>20975.0</td>\n",
       "      <td>...</td>\n",
       "      <td>Verified</td>\n",
       "      <td>NaN</td>\n",
       "      <td>145911.0</td>\n",
       "      <td>NaN</td>\n",
       "      <td>NaN</td>\n",
       "      <td>NaN</td>\n",
       "      <td>NaN</td>\n",
       "      <td>NaN</td>\n",
       "      <td>NaN</td>\n",
       "      <td>0</td>\n",
       "    </tr>\n",
       "    <tr>\n",
       "      <th>16036</th>\n",
       "      <td>7.90</td>\n",
       "      <td>9.04</td>\n",
       "      <td>113786.0</td>\n",
       "      <td>NaN</td>\n",
       "      <td>1.0</td>\n",
       "      <td>18575.0</td>\n",
       "      <td>NaN</td>\n",
       "      <td>23946.0</td>\n",
       "      <td>36 months</td>\n",
       "      <td>18575.0</td>\n",
       "      <td>...</td>\n",
       "      <td>Not Verified</td>\n",
       "      <td>NaN</td>\n",
       "      <td>44537.0</td>\n",
       "      <td>NaN</td>\n",
       "      <td>NaN</td>\n",
       "      <td>NaN</td>\n",
       "      <td>NaN</td>\n",
       "      <td>NaN</td>\n",
       "      <td>NaN</td>\n",
       "      <td>0</td>\n",
       "    </tr>\n",
       "    <tr>\n",
       "      <th>10896</th>\n",
       "      <td>9.76</td>\n",
       "      <td>2.19</td>\n",
       "      <td>130000.0</td>\n",
       "      <td>NaN</td>\n",
       "      <td>5.0</td>\n",
       "      <td>35000.0</td>\n",
       "      <td>10.0</td>\n",
       "      <td>7014.0</td>\n",
       "      <td>36 months</td>\n",
       "      <td>35000.0</td>\n",
       "      <td>...</td>\n",
       "      <td>Verified</td>\n",
       "      <td>NaN</td>\n",
       "      <td>819312.0</td>\n",
       "      <td>NaN</td>\n",
       "      <td>NaN</td>\n",
       "      <td>NaN</td>\n",
       "      <td>NaN</td>\n",
       "      <td>NaN</td>\n",
       "      <td>NaN</td>\n",
       "      <td>1</td>\n",
       "    </tr>\n",
       "    <tr>\n",
       "      <th>19316</th>\n",
       "      <td>21.49</td>\n",
       "      <td>32.72</td>\n",
       "      <td>45000.0</td>\n",
       "      <td>248.0</td>\n",
       "      <td>4.0</td>\n",
       "      <td>18000.0</td>\n",
       "      <td>10.0</td>\n",
       "      <td>23831.0</td>\n",
       "      <td>60 months</td>\n",
       "      <td>18000.0</td>\n",
       "      <td>...</td>\n",
       "      <td>Verified</td>\n",
       "      <td>47941.0</td>\n",
       "      <td>47941.0</td>\n",
       "      <td>79.0</td>\n",
       "      <td>NaN</td>\n",
       "      <td>NaN</td>\n",
       "      <td>NaN</td>\n",
       "      <td>79.0</td>\n",
       "      <td>6.0</td>\n",
       "      <td>0</td>\n",
       "    </tr>\n",
       "    <tr>\n",
       "      <th>17473</th>\n",
       "      <td>19.72</td>\n",
       "      <td>20.77</td>\n",
       "      <td>36400.0</td>\n",
       "      <td>140.0</td>\n",
       "      <td>2.0</td>\n",
       "      <td>14300.0</td>\n",
       "      <td>NaN</td>\n",
       "      <td>17796.0</td>\n",
       "      <td>36 months</td>\n",
       "      <td>14300.0</td>\n",
       "      <td>...</td>\n",
       "      <td>Not Verified</td>\n",
       "      <td>17796.0</td>\n",
       "      <td>17796.0</td>\n",
       "      <td>NaN</td>\n",
       "      <td>NaN</td>\n",
       "      <td>NaN</td>\n",
       "      <td>NaN</td>\n",
       "      <td>NaN</td>\n",
       "      <td>7.0</td>\n",
       "      <td>0</td>\n",
       "    </tr>\n",
       "  </tbody>\n",
       "</table>\n",
       "<p>5 rows × 59 columns</p>\n",
       "</div>"
      ],
      "text/plain": [
       "       대출이자율  부채대비소득비율     연소득금액  과거리볼빙발생개월수  최근거래횟수     대출금액  근무연차     리볼링잔액  \\\n",
       "17890  13.11     28.99   97000.0         NaN     4.0  21000.0    5.0  17047.0   \n",
       "16036   7.90      9.04  113786.0         NaN     1.0  18575.0    NaN  23946.0   \n",
       "10896   9.76      2.19  130000.0         NaN     5.0  35000.0   10.0   7014.0   \n",
       "19316  21.49     32.72   45000.0       248.0     4.0  18000.0   10.0  23831.0   \n",
       "17473  19.72     20.77   36400.0       140.0     2.0  14300.0    NaN  17796.0   \n",
       "\n",
       "           대출상환기간  투자자대출약정금액  ...        소득인증상태    총계좌잔액    신용한도금액  \\\n",
       "17890   36 months    20975.0  ...      Verified      NaN  145911.0   \n",
       "16036   36 months    18575.0  ...  Not Verified      NaN   44537.0   \n",
       "10896   36 months    35000.0  ...      Verified      NaN  819312.0   \n",
       "19316   60 months    18000.0  ...      Verified  47941.0   47941.0   \n",
       "17473   36 months    14300.0  ...  Not Verified  17796.0   17796.0   \n",
       "\n",
       "       신용평가불랭이후개월수 상담횟수  최근할부발생개월수  12개월간상담횟수 최종연체개월수  은행카드개수  대출현재상태  \n",
       "17890          NaN  NaN        NaN        NaN     NaN     NaN       0  \n",
       "16036          NaN  NaN        NaN        NaN     NaN     NaN       0  \n",
       "10896          NaN  NaN        NaN        NaN     NaN     NaN       1  \n",
       "19316         79.0  NaN        NaN        NaN    79.0     6.0       0  \n",
       "17473          NaN  NaN        NaN        NaN     NaN     7.0       0  \n",
       "\n",
       "[5 rows x 59 columns]"
      ]
     },
     "execution_count": 125,
     "metadata": {},
     "output_type": "execute_result"
    }
   ],
   "source": [
    "X_train.head()"
   ]
  },
  {
   "cell_type": "code",
   "execution_count": null,
   "id": "9f977056-af7b-439d-b7c8-9e3cbcf206d6",
   "metadata": {},
   "outputs": [],
   "source": []
  },
  {
   "cell_type": "code",
   "execution_count": 153,
   "id": "a6c8b1c9-a3d3-4163-84c4-0a2c424cddb1",
   "metadata": {},
   "outputs": [
    {
     "name": "stdout",
     "output_type": "stream",
     "text": [
      "Collecting scipy==1.13.1\n",
      "  Using cached scipy-1.13.1-cp39-cp39-macosx_12_0_arm64.whl.metadata (60 kB)\n",
      "Using cached scipy-1.13.1-cp39-cp39-macosx_12_0_arm64.whl (30.3 MB)\n",
      "Installing collected packages: scipy\n",
      "  Attempting uninstall: scipy\n",
      "\u001b[33m    WARNING: No metadata found in /Users/a06411/opt/anaconda3/envs/pycaret/lib/python3.9/site-packages\u001b[0m\u001b[33m\n",
      "\u001b[0m    Found existing installation: scipy 1.13.1\n",
      "\u001b[31mERROR: Cannot uninstall scipy 1.13.1, RECORD file not found. You might be able to recover from this via: 'pip install --force-reinstall --no-deps scipy==1.13.1'.\u001b[0m\u001b[31m\n",
      "\u001b[0mNote: you may need to restart the kernel to use updated packages.\n"
     ]
    }
   ],
   "source": [
    "pip install --force-reinstall --no-deps scipy==1.13.1"
   ]
  },
  {
   "cell_type": "markdown",
   "id": "8ea4d366-2235-4228-b3cf-9747c9ae51f2",
   "metadata": {},
   "source": [
    "###### 업데이트 할 것 \n",
    "\n",
    "- pip install --upgrade scikit-learn==1.4.0\n",
    "- pip install --upgrade pycaret==3.3.2\n",
    "- pip install --upgrade  scipy==1.8.0"
   ]
  },
  {
   "cell_type": "code",
   "execution_count": 152,
   "id": "e48989ad-a978-4ab4-ab28-175b5945a976",
   "metadata": {},
   "outputs": [
    {
     "ename": "ImportError",
     "evalue": "cannot import name 'interp' from 'scipy' (/Users/a06411/opt/anaconda3/envs/pycaret/lib/python3.9/site-packages/scipy/__init__.py)",
     "output_type": "error",
     "traceback": [
      "\u001b[0;31m---------------------------------------------------------------------------\u001b[0m",
      "\u001b[0;31mImportError\u001b[0m                               Traceback (most recent call last)",
      "Cell \u001b[0;32mIn[152], line 1\u001b[0m\n\u001b[0;32m----> 1\u001b[0m \u001b[38;5;28;01mfrom\u001b[39;00m \u001b[38;5;21;01mpycaret\u001b[39;00m\u001b[38;5;21;01m.\u001b[39;00m\u001b[38;5;21;01mclassification\u001b[39;00m \u001b[38;5;28;01mimport\u001b[39;00m \u001b[38;5;241m*\u001b[39m\n",
      "File \u001b[0;32m~/opt/anaconda3/envs/pycaret/lib/python3.9/site-packages/pycaret/classification/__init__.py:1\u001b[0m\n\u001b[0;32m----> 1\u001b[0m \u001b[38;5;28;01mfrom\u001b[39;00m \u001b[38;5;21;01mpycaret\u001b[39;00m\u001b[38;5;21;01m.\u001b[39;00m\u001b[38;5;21;01mclassification\u001b[39;00m\u001b[38;5;21;01m.\u001b[39;00m\u001b[38;5;21;01mfunctional\u001b[39;00m \u001b[38;5;28;01mimport\u001b[39;00m (\n\u001b[1;32m      2\u001b[0m     add_metric,\n\u001b[1;32m      3\u001b[0m     automl,\n\u001b[1;32m      4\u001b[0m     blend_models,\n\u001b[1;32m      5\u001b[0m     calibrate_model,\n\u001b[1;32m      6\u001b[0m     check_drift,\n\u001b[1;32m      7\u001b[0m     check_fairness,\n\u001b[1;32m      8\u001b[0m     compare_models,\n\u001b[1;32m      9\u001b[0m     convert_model,\n\u001b[1;32m     10\u001b[0m     create_api,\n\u001b[1;32m     11\u001b[0m     create_app,\n\u001b[1;32m     12\u001b[0m     create_docker,\n\u001b[1;32m     13\u001b[0m     create_model,\n\u001b[1;32m     14\u001b[0m     dashboard,\n\u001b[1;32m     15\u001b[0m     deploy_model,\n\u001b[1;32m     16\u001b[0m     ensemble_model,\n\u001b[1;32m     17\u001b[0m     evaluate_model,\n\u001b[1;32m     18\u001b[0m     finalize_model,\n\u001b[1;32m     19\u001b[0m     get_allowed_engines,\n\u001b[1;32m     20\u001b[0m     get_config,\n\u001b[1;32m     21\u001b[0m     get_current_experiment,\n\u001b[1;32m     22\u001b[0m     get_engine,\n\u001b[1;32m     23\u001b[0m     get_leaderboard,\n\u001b[1;32m     24\u001b[0m     get_logs,\n\u001b[1;32m     25\u001b[0m     get_metrics,\n\u001b[1;32m     26\u001b[0m     interpret_model,\n\u001b[1;32m     27\u001b[0m     load_experiment,\n\u001b[1;32m     28\u001b[0m     load_model,\n\u001b[1;32m     29\u001b[0m     models,\n\u001b[1;32m     30\u001b[0m     optimize_threshold,\n\u001b[1;32m     31\u001b[0m     plot_model,\n\u001b[1;32m     32\u001b[0m     predict_model,\n\u001b[1;32m     33\u001b[0m     pull,\n\u001b[1;32m     34\u001b[0m     remove_metric,\n\u001b[1;32m     35\u001b[0m     save_experiment,\n\u001b[1;32m     36\u001b[0m     save_model,\n\u001b[1;32m     37\u001b[0m     set_config,\n\u001b[1;32m     38\u001b[0m     set_current_experiment,\n\u001b[1;32m     39\u001b[0m     setup,\n\u001b[1;32m     40\u001b[0m     stack_models,\n\u001b[1;32m     41\u001b[0m     tune_model,\n\u001b[1;32m     42\u001b[0m )\n\u001b[1;32m     43\u001b[0m \u001b[38;5;28;01mfrom\u001b[39;00m \u001b[38;5;21;01mpycaret\u001b[39;00m\u001b[38;5;21;01m.\u001b[39;00m\u001b[38;5;21;01mclassification\u001b[39;00m\u001b[38;5;21;01m.\u001b[39;00m\u001b[38;5;21;01moop\u001b[39;00m \u001b[38;5;28;01mimport\u001b[39;00m ClassificationExperiment\n\u001b[1;32m     45\u001b[0m __all__ \u001b[38;5;241m=\u001b[39m [\n\u001b[1;32m     46\u001b[0m     \u001b[38;5;124m\"\u001b[39m\u001b[38;5;124mClassificationExperiment\u001b[39m\u001b[38;5;124m\"\u001b[39m,\n\u001b[1;32m     47\u001b[0m     \u001b[38;5;124m\"\u001b[39m\u001b[38;5;124msetup\u001b[39m\u001b[38;5;124m\"\u001b[39m,\n\u001b[0;32m   (...)\u001b[0m\n\u001b[1;32m     86\u001b[0m     \u001b[38;5;124m\"\u001b[39m\u001b[38;5;124mcheck_drift\u001b[39m\u001b[38;5;124m\"\u001b[39m,\n\u001b[1;32m     87\u001b[0m ]\n",
      "File \u001b[0;32m~/opt/anaconda3/envs/pycaret/lib/python3.9/site-packages/pycaret/classification/functional.py:8\u001b[0m\n\u001b[1;32m      5\u001b[0m \u001b[38;5;28;01mimport\u001b[39;00m \u001b[38;5;21;01mpandas\u001b[39;00m \u001b[38;5;28;01mas\u001b[39;00m \u001b[38;5;21;01mpd\u001b[39;00m\n\u001b[1;32m      6\u001b[0m \u001b[38;5;28;01mfrom\u001b[39;00m \u001b[38;5;21;01mjoblib\u001b[39;00m\u001b[38;5;21;01m.\u001b[39;00m\u001b[38;5;21;01mmemory\u001b[39;00m \u001b[38;5;28;01mimport\u001b[39;00m Memory\n\u001b[0;32m----> 8\u001b[0m \u001b[38;5;28;01mfrom\u001b[39;00m \u001b[38;5;21;01mpycaret\u001b[39;00m\u001b[38;5;21;01m.\u001b[39;00m\u001b[38;5;21;01mclassification\u001b[39;00m\u001b[38;5;21;01m.\u001b[39;00m\u001b[38;5;21;01moop\u001b[39;00m \u001b[38;5;28;01mimport\u001b[39;00m ClassificationExperiment\n\u001b[1;32m      9\u001b[0m \u001b[38;5;28;01mfrom\u001b[39;00m \u001b[38;5;21;01mpycaret\u001b[39;00m\u001b[38;5;21;01m.\u001b[39;00m\u001b[38;5;21;01minternal\u001b[39;00m\u001b[38;5;21;01m.\u001b[39;00m\u001b[38;5;21;01mparallel\u001b[39;00m\u001b[38;5;21;01m.\u001b[39;00m\u001b[38;5;21;01mparallel_backend\u001b[39;00m \u001b[38;5;28;01mimport\u001b[39;00m ParallelBackend\n\u001b[1;32m     10\u001b[0m \u001b[38;5;28;01mfrom\u001b[39;00m \u001b[38;5;21;01mpycaret\u001b[39;00m\u001b[38;5;21;01m.\u001b[39;00m\u001b[38;5;21;01mloggers\u001b[39;00m\u001b[38;5;21;01m.\u001b[39;00m\u001b[38;5;21;01mbase_logger\u001b[39;00m \u001b[38;5;28;01mimport\u001b[39;00m BaseLogger\n",
      "File \u001b[0;32m~/opt/anaconda3/envs/pycaret/lib/python3.9/site-packages/pycaret/classification/oop.py:31\u001b[0m\n\u001b[1;32m     29\u001b[0m \u001b[38;5;28;01mfrom\u001b[39;00m \u001b[38;5;21;01mpycaret\u001b[39;00m\u001b[38;5;21;01m.\u001b[39;00m\u001b[38;5;21;01minternal\u001b[39;00m\u001b[38;5;21;01m.\u001b[39;00m\u001b[38;5;21;01mpipeline\u001b[39;00m \u001b[38;5;28;01mimport\u001b[39;00m Pipeline \u001b[38;5;28;01mas\u001b[39;00m InternalPipeline\n\u001b[1;32m     30\u001b[0m \u001b[38;5;28;01mfrom\u001b[39;00m \u001b[38;5;21;01mpycaret\u001b[39;00m\u001b[38;5;21;01m.\u001b[39;00m\u001b[38;5;21;01minternal\u001b[39;00m\u001b[38;5;21;01m.\u001b[39;00m\u001b[38;5;21;01mpreprocess\u001b[39;00m\u001b[38;5;21;01m.\u001b[39;00m\u001b[38;5;21;01mpreprocessor\u001b[39;00m \u001b[38;5;28;01mimport\u001b[39;00m Preprocessor\n\u001b[0;32m---> 31\u001b[0m \u001b[38;5;28;01mfrom\u001b[39;00m \u001b[38;5;21;01mpycaret\u001b[39;00m\u001b[38;5;21;01m.\u001b[39;00m\u001b[38;5;21;01minternal\u001b[39;00m\u001b[38;5;21;01m.\u001b[39;00m\u001b[38;5;21;01mpycaret_experiment\u001b[39;00m\u001b[38;5;21;01m.\u001b[39;00m\u001b[38;5;21;01mnon_ts_supervised_experiment\u001b[39;00m \u001b[38;5;28;01mimport\u001b[39;00m (\n\u001b[1;32m     32\u001b[0m     _NonTSSupervisedExperiment,\n\u001b[1;32m     33\u001b[0m )\n\u001b[1;32m     34\u001b[0m \u001b[38;5;28;01mfrom\u001b[39;00m \u001b[38;5;21;01mpycaret\u001b[39;00m\u001b[38;5;21;01m.\u001b[39;00m\u001b[38;5;21;01minternal\u001b[39;00m\u001b[38;5;21;01m.\u001b[39;00m\u001b[38;5;21;01mvalidation\u001b[39;00m \u001b[38;5;28;01mimport\u001b[39;00m is_sklearn_cv_generator\n\u001b[1;32m     35\u001b[0m \u001b[38;5;28;01mfrom\u001b[39;00m \u001b[38;5;21;01mpycaret\u001b[39;00m\u001b[38;5;21;01m.\u001b[39;00m\u001b[38;5;21;01mloggers\u001b[39;00m\u001b[38;5;21;01m.\u001b[39;00m\u001b[38;5;21;01mbase_logger\u001b[39;00m \u001b[38;5;28;01mimport\u001b[39;00m BaseLogger\n",
      "File \u001b[0;32m~/opt/anaconda3/envs/pycaret/lib/python3.9/site-packages/pycaret/internal/pycaret_experiment/non_ts_supervised_experiment.py:3\u001b[0m\n\u001b[1;32m      1\u001b[0m \u001b[38;5;28;01mimport\u001b[39;00m \u001b[38;5;21;01mpandas\u001b[39;00m \u001b[38;5;28;01mas\u001b[39;00m \u001b[38;5;21;01mpd\u001b[39;00m\n\u001b[0;32m----> 3\u001b[0m \u001b[38;5;28;01mfrom\u001b[39;00m \u001b[38;5;21;01mpycaret\u001b[39;00m\u001b[38;5;21;01m.\u001b[39;00m\u001b[38;5;21;01minternal\u001b[39;00m\u001b[38;5;21;01m.\u001b[39;00m\u001b[38;5;21;01mpycaret_experiment\u001b[39;00m\u001b[38;5;21;01m.\u001b[39;00m\u001b[38;5;21;01msupervised_experiment\u001b[39;00m \u001b[38;5;28;01mimport\u001b[39;00m (\n\u001b[1;32m      4\u001b[0m     _SupervisedExperiment,\n\u001b[1;32m      5\u001b[0m )\n\u001b[1;32m      8\u001b[0m \u001b[38;5;28;01mclass\u001b[39;00m \u001b[38;5;21;01m_NonTSSupervisedExperiment\u001b[39;00m(_SupervisedExperiment):\n\u001b[1;32m      9\u001b[0m     \u001b[38;5;28;01mdef\u001b[39;00m \u001b[38;5;21m__init__\u001b[39m(\u001b[38;5;28mself\u001b[39m) \u001b[38;5;241m-\u001b[39m\u001b[38;5;241m>\u001b[39m \u001b[38;5;28;01mNone\u001b[39;00m:\n",
      "File \u001b[0;32m~/opt/anaconda3/envs/pycaret/lib/python3.9/site-packages/pycaret/internal/pycaret_experiment/supervised_experiment.py:57\u001b[0m\n\u001b[1;32m     50\u001b[0m \u001b[38;5;28;01mfrom\u001b[39;00m \u001b[38;5;21;01mpycaret\u001b[39;00m\u001b[38;5;21;01m.\u001b[39;00m\u001b[38;5;21;01minternal\u001b[39;00m\u001b[38;5;21;01m.\u001b[39;00m\u001b[38;5;21;01mpatches\u001b[39;00m\u001b[38;5;21;01m.\u001b[39;00m\u001b[38;5;21;01msklearn\u001b[39;00m \u001b[38;5;28;01mimport\u001b[39;00m fit_and_score \u001b[38;5;28;01mas\u001b[39;00m fs\n\u001b[1;32m     51\u001b[0m \u001b[38;5;28;01mfrom\u001b[39;00m \u001b[38;5;21;01mpycaret\u001b[39;00m\u001b[38;5;21;01m.\u001b[39;00m\u001b[38;5;21;01minternal\u001b[39;00m\u001b[38;5;21;01m.\u001b[39;00m\u001b[38;5;21;01mpipeline\u001b[39;00m \u001b[38;5;28;01mimport\u001b[39;00m (\n\u001b[1;32m     52\u001b[0m     Pipeline,\n\u001b[1;32m     53\u001b[0m     estimator_pipeline,\n\u001b[1;32m     54\u001b[0m     get_pipeline_estimator_label,\n\u001b[1;32m     55\u001b[0m     get_pipeline_fit_kwargs,\n\u001b[1;32m     56\u001b[0m )\n\u001b[0;32m---> 57\u001b[0m \u001b[38;5;28;01mfrom\u001b[39;00m \u001b[38;5;21;01mpycaret\u001b[39;00m\u001b[38;5;21;01m.\u001b[39;00m\u001b[38;5;21;01minternal\u001b[39;00m\u001b[38;5;21;01m.\u001b[39;00m\u001b[38;5;21;01mpycaret_experiment\u001b[39;00m\u001b[38;5;21;01m.\u001b[39;00m\u001b[38;5;21;01mtabular_experiment\u001b[39;00m \u001b[38;5;28;01mimport\u001b[39;00m _TabularExperiment\n\u001b[1;32m     58\u001b[0m \u001b[38;5;28;01mfrom\u001b[39;00m \u001b[38;5;21;01mpycaret\u001b[39;00m\u001b[38;5;21;01m.\u001b[39;00m\u001b[38;5;21;01minternal\u001b[39;00m\u001b[38;5;21;01m.\u001b[39;00m\u001b[38;5;21;01mtunable\u001b[39;00m \u001b[38;5;28;01mimport\u001b[39;00m TunableMixin\n\u001b[1;32m     59\u001b[0m \u001b[38;5;28;01mfrom\u001b[39;00m \u001b[38;5;21;01mpycaret\u001b[39;00m\u001b[38;5;21;01m.\u001b[39;00m\u001b[38;5;21;01minternal\u001b[39;00m\u001b[38;5;21;01m.\u001b[39;00m\u001b[38;5;21;01mvalidation\u001b[39;00m \u001b[38;5;28;01mimport\u001b[39;00m is_fitted, is_sklearn_cv_generator\n",
      "File \u001b[0;32m~/opt/anaconda3/envs/pycaret/lib/python3.9/site-packages/pycaret/internal/pycaret_experiment/tabular_experiment.py:14\u001b[0m\n\u001b[1;32m     12\u001b[0m \u001b[38;5;28;01mimport\u001b[39;00m \u001b[38;5;21;01mpandas\u001b[39;00m \u001b[38;5;28;01mas\u001b[39;00m \u001b[38;5;21;01mpd\u001b[39;00m\n\u001b[1;32m     13\u001b[0m \u001b[38;5;28;01mimport\u001b[39;00m \u001b[38;5;21;01mplotly\u001b[39;00m\u001b[38;5;21;01m.\u001b[39;00m\u001b[38;5;21;01mexpress\u001b[39;00m \u001b[38;5;28;01mas\u001b[39;00m \u001b[38;5;21;01mpx\u001b[39;00m  \u001b[38;5;66;03m# type: ignore\u001b[39;00m\n\u001b[0;32m---> 14\u001b[0m \u001b[38;5;28;01mimport\u001b[39;00m \u001b[38;5;21;01mscikitplot\u001b[39;00m \u001b[38;5;28;01mas\u001b[39;00m \u001b[38;5;21;01mskplt\u001b[39;00m  \u001b[38;5;66;03m# type: ignore\u001b[39;00m\n\u001b[1;32m     15\u001b[0m \u001b[38;5;28;01mfrom\u001b[39;00m \u001b[38;5;21;01mIPython\u001b[39;00m\u001b[38;5;21;01m.\u001b[39;00m\u001b[38;5;21;01mdisplay\u001b[39;00m \u001b[38;5;28;01mimport\u001b[39;00m display \u001b[38;5;28;01mas\u001b[39;00m ipython_display\n\u001b[1;32m     16\u001b[0m \u001b[38;5;28;01mfrom\u001b[39;00m \u001b[38;5;21;01mjoblib\u001b[39;00m\u001b[38;5;21;01m.\u001b[39;00m\u001b[38;5;21;01mmemory\u001b[39;00m \u001b[38;5;28;01mimport\u001b[39;00m Memory\n",
      "File \u001b[0;32m~/opt/anaconda3/envs/pycaret/lib/python3.9/site-packages/scikitplot/__init__.py:2\u001b[0m\n\u001b[1;32m      1\u001b[0m \u001b[38;5;28;01mfrom\u001b[39;00m \u001b[38;5;21;01m__future__\u001b[39;00m \u001b[38;5;28;01mimport\u001b[39;00m absolute_import, division, print_function, unicode_literals\n\u001b[0;32m----> 2\u001b[0m \u001b[38;5;28;01mfrom\u001b[39;00m \u001b[38;5;21;01m.\u001b[39;00m \u001b[38;5;28;01mimport\u001b[39;00m metrics, cluster, decomposition, estimators\n\u001b[1;32m      3\u001b[0m __version__ \u001b[38;5;241m=\u001b[39m \u001b[38;5;124m'\u001b[39m\u001b[38;5;124m0.3.7\u001b[39m\u001b[38;5;124m'\u001b[39m\n\u001b[1;32m      6\u001b[0m \u001b[38;5;28;01mfrom\u001b[39;00m \u001b[38;5;21;01mscikitplot\u001b[39;00m\u001b[38;5;21;01m.\u001b[39;00m\u001b[38;5;21;01mclassifiers\u001b[39;00m \u001b[38;5;28;01mimport\u001b[39;00m classifier_factory\n",
      "File \u001b[0;32m~/opt/anaconda3/envs/pycaret/lib/python3.9/site-packages/scikitplot/metrics.py:27\u001b[0m\n\u001b[1;32m     24\u001b[0m \u001b[38;5;28;01mfrom\u001b[39;00m \u001b[38;5;21;01msklearn\u001b[39;00m\u001b[38;5;21;01m.\u001b[39;00m\u001b[38;5;21;01mcalibration\u001b[39;00m \u001b[38;5;28;01mimport\u001b[39;00m calibration_curve\n\u001b[1;32m     25\u001b[0m \u001b[38;5;28;01mfrom\u001b[39;00m \u001b[38;5;21;01msklearn\u001b[39;00m\u001b[38;5;21;01m.\u001b[39;00m\u001b[38;5;21;01mutils\u001b[39;00m \u001b[38;5;28;01mimport\u001b[39;00m deprecated\n\u001b[0;32m---> 27\u001b[0m \u001b[38;5;28;01mfrom\u001b[39;00m \u001b[38;5;21;01mscipy\u001b[39;00m \u001b[38;5;28;01mimport\u001b[39;00m interp\n\u001b[1;32m     29\u001b[0m \u001b[38;5;28;01mfrom\u001b[39;00m \u001b[38;5;21;01mscikitplot\u001b[39;00m\u001b[38;5;21;01m.\u001b[39;00m\u001b[38;5;21;01mhelpers\u001b[39;00m \u001b[38;5;28;01mimport\u001b[39;00m binary_ks_curve, validate_labels\n\u001b[1;32m     30\u001b[0m \u001b[38;5;28;01mfrom\u001b[39;00m \u001b[38;5;21;01mscikitplot\u001b[39;00m\u001b[38;5;21;01m.\u001b[39;00m\u001b[38;5;21;01mhelpers\u001b[39;00m \u001b[38;5;28;01mimport\u001b[39;00m cumulative_gain_curve\n",
      "\u001b[0;31mImportError\u001b[0m: cannot import name 'interp' from 'scipy' (/Users/a06411/opt/anaconda3/envs/pycaret/lib/python3.9/site-packages/scipy/__init__.py)"
     ]
    }
   ],
   "source": [
    "from pycaret.classification import *"
   ]
  },
  {
   "cell_type": "code",
   "execution_count": null,
   "id": "314c5280-1b74-4243-8ee4-38150325f4ab",
   "metadata": {},
   "outputs": [],
   "source": []
  }
 ],
 "metadata": {
  "kernelspec": {
   "display_name": "Python 3 (ipykernel)",
   "language": "python",
   "name": "python3"
  },
  "language_info": {
   "codemirror_mode": {
    "name": "ipython",
    "version": 3
   },
   "file_extension": ".py",
   "mimetype": "text/x-python",
   "name": "python",
   "nbconvert_exporter": "python",
   "pygments_lexer": "ipython3",
   "version": "3.9.16"
  }
 },
 "nbformat": 4,
 "nbformat_minor": 5
}
