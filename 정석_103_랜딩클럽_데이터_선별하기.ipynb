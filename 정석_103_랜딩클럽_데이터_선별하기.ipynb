{
 "cells": [
  {
   "cell_type": "markdown",
   "id": "059b51b7-0f27-4c9d-b2aa-88437b51ee5e",
   "metadata": {},
   "source": [
    "## 1. 데이터 읽어오기 "
   ]
  },
  {
   "cell_type": "markdown",
   "id": "8e9f4776-f3d0-4c56-aaed-def9785ecec2",
   "metadata": {},
   "source": [
    "### 현재 작업 위치 확인하기 "
   ]
  },
  {
   "cell_type": "code",
   "execution_count": 1,
   "id": "c3655ae1-55ba-401e-a635-9ba9a0c6a212",
   "metadata": {},
   "outputs": [
    {
     "data": {
      "text/plain": [
       "'/Users/a06411/Documents/GitHub/js_automl_pycaret'"
      ]
     },
     "execution_count": 1,
     "metadata": {},
     "output_type": "execute_result"
    }
   ],
   "source": [
    "%pwd"
   ]
  },
  {
   "cell_type": "markdown",
   "id": "ca23ffd3-ee8f-4921-9021-5f7d7fad6854",
   "metadata": {},
   "source": [
    "### 기본 모듈 사용하기 "
   ]
  },
  {
   "cell_type": "code",
   "execution_count": 2,
   "id": "ed6034de-9601-4647-9e67-533e0f3bdb18",
   "metadata": {},
   "outputs": [],
   "source": [
    "import pandas as pd\n",
    "import numpy as np\n",
    "import sqlite3\n",
    "import os"
   ]
  },
  {
   "cell_type": "code",
   "execution_count": 3,
   "id": "f09e9222-3941-4818-9e29-b6a1cc1b90c5",
   "metadata": {},
   "outputs": [
    {
     "data": {
      "text/plain": [
       "'1.5.3'"
      ]
     },
     "execution_count": 3,
     "metadata": {},
     "output_type": "execute_result"
    }
   ],
   "source": [
    "pd.__version__"
   ]
  },
  {
   "cell_type": "code",
   "execution_count": null,
   "id": "d52a23d0-ad2e-4210-bef2-7b94a292d537",
   "metadata": {},
   "outputs": [],
   "source": []
  },
  {
   "cell_type": "markdown",
   "id": "0fb3b2a2-9683-4920-a6a8-bad3ad557492",
   "metadata": {},
   "source": [
    "### 데이터 읽기 \n",
    "\n",
    "- 데이터를 파티션 나눈 파케이 파일을 읽어서 처리함 "
   ]
  },
  {
   "cell_type": "code",
   "execution_count": 4,
   "id": "e8fe0bb4-0861-4903-9755-499d306737c3",
   "metadata": {},
   "outputs": [],
   "source": [
    "df = pd.read_parquet(\"./data/lending_club_parquet/\")"
   ]
  },
  {
   "cell_type": "markdown",
   "id": "3cd06d1c-266b-4a5b-a099-237d04a6f52a",
   "metadata": {},
   "source": [
    "## 데이터가 커서 사용하지 않음 \n",
    "\n",
    "- path = \"/Users/a06411/Documents/data_hub/lending_club/lending_club.csv\"\n",
    "\n",
    "- df_d = pd.read_csv(path, low_memory=False)"
   ]
  },
  {
   "cell_type": "code",
   "execution_count": 5,
   "id": "379cd827-9c5e-48b7-bc30-1ab239afcd20",
   "metadata": {},
   "outputs": [
    {
     "data": {
      "text/plain": [
       "(2260701, 151)"
      ]
     },
     "execution_count": 5,
     "metadata": {},
     "output_type": "execute_result"
    }
   ],
   "source": [
    "df.shape"
   ]
  },
  {
   "cell_type": "code",
   "execution_count": null,
   "id": "60131348-c54d-4072-8690-52adf9fb0555",
   "metadata": {},
   "outputs": [],
   "source": []
  },
  {
   "cell_type": "code",
   "execution_count": 6,
   "id": "07503b9a-2f5c-41c6-be09-05f9997efc43",
   "metadata": {},
   "outputs": [
    {
     "name": "stdout",
     "output_type": "stream",
     "text": [
      "<class 'pandas.core.frame.DataFrame'>\n",
      "RangeIndex: 2260701 entries, 0 to 2260700\n",
      "Columns: 151 entries, id to settlement_term\n",
      "dtypes: float64(53), object(98)\n",
      "memory usage: 2.5+ GB\n"
     ]
    }
   ],
   "source": [
    "df.info()"
   ]
  },
  {
   "cell_type": "code",
   "execution_count": null,
   "id": "39f795f3-3b38-486d-b399-a34c58368ab8",
   "metadata": {},
   "outputs": [],
   "source": []
  },
  {
   "cell_type": "markdown",
   "id": "174ba5b4-eb16-4b45-98cb-638d219ee607",
   "metadata": {},
   "source": [
    "### 데이터 중에 문자 처리 칼럼 확인 "
   ]
  },
  {
   "cell_type": "code",
   "execution_count": 7,
   "id": "0dd1f02f-51de-46de-bf35-48bdfab88a5d",
   "metadata": {},
   "outputs": [
    {
     "data": {
      "text/plain": [
       "Index(['id', 'member_id', 'term', 'grade', 'sub_grade', 'emp_title',\n",
       "       'emp_length', 'home_ownership', 'annual_inc', 'verification_status',\n",
       "       'issue_d', 'loan_status', 'pymnt_plan', 'url', 'desc', 'purpose',\n",
       "       'title', 'zip_code', 'addr_state', 'dti', 'delinq_2yrs',\n",
       "       'earliest_cr_line', 'fico_range_low', 'fico_range_high',\n",
       "       'inq_last_6mths', 'mths_since_last_delinq', 'mths_since_last_record',\n",
       "       'open_acc', 'pub_rec', 'revol_bal', 'revol_util', 'total_acc',\n",
       "       'initial_list_status', 'out_prncp', 'out_prncp_inv', 'total_pymnt',\n",
       "       'total_pymnt_inv', 'total_rec_prncp', 'total_rec_int',\n",
       "       'total_rec_late_fee', 'recoveries', 'collection_recovery_fee',\n",
       "       'last_pymnt_d', 'last_pymnt_amnt', 'next_pymnt_d', 'last_credit_pull_d',\n",
       "       'last_fico_range_high', 'last_fico_range_low',\n",
       "       'collections_12_mths_ex_med', 'mths_since_last_major_derog',\n",
       "       'policy_code', 'application_type', 'annual_inc_joint', 'dti_joint',\n",
       "       'verification_status_joint', 'acc_now_delinq', 'tot_coll_amt',\n",
       "       'tot_cur_bal', 'open_acc_6m', 'open_act_il', 'open_il_12m',\n",
       "       'open_il_24m', 'mths_since_rcnt_il', 'total_bal_il', 'il_util',\n",
       "       'open_rv_12m', 'open_rv_24m', 'max_bal_bc', 'all_util',\n",
       "       'total_rev_hi_lim', 'inq_fi', 'total_cu_tl', 'avg_cur_bal', 'bc_util',\n",
       "       'sec_app_earliest_cr_line', 'hardship_flag', 'hardship_type',\n",
       "       'hardship_reason', 'hardship_status', 'deferral_term',\n",
       "       'hardship_amount', 'hardship_start_date', 'hardship_end_date',\n",
       "       'payment_plan_start_date', 'hardship_length', 'hardship_dpd',\n",
       "       'hardship_loan_status', 'orig_projected_additional_accrued_interest',\n",
       "       'hardship_payoff_balance_amount', 'hardship_last_payment_amount',\n",
       "       'disbursement_method', 'debt_settlement_flag',\n",
       "       'debt_settlement_flag_date', 'settlement_status', 'settlement_date',\n",
       "       'settlement_amount', 'settlement_percentage', 'settlement_term'],\n",
       "      dtype='object')"
      ]
     },
     "execution_count": 7,
     "metadata": {},
     "output_type": "execute_result"
    }
   ],
   "source": [
    "df.select_dtypes(include=\"object\").head().columns"
   ]
  },
  {
   "cell_type": "code",
   "execution_count": null,
   "id": "d1aa81f4-395e-4732-bb8b-b472f3f14857",
   "metadata": {},
   "outputs": [],
   "source": []
  },
  {
   "cell_type": "code",
   "execution_count": 8,
   "id": "a3281b6d-de48-42df-973a-f96c8a71ca19",
   "metadata": {},
   "outputs": [],
   "source": [
    "df_schema = pd.read_excel(\"./lending_club_data/테이블정보_한글칼럼명추가.xlsx\")"
   ]
  },
  {
   "cell_type": "code",
   "execution_count": 9,
   "id": "057e6f24-9a02-41dc-9762-d868201cbdfa",
   "metadata": {},
   "outputs": [],
   "source": [
    "import meta"
   ]
  },
  {
   "cell_type": "code",
   "execution_count": 10,
   "id": "1f63c65d-eae5-42f3-a977-ec2f21b8af46",
   "metadata": {},
   "outputs": [],
   "source": [
    "df_cols = meta.SearchMeta(df_schema)"
   ]
  },
  {
   "cell_type": "code",
   "execution_count": 11,
   "id": "30f46539-a3d2-498c-9353-7dffe31cae0c",
   "metadata": {},
   "outputs": [
    {
     "data": {
      "text/plain": [
       "Index(['id', 'member_id', 'loan_amnt', 'funded_amnt', 'funded_amnt_inv',\n",
       "       'term', 'int_rate', 'installment', 'grade', 'sub_grade',\n",
       "       ...\n",
       "       'hardship_payoff_balance_amount', 'hardship_last_payment_amount',\n",
       "       'disbursement_method', 'debt_settlement_flag',\n",
       "       'debt_settlement_flag_date', 'settlement_status', 'settlement_date',\n",
       "       'settlement_amount', 'settlement_percentage', 'settlement_term'],\n",
       "      dtype='object', length=151)"
      ]
     },
     "execution_count": 11,
     "metadata": {},
     "output_type": "execute_result"
    }
   ],
   "source": [
    "df.columns"
   ]
  },
  {
   "cell_type": "code",
   "execution_count": 12,
   "id": "ab9ed524-b826-44d6-b1f7-456a7eb7f5c6",
   "metadata": {},
   "outputs": [],
   "source": [
    "cols = df_cols.searchEnMetaAll(df.columns[1:])"
   ]
  },
  {
   "cell_type": "code",
   "execution_count": 13,
   "id": "8065cd1d-efd8-47ad-8f45-8f1753044f19",
   "metadata": {},
   "outputs": [
    {
     "data": {
      "text/plain": [
       "['회원번호',\n",
       " '대출금액',\n",
       " '대출약정금액',\n",
       " '투자자대출약정금액',\n",
       " '대출상환기간',\n",
       " '대출이자율',\n",
       " '매월상환금액',\n",
       " '신용평가등급',\n",
       " '신용평가보조등급',\n",
       " '직업명',\n",
       " '근무연차 ',\n",
       " '주택소유',\n",
       " '연소득금액',\n",
       " '소득인증상태',\n",
       " '대출조달월',\n",
       " '대출현재상태',\n",
       " '대출지불계획상태',\n",
       " 'url주소',\n",
       " '대출설명',\n",
       " '대출용도',\n",
       " '대출제목',\n",
       " '우편번호',\n",
       " '거주국가',\n",
       " '부채대비소득비율',\n",
       " '연체발생회수 ',\n",
       " '신용한도시작일자',\n",
       " 'FICO상한범위',\n",
       " 'FICO하한범위',\n",
       " '6개월간상담횟수',\n",
       " '최종연체개월수',\n",
       " '마지막거래이후개월수',\n",
       " '신용한도개설기록횟수',\n",
       " '신용이상기록횟수',\n",
       " '리볼링잔액',\n",
       " '리볼링사용비율',\n",
       " '신용한도',\n",
       " '대출초기상태',\n",
       " '잔존원금',\n",
       " '투자자잔존원금',\n",
       " '납부된총원금',\n",
       " '투자자납부된총원금',\n",
       " '납부누적원금',\n",
       " '납부누적이자',\n",
       " '납부누적연체료',\n",
       " '채무불이행회수율',\n",
       " '채무불이행회수범위',\n",
       " '최근지급월',\n",
       " '최근지급금액',\n",
       " '다음지급금액',\n",
       " '신용한도총기록회수',\n",
       " '이전FICO상한범위',\n",
       " '이전FICO하한범위',\n",
       " '추심횟수',\n",
       " '신용평가불랭이후개월수',\n",
       " '대출가능상태',\n",
       " '공동대출여부',\n",
       " '공동총소득금액',\n",
       " '공동부채대비소득비율',\n",
       " '공동소득인증상태',\n",
       " '연체계조개수',\n",
       " '연체추심금액',\n",
       " '총계좌잔액',\n",
       " '최근은행거래횟수',\n",
       " '할부거래횟수',\n",
       " '일년간할부계좌개수',\n",
       " '이년간할부계좌개수',\n",
       " '최근할부발생개월수',\n",
       " '할부계좌잔액',\n",
       " '신용한도대비할부비율',\n",
       " '일년간리볼링거래횟수',\n",
       " '이년간리볼빙거래횟수',\n",
       " '청구최대금액',\n",
       " '신용한도잔액',\n",
       " '리볼빙신용최대한도',\n",
       " '상담횟수',\n",
       " '은행대출거래횟수',\n",
       " '12개월간상담횟수',\n",
       " '최근거래횟수',\n",
       " '계좌평금금액',\n",
       " '리볼빙구매총금액',\n",
       " '신용한도대금비율',\n",
       " '연체횟수',\n",
       " '세금체납금액',\n",
       " '가장오리댄할부발생개월수',\n",
       " '과거리볼빙발생개월수',\n",
       " '최근리볼빙발생개월수',\n",
       " '최근계죄개설개월수',\n",
       " '주택담도대출계좌수',\n",
       " '최근은행카드개월수',\n",
       " '최근연체발생후개월수',\n",
       " '최근상담이후개월수',\n",
       " '최근리볼빙연체개월수',\n",
       " '연체계좌수',\n",
       " '은행카드활동계좌개수',\n",
       " '현재리볼빙진행개수',\n",
       " '은행카드정상계좌개수',\n",
       " '은행카드개수',\n",
       " '할부총계좌수',\n",
       " '현재개설된리볼빙계좌개수',\n",
       " '리볼빙총계좌수',\n",
       " '잔고0이상리볼빙거래개수',\n",
       " '은행카드정상개수',\n",
       " '중기연체계좌개수',\n",
       " '단기연체계좌개수',\n",
       " '장기연체계좌개수',\n",
       " '최근개설계좌개수',\n",
       " '미연체거래비율',\n",
       " '특정한도이상소진계좌비율',\n",
       " '파산기록횟수',\n",
       " '세금유치권횟수',\n",
       " '총신용한도금액',\n",
       " '신용한도금액',\n",
       " '은행카드신요한도',\n",
       " '할부신용한도',\n",
       " '공동리볼빙신용총금액',\n",
       " '보조FICO상한범위',\n",
       " '보조FICO하한범위',\n",
       " '보조신용한도',\n",
       " '보조신용조회횟수',\n",
       " '보조주택담도대출계좌수',\n",
       " '보조거래개수',\n",
       " '리볼빙총잔액비율',\n",
       " '보조할부거래개수',\n",
       " '보조리볼빙계좌수',\n",
       " '보조일년간 과금횟수',\n",
       " '보조일년간추심횟수',\n",
       " '보조나쁜평가개월수',\n",
       " '상환계획실행여부',\n",
       " '상환계획유형',\n",
       " '상환계획사유',\n",
       " '상환계획진행상태',\n",
       " '상환예정개월수',\n",
       " '매월이자납부금액',\n",
       " '상환시작일자',\n",
       " '상환마감일자',\n",
       " '상환계획시작일자',\n",
       " '기준이하납부개월수',\n",
       " '상환미지계좌',\n",
       " '상환이후대출상태',\n",
       " '상환이후추가대출금액',\n",
       " '상환시작일이후상환금액',\n",
       " '상환시작일이후마지막상환금액',\n",
       " '대출금지급유형',\n",
       " '대출협력여부',\n",
       " '가장최근상환일자',\n",
       " '대출정산계획상태',\n",
       " '대출정산계획일자',\n",
       " '대출정산금액',\n",
       " '대출정산비율금액',\n",
       " '대출정산계획개월수']"
      ]
     },
     "execution_count": 13,
     "metadata": {},
     "output_type": "execute_result"
    }
   ],
   "source": [
    "cols"
   ]
  },
  {
   "cell_type": "code",
   "execution_count": 14,
   "id": "3d682a6a-2acc-4372-b9d4-d9ea894c78f3",
   "metadata": {},
   "outputs": [],
   "source": [
    "cols.insert(0, df.columns[0])"
   ]
  },
  {
   "cell_type": "code",
   "execution_count": 15,
   "id": "cde449bf-74cc-4e52-91d6-6ff14b6a921c",
   "metadata": {},
   "outputs": [
    {
     "data": {
      "text/plain": [
       "['id',\n",
       " '회원번호',\n",
       " '대출금액',\n",
       " '대출약정금액',\n",
       " '투자자대출약정금액',\n",
       " '대출상환기간',\n",
       " '대출이자율',\n",
       " '매월상환금액',\n",
       " '신용평가등급',\n",
       " '신용평가보조등급',\n",
       " '직업명',\n",
       " '근무연차 ',\n",
       " '주택소유',\n",
       " '연소득금액',\n",
       " '소득인증상태',\n",
       " '대출조달월',\n",
       " '대출현재상태',\n",
       " '대출지불계획상태',\n",
       " 'url주소',\n",
       " '대출설명',\n",
       " '대출용도',\n",
       " '대출제목',\n",
       " '우편번호',\n",
       " '거주국가',\n",
       " '부채대비소득비율',\n",
       " '연체발생회수 ',\n",
       " '신용한도시작일자',\n",
       " 'FICO상한범위',\n",
       " 'FICO하한범위',\n",
       " '6개월간상담횟수',\n",
       " '최종연체개월수',\n",
       " '마지막거래이후개월수',\n",
       " '신용한도개설기록횟수',\n",
       " '신용이상기록횟수',\n",
       " '리볼링잔액',\n",
       " '리볼링사용비율',\n",
       " '신용한도',\n",
       " '대출초기상태',\n",
       " '잔존원금',\n",
       " '투자자잔존원금',\n",
       " '납부된총원금',\n",
       " '투자자납부된총원금',\n",
       " '납부누적원금',\n",
       " '납부누적이자',\n",
       " '납부누적연체료',\n",
       " '채무불이행회수율',\n",
       " '채무불이행회수범위',\n",
       " '최근지급월',\n",
       " '최근지급금액',\n",
       " '다음지급금액',\n",
       " '신용한도총기록회수',\n",
       " '이전FICO상한범위',\n",
       " '이전FICO하한범위',\n",
       " '추심횟수',\n",
       " '신용평가불랭이후개월수',\n",
       " '대출가능상태',\n",
       " '공동대출여부',\n",
       " '공동총소득금액',\n",
       " '공동부채대비소득비율',\n",
       " '공동소득인증상태',\n",
       " '연체계조개수',\n",
       " '연체추심금액',\n",
       " '총계좌잔액',\n",
       " '최근은행거래횟수',\n",
       " '할부거래횟수',\n",
       " '일년간할부계좌개수',\n",
       " '이년간할부계좌개수',\n",
       " '최근할부발생개월수',\n",
       " '할부계좌잔액',\n",
       " '신용한도대비할부비율',\n",
       " '일년간리볼링거래횟수',\n",
       " '이년간리볼빙거래횟수',\n",
       " '청구최대금액',\n",
       " '신용한도잔액',\n",
       " '리볼빙신용최대한도',\n",
       " '상담횟수',\n",
       " '은행대출거래횟수',\n",
       " '12개월간상담횟수',\n",
       " '최근거래횟수',\n",
       " '계좌평금금액',\n",
       " '리볼빙구매총금액',\n",
       " '신용한도대금비율',\n",
       " '연체횟수',\n",
       " '세금체납금액',\n",
       " '가장오리댄할부발생개월수',\n",
       " '과거리볼빙발생개월수',\n",
       " '최근리볼빙발생개월수',\n",
       " '최근계죄개설개월수',\n",
       " '주택담도대출계좌수',\n",
       " '최근은행카드개월수',\n",
       " '최근연체발생후개월수',\n",
       " '최근상담이후개월수',\n",
       " '최근리볼빙연체개월수',\n",
       " '연체계좌수',\n",
       " '은행카드활동계좌개수',\n",
       " '현재리볼빙진행개수',\n",
       " '은행카드정상계좌개수',\n",
       " '은행카드개수',\n",
       " '할부총계좌수',\n",
       " '현재개설된리볼빙계좌개수',\n",
       " '리볼빙총계좌수',\n",
       " '잔고0이상리볼빙거래개수',\n",
       " '은행카드정상개수',\n",
       " '중기연체계좌개수',\n",
       " '단기연체계좌개수',\n",
       " '장기연체계좌개수',\n",
       " '최근개설계좌개수',\n",
       " '미연체거래비율',\n",
       " '특정한도이상소진계좌비율',\n",
       " '파산기록횟수',\n",
       " '세금유치권횟수',\n",
       " '총신용한도금액',\n",
       " '신용한도금액',\n",
       " '은행카드신요한도',\n",
       " '할부신용한도',\n",
       " '공동리볼빙신용총금액',\n",
       " '보조FICO상한범위',\n",
       " '보조FICO하한범위',\n",
       " '보조신용한도',\n",
       " '보조신용조회횟수',\n",
       " '보조주택담도대출계좌수',\n",
       " '보조거래개수',\n",
       " '리볼빙총잔액비율',\n",
       " '보조할부거래개수',\n",
       " '보조리볼빙계좌수',\n",
       " '보조일년간 과금횟수',\n",
       " '보조일년간추심횟수',\n",
       " '보조나쁜평가개월수',\n",
       " '상환계획실행여부',\n",
       " '상환계획유형',\n",
       " '상환계획사유',\n",
       " '상환계획진행상태',\n",
       " '상환예정개월수',\n",
       " '매월이자납부금액',\n",
       " '상환시작일자',\n",
       " '상환마감일자',\n",
       " '상환계획시작일자',\n",
       " '기준이하납부개월수',\n",
       " '상환미지계좌',\n",
       " '상환이후대출상태',\n",
       " '상환이후추가대출금액',\n",
       " '상환시작일이후상환금액',\n",
       " '상환시작일이후마지막상환금액',\n",
       " '대출금지급유형',\n",
       " '대출협력여부',\n",
       " '가장최근상환일자',\n",
       " '대출정산계획상태',\n",
       " '대출정산계획일자',\n",
       " '대출정산금액',\n",
       " '대출정산비율금액',\n",
       " '대출정산계획개월수']"
      ]
     },
     "execution_count": 15,
     "metadata": {},
     "output_type": "execute_result"
    }
   ],
   "source": [
    "cols"
   ]
  },
  {
   "cell_type": "markdown",
   "id": "911b4ed7-0d28-4425-927f-a3e21f16dd11",
   "metadata": {},
   "source": [
    "## 한글 이름으로 변경"
   ]
  },
  {
   "cell_type": "code",
   "execution_count": 16,
   "id": "09f4276b-b3dc-4d4d-a338-ba3daca4f60f",
   "metadata": {},
   "outputs": [],
   "source": [
    "df.columns = cols"
   ]
  },
  {
   "cell_type": "code",
   "execution_count": 17,
   "id": "6dce2f6f-7467-4105-ac4a-a9849c506af6",
   "metadata": {},
   "outputs": [
    {
     "data": {
      "text/html": [
       "<div>\n",
       "<style scoped>\n",
       "    .dataframe tbody tr th:only-of-type {\n",
       "        vertical-align: middle;\n",
       "    }\n",
       "\n",
       "    .dataframe tbody tr th {\n",
       "        vertical-align: top;\n",
       "    }\n",
       "\n",
       "    .dataframe thead th {\n",
       "        text-align: right;\n",
       "    }\n",
       "</style>\n",
       "<table border=\"1\" class=\"dataframe\">\n",
       "  <thead>\n",
       "    <tr style=\"text-align: right;\">\n",
       "      <th></th>\n",
       "      <th>id</th>\n",
       "      <th>회원번호</th>\n",
       "      <th>대출금액</th>\n",
       "      <th>대출약정금액</th>\n",
       "      <th>투자자대출약정금액</th>\n",
       "      <th>대출상환기간</th>\n",
       "      <th>대출이자율</th>\n",
       "      <th>매월상환금액</th>\n",
       "      <th>신용평가등급</th>\n",
       "      <th>신용평가보조등급</th>\n",
       "      <th>...</th>\n",
       "      <th>상환시작일이후상환금액</th>\n",
       "      <th>상환시작일이후마지막상환금액</th>\n",
       "      <th>대출금지급유형</th>\n",
       "      <th>대출협력여부</th>\n",
       "      <th>가장최근상환일자</th>\n",
       "      <th>대출정산계획상태</th>\n",
       "      <th>대출정산계획일자</th>\n",
       "      <th>대출정산금액</th>\n",
       "      <th>대출정산비율금액</th>\n",
       "      <th>대출정산계획개월수</th>\n",
       "    </tr>\n",
       "  </thead>\n",
       "  <tbody>\n",
       "    <tr>\n",
       "      <th>0</th>\n",
       "      <td>63918338</td>\n",
       "      <td>None</td>\n",
       "      <td>25000.0</td>\n",
       "      <td>25000.0</td>\n",
       "      <td>25000.0</td>\n",
       "      <td>60 months</td>\n",
       "      <td>9.17</td>\n",
       "      <td>521.03</td>\n",
       "      <td>B</td>\n",
       "      <td>B2</td>\n",
       "      <td>...</td>\n",
       "      <td>None</td>\n",
       "      <td>None</td>\n",
       "      <td>Cash</td>\n",
       "      <td>N</td>\n",
       "      <td>None</td>\n",
       "      <td>None</td>\n",
       "      <td>None</td>\n",
       "      <td>None</td>\n",
       "      <td>None</td>\n",
       "      <td>None</td>\n",
       "    </tr>\n",
       "    <tr>\n",
       "      <th>1</th>\n",
       "      <td>60635644</td>\n",
       "      <td>None</td>\n",
       "      <td>30000.0</td>\n",
       "      <td>30000.0</td>\n",
       "      <td>30000.0</td>\n",
       "      <td>36 months</td>\n",
       "      <td>12.29</td>\n",
       "      <td>1000.59</td>\n",
       "      <td>C</td>\n",
       "      <td>C1</td>\n",
       "      <td>...</td>\n",
       "      <td>None</td>\n",
       "      <td>None</td>\n",
       "      <td>Cash</td>\n",
       "      <td>N</td>\n",
       "      <td>None</td>\n",
       "      <td>None</td>\n",
       "      <td>None</td>\n",
       "      <td>None</td>\n",
       "      <td>None</td>\n",
       "      <td>None</td>\n",
       "    </tr>\n",
       "    <tr>\n",
       "      <th>2</th>\n",
       "      <td>57206438</td>\n",
       "      <td>None</td>\n",
       "      <td>6000.0</td>\n",
       "      <td>6000.0</td>\n",
       "      <td>6000.0</td>\n",
       "      <td>36 months</td>\n",
       "      <td>9.17</td>\n",
       "      <td>191.28</td>\n",
       "      <td>B</td>\n",
       "      <td>B2</td>\n",
       "      <td>...</td>\n",
       "      <td>None</td>\n",
       "      <td>None</td>\n",
       "      <td>Cash</td>\n",
       "      <td>Y</td>\n",
       "      <td>May-2018</td>\n",
       "      <td>COMPLETE</td>\n",
       "      <td>May-2018</td>\n",
       "      <td>1050.0</td>\n",
       "      <td>49.95</td>\n",
       "      <td>1.0</td>\n",
       "    </tr>\n",
       "    <tr>\n",
       "      <th>3</th>\n",
       "      <td>65826019</td>\n",
       "      <td>None</td>\n",
       "      <td>6400.0</td>\n",
       "      <td>6400.0</td>\n",
       "      <td>6400.0</td>\n",
       "      <td>36 months</td>\n",
       "      <td>9.99</td>\n",
       "      <td>206.48</td>\n",
       "      <td>B</td>\n",
       "      <td>B3</td>\n",
       "      <td>...</td>\n",
       "      <td>None</td>\n",
       "      <td>None</td>\n",
       "      <td>Cash</td>\n",
       "      <td>N</td>\n",
       "      <td>None</td>\n",
       "      <td>None</td>\n",
       "      <td>None</td>\n",
       "      <td>None</td>\n",
       "      <td>None</td>\n",
       "      <td>None</td>\n",
       "    </tr>\n",
       "    <tr>\n",
       "      <th>4</th>\n",
       "      <td>62854410</td>\n",
       "      <td>None</td>\n",
       "      <td>35000.0</td>\n",
       "      <td>35000.0</td>\n",
       "      <td>35000.0</td>\n",
       "      <td>60 months</td>\n",
       "      <td>17.57</td>\n",
       "      <td>880.61</td>\n",
       "      <td>D</td>\n",
       "      <td>D4</td>\n",
       "      <td>...</td>\n",
       "      <td>None</td>\n",
       "      <td>None</td>\n",
       "      <td>Cash</td>\n",
       "      <td>N</td>\n",
       "      <td>None</td>\n",
       "      <td>None</td>\n",
       "      <td>None</td>\n",
       "      <td>None</td>\n",
       "      <td>None</td>\n",
       "      <td>None</td>\n",
       "    </tr>\n",
       "  </tbody>\n",
       "</table>\n",
       "<p>5 rows × 151 columns</p>\n",
       "</div>"
      ],
      "text/plain": [
       "         id  회원번호     대출금액   대출약정금액  투자자대출약정금액      대출상환기간  대출이자율   매월상환금액  \\\n",
       "0  63918338  None  25000.0  25000.0    25000.0   60 months   9.17   521.03   \n",
       "1  60635644  None  30000.0  30000.0    30000.0   36 months  12.29  1000.59   \n",
       "2  57206438  None   6000.0   6000.0     6000.0   36 months   9.17   191.28   \n",
       "3  65826019  None   6400.0   6400.0     6400.0   36 months   9.99   206.48   \n",
       "4  62854410  None  35000.0  35000.0    35000.0   60 months  17.57   880.61   \n",
       "\n",
       "  신용평가등급 신용평가보조등급  ... 상환시작일이후상환금액 상환시작일이후마지막상환금액 대출금지급유형 대출협력여부  가장최근상환일자  \\\n",
       "0      B       B2  ...        None           None    Cash      N      None   \n",
       "1      C       C1  ...        None           None    Cash      N      None   \n",
       "2      B       B2  ...        None           None    Cash      Y  May-2018   \n",
       "3      B       B3  ...        None           None    Cash      N      None   \n",
       "4      D       D4  ...        None           None    Cash      N      None   \n",
       "\n",
       "   대출정산계획상태  대출정산계획일자  대출정산금액 대출정산비율금액 대출정산계획개월수  \n",
       "0      None      None    None     None      None  \n",
       "1      None      None    None     None      None  \n",
       "2  COMPLETE  May-2018  1050.0    49.95       1.0  \n",
       "3      None      None    None     None      None  \n",
       "4      None      None    None     None      None  \n",
       "\n",
       "[5 rows x 151 columns]"
      ]
     },
     "execution_count": 17,
     "metadata": {},
     "output_type": "execute_result"
    }
   ],
   "source": [
    "df.head()"
   ]
  },
  {
   "cell_type": "code",
   "execution_count": 18,
   "id": "c8e6ccc6-0b9d-4f47-90c4-89971c86f489",
   "metadata": {},
   "outputs": [
    {
     "data": {
      "text/html": [
       "<div>\n",
       "<style scoped>\n",
       "    .dataframe tbody tr th:only-of-type {\n",
       "        vertical-align: middle;\n",
       "    }\n",
       "\n",
       "    .dataframe tbody tr th {\n",
       "        vertical-align: top;\n",
       "    }\n",
       "\n",
       "    .dataframe thead th {\n",
       "        text-align: right;\n",
       "    }\n",
       "</style>\n",
       "<table border=\"1\" class=\"dataframe\">\n",
       "  <thead>\n",
       "    <tr style=\"text-align: right;\">\n",
       "      <th></th>\n",
       "      <th>id</th>\n",
       "      <th>회원번호</th>\n",
       "      <th>대출금액</th>\n",
       "      <th>대출약정금액</th>\n",
       "      <th>투자자대출약정금액</th>\n",
       "      <th>대출상환기간</th>\n",
       "      <th>대출이자율</th>\n",
       "      <th>매월상환금액</th>\n",
       "      <th>신용평가등급</th>\n",
       "      <th>신용평가보조등급</th>\n",
       "      <th>...</th>\n",
       "      <th>상환시작일이후상환금액</th>\n",
       "      <th>상환시작일이후마지막상환금액</th>\n",
       "      <th>대출금지급유형</th>\n",
       "      <th>대출협력여부</th>\n",
       "      <th>가장최근상환일자</th>\n",
       "      <th>대출정산계획상태</th>\n",
       "      <th>대출정산계획일자</th>\n",
       "      <th>대출정산금액</th>\n",
       "      <th>대출정산비율금액</th>\n",
       "      <th>대출정산계획개월수</th>\n",
       "    </tr>\n",
       "  </thead>\n",
       "  <tbody>\n",
       "    <tr>\n",
       "      <th>2260696</th>\n",
       "      <td>91650299</td>\n",
       "      <td>None</td>\n",
       "      <td>20000.0</td>\n",
       "      <td>20000.0</td>\n",
       "      <td>20000.0</td>\n",
       "      <td>60 months</td>\n",
       "      <td>12.74</td>\n",
       "      <td>452.41</td>\n",
       "      <td>C</td>\n",
       "      <td>C1</td>\n",
       "      <td>...</td>\n",
       "      <td>None</td>\n",
       "      <td>None</td>\n",
       "      <td>Cash</td>\n",
       "      <td>N</td>\n",
       "      <td>None</td>\n",
       "      <td>None</td>\n",
       "      <td>None</td>\n",
       "      <td>None</td>\n",
       "      <td>None</td>\n",
       "      <td>None</td>\n",
       "    </tr>\n",
       "    <tr>\n",
       "      <th>2260697</th>\n",
       "      <td>92195070</td>\n",
       "      <td>None</td>\n",
       "      <td>6000.0</td>\n",
       "      <td>6000.0</td>\n",
       "      <td>6000.0</td>\n",
       "      <td>36 months</td>\n",
       "      <td>8.24</td>\n",
       "      <td>188.69</td>\n",
       "      <td>B</td>\n",
       "      <td>B1</td>\n",
       "      <td>...</td>\n",
       "      <td>None</td>\n",
       "      <td>None</td>\n",
       "      <td>Cash</td>\n",
       "      <td>N</td>\n",
       "      <td>None</td>\n",
       "      <td>None</td>\n",
       "      <td>None</td>\n",
       "      <td>None</td>\n",
       "      <td>None</td>\n",
       "      <td>None</td>\n",
       "    </tr>\n",
       "    <tr>\n",
       "      <th>2260698</th>\n",
       "      <td>92350206</td>\n",
       "      <td>None</td>\n",
       "      <td>28000.0</td>\n",
       "      <td>28000.0</td>\n",
       "      <td>28000.0</td>\n",
       "      <td>60 months</td>\n",
       "      <td>30.99</td>\n",
       "      <td>923.00</td>\n",
       "      <td>G</td>\n",
       "      <td>G5</td>\n",
       "      <td>...</td>\n",
       "      <td>None</td>\n",
       "      <td>None</td>\n",
       "      <td>DirectPay</td>\n",
       "      <td>N</td>\n",
       "      <td>None</td>\n",
       "      <td>None</td>\n",
       "      <td>None</td>\n",
       "      <td>None</td>\n",
       "      <td>None</td>\n",
       "      <td>None</td>\n",
       "    </tr>\n",
       "    <tr>\n",
       "      <th>2260699</th>\n",
       "      <td>90237683</td>\n",
       "      <td>None</td>\n",
       "      <td>5600.0</td>\n",
       "      <td>5600.0</td>\n",
       "      <td>5600.0</td>\n",
       "      <td>36 months</td>\n",
       "      <td>9.49</td>\n",
       "      <td>179.36</td>\n",
       "      <td>B</td>\n",
       "      <td>B2</td>\n",
       "      <td>...</td>\n",
       "      <td>None</td>\n",
       "      <td>None</td>\n",
       "      <td>Cash</td>\n",
       "      <td>N</td>\n",
       "      <td>None</td>\n",
       "      <td>None</td>\n",
       "      <td>None</td>\n",
       "      <td>None</td>\n",
       "      <td>None</td>\n",
       "      <td>None</td>\n",
       "    </tr>\n",
       "    <tr>\n",
       "      <th>2260700</th>\n",
       "      <td>91357699</td>\n",
       "      <td>None</td>\n",
       "      <td>10000.0</td>\n",
       "      <td>10000.0</td>\n",
       "      <td>10000.0</td>\n",
       "      <td>36 months</td>\n",
       "      <td>12.74</td>\n",
       "      <td>335.69</td>\n",
       "      <td>C</td>\n",
       "      <td>C1</td>\n",
       "      <td>...</td>\n",
       "      <td>None</td>\n",
       "      <td>None</td>\n",
       "      <td>Cash</td>\n",
       "      <td>N</td>\n",
       "      <td>None</td>\n",
       "      <td>None</td>\n",
       "      <td>None</td>\n",
       "      <td>None</td>\n",
       "      <td>None</td>\n",
       "      <td>None</td>\n",
       "    </tr>\n",
       "  </tbody>\n",
       "</table>\n",
       "<p>5 rows × 151 columns</p>\n",
       "</div>"
      ],
      "text/plain": [
       "               id  회원번호     대출금액   대출약정금액  투자자대출약정금액      대출상환기간  대출이자율  \\\n",
       "2260696  91650299  None  20000.0  20000.0    20000.0   60 months  12.74   \n",
       "2260697  92195070  None   6000.0   6000.0     6000.0   36 months   8.24   \n",
       "2260698  92350206  None  28000.0  28000.0    28000.0   60 months  30.99   \n",
       "2260699  90237683  None   5600.0   5600.0     5600.0   36 months   9.49   \n",
       "2260700  91357699  None  10000.0  10000.0    10000.0   36 months  12.74   \n",
       "\n",
       "         매월상환금액 신용평가등급 신용평가보조등급  ... 상환시작일이후상환금액 상환시작일이후마지막상환금액    대출금지급유형  \\\n",
       "2260696  452.41      C       C1  ...        None           None       Cash   \n",
       "2260697  188.69      B       B1  ...        None           None       Cash   \n",
       "2260698  923.00      G       G5  ...        None           None  DirectPay   \n",
       "2260699  179.36      B       B2  ...        None           None       Cash   \n",
       "2260700  335.69      C       C1  ...        None           None       Cash   \n",
       "\n",
       "        대출협력여부 가장최근상환일자 대출정산계획상태 대출정산계획일자 대출정산금액 대출정산비율금액 대출정산계획개월수  \n",
       "2260696      N     None     None     None   None     None      None  \n",
       "2260697      N     None     None     None   None     None      None  \n",
       "2260698      N     None     None     None   None     None      None  \n",
       "2260699      N     None     None     None   None     None      None  \n",
       "2260700      N     None     None     None   None     None      None  \n",
       "\n",
       "[5 rows x 151 columns]"
      ]
     },
     "execution_count": 18,
     "metadata": {},
     "output_type": "execute_result"
    }
   ],
   "source": [
    "df.tail()"
   ]
  },
  {
   "cell_type": "code",
   "execution_count": null,
   "id": "dc2f278b-5110-476a-a8b9-3f74182d1c02",
   "metadata": {},
   "outputs": [],
   "source": []
  },
  {
   "cell_type": "markdown",
   "id": "f6ccd070-0131-4068-b3e1-8e2a2f53df1d",
   "metadata": {},
   "source": [
    "# 2. 날짜 변환 처리 "
   ]
  },
  {
   "cell_type": "markdown",
   "id": "3db5dc49-de21-448e-89d8-81bcd8f732f0",
   "metadata": {},
   "source": [
    "### 날짜 처리 칼럼 확인 "
   ]
  },
  {
   "cell_type": "code",
   "execution_count": 20,
   "id": "99ddab12-a1e4-4db6-8322-2748fb68195a",
   "metadata": {},
   "outputs": [
    {
     "data": {
      "text/plain": [
       "'대출조달월'"
      ]
     },
     "execution_count": 20,
     "metadata": {},
     "output_type": "execute_result"
    }
   ],
   "source": [
    "df_cols.searchEnMeta('issue_d')"
   ]
  },
  {
   "cell_type": "code",
   "execution_count": 28,
   "id": "790e4e68-3850-47f1-92db-25a0e2892e95",
   "metadata": {},
   "outputs": [
    {
     "data": {
      "text/plain": [
       "array(['Nov-2015', 'Sep-2015', 'Aug-2015', 'Dec-2015', 'Oct-2015',\n",
       "       'Jul-2015', 'Feb-2015', 'May-2015', 'Mar-2015', 'Apr-2015',\n",
       "       'Jun-2015', 'Jan-2015', 'Jan-2018', 'Sep-2017', 'Mar-2018',\n",
       "       'Feb-2018', 'May-2016', 'Jul-2017', 'Apr-2016', 'Aug-2017',\n",
       "       'Jun-2016', 'Sep-2018', 'Jul-2018', 'Jun-2017', 'Aug-2018',\n",
       "       'May-2017', 'Mar-2016', 'Feb-2016', 'Apr-2017', 'Jan-2016',\n",
       "       'Nov-2014', 'Dec-2014', 'May-2014', 'Oct-2014', 'Jul-2014',\n",
       "       'Jun-2014', 'Sep-2014', 'Aug-2014', 'Apr-2014', 'Mar-2014',\n",
       "       'Oct-2018', 'Nov-2018', 'Dec-2018', 'Jan-2014', 'Feb-2014',\n",
       "       'May-2018', 'Apr-2018', 'Jun-2018', 'Jan-2011', 'Aug-2011',\n",
       "       'Dec-2011', 'Feb-2011', 'Nov-2010', 'Jul-2011', 'Mar-2011',\n",
       "       'May-2011', 'Jun-2011', 'Jun-2010', 'Oct-2011', 'Apr-2011',\n",
       "       'Oct-2010', 'May-2010', 'Sep-2010', 'Nov-2011', 'Dec-2010',\n",
       "       'Jul-2010', 'Sep-2011', 'Apr-2010', 'Aug-2010', 'Mar-2010',\n",
       "       'Mar-2017', 'Dec-2013', 'Aug-2013', 'Jan-2017', 'Sep-2013',\n",
       "       'Jan-2009', 'Feb-2017', 'Nov-2013', 'Oct-2013', 'Dec-2009',\n",
       "       'Apr-2009', 'May-2008', 'Jul-2013', 'Sep-2008', 'Mar-2008',\n",
       "       'Nov-2009', 'Dec-2008', 'Apr-2008', 'May-2009', 'Aug-2009',\n",
       "       'Jan-2010', 'Jan-2008', 'Nov-2008', 'Aug-2008', 'Jun-2009',\n",
       "       'Sep-2009', 'Oct-2009', 'Mar-2009', 'Oct-2007', 'Jul-2007',\n",
       "       'Nov-2007', 'Feb-2010', 'Feb-2008', 'Feb-2009', 'Aug-2007',\n",
       "       'Jun-2008', 'Jun-2007', 'Oct-2008', 'Dec-2007', 'Jul-2009',\n",
       "       'Jul-2008', 'Sep-2007', 'Dec-2012', 'Mar-2013', 'Aug-2016',\n",
       "       'May-2013', 'Sep-2016', 'Jan-2013', 'Aug-2012', 'Apr-2013',\n",
       "       'Jun-2013', 'Nov-2012', 'Sep-2012', 'Feb-2012', 'Feb-2013',\n",
       "       'Jan-2012', 'Mar-2012', 'Apr-2012', 'Oct-2012', 'Jul-2012',\n",
       "       'Jun-2012', 'May-2012', 'Dec-2017', 'Jul-2016', 'Dec-2016',\n",
       "       'Nov-2017', 'Oct-2017', '', 'Nov-2016', 'Oct-2016',\n",
       "       'Source Verified'], dtype=object)"
      ]
     },
     "execution_count": 28,
     "metadata": {},
     "output_type": "execute_result"
    }
   ],
   "source": [
    "df['대출조달월'].unique()"
   ]
  },
  {
   "cell_type": "code",
   "execution_count": null,
   "id": "f9a3c30a-9f21-47ea-835e-746fba00a06e",
   "metadata": {},
   "outputs": [],
   "source": []
  },
  {
   "cell_type": "code",
   "execution_count": 29,
   "id": "ff9bc554-da71-4628-aadb-e712b9a7b2d4",
   "metadata": {},
   "outputs": [
    {
     "data": {
      "text/plain": [
       "Mar-2016           61992\n",
       "Oct-2015           48630\n",
       "May-2018           46311\n",
       "Oct-2018           46305\n",
       "Aug-2018           46079\n",
       "                   ...  \n",
       "Sep-2008              57\n",
       "Sep-2007              53\n",
       "                      33\n",
       "Jun-2007              24\n",
       "Source Verified        1\n",
       "Name: 대출조달월, Length: 141, dtype: int64"
      ]
     },
     "execution_count": 29,
     "metadata": {},
     "output_type": "execute_result"
    }
   ],
   "source": [
    "df['대출조달월'].value_counts()"
   ]
  },
  {
   "cell_type": "code",
   "execution_count": null,
   "id": "a1e7b8a1-2ebd-4df0-978f-9c7e62e9683e",
   "metadata": {},
   "outputs": [],
   "source": []
  },
  {
   "cell_type": "code",
   "execution_count": 32,
   "id": "63434bec-5457-41f7-bc02-65f83928b5f5",
   "metadata": {},
   "outputs": [],
   "source": [
    "df = df.drop(df[df['대출조달월'] == \"Source Verified\"].index)"
   ]
  },
  {
   "cell_type": "code",
   "execution_count": 33,
   "id": "7963ed7f-f841-471a-b853-50f288a57847",
   "metadata": {},
   "outputs": [
    {
     "data": {
      "text/plain": [
       "(2260700, 151)"
      ]
     },
     "execution_count": 33,
     "metadata": {},
     "output_type": "execute_result"
    }
   ],
   "source": [
    "df.shape"
   ]
  },
  {
   "cell_type": "code",
   "execution_count": 34,
   "id": "a7844d9a-7ea5-4a7f-9c94-0bdeb6219e31",
   "metadata": {},
   "outputs": [
    {
     "data": {
      "text/plain": [
       "0"
      ]
     },
     "execution_count": 34,
     "metadata": {},
     "output_type": "execute_result"
    }
   ],
   "source": [
    "df['대출조달월'].isnull().sum()"
   ]
  },
  {
   "cell_type": "code",
   "execution_count": 35,
   "id": "89cca080-7de4-4214-92bf-9b2337ad35d9",
   "metadata": {},
   "outputs": [],
   "source": [
    "df['대출조달월'] = df['대출조달월'].fillna(\"\")"
   ]
  },
  {
   "cell_type": "markdown",
   "id": "23bed2cf-6e0a-4751-bfc1-887f20b199a0",
   "metadata": {},
   "source": [
    "### 날짜를 변환 처리 "
   ]
  },
  {
   "cell_type": "code",
   "execution_count": 36,
   "id": "b8cae5ea-f748-43d5-8020-225bbcc814bb",
   "metadata": {},
   "outputs": [],
   "source": [
    "df['대출조달월_날짜변환'] = pd.to_datetime(df['대출조달월'])"
   ]
  },
  {
   "cell_type": "markdown",
   "id": "273ea66f-f34a-48da-a941-c5e6e0a1fb91",
   "metadata": {},
   "source": [
    "### 년도별 데이터 확인하기 "
   ]
  },
  {
   "cell_type": "code",
   "execution_count": 37,
   "id": "f1ef8b24-4101-4243-8bd5-d47dc3ca7421",
   "metadata": {},
   "outputs": [
    {
     "data": {
      "text/plain": [
       "2018.0    495242\n",
       "2017.0    443579\n",
       "2016.0    434407\n",
       "2015.0    421094\n",
       "2014.0    235629\n",
       "2013.0    134814\n",
       "2012.0     53367\n",
       "2011.0     21721\n",
       "2010.0     12537\n",
       "2009.0      5281\n",
       "2008.0      2393\n",
       "2007.0       603\n",
       "Name: 대출조달월_날짜변환, dtype: int64"
      ]
     },
     "execution_count": 37,
     "metadata": {},
     "output_type": "execute_result"
    }
   ],
   "source": [
    "(df['대출조달월_날짜변환'].dt.year).value_counts()"
   ]
  },
  {
   "cell_type": "markdown",
   "id": "9f94500c-ea25-4479-a144-e0ee9e0144ff",
   "metadata": {},
   "source": [
    "### 특정 연도 데이터만 선택하기 "
   ]
  },
  {
   "cell_type": "code",
   "execution_count": 38,
   "id": "6fb3b38b-0fa1-43f0-9a73-f2d134c2d71e",
   "metadata": {},
   "outputs": [
    {
     "data": {
      "text/plain": [
       "53367"
      ]
     },
     "execution_count": 38,
     "metadata": {},
     "output_type": "execute_result"
    }
   ],
   "source": [
    "(df['대출조달월_날짜변환'].dt.year == 2012.0).sum()"
   ]
  },
  {
   "cell_type": "code",
   "execution_count": 39,
   "id": "d27c5c0a-2e9d-409d-a621-728313e16032",
   "metadata": {},
   "outputs": [],
   "source": [
    "df_2012 = df[df['대출조달월_날짜변환'].dt.year == 2012.0]"
   ]
  },
  {
   "cell_type": "code",
   "execution_count": null,
   "id": "5ceb012a-3cd0-49a2-aaf9-603b674d3953",
   "metadata": {},
   "outputs": [],
   "source": []
  },
  {
   "cell_type": "code",
   "execution_count": 40,
   "id": "2a47df5d-e7d8-42b0-986c-a510c54a1ec9",
   "metadata": {},
   "outputs": [
    {
     "data": {
      "text/plain": [
       "(53367, 152)"
      ]
     },
     "execution_count": 40,
     "metadata": {},
     "output_type": "execute_result"
    }
   ],
   "source": [
    "df_2012.shape"
   ]
  },
  {
   "cell_type": "code",
   "execution_count": 41,
   "id": "0c3b70c2-6cb9-4ef0-b94e-a43e46b3b076",
   "metadata": {},
   "outputs": [
    {
     "name": "stdout",
     "output_type": "stream",
     "text": [
      "<class 'pandas.core.frame.DataFrame'>\n",
      "Int64Index: 53367 entries, 70023 to 2250550\n",
      "Columns: 152 entries, id to 대출조달월_날짜변환\n",
      "dtypes: datetime64[ns](1), float64(53), object(98)\n",
      "memory usage: 62.3+ MB\n"
     ]
    }
   ],
   "source": [
    "df_2012.info()"
   ]
  },
  {
   "cell_type": "code",
   "execution_count": 30,
   "id": "f3e4dbf3-65ba-46da-b81c-00116ae49cfa",
   "metadata": {},
   "outputs": [],
   "source": [
    "df_2012 = df_2012.drop('대출조달월_날짜변환',axis=1)"
   ]
  },
  {
   "cell_type": "code",
   "execution_count": 31,
   "id": "fadd071c-6137-435e-8162-e38cb657baeb",
   "metadata": {},
   "outputs": [
    {
     "data": {
      "text/plain": [
       "(53367, 151)"
      ]
     },
     "execution_count": 31,
     "metadata": {},
     "output_type": "execute_result"
    }
   ],
   "source": [
    "df_d_2012.shape"
   ]
  },
  {
   "cell_type": "markdown",
   "id": "c4278806-7c5e-42ab-9237-875a6506feac",
   "metadata": {},
   "source": [
    "### 특정 데이터만 저장하기 "
   ]
  },
  {
   "cell_type": "code",
   "execution_count": 33,
   "id": "d394a326-b5da-4860-8c75-fd177496d9be",
   "metadata": {},
   "outputs": [],
   "source": [
    "path_w = '/Users/a06411/Documents/GitHub/js_automl_pycaret/lending_club_data/lending_club_2012.csv'"
   ]
  },
  {
   "cell_type": "code",
   "execution_count": 34,
   "id": "97a306eb-6ab1-4e66-aa6b-f3d1c3d86861",
   "metadata": {},
   "outputs": [],
   "source": [
    "df_d_2012.to_csv(path_w)"
   ]
  },
  {
   "cell_type": "code",
   "execution_count": null,
   "id": "fbc928cc-e141-4d98-949c-f22c59ae9bee",
   "metadata": {},
   "outputs": [],
   "source": []
  },
  {
   "cell_type": "code",
   "execution_count": null,
   "id": "4a42dbe3-c95a-41df-9d1d-cd04f5821316",
   "metadata": {},
   "outputs": [],
   "source": []
  },
  {
   "cell_type": "code",
   "execution_count": null,
   "id": "aa661c4a-9f36-4166-ada5-51795998ff90",
   "metadata": {},
   "outputs": [],
   "source": []
  }
 ],
 "metadata": {
  "kernelspec": {
   "display_name": "Python 3 (ipykernel)",
   "language": "python",
   "name": "python3"
  },
  "language_info": {
   "codemirror_mode": {
    "name": "ipython",
    "version": 3
   },
   "file_extension": ".py",
   "mimetype": "text/x-python",
   "name": "python",
   "nbconvert_exporter": "python",
   "pygments_lexer": "ipython3",
   "version": "3.9.16"
  }
 },
 "nbformat": 4,
 "nbformat_minor": 5
}
