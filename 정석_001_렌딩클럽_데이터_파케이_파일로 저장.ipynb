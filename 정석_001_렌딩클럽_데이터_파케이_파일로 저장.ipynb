{
 "cells": [
  {
   "cell_type": "markdown",
   "id": "78935a3d-1c64-4602-bb63-5c75ee61fbee",
   "metadata": {},
   "source": [
    "# 1. 판다스 처리 확인 "
   ]
  },
  {
   "cell_type": "code",
   "execution_count": 1,
   "id": "c634570c",
   "metadata": {},
   "outputs": [],
   "source": [
    "import pandas as pd"
   ]
  },
  {
   "cell_type": "code",
   "execution_count": 2,
   "id": "cd847ba9-9c12-4808-97df-f0b6426d75c3",
   "metadata": {},
   "outputs": [
    {
     "data": {
      "text/plain": [
       "'1.5.3'"
      ]
     },
     "execution_count": 2,
     "metadata": {},
     "output_type": "execute_result"
    }
   ],
   "source": [
    "pd.__version__"
   ]
  },
  {
   "cell_type": "markdown",
   "id": "eef81835-ee40-4c9c-9e59-82b8c4a1aa9d",
   "metadata": {},
   "source": [
    "## 매직명령으로 현재 디렉토리 확인 "
   ]
  },
  {
   "cell_type": "code",
   "execution_count": 3,
   "id": "5b8df656",
   "metadata": {},
   "outputs": [
    {
     "data": {
      "text/plain": [
       "'/Users/a06411/Documents/GitHub/js_automl_pycaret'"
      ]
     },
     "execution_count": 3,
     "metadata": {},
     "output_type": "execute_result"
    }
   ],
   "source": [
    "%pwd"
   ]
  },
  {
   "cell_type": "markdown",
   "id": "879c921d-95e0-4279-a6de-fab1c47cec72",
   "metadata": {},
   "source": [
    "## 렌딩클럽 데이터 확인 "
   ]
  },
  {
   "cell_type": "code",
   "execution_count": 5,
   "id": "4e32ab44",
   "metadata": {},
   "outputs": [],
   "source": [
    "path = \"/Users/a06411/Documents/data_hub/lending_club/lending_club.csv\""
   ]
  },
  {
   "cell_type": "markdown",
   "id": "6600562c-1151-4cb5-8f51-a20d3e6b609f",
   "metadata": {},
   "source": [
    "## 렌딩클럽 데이터를 판다스로 읽기"
   ]
  },
  {
   "cell_type": "code",
   "execution_count": 6,
   "id": "032105fe",
   "metadata": {},
   "outputs": [
    {
     "name": "stderr",
     "output_type": "stream",
     "text": [
      "/var/folders/h4/44486vyn1_xbs13g1z50l5m00000gn/T/ipykernel_31824/8498173.py:2: DtypeWarning: Columns (0,19,49,59,118,129,130,131,134,135,136,139,145,146,147) have mixed types. Specify dtype option on import or set low_memory=False.\n",
      "  data = pd.read_csv(path)\n"
     ]
    }
   ],
   "source": [
    "# 데이터 불러오기\n",
    "data = pd.read_csv(path)"
   ]
  },
  {
   "cell_type": "markdown",
   "id": "f717dae2-9fb7-4754-b0b0-2eee053710ed",
   "metadata": {},
   "source": [
    "## 데이터 정보 확인 "
   ]
  },
  {
   "cell_type": "code",
   "execution_count": 7,
   "id": "b874acd2",
   "metadata": {},
   "outputs": [
    {
     "data": {
      "text/html": [
       "<div>\n",
       "<style scoped>\n",
       "    .dataframe tbody tr th:only-of-type {\n",
       "        vertical-align: middle;\n",
       "    }\n",
       "\n",
       "    .dataframe tbody tr th {\n",
       "        vertical-align: top;\n",
       "    }\n",
       "\n",
       "    .dataframe thead th {\n",
       "        text-align: right;\n",
       "    }\n",
       "</style>\n",
       "<table border=\"1\" class=\"dataframe\">\n",
       "  <thead>\n",
       "    <tr style=\"text-align: right;\">\n",
       "      <th></th>\n",
       "      <th>id</th>\n",
       "      <th>member_id</th>\n",
       "      <th>loan_amnt</th>\n",
       "      <th>funded_amnt</th>\n",
       "      <th>funded_amnt_inv</th>\n",
       "      <th>term</th>\n",
       "      <th>int_rate</th>\n",
       "      <th>installment</th>\n",
       "      <th>grade</th>\n",
       "      <th>sub_grade</th>\n",
       "      <th>...</th>\n",
       "      <th>hardship_payoff_balance_amount</th>\n",
       "      <th>hardship_last_payment_amount</th>\n",
       "      <th>disbursement_method</th>\n",
       "      <th>debt_settlement_flag</th>\n",
       "      <th>debt_settlement_flag_date</th>\n",
       "      <th>settlement_status</th>\n",
       "      <th>settlement_date</th>\n",
       "      <th>settlement_amount</th>\n",
       "      <th>settlement_percentage</th>\n",
       "      <th>settlement_term</th>\n",
       "    </tr>\n",
       "  </thead>\n",
       "  <tbody>\n",
       "    <tr>\n",
       "      <th>0</th>\n",
       "      <td>68407277</td>\n",
       "      <td>NaN</td>\n",
       "      <td>3600.0</td>\n",
       "      <td>3600.0</td>\n",
       "      <td>3600.0</td>\n",
       "      <td>36 months</td>\n",
       "      <td>13.99</td>\n",
       "      <td>123.03</td>\n",
       "      <td>C</td>\n",
       "      <td>C4</td>\n",
       "      <td>...</td>\n",
       "      <td>NaN</td>\n",
       "      <td>NaN</td>\n",
       "      <td>Cash</td>\n",
       "      <td>N</td>\n",
       "      <td>NaN</td>\n",
       "      <td>NaN</td>\n",
       "      <td>NaN</td>\n",
       "      <td>NaN</td>\n",
       "      <td>NaN</td>\n",
       "      <td>NaN</td>\n",
       "    </tr>\n",
       "    <tr>\n",
       "      <th>1</th>\n",
       "      <td>68355089</td>\n",
       "      <td>NaN</td>\n",
       "      <td>24700.0</td>\n",
       "      <td>24700.0</td>\n",
       "      <td>24700.0</td>\n",
       "      <td>36 months</td>\n",
       "      <td>11.99</td>\n",
       "      <td>820.28</td>\n",
       "      <td>C</td>\n",
       "      <td>C1</td>\n",
       "      <td>...</td>\n",
       "      <td>NaN</td>\n",
       "      <td>NaN</td>\n",
       "      <td>Cash</td>\n",
       "      <td>N</td>\n",
       "      <td>NaN</td>\n",
       "      <td>NaN</td>\n",
       "      <td>NaN</td>\n",
       "      <td>NaN</td>\n",
       "      <td>NaN</td>\n",
       "      <td>NaN</td>\n",
       "    </tr>\n",
       "    <tr>\n",
       "      <th>2</th>\n",
       "      <td>68341763</td>\n",
       "      <td>NaN</td>\n",
       "      <td>20000.0</td>\n",
       "      <td>20000.0</td>\n",
       "      <td>20000.0</td>\n",
       "      <td>60 months</td>\n",
       "      <td>10.78</td>\n",
       "      <td>432.66</td>\n",
       "      <td>B</td>\n",
       "      <td>B4</td>\n",
       "      <td>...</td>\n",
       "      <td>NaN</td>\n",
       "      <td>NaN</td>\n",
       "      <td>Cash</td>\n",
       "      <td>N</td>\n",
       "      <td>NaN</td>\n",
       "      <td>NaN</td>\n",
       "      <td>NaN</td>\n",
       "      <td>NaN</td>\n",
       "      <td>NaN</td>\n",
       "      <td>NaN</td>\n",
       "    </tr>\n",
       "    <tr>\n",
       "      <th>3</th>\n",
       "      <td>66310712</td>\n",
       "      <td>NaN</td>\n",
       "      <td>35000.0</td>\n",
       "      <td>35000.0</td>\n",
       "      <td>35000.0</td>\n",
       "      <td>60 months</td>\n",
       "      <td>14.85</td>\n",
       "      <td>829.90</td>\n",
       "      <td>C</td>\n",
       "      <td>C5</td>\n",
       "      <td>...</td>\n",
       "      <td>NaN</td>\n",
       "      <td>NaN</td>\n",
       "      <td>Cash</td>\n",
       "      <td>N</td>\n",
       "      <td>NaN</td>\n",
       "      <td>NaN</td>\n",
       "      <td>NaN</td>\n",
       "      <td>NaN</td>\n",
       "      <td>NaN</td>\n",
       "      <td>NaN</td>\n",
       "    </tr>\n",
       "    <tr>\n",
       "      <th>4</th>\n",
       "      <td>68476807</td>\n",
       "      <td>NaN</td>\n",
       "      <td>10400.0</td>\n",
       "      <td>10400.0</td>\n",
       "      <td>10400.0</td>\n",
       "      <td>60 months</td>\n",
       "      <td>22.45</td>\n",
       "      <td>289.91</td>\n",
       "      <td>F</td>\n",
       "      <td>F1</td>\n",
       "      <td>...</td>\n",
       "      <td>NaN</td>\n",
       "      <td>NaN</td>\n",
       "      <td>Cash</td>\n",
       "      <td>N</td>\n",
       "      <td>NaN</td>\n",
       "      <td>NaN</td>\n",
       "      <td>NaN</td>\n",
       "      <td>NaN</td>\n",
       "      <td>NaN</td>\n",
       "      <td>NaN</td>\n",
       "    </tr>\n",
       "  </tbody>\n",
       "</table>\n",
       "<p>5 rows × 151 columns</p>\n",
       "</div>"
      ],
      "text/plain": [
       "         id  member_id  loan_amnt  funded_amnt  funded_amnt_inv        term  \\\n",
       "0  68407277        NaN     3600.0       3600.0           3600.0   36 months   \n",
       "1  68355089        NaN    24700.0      24700.0          24700.0   36 months   \n",
       "2  68341763        NaN    20000.0      20000.0          20000.0   60 months   \n",
       "3  66310712        NaN    35000.0      35000.0          35000.0   60 months   \n",
       "4  68476807        NaN    10400.0      10400.0          10400.0   60 months   \n",
       "\n",
       "   int_rate  installment grade sub_grade  ... hardship_payoff_balance_amount  \\\n",
       "0     13.99       123.03     C        C4  ...                            NaN   \n",
       "1     11.99       820.28     C        C1  ...                            NaN   \n",
       "2     10.78       432.66     B        B4  ...                            NaN   \n",
       "3     14.85       829.90     C        C5  ...                            NaN   \n",
       "4     22.45       289.91     F        F1  ...                            NaN   \n",
       "\n",
       "  hardship_last_payment_amount disbursement_method  debt_settlement_flag  \\\n",
       "0                          NaN                Cash                     N   \n",
       "1                          NaN                Cash                     N   \n",
       "2                          NaN                Cash                     N   \n",
       "3                          NaN                Cash                     N   \n",
       "4                          NaN                Cash                     N   \n",
       "\n",
       "  debt_settlement_flag_date settlement_status settlement_date  \\\n",
       "0                       NaN               NaN             NaN   \n",
       "1                       NaN               NaN             NaN   \n",
       "2                       NaN               NaN             NaN   \n",
       "3                       NaN               NaN             NaN   \n",
       "4                       NaN               NaN             NaN   \n",
       "\n",
       "  settlement_amount settlement_percentage settlement_term  \n",
       "0               NaN                   NaN             NaN  \n",
       "1               NaN                   NaN             NaN  \n",
       "2               NaN                   NaN             NaN  \n",
       "3               NaN                   NaN             NaN  \n",
       "4               NaN                   NaN             NaN  \n",
       "\n",
       "[5 rows x 151 columns]"
      ]
     },
     "execution_count": 7,
     "metadata": {},
     "output_type": "execute_result"
    }
   ],
   "source": [
    "data.head()"
   ]
  },
  {
   "cell_type": "code",
   "execution_count": 8,
   "id": "2a08f7f0-b00c-4a66-a5c8-fa42419af577",
   "metadata": {},
   "outputs": [
    {
     "data": {
      "text/html": [
       "<div>\n",
       "<style scoped>\n",
       "    .dataframe tbody tr th:only-of-type {\n",
       "        vertical-align: middle;\n",
       "    }\n",
       "\n",
       "    .dataframe tbody tr th {\n",
       "        vertical-align: top;\n",
       "    }\n",
       "\n",
       "    .dataframe thead th {\n",
       "        text-align: right;\n",
       "    }\n",
       "</style>\n",
       "<table border=\"1\" class=\"dataframe\">\n",
       "  <thead>\n",
       "    <tr style=\"text-align: right;\">\n",
       "      <th></th>\n",
       "      <th>id</th>\n",
       "      <th>member_id</th>\n",
       "      <th>loan_amnt</th>\n",
       "      <th>funded_amnt</th>\n",
       "      <th>funded_amnt_inv</th>\n",
       "      <th>term</th>\n",
       "      <th>int_rate</th>\n",
       "      <th>installment</th>\n",
       "      <th>grade</th>\n",
       "      <th>sub_grade</th>\n",
       "      <th>...</th>\n",
       "      <th>hardship_payoff_balance_amount</th>\n",
       "      <th>hardship_last_payment_amount</th>\n",
       "      <th>disbursement_method</th>\n",
       "      <th>debt_settlement_flag</th>\n",
       "      <th>debt_settlement_flag_date</th>\n",
       "      <th>settlement_status</th>\n",
       "      <th>settlement_date</th>\n",
       "      <th>settlement_amount</th>\n",
       "      <th>settlement_percentage</th>\n",
       "      <th>settlement_term</th>\n",
       "    </tr>\n",
       "  </thead>\n",
       "  <tbody>\n",
       "    <tr>\n",
       "      <th>2260696</th>\n",
       "      <td>88985880</td>\n",
       "      <td>NaN</td>\n",
       "      <td>40000.0</td>\n",
       "      <td>40000.0</td>\n",
       "      <td>40000.0</td>\n",
       "      <td>60 months</td>\n",
       "      <td>10.49</td>\n",
       "      <td>859.56</td>\n",
       "      <td>B</td>\n",
       "      <td>B3</td>\n",
       "      <td>...</td>\n",
       "      <td>NaN</td>\n",
       "      <td>NaN</td>\n",
       "      <td>Cash</td>\n",
       "      <td>N</td>\n",
       "      <td>NaN</td>\n",
       "      <td>NaN</td>\n",
       "      <td>NaN</td>\n",
       "      <td>NaN</td>\n",
       "      <td>NaN</td>\n",
       "      <td>NaN</td>\n",
       "    </tr>\n",
       "    <tr>\n",
       "      <th>2260697</th>\n",
       "      <td>88224441</td>\n",
       "      <td>NaN</td>\n",
       "      <td>24000.0</td>\n",
       "      <td>24000.0</td>\n",
       "      <td>24000.0</td>\n",
       "      <td>60 months</td>\n",
       "      <td>14.49</td>\n",
       "      <td>564.56</td>\n",
       "      <td>C</td>\n",
       "      <td>C4</td>\n",
       "      <td>...</td>\n",
       "      <td>NaN</td>\n",
       "      <td>NaN</td>\n",
       "      <td>Cash</td>\n",
       "      <td>Y</td>\n",
       "      <td>Mar-2019</td>\n",
       "      <td>ACTIVE</td>\n",
       "      <td>Mar-2019</td>\n",
       "      <td>10000.0</td>\n",
       "      <td>44.82</td>\n",
       "      <td>1.0</td>\n",
       "    </tr>\n",
       "    <tr>\n",
       "      <th>2260698</th>\n",
       "      <td>88215728</td>\n",
       "      <td>NaN</td>\n",
       "      <td>14000.0</td>\n",
       "      <td>14000.0</td>\n",
       "      <td>14000.0</td>\n",
       "      <td>60 months</td>\n",
       "      <td>14.49</td>\n",
       "      <td>329.33</td>\n",
       "      <td>C</td>\n",
       "      <td>C4</td>\n",
       "      <td>...</td>\n",
       "      <td>NaN</td>\n",
       "      <td>NaN</td>\n",
       "      <td>Cash</td>\n",
       "      <td>N</td>\n",
       "      <td>NaN</td>\n",
       "      <td>NaN</td>\n",
       "      <td>NaN</td>\n",
       "      <td>NaN</td>\n",
       "      <td>NaN</td>\n",
       "      <td>NaN</td>\n",
       "    </tr>\n",
       "    <tr>\n",
       "      <th>2260699</th>\n",
       "      <td>Total amount funded in policy code 1: 1465324575</td>\n",
       "      <td>NaN</td>\n",
       "      <td>NaN</td>\n",
       "      <td>NaN</td>\n",
       "      <td>NaN</td>\n",
       "      <td>NaN</td>\n",
       "      <td>NaN</td>\n",
       "      <td>NaN</td>\n",
       "      <td>NaN</td>\n",
       "      <td>NaN</td>\n",
       "      <td>...</td>\n",
       "      <td>NaN</td>\n",
       "      <td>NaN</td>\n",
       "      <td>NaN</td>\n",
       "      <td>NaN</td>\n",
       "      <td>NaN</td>\n",
       "      <td>NaN</td>\n",
       "      <td>NaN</td>\n",
       "      <td>NaN</td>\n",
       "      <td>NaN</td>\n",
       "      <td>NaN</td>\n",
       "    </tr>\n",
       "    <tr>\n",
       "      <th>2260700</th>\n",
       "      <td>Total amount funded in policy code 2: 521953170</td>\n",
       "      <td>NaN</td>\n",
       "      <td>NaN</td>\n",
       "      <td>NaN</td>\n",
       "      <td>NaN</td>\n",
       "      <td>NaN</td>\n",
       "      <td>NaN</td>\n",
       "      <td>NaN</td>\n",
       "      <td>NaN</td>\n",
       "      <td>NaN</td>\n",
       "      <td>...</td>\n",
       "      <td>NaN</td>\n",
       "      <td>NaN</td>\n",
       "      <td>NaN</td>\n",
       "      <td>NaN</td>\n",
       "      <td>NaN</td>\n",
       "      <td>NaN</td>\n",
       "      <td>NaN</td>\n",
       "      <td>NaN</td>\n",
       "      <td>NaN</td>\n",
       "      <td>NaN</td>\n",
       "    </tr>\n",
       "  </tbody>\n",
       "</table>\n",
       "<p>5 rows × 151 columns</p>\n",
       "</div>"
      ],
      "text/plain": [
       "                                                       id  member_id  \\\n",
       "2260696                                          88985880        NaN   \n",
       "2260697                                          88224441        NaN   \n",
       "2260698                                          88215728        NaN   \n",
       "2260699  Total amount funded in policy code 1: 1465324575        NaN   \n",
       "2260700   Total amount funded in policy code 2: 521953170        NaN   \n",
       "\n",
       "         loan_amnt  funded_amnt  funded_amnt_inv        term  int_rate  \\\n",
       "2260696    40000.0      40000.0          40000.0   60 months     10.49   \n",
       "2260697    24000.0      24000.0          24000.0   60 months     14.49   \n",
       "2260698    14000.0      14000.0          14000.0   60 months     14.49   \n",
       "2260699        NaN          NaN              NaN         NaN       NaN   \n",
       "2260700        NaN          NaN              NaN         NaN       NaN   \n",
       "\n",
       "         installment grade sub_grade  ... hardship_payoff_balance_amount  \\\n",
       "2260696       859.56     B        B3  ...                            NaN   \n",
       "2260697       564.56     C        C4  ...                            NaN   \n",
       "2260698       329.33     C        C4  ...                            NaN   \n",
       "2260699          NaN   NaN       NaN  ...                            NaN   \n",
       "2260700          NaN   NaN       NaN  ...                            NaN   \n",
       "\n",
       "        hardship_last_payment_amount disbursement_method  \\\n",
       "2260696                          NaN                Cash   \n",
       "2260697                          NaN                Cash   \n",
       "2260698                          NaN                Cash   \n",
       "2260699                          NaN                 NaN   \n",
       "2260700                          NaN                 NaN   \n",
       "\n",
       "         debt_settlement_flag debt_settlement_flag_date settlement_status  \\\n",
       "2260696                     N                       NaN               NaN   \n",
       "2260697                     Y                  Mar-2019            ACTIVE   \n",
       "2260698                     N                       NaN               NaN   \n",
       "2260699                   NaN                       NaN               NaN   \n",
       "2260700                   NaN                       NaN               NaN   \n",
       "\n",
       "        settlement_date settlement_amount settlement_percentage  \\\n",
       "2260696             NaN               NaN                   NaN   \n",
       "2260697        Mar-2019           10000.0                 44.82   \n",
       "2260698             NaN               NaN                   NaN   \n",
       "2260699             NaN               NaN                   NaN   \n",
       "2260700             NaN               NaN                   NaN   \n",
       "\n",
       "        settlement_term  \n",
       "2260696             NaN  \n",
       "2260697             1.0  \n",
       "2260698             NaN  \n",
       "2260699             NaN  \n",
       "2260700             NaN  \n",
       "\n",
       "[5 rows x 151 columns]"
      ]
     },
     "execution_count": 8,
     "metadata": {},
     "output_type": "execute_result"
    }
   ],
   "source": [
    "data.tail()"
   ]
  },
  {
   "cell_type": "markdown",
   "id": "00b1c542-59f2-4c66-8cdb-047d1f55ddba",
   "metadata": {},
   "source": [
    "## 데이터의 행과 열 확인 "
   ]
  },
  {
   "cell_type": "code",
   "execution_count": 9,
   "id": "338a421c",
   "metadata": {},
   "outputs": [
    {
     "data": {
      "text/plain": [
       "(2260701, 151)"
      ]
     },
     "execution_count": 9,
     "metadata": {},
     "output_type": "execute_result"
    }
   ],
   "source": [
    "data.shape"
   ]
  },
  {
   "cell_type": "markdown",
   "id": "cb01a5b8-4fa3-4b2b-a61b-e084a36fdddf",
   "metadata": {},
   "source": [
    "# 2. 스파크 정보 확인 "
   ]
  },
  {
   "cell_type": "markdown",
   "id": "24fa0fbc-d89e-48d3-b5d0-aed0e95e00c4",
   "metadata": {},
   "source": [
    "## 스파크 정보 확인 "
   ]
  },
  {
   "cell_type": "code",
   "execution_count": 9,
   "id": "69921b19-b25e-4eb7-b2e6-b078ff7d8f9d",
   "metadata": {},
   "outputs": [],
   "source": [
    "import findspark"
   ]
  },
  {
   "cell_type": "code",
   "execution_count": 11,
   "id": "ff03a3ab-534e-4d19-9ab1-9cdbaa87ffb9",
   "metadata": {},
   "outputs": [
    {
     "data": {
      "text/plain": [
       "'/Users/a06411/opt/anaconda3/envs/pycaret/lib/python3.9/site-packages/pyspark'"
      ]
     },
     "execution_count": 11,
     "metadata": {},
     "output_type": "execute_result"
    }
   ],
   "source": [
    "findspark.find()"
   ]
  },
  {
   "cell_type": "code",
   "execution_count": null,
   "id": "a521ca01-fb3f-422a-89a0-7dff54a09e04",
   "metadata": {},
   "outputs": [],
   "source": []
  },
  {
   "cell_type": "markdown",
   "id": "90d5aaa7-eef1-4e94-8157-0af3f93ed00d",
   "metadata": {},
   "source": [
    "## 스파크 세션 처리 "
   ]
  },
  {
   "cell_type": "code",
   "execution_count": 12,
   "id": "1cefe896",
   "metadata": {},
   "outputs": [],
   "source": [
    "import pyspark\n",
    "from pyspark.sql import SparkSession"
   ]
  },
  {
   "cell_type": "code",
   "execution_count": 13,
   "id": "87e4506e-ae35-42f1-8270-4db6bd62b213",
   "metadata": {},
   "outputs": [
    {
     "data": {
      "text/plain": [
       "'3.4.1'"
      ]
     },
     "execution_count": 13,
     "metadata": {},
     "output_type": "execute_result"
    }
   ],
   "source": [
    "pyspark.__version__"
   ]
  },
  {
   "cell_type": "code",
   "execution_count": null,
   "id": "3b857c22-8ee1-4b36-8416-6737db0b92c3",
   "metadata": {},
   "outputs": [],
   "source": []
  },
  {
   "cell_type": "markdown",
   "id": "6f6b187c-64a2-4849-9f03-21d274759f98",
   "metadata": {},
   "source": [
    "## 세부 세션정보 처리\n",
    "\n",
    "- 호스트 정보는 필수가 아님"
   ]
  },
  {
   "cell_type": "code",
   "execution_count": 14,
   "id": "7f446381",
   "metadata": {},
   "outputs": [
    {
     "name": "stderr",
     "output_type": "stream",
     "text": [
      "Setting default log level to \"WARN\".\n",
      "To adjust logging level use sc.setLogLevel(newLevel). For SparkR, use setLogLevel(newLevel).\n",
      "23/09/12 04:40:33 WARN NativeCodeLoader: Unable to load native-hadoop library for your platform... using builtin-java classes where applicable\n"
     ]
    }
   ],
   "source": [
    "# Create SparkSession \n",
    "spark = (SparkSession.builder \n",
    "      .config(\"spark.driver.host\",\"127.0.0.1\") \n",
    "      .config(\"spark.driver.bindAddress\",\"127.0.0.1\")\n",
    "      .appName(\"SparkByExamples.com\") \n",
    "      .getOrCreate() )"
   ]
  },
  {
   "cell_type": "markdown",
   "id": "0ff1ea22-eee8-4323-bad2-f97cde2c153b",
   "metadata": {},
   "source": [
    "## 스파크로 csv 파일 읽기 "
   ]
  },
  {
   "cell_type": "code",
   "execution_count": 15,
   "id": "9777c175",
   "metadata": {},
   "outputs": [
    {
     "name": "stderr",
     "output_type": "stream",
     "text": [
      "                                                                                \r"
     ]
    }
   ],
   "source": [
    "sp_data = spark.read.csv(path, header=True, inferSchema=True)"
   ]
  },
  {
   "cell_type": "markdown",
   "id": "b50032bc-923a-4a91-b67d-ae81c278bf06",
   "metadata": {},
   "source": [
    "## 여러 파티션으로 분리 "
   ]
  },
  {
   "cell_type": "code",
   "execution_count": 16,
   "id": "1c738784",
   "metadata": {},
   "outputs": [],
   "source": [
    "# 데이터를 80메가 크기로 분할\n",
    "repartitioned_data = sp_data.repartition(26)  # 26개의 파티션으로 분할 (2GB / 80MB = 26)\n"
   ]
  },
  {
   "cell_type": "markdown",
   "id": "5c2d88a8-9a1b-4bbd-9539-a15936877923",
   "metadata": {},
   "source": [
    "## 파케이로 저장하기 "
   ]
  },
  {
   "cell_type": "code",
   "execution_count": 17,
   "id": "2d47072e",
   "metadata": {},
   "outputs": [
    {
     "name": "stderr",
     "output_type": "stream",
     "text": [
      "23/09/12 04:41:53 WARN package: Truncated the string representation of a plan since it was too large. This behavior can be adjusted by setting 'spark.sql.debug.maxToStringFields'.\n",
      "23/09/12 04:42:07 WARN MemoryManager: Total allocation exceeds 95.00% (1,020,054,720 bytes) of heap memory\n",
      "Scaling row group sizes to 95.00% for 8 writers\n",
      "23/09/12 04:42:07 WARN MemoryManager: Total allocation exceeds 95.00% (1,020,054,720 bytes) of heap memory\n",
      "Scaling row group sizes to 84.44% for 9 writers\n",
      "23/09/12 04:42:07 WARN MemoryManager: Total allocation exceeds 95.00% (1,020,054,720 bytes) of heap memory\n",
      "Scaling row group sizes to 76.00% for 10 writers\n",
      "23/09/12 04:42:11 WARN MemoryManager: Total allocation exceeds 95.00% (1,020,054,720 bytes) of heap memory\n",
      "Scaling row group sizes to 84.44% for 9 writers\n",
      "23/09/12 04:42:11 WARN MemoryManager: Total allocation exceeds 95.00% (1,020,054,720 bytes) of heap memory\n",
      "Scaling row group sizes to 95.00% for 8 writers\n",
      "23/09/12 04:42:12 WARN MemoryManager: Total allocation exceeds 95.00% (1,020,054,720 bytes) of heap memory\n",
      "Scaling row group sizes to 95.00% for 8 writers\n",
      "23/09/12 04:42:12 WARN MemoryManager: Total allocation exceeds 95.00% (1,020,054,720 bytes) of heap memory\n",
      "Scaling row group sizes to 84.44% for 9 writers\n",
      "23/09/12 04:42:12 WARN MemoryManager: Total allocation exceeds 95.00% (1,020,054,720 bytes) of heap memory\n",
      "Scaling row group sizes to 76.00% for 10 writers\n",
      "23/09/12 04:42:12 WARN MemoryManager: Total allocation exceeds 95.00% (1,020,054,720 bytes) of heap memory\n",
      "Scaling row group sizes to 84.44% for 9 writers\n",
      "23/09/12 04:42:12 WARN MemoryManager: Total allocation exceeds 95.00% (1,020,054,720 bytes) of heap memory\n",
      "Scaling row group sizes to 76.00% for 10 writers\n",
      "23/09/12 04:42:12 WARN MemoryManager: Total allocation exceeds 95.00% (1,020,054,720 bytes) of heap memory\n",
      "Scaling row group sizes to 84.44% for 9 writers\n",
      "23/09/12 04:42:12 WARN MemoryManager: Total allocation exceeds 95.00% (1,020,054,720 bytes) of heap memory\n",
      "Scaling row group sizes to 76.00% for 10 writers\n",
      "23/09/12 04:42:12 WARN MemoryManager: Total allocation exceeds 95.00% (1,020,054,720 bytes) of heap memory\n",
      "Scaling row group sizes to 84.44% for 9 writers\n",
      "23/09/12 04:42:12 WARN MemoryManager: Total allocation exceeds 95.00% (1,020,054,720 bytes) of heap memory\n",
      "Scaling row group sizes to 95.00% for 8 writers\n",
      "23/09/12 04:42:13 WARN MemoryManager: Total allocation exceeds 95.00% (1,020,054,720 bytes) of heap memory\n",
      "Scaling row group sizes to 95.00% for 8 writers\n",
      "23/09/12 04:42:13 WARN MemoryManager: Total allocation exceeds 95.00% (1,020,054,720 bytes) of heap memory\n",
      "Scaling row group sizes to 84.44% for 9 writers\n",
      "23/09/12 04:42:13 WARN MemoryManager: Total allocation exceeds 95.00% (1,020,054,720 bytes) of heap memory\n",
      "Scaling row group sizes to 76.00% for 10 writers\n",
      "23/09/12 04:42:15 WARN MemoryManager: Total allocation exceeds 95.00% (1,020,054,720 bytes) of heap memory\n",
      "Scaling row group sizes to 84.44% for 9 writers\n",
      "23/09/12 04:42:15 WARN MemoryManager: Total allocation exceeds 95.00% (1,020,054,720 bytes) of heap memory\n",
      "Scaling row group sizes to 76.00% for 10 writers\n",
      "23/09/12 04:42:15 WARN MemoryManager: Total allocation exceeds 95.00% (1,020,054,720 bytes) of heap memory\n",
      "Scaling row group sizes to 84.44% for 9 writers\n",
      "23/09/12 04:42:15 WARN MemoryManager: Total allocation exceeds 95.00% (1,020,054,720 bytes) of heap memory\n",
      "Scaling row group sizes to 95.00% for 8 writers\n",
      "23/09/12 04:42:15 WARN MemoryManager: Total allocation exceeds 95.00% (1,020,054,720 bytes) of heap memory\n",
      "Scaling row group sizes to 84.44% for 9 writers\n",
      "23/09/12 04:42:16 WARN MemoryManager: Total allocation exceeds 95.00% (1,020,054,720 bytes) of heap memory\n",
      "Scaling row group sizes to 76.00% for 10 writers\n",
      "23/09/12 04:42:16 WARN MemoryManager: Total allocation exceeds 95.00% (1,020,054,720 bytes) of heap memory\n",
      "Scaling row group sizes to 84.44% for 9 writers\n",
      "23/09/12 04:42:16 WARN MemoryManager: Total allocation exceeds 95.00% (1,020,054,720 bytes) of heap memory\n",
      "Scaling row group sizes to 95.00% for 8 writers\n",
      "23/09/12 04:42:16 WARN MemoryManager: Total allocation exceeds 95.00% (1,020,054,720 bytes) of heap memory\n",
      "Scaling row group sizes to 84.44% for 9 writers\n",
      "23/09/12 04:42:16 WARN MemoryManager: Total allocation exceeds 95.00% (1,020,054,720 bytes) of heap memory\n",
      "Scaling row group sizes to 95.00% for 8 writers\n",
      "23/09/12 04:42:16 WARN MemoryManager: Total allocation exceeds 95.00% (1,020,054,720 bytes) of heap memory\n",
      "Scaling row group sizes to 84.44% for 9 writers\n",
      "23/09/12 04:42:16 WARN MemoryManager: Total allocation exceeds 95.00% (1,020,054,720 bytes) of heap memory\n",
      "Scaling row group sizes to 76.00% for 10 writers\n",
      "23/09/12 04:42:17 WARN MemoryManager: Total allocation exceeds 95.00% (1,020,054,720 bytes) of heap memory\n",
      "Scaling row group sizes to 84.44% for 9 writers\n",
      "23/09/12 04:42:17 WARN MemoryManager: Total allocation exceeds 95.00% (1,020,054,720 bytes) of heap memory\n",
      "Scaling row group sizes to 95.00% for 8 writers\n",
      "                                                                                \r"
     ]
    }
   ],
   "source": [
    "# 분할된 데이터를 저장\n",
    "repartitioned_data.write.format(\"parquet\").mode(\"overwrite\").save(f\"./data/lending_club_parquet/\")"
   ]
  },
  {
   "cell_type": "markdown",
   "id": "b9c7bf7d-5aa8-4996-a021-4abe015ad732",
   "metadata": {},
   "source": [
    "## 저장된 파케이 읽기 "
   ]
  },
  {
   "cell_type": "code",
   "execution_count": 18,
   "id": "4f245a4a",
   "metadata": {},
   "outputs": [],
   "source": [
    "parquet_data = spark.read.parquet(\"./data/lending_club_parquet\")"
   ]
  },
  {
   "cell_type": "markdown",
   "id": "7a104e47-1351-42cf-8cba-26618bd94c89",
   "metadata": {},
   "source": [
    "## 데이터 정보 확인 "
   ]
  },
  {
   "cell_type": "code",
   "execution_count": 19,
   "id": "0e0ae96f",
   "metadata": {},
   "outputs": [
    {
     "name": "stdout",
     "output_type": "stream",
     "text": [
      "데이터 건수: 2260701\n"
     ]
    }
   ],
   "source": [
    "# 데이터 건수 확인\n",
    "count = parquet_data.count()\n",
    "print(\"데이터 건수:\", count)"
   ]
  },
  {
   "cell_type": "markdown",
   "id": "acd9136d-2ec3-42cd-b2bd-50b16607018c",
   "metadata": {},
   "source": [
    "## 판다스로 파케이 읽기\n",
    "\n",
    "- 특화된 하나의 파일만 처리 "
   ]
  },
  {
   "cell_type": "code",
   "execution_count": 21,
   "id": "ec319007",
   "metadata": {},
   "outputs": [],
   "source": [
    "# 파케이 파일 읽기\n",
    "parquet_data = pd.read_parquet(\"./data/lending_club_parquet/\")"
   ]
  },
  {
   "cell_type": "code",
   "execution_count": 22,
   "id": "040d8ffb",
   "metadata": {},
   "outputs": [
    {
     "data": {
      "text/plain": [
       "(2260701, 151)"
      ]
     },
     "execution_count": 22,
     "metadata": {},
     "output_type": "execute_result"
    }
   ],
   "source": [
    "parquet_data.shape"
   ]
  },
  {
   "cell_type": "code",
   "execution_count": null,
   "id": "4dcc07c4",
   "metadata": {},
   "outputs": [],
   "source": []
  }
 ],
 "metadata": {
  "kernelspec": {
   "display_name": "Python 3 (ipykernel)",
   "language": "python",
   "name": "python3"
  },
  "language_info": {
   "codemirror_mode": {
    "name": "ipython",
    "version": 3
   },
   "file_extension": ".py",
   "mimetype": "text/x-python",
   "name": "python",
   "nbconvert_exporter": "python",
   "pygments_lexer": "ipython3",
   "version": "3.9.16"
  }
 },
 "nbformat": 4,
 "nbformat_minor": 5
}
