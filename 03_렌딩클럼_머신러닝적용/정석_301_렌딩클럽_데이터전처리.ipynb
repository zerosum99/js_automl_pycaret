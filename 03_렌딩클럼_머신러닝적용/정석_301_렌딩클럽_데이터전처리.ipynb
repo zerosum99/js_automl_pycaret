{
 "cells": [
  {
   "cell_type": "code",
   "execution_count": 1,
   "id": "0917e3c6-c5ad-4811-8005-f7e882fca188",
   "metadata": {},
   "outputs": [],
   "source": [
    "import re\n",
    "import os\n",
    "import pandas as pd\n",
    "import numpy as np"
   ]
  },
  {
   "cell_type": "code",
   "execution_count": null,
   "id": "b7fc5f1f-a0df-4cf7-bb1b-b63c5e3fbf51",
   "metadata": {},
   "outputs": [],
   "source": []
  },
  {
   "cell_type": "code",
   "execution_count": 2,
   "id": "3782e420-4f04-4c68-9696-9a07a3df146a",
   "metadata": {},
   "outputs": [],
   "source": [
    "path_read =\"/Users/a06411/Documents/data_hub/lending_club/lending_club.csv\""
   ]
  },
  {
   "cell_type": "code",
   "execution_count": null,
   "id": "bf102f9d-5103-4c2c-ae8c-ab41f3919cac",
   "metadata": {},
   "outputs": [],
   "source": []
  },
  {
   "cell_type": "code",
   "execution_count": 3,
   "id": "6fa1d9a8-27eb-444a-a048-34d9954ddd50",
   "metadata": {},
   "outputs": [
    {
     "name": "stderr",
     "output_type": "stream",
     "text": [
      "/var/folders/h4/44486vyn1_xbs13g1z50l5m00000gn/T/ipykernel_18379/462175026.py:1: DtypeWarning: Columns (0,19,49,59,118,129,130,131,134,135,136,139,145,146,147) have mixed types. Specify dtype option on import or set low_memory=False.\n",
      "  df = pd.read_csv(path_read)\n"
     ]
    }
   ],
   "source": [
    "df = pd.read_csv(path_read)"
   ]
  },
  {
   "cell_type": "code",
   "execution_count": null,
   "id": "7f209f20-184e-4256-936d-7fc98abb2e7a",
   "metadata": {},
   "outputs": [],
   "source": []
  },
  {
   "cell_type": "code",
   "execution_count": 4,
   "id": "950e6467-2207-405b-bf78-bdb2c262f254",
   "metadata": {},
   "outputs": [
    {
     "data": {
      "text/plain": [
       "(2260701, 151)"
      ]
     },
     "execution_count": 4,
     "metadata": {},
     "output_type": "execute_result"
    }
   ],
   "source": [
    "df.shape"
   ]
  },
  {
   "cell_type": "code",
   "execution_count": 5,
   "id": "9e4904a2-0bed-46be-9012-e266deb095e3",
   "metadata": {},
   "outputs": [
    {
     "data": {
      "text/plain": [
       "Fully Paid                                             1076751\n",
       "Current                                                 878317\n",
       "Charged Off                                             268559\n",
       "Late (31-120 days)                                       21467\n",
       "In Grace Period                                           8436\n",
       "Late (16-30 days)                                         4349\n",
       "Does not meet the credit policy. Status:Fully Paid        1988\n",
       "Does not meet the credit policy. Status:Charged Off        761\n",
       "Default                                                     40\n",
       "Name: loan_status, dtype: int64"
      ]
     },
     "execution_count": 5,
     "metadata": {},
     "output_type": "execute_result"
    }
   ],
   "source": [
    "df['loan_status'].value_counts()"
   ]
  },
  {
   "cell_type": "code",
   "execution_count": 6,
   "id": "e3578a83-3e9d-407a-a6f8-04d363cd2478",
   "metadata": {},
   "outputs": [],
   "source": [
    "df = df[df['loan_status'] != 'Current']"
   ]
  },
  {
   "cell_type": "code",
   "execution_count": 7,
   "id": "8549eead-c805-40c6-9a1e-a4f28501db1d",
   "metadata": {},
   "outputs": [
    {
     "data": {
      "text/plain": [
       "Fully Paid                                             1076751\n",
       "Charged Off                                             268559\n",
       "Late (31-120 days)                                       21467\n",
       "In Grace Period                                           8436\n",
       "Late (16-30 days)                                         4349\n",
       "Does not meet the credit policy. Status:Fully Paid        1988\n",
       "Does not meet the credit policy. Status:Charged Off        761\n",
       "Default                                                     40\n",
       "Name: loan_status, dtype: int64"
      ]
     },
     "execution_count": 7,
     "metadata": {},
     "output_type": "execute_result"
    }
   ],
   "source": [
    "df['loan_status'].value_counts()"
   ]
  },
  {
   "cell_type": "code",
   "execution_count": null,
   "id": "b2c8c5f7-57e7-4c45-9e05-5696f8e937ab",
   "metadata": {},
   "outputs": [],
   "source": []
  },
  {
   "cell_type": "markdown",
   "id": "2e0d0ef7-2ae2-4a13-b443-68f995b1e4e4",
   "metadata": {},
   "source": [
    "## 결측치 제거 "
   ]
  },
  {
   "cell_type": "code",
   "execution_count": 8,
   "id": "565e7633-e3f6-47e2-a72b-698b28ff7ab9",
   "metadata": {},
   "outputs": [],
   "source": [
    "drop_cols = df.columns[df.isnull().mean() > 0.9]"
   ]
  },
  {
   "cell_type": "code",
   "execution_count": 9,
   "id": "a04a85cd-7bba-4399-a625-37f50b19d75f",
   "metadata": {},
   "outputs": [
    {
     "data": {
      "text/plain": [
       "Index(['member_id', 'desc', 'next_pymnt_d', 'annual_inc_joint', 'dti_joint',\n",
       "       'verification_status_joint', 'revol_bal_joint',\n",
       "       'sec_app_fico_range_low', 'sec_app_fico_range_high',\n",
       "       'sec_app_earliest_cr_line', 'sec_app_inq_last_6mths',\n",
       "       'sec_app_mort_acc', 'sec_app_open_acc', 'sec_app_revol_util',\n",
       "       'sec_app_open_act_il', 'sec_app_num_rev_accts',\n",
       "       'sec_app_chargeoff_within_12_mths',\n",
       "       'sec_app_collections_12_mths_ex_med',\n",
       "       'sec_app_mths_since_last_major_derog', 'hardship_type',\n",
       "       'hardship_reason', 'hardship_status', 'deferral_term',\n",
       "       'hardship_amount', 'hardship_start_date', 'hardship_end_date',\n",
       "       'payment_plan_start_date', 'hardship_length', 'hardship_dpd',\n",
       "       'hardship_loan_status', 'orig_projected_additional_accrued_interest',\n",
       "       'hardship_payoff_balance_amount', 'hardship_last_payment_amount',\n",
       "       'debt_settlement_flag_date', 'settlement_status', 'settlement_date',\n",
       "       'settlement_amount', 'settlement_percentage', 'settlement_term'],\n",
       "      dtype='object')"
      ]
     },
     "execution_count": 9,
     "metadata": {},
     "output_type": "execute_result"
    }
   ],
   "source": [
    "drop_cols"
   ]
  },
  {
   "cell_type": "code",
   "execution_count": 10,
   "id": "0b05b374-1849-4b04-a4c1-db2719a4acb6",
   "metadata": {},
   "outputs": [],
   "source": [
    "df = df.drop(drop_cols,axis=1)"
   ]
  },
  {
   "cell_type": "code",
   "execution_count": 11,
   "id": "9e0213c9-964c-494f-b78d-791d0a9b4e68",
   "metadata": {},
   "outputs": [
    {
     "data": {
      "text/plain": [
       "(1382384, 112)"
      ]
     },
     "execution_count": 11,
     "metadata": {},
     "output_type": "execute_result"
    }
   ],
   "source": [
    "df.shape"
   ]
  },
  {
   "cell_type": "code",
   "execution_count": null,
   "id": "101a8ae9-d152-455f-b9ad-36030d84d57c",
   "metadata": {},
   "outputs": [],
   "source": []
  },
  {
   "cell_type": "markdown",
   "id": "59785288-384b-42c9-b8e7-bc219bb417c1",
   "metadata": {},
   "source": [
    "## 변수 제거"
   ]
  },
  {
   "cell_type": "markdown",
   "id": "261277b9-4c79-4552-a416-6b0a61199175",
   "metadata": {},
   "source": [
    "### 날짜변수 제거 "
   ]
  },
  {
   "cell_type": "code",
   "execution_count": 12,
   "id": "d6a95b0a-bdf1-4b00-88e2-fa0b0cc0ef5a",
   "metadata": {},
   "outputs": [
    {
     "name": "stderr",
     "output_type": "stream",
     "text": [
      "/var/folders/h4/44486vyn1_xbs13g1z50l5m00000gn/T/ipykernel_18379/773873711.py:1: FutureWarning: In a future version of pandas all arguments of DataFrame.drop except for the argument 'labels' will be keyword-only.\n",
      "  df = df.drop(['last_pymnt_d','last_credit_pull_d','earliest_cr_line'] , 1)\n"
     ]
    }
   ],
   "source": [
    "df = df.drop(['last_pymnt_d','last_credit_pull_d','earliest_cr_line'] , 1)"
   ]
  },
  {
   "cell_type": "code",
   "execution_count": 13,
   "id": "a9c92940-ccd2-4e63-865d-d64743235a42",
   "metadata": {},
   "outputs": [
    {
     "data": {
      "text/plain": [
       "(1382384, 109)"
      ]
     },
     "execution_count": 13,
     "metadata": {},
     "output_type": "execute_result"
    }
   ],
   "source": [
    "df.shape"
   ]
  },
  {
   "cell_type": "markdown",
   "id": "994caa74-41be-4573-8ece-d8d177ab8e07",
   "metadata": {},
   "source": [
    "### 명칭 변수 제거 "
   ]
  },
  {
   "cell_type": "code",
   "execution_count": 14,
   "id": "751cfba2-9b2f-42ad-8058-8038abbfc6b2",
   "metadata": {},
   "outputs": [
    {
     "name": "stderr",
     "output_type": "stream",
     "text": [
      "/var/folders/h4/44486vyn1_xbs13g1z50l5m00000gn/T/ipykernel_18379/4087905089.py:1: FutureWarning: In a future version of pandas all arguments of DataFrame.drop except for the argument 'labels' will be keyword-only.\n",
      "  df = df.drop(['url','emp_title','title','zip_code','policy_code'] , 1)\n"
     ]
    }
   ],
   "source": [
    "df = df.drop(['url','emp_title','title','zip_code','policy_code'] , 1) "
   ]
  },
  {
   "cell_type": "code",
   "execution_count": 15,
   "id": "4d94176d-c5cd-4954-b319-c2bb25df0923",
   "metadata": {},
   "outputs": [
    {
     "data": {
      "text/plain": [
       "(1382384, 104)"
      ]
     },
     "execution_count": 15,
     "metadata": {},
     "output_type": "execute_result"
    }
   ],
   "source": [
    "df.shape"
   ]
  },
  {
   "cell_type": "markdown",
   "id": "962e36f4-ff18-464a-b9d9-03f01d45afe5",
   "metadata": {},
   "source": [
    "## 등급 평가 없는 데이터 삭제 "
   ]
  },
  {
   "cell_type": "code",
   "execution_count": 17,
   "id": "4d40fa8d-7e94-4120-a2fe-c873b17dc0e3",
   "metadata": {},
   "outputs": [
    {
     "data": {
      "text/plain": [
       "33"
      ]
     },
     "execution_count": 17,
     "metadata": {},
     "output_type": "execute_result"
    }
   ],
   "source": [
    "df['grade'].isna().sum()"
   ]
  },
  {
   "cell_type": "code",
   "execution_count": 18,
   "id": "f10aac18-60ff-467d-a42a-b0f4021cc39b",
   "metadata": {},
   "outputs": [
    {
     "data": {
      "text/plain": [
       "(33, 104)"
      ]
     },
     "execution_count": 18,
     "metadata": {},
     "output_type": "execute_result"
    }
   ],
   "source": [
    "df[df['grade'].isna()].shape"
   ]
  },
  {
   "cell_type": "code",
   "execution_count": 19,
   "id": "d3e78fc7-a811-456d-abcb-349fafda568d",
   "metadata": {},
   "outputs": [
    {
     "data": {
      "text/html": [
       "<div>\n",
       "<style scoped>\n",
       "    .dataframe tbody tr th:only-of-type {\n",
       "        vertical-align: middle;\n",
       "    }\n",
       "\n",
       "    .dataframe tbody tr th {\n",
       "        vertical-align: top;\n",
       "    }\n",
       "\n",
       "    .dataframe thead th {\n",
       "        text-align: right;\n",
       "    }\n",
       "</style>\n",
       "<table border=\"1\" class=\"dataframe\">\n",
       "  <thead>\n",
       "    <tr style=\"text-align: right;\">\n",
       "      <th></th>\n",
       "      <th>id</th>\n",
       "      <th>loan_amnt</th>\n",
       "      <th>funded_amnt</th>\n",
       "      <th>funded_amnt_inv</th>\n",
       "      <th>term</th>\n",
       "      <th>int_rate</th>\n",
       "      <th>installment</th>\n",
       "      <th>grade</th>\n",
       "      <th>sub_grade</th>\n",
       "      <th>emp_length</th>\n",
       "      <th>...</th>\n",
       "      <th>percent_bc_gt_75</th>\n",
       "      <th>pub_rec_bankruptcies</th>\n",
       "      <th>tax_liens</th>\n",
       "      <th>tot_hi_cred_lim</th>\n",
       "      <th>total_bal_ex_mort</th>\n",
       "      <th>total_bc_limit</th>\n",
       "      <th>total_il_high_credit_limit</th>\n",
       "      <th>hardship_flag</th>\n",
       "      <th>disbursement_method</th>\n",
       "      <th>debt_settlement_flag</th>\n",
       "    </tr>\n",
       "  </thead>\n",
       "  <tbody>\n",
       "    <tr>\n",
       "      <th>421095</th>\n",
       "      <td>Total amount funded in policy code 1: 6417608175</td>\n",
       "      <td>NaN</td>\n",
       "      <td>NaN</td>\n",
       "      <td>NaN</td>\n",
       "      <td>NaN</td>\n",
       "      <td>NaN</td>\n",
       "      <td>NaN</td>\n",
       "      <td>NaN</td>\n",
       "      <td>NaN</td>\n",
       "      <td>NaN</td>\n",
       "      <td>...</td>\n",
       "      <td>NaN</td>\n",
       "      <td>NaN</td>\n",
       "      <td>NaN</td>\n",
       "      <td>NaN</td>\n",
       "      <td>NaN</td>\n",
       "      <td>NaN</td>\n",
       "      <td>NaN</td>\n",
       "      <td>NaN</td>\n",
       "      <td>NaN</td>\n",
       "      <td>NaN</td>\n",
       "    </tr>\n",
       "    <tr>\n",
       "      <th>421096</th>\n",
       "      <td>Total amount funded in policy code 2: 1944088810</td>\n",
       "      <td>NaN</td>\n",
       "      <td>NaN</td>\n",
       "      <td>NaN</td>\n",
       "      <td>NaN</td>\n",
       "      <td>NaN</td>\n",
       "      <td>NaN</td>\n",
       "      <td>NaN</td>\n",
       "      <td>NaN</td>\n",
       "      <td>NaN</td>\n",
       "      <td>...</td>\n",
       "      <td>NaN</td>\n",
       "      <td>NaN</td>\n",
       "      <td>NaN</td>\n",
       "      <td>NaN</td>\n",
       "      <td>NaN</td>\n",
       "      <td>NaN</td>\n",
       "      <td>NaN</td>\n",
       "      <td>NaN</td>\n",
       "      <td>NaN</td>\n",
       "      <td>NaN</td>\n",
       "    </tr>\n",
       "    <tr>\n",
       "      <th>528961</th>\n",
       "      <td>Total amount funded in policy code 1: 1741781700</td>\n",
       "      <td>NaN</td>\n",
       "      <td>NaN</td>\n",
       "      <td>NaN</td>\n",
       "      <td>NaN</td>\n",
       "      <td>NaN</td>\n",
       "      <td>NaN</td>\n",
       "      <td>NaN</td>\n",
       "      <td>NaN</td>\n",
       "      <td>NaN</td>\n",
       "      <td>...</td>\n",
       "      <td>NaN</td>\n",
       "      <td>NaN</td>\n",
       "      <td>NaN</td>\n",
       "      <td>NaN</td>\n",
       "      <td>NaN</td>\n",
       "      <td>NaN</td>\n",
       "      <td>NaN</td>\n",
       "      <td>NaN</td>\n",
       "      <td>NaN</td>\n",
       "      <td>NaN</td>\n",
       "    </tr>\n",
       "  </tbody>\n",
       "</table>\n",
       "<p>3 rows × 104 columns</p>\n",
       "</div>"
      ],
      "text/plain": [
       "                                                      id  loan_amnt  \\\n",
       "421095  Total amount funded in policy code 1: 6417608175        NaN   \n",
       "421096  Total amount funded in policy code 2: 1944088810        NaN   \n",
       "528961  Total amount funded in policy code 1: 1741781700        NaN   \n",
       "\n",
       "        funded_amnt  funded_amnt_inv term  int_rate  installment grade  \\\n",
       "421095          NaN              NaN  NaN       NaN          NaN   NaN   \n",
       "421096          NaN              NaN  NaN       NaN          NaN   NaN   \n",
       "528961          NaN              NaN  NaN       NaN          NaN   NaN   \n",
       "\n",
       "       sub_grade emp_length  ... percent_bc_gt_75  pub_rec_bankruptcies  \\\n",
       "421095       NaN        NaN  ...              NaN                   NaN   \n",
       "421096       NaN        NaN  ...              NaN                   NaN   \n",
       "528961       NaN        NaN  ...              NaN                   NaN   \n",
       "\n",
       "       tax_liens tot_hi_cred_lim total_bal_ex_mort total_bc_limit  \\\n",
       "421095       NaN             NaN               NaN            NaN   \n",
       "421096       NaN             NaN               NaN            NaN   \n",
       "528961       NaN             NaN               NaN            NaN   \n",
       "\n",
       "       total_il_high_credit_limit hardship_flag  disbursement_method  \\\n",
       "421095                        NaN           NaN                  NaN   \n",
       "421096                        NaN           NaN                  NaN   \n",
       "528961                        NaN           NaN                  NaN   \n",
       "\n",
       "        debt_settlement_flag  \n",
       "421095                   NaN  \n",
       "421096                   NaN  \n",
       "528961                   NaN  \n",
       "\n",
       "[3 rows x 104 columns]"
      ]
     },
     "execution_count": 19,
     "metadata": {},
     "output_type": "execute_result"
    }
   ],
   "source": [
    "df[df['grade'].isna()].head(3)"
   ]
  },
  {
   "cell_type": "code",
   "execution_count": null,
   "id": "1bbb101b-d82f-4b6f-961e-d482fa8cda9b",
   "metadata": {},
   "outputs": [],
   "source": []
  },
  {
   "cell_type": "code",
   "execution_count": 21,
   "id": "ae788d77-03e0-4837-adce-6cf915e4d19a",
   "metadata": {},
   "outputs": [
    {
     "data": {
      "text/plain": [
       "1382351"
      ]
     },
     "execution_count": 21,
     "metadata": {},
     "output_type": "execute_result"
    }
   ],
   "source": [
    "df['grade'].notna().sum()"
   ]
  },
  {
   "cell_type": "code",
   "execution_count": 20,
   "id": "7a71fdb4-6dfc-4527-8bb3-cce930073311",
   "metadata": {},
   "outputs": [],
   "source": [
    "df = df[df['grade'].notna()]"
   ]
  },
  {
   "cell_type": "code",
   "execution_count": 22,
   "id": "b105ffc6-3957-4692-88a4-49d54a37a474",
   "metadata": {},
   "outputs": [
    {
     "data": {
      "text/plain": [
       "(1382351, 104)"
      ]
     },
     "execution_count": 22,
     "metadata": {},
     "output_type": "execute_result"
    }
   ],
   "source": [
    "df.shape"
   ]
  },
  {
   "cell_type": "code",
   "execution_count": null,
   "id": "528c8f5a-1f60-4219-8da8-29c0d5f5e250",
   "metadata": {},
   "outputs": [],
   "source": []
  },
  {
   "cell_type": "code",
   "execution_count": null,
   "id": "02f0a6a4-2cd1-42f5-a2f9-cb8f50e0c75a",
   "metadata": {},
   "outputs": [],
   "source": []
  },
  {
   "cell_type": "code",
   "execution_count": 23,
   "id": "63a0681c-9347-4f2b-aa0d-a7ea8e80f256",
   "metadata": {},
   "outputs": [],
   "source": [
    "df['verification_status'] = df.verification_status.map({'Verified': 0, 'Source Verified': 1, 'Not Verified': 2})\n",
    "df['debt_settlement_flag'] = df.debt_settlement_flag.map({'N': 0, 'Y': 1})\n",
    "df['initial_list_status'] = df.initial_list_status.map({'w': 0, 'f': 1})\n",
    "df['application_type'] = df.application_type.map({'Individual': 0, 'Joint App': 1})\n",
    "df['hardship_flag'] = df.hardship_flag.map({'N': 0, 'Y': 1})\n",
    "df['pymnt_plan'] = df.pymnt_plan.map({'n': 0, 'y': 1})\n",
    "df['disbursement_method'] = df.disbursement_method.map({'Cash': 0, 'DirectPay': 1})\n",
    "df['grade'] = df.grade.map({'A': 0, 'B': 1,'C': 2, 'D': 3,'E': 4, 'F': 5,'G': 6}) "
   ]
  },
  {
   "cell_type": "code",
   "execution_count": null,
   "id": "501c3359-120e-457c-bc9d-634ebd079e3a",
   "metadata": {},
   "outputs": [],
   "source": []
  },
  {
   "cell_type": "code",
   "execution_count": null,
   "id": "5751503e-c478-4850-ab5c-7f8e3539c6b3",
   "metadata": {},
   "outputs": [],
   "source": []
  },
  {
   "cell_type": "code",
   "execution_count": 24,
   "id": "f9432a7e-3144-4d70-99c9-13071f0a170d",
   "metadata": {},
   "outputs": [],
   "source": [
    "from sklearn.preprocessing import LabelEncoder\n",
    "le = LabelEncoder()\n",
    "\n",
    "df['addr_state'] = le.fit_transform(df['addr_state'].astype(str))\n",
    "df['sub_grade'] = le.fit_transform(df['sub_grade'].astype(str))\n",
    "df['purpose'] = le.fit_transform(df['purpose'].astype(str))\n",
    "df['emp_length'] = le.fit_transform(df['emp_length'].astype(str))\n",
    "df['home_ownership'] = le.fit_transform(df['home_ownership'].astype(str))\n",
    "df['term'] = le.fit_transform(df['term'].astype(str))"
   ]
  },
  {
   "cell_type": "code",
   "execution_count": null,
   "id": "8e7144f5-bbc2-48a3-83a3-0fd1f08865dd",
   "metadata": {},
   "outputs": [],
   "source": []
  },
  {
   "cell_type": "code",
   "execution_count": null,
   "id": "7ab594f4-752f-4b8d-b783-22fcfd8c0983",
   "metadata": {},
   "outputs": [],
   "source": []
  },
  {
   "cell_type": "code",
   "execution_count": 25,
   "id": "4e3c384e-2582-4bd6-a186-6f8f4e7c9ac8",
   "metadata": {},
   "outputs": [
    {
     "data": {
      "text/plain": [
       "Fully Paid                                             1076751\n",
       "Charged Off                                             268559\n",
       "Late (31-120 days)                                       21467\n",
       "In Grace Period                                           8436\n",
       "Late (16-30 days)                                         4349\n",
       "Does not meet the credit policy. Status:Fully Paid        1988\n",
       "Does not meet the credit policy. Status:Charged Off        761\n",
       "Default                                                     40\n",
       "Name: loan_status, dtype: int64"
      ]
     },
     "execution_count": 25,
     "metadata": {},
     "output_type": "execute_result"
    }
   ],
   "source": [
    "df['loan_status'].value_counts()"
   ]
  },
  {
   "cell_type": "code",
   "execution_count": null,
   "id": "1a77fc88-2116-4655-b99c-1b7442cbee58",
   "metadata": {},
   "outputs": [],
   "source": []
  },
  {
   "cell_type": "code",
   "execution_count": 26,
   "id": "9dd5ae31-0754-4ad6-971e-115e903914b4",
   "metadata": {},
   "outputs": [],
   "source": [
    "df['loan_status'] = df.loan_status.map({'Fully Paid':0, \n",
    "                                            'Charged Off': 1\n",
    "                                            , 'Late (31-120 days)': 1\n",
    "                                           , 'Late (16-30 days)': 1\n",
    "                                           , 'In Grace Period': 0\n",
    "                                           , 'Does not meet the credit policy. Status:Fully Paid': 0\n",
    "                                           , 'Does not meet the credit policy. Status:Charged Off': 1\n",
    "                                           , 'Default': 1})"
   ]
  },
  {
   "cell_type": "code",
   "execution_count": 27,
   "id": "9badb934-812c-40b7-b52e-9aba8430746c",
   "metadata": {},
   "outputs": [
    {
     "data": {
      "text/plain": [
       "0    1087175\n",
       "1     295176\n",
       "Name: loan_status, dtype: int64"
      ]
     },
     "execution_count": 27,
     "metadata": {},
     "output_type": "execute_result"
    }
   ],
   "source": [
    "df['loan_status'].value_counts()"
   ]
  },
  {
   "cell_type": "code",
   "execution_count": null,
   "id": "02ef18a4-98e3-4748-a79f-a8e9abdcfc19",
   "metadata": {},
   "outputs": [],
   "source": []
  },
  {
   "cell_type": "code",
   "execution_count": null,
   "id": "7b999bb1-88fb-469a-8097-dec8adf31859",
   "metadata": {},
   "outputs": [],
   "source": []
  },
  {
   "cell_type": "code",
   "execution_count": 28,
   "id": "064a87b2-871d-4fcc-81a3-2362e86535ee",
   "metadata": {},
   "outputs": [],
   "source": [
    "path_write =\"/Users/a06411/Documents/data_hub/lending_club/df_preprocessed_ld_0.pkl\""
   ]
  },
  {
   "cell_type": "code",
   "execution_count": 29,
   "id": "c9752aad-8b95-4d2a-bdcb-0452c59063b9",
   "metadata": {},
   "outputs": [],
   "source": [
    "df.to_pickle(path_write)"
   ]
  },
  {
   "cell_type": "code",
   "execution_count": null,
   "id": "d1b73b2b-9b5b-4b9f-868a-ef0d98e36e64",
   "metadata": {},
   "outputs": [],
   "source": []
  }
 ],
 "metadata": {
  "kernelspec": {
   "display_name": "Python 3 (ipykernel)",
   "language": "python",
   "name": "python3"
  },
  "language_info": {
   "codemirror_mode": {
    "name": "ipython",
    "version": 3
   },
   "file_extension": ".py",
   "mimetype": "text/x-python",
   "name": "python",
   "nbconvert_exporter": "python",
   "pygments_lexer": "ipython3",
   "version": "3.9.19"
  }
 },
 "nbformat": 4,
 "nbformat_minor": 5
}
