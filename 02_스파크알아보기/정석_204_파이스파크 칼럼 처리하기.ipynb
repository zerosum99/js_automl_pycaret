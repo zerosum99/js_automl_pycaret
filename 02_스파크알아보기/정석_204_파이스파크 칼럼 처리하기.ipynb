{
 "cells": [
  {
   "cell_type": "code",
   "execution_count": null,
   "id": "7a36aa90",
   "metadata": {},
   "outputs": [],
   "source": []
  },
  {
   "cell_type": "markdown",
   "id": "bcedba8e-40ea-420f-82e1-36ea172cbd16",
   "metadata": {},
   "source": [
    "# 1. 스파크 세션 만들기 "
   ]
  },
  {
   "cell_type": "markdown",
   "id": "fa6edd37-0216-4879-9ab9-3ca1b81ad6e8",
   "metadata": {},
   "source": [
    "### 모듈 사용하기 "
   ]
  },
  {
   "cell_type": "code",
   "execution_count": 1,
   "id": "cf689754",
   "metadata": {},
   "outputs": [
    {
     "name": "stderr",
     "output_type": "stream",
     "text": [
      "/Users/a06411/opt/anaconda3/envs/pycaret/lib/python3.9/site-packages/pyspark/pandas/__init__.py:50: UserWarning: 'PYARROW_IGNORE_TIMEZONE' environment variable was not set. It is required to set this environment variable to '1' in both driver and executor sides if you use pyarrow>=2.0.0. pandas-on-Spark will set it for you but it does not work if there is a Spark context already launched.\n",
      "  warnings.warn(\n"
     ]
    }
   ],
   "source": [
    "import pandas as pd\n",
    "import numpy as np\n",
    "import pyspark.pandas as ps\n",
    "from pyspark.sql import SparkSession"
   ]
  },
  {
   "cell_type": "code",
   "execution_count": null,
   "id": "bad9021d",
   "metadata": {},
   "outputs": [],
   "source": []
  },
  {
   "cell_type": "markdown",
   "id": "54df96b5",
   "metadata": {},
   "source": [
    "## 스파크 세션 연결하기"
   ]
  },
  {
   "cell_type": "code",
   "execution_count": 2,
   "id": "3eaac7f5",
   "metadata": {},
   "outputs": [
    {
     "name": "stderr",
     "output_type": "stream",
     "text": [
      "Setting default log level to \"WARN\".\n",
      "To adjust logging level use sc.setLogLevel(newLevel). For SparkR, use setLogLevel(newLevel).\n",
      "23/09/13 03:38:55 WARN NativeCodeLoader: Unable to load native-hadoop library for your platform... using builtin-java classes where applicable\n",
      "23/09/13 03:38:56 WARN Utils: Service 'SparkUI' could not bind on port 4040. Attempting port 4041.\n",
      "23/09/13 03:38:56 WARN Utils: Service 'SparkUI' could not bind on port 4041. Attempting port 4042.\n"
     ]
    }
   ],
   "source": [
    "spark = (SparkSession.builder.appName('ml-bank')\n",
    "                             .config(\"spark.driver.host\",\"127.0.0.1\") \n",
    "                             .config(\"spark.driver.bindAddress\",\"127.0.0.1\")\n",
    "                             .getOrCreate())\n"
   ]
  },
  {
   "cell_type": "code",
   "execution_count": 3,
   "id": "fa80139d",
   "metadata": {},
   "outputs": [
    {
     "data": {
      "text/html": [
       "\n",
       "            <div>\n",
       "                <p><b>SparkSession - in-memory</b></p>\n",
       "                \n",
       "        <div>\n",
       "            <p><b>SparkContext</b></p>\n",
       "\n",
       "            <p><a href=\"http://127.0.0.1:4042\">Spark UI</a></p>\n",
       "\n",
       "            <dl>\n",
       "              <dt>Version</dt>\n",
       "                <dd><code>v3.4.1</code></dd>\n",
       "              <dt>Master</dt>\n",
       "                <dd><code>local[*]</code></dd>\n",
       "              <dt>AppName</dt>\n",
       "                <dd><code>ml-bank</code></dd>\n",
       "            </dl>\n",
       "        </div>\n",
       "        \n",
       "            </div>\n",
       "        "
      ],
      "text/plain": [
       "<pyspark.sql.session.SparkSession at 0x17d505100>"
      ]
     },
     "execution_count": 3,
     "metadata": {},
     "output_type": "execute_result"
    }
   ],
   "source": [
    "spark"
   ]
  },
  {
   "cell_type": "markdown",
   "id": "8529b1a6-b14f-48d4-ab5d-c19ab4049097",
   "metadata": {},
   "source": [
    "# 2. 스파크 데이터프레임 생성하기 "
   ]
  },
  {
   "cell_type": "markdown",
   "id": "6ef79d3b-5b95-46ec-838d-6ce2d25900a1",
   "metadata": {},
   "source": [
    "## 데이터 생성하기 "
   ]
  },
  {
   "cell_type": "code",
   "execution_count": 5,
   "id": "9b9a9eeb",
   "metadata": {},
   "outputs": [],
   "source": [
    "dataDF = [(('James','','Smith'),'1991-04-01','M',3000),\n",
    "  (('Michael','Rose',''),'2000-05-19','M',4000),\n",
    "  (('Robert','','Williams'),'1978-09-05','M',4000),\n",
    "  (('Maria','Anne','Jones'),'1967-12-01','F',4000),\n",
    "  (('Jen','Mary','Brown'),'1980-02-17','F',-1)\n",
    "]"
   ]
  },
  {
   "cell_type": "markdown",
   "id": "ae02a6c2-29a7-4272-85f6-81163db1cf67",
   "metadata": {},
   "source": [
    "## 파이스파크로 구조체 만들기 "
   ]
  },
  {
   "cell_type": "code",
   "execution_count": 6,
   "id": "6bc5a8db",
   "metadata": {},
   "outputs": [],
   "source": [
    "\n",
    "from pyspark.sql.types import StructType,StructField, StringType, IntegerType\n",
    "schema = StructType([\n",
    "        StructField('name', StructType([\n",
    "             StructField('firstname', StringType(), True),\n",
    "             StructField('middlename', StringType(), True),\n",
    "             StructField('lastname', StringType(), True)\n",
    "             ])),\n",
    "         StructField('dob', StringType(), True),\n",
    "         StructField('gender', StringType(), True),\n",
    "         StructField('salary', IntegerType(), True)\n",
    "         ])\n"
   ]
  },
  {
   "cell_type": "markdown",
   "id": "c3305d82-3af4-4805-8e07-bbebdace7ead",
   "metadata": {},
   "source": [
    "## 스파크 데이터프레임 생성하기\n",
    "- 구조체를 스키마로 지정"
   ]
  },
  {
   "cell_type": "code",
   "execution_count": 7,
   "id": "b7c16db8",
   "metadata": {},
   "outputs": [],
   "source": [
    "sdf = spark.createDataFrame(data = dataDF, schema = schema)"
   ]
  },
  {
   "cell_type": "code",
   "execution_count": 8,
   "id": "6f3e68fd",
   "metadata": {},
   "outputs": [
    {
     "name": "stdout",
     "output_type": "stream",
     "text": [
      "root\n",
      " |-- name: struct (nullable = true)\n",
      " |    |-- firstname: string (nullable = true)\n",
      " |    |-- middlename: string (nullable = true)\n",
      " |    |-- lastname: string (nullable = true)\n",
      " |-- dob: string (nullable = true)\n",
      " |-- gender: string (nullable = true)\n",
      " |-- salary: integer (nullable = true)\n",
      "\n"
     ]
    }
   ],
   "source": [
    "sdf.printSchema()"
   ]
  },
  {
   "cell_type": "markdown",
   "id": "cc631bb2-1ff5-4c30-a240-acf0d5de80af",
   "metadata": {},
   "source": [
    "## 3. 칼럼 처리하기  "
   ]
  },
  {
   "cell_type": "markdown",
   "id": "d5f66bda-02aa-4d1b-b38d-b84b046754e8",
   "metadata": {},
   "source": [
    "## 하나의 칼럼 이름을 변경하기 "
   ]
  },
  {
   "cell_type": "code",
   "execution_count": 9,
   "id": "d8bd26e0",
   "metadata": {},
   "outputs": [
    {
     "name": "stdout",
     "output_type": "stream",
     "text": [
      "root\n",
      " |-- name: struct (nullable = true)\n",
      " |    |-- firstname: string (nullable = true)\n",
      " |    |-- middlename: string (nullable = true)\n",
      " |    |-- lastname: string (nullable = true)\n",
      " |-- DateOfBirth: string (nullable = true)\n",
      " |-- gender: string (nullable = true)\n",
      " |-- salary: integer (nullable = true)\n",
      "\n"
     ]
    }
   ],
   "source": [
    "sdf.withColumnRenamed(\"dob\",\"DateOfBirth\").printSchema()"
   ]
  },
  {
   "cell_type": "markdown",
   "id": "bcc1f69f-d246-4240-be9c-c544800c38bd",
   "metadata": {},
   "source": [
    "## 여러 칼럼을 이름을 변경하기 "
   ]
  },
  {
   "cell_type": "code",
   "execution_count": 10,
   "id": "b238a56c",
   "metadata": {},
   "outputs": [
    {
     "name": "stdout",
     "output_type": "stream",
     "text": [
      "root\n",
      " |-- name: struct (nullable = true)\n",
      " |    |-- firstname: string (nullable = true)\n",
      " |    |-- middlename: string (nullable = true)\n",
      " |    |-- lastname: string (nullable = true)\n",
      " |-- DateOfBirth: string (nullable = true)\n",
      " |-- gender: string (nullable = true)\n",
      " |-- salary_amount: integer (nullable = true)\n",
      "\n"
     ]
    }
   ],
   "source": [
    "sdf2 = sdf.withColumnRenamed(\"dob\",\"DateOfBirth\") \\\n",
    "    .withColumnRenamed(\"salary\",\"salary_amount\")\n",
    "sdf2.printSchema()"
   ]
  },
  {
   "cell_type": "markdown",
   "id": "0f54a531-77a1-4c23-8213-5345f17ec4b7",
   "metadata": {},
   "source": [
    "## 칼럼 처리를 col 함수로 처리하기"
   ]
  },
  {
   "cell_type": "code",
   "execution_count": 12,
   "id": "c709abb1",
   "metadata": {},
   "outputs": [],
   "source": [
    "from pyspark.sql.functions import col"
   ]
  },
  {
   "cell_type": "code",
   "execution_count": 13,
   "id": "15a8652c",
   "metadata": {},
   "outputs": [
    {
     "name": "stdout",
     "output_type": "stream",
     "text": [
      "root\n",
      " |-- name: struct (nullable = true)\n",
      " |    |-- firstname: string (nullable = true)\n",
      " |    |-- middlename: string (nullable = true)\n",
      " |    |-- lastname: string (nullable = true)\n",
      " |-- dob: string (nullable = true)\n",
      " |-- gender: string (nullable = true)\n",
      " |-- salary: integer (nullable = true)\n",
      "\n"
     ]
    }
   ],
   "source": [
    "sdf.printSchema()"
   ]
  },
  {
   "cell_type": "markdown",
   "id": "5faa335f-1d82-40a6-ac78-0d1adee77892",
   "metadata": {},
   "source": [
    "## 4. 칼럼을 조회하기 "
   ]
  },
  {
   "cell_type": "markdown",
   "id": "c7dafd05-a3a0-4908-939e-1f07b25dd8f5",
   "metadata": {},
   "source": [
    "### 스키마를 정의하기"
   ]
  },
  {
   "cell_type": "code",
   "execution_count": 15,
   "id": "5edc54e9",
   "metadata": {},
   "outputs": [],
   "source": [
    "schema2 = StructType([\n",
    "    StructField(\"fname\",StringType()),\n",
    "    StructField(\"middlename\",StringType()),\n",
    "    StructField(\"lname\",StringType())])"
   ]
  },
  {
   "cell_type": "markdown",
   "id": "6d2cf526-afed-484e-905d-04d4059716bd",
   "metadata": {},
   "source": [
    "## 데이터 프렝임 내의 칼럼을  select 조회하기\n",
    "\n",
    "- select 메서드는 실제 sql이 select 와 같음\n",
    "- 특정 칼럼에 cast로 세부 구조체를 처리하기 "
   ]
  },
  {
   "cell_type": "code",
   "execution_count": 16,
   "id": "2b29ee58",
   "metadata": {},
   "outputs": [
    {
     "name": "stdout",
     "output_type": "stream",
     "text": [
      "root\n",
      " |-- name: struct (nullable = true)\n",
      " |    |-- fname: string (nullable = true)\n",
      " |    |-- middlename: string (nullable = true)\n",
      " |    |-- lname: string (nullable = true)\n",
      " |-- dob: string (nullable = true)\n",
      " |-- gender: string (nullable = true)\n",
      " |-- salary: integer (nullable = true)\n",
      "\n"
     ]
    }
   ],
   "source": [
    "sdf.select(col(\"name\").cast(schema2), \\\n",
    "     col(\"dob\"), col(\"gender\"),col(\"salary\")) \\\n",
    "   .printSchema() "
   ]
  },
  {
   "cell_type": "markdown",
   "id": "5625b6f2-67c3-4f6a-86a7-412fa5aa5c7f",
   "metadata": {},
   "source": [
    "## 상세 칼럼을 처리하고 별칭을 부여하기 "
   ]
  },
  {
   "cell_type": "code",
   "execution_count": 17,
   "id": "18e820a8",
   "metadata": {},
   "outputs": [
    {
     "name": "stdout",
     "output_type": "stream",
     "text": [
      "root\n",
      " |-- fname: string (nullable = true)\n",
      " |-- mname: string (nullable = true)\n",
      " |-- lname: string (nullable = true)\n",
      " |-- dob: string (nullable = true)\n",
      " |-- gender: string (nullable = true)\n",
      " |-- salary: integer (nullable = true)\n",
      "\n"
     ]
    }
   ],
   "source": [
    "from pyspark.sql.functions import *\n",
    "sdf.select(col(\"name.firstname\").alias(\"fname\"), \\\n",
    "  col(\"name.middlename\").alias(\"mname\"), \\\n",
    "  col(\"name.lastname\").alias(\"lname\"), \\\n",
    "  col(\"dob\"),col(\"gender\"),col(\"salary\")) \\\n",
    "  .printSchema()"
   ]
  },
  {
   "cell_type": "markdown",
   "id": "eea1a49a-c61e-47b1-9552-66bac3813648",
   "metadata": {},
   "source": [
    "## 4. 칼럼 추가하기 \n"
   ]
  },
  {
   "cell_type": "code",
   "execution_count": 18,
   "id": "4fa7082d",
   "metadata": {},
   "outputs": [
    {
     "name": "stdout",
     "output_type": "stream",
     "text": [
      "root\n",
      " |-- dob: string (nullable = true)\n",
      " |-- gender: string (nullable = true)\n",
      " |-- salary: integer (nullable = true)\n",
      " |-- fname: string (nullable = true)\n",
      " |-- mname: string (nullable = true)\n",
      " |-- lname: string (nullable = true)\n",
      "\n"
     ]
    }
   ],
   "source": [
    "sdf4 = sdf.withColumn(\"fname\",col(\"name.firstname\")) \\\n",
    "      .withColumn(\"mname\",col(\"name.middlename\")) \\\n",
    "      .withColumn(\"lname\",col(\"name.lastname\")) \\\n",
    "      .drop(\"name\")\n",
    "sdf4.printSchema()"
   ]
  },
  {
   "cell_type": "code",
   "execution_count": null,
   "id": "40ea1e8e",
   "metadata": {},
   "outputs": [],
   "source": []
  }
 ],
 "metadata": {
  "kernelspec": {
   "display_name": "Python 3 (ipykernel)",
   "language": "python",
   "name": "python3"
  },
  "language_info": {
   "codemirror_mode": {
    "name": "ipython",
    "version": 3
   },
   "file_extension": ".py",
   "mimetype": "text/x-python",
   "name": "python",
   "nbconvert_exporter": "python",
   "pygments_lexer": "ipython3",
   "version": "3.9.16"
  }
 },
 "nbformat": 4,
 "nbformat_minor": 5
}
