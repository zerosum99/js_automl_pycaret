{
 "cells": [
  {
   "cell_type": "markdown",
   "id": "7ccec3ce-24b6-420f-83a6-695de1bde5dd",
   "metadata": {},
   "source": [
    "# 1. 파이스파크와 판다스 연계하기 "
   ]
  },
  {
   "cell_type": "markdown",
   "id": "9bd96b5f-6ccf-48d4-a670-5cfa6b80767d",
   "metadata": {},
   "source": [
    "## 판다스 모듈"
   ]
  },
  {
   "cell_type": "code",
   "execution_count": 27,
   "id": "37dc0213-7803-4bb0-b93c-a1a3389bbde5",
   "metadata": {},
   "outputs": [],
   "source": [
    "import pandas as pd\n",
    "import numpy as np"
   ]
  },
  {
   "cell_type": "markdown",
   "id": "7a6fda6d-d9d9-4c93-a023-b24a732e9078",
   "metadata": {},
   "source": [
    "## 파이스파크에서 판다스 api 활용 "
   ]
  },
  {
   "cell_type": "code",
   "execution_count": 28,
   "id": "86a68826-5808-4449-b1a2-54a4d2b239aa",
   "metadata": {},
   "outputs": [],
   "source": [
    "import pyspark.pandas as ps"
   ]
  },
  {
   "cell_type": "markdown",
   "id": "5540c682-5793-4a56-b168-5e5082dfac74",
   "metadata": {},
   "source": [
    "## 스파크 세션 처리 "
   ]
  },
  {
   "cell_type": "code",
   "execution_count": 29,
   "id": "88cae9b1",
   "metadata": {},
   "outputs": [],
   "source": [
    "from pyspark.sql import SparkSession"
   ]
  },
  {
   "cell_type": "markdown",
   "id": "525b434f",
   "metadata": {},
   "source": [
    "## 1-1 시리즈 클래스 비교해보기 "
   ]
  },
  {
   "cell_type": "code",
   "execution_count": 30,
   "id": "ee5dbf0d",
   "metadata": {},
   "outputs": [],
   "source": [
    "ps_s = ps.Series([1, 3, 5, np.nan, 6, 8])"
   ]
  },
  {
   "cell_type": "code",
   "execution_count": 32,
   "id": "5e76f05c-f880-4b0f-a65f-89dd6b5c99c5",
   "metadata": {},
   "outputs": [
    {
     "data": {
      "text/plain": [
       "0    1.0\n",
       "1    3.0\n",
       "2    5.0\n",
       "3    NaN\n",
       "4    6.0\n",
       "5    8.0\n",
       "dtype: float64"
      ]
     },
     "execution_count": 32,
     "metadata": {},
     "output_type": "execute_result"
    }
   ],
   "source": [
    "ps_s"
   ]
  },
  {
   "cell_type": "code",
   "execution_count": 31,
   "id": "7c7d9adf-d9c5-448e-be32-4cd3a347c6de",
   "metadata": {},
   "outputs": [],
   "source": [
    "s = pd.Series([1, 3, 5, np.nan, 6, 8])"
   ]
  },
  {
   "cell_type": "code",
   "execution_count": 33,
   "id": "e67568e5",
   "metadata": {},
   "outputs": [
    {
     "data": {
      "text/plain": [
       "0    1.0\n",
       "1    3.0\n",
       "2    5.0\n",
       "3    NaN\n",
       "4    6.0\n",
       "5    8.0\n",
       "dtype: float64"
      ]
     },
     "execution_count": 33,
     "metadata": {},
     "output_type": "execute_result"
    }
   ],
   "source": [
    "s"
   ]
  },
  {
   "cell_type": "code",
   "execution_count": 34,
   "id": "67729701",
   "metadata": {},
   "outputs": [
    {
     "data": {
      "text/plain": [
       "(pyspark.pandas.series.Series, pandas.core.series.Series)"
      ]
     },
     "execution_count": 34,
     "metadata": {},
     "output_type": "execute_result"
    }
   ],
   "source": [
    "type(ps_s), type(s)"
   ]
  },
  {
   "cell_type": "code",
   "execution_count": 35,
   "id": "9ee9dcfc",
   "metadata": {},
   "outputs": [
    {
     "data": {
      "text/plain": [
       "1.0    1\n",
       "3.0    1\n",
       "5.0    1\n",
       "6.0    1\n",
       "8.0    1\n",
       "dtype: int64"
      ]
     },
     "execution_count": 35,
     "metadata": {},
     "output_type": "execute_result"
    }
   ],
   "source": [
    "s.value_counts()"
   ]
  },
  {
   "cell_type": "code",
   "execution_count": 36,
   "id": "59835de3-df8b-4fa9-9bf5-978ceedb92f0",
   "metadata": {},
   "outputs": [
    {
     "data": {
      "text/plain": [
       "1.0    1\n",
       "3.0    1\n",
       "5.0    1\n",
       "6.0    1\n",
       "8.0    1\n",
       "dtype: int64"
      ]
     },
     "execution_count": 36,
     "metadata": {},
     "output_type": "execute_result"
    }
   ],
   "source": [
    "ps_s.value_counts()"
   ]
  },
  {
   "cell_type": "markdown",
   "id": "a604c569",
   "metadata": {},
   "source": [
    "## 1-2 데이터프레임  비교해보기  "
   ]
  },
  {
   "cell_type": "code",
   "execution_count": 37,
   "id": "93f7f78f-5e07-45f8-8c07-c8bf04897c3d",
   "metadata": {},
   "outputs": [],
   "source": [
    "df = pd.DataFrame(\n",
    "    {'a': [1, 2, 3, 4, 5, 6],\n",
    "     'b': [100, 200, 300, 400, 500, 600],\n",
    "     'c': [\"one\", \"two\", \"three\", \"four\", \"five\", \"six\"]},\n",
    "    index=[10, 20, 30, 40, 50, 60])"
   ]
  },
  {
   "cell_type": "code",
   "execution_count": 38,
   "id": "e92d5ed3",
   "metadata": {},
   "outputs": [],
   "source": [
    "ps_df = ps.DataFrame(\n",
    "    {'a': [1, 2, 3, 4, 5, 6],\n",
    "     'b': [100, 200, 300, 400, 500, 600],\n",
    "     'c': [\"one\", \"two\", \"three\", \"four\", \"five\", \"six\"]},\n",
    "    index=[10, 20, 30, 40, 50, 60])"
   ]
  },
  {
   "cell_type": "code",
   "execution_count": 39,
   "id": "5133abb8",
   "metadata": {},
   "outputs": [
    {
     "data": {
      "text/plain": [
       "(pyspark.pandas.frame.DataFrame, pandas.core.frame.DataFrame)"
      ]
     },
     "execution_count": 39,
     "metadata": {},
     "output_type": "execute_result"
    }
   ],
   "source": [
    "type(ps_df), type(df)"
   ]
  },
  {
   "cell_type": "code",
   "execution_count": 40,
   "id": "9260bb55",
   "metadata": {},
   "outputs": [
    {
     "data": {
      "text/html": [
       "<div>\n",
       "<style scoped>\n",
       "    .dataframe tbody tr th:only-of-type {\n",
       "        vertical-align: middle;\n",
       "    }\n",
       "\n",
       "    .dataframe tbody tr th {\n",
       "        vertical-align: top;\n",
       "    }\n",
       "\n",
       "    .dataframe thead th {\n",
       "        text-align: right;\n",
       "    }\n",
       "</style>\n",
       "<table border=\"1\" class=\"dataframe\">\n",
       "  <thead>\n",
       "    <tr style=\"text-align: right;\">\n",
       "      <th></th>\n",
       "      <th>a</th>\n",
       "      <th>b</th>\n",
       "      <th>c</th>\n",
       "    </tr>\n",
       "  </thead>\n",
       "  <tbody>\n",
       "    <tr>\n",
       "      <th>10</th>\n",
       "      <td>1</td>\n",
       "      <td>100</td>\n",
       "      <td>one</td>\n",
       "    </tr>\n",
       "    <tr>\n",
       "      <th>20</th>\n",
       "      <td>2</td>\n",
       "      <td>200</td>\n",
       "      <td>two</td>\n",
       "    </tr>\n",
       "    <tr>\n",
       "      <th>30</th>\n",
       "      <td>3</td>\n",
       "      <td>300</td>\n",
       "      <td>three</td>\n",
       "    </tr>\n",
       "    <tr>\n",
       "      <th>40</th>\n",
       "      <td>4</td>\n",
       "      <td>400</td>\n",
       "      <td>four</td>\n",
       "    </tr>\n",
       "    <tr>\n",
       "      <th>50</th>\n",
       "      <td>5</td>\n",
       "      <td>500</td>\n",
       "      <td>five</td>\n",
       "    </tr>\n",
       "    <tr>\n",
       "      <th>60</th>\n",
       "      <td>6</td>\n",
       "      <td>600</td>\n",
       "      <td>six</td>\n",
       "    </tr>\n",
       "  </tbody>\n",
       "</table>\n",
       "</div>"
      ],
      "text/plain": [
       "    a    b      c\n",
       "10  1  100    one\n",
       "20  2  200    two\n",
       "30  3  300  three\n",
       "40  4  400   four\n",
       "50  5  500   five\n",
       "60  6  600    six"
      ]
     },
     "execution_count": 40,
     "metadata": {},
     "output_type": "execute_result"
    }
   ],
   "source": [
    "ps_df"
   ]
  },
  {
   "cell_type": "code",
   "execution_count": 41,
   "id": "f5e0f364",
   "metadata": {},
   "outputs": [
    {
     "data": {
      "text/html": [
       "<div>\n",
       "<style scoped>\n",
       "    .dataframe tbody tr th:only-of-type {\n",
       "        vertical-align: middle;\n",
       "    }\n",
       "\n",
       "    .dataframe tbody tr th {\n",
       "        vertical-align: top;\n",
       "    }\n",
       "\n",
       "    .dataframe thead th {\n",
       "        text-align: right;\n",
       "    }\n",
       "</style>\n",
       "<table border=\"1\" class=\"dataframe\">\n",
       "  <thead>\n",
       "    <tr style=\"text-align: right;\">\n",
       "      <th></th>\n",
       "      <th>a</th>\n",
       "      <th>b</th>\n",
       "      <th>c</th>\n",
       "    </tr>\n",
       "  </thead>\n",
       "  <tbody>\n",
       "    <tr>\n",
       "      <th>10</th>\n",
       "      <td>1</td>\n",
       "      <td>100</td>\n",
       "      <td>one</td>\n",
       "    </tr>\n",
       "    <tr>\n",
       "      <th>20</th>\n",
       "      <td>2</td>\n",
       "      <td>200</td>\n",
       "      <td>two</td>\n",
       "    </tr>\n",
       "    <tr>\n",
       "      <th>30</th>\n",
       "      <td>3</td>\n",
       "      <td>300</td>\n",
       "      <td>three</td>\n",
       "    </tr>\n",
       "    <tr>\n",
       "      <th>40</th>\n",
       "      <td>4</td>\n",
       "      <td>400</td>\n",
       "      <td>four</td>\n",
       "    </tr>\n",
       "    <tr>\n",
       "      <th>50</th>\n",
       "      <td>5</td>\n",
       "      <td>500</td>\n",
       "      <td>five</td>\n",
       "    </tr>\n",
       "    <tr>\n",
       "      <th>60</th>\n",
       "      <td>6</td>\n",
       "      <td>600</td>\n",
       "      <td>six</td>\n",
       "    </tr>\n",
       "  </tbody>\n",
       "</table>\n",
       "</div>"
      ],
      "text/plain": [
       "    a    b      c\n",
       "10  1  100    one\n",
       "20  2  200    two\n",
       "30  3  300  three\n",
       "40  4  400   four\n",
       "50  5  500   five\n",
       "60  6  600    six"
      ]
     },
     "execution_count": 41,
     "metadata": {},
     "output_type": "execute_result"
    }
   ],
   "source": [
    "df"
   ]
  },
  {
   "cell_type": "code",
   "execution_count": null,
   "id": "83f21e6f-d700-4a63-893a-7ad61343d945",
   "metadata": {},
   "outputs": [],
   "source": []
  },
  {
   "cell_type": "code",
   "execution_count": null,
   "id": "308322f0-e304-4444-91f8-bc114c68f259",
   "metadata": {},
   "outputs": [],
   "source": []
  },
  {
   "cell_type": "markdown",
   "id": "4debfc39",
   "metadata": {},
   "source": [
    "## 1-3 판다스에서 파이스파크 내의 판다스로 변환"
   ]
  },
  {
   "cell_type": "code",
   "execution_count": 8,
   "id": "2bf827b6",
   "metadata": {},
   "outputs": [],
   "source": [
    "dates = pd.date_range('20130101', periods=6)"
   ]
  },
  {
   "cell_type": "code",
   "execution_count": 9,
   "id": "0cbe60b5",
   "metadata": {},
   "outputs": [
    {
     "data": {
      "text/plain": [
       "DatetimeIndex(['2013-01-01', '2013-01-02', '2013-01-03', '2013-01-04',\n",
       "               '2013-01-05', '2013-01-06'],\n",
       "              dtype='datetime64[ns]', freq='D')"
      ]
     },
     "execution_count": 9,
     "metadata": {},
     "output_type": "execute_result"
    }
   ],
   "source": [
    "dates"
   ]
  },
  {
   "cell_type": "code",
   "execution_count": 10,
   "id": "55ad7272",
   "metadata": {},
   "outputs": [],
   "source": [
    "pdf = pd.DataFrame(np.random.randn(6, 4), index=dates, columns=list('ABCD'))"
   ]
  },
  {
   "cell_type": "code",
   "execution_count": 11,
   "id": "7c82c3d2",
   "metadata": {},
   "outputs": [
    {
     "data": {
      "text/plain": [
       "pandas.core.frame.DataFrame"
      ]
     },
     "execution_count": 11,
     "metadata": {},
     "output_type": "execute_result"
    }
   ],
   "source": [
    "type(pdf)"
   ]
  },
  {
   "cell_type": "code",
   "execution_count": 12,
   "id": "6a6d10be",
   "metadata": {},
   "outputs": [
    {
     "data": {
      "text/html": [
       "<div>\n",
       "<style scoped>\n",
       "    .dataframe tbody tr th:only-of-type {\n",
       "        vertical-align: middle;\n",
       "    }\n",
       "\n",
       "    .dataframe tbody tr th {\n",
       "        vertical-align: top;\n",
       "    }\n",
       "\n",
       "    .dataframe thead th {\n",
       "        text-align: right;\n",
       "    }\n",
       "</style>\n",
       "<table border=\"1\" class=\"dataframe\">\n",
       "  <thead>\n",
       "    <tr style=\"text-align: right;\">\n",
       "      <th></th>\n",
       "      <th>A</th>\n",
       "      <th>B</th>\n",
       "      <th>C</th>\n",
       "      <th>D</th>\n",
       "    </tr>\n",
       "  </thead>\n",
       "  <tbody>\n",
       "    <tr>\n",
       "      <th>2013-01-01</th>\n",
       "      <td>0.145406</td>\n",
       "      <td>-0.099882</td>\n",
       "      <td>-0.650064</td>\n",
       "      <td>-0.259359</td>\n",
       "    </tr>\n",
       "    <tr>\n",
       "      <th>2013-01-02</th>\n",
       "      <td>1.030907</td>\n",
       "      <td>-0.180774</td>\n",
       "      <td>-1.011417</td>\n",
       "      <td>-0.310595</td>\n",
       "    </tr>\n",
       "    <tr>\n",
       "      <th>2013-01-03</th>\n",
       "      <td>0.925675</td>\n",
       "      <td>0.235682</td>\n",
       "      <td>-0.556933</td>\n",
       "      <td>-0.457981</td>\n",
       "    </tr>\n",
       "    <tr>\n",
       "      <th>2013-01-04</th>\n",
       "      <td>-0.570068</td>\n",
       "      <td>-0.178906</td>\n",
       "      <td>0.098077</td>\n",
       "      <td>-0.665014</td>\n",
       "    </tr>\n",
       "    <tr>\n",
       "      <th>2013-01-05</th>\n",
       "      <td>-0.684657</td>\n",
       "      <td>1.362541</td>\n",
       "      <td>0.559109</td>\n",
       "      <td>-0.062809</td>\n",
       "    </tr>\n",
       "    <tr>\n",
       "      <th>2013-01-06</th>\n",
       "      <td>-0.580564</td>\n",
       "      <td>0.730574</td>\n",
       "      <td>-0.120140</td>\n",
       "      <td>0.217583</td>\n",
       "    </tr>\n",
       "  </tbody>\n",
       "</table>\n",
       "</div>"
      ],
      "text/plain": [
       "                   A         B         C         D\n",
       "2013-01-01  0.145406 -0.099882 -0.650064 -0.259359\n",
       "2013-01-02  1.030907 -0.180774 -1.011417 -0.310595\n",
       "2013-01-03  0.925675  0.235682 -0.556933 -0.457981\n",
       "2013-01-04 -0.570068 -0.178906  0.098077 -0.665014\n",
       "2013-01-05 -0.684657  1.362541  0.559109 -0.062809\n",
       "2013-01-06 -0.580564  0.730574 -0.120140  0.217583"
      ]
     },
     "execution_count": 12,
     "metadata": {},
     "output_type": "execute_result"
    }
   ],
   "source": [
    "pdf"
   ]
  },
  {
   "cell_type": "markdown",
   "id": "709dab1d",
   "metadata": {},
   "source": [
    "### 날짜 데이터 타입에서 에러가 발생해서 문자열로 변경 "
   ]
  },
  {
   "cell_type": "code",
   "execution_count": 13,
   "id": "e269f74c",
   "metadata": {},
   "outputs": [
    {
     "data": {
      "text/plain": [
       "dtype('<M8[ns]')"
      ]
     },
     "execution_count": 13,
     "metadata": {},
     "output_type": "execute_result"
    }
   ],
   "source": [
    "pdf.index.dtype"
   ]
  },
  {
   "cell_type": "code",
   "execution_count": 14,
   "id": "187ea3d6",
   "metadata": {},
   "outputs": [],
   "source": [
    "pdf.index =  pdf.index.astype('str')"
   ]
  },
  {
   "cell_type": "code",
   "execution_count": 15,
   "id": "b43cb378",
   "metadata": {},
   "outputs": [
    {
     "data": {
      "text/plain": [
       "dtype('O')"
      ]
     },
     "execution_count": 15,
     "metadata": {},
     "output_type": "execute_result"
    }
   ],
   "source": [
    "pdf.index.dtype"
   ]
  },
  {
   "cell_type": "code",
   "execution_count": 16,
   "id": "3cea3350",
   "metadata": {},
   "outputs": [],
   "source": [
    "psdf = ps.from_pandas(pdf)"
   ]
  },
  {
   "cell_type": "code",
   "execution_count": 17,
   "id": "3b61a73a",
   "metadata": {},
   "outputs": [
    {
     "data": {
      "text/plain": [
       "pyspark.pandas.frame.DataFrame"
      ]
     },
     "execution_count": 17,
     "metadata": {},
     "output_type": "execute_result"
    }
   ],
   "source": [
    "type(psdf)"
   ]
  },
  {
   "cell_type": "code",
   "execution_count": 18,
   "id": "d8a2e64a",
   "metadata": {},
   "outputs": [
    {
     "data": {
      "text/html": [
       "<div>\n",
       "<style scoped>\n",
       "    .dataframe tbody tr th:only-of-type {\n",
       "        vertical-align: middle;\n",
       "    }\n",
       "\n",
       "    .dataframe tbody tr th {\n",
       "        vertical-align: top;\n",
       "    }\n",
       "\n",
       "    .dataframe thead th {\n",
       "        text-align: right;\n",
       "    }\n",
       "</style>\n",
       "<table border=\"1\" class=\"dataframe\">\n",
       "  <thead>\n",
       "    <tr style=\"text-align: right;\">\n",
       "      <th></th>\n",
       "      <th>A</th>\n",
       "      <th>B</th>\n",
       "      <th>C</th>\n",
       "      <th>D</th>\n",
       "    </tr>\n",
       "  </thead>\n",
       "  <tbody>\n",
       "    <tr>\n",
       "      <th>2013-01-01</th>\n",
       "      <td>0.145406</td>\n",
       "      <td>-0.099882</td>\n",
       "      <td>-0.650064</td>\n",
       "      <td>-0.259359</td>\n",
       "    </tr>\n",
       "    <tr>\n",
       "      <th>2013-01-02</th>\n",
       "      <td>1.030907</td>\n",
       "      <td>-0.180774</td>\n",
       "      <td>-1.011417</td>\n",
       "      <td>-0.310595</td>\n",
       "    </tr>\n",
       "    <tr>\n",
       "      <th>2013-01-03</th>\n",
       "      <td>0.925675</td>\n",
       "      <td>0.235682</td>\n",
       "      <td>-0.556933</td>\n",
       "      <td>-0.457981</td>\n",
       "    </tr>\n",
       "    <tr>\n",
       "      <th>2013-01-04</th>\n",
       "      <td>-0.570068</td>\n",
       "      <td>-0.178906</td>\n",
       "      <td>0.098077</td>\n",
       "      <td>-0.665014</td>\n",
       "    </tr>\n",
       "    <tr>\n",
       "      <th>2013-01-05</th>\n",
       "      <td>-0.684657</td>\n",
       "      <td>1.362541</td>\n",
       "      <td>0.559109</td>\n",
       "      <td>-0.062809</td>\n",
       "    </tr>\n",
       "  </tbody>\n",
       "</table>\n",
       "</div>"
      ],
      "text/plain": [
       "                   A         B         C         D\n",
       "2013-01-01  0.145406 -0.099882 -0.650064 -0.259359\n",
       "2013-01-02  1.030907 -0.180774 -1.011417 -0.310595\n",
       "2013-01-03  0.925675  0.235682 -0.556933 -0.457981\n",
       "2013-01-04 -0.570068 -0.178906  0.098077 -0.665014\n",
       "2013-01-05 -0.684657  1.362541  0.559109 -0.062809"
      ]
     },
     "execution_count": 18,
     "metadata": {},
     "output_type": "execute_result"
    }
   ],
   "source": [
    "psdf.head()"
   ]
  },
  {
   "cell_type": "markdown",
   "id": "90367c50",
   "metadata": {},
   "source": [
    "## 1-4 판다스를 파이스파크로 바로 변경 "
   ]
  },
  {
   "cell_type": "code",
   "execution_count": 19,
   "id": "5fbf5c3d",
   "metadata": {},
   "outputs": [
    {
     "name": "stderr",
     "output_type": "stream",
     "text": [
      "23/09/12 15:44:28 WARN SparkSession: Using an existing Spark session; only runtime SQL configurations will take effect.\n"
     ]
    }
   ],
   "source": [
    "spark = (SparkSession.builder.appName('ml-bank')\n",
    "                             .config(\"spark.driver.host\",\"127.0.0.1\") \n",
    "                             .config(\"spark.driver.bindAddress\",\"127.0.0.1\")\n",
    "                             .getOrCreate())\n"
   ]
  },
  {
   "cell_type": "code",
   "execution_count": 20,
   "id": "aee68401-10e0-43ce-aa71-c9176084a32b",
   "metadata": {},
   "outputs": [
    {
     "data": {
      "text/html": [
       "\n",
       "            <div>\n",
       "                <p><b>SparkSession - in-memory</b></p>\n",
       "                \n",
       "        <div>\n",
       "            <p><b>SparkContext</b></p>\n",
       "\n",
       "            <p><a href=\"http://10.250.177.159:4042\">Spark UI</a></p>\n",
       "\n",
       "            <dl>\n",
       "              <dt>Version</dt>\n",
       "                <dd><code>v3.4.1</code></dd>\n",
       "              <dt>Master</dt>\n",
       "                <dd><code>local[*]</code></dd>\n",
       "              <dt>AppName</dt>\n",
       "                <dd><code>pandas-on-Spark</code></dd>\n",
       "            </dl>\n",
       "        </div>\n",
       "        \n",
       "            </div>\n",
       "        "
      ],
      "text/plain": [
       "<pyspark.sql.session.SparkSession at 0x17f04b730>"
      ]
     },
     "execution_count": 20,
     "metadata": {},
     "output_type": "execute_result"
    }
   ],
   "source": [
    "spark"
   ]
  },
  {
   "cell_type": "code",
   "execution_count": null,
   "id": "ade4bfe1-ee99-41eb-ab0e-1966e2358a76",
   "metadata": {},
   "outputs": [],
   "source": []
  },
  {
   "cell_type": "code",
   "execution_count": 21,
   "id": "d73d2957",
   "metadata": {},
   "outputs": [],
   "source": [
    "sdf = spark.createDataFrame(pdf)"
   ]
  },
  {
   "cell_type": "code",
   "execution_count": 22,
   "id": "07dd97fb",
   "metadata": {},
   "outputs": [
    {
     "name": "stdout",
     "output_type": "stream",
     "text": [
      "root\n",
      " |-- A: double (nullable = true)\n",
      " |-- B: double (nullable = true)\n",
      " |-- C: double (nullable = true)\n",
      " |-- D: double (nullable = true)\n",
      "\n"
     ]
    }
   ],
   "source": [
    "sdf.printSchema()"
   ]
  },
  {
   "cell_type": "code",
   "execution_count": 23,
   "id": "ac0658c5",
   "metadata": {},
   "outputs": [
    {
     "name": "stdout",
     "output_type": "stream",
     "text": [
      "+-------------------+--------------------+-------------------+--------------------+\n",
      "|                  A|                   B|                  C|                   D|\n",
      "+-------------------+--------------------+-------------------+--------------------+\n",
      "| 0.1454056403456232|-0.09988151445490435|-0.6500635905936156|-0.25935895077556187|\n",
      "| 1.0309068817982507|-0.18077436693820326|-1.0114169189103177|-0.31059481937563427|\n",
      "| 0.9256754223834368| 0.23568195289837873|-0.5569332098855609|-0.45798071396996154|\n",
      "|-0.5700684620461162|-0.17890550996997123|0.09807707063653792| -0.6650135664269996|\n",
      "|-0.6846569727457262|  1.3625408263189376| 0.5591092049617086|-0.06280894787217835|\n",
      "|-0.5805635171562358|  0.7305743862318991| -0.120139850387852|  0.2175825520257261|\n",
      "+-------------------+--------------------+-------------------+--------------------+\n",
      "\n"
     ]
    }
   ],
   "source": [
    "sdf.show()"
   ]
  },
  {
   "cell_type": "code",
   "execution_count": null,
   "id": "22f78139-df49-4292-bfcb-455acea25a7b",
   "metadata": {},
   "outputs": [],
   "source": []
  },
  {
   "cell_type": "code",
   "execution_count": 24,
   "id": "09f4ca77",
   "metadata": {},
   "outputs": [],
   "source": [
    "psdf1 = sdf.pandas_api()"
   ]
  },
  {
   "cell_type": "code",
   "execution_count": 25,
   "id": "f703d316",
   "metadata": {},
   "outputs": [
    {
     "data": {
      "text/html": [
       "<div>\n",
       "<style scoped>\n",
       "    .dataframe tbody tr th:only-of-type {\n",
       "        vertical-align: middle;\n",
       "    }\n",
       "\n",
       "    .dataframe tbody tr th {\n",
       "        vertical-align: top;\n",
       "    }\n",
       "\n",
       "    .dataframe thead th {\n",
       "        text-align: right;\n",
       "    }\n",
       "</style>\n",
       "<table border=\"1\" class=\"dataframe\">\n",
       "  <thead>\n",
       "    <tr style=\"text-align: right;\">\n",
       "      <th></th>\n",
       "      <th>A</th>\n",
       "      <th>B</th>\n",
       "      <th>C</th>\n",
       "      <th>D</th>\n",
       "    </tr>\n",
       "  </thead>\n",
       "  <tbody>\n",
       "    <tr>\n",
       "      <th>0</th>\n",
       "      <td>0.145406</td>\n",
       "      <td>-0.099882</td>\n",
       "      <td>-0.650064</td>\n",
       "      <td>-0.259359</td>\n",
       "    </tr>\n",
       "    <tr>\n",
       "      <th>1</th>\n",
       "      <td>1.030907</td>\n",
       "      <td>-0.180774</td>\n",
       "      <td>-1.011417</td>\n",
       "      <td>-0.310595</td>\n",
       "    </tr>\n",
       "    <tr>\n",
       "      <th>2</th>\n",
       "      <td>0.925675</td>\n",
       "      <td>0.235682</td>\n",
       "      <td>-0.556933</td>\n",
       "      <td>-0.457981</td>\n",
       "    </tr>\n",
       "    <tr>\n",
       "      <th>3</th>\n",
       "      <td>-0.570068</td>\n",
       "      <td>-0.178906</td>\n",
       "      <td>0.098077</td>\n",
       "      <td>-0.665014</td>\n",
       "    </tr>\n",
       "    <tr>\n",
       "      <th>4</th>\n",
       "      <td>-0.684657</td>\n",
       "      <td>1.362541</td>\n",
       "      <td>0.559109</td>\n",
       "      <td>-0.062809</td>\n",
       "    </tr>\n",
       "  </tbody>\n",
       "</table>\n",
       "</div>"
      ],
      "text/plain": [
       "          A         B         C         D\n",
       "0  0.145406 -0.099882 -0.650064 -0.259359\n",
       "1  1.030907 -0.180774 -1.011417 -0.310595\n",
       "2  0.925675  0.235682 -0.556933 -0.457981\n",
       "3 -0.570068 -0.178906  0.098077 -0.665014\n",
       "4 -0.684657  1.362541  0.559109 -0.062809"
      ]
     },
     "execution_count": 25,
     "metadata": {},
     "output_type": "execute_result"
    }
   ],
   "source": [
    "psdf1.head()"
   ]
  },
  {
   "cell_type": "code",
   "execution_count": 26,
   "id": "801ce5fb",
   "metadata": {},
   "outputs": [
    {
     "data": {
      "text/plain": [
       "A    float64\n",
       "B    float64\n",
       "C    float64\n",
       "D    float64\n",
       "dtype: object"
      ]
     },
     "execution_count": 26,
     "metadata": {},
     "output_type": "execute_result"
    }
   ],
   "source": [
    "psdf1.dtypes"
   ]
  },
  {
   "cell_type": "code",
   "execution_count": null,
   "id": "ca5e1c0a",
   "metadata": {},
   "outputs": [],
   "source": []
  }
 ],
 "metadata": {
  "kernelspec": {
   "display_name": "Python 3 (ipykernel)",
   "language": "python",
   "name": "python3"
  },
  "language_info": {
   "codemirror_mode": {
    "name": "ipython",
    "version": 3
   },
   "file_extension": ".py",
   "mimetype": "text/x-python",
   "name": "python",
   "nbconvert_exporter": "python",
   "pygments_lexer": "ipython3",
   "version": "3.9.16"
  }
 },
 "nbformat": 4,
 "nbformat_minor": 5
}
