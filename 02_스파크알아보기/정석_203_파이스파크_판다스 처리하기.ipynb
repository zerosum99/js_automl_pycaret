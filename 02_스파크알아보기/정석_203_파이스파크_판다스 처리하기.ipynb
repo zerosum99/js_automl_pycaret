{
 "cells": [
  {
   "cell_type": "markdown",
   "id": "7ccec3ce-24b6-420f-83a6-695de1bde5dd",
   "metadata": {},
   "source": [
    "# 1. 파이스파크와 판다스 연계하기 "
   ]
  },
  {
   "cell_type": "markdown",
   "id": "9bd96b5f-6ccf-48d4-a670-5cfa6b80767d",
   "metadata": {},
   "source": [
    "## 판다스 모듈"
   ]
  },
  {
   "cell_type": "code",
   "execution_count": 1,
   "id": "37dc0213-7803-4bb0-b93c-a1a3389bbde5",
   "metadata": {},
   "outputs": [],
   "source": [
    "import pandas as pd\n",
    "import numpy as np"
   ]
  },
  {
   "cell_type": "markdown",
   "id": "7a6fda6d-d9d9-4c93-a023-b24a732e9078",
   "metadata": {},
   "source": [
    "## 파이스파크에서 판다스 api 활용 \n",
    "\n",
    "- pyspark.pandas 모듈은 PySpark와 Pandas를 통합하는 데 사용되는 도구입니다.\n",
    "- 이 모듈은 PySpark의 DataFrame과 Pandas의 DataFrame 간의 변환을 용이하게 하고, PySpark에서 Pandas 함수를 실행하고 Pandas에서 PySpark 함수를 실행할 수 있게 해줍니다."
   ]
  },
  {
   "cell_type": "markdown",
   "id": "d88bb8b5-b2ac-4406-bdd2-7f2d7002e250",
   "metadata": {},
   "source": [
    "## 주요 특징 \n",
    "\n",
    "### 상호 운용성(Interoperability):\n",
    "- PySpark와 Pandas는 각자의 장점과 한계를 갖고 있습니다. \n",
    "- PySpark는 대규모 데이터 처리와 분산 컴퓨팅에 뛰어나지만, 작은 데이터셋에 대한 데이터 조작은 Pandas가 더 편리합니다. \n",
    "- pyspark.pandas 모듈은 이러한 두 환경 간의 데이터 이동과 변환을 원활하게 처리하여 개발자가 더 편리하게 작업할 수 있도록 합니다.\n",
    "\n",
    "### Pandas 기능의 활용: \n",
    "- Pandas는 데이터 조작 및 분석에 매우 풍부한 기능을 제공합니다. \n",
    "- pyspark.pandas를 사용하면 PySpark 데이터프레임에서 Pandas 함수를 사용할 수 있으므로, Pandas의 다양한 기능을 활용하여 데이터를 탐색하고 가공할 수 있습니다.\n",
    "\n",
    "### 대화형 분석(Interactive Analysis): \n",
    "- 데이터 분석 작업에서는 대화형 분석이 중요합니다. \n",
    "- pyspark.pandas는 PySpark 데이터프레임을 Pandas 데이터프레임으로 변환하여 개발자가 대화형으로 데이터를 탐색하고 시각화하는 데 도움을 줍니다.\n",
    "\n",
    "### 문제 해결 및 튜닝(Troubleshooting and Tuning): \n",
    "- 데이터 처리 및 분석 작업에서 성능 문제를 해결하거나 튜닝할 때 pyspark.pandas를 사용하여 데이터를 더 쉽게 검사하고 디버깅할 수 있습니다."
   ]
  },
  {
   "cell_type": "code",
   "execution_count": null,
   "id": "783b6454-9730-4c28-8ed4-9394a2a62e10",
   "metadata": {},
   "outputs": [],
   "source": []
  },
  {
   "cell_type": "markdown",
   "id": "9fc66b92-6775-4d27-9169-735c29607a59",
   "metadata": {},
   "source": [
    "## 파이스파크에서 판다스 모듈 사용하기 "
   ]
  },
  {
   "cell_type": "code",
   "execution_count": 3,
   "id": "86a68826-5808-4449-b1a2-54a4d2b239aa",
   "metadata": {},
   "outputs": [],
   "source": [
    "import pyspark.pandas as ps"
   ]
  },
  {
   "cell_type": "markdown",
   "id": "5540c682-5793-4a56-b168-5e5082dfac74",
   "metadata": {},
   "source": [
    "## 스파크 세션 처리 "
   ]
  },
  {
   "cell_type": "code",
   "execution_count": 4,
   "id": "88cae9b1",
   "metadata": {},
   "outputs": [],
   "source": [
    "from pyspark.sql import SparkSession"
   ]
  },
  {
   "cell_type": "code",
   "execution_count": 6,
   "id": "74c087be-3d7f-4ab7-941e-b8ee88e951d3",
   "metadata": {},
   "outputs": [
    {
     "name": "stderr",
     "output_type": "stream",
     "text": [
      "23/09/13 02:29:59 WARN SparkContext: Another SparkContext is being constructed (or threw an exception in its constructor). This may indicate an error, since only one SparkContext should be running in this JVM (see SPARK-2243). The other SparkContext was created at:\n",
      "org.apache.spark.api.java.JavaSparkContext.<init>(JavaSparkContext.scala:58)\n",
      "java.base/jdk.internal.reflect.NativeConstructorAccessorImpl.newInstance0(Native Method)\n",
      "java.base/jdk.internal.reflect.NativeConstructorAccessorImpl.newInstance(NativeConstructorAccessorImpl.java:62)\n",
      "java.base/jdk.internal.reflect.DelegatingConstructorAccessorImpl.newInstance(DelegatingConstructorAccessorImpl.java:45)\n",
      "java.base/java.lang.reflect.Constructor.newInstance(Constructor.java:490)\n",
      "py4j.reflection.MethodInvoker.invoke(MethodInvoker.java:247)\n",
      "py4j.reflection.ReflectionEngine.invoke(ReflectionEngine.java:374)\n",
      "py4j.Gateway.invoke(Gateway.java:238)\n",
      "py4j.commands.ConstructorCommand.invokeConstructor(ConstructorCommand.java:80)\n",
      "py4j.commands.ConstructorCommand.execute(ConstructorCommand.java:69)\n",
      "py4j.ClientServerConnection.waitForCommands(ClientServerConnection.java:182)\n",
      "py4j.ClientServerConnection.run(ClientServerConnection.java:106)\n",
      "java.base/java.lang.Thread.run(Thread.java:829)\n",
      "23/09/13 02:29:59 WARN Utils: Service 'SparkUI' could not bind on port 4040. Attempting port 4041.\n"
     ]
    }
   ],
   "source": [
    "spark = (SparkSession.builder\n",
    "           .master(\"local[*]\")\n",
    "           .config(\"spark.driver.host\",\"127.0.0.1\") \n",
    "           .config(\"spark.driver.bindAddress\",\"127.0.0.1\")\n",
    "           .appName(\"PySpark_basic_2\")\n",
    "           .getOrCreate())"
   ]
  },
  {
   "cell_type": "code",
   "execution_count": 7,
   "id": "b7d48edf-f953-4674-85d5-cec2c62c9a1b",
   "metadata": {},
   "outputs": [
    {
     "data": {
      "text/html": [
       "\n",
       "            <div>\n",
       "                <p><b>SparkSession - in-memory</b></p>\n",
       "                \n",
       "        <div>\n",
       "            <p><b>SparkContext</b></p>\n",
       "\n",
       "            <p><a href=\"http://127.0.0.1:4041\">Spark UI</a></p>\n",
       "\n",
       "            <dl>\n",
       "              <dt>Version</dt>\n",
       "                <dd><code>v3.4.1</code></dd>\n",
       "              <dt>Master</dt>\n",
       "                <dd><code>local[*]</code></dd>\n",
       "              <dt>AppName</dt>\n",
       "                <dd><code>PySpark_basic_2</code></dd>\n",
       "            </dl>\n",
       "        </div>\n",
       "        \n",
       "            </div>\n",
       "        "
      ],
      "text/plain": [
       "<pyspark.sql.session.SparkSession at 0x137339130>"
      ]
     },
     "execution_count": 7,
     "metadata": {},
     "output_type": "execute_result"
    }
   ],
   "source": [
    "spark"
   ]
  },
  {
   "cell_type": "markdown",
   "id": "525b434f",
   "metadata": {},
   "source": [
    "## 1-1 판다스와 파이스파크의 판다스 모듈 비교 :시리즈 클래스 "
   ]
  },
  {
   "cell_type": "markdown",
   "id": "466f2d3c-45d7-43f0-83fc-7f3651944c4c",
   "metadata": {},
   "source": [
    "### 시리즈 객체 생성 : 파이스파크 판다스 "
   ]
  },
  {
   "cell_type": "code",
   "execution_count": 8,
   "id": "ee5dbf0d",
   "metadata": {},
   "outputs": [],
   "source": [
    "ps_s = ps.Series([1, 3, 5, np.nan, 6, 8])"
   ]
  },
  {
   "cell_type": "code",
   "execution_count": 9,
   "id": "5e76f05c-f880-4b0f-a65f-89dd6b5c99c5",
   "metadata": {},
   "outputs": [
    {
     "name": "stderr",
     "output_type": "stream",
     "text": [
      "                                                                                \r"
     ]
    },
    {
     "data": {
      "text/plain": [
       "0    1.0\n",
       "1    3.0\n",
       "2    5.0\n",
       "3    NaN\n",
       "4    6.0\n",
       "5    8.0\n",
       "dtype: float64"
      ]
     },
     "execution_count": 9,
     "metadata": {},
     "output_type": "execute_result"
    }
   ],
   "source": [
    "ps_s"
   ]
  },
  {
   "cell_type": "markdown",
   "id": "bf13ad71-6c41-4d0f-8fc4-aa6cc2f14f76",
   "metadata": {},
   "source": [
    "### 시리즈 객체 생성 : 판다스 "
   ]
  },
  {
   "cell_type": "code",
   "execution_count": 10,
   "id": "7c7d9adf-d9c5-448e-be32-4cd3a347c6de",
   "metadata": {},
   "outputs": [],
   "source": [
    "s = pd.Series([1, 3, 5, np.nan, 6, 8])"
   ]
  },
  {
   "cell_type": "code",
   "execution_count": 11,
   "id": "e67568e5",
   "metadata": {},
   "outputs": [
    {
     "data": {
      "text/plain": [
       "0    1.0\n",
       "1    3.0\n",
       "2    5.0\n",
       "3    NaN\n",
       "4    6.0\n",
       "5    8.0\n",
       "dtype: float64"
      ]
     },
     "execution_count": 11,
     "metadata": {},
     "output_type": "execute_result"
    }
   ],
   "source": [
    "s"
   ]
  },
  {
   "cell_type": "markdown",
   "id": "ef905c75-f2f0-4a97-888f-c633c480617b",
   "metadata": {},
   "source": [
    "### 두 객체의 자료형을 확인하기 "
   ]
  },
  {
   "cell_type": "code",
   "execution_count": 12,
   "id": "67729701",
   "metadata": {},
   "outputs": [
    {
     "data": {
      "text/plain": [
       "(pyspark.pandas.series.Series, pandas.core.series.Series)"
      ]
     },
     "execution_count": 12,
     "metadata": {},
     "output_type": "execute_result"
    }
   ],
   "source": [
    "type(ps_s), type(s)"
   ]
  },
  {
   "cell_type": "markdown",
   "id": "0eb2fc75-f3e3-4d39-b8f7-70f4bb8ebb58",
   "metadata": {},
   "source": [
    "### 주요 메서드 처리하기 "
   ]
  },
  {
   "cell_type": "code",
   "execution_count": 13,
   "id": "9ee9dcfc",
   "metadata": {},
   "outputs": [
    {
     "data": {
      "text/plain": [
       "1.0    1\n",
       "3.0    1\n",
       "5.0    1\n",
       "6.0    1\n",
       "8.0    1\n",
       "dtype: int64"
      ]
     },
     "execution_count": 13,
     "metadata": {},
     "output_type": "execute_result"
    }
   ],
   "source": [
    "s.value_counts()"
   ]
  },
  {
   "cell_type": "code",
   "execution_count": 14,
   "id": "59835de3-df8b-4fa9-9bf5-978ceedb92f0",
   "metadata": {},
   "outputs": [
    {
     "data": {
      "text/plain": [
       "1.0    1\n",
       "3.0    1\n",
       "5.0    1\n",
       "6.0    1\n",
       "8.0    1\n",
       "dtype: int64"
      ]
     },
     "execution_count": 14,
     "metadata": {},
     "output_type": "execute_result"
    }
   ],
   "source": [
    "ps_s.value_counts()"
   ]
  },
  {
   "cell_type": "code",
   "execution_count": null,
   "id": "aede9d9b-d6e2-4f0e-adc5-9a193b66ea32",
   "metadata": {},
   "outputs": [],
   "source": []
  },
  {
   "cell_type": "code",
   "execution_count": 15,
   "id": "b7f0cd85-efdf-402a-821e-fb0abfb18cee",
   "metadata": {},
   "outputs": [
    {
     "name": "stderr",
     "output_type": "stream",
     "text": [
      "/Users/a06411/opt/anaconda3/envs/pycaret/lib/python3.9/site-packages/pyspark/pandas/utils.py:975: PandasAPIOnSparkAdviceWarning: `to_pandas` loads all data into the driver's memory. It should only be used if the resulting pandas Series is expected to be small.\n",
      "  warnings.warn(message, PandasAPIOnSparkAdviceWarning)\n"
     ]
    }
   ],
   "source": [
    "ss = ps_s.to_pandas()"
   ]
  },
  {
   "cell_type": "code",
   "execution_count": 16,
   "id": "d7dcbcea-5260-43fa-984d-fc90c77bebeb",
   "metadata": {},
   "outputs": [
    {
     "data": {
      "text/plain": [
       "pandas.core.series.Series"
      ]
     },
     "execution_count": 16,
     "metadata": {},
     "output_type": "execute_result"
    }
   ],
   "source": [
    "type(ss)"
   ]
  },
  {
   "cell_type": "code",
   "execution_count": null,
   "id": "eac00497-c790-4ebc-9f9e-31f338405bc2",
   "metadata": {},
   "outputs": [],
   "source": []
  },
  {
   "cell_type": "markdown",
   "id": "a604c569",
   "metadata": {},
   "source": [
    "## 1-2  판다스와 파이스파크의 판다스 모듈 비교 : 데이터프레임 "
   ]
  },
  {
   "cell_type": "markdown",
   "id": "d4448fb1-6aad-4f77-b748-39e75c9cb1b4",
   "metadata": {},
   "source": [
    "## 판다스 데이터프레임 "
   ]
  },
  {
   "cell_type": "code",
   "execution_count": 17,
   "id": "93f7f78f-5e07-45f8-8c07-c8bf04897c3d",
   "metadata": {},
   "outputs": [],
   "source": [
    "df = pd.DataFrame(\n",
    "    {'a': [1, 2, 3, 4, 5, 6],\n",
    "     'b': [100, 200, 300, 400, 500, 600],\n",
    "     'c': [\"one\", \"two\", \"three\", \"four\", \"five\", \"six\"]},\n",
    "    index=[10, 20, 30, 40, 50, 60])"
   ]
  },
  {
   "cell_type": "markdown",
   "id": "9552b756-f69b-403c-a10f-321b878b674c",
   "metadata": {},
   "source": [
    "## 파이스파크 판다스의 데이터프레임 "
   ]
  },
  {
   "cell_type": "code",
   "execution_count": 18,
   "id": "e92d5ed3",
   "metadata": {},
   "outputs": [],
   "source": [
    "ps_df = ps.DataFrame(\n",
    "    {'a': [1, 2, 3, 4, 5, 6],\n",
    "     'b': [100, 200, 300, 400, 500, 600],\n",
    "     'c': [\"one\", \"two\", \"three\", \"four\", \"five\", \"six\"]},\n",
    "    index=[10, 20, 30, 40, 50, 60])"
   ]
  },
  {
   "cell_type": "markdown",
   "id": "d3a7a6a5-6a70-45af-a79e-99dd97111a72",
   "metadata": {},
   "source": [
    "### 자료형 확인 "
   ]
  },
  {
   "cell_type": "code",
   "execution_count": 19,
   "id": "5133abb8",
   "metadata": {},
   "outputs": [
    {
     "data": {
      "text/plain": [
       "(pyspark.pandas.frame.DataFrame, pandas.core.frame.DataFrame)"
      ]
     },
     "execution_count": 19,
     "metadata": {},
     "output_type": "execute_result"
    }
   ],
   "source": [
    "type(ps_df), type(df)"
   ]
  },
  {
   "cell_type": "markdown",
   "id": "f937a65a-73f3-44aa-865f-df83cd09f1ad",
   "metadata": {},
   "source": [
    "### 데이터 확인 "
   ]
  },
  {
   "cell_type": "code",
   "execution_count": 20,
   "id": "9260bb55",
   "metadata": {},
   "outputs": [
    {
     "data": {
      "text/html": [
       "<div>\n",
       "<style scoped>\n",
       "    .dataframe tbody tr th:only-of-type {\n",
       "        vertical-align: middle;\n",
       "    }\n",
       "\n",
       "    .dataframe tbody tr th {\n",
       "        vertical-align: top;\n",
       "    }\n",
       "\n",
       "    .dataframe thead th {\n",
       "        text-align: right;\n",
       "    }\n",
       "</style>\n",
       "<table border=\"1\" class=\"dataframe\">\n",
       "  <thead>\n",
       "    <tr style=\"text-align: right;\">\n",
       "      <th></th>\n",
       "      <th>a</th>\n",
       "      <th>b</th>\n",
       "      <th>c</th>\n",
       "    </tr>\n",
       "  </thead>\n",
       "  <tbody>\n",
       "    <tr>\n",
       "      <th>10</th>\n",
       "      <td>1</td>\n",
       "      <td>100</td>\n",
       "      <td>one</td>\n",
       "    </tr>\n",
       "    <tr>\n",
       "      <th>20</th>\n",
       "      <td>2</td>\n",
       "      <td>200</td>\n",
       "      <td>two</td>\n",
       "    </tr>\n",
       "    <tr>\n",
       "      <th>30</th>\n",
       "      <td>3</td>\n",
       "      <td>300</td>\n",
       "      <td>three</td>\n",
       "    </tr>\n",
       "    <tr>\n",
       "      <th>40</th>\n",
       "      <td>4</td>\n",
       "      <td>400</td>\n",
       "      <td>four</td>\n",
       "    </tr>\n",
       "    <tr>\n",
       "      <th>50</th>\n",
       "      <td>5</td>\n",
       "      <td>500</td>\n",
       "      <td>five</td>\n",
       "    </tr>\n",
       "    <tr>\n",
       "      <th>60</th>\n",
       "      <td>6</td>\n",
       "      <td>600</td>\n",
       "      <td>six</td>\n",
       "    </tr>\n",
       "  </tbody>\n",
       "</table>\n",
       "</div>"
      ],
      "text/plain": [
       "    a    b      c\n",
       "10  1  100    one\n",
       "20  2  200    two\n",
       "30  3  300  three\n",
       "40  4  400   four\n",
       "50  5  500   five\n",
       "60  6  600    six"
      ]
     },
     "execution_count": 20,
     "metadata": {},
     "output_type": "execute_result"
    }
   ],
   "source": [
    "ps_df"
   ]
  },
  {
   "cell_type": "code",
   "execution_count": 21,
   "id": "f5e0f364",
   "metadata": {},
   "outputs": [
    {
     "data": {
      "text/html": [
       "<div>\n",
       "<style scoped>\n",
       "    .dataframe tbody tr th:only-of-type {\n",
       "        vertical-align: middle;\n",
       "    }\n",
       "\n",
       "    .dataframe tbody tr th {\n",
       "        vertical-align: top;\n",
       "    }\n",
       "\n",
       "    .dataframe thead th {\n",
       "        text-align: right;\n",
       "    }\n",
       "</style>\n",
       "<table border=\"1\" class=\"dataframe\">\n",
       "  <thead>\n",
       "    <tr style=\"text-align: right;\">\n",
       "      <th></th>\n",
       "      <th>a</th>\n",
       "      <th>b</th>\n",
       "      <th>c</th>\n",
       "    </tr>\n",
       "  </thead>\n",
       "  <tbody>\n",
       "    <tr>\n",
       "      <th>10</th>\n",
       "      <td>1</td>\n",
       "      <td>100</td>\n",
       "      <td>one</td>\n",
       "    </tr>\n",
       "    <tr>\n",
       "      <th>20</th>\n",
       "      <td>2</td>\n",
       "      <td>200</td>\n",
       "      <td>two</td>\n",
       "    </tr>\n",
       "    <tr>\n",
       "      <th>30</th>\n",
       "      <td>3</td>\n",
       "      <td>300</td>\n",
       "      <td>three</td>\n",
       "    </tr>\n",
       "    <tr>\n",
       "      <th>40</th>\n",
       "      <td>4</td>\n",
       "      <td>400</td>\n",
       "      <td>four</td>\n",
       "    </tr>\n",
       "    <tr>\n",
       "      <th>50</th>\n",
       "      <td>5</td>\n",
       "      <td>500</td>\n",
       "      <td>five</td>\n",
       "    </tr>\n",
       "    <tr>\n",
       "      <th>60</th>\n",
       "      <td>6</td>\n",
       "      <td>600</td>\n",
       "      <td>six</td>\n",
       "    </tr>\n",
       "  </tbody>\n",
       "</table>\n",
       "</div>"
      ],
      "text/plain": [
       "    a    b      c\n",
       "10  1  100    one\n",
       "20  2  200    two\n",
       "30  3  300  three\n",
       "40  4  400   four\n",
       "50  5  500   five\n",
       "60  6  600    six"
      ]
     },
     "execution_count": 21,
     "metadata": {},
     "output_type": "execute_result"
    }
   ],
   "source": [
    "df"
   ]
  },
  {
   "cell_type": "markdown",
   "id": "b021ee2b-d334-4cd7-9b01-dcb3a0778766",
   "metadata": {},
   "source": [
    "### 파이썬 판다스로 변환 "
   ]
  },
  {
   "cell_type": "code",
   "execution_count": 22,
   "id": "308322f0-e304-4444-91f8-bc114c68f259",
   "metadata": {},
   "outputs": [
    {
     "name": "stderr",
     "output_type": "stream",
     "text": [
      "/Users/a06411/opt/anaconda3/envs/pycaret/lib/python3.9/site-packages/pyspark/pandas/utils.py:975: PandasAPIOnSparkAdviceWarning: `to_pandas` loads all data into the driver's memory. It should only be used if the resulting pandas DataFrame is expected to be small.\n",
      "  warnings.warn(message, PandasAPIOnSparkAdviceWarning)\n"
     ]
    },
    {
     "data": {
      "text/html": [
       "<div>\n",
       "<style scoped>\n",
       "    .dataframe tbody tr th:only-of-type {\n",
       "        vertical-align: middle;\n",
       "    }\n",
       "\n",
       "    .dataframe tbody tr th {\n",
       "        vertical-align: top;\n",
       "    }\n",
       "\n",
       "    .dataframe thead th {\n",
       "        text-align: right;\n",
       "    }\n",
       "</style>\n",
       "<table border=\"1\" class=\"dataframe\">\n",
       "  <thead>\n",
       "    <tr style=\"text-align: right;\">\n",
       "      <th></th>\n",
       "      <th>a</th>\n",
       "      <th>b</th>\n",
       "      <th>c</th>\n",
       "    </tr>\n",
       "  </thead>\n",
       "  <tbody>\n",
       "    <tr>\n",
       "      <th>10</th>\n",
       "      <td>1</td>\n",
       "      <td>100</td>\n",
       "      <td>one</td>\n",
       "    </tr>\n",
       "    <tr>\n",
       "      <th>20</th>\n",
       "      <td>2</td>\n",
       "      <td>200</td>\n",
       "      <td>two</td>\n",
       "    </tr>\n",
       "    <tr>\n",
       "      <th>30</th>\n",
       "      <td>3</td>\n",
       "      <td>300</td>\n",
       "      <td>three</td>\n",
       "    </tr>\n",
       "    <tr>\n",
       "      <th>40</th>\n",
       "      <td>4</td>\n",
       "      <td>400</td>\n",
       "      <td>four</td>\n",
       "    </tr>\n",
       "    <tr>\n",
       "      <th>50</th>\n",
       "      <td>5</td>\n",
       "      <td>500</td>\n",
       "      <td>five</td>\n",
       "    </tr>\n",
       "    <tr>\n",
       "      <th>60</th>\n",
       "      <td>6</td>\n",
       "      <td>600</td>\n",
       "      <td>six</td>\n",
       "    </tr>\n",
       "  </tbody>\n",
       "</table>\n",
       "</div>"
      ],
      "text/plain": [
       "    a    b      c\n",
       "10  1  100    one\n",
       "20  2  200    two\n",
       "30  3  300  three\n",
       "40  4  400   four\n",
       "50  5  500   five\n",
       "60  6  600    six"
      ]
     },
     "execution_count": 22,
     "metadata": {},
     "output_type": "execute_result"
    }
   ],
   "source": [
    "ps_df.to_pandas()"
   ]
  },
  {
   "cell_type": "markdown",
   "id": "4debfc39",
   "metadata": {},
   "source": [
    "## 1-3 판다스에서 파이스파크 내의 판다스로 변환"
   ]
  },
  {
   "cell_type": "markdown",
   "id": "7e7da7fe-c3d4-40f2-9c17-8efc664d8b01",
   "metadata": {},
   "source": [
    "### 판다스로 날짜 데이터 범위 처리 "
   ]
  },
  {
   "cell_type": "code",
   "execution_count": 23,
   "id": "2bf827b6",
   "metadata": {},
   "outputs": [],
   "source": [
    "dates = pd.date_range('20130101', periods=6)"
   ]
  },
  {
   "cell_type": "code",
   "execution_count": 24,
   "id": "0cbe60b5",
   "metadata": {},
   "outputs": [
    {
     "data": {
      "text/plain": [
       "DatetimeIndex(['2013-01-01', '2013-01-02', '2013-01-03', '2013-01-04',\n",
       "               '2013-01-05', '2013-01-06'],\n",
       "              dtype='datetime64[ns]', freq='D')"
      ]
     },
     "execution_count": 24,
     "metadata": {},
     "output_type": "execute_result"
    }
   ],
   "source": [
    "dates"
   ]
  },
  {
   "cell_type": "markdown",
   "id": "705bf59b-5792-4dc3-a04b-ca45a4285ae4",
   "metadata": {},
   "source": [
    "### 판다스 데이터프레임 생성할 때 인덱스와 칼럼 지정하기 "
   ]
  },
  {
   "cell_type": "code",
   "execution_count": 25,
   "id": "55ad7272",
   "metadata": {},
   "outputs": [],
   "source": [
    "pdf = pd.DataFrame(np.random.randn(6, 4), index=dates, columns=list('ABCD'))"
   ]
  },
  {
   "cell_type": "code",
   "execution_count": 26,
   "id": "7c82c3d2",
   "metadata": {},
   "outputs": [
    {
     "data": {
      "text/plain": [
       "pandas.core.frame.DataFrame"
      ]
     },
     "execution_count": 26,
     "metadata": {},
     "output_type": "execute_result"
    }
   ],
   "source": [
    "type(pdf)"
   ]
  },
  {
   "cell_type": "code",
   "execution_count": 27,
   "id": "6a6d10be",
   "metadata": {},
   "outputs": [
    {
     "data": {
      "text/html": [
       "<div>\n",
       "<style scoped>\n",
       "    .dataframe tbody tr th:only-of-type {\n",
       "        vertical-align: middle;\n",
       "    }\n",
       "\n",
       "    .dataframe tbody tr th {\n",
       "        vertical-align: top;\n",
       "    }\n",
       "\n",
       "    .dataframe thead th {\n",
       "        text-align: right;\n",
       "    }\n",
       "</style>\n",
       "<table border=\"1\" class=\"dataframe\">\n",
       "  <thead>\n",
       "    <tr style=\"text-align: right;\">\n",
       "      <th></th>\n",
       "      <th>A</th>\n",
       "      <th>B</th>\n",
       "      <th>C</th>\n",
       "      <th>D</th>\n",
       "    </tr>\n",
       "  </thead>\n",
       "  <tbody>\n",
       "    <tr>\n",
       "      <th>2013-01-01</th>\n",
       "      <td>-0.227944</td>\n",
       "      <td>0.413050</td>\n",
       "      <td>1.156967</td>\n",
       "      <td>0.373436</td>\n",
       "    </tr>\n",
       "    <tr>\n",
       "      <th>2013-01-02</th>\n",
       "      <td>1.803409</td>\n",
       "      <td>1.104533</td>\n",
       "      <td>0.039567</td>\n",
       "      <td>0.594882</td>\n",
       "    </tr>\n",
       "    <tr>\n",
       "      <th>2013-01-03</th>\n",
       "      <td>0.977497</td>\n",
       "      <td>-1.369193</td>\n",
       "      <td>0.191413</td>\n",
       "      <td>-0.465368</td>\n",
       "    </tr>\n",
       "    <tr>\n",
       "      <th>2013-01-04</th>\n",
       "      <td>2.784228</td>\n",
       "      <td>-0.617891</td>\n",
       "      <td>-0.013584</td>\n",
       "      <td>1.783281</td>\n",
       "    </tr>\n",
       "    <tr>\n",
       "      <th>2013-01-05</th>\n",
       "      <td>-0.393797</td>\n",
       "      <td>1.392801</td>\n",
       "      <td>0.596686</td>\n",
       "      <td>1.649750</td>\n",
       "    </tr>\n",
       "    <tr>\n",
       "      <th>2013-01-06</th>\n",
       "      <td>-0.048635</td>\n",
       "      <td>0.640985</td>\n",
       "      <td>-0.527909</td>\n",
       "      <td>-1.075586</td>\n",
       "    </tr>\n",
       "  </tbody>\n",
       "</table>\n",
       "</div>"
      ],
      "text/plain": [
       "                   A         B         C         D\n",
       "2013-01-01 -0.227944  0.413050  1.156967  0.373436\n",
       "2013-01-02  1.803409  1.104533  0.039567  0.594882\n",
       "2013-01-03  0.977497 -1.369193  0.191413 -0.465368\n",
       "2013-01-04  2.784228 -0.617891 -0.013584  1.783281\n",
       "2013-01-05 -0.393797  1.392801  0.596686  1.649750\n",
       "2013-01-06 -0.048635  0.640985 -0.527909 -1.075586"
      ]
     },
     "execution_count": 27,
     "metadata": {},
     "output_type": "execute_result"
    }
   ],
   "source": [
    "pdf"
   ]
  },
  {
   "cell_type": "markdown",
   "id": "709dab1d",
   "metadata": {},
   "source": [
    "### 날짜 데이터 타입에서 에러가 발생해서 문자열로 변경 "
   ]
  },
  {
   "cell_type": "code",
   "execution_count": 28,
   "id": "e269f74c",
   "metadata": {},
   "outputs": [
    {
     "data": {
      "text/plain": [
       "dtype('<M8[ns]')"
      ]
     },
     "execution_count": 28,
     "metadata": {},
     "output_type": "execute_result"
    }
   ],
   "source": [
    "pdf.index.dtype"
   ]
  },
  {
   "cell_type": "code",
   "execution_count": 29,
   "id": "187ea3d6",
   "metadata": {},
   "outputs": [],
   "source": [
    "pdf.index =  pdf.index.astype('str')"
   ]
  },
  {
   "cell_type": "code",
   "execution_count": 30,
   "id": "b43cb378",
   "metadata": {},
   "outputs": [
    {
     "data": {
      "text/plain": [
       "dtype('O')"
      ]
     },
     "execution_count": 30,
     "metadata": {},
     "output_type": "execute_result"
    }
   ],
   "source": [
    "pdf.index.dtype"
   ]
  },
  {
   "cell_type": "markdown",
   "id": "5b2f00eb-759c-4faf-913d-dc7357803c03",
   "metadata": {},
   "source": [
    "### 판다스에서 스파크 내의 판다스로 변환하기 "
   ]
  },
  {
   "cell_type": "code",
   "execution_count": 31,
   "id": "3cea3350",
   "metadata": {},
   "outputs": [],
   "source": [
    "psdf = ps.from_pandas(pdf)"
   ]
  },
  {
   "cell_type": "code",
   "execution_count": 32,
   "id": "3b61a73a",
   "metadata": {},
   "outputs": [
    {
     "data": {
      "text/plain": [
       "pyspark.pandas.frame.DataFrame"
      ]
     },
     "execution_count": 32,
     "metadata": {},
     "output_type": "execute_result"
    }
   ],
   "source": [
    "type(psdf)"
   ]
  },
  {
   "cell_type": "code",
   "execution_count": 33,
   "id": "d8a2e64a",
   "metadata": {},
   "outputs": [
    {
     "data": {
      "text/html": [
       "<div>\n",
       "<style scoped>\n",
       "    .dataframe tbody tr th:only-of-type {\n",
       "        vertical-align: middle;\n",
       "    }\n",
       "\n",
       "    .dataframe tbody tr th {\n",
       "        vertical-align: top;\n",
       "    }\n",
       "\n",
       "    .dataframe thead th {\n",
       "        text-align: right;\n",
       "    }\n",
       "</style>\n",
       "<table border=\"1\" class=\"dataframe\">\n",
       "  <thead>\n",
       "    <tr style=\"text-align: right;\">\n",
       "      <th></th>\n",
       "      <th>A</th>\n",
       "      <th>B</th>\n",
       "      <th>C</th>\n",
       "      <th>D</th>\n",
       "    </tr>\n",
       "  </thead>\n",
       "  <tbody>\n",
       "    <tr>\n",
       "      <th>2013-01-01</th>\n",
       "      <td>-0.227944</td>\n",
       "      <td>0.413050</td>\n",
       "      <td>1.156967</td>\n",
       "      <td>0.373436</td>\n",
       "    </tr>\n",
       "    <tr>\n",
       "      <th>2013-01-02</th>\n",
       "      <td>1.803409</td>\n",
       "      <td>1.104533</td>\n",
       "      <td>0.039567</td>\n",
       "      <td>0.594882</td>\n",
       "    </tr>\n",
       "    <tr>\n",
       "      <th>2013-01-03</th>\n",
       "      <td>0.977497</td>\n",
       "      <td>-1.369193</td>\n",
       "      <td>0.191413</td>\n",
       "      <td>-0.465368</td>\n",
       "    </tr>\n",
       "    <tr>\n",
       "      <th>2013-01-04</th>\n",
       "      <td>2.784228</td>\n",
       "      <td>-0.617891</td>\n",
       "      <td>-0.013584</td>\n",
       "      <td>1.783281</td>\n",
       "    </tr>\n",
       "    <tr>\n",
       "      <th>2013-01-05</th>\n",
       "      <td>-0.393797</td>\n",
       "      <td>1.392801</td>\n",
       "      <td>0.596686</td>\n",
       "      <td>1.649750</td>\n",
       "    </tr>\n",
       "  </tbody>\n",
       "</table>\n",
       "</div>"
      ],
      "text/plain": [
       "                   A         B         C         D\n",
       "2013-01-01 -0.227944  0.413050  1.156967  0.373436\n",
       "2013-01-02  1.803409  1.104533  0.039567  0.594882\n",
       "2013-01-03  0.977497 -1.369193  0.191413 -0.465368\n",
       "2013-01-04  2.784228 -0.617891 -0.013584  1.783281\n",
       "2013-01-05 -0.393797  1.392801  0.596686  1.649750"
      ]
     },
     "execution_count": 33,
     "metadata": {},
     "output_type": "execute_result"
    }
   ],
   "source": [
    "psdf.head()"
   ]
  },
  {
   "cell_type": "markdown",
   "id": "90367c50",
   "metadata": {},
   "source": [
    "## 1-4 판다스를 파이스파크로 바로 변경 "
   ]
  },
  {
   "cell_type": "markdown",
   "id": "b31908c5-c95f-4569-9e80-45bca875ba8c",
   "metadata": {},
   "source": [
    "### 파이스파크 데이터프레임으로 변환"
   ]
  },
  {
   "cell_type": "code",
   "execution_count": 34,
   "id": "d73d2957",
   "metadata": {},
   "outputs": [],
   "source": [
    "sdf = spark.createDataFrame(pdf)"
   ]
  },
  {
   "cell_type": "code",
   "execution_count": 35,
   "id": "07dd97fb",
   "metadata": {},
   "outputs": [
    {
     "name": "stdout",
     "output_type": "stream",
     "text": [
      "root\n",
      " |-- A: double (nullable = true)\n",
      " |-- B: double (nullable = true)\n",
      " |-- C: double (nullable = true)\n",
      " |-- D: double (nullable = true)\n",
      "\n"
     ]
    }
   ],
   "source": [
    "sdf.printSchema()"
   ]
  },
  {
   "cell_type": "code",
   "execution_count": 36,
   "id": "ac0658c5",
   "metadata": {},
   "outputs": [
    {
     "name": "stdout",
     "output_type": "stream",
     "text": [
      "+--------------------+-------------------+--------------------+-------------------+\n",
      "|                   A|                  B|                   C|                  D|\n",
      "+--------------------+-------------------+--------------------+-------------------+\n",
      "| -0.2279440366763597|0.41305036828061065|  1.1569673263685598|  0.373436281134331|\n",
      "|  1.8034092605543701| 1.1045327742556277| 0.03956720817080143| 0.5948815838198223|\n",
      "|  0.9774967524542935|-1.3691926436739106|  0.1914130725050146|-0.4653681503642947|\n",
      "|  2.7842275941122785| -0.617891020670731|-0.01358427784666...| 1.7832808317919835|\n",
      "|-0.39379710878762786| 1.3928012113129375|  0.5966856311242036|  1.649749749492562|\n",
      "|-0.04863485287348672|  0.640985168832615| -0.5279093079040785|-1.0755855186683685|\n",
      "+--------------------+-------------------+--------------------+-------------------+\n",
      "\n"
     ]
    }
   ],
   "source": [
    "sdf.show()"
   ]
  },
  {
   "cell_type": "markdown",
   "id": "a544fac4-0deb-45b2-ac6a-492de46e01c7",
   "metadata": {},
   "source": [
    "### 파이스파크의 판다스로 변환"
   ]
  },
  {
   "cell_type": "code",
   "execution_count": 37,
   "id": "09f4ca77",
   "metadata": {},
   "outputs": [],
   "source": [
    "psdf1 = sdf.pandas_api()"
   ]
  },
  {
   "cell_type": "code",
   "execution_count": 40,
   "id": "0da5515c-fecd-499d-809f-acd53b5b58b4",
   "metadata": {},
   "outputs": [
    {
     "data": {
      "text/plain": [
       "pyspark.pandas.frame.DataFrame"
      ]
     },
     "execution_count": 40,
     "metadata": {},
     "output_type": "execute_result"
    }
   ],
   "source": [
    "type(psdf1)"
   ]
  },
  {
   "cell_type": "code",
   "execution_count": 38,
   "id": "f703d316",
   "metadata": {},
   "outputs": [
    {
     "data": {
      "text/html": [
       "<div>\n",
       "<style scoped>\n",
       "    .dataframe tbody tr th:only-of-type {\n",
       "        vertical-align: middle;\n",
       "    }\n",
       "\n",
       "    .dataframe tbody tr th {\n",
       "        vertical-align: top;\n",
       "    }\n",
       "\n",
       "    .dataframe thead th {\n",
       "        text-align: right;\n",
       "    }\n",
       "</style>\n",
       "<table border=\"1\" class=\"dataframe\">\n",
       "  <thead>\n",
       "    <tr style=\"text-align: right;\">\n",
       "      <th></th>\n",
       "      <th>A</th>\n",
       "      <th>B</th>\n",
       "      <th>C</th>\n",
       "      <th>D</th>\n",
       "    </tr>\n",
       "  </thead>\n",
       "  <tbody>\n",
       "    <tr>\n",
       "      <th>0</th>\n",
       "      <td>-0.227944</td>\n",
       "      <td>0.413050</td>\n",
       "      <td>1.156967</td>\n",
       "      <td>0.373436</td>\n",
       "    </tr>\n",
       "    <tr>\n",
       "      <th>1</th>\n",
       "      <td>1.803409</td>\n",
       "      <td>1.104533</td>\n",
       "      <td>0.039567</td>\n",
       "      <td>0.594882</td>\n",
       "    </tr>\n",
       "    <tr>\n",
       "      <th>2</th>\n",
       "      <td>0.977497</td>\n",
       "      <td>-1.369193</td>\n",
       "      <td>0.191413</td>\n",
       "      <td>-0.465368</td>\n",
       "    </tr>\n",
       "    <tr>\n",
       "      <th>3</th>\n",
       "      <td>2.784228</td>\n",
       "      <td>-0.617891</td>\n",
       "      <td>-0.013584</td>\n",
       "      <td>1.783281</td>\n",
       "    </tr>\n",
       "    <tr>\n",
       "      <th>4</th>\n",
       "      <td>-0.393797</td>\n",
       "      <td>1.392801</td>\n",
       "      <td>0.596686</td>\n",
       "      <td>1.649750</td>\n",
       "    </tr>\n",
       "  </tbody>\n",
       "</table>\n",
       "</div>"
      ],
      "text/plain": [
       "          A         B         C         D\n",
       "0 -0.227944  0.413050  1.156967  0.373436\n",
       "1  1.803409  1.104533  0.039567  0.594882\n",
       "2  0.977497 -1.369193  0.191413 -0.465368\n",
       "3  2.784228 -0.617891 -0.013584  1.783281\n",
       "4 -0.393797  1.392801  0.596686  1.649750"
      ]
     },
     "execution_count": 38,
     "metadata": {},
     "output_type": "execute_result"
    }
   ],
   "source": [
    "psdf1.head()"
   ]
  },
  {
   "cell_type": "code",
   "execution_count": 39,
   "id": "801ce5fb",
   "metadata": {},
   "outputs": [
    {
     "data": {
      "text/plain": [
       "A    float64\n",
       "B    float64\n",
       "C    float64\n",
       "D    float64\n",
       "dtype: object"
      ]
     },
     "execution_count": 39,
     "metadata": {},
     "output_type": "execute_result"
    }
   ],
   "source": [
    "psdf1.dtypes"
   ]
  },
  {
   "cell_type": "markdown",
   "id": "6f998b84-a976-4373-9d42-fd507b4d62ce",
   "metadata": {},
   "source": [
    "### 파이스파크 내의 판다스 변환 "
   ]
  },
  {
   "cell_type": "code",
   "execution_count": 43,
   "id": "026cfbc4-e0ef-4297-a838-925af35b2251",
   "metadata": {},
   "outputs": [],
   "source": [
    "ps_df = sdf.to_pandas_on_spark()"
   ]
  },
  {
   "cell_type": "code",
   "execution_count": 44,
   "id": "f231dba5-33e8-42e9-adef-d955857745f4",
   "metadata": {},
   "outputs": [
    {
     "data": {
      "text/plain": [
       "pyspark.pandas.frame.DataFrame"
      ]
     },
     "execution_count": 44,
     "metadata": {},
     "output_type": "execute_result"
    }
   ],
   "source": [
    "type(ps_df)"
   ]
  },
  {
   "cell_type": "markdown",
   "id": "c2aeaee0-4641-41ff-a026-e6a43fc3fdd1",
   "metadata": {},
   "source": [
    "### 판다스로 변환하기 "
   ]
  },
  {
   "cell_type": "code",
   "execution_count": 45,
   "id": "63d695f0-8a5e-421a-a867-b12168db796e",
   "metadata": {},
   "outputs": [],
   "source": [
    "pd_df = sdf.toPandas()"
   ]
  },
  {
   "cell_type": "code",
   "execution_count": 46,
   "id": "ee099d37-b902-4f29-a453-adba6eb3a2ee",
   "metadata": {},
   "outputs": [
    {
     "data": {
      "text/plain": [
       "pandas.core.frame.DataFrame"
      ]
     },
     "execution_count": 46,
     "metadata": {},
     "output_type": "execute_result"
    }
   ],
   "source": [
    "type(pd_df)"
   ]
  },
  {
   "cell_type": "code",
   "execution_count": null,
   "id": "f9d3963a-5918-47bd-b40e-408d79d8e6a1",
   "metadata": {},
   "outputs": [],
   "source": []
  }
 ],
 "metadata": {
  "kernelspec": {
   "display_name": "Python 3 (ipykernel)",
   "language": "python",
   "name": "python3"
  },
  "language_info": {
   "codemirror_mode": {
    "name": "ipython",
    "version": 3
   },
   "file_extension": ".py",
   "mimetype": "text/x-python",
   "name": "python",
   "nbconvert_exporter": "python",
   "pygments_lexer": "ipython3",
   "version": "3.9.16"
  }
 },
 "nbformat": 4,
 "nbformat_minor": 5
}
