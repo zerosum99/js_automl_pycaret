{
 "cells": [
  {
   "cell_type": "code",
   "execution_count": null,
   "id": "2606591f",
   "metadata": {},
   "outputs": [],
   "source": []
  },
  {
   "cell_type": "markdown",
   "id": "4024e8be-3dd8-454a-acfe-c0a10e06bd88",
   "metadata": {},
   "source": [
    "# 1. 세션 정의 "
   ]
  },
  {
   "cell_type": "code",
   "execution_count": 1,
   "id": "4ca1f7c4",
   "metadata": {},
   "outputs": [],
   "source": [
    "from pyspark.sql import SparkSession"
   ]
  },
  {
   "cell_type": "code",
   "execution_count": 2,
   "id": "91e96005",
   "metadata": {},
   "outputs": [
    {
     "name": "stderr",
     "output_type": "stream",
     "text": [
      "Setting default log level to \"WARN\".\n",
      "To adjust logging level use sc.setLogLevel(newLevel). For SparkR, use setLogLevel(newLevel).\n",
      "23/10/14 16:30:42 WARN NativeCodeLoader: Unable to load native-hadoop library for your platform... using builtin-java classes where applicable\n",
      "23/10/14 16:30:43 WARN Utils: Service 'SparkUI' could not bind on port 4040. Attempting port 4041.\n",
      "23/10/14 16:30:43 WARN Utils: Service 'SparkUI' could not bind on port 4041. Attempting port 4042.\n"
     ]
    }
   ],
   "source": [
    "spark = (SparkSession.builder.appName(\"MyPySparkApp\")\n",
    "                             .config(\"spark.driver.host\",\"127.0.0.1\") \n",
    "                             .config(\"spark.driver.bindAddress\",\"127.0.0.1\")\n",
    "                             .getOrCreate())"
   ]
  },
  {
   "cell_type": "code",
   "execution_count": null,
   "id": "ae2e72a0-e4cc-428a-a66d-9ad0394e8ef0",
   "metadata": {},
   "outputs": [],
   "source": []
  },
  {
   "cell_type": "markdown",
   "id": "368ab216-acbb-4a7a-a83a-dc2d222d3b16",
   "metadata": {},
   "source": [
    "# 2. 테이블 생성하기 "
   ]
  },
  {
   "cell_type": "markdown",
   "id": "f9641c21-ee77-4868-8e6c-83ff75cb7458",
   "metadata": {},
   "source": [
    "## 데이터프레임 생성 "
   ]
  },
  {
   "cell_type": "code",
   "execution_count": 3,
   "id": "fc574ffd",
   "metadata": {},
   "outputs": [],
   "source": [
    "# 예제 데이터를 생성합니다.\n",
    "data = [(\"Alice\", 25), (\"Bob\", 30), (\"Charlie\", 35)]\n",
    "df = spark.createDataFrame(data, [\"name\", \"age\"])"
   ]
  },
  {
   "cell_type": "markdown",
   "id": "4be6aabd-d840-4629-b2a3-6df4e8c1fca2",
   "metadata": {},
   "source": [
    "## 테이블로 저장하기"
   ]
  },
  {
   "cell_type": "code",
   "execution_count": 5,
   "id": "951d33e3",
   "metadata": {},
   "outputs": [
    {
     "name": "stderr",
     "output_type": "stream",
     "text": [
      "                                                                                \r"
     ]
    }
   ],
   "source": [
    "# 데이터프레임을 영구 테이블로 등록합니다.\n",
    "df.write.saveAsTable(\"my_table_1\")"
   ]
  },
  {
   "cell_type": "code",
   "execution_count": null,
   "id": "259417ff-156b-4163-b25c-cf6efd0501e6",
   "metadata": {},
   "outputs": [],
   "source": []
  },
  {
   "cell_type": "code",
   "execution_count": 6,
   "id": "ecc20cbd-839b-4e06-a4f6-993da9e0be27",
   "metadata": {},
   "outputs": [
    {
     "name": "stdout",
     "output_type": "stream",
     "text": [
      "+---------+\n",
      "|namespace|\n",
      "+---------+\n",
      "|  default|\n",
      "+---------+\n",
      "\n"
     ]
    }
   ],
   "source": [
    "# 하이브 메타데이터 정보를 조회합니다.\n",
    "hive_db_df = spark.sql(\"SHOW DATABASES\")\n",
    "\n",
    "# 조회한 메타데이터를 출력합니다.\n",
    "hive_db_df.show()"
   ]
  },
  {
   "cell_type": "code",
   "execution_count": 7,
   "id": "30a44b74-5e31-4454-8cfa-ef67025d5c92",
   "metadata": {},
   "outputs": [
    {
     "name": "stdout",
     "output_type": "stream",
     "text": [
      "++\n",
      "||\n",
      "++\n",
      "++\n",
      "\n"
     ]
    }
   ],
   "source": [
    "# 하이브 메타데이터 정보를 조회합니다.\n",
    "hive_db_df1 = spark.sql(\"Use default\")\n",
    "\n",
    "# 조회한 메타데이터를 출력합니다.\n",
    "hive_db_df1.show()"
   ]
  },
  {
   "cell_type": "code",
   "execution_count": 8,
   "id": "152e20b9-4925-41c6-996b-340945c61df3",
   "metadata": {},
   "outputs": [],
   "source": [
    "# 하이브 메타데이터 정보를 조회합니다.\n",
    "hive_tbl_df = spark.sql(\"SHOW Tables\")"
   ]
  },
  {
   "cell_type": "code",
   "execution_count": 9,
   "id": "ea437f72-8076-4cf5-a013-772d8bf2ee2c",
   "metadata": {},
   "outputs": [
    {
     "name": "stdout",
     "output_type": "stream",
     "text": [
      "+---------+----------+-----------+\n",
      "|namespace| tableName|isTemporary|\n",
      "+---------+----------+-----------+\n",
      "|  default|my_table_1|      false|\n",
      "+---------+----------+-----------+\n",
      "\n"
     ]
    }
   ],
   "source": [
    "hive_tbl_df.show()"
   ]
  },
  {
   "cell_type": "code",
   "execution_count": null,
   "id": "cb595498-d109-4986-976e-8738317e8a4e",
   "metadata": {},
   "outputs": [],
   "source": []
  },
  {
   "cell_type": "markdown",
   "id": "9704cd10-cbac-44b4-9690-83321733ef6e",
   "metadata": {},
   "source": [
    "## 3. 테이블 쿼리 처리하기"
   ]
  },
  {
   "cell_type": "code",
   "execution_count": 11,
   "id": "9c3fcaf4",
   "metadata": {},
   "outputs": [
    {
     "name": "stdout",
     "output_type": "stream",
     "text": [
      "+-------+---+\n",
      "|   name|age|\n",
      "+-------+---+\n",
      "|Charlie| 35|\n",
      "|  Alice| 25|\n",
      "|    Bob| 30|\n",
      "+-------+---+\n",
      "\n"
     ]
    }
   ],
   "source": [
    "# 등록한 테이블에 SQL 쿼리를 실행합니다.\n",
    "result = spark.sql(\"SELECT * FROM my_table_1\")\n",
    "result.show()\n",
    "\n"
   ]
  },
  {
   "cell_type": "code",
   "execution_count": null,
   "id": "82e2ed42",
   "metadata": {},
   "outputs": [],
   "source": []
  },
  {
   "cell_type": "code",
   "execution_count": null,
   "id": "f6abfa11",
   "metadata": {},
   "outputs": [],
   "source": []
  },
  {
   "cell_type": "code",
   "execution_count": 13,
   "id": "fb7e4184",
   "metadata": {},
   "outputs": [],
   "source": [
    "# 세션을 종료합니다.\n",
    "spark.stop()"
   ]
  },
  {
   "cell_type": "code",
   "execution_count": null,
   "id": "f80865ae-dd5e-4a91-b14c-0480a01140f8",
   "metadata": {},
   "outputs": [],
   "source": []
  },
  {
   "cell_type": "code",
   "execution_count": null,
   "id": "bd4d91e3-7587-4876-9aa4-6609a02b5106",
   "metadata": {},
   "outputs": [],
   "source": []
  },
  {
   "cell_type": "code",
   "execution_count": null,
   "id": "b26f167c-5ee1-450f-b43c-c33041c7ddb7",
   "metadata": {},
   "outputs": [],
   "source": []
  },
  {
   "cell_type": "code",
   "execution_count": null,
   "id": "33bdf76c-9a32-4c85-a0a0-d23bdfc7ef82",
   "metadata": {},
   "outputs": [],
   "source": []
  }
 ],
 "metadata": {
  "kernelspec": {
   "display_name": "Python 3 (ipykernel)",
   "language": "python",
   "name": "python3"
  },
  "language_info": {
   "codemirror_mode": {
    "name": "ipython",
    "version": 3
   },
   "file_extension": ".py",
   "mimetype": "text/x-python",
   "name": "python",
   "nbconvert_exporter": "python",
   "pygments_lexer": "ipython3",
   "version": "3.9.19"
  }
 },
 "nbformat": 4,
 "nbformat_minor": 5
}
