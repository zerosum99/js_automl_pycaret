{
 "cells": [
  {
   "cell_type": "code",
   "execution_count": null,
   "id": "d27bda17-f9b6-4b00-b481-3cb85950940f",
   "metadata": {},
   "outputs": [],
   "source": []
  },
  {
   "cell_type": "code",
   "execution_count": 1,
   "id": "614b6a69-c9b5-4fff-acb7-9cde8df3f43c",
   "metadata": {},
   "outputs": [],
   "source": [
    "import pyspark"
   ]
  },
  {
   "cell_type": "code",
   "execution_count": 2,
   "id": "c672554c-9672-44a7-aed9-88a39696b975",
   "metadata": {},
   "outputs": [
    {
     "data": {
      "text/plain": [
       "'3.4.1'"
      ]
     },
     "execution_count": 2,
     "metadata": {},
     "output_type": "execute_result"
    }
   ],
   "source": [
    "pyspark.__version__"
   ]
  },
  {
   "cell_type": "code",
   "execution_count": 3,
   "id": "5d80dafb-bbd2-4744-baae-9681cc04c1e1",
   "metadata": {},
   "outputs": [],
   "source": [
    "from datetime import datetime, date\n",
    "import pandas as pd\n",
    "from pyspark.sql import Row"
   ]
  },
  {
   "cell_type": "markdown",
   "id": "9ffc74e1-8a09-4c33-9842-b06ded762b55",
   "metadata": {},
   "source": [
    "## 1.  세션생성하기 "
   ]
  },
  {
   "cell_type": "markdown",
   "id": "c824072c-45b5-447b-85d1-21cc8abd3c9c",
   "metadata": {},
   "source": [
    "## 스파크(Spark)에서 세션(Session)\n",
    "\n",
    "- 스파크 클러스터와의 상호 작용을 관리하는 데 사용되는 중요한 개념 중 하나.\n",
    "- 스파크 세션은 스파크 애플리케이션을 실행하고 클러스터와 통신하는 데 필요한 정보와 상태를 저장하는 객체\n",
    "\n",
    "### 스파크 세션이 하는 일 \n",
    "\n",
    "- 클러스터 연결: 스파크 세션은 클러스터와 통신하기 위한 연결을 설정하고 관리합니다.\n",
    "\n",
    "- 애플리케이션 설정: 스파크 애플리케이션의 구성 설정을 관리합니다. 이는 실행 모드, 메모리 설정, CPU 설정 등과 관련이 있습니다.\n",
    "\n",
    "- 데이터 처리: 데이터를 읽고 처리하는 데 필요한 API 및 기능을 제공합니다. 예를 들어, 데이터프레임 API, 스트리밍 API 등을 사용할 수 있습니다.\n",
    "\n",
    "- 작업 모니터링: 스파크 애플리케이션의 진행 상황 및 로그를 모니터링합니다\n",
    "\n",
    "\n"
   ]
  },
  {
   "cell_type": "code",
   "execution_count": null,
   "id": "c37f85f3-46b4-4f31-a207-fa185f20c603",
   "metadata": {},
   "outputs": [],
   "source": []
  },
  {
   "cell_type": "markdown",
   "id": "6a5064fa-d2d1-40af-9191-6fd84d9be2be",
   "metadata": {},
   "source": [
    "### 스파크 세션 클래스 사용하기 "
   ]
  },
  {
   "cell_type": "code",
   "execution_count": 4,
   "id": "df588a0f-f60c-4dba-8b0b-ce059c71e1af",
   "metadata": {},
   "outputs": [],
   "source": [
    "from pyspark.sql import SparkSession"
   ]
  },
  {
   "cell_type": "markdown",
   "id": "fe4f72e4-1ed7-4142-9899-aedbe7030bde",
   "metadata": {},
   "source": [
    "### 스파크 세션 빌더하기\n",
    "\n",
    "- 주요 컨피그를 세팅 : 현재는 로컬로 처리\n",
    "- 스파크 호스트 등은 실제 스파크를 설치 서버의 주소 "
   ]
  },
  {
   "cell_type": "code",
   "execution_count": 5,
   "id": "28de2c7b-a32c-4542-8438-1875ca473612",
   "metadata": {},
   "outputs": [
    {
     "name": "stderr",
     "output_type": "stream",
     "text": [
      "Setting default log level to \"WARN\".\n",
      "To adjust logging level use sc.setLogLevel(newLevel). For SparkR, use setLogLevel(newLevel).\n",
      "23/10/14 16:02:01 WARN NativeCodeLoader: Unable to load native-hadoop library for your platform... using builtin-java classes where applicable\n"
     ]
    }
   ],
   "source": [
    "spark = (SparkSession.builder\n",
    "           .master(\"local[*]\")\n",
    "           .config(\"spark.driver.host\",\"127.0.0.1\") \n",
    "           .config(\"spark.driver.bindAddress\",\"127.0.0.1\")\n",
    "           .appName(\"PySpark_basic\")\n",
    "           .getOrCreate())"
   ]
  },
  {
   "cell_type": "markdown",
   "id": "a859f46a-2cf2-4d96-845a-1d8560718fc0",
   "metadata": {},
   "source": [
    "###  스파크 세션 객체를 사용해서 스파크 어플리케애션을 만든다 "
   ]
  },
  {
   "cell_type": "code",
   "execution_count": 6,
   "id": "a785b3eb-98a4-474a-b1c4-ece42f4bc8ac",
   "metadata": {},
   "outputs": [
    {
     "data": {
      "text/html": [
       "\n",
       "            <div>\n",
       "                <p><b>SparkSession - in-memory</b></p>\n",
       "                \n",
       "        <div>\n",
       "            <p><b>SparkContext</b></p>\n",
       "\n",
       "            <p><a href=\"http://127.0.0.1:4040\">Spark UI</a></p>\n",
       "\n",
       "            <dl>\n",
       "              <dt>Version</dt>\n",
       "                <dd><code>v3.4.1</code></dd>\n",
       "              <dt>Master</dt>\n",
       "                <dd><code>local[*]</code></dd>\n",
       "              <dt>AppName</dt>\n",
       "                <dd><code>PySpark_basic</code></dd>\n",
       "            </dl>\n",
       "        </div>\n",
       "        \n",
       "            </div>\n",
       "        "
      ],
      "text/plain": [
       "<pyspark.sql.session.SparkSession at 0x12f030310>"
      ]
     },
     "execution_count": 6,
     "metadata": {},
     "output_type": "execute_result"
    }
   ],
   "source": [
    "spark"
   ]
  },
  {
   "cell_type": "code",
   "execution_count": 8,
   "id": "e58b68b4-6450-4908-b717-5930ffbb606c",
   "metadata": {},
   "outputs": [
    {
     "data": {
      "text/html": [
       "\n",
       "        <div>\n",
       "            <p><b>SparkContext</b></p>\n",
       "\n",
       "            <p><a href=\"http://127.0.0.1:4040\">Spark UI</a></p>\n",
       "\n",
       "            <dl>\n",
       "              <dt>Version</dt>\n",
       "                <dd><code>v3.4.1</code></dd>\n",
       "              <dt>Master</dt>\n",
       "                <dd><code>local[*]</code></dd>\n",
       "              <dt>AppName</dt>\n",
       "                <dd><code>PySpark_basic</code></dd>\n",
       "            </dl>\n",
       "        </div>\n",
       "        "
      ],
      "text/plain": [
       "<SparkContext master=local[*] appName=PySpark_basic>"
      ]
     },
     "execution_count": 8,
     "metadata": {},
     "output_type": "execute_result"
    }
   ],
   "source": [
    "spark._sc"
   ]
  },
  {
   "cell_type": "code",
   "execution_count": 9,
   "id": "6b96112a-e86a-4c80-9672-4c70de1a3e53",
   "metadata": {},
   "outputs": [
    {
     "data": {
      "text/plain": [
       "<bound method SparkSession.sql of <pyspark.sql.session.SparkSession object at 0x12f030310>>"
      ]
     },
     "execution_count": 9,
     "metadata": {},
     "output_type": "execute_result"
    }
   ],
   "source": [
    "spark.sql"
   ]
  },
  {
   "cell_type": "code",
   "execution_count": 7,
   "id": "b26145b4-d073-4bc5-98f3-00fc598cc52f",
   "metadata": {},
   "outputs": [
    {
     "data": {
      "text/plain": [
       "['Builder',\n",
       " '__annotations__',\n",
       " '__class__',\n",
       " '__delattr__',\n",
       " '__dict__',\n",
       " '__dir__',\n",
       " '__doc__',\n",
       " '__enter__',\n",
       " '__eq__',\n",
       " '__exit__',\n",
       " '__format__',\n",
       " '__ge__',\n",
       " '__getattribute__',\n",
       " '__gt__',\n",
       " '__hash__',\n",
       " '__init__',\n",
       " '__init_subclass__',\n",
       " '__le__',\n",
       " '__lt__',\n",
       " '__module__',\n",
       " '__ne__',\n",
       " '__new__',\n",
       " '__reduce__',\n",
       " '__reduce_ex__',\n",
       " '__repr__',\n",
       " '__setattr__',\n",
       " '__sizeof__',\n",
       " '__str__',\n",
       " '__subclasshook__',\n",
       " '__weakref__',\n",
       " '_activeSession',\n",
       " '_conf',\n",
       " '_convert_from_pandas',\n",
       " '_createFromLocal',\n",
       " '_createFromRDD',\n",
       " '_create_dataframe',\n",
       " '_create_from_pandas_with_arrow',\n",
       " '_create_shell_session',\n",
       " '_getActiveSessionOrCreate',\n",
       " '_get_numpy_record_dtype',\n",
       " '_inferSchema',\n",
       " '_inferSchemaFromList',\n",
       " '_instantiatedSession',\n",
       " '_jconf',\n",
       " '_jsc',\n",
       " '_jsparkSession',\n",
       " '_jvm',\n",
       " '_repr_html_',\n",
       " '_sc',\n",
       " 'builder',\n",
       " 'catalog',\n",
       " 'conf',\n",
       " 'createDataFrame',\n",
       " 'getActiveSession',\n",
       " 'newSession',\n",
       " 'range',\n",
       " 'read',\n",
       " 'readStream',\n",
       " 'sparkContext',\n",
       " 'sql',\n",
       " 'stop',\n",
       " 'streams',\n",
       " 'table',\n",
       " 'udf',\n",
       " 'version']"
      ]
     },
     "execution_count": 7,
     "metadata": {},
     "output_type": "execute_result"
    }
   ],
   "source": [
    "dir(spark)"
   ]
  },
  {
   "cell_type": "code",
   "execution_count": null,
   "id": "8278c2a2-80a4-4758-9291-67ebe4bb8640",
   "metadata": {},
   "outputs": [],
   "source": []
  },
  {
   "cell_type": "markdown",
   "id": "b05f0c4b-943d-4f11-ac55-7e5c5d00e3e1",
   "metadata": {},
   "source": [
    "## 2. 파이스파크 데이터프레임 생성하기 \n",
    "\n",
    "- 파이스파크는 트랜스포머와 액션 두 가지의 함수나 메서드를 제공\n",
    "- 실제 트랜스포머는 지연처리이고 액션이 실행되어야 전체가 실행된다."
   ]
  },
  {
   "cell_type": "markdown",
   "id": "0803f443-be56-4b9b-bc8e-f8b411bfdd97",
   "metadata": {},
   "source": [
    "## 2-1 스파크에서 제공하는 Row 클래스 사용하기 "
   ]
  },
  {
   "cell_type": "markdown",
   "id": "70fb169a-4c68-47a8-aeee-241ea93d7d50",
   "metadata": {},
   "source": [
    "\n",
    "## 스파크 데이터프레임(Spark DataFrame) \n",
    "- 스파크에서 가장 중요하고 널리 사용되는 데이터 구조 중 하나\n",
    "- 데이터프레임은 분산 데이터 처리 작업을 수행하기 위한 효과적인 방법을 제공하며, 스파크 SQL 라이브러리의 핵심 구성 요소 \n",
    "\n",
    "### 스파크 데이터프레임은 다음과 같은 특징\n",
    "\n",
    "- 구조화된 데이터: 데이터프레임은 행과 열로 구성된 테이블 형태의 구조를 갖습니다. 각 열은 이름을 가지며 데이터 타입을 가리킵니다.\n",
    "\n",
    "- 비타입(type-safe) API: 스파크 데이터프레임은 비타입 API를 제공하여 데이터 타입을 정적으로 검사하므로 데이터의 일관성을 보장합니다.\n",
    "\n",
    "- 분산 처리: 스파크 클러스터에서 데이터프레임은 분산 처리를 지원하며, 대용량 데이터를 효율적으로 처리할 수 있습니다.\n",
    "\n",
    "- 인메모리 처리: 스파크는 데이터를 인메모리로 처리하여 빠른 속도와 성능을 제공합니다.\n",
    "\n",
    "- 다양한 데이터 소스 지원: 스파크 데이터프레임은 다양한 데이터 소스와 통합되어 있으며, CSV, JSON, Parquet, Avro, JDBC, Apache Hive 등 다양한 데이터 포맷 및 저장소에서 데이터를 읽고 쓸 수 있습니다."
   ]
  },
  {
   "cell_type": "code",
   "execution_count": null,
   "id": "f63f16e4-b4d5-484a-9bd3-8a0758f302af",
   "metadata": {},
   "outputs": [],
   "source": []
  },
  {
   "cell_type": "markdown",
   "id": "be40164c-8b4b-4162-97ec-b0096accf75e",
   "metadata": {},
   "source": [
    "## 스파크(Spark)에서는 데이터 처리 작업을 수행 방식 \n",
    "\n",
    "- \"트랜스포메이션(Transformations)\"\n",
    "- \"액션(Actions)\"\n",
    "\n",
    "### 트랜스포메이션(Transformations):\n",
    "\n",
    "- 트랜스포메이션은 스파크에서 데이터를 변환하고 조작하기 위해 사용되는 연산\n",
    "- 트랜스포메이션은 데이터프레임, RDD(Resilient Distributed Dataset) 등의 분산 데이터 구조를 기반으로 작동하며, 원본 데이터를 변경하지 않고 새로운 데이터셋을 생성합니다. \n",
    "- 트랜스포메이션은 지연 연산(lazy evaluation)을 사용하므로 실행 계획을 구축하고 실제 연산을 수행하기 전까지는 실제로 계산되지 않습니다.\n",
    "\n",
    "### 액션(Actions):\n",
    "- 액션은 스파크에서 트랜스포메이션의 결과를 실제로 실행하고 결과를 반환하는 연산입니다. \n",
    "- 액션은 지연 연산(lazy evaluation)을 트리거하며, 실제로 데이터를 계산하고 결과를 반환합니다. \n",
    "- 액션은 스파크 애플리케이션의 실행을 시작하는 지점이며, 결과를 드라이버 프로그램으로 가져올 때까지 모든 트랜스포메이션을 실행합니다.\n",
    "- count: 데이터셋의 요소 수를 반환합니다.\n",
    "- collect: 모든 데이터를 드라이버로 수집합니다. (주의: 대용량 데이터에 사용하면 메모리 문제가 발생할 수 있습니다)\n",
    "- saveAsTextFile, write: 데이터를 파일로 저장합니다.\n",
    "- reduce: 데이터셋의 모든 요소를 줄여서 하나의 값으로 결합합니다.\n",
    "- foreach: 각 요소에 대해 사용자 정의 작업을 수행합니다.\n",
    "\n"
   ]
  },
  {
   "cell_type": "code",
   "execution_count": null,
   "id": "2428c213-89e7-4ca3-ad03-2be420371fa4",
   "metadata": {},
   "outputs": [],
   "source": []
  },
  {
   "cell_type": "markdown",
   "id": "c59346a4-e68e-4364-bcb1-3943440a4ecc",
   "metadata": {},
   "source": [
    "### 스파크의 데이터프레임 생성 \n",
    "\n",
    "- 주요 생성은 외부 데이터를 포맷에 맞혀 읽어오거나 createDataFrame 으로 생성"
   ]
  },
  {
   "cell_type": "code",
   "execution_count": 10,
   "id": "5f2e5fec-69a9-4750-9a21-5b2ac5fe9f05",
   "metadata": {},
   "outputs": [],
   "source": [
    "df = spark.createDataFrame([\n",
    "    Row(a=1, b=2., c='string1', d=date(2000, 1, 1), e=datetime(2000, 1, 1, 12, 0)),\n",
    "    Row(a=2, b=3., c='string2', d=date(2000, 2, 1), e=datetime(2000, 1, 2, 12, 0)),\n",
    "    Row(a=4, b=5., c='string3', d=date(2000, 3, 1), e=datetime(2000, 1, 3, 12, 0))\n",
    "])"
   ]
  },
  {
   "cell_type": "markdown",
   "id": "f9a992d1-594c-4ecf-b663-60dbb2a9cabd",
   "metadata": {},
   "source": [
    "### 지연처리도 아직 실행되지 않음 "
   ]
  },
  {
   "cell_type": "code",
   "execution_count": 11,
   "id": "86831f40-424b-45a2-b824-722b5a671e5f",
   "metadata": {},
   "outputs": [
    {
     "data": {
      "text/plain": [
       "DataFrame[a: bigint, b: double, c: string, d: date, e: timestamp]"
      ]
     },
     "execution_count": 11,
     "metadata": {},
     "output_type": "execute_result"
    }
   ],
   "source": [
    "df"
   ]
  },
  {
   "cell_type": "markdown",
   "id": "14bd8712-8085-48b6-90a8-9226a944ea76",
   "metadata": {},
   "source": [
    "### 스키마 구성은 볼 수 있음"
   ]
  },
  {
   "cell_type": "code",
   "execution_count": 12,
   "id": "2f0d46fb-9f46-4e41-816a-0b93695220c0",
   "metadata": {},
   "outputs": [
    {
     "name": "stdout",
     "output_type": "stream",
     "text": [
      "root\n",
      " |-- a: long (nullable = true)\n",
      " |-- b: double (nullable = true)\n",
      " |-- c: string (nullable = true)\n",
      " |-- d: date (nullable = true)\n",
      " |-- e: timestamp (nullable = true)\n",
      "\n"
     ]
    }
   ],
   "source": [
    "df.printSchema()"
   ]
  },
  {
   "cell_type": "markdown",
   "id": "6ebda5d0-42f9-4939-aedd-de43b02c3b3d",
   "metadata": {},
   "source": [
    "### 실제 데이터프레임 생성을 액션으로 실행하기\n",
    "- 지연된 모든 연산을 실행한다 "
   ]
  },
  {
   "cell_type": "code",
   "execution_count": 13,
   "id": "19163e3f-3a95-4120-8522-d2525b9837aa",
   "metadata": {},
   "outputs": [
    {
     "name": "stderr",
     "output_type": "stream",
     "text": [
      "[Stage 0:>                                                          (0 + 1) / 1]\r"
     ]
    },
    {
     "name": "stdout",
     "output_type": "stream",
     "text": [
      "+---+---+-------+----------+-------------------+\n",
      "|  a|  b|      c|         d|                  e|\n",
      "+---+---+-------+----------+-------------------+\n",
      "|  1|2.0|string1|2000-01-01|2000-01-01 12:00:00|\n",
      "|  2|3.0|string2|2000-02-01|2000-01-02 12:00:00|\n",
      "|  4|5.0|string3|2000-03-01|2000-01-03 12:00:00|\n",
      "+---+---+-------+----------+-------------------+\n",
      "\n"
     ]
    },
    {
     "name": "stderr",
     "output_type": "stream",
     "text": [
      "                                                                                \r"
     ]
    }
   ],
   "source": [
    "df.show()"
   ]
  },
  {
   "cell_type": "markdown",
   "id": "85e7be2f-03de-42e9-ae9b-28c0dbababd5",
   "metadata": {},
   "source": [
    "## 2-2 일반적인 파이선 리스트로 파이스파크 데이터프레임 생성 가능 \n",
    "\n",
    "- 스키마 정보를 문자열로 지정해서 처리\n",
    "- 'a long, b double, c string, d date, e timestamp' : 변수명과 타입을 쌍으로 처리 "
   ]
  },
  {
   "cell_type": "markdown",
   "id": "ac5106f1-a605-4a7e-8a3a-64c6ec794148",
   "metadata": {},
   "source": [
    "### 출력된 결과를 판다스 처럼 보기 위한 세팅 "
   ]
  },
  {
   "cell_type": "code",
   "execution_count": 14,
   "id": "97f7ecc8-1f8e-45dc-b294-eff92524fb61",
   "metadata": {},
   "outputs": [],
   "source": [
    "spark.conf.set('spark.sql.repl.eagerEval.enabled', True)"
   ]
  },
  {
   "cell_type": "markdown",
   "id": "de33491c-242f-4a4f-85c7-01f7006f7e8b",
   "metadata": {},
   "source": [
    "### 데이터를 리스트 및 스키마 정보를 별도 부여해서 데이터프레임 생성하기 "
   ]
  },
  {
   "cell_type": "code",
   "execution_count": 15,
   "id": "9090279c-e42d-4cf7-89d4-6b3644ac2a41",
   "metadata": {},
   "outputs": [],
   "source": [
    "df1 = spark.createDataFrame([\n",
    "    (1, 2., 'string1', date(2000, 1, 1), datetime(2000, 1, 1, 12, 0)),\n",
    "    (2, 3., 'string2', date(2000, 2, 1), datetime(2000, 1, 2, 12, 0)),\n",
    "    (3, 4., 'string3', date(2000, 3, 1), datetime(2000, 1, 3, 12, 0))\n",
    "], schema='a long, b double, c string, d date, e timestamp')\n"
   ]
  },
  {
   "cell_type": "code",
   "execution_count": 16,
   "id": "736654b3-9a17-4af8-b85c-d06449e235b8",
   "metadata": {},
   "outputs": [
    {
     "data": {
      "text/html": [
       "<table border='1'>\n",
       "<tr><th>a</th><th>b</th><th>c</th><th>d</th><th>e</th></tr>\n",
       "<tr><td>1</td><td>2.0</td><td>string1</td><td>2000-01-01</td><td>2000-01-01 12:00:00</td></tr>\n",
       "<tr><td>2</td><td>3.0</td><td>string2</td><td>2000-02-01</td><td>2000-01-02 12:00:00</td></tr>\n",
       "<tr><td>3</td><td>4.0</td><td>string3</td><td>2000-03-01</td><td>2000-01-03 12:00:00</td></tr>\n",
       "</table>\n"
      ],
      "text/plain": [
       "+---+---+-------+----------+-------------------+\n",
       "|  a|  b|      c|         d|                  e|\n",
       "+---+---+-------+----------+-------------------+\n",
       "|  1|2.0|string1|2000-01-01|2000-01-01 12:00:00|\n",
       "|  2|3.0|string2|2000-02-01|2000-01-02 12:00:00|\n",
       "|  3|4.0|string3|2000-03-01|2000-01-03 12:00:00|\n",
       "+---+---+-------+----------+-------------------+"
      ]
     },
     "execution_count": 16,
     "metadata": {},
     "output_type": "execute_result"
    }
   ],
   "source": [
    "df1"
   ]
  },
  {
   "cell_type": "code",
   "execution_count": 17,
   "id": "77a0128d-fccd-4bfd-871c-b2b50ea3d20a",
   "metadata": {},
   "outputs": [
    {
     "name": "stdout",
     "output_type": "stream",
     "text": [
      "+---+---+-------+----------+-------------------+\n",
      "|  a|  b|      c|         d|                  e|\n",
      "+---+---+-------+----------+-------------------+\n",
      "|  1|2.0|string1|2000-01-01|2000-01-01 12:00:00|\n",
      "|  2|3.0|string2|2000-02-01|2000-01-02 12:00:00|\n",
      "|  3|4.0|string3|2000-03-01|2000-01-03 12:00:00|\n",
      "+---+---+-------+----------+-------------------+\n",
      "\n"
     ]
    }
   ],
   "source": [
    "df1.show()"
   ]
  },
  {
   "cell_type": "code",
   "execution_count": null,
   "id": "ead7fc35-a777-41a3-9030-0ca22934bdb9",
   "metadata": {},
   "outputs": [],
   "source": []
  }
 ],
 "metadata": {
  "kernelspec": {
   "display_name": "Python 3 (ipykernel)",
   "language": "python",
   "name": "python3"
  },
  "language_info": {
   "codemirror_mode": {
    "name": "ipython",
    "version": 3
   },
   "file_extension": ".py",
   "mimetype": "text/x-python",
   "name": "python",
   "nbconvert_exporter": "python",
   "pygments_lexer": "ipython3",
   "version": "3.9.19"
  }
 },
 "nbformat": 4,
 "nbformat_minor": 5
}
