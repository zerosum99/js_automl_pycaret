{
 "cells": [
  {
   "cell_type": "code",
   "execution_count": null,
   "id": "7323a5fc",
   "metadata": {},
   "outputs": [],
   "source": []
  },
  {
   "cell_type": "markdown",
   "id": "1cb294f4-348f-4caa-ba4f-238d09990a07",
   "metadata": {},
   "source": [
    "# 1. 스파크 내부 메타데이터스토어 정보 확인 "
   ]
  },
  {
   "cell_type": "markdown",
   "id": "94788bfa-c132-4f48-87bd-fcc85ff48e89",
   "metadata": {},
   "source": [
    "## 스파크 세션생성"
   ]
  },
  {
   "cell_type": "code",
   "execution_count": 32,
   "id": "440ad315",
   "metadata": {},
   "outputs": [
    {
     "name": "stdout",
     "output_type": "stream",
     "text": [
      "Overwriting spark_ss.py\n"
     ]
    }
   ],
   "source": [
    "%%writefile spark_ss.py\n",
    "\n",
    "from pyspark.sql import SparkSession\n",
    "\n",
    "class SparkSS :\n",
    "    def __init__(self, appl_name) :\n",
    "        self.appl_name = appl_name\n",
    "    \n",
    "    def getSpark(self) : \n",
    "         self._spark = (SparkSession.builder.appName(self.appl_name)\n",
    "                .config(\"spark.driver.host\",\"127.0.0.1\") \n",
    "                .config(\"spark.driver.bindAddress\",\"127.0.0.1\")\n",
    "                .getOrCreate())\n",
    "         \n",
    "         return self._spark"
   ]
  },
  {
   "cell_type": "code",
   "execution_count": null,
   "id": "10e42af7-88f2-4b7d-94ba-be55cd920ca1",
   "metadata": {},
   "outputs": [],
   "source": []
  },
  {
   "cell_type": "code",
   "execution_count": 33,
   "id": "30407792-3d5a-47f9-ab27-d030004fce74",
   "metadata": {},
   "outputs": [],
   "source": [
    "import spark_ss"
   ]
  },
  {
   "cell_type": "code",
   "execution_count": null,
   "id": "eaccfe0a-5f95-46ac-bcde-7ee19613ecf6",
   "metadata": {},
   "outputs": [],
   "source": []
  },
  {
   "cell_type": "code",
   "execution_count": 35,
   "id": "ebee4dfe-ee7f-4455-967f-f8b0ab14b654",
   "metadata": {},
   "outputs": [
    {
     "name": "stderr",
     "output_type": "stream",
     "text": [
      "23/09/12 16:05:03 WARN Utils: Service 'SparkUI' could not bind on port 4040. Attempting port 4041.\n",
      "23/09/12 16:05:03 WARN Utils: Service 'SparkUI' could not bind on port 4041. Attempting port 4042.\n",
      "23/09/12 16:05:03 WARN Utils: Service 'SparkUI' could not bind on port 4042. Attempting port 4043.\n"
     ]
    }
   ],
   "source": [
    "spark = spark_ss.SparkSS(\"subquery_app\").getSpark()"
   ]
  },
  {
   "cell_type": "code",
   "execution_count": 36,
   "id": "d22c8712-1d02-47a3-b51a-07e8cbecc7b7",
   "metadata": {},
   "outputs": [
    {
     "data": {
      "text/html": [
       "\n",
       "            <div>\n",
       "                <p><b>SparkSession - in-memory</b></p>\n",
       "                \n",
       "        <div>\n",
       "            <p><b>SparkContext</b></p>\n",
       "\n",
       "            <p><a href=\"http://127.0.0.1:4043\">Spark UI</a></p>\n",
       "\n",
       "            <dl>\n",
       "              <dt>Version</dt>\n",
       "                <dd><code>v3.4.1</code></dd>\n",
       "              <dt>Master</dt>\n",
       "                <dd><code>local[*]</code></dd>\n",
       "              <dt>AppName</dt>\n",
       "                <dd><code>subquery_app</code></dd>\n",
       "            </dl>\n",
       "        </div>\n",
       "        \n",
       "            </div>\n",
       "        "
      ],
      "text/plain": [
       "<pyspark.sql.session.SparkSession at 0x127222a60>"
      ]
     },
     "execution_count": 36,
     "metadata": {},
     "output_type": "execute_result"
    }
   ],
   "source": [
    "spark"
   ]
  },
  {
   "cell_type": "code",
   "execution_count": null,
   "id": "8a55c62c-abbd-43fe-92af-8fd17d46e9fd",
   "metadata": {},
   "outputs": [],
   "source": []
  },
  {
   "cell_type": "markdown",
   "id": "95c9939d-ce24-4067-affc-d43b67b30c72",
   "metadata": {},
   "source": [
    "## 스파크 내부 스키마 확인"
   ]
  },
  {
   "cell_type": "code",
   "execution_count": 5,
   "id": "94c01b68-1339-4783-88ff-d20c6bd7107b",
   "metadata": {},
   "outputs": [
    {
     "name": "stdout",
     "output_type": "stream",
     "text": [
      "+---------+\n",
      "|namespace|\n",
      "+---------+\n",
      "|  default|\n",
      "+---------+\n",
      "\n"
     ]
    }
   ],
   "source": [
    "spark.sql(\"show databases\").show()"
   ]
  },
  {
   "cell_type": "code",
   "execution_count": 6,
   "id": "9cfa9aca-604e-44f8-b65d-7b82ac10c329",
   "metadata": {},
   "outputs": [
    {
     "name": "stdout",
     "output_type": "stream",
     "text": [
      "+---------+---------+-----------+\n",
      "|namespace|tableName|isTemporary|\n",
      "+---------+---------+-----------+\n",
      "+---------+---------+-----------+\n",
      "\n"
     ]
    }
   ],
   "source": [
    "spark.sql(\"show tables\").show()"
   ]
  },
  {
   "cell_type": "markdown",
   "id": "d50d2346-bdf9-4f40-be9b-71d878e30fb6",
   "metadata": {},
   "source": [
    "## 데이터프레임 생성 및 템프테이블 처리 "
   ]
  },
  {
   "cell_type": "code",
   "execution_count": 7,
   "id": "f17107ca",
   "metadata": {},
   "outputs": [],
   "source": [
    "# Create a DataFrame\n",
    "data = [(\"Alice\", 25), (\"Bob\", 30), (\"Charlie\", 35)]\n",
    "df = spark.createDataFrame(data, [\"name\", \"age\"])\n"
   ]
  },
  {
   "cell_type": "markdown",
   "id": "bb2d3b1c-87f8-4751-ac43-c9ae17810750",
   "metadata": {},
   "source": [
    "## 데이터프레임을 임시테이블로 등록 "
   ]
  },
  {
   "cell_type": "code",
   "execution_count": 8,
   "id": "5159c528-3187-4a4f-a793-1d3cbbd88867",
   "metadata": {},
   "outputs": [],
   "source": [
    "# Register the DataFrame as a temporary view\n",
    "df.createOrReplaceTempView(\"people\")"
   ]
  },
  {
   "cell_type": "code",
   "execution_count": 9,
   "id": "914a120c-fad3-4ae2-875c-af5cde7f1950",
   "metadata": {},
   "outputs": [
    {
     "name": "stdout",
     "output_type": "stream",
     "text": [
      "+---------+---------+-----------+\n",
      "|namespace|tableName|isTemporary|\n",
      "+---------+---------+-----------+\n",
      "|         |   people|       true|\n",
      "+---------+---------+-----------+\n",
      "\n"
     ]
    },
    {
     "name": "stderr",
     "output_type": "stream",
     "text": [
      "                                                                                \r"
     ]
    }
   ],
   "source": [
    "spark.sql(\"show tables\").show()"
   ]
  },
  {
   "cell_type": "code",
   "execution_count": null,
   "id": "c21f9a68-f532-44d9-afa1-8e7cce0c86a0",
   "metadata": {},
   "outputs": [],
   "source": []
  },
  {
   "cell_type": "markdown",
   "id": "32ca1a64-b0d7-4cc8-9b96-0df657c28310",
   "metadata": {},
   "source": [
    "# 2. 서브쿼리 처리 "
   ]
  },
  {
   "cell_type": "markdown",
   "id": "2b65f158",
   "metadata": {},
   "source": [
    "## CTE(공통 테이블 표현식) \n",
    "\n",
    "- with 구문으로 서브쿼리를 공통으로 표시\n",
    "- 본 쿼리에서 이를 임시테이블 처럼 사용 "
   ]
  },
  {
   "cell_type": "code",
   "execution_count": null,
   "id": "0531ab4b",
   "metadata": {},
   "outputs": [],
   "source": []
  },
  {
   "cell_type": "code",
   "execution_count": 10,
   "id": "5958dbec",
   "metadata": {},
   "outputs": [
    {
     "name": "stderr",
     "output_type": "stream",
     "text": [
      "[Stage 1:>                                                        (0 + 10) / 10]\r"
     ]
    },
    {
     "name": "stdout",
     "output_type": "stream",
     "text": [
      "+-----------+\n",
      "|average_age|\n",
      "+-----------+\n",
      "|       30.0|\n",
      "+-----------+\n",
      "\n"
     ]
    },
    {
     "name": "stderr",
     "output_type": "stream",
     "text": [
      "                                                                                \r"
     ]
    }
   ],
   "source": [
    "spark.sql(\"SELECT AVG(age) AS average_age FROM people\").show()"
   ]
  },
  {
   "cell_type": "code",
   "execution_count": 11,
   "id": "baeb3bd8",
   "metadata": {},
   "outputs": [
    {
     "name": "stdout",
     "output_type": "stream",
     "text": [
      "+-------+\n",
      "|   name|\n",
      "+-------+\n",
      "|Charlie|\n",
      "+-------+\n",
      "\n"
     ]
    }
   ],
   "source": [
    "# Use CTE to process a subquery\n",
    "result = spark.sql(\"\"\"\n",
    "    WITH avg_age AS (\n",
    "        SELECT AVG(age) AS average_age FROM people\n",
    "    )\n",
    "    SELECT name FROM people WHERE age > (SELECT average_age FROM avg_age)\n",
    "\"\"\")\n",
    "\n",
    "# Show the result\n",
    "result.show()"
   ]
  },
  {
   "cell_type": "markdown",
   "id": "f6357517",
   "metadata": {},
   "source": [
    "## select 절에 서브쿼리"
   ]
  },
  {
   "cell_type": "code",
   "execution_count": 12,
   "id": "22fbeb21",
   "metadata": {},
   "outputs": [
    {
     "name": "stdout",
     "output_type": "stream",
     "text": [
      "+-------+---+-------+\n",
      "|   name|age|avg_age|\n",
      "+-------+---+-------+\n",
      "|  Alice| 25|   30.0|\n",
      "|    Bob| 30|   30.0|\n",
      "|Charlie| 35|   30.0|\n",
      "+-------+---+-------+\n",
      "\n"
     ]
    }
   ],
   "source": [
    "# Use a subquery in the SELECT clause\n",
    "result3 = spark.sql(\"\"\"\n",
    "    SELECT name, age, (SELECT AVG(age) FROM people) AS avg_age\n",
    "    FROM people\n",
    "\"\"\")\n",
    "\n",
    "# Show the result\n",
    "result3.show()"
   ]
  },
  {
   "cell_type": "code",
   "execution_count": null,
   "id": "48469c36",
   "metadata": {},
   "outputs": [],
   "source": []
  },
  {
   "cell_type": "markdown",
   "id": "6d462b96",
   "metadata": {},
   "source": [
    "## from 절에 서브쿼리 "
   ]
  },
  {
   "cell_type": "code",
   "execution_count": 13,
   "id": "4dd0a95d",
   "metadata": {},
   "outputs": [
    {
     "name": "stdout",
     "output_type": "stream",
     "text": [
      "+-------+---+\n",
      "|   name|age|\n",
      "+-------+---+\n",
      "|Charlie| 35|\n",
      "+-------+---+\n",
      "\n"
     ]
    }
   ],
   "source": [
    "# Use a subquery in the FROM clause\n",
    "result2 = spark.sql(\"\"\"\n",
    "    SELECT subquery.name, subquery.age\n",
    "    FROM (SELECT name, age FROM people WHERE age > 30) AS subquery\n",
    "\"\"\")\n",
    "\n",
    "# Show the result\n",
    "result2.show()"
   ]
  },
  {
   "cell_type": "code",
   "execution_count": null,
   "id": "d959cf9d",
   "metadata": {},
   "outputs": [],
   "source": []
  },
  {
   "cell_type": "markdown",
   "id": "75c70cc7",
   "metadata": {},
   "source": [
    "## where 절 서브쿼리 \n",
    "- 서브쿼리가 하나의 값인지은 비교 등으로 처리\n",
    "- 서브쿼리의 결과가 여러 개의 값일 경우는 in 연산자로 처리 "
   ]
  },
  {
   "cell_type": "code",
   "execution_count": 14,
   "id": "3c4396a2",
   "metadata": {},
   "outputs": [
    {
     "name": "stdout",
     "output_type": "stream",
     "text": [
      "+--------+\n",
      "|avg(age)|\n",
      "+--------+\n",
      "|    30.0|\n",
      "+--------+\n",
      "\n"
     ]
    }
   ],
   "source": [
    "spark.sql(\"SELECT AVG(age) FROM people\").show()"
   ]
  },
  {
   "cell_type": "code",
   "execution_count": null,
   "id": "1d02abd5",
   "metadata": {},
   "outputs": [],
   "source": []
  },
  {
   "cell_type": "code",
   "execution_count": 15,
   "id": "e62e104c",
   "metadata": {},
   "outputs": [
    {
     "name": "stdout",
     "output_type": "stream",
     "text": [
      "+-------+\n",
      "|   name|\n",
      "+-------+\n",
      "|Charlie|\n",
      "+-------+\n",
      "\n"
     ]
    }
   ],
   "source": [
    "# Use a subquery to filter the data\n",
    "result1 = spark.sql(\"SELECT name FROM people WHERE age > (SELECT AVG(age) FROM people)\")\n",
    "\n",
    "# Show the result\n",
    "result1.show()"
   ]
  },
  {
   "cell_type": "code",
   "execution_count": null,
   "id": "b1e057a4",
   "metadata": {},
   "outputs": [],
   "source": []
  },
  {
   "cell_type": "code",
   "execution_count": 16,
   "id": "dfd95555",
   "metadata": {},
   "outputs": [],
   "source": [
    "# Stop the SparkSession\n",
    "spark.stop()"
   ]
  },
  {
   "cell_type": "code",
   "execution_count": null,
   "id": "0d274e6f-727d-4fda-8214-298c9a4621c7",
   "metadata": {},
   "outputs": [],
   "source": []
  }
 ],
 "metadata": {
  "kernelspec": {
   "display_name": "Python 3 (ipykernel)",
   "language": "python",
   "name": "python3"
  },
  "language_info": {
   "codemirror_mode": {
    "name": "ipython",
    "version": 3
   },
   "file_extension": ".py",
   "mimetype": "text/x-python",
   "name": "python",
   "nbconvert_exporter": "python",
   "pygments_lexer": "ipython3",
   "version": "3.9.16"
  }
 },
 "nbformat": 4,
 "nbformat_minor": 5
}
