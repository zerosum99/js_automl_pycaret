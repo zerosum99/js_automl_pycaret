{
 "cells": [
  {
   "cell_type": "code",
   "execution_count": null,
   "id": "18e3373b-2f81-427d-8a1f-c5ed4f63fc45",
   "metadata": {},
   "outputs": [],
   "source": []
  },
  {
   "cell_type": "markdown",
   "id": "6db8d124-d4f1-43fd-953c-cbbcbb130dac",
   "metadata": {},
   "source": [
    "## 1, sqlite 연결세션 처리\n",
    "\n",
    "- /Users/a06411/.ivy2/jars 이곳에  org.xerial_sqlite-jdbc-3.34.0.jar, sqlite-jdbc-3.34.0.jar 이 존재해야함"
   ]
  },
  {
   "cell_type": "code",
   "execution_count": 2,
   "id": "83e1114a-5411-4625-ad3b-075e688fec24",
   "metadata": {},
   "outputs": [],
   "source": [
    "from pyspark.sql import SparkSession\n",
    "\n",
    "spark = (SparkSession.builder\\\n",
    "           .config('spark.jars.packages', 'org.xerial:sqlite-jdbc:3.34.0')\n",
    "           .config(\"spark.driver.host\",\"127.0.0.1\") \n",
    "           .config(\"spark.driver.bindAddress\",\"127.0.0.1\")\n",
    "           .getOrCreate())\n"
   ]
  },
  {
   "cell_type": "markdown",
   "id": "23f6ef18-b771-4e4d-9bb8-01143b0aeed4",
   "metadata": {},
   "source": [
    "## sqlite 데이터 연결 "
   ]
  },
  {
   "cell_type": "code",
   "execution_count": 4,
   "id": "b9bcf110-02e5-415d-9f34-fda5ca41d2b9",
   "metadata": {},
   "outputs": [],
   "source": [
    "path_db1 = \"/Users/a06411/Documents/GitHub/js_automl_pycaret/lending_club_data/sql_db/lending_club_2012.db\""
   ]
  },
  {
   "cell_type": "code",
   "execution_count": 5,
   "id": "ed8b3060-b337-4d72-bfea-0f164d120910",
   "metadata": {},
   "outputs": [],
   "source": [
    "df = (spark.read.format('jdbc') \n",
    "        .options(driver='org.sqlite.JDBC', dbtable='borrower',\n",
    "                 url='jdbc:sqlite:'+path_db1)\n",
    "        .load())"
   ]
  },
  {
   "cell_type": "code",
   "execution_count": 6,
   "id": "30f765ff-d295-41ef-96e1-f52184dd5092",
   "metadata": {},
   "outputs": [
    {
     "data": {
      "text/plain": [
       "53367"
      ]
     },
     "execution_count": 6,
     "metadata": {},
     "output_type": "execute_result"
    }
   ],
   "source": [
    "df.count()"
   ]
  },
  {
   "cell_type": "code",
   "execution_count": 7,
   "id": "c0e00832-db30-4803-b541-5ed5bc1ca0f7",
   "metadata": {},
   "outputs": [
    {
     "data": {
      "text/plain": [
       "['id',\n",
       " 'emp_title',\n",
       " 'emp_length',\n",
       " 'home_ownership',\n",
       " 'zip_code',\n",
       " 'addr_state',\n",
       " 'member_id']"
      ]
     },
     "execution_count": 7,
     "metadata": {},
     "output_type": "execute_result"
    }
   ],
   "source": [
    "df.columns"
   ]
  },
  {
   "cell_type": "code",
   "execution_count": null,
   "id": "ea78c342-257e-4148-aa9a-1a90018689e4",
   "metadata": {},
   "outputs": [],
   "source": []
  },
  {
   "cell_type": "markdown",
   "id": "3f1e16e9-d46c-4852-a098-d2016841c6a6",
   "metadata": {},
   "source": [
    "## 2. sqlite 연결세션 처리"
   ]
  },
  {
   "cell_type": "code",
   "execution_count": 8,
   "id": "3dc82897-7bc5-4d0e-94b6-336eb4fc5029",
   "metadata": {},
   "outputs": [
    {
     "name": "stderr",
     "output_type": "stream",
     "text": [
      "23/09/12 16:14:14 WARN SparkSession: Using an existing Spark session; only runtime SQL configurations will take effect.\n"
     ]
    }
   ],
   "source": [
    "import os\n",
    "\n",
    "from pyspark.sql import SparkSession\n",
    "\n",
    "spark1 = (SparkSession.builder\n",
    "    .master(\"local\")\n",
    "    .appName(\"SQLite JDBC\")\n",
    "    .config(\n",
    "        \"spark.jars\",\n",
    "        \"{}/sqlite-jdbc-3.34.0.jar\".format(os.getcwd()))\n",
    "    .config(\n",
    "        \"spark.driver.extraClassPath\",\n",
    "        \"{}/sqlite-jdbc-3.34.0.jar\".format(os.getcwd()))\n",
    "    .getOrCreate())"
   ]
  },
  {
   "cell_type": "code",
   "execution_count": 12,
   "id": "3cb6711c-2234-4cf5-b255-844a254cee26",
   "metadata": {},
   "outputs": [
    {
     "data": {
      "text/html": [
       "\n",
       "            <div>\n",
       "                <p><b>SparkSession - in-memory</b></p>\n",
       "                \n",
       "        <div>\n",
       "            <p><b>SparkContext</b></p>\n",
       "\n",
       "            <p><a href=\"http://127.0.0.1:4044\">Spark UI</a></p>\n",
       "\n",
       "            <dl>\n",
       "              <dt>Version</dt>\n",
       "                <dd><code>v3.4.1</code></dd>\n",
       "              <dt>Master</dt>\n",
       "                <dd><code>local[*]</code></dd>\n",
       "              <dt>AppName</dt>\n",
       "                <dd><code>pyspark-shell</code></dd>\n",
       "            </dl>\n",
       "        </div>\n",
       "        \n",
       "            </div>\n",
       "        "
      ],
      "text/plain": [
       "<pyspark.sql.session.SparkSession at 0x111ed0100>"
      ]
     },
     "execution_count": 12,
     "metadata": {},
     "output_type": "execute_result"
    }
   ],
   "source": [
    "spark1"
   ]
  },
  {
   "cell_type": "markdown",
   "id": "999c19f2-f8e3-49b9-87f5-42472d55d45d",
   "metadata": {},
   "source": [
    "## 쿼리로 읽어오기 "
   ]
  },
  {
   "cell_type": "code",
   "execution_count": 9,
   "id": "3859d248-bca5-48d3-bd9d-bc9492036002",
   "metadata": {},
   "outputs": [],
   "source": [
    "driver='org.sqlite.JDBC'\n",
    "url='jdbc:sqlite:'+path_db1"
   ]
  },
  {
   "cell_type": "code",
   "execution_count": 10,
   "id": "eca54b26-2a7a-4bb4-9d1e-b9b8e23695d4",
   "metadata": {},
   "outputs": [],
   "source": [
    "query = \"select * from borrower limit 100\""
   ]
  },
  {
   "cell_type": "code",
   "execution_count": 11,
   "id": "a0f4da6b-41a9-4d20-8446-d5f3de2a8d5f",
   "metadata": {},
   "outputs": [],
   "source": [
    "df = spark1 \\\n",
    "    .read \\\n",
    "    .format(\"jdbc\") \\\n",
    "    .option(\"driver\", driver) \\\n",
    "    .option(\"url\", url) \\\n",
    "    .option(\"query\", query) \\\n",
    "    .load()"
   ]
  },
  {
   "cell_type": "code",
   "execution_count": 13,
   "id": "8abfdcfa-a19a-4818-8b9c-2bf1be26f1e3",
   "metadata": {},
   "outputs": [
    {
     "name": "stdout",
     "output_type": "stream",
     "text": [
      "root\n",
      " |-- id: integer (nullable = true)\n",
      " |-- emp_title: string (nullable = true)\n",
      " |-- emp_length: string (nullable = true)\n",
      " |-- home_ownership: string (nullable = true)\n",
      " |-- zip_code: string (nullable = true)\n",
      " |-- addr_state: string (nullable = true)\n",
      " |-- member_id: double (nullable = true)\n",
      "\n"
     ]
    }
   ],
   "source": [
    "df.printSchema()"
   ]
  },
  {
   "cell_type": "code",
   "execution_count": 14,
   "id": "72b44af1-d21f-493b-bcd1-2c5828741c58",
   "metadata": {},
   "outputs": [
    {
     "data": {
      "text/plain": [
       "100"
      ]
     },
     "execution_count": 14,
     "metadata": {},
     "output_type": "execute_result"
    }
   ],
   "source": [
    "df.count()"
   ]
  },
  {
   "cell_type": "code",
   "execution_count": 15,
   "id": "10b65c26-ce4b-45a2-aa5d-f28f707aab1e",
   "metadata": {},
   "outputs": [
    {
     "name": "stdout",
     "output_type": "stream",
     "text": [
      "+-------+--------------------+----------+--------------+--------+----------+---------+\n",
      "|     id|           emp_title|emp_length|home_ownership|zip_code|addr_state|member_id|\n",
      "+-------+--------------------+----------+--------------+--------+----------+---------+\n",
      "|2828755|University of Pho...|   2 years|          RENT|   970xx|        OR|     null|\n",
      "|2828209|     city of branson| 10+ years|      MORTGAGE|   656xx|        MO|     null|\n",
      "|2634739|    henry Schein Inc|   8 years|          RENT|   115xx|        NY|     null|\n",
      "|2837824|  Sentara Healthcare|   6 years|      MORTGAGE|   234xx|        VA|     null|\n",
      "|2837644|                MCSD|   6 years|           OWN|   330xx|        FL|     null|\n",
      "|2836798|     Dept.of Defense| 10+ years|          RENT|   928xx|        CA|     null|\n",
      "|2826877|United States Pos...| 10+ years|          RENT|   274xx|        NC|     null|\n",
      "|2824664|            ref-chem| 10+ years|      MORTGAGE|   776xx|        TX|     null|\n",
      "|2837301|      Placid Express| 10+ years|          RENT|   113xx|        NY|     null|\n",
      "|2694737|Integrated Wind E...|   2 years|      MORTGAGE|   754xx|        TX|     null|\n",
      "|2825326|Tarrant County Sh...| 10+ years|           OWN|   761xx|        TX|     null|\n",
      "|2837228|the midnight mission|   6 years|      MORTGAGE|   906xx|        CA|     null|\n",
      "|2827256|State Compensatio...|   7 years|          RENT|   945xx|        CA|     null|\n",
      "|2827250|     Seal Source Inc|   7 years|      MORTGAGE|   972xx|        OR|     null|\n",
      "|2827189|Orange County Gov...|   6 years|      MORTGAGE|   272xx|        NC|     null|\n",
      "|2487374|Norfolk naval shi...|   5 years|      MORTGAGE|   237xx|        VA|     null|\n",
      "|2827120|Fantasy Springs R...|   8 years|          RENT|   922xx|        CA|     null|\n",
      "|2827122|State of Maryland...| 10+ years|          RENT|   212xx|        MD|     null|\n",
      "|2835292|           Citigroup|   3 years|      MORTGAGE|   331xx|        FL|     null|\n",
      "|2827092|National Oilwell ...|   3 years|          RENT|   917xx|        CA|     null|\n",
      "+-------+--------------------+----------+--------------+--------+----------+---------+\n",
      "only showing top 20 rows\n",
      "\n"
     ]
    }
   ],
   "source": [
    "df.show()"
   ]
  },
  {
   "cell_type": "code",
   "execution_count": null,
   "id": "948061e8-5b2e-438c-b59d-4a4527f4613b",
   "metadata": {},
   "outputs": [],
   "source": []
  },
  {
   "cell_type": "code",
   "execution_count": null,
   "id": "ee6fcc3b-f83e-4297-90a6-0bebeccc7006",
   "metadata": {},
   "outputs": [],
   "source": []
  }
 ],
 "metadata": {
  "kernelspec": {
   "display_name": "Python 3 (ipykernel)",
   "language": "python",
   "name": "python3"
  },
  "language_info": {
   "codemirror_mode": {
    "name": "ipython",
    "version": 3
   },
   "file_extension": ".py",
   "mimetype": "text/x-python",
   "name": "python",
   "nbconvert_exporter": "python",
   "pygments_lexer": "ipython3",
   "version": "3.9.16"
  }
 },
 "nbformat": 4,
 "nbformat_minor": 5
}
