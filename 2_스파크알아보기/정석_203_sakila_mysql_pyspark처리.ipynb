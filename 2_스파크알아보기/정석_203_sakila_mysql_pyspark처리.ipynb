{
 "cells": [
  {
   "cell_type": "code",
   "execution_count": null,
   "id": "18e3373b-2f81-427d-8a1f-c5ed4f63fc45",
   "metadata": {},
   "outputs": [],
   "source": []
  },
  {
   "cell_type": "code",
   "execution_count": null,
   "id": "c8a9acc7-5836-4498-a87f-9aa5d9a43f30",
   "metadata": {},
   "outputs": [],
   "source": []
  },
  {
   "cell_type": "code",
   "execution_count": 3,
   "id": "17a1c368-e48e-4808-967f-b0bcbb7c327a",
   "metadata": {},
   "outputs": [],
   "source": [
    "import os"
   ]
  },
  {
   "cell_type": "code",
   "execution_count": 4,
   "id": "19e9b93e-4074-4058-83f5-3ce91b33b59f",
   "metadata": {},
   "outputs": [],
   "source": [
    "import mysql.connector\n",
    "from pyspark.sql import SparkSession"
   ]
  },
  {
   "cell_type": "code",
   "execution_count": null,
   "id": "3508fe1b-77d7-4e96-a135-5db7e738d309",
   "metadata": {},
   "outputs": [],
   "source": []
  },
  {
   "cell_type": "code",
   "execution_count": 28,
   "id": "82cc87e4-bf16-4549-8b2b-5ef6f6d80a13",
   "metadata": {},
   "outputs": [
    {
     "data": {
      "text/plain": [
       "'/Users/a06411/Documents/GitHub/js_automl_pycaret/mysql-connector-java-8.0.20.jar'"
      ]
     },
     "execution_count": 28,
     "metadata": {},
     "output_type": "execute_result"
    }
   ],
   "source": [
    "\"{}/mysql-connector-java-8.0.20.jar\".format(os.getcwd())"
   ]
  },
  {
   "cell_type": "code",
   "execution_count": 29,
   "id": "389b297d-8f91-4079-8be9-892056b0f886",
   "metadata": {},
   "outputs": [
    {
     "data": {
      "text/plain": [
       "'/Users/a06411/Documents/GitHub/js_automl_pycaret/mysql-connector-java-8.0.20.jar'"
      ]
     },
     "execution_count": 29,
     "metadata": {},
     "output_type": "execute_result"
    }
   ],
   "source": [
    "\"{}/mysql-connector-java-8.0.20.jar\".format(os.getcwd())"
   ]
  },
  {
   "cell_type": "code",
   "execution_count": null,
   "id": "86e58272-6050-4527-9144-5fe0349c7909",
   "metadata": {},
   "outputs": [],
   "source": []
  },
  {
   "cell_type": "code",
   "execution_count": 5,
   "id": "87ad9087-54d8-42ed-b417-1f12c1c63b7f",
   "metadata": {},
   "outputs": [
    {
     "name": "stderr",
     "output_type": "stream",
     "text": [
      "23/09/12 11:04:35 WARN NativeCodeLoader: Unable to load native-hadoop library for your platform... using builtin-java classes where applicable\n",
      "Setting default log level to \"WARN\".\n",
      "To adjust logging level use sc.setLogLevel(newLevel). For SparkR, use setLogLevel(newLevel).\n"
     ]
    }
   ],
   "source": [
    "# spark 세션 연결\n",
    "spark = (SparkSession.builder\n",
    "        .config( \"spark.jars\", \"{}/mysql-connector-java-8.0.20.jar\".format(os.getcwd()))\n",
    "        .config( \"spark.driver.extraClassPath\",\"{}/mysql-connector-java-8.0.20.jar\".format(os.getcwd()))\n",
    "        .config(\"spark.driver.host\",\"127.0.0.1\") \n",
    "        .config(\"spark.driver.bindAddress\",\"127.0.0.1\")\n",
    "        .master(\"local\").appName(\"PySpark_MySQL_test\").getOrCreate())    "
   ]
  },
  {
   "cell_type": "code",
   "execution_count": 6,
   "id": "bfbeeff5-209e-4d33-993a-f47ffa2e24ed",
   "metadata": {},
   "outputs": [
    {
     "data": {
      "text/html": [
       "\n",
       "            <div>\n",
       "                <p><b>SparkSession - in-memory</b></p>\n",
       "                \n",
       "        <div>\n",
       "            <p><b>SparkContext</b></p>\n",
       "\n",
       "            <p><a href=\"http://127.0.0.1:4040\">Spark UI</a></p>\n",
       "\n",
       "            <dl>\n",
       "              <dt>Version</dt>\n",
       "                <dd><code>v3.4.1</code></dd>\n",
       "              <dt>Master</dt>\n",
       "                <dd><code>local</code></dd>\n",
       "              <dt>AppName</dt>\n",
       "                <dd><code>PySpark_MySQL_test</code></dd>\n",
       "            </dl>\n",
       "        </div>\n",
       "        \n",
       "            </div>\n",
       "        "
      ],
      "text/plain": [
       "<pyspark.sql.session.SparkSession at 0x10d8a8820>"
      ]
     },
     "execution_count": 6,
     "metadata": {},
     "output_type": "execute_result"
    }
   ],
   "source": [
    "spark"
   ]
  },
  {
   "cell_type": "code",
   "execution_count": null,
   "id": "9fefa969-f204-4db3-b89a-535778f6631e",
   "metadata": {},
   "outputs": [],
   "source": []
  },
  {
   "cell_type": "code",
   "execution_count": null,
   "id": "760195dd-2434-4518-9765-994436930e4b",
   "metadata": {},
   "outputs": [],
   "source": []
  },
  {
   "cell_type": "code",
   "execution_count": 9,
   "id": "0226ace1-5aef-4a3c-94ec-f388e79e4226",
   "metadata": {},
   "outputs": [],
   "source": [
    "df = (spark.read.format(\"jdbc\")\n",
    "    .option(\"url\", \"jdbc:mysql://127.0.0.1:3306/sakila?useUnicode=true&serverTimezone=Asia/Seoul\") \n",
    "    .option(\"driver\", \"com.mysql.cj.jdbc.Driver\")\n",
    "    .option(\"dbtable\", \"actor\") \n",
    "    .option(\"user\", 'root')\n",
    "    .option(\"password\", \"\")\n",
    "    .load())\n"
   ]
  },
  {
   "cell_type": "code",
   "execution_count": 10,
   "id": "f82af04b-a433-48f8-890c-2de235302d6b",
   "metadata": {},
   "outputs": [
    {
     "name": "stdout",
     "output_type": "stream",
     "text": [
      "+--------+----------+------------+-------------------+\n",
      "|actor_id|first_name|   last_name|        last_update|\n",
      "+--------+----------+------------+-------------------+\n",
      "|       1|  PENELOPE|     GUINESS|2006-02-15 04:34:33|\n",
      "|       2|      NICK|    WAHLBERG|2006-02-15 04:34:33|\n",
      "|       3|        ED|       CHASE|2006-02-15 04:34:33|\n",
      "|       4|  JENNIFER|       DAVIS|2006-02-15 04:34:33|\n",
      "|       5|    JOHNNY|LOLLOBRIGIDA|2006-02-15 04:34:33|\n",
      "+--------+----------+------------+-------------------+\n",
      "only showing top 5 rows\n",
      "\n"
     ]
    },
    {
     "name": "stderr",
     "output_type": "stream",
     "text": [
      "                                                                                \r"
     ]
    }
   ],
   "source": [
    "df.show(5)"
   ]
  },
  {
   "cell_type": "code",
   "execution_count": null,
   "id": "539c7a9a-ea28-4267-aac1-c6092068fec1",
   "metadata": {},
   "outputs": [],
   "source": []
  },
  {
   "cell_type": "code",
   "execution_count": null,
   "id": "87fca677-ff92-4d68-85cd-fae9db02acd2",
   "metadata": {},
   "outputs": [],
   "source": []
  },
  {
   "cell_type": "code",
   "execution_count": 12,
   "id": "4139c30d-e877-4725-8df3-3b3fd05e812e",
   "metadata": {},
   "outputs": [],
   "source": [
    "df1 = (spark.read.format(\"jdbc\")\n",
    "    .option(\"url\", \"jdbc:mysql://127.0.0.1:3306/sakila?useUnicode=true&serverTimezone=Asia/Seoul\") \n",
    "    .option(\"driver\", \"com.mysql.cj.jdbc.Driver\")\n",
    "    .option(\"query\", \"select * from actor limit 100\") \n",
    "    .option(\"user\", 'root')\n",
    "    .option(\"password\", \"\")\n",
    "    .load())"
   ]
  },
  {
   "cell_type": "code",
   "execution_count": 13,
   "id": "6c9b69e5-25ab-4db6-aaf7-7ec9825a42a2",
   "metadata": {},
   "outputs": [
    {
     "name": "stdout",
     "output_type": "stream",
     "text": [
      "+--------+----------+------------+-------------------+\n",
      "|actor_id|first_name|   last_name|        last_update|\n",
      "+--------+----------+------------+-------------------+\n",
      "|       1|  PENELOPE|     GUINESS|2006-02-15 04:34:33|\n",
      "|       2|      NICK|    WAHLBERG|2006-02-15 04:34:33|\n",
      "|       3|        ED|       CHASE|2006-02-15 04:34:33|\n",
      "|       4|  JENNIFER|       DAVIS|2006-02-15 04:34:33|\n",
      "|       5|    JOHNNY|LOLLOBRIGIDA|2006-02-15 04:34:33|\n",
      "|       6|     BETTE|   NICHOLSON|2006-02-15 04:34:33|\n",
      "|       7|     GRACE|      MOSTEL|2006-02-15 04:34:33|\n",
      "|       8|   MATTHEW|   JOHANSSON|2006-02-15 04:34:33|\n",
      "|       9|       JOE|       SWANK|2006-02-15 04:34:33|\n",
      "|      10| CHRISTIAN|       GABLE|2006-02-15 04:34:33|\n",
      "|      11|      ZERO|        CAGE|2006-02-15 04:34:33|\n",
      "|      12|      KARL|       BERRY|2006-02-15 04:34:33|\n",
      "|      13|       UMA|        WOOD|2006-02-15 04:34:33|\n",
      "|      14|    VIVIEN|      BERGEN|2006-02-15 04:34:33|\n",
      "|      15|      CUBA|     OLIVIER|2006-02-15 04:34:33|\n",
      "|      16|      FRED|     COSTNER|2006-02-15 04:34:33|\n",
      "|      17|     HELEN|      VOIGHT|2006-02-15 04:34:33|\n",
      "|      18|       DAN|        TORN|2006-02-15 04:34:33|\n",
      "|      19|       BOB|     FAWCETT|2006-02-15 04:34:33|\n",
      "|      20|   LUCILLE|       TRACY|2006-02-15 04:34:33|\n",
      "+--------+----------+------------+-------------------+\n",
      "only showing top 20 rows\n",
      "\n"
     ]
    }
   ],
   "source": [
    "df1.show()"
   ]
  },
  {
   "cell_type": "code",
   "execution_count": null,
   "id": "05169268-5bc9-4ee8-b87a-7f53ce8a0fc3",
   "metadata": {},
   "outputs": [],
   "source": []
  },
  {
   "cell_type": "code",
   "execution_count": 14,
   "id": "3a14577c-894f-4abb-805d-39646ad25145",
   "metadata": {},
   "outputs": [],
   "source": [
    "def getDataframe(query) : \n",
    "    df = (spark.read.format(\"jdbc\")\n",
    "        .option(\"url\", \"jdbc:mysql://127.0.0.1:3306/sakila?useUnicode=true&serverTimezone=Asia/Seoul\") \n",
    "        .option(\"driver\", \"com.mysql.cj.jdbc.Driver\")\n",
    "        .option(\"query\", f\"{query}\") \n",
    "        .option(\"user\", 'root')\n",
    "        .option(\"password\", \"\")\n",
    "        .load())\n",
    "    return df"
   ]
  },
  {
   "cell_type": "code",
   "execution_count": 25,
   "id": "0a5160ca-9b34-4449-9b28-c8c6cf362447",
   "metadata": {},
   "outputs": [],
   "source": [
    "query = \"select * from customer limit 100\""
   ]
  },
  {
   "cell_type": "code",
   "execution_count": 26,
   "id": "b0605e67-fcf0-49b4-bf29-120fbfac79b9",
   "metadata": {},
   "outputs": [],
   "source": [
    "df3 = getDataframe(query)"
   ]
  },
  {
   "cell_type": "code",
   "execution_count": 27,
   "id": "f9d0d9a5-4612-4b00-83c9-4fca50c0f1f8",
   "metadata": {},
   "outputs": [
    {
     "name": "stdout",
     "output_type": "stream",
     "text": [
      "+-----------+--------+----------+---------+--------------------+----------+------+-------------------+-------------------+\n",
      "|customer_id|store_id|first_name|last_name|               email|address_id|active|        create_date|        last_update|\n",
      "+-----------+--------+----------+---------+--------------------+----------+------+-------------------+-------------------+\n",
      "|          1|       1|      MARY|    SMITH|MARY.SMITH@sakila...|         5|  true|2006-02-14 22:04:36|2006-02-15 04:57:20|\n",
      "|          2|       1|  PATRICIA|  JOHNSON|PATRICIA.JOHNSON@...|         6|  true|2006-02-14 22:04:36|2006-02-15 04:57:20|\n",
      "|          3|       1|     LINDA| WILLIAMS|LINDA.WILLIAMS@sa...|         7|  true|2006-02-14 22:04:36|2006-02-15 04:57:20|\n",
      "|          4|       2|   BARBARA|    JONES|BARBARA.JONES@sak...|         8|  true|2006-02-14 22:04:36|2006-02-15 04:57:20|\n",
      "|          5|       1| ELIZABETH|    BROWN|ELIZABETH.BROWN@s...|         9|  true|2006-02-14 22:04:36|2006-02-15 04:57:20|\n",
      "|          6|       2|  JENNIFER|    DAVIS|JENNIFER.DAVIS@sa...|        10|  true|2006-02-14 22:04:36|2006-02-15 04:57:20|\n",
      "|          7|       1|     MARIA|   MILLER|MARIA.MILLER@saki...|        11|  true|2006-02-14 22:04:36|2006-02-15 04:57:20|\n",
      "|          8|       2|     SUSAN|   WILSON|SUSAN.WILSON@saki...|        12|  true|2006-02-14 22:04:36|2006-02-15 04:57:20|\n",
      "|          9|       2|  MARGARET|    MOORE|MARGARET.MOORE@sa...|        13|  true|2006-02-14 22:04:36|2006-02-15 04:57:20|\n",
      "|         10|       1|   DOROTHY|   TAYLOR|DOROTHY.TAYLOR@sa...|        14|  true|2006-02-14 22:04:36|2006-02-15 04:57:20|\n",
      "|         11|       2|      LISA| ANDERSON|LISA.ANDERSON@sak...|        15|  true|2006-02-14 22:04:36|2006-02-15 04:57:20|\n",
      "|         12|       1|     NANCY|   THOMAS|NANCY.THOMAS@saki...|        16|  true|2006-02-14 22:04:36|2006-02-15 04:57:20|\n",
      "|         13|       2|     KAREN|  JACKSON|KAREN.JACKSON@sak...|        17|  true|2006-02-14 22:04:36|2006-02-15 04:57:20|\n",
      "|         14|       2|     BETTY|    WHITE|BETTY.WHITE@sakil...|        18|  true|2006-02-14 22:04:36|2006-02-15 04:57:20|\n",
      "|         15|       1|     HELEN|   HARRIS|HELEN.HARRIS@saki...|        19|  true|2006-02-14 22:04:36|2006-02-15 04:57:20|\n",
      "|         16|       2|    SANDRA|   MARTIN|SANDRA.MARTIN@sak...|        20| false|2006-02-14 22:04:36|2006-02-15 04:57:20|\n",
      "|         17|       1|     DONNA| THOMPSON|DONNA.THOMPSON@sa...|        21|  true|2006-02-14 22:04:36|2006-02-15 04:57:20|\n",
      "|         18|       2|     CAROL|   GARCIA|CAROL.GARCIA@saki...|        22|  true|2006-02-14 22:04:36|2006-02-15 04:57:20|\n",
      "|         19|       1|      RUTH| MARTINEZ|RUTH.MARTINEZ@sak...|        23|  true|2006-02-14 22:04:36|2006-02-15 04:57:20|\n",
      "|         20|       2|    SHARON| ROBINSON|SHARON.ROBINSON@s...|        24|  true|2006-02-14 22:04:36|2006-02-15 04:57:20|\n",
      "+-----------+--------+----------+---------+--------------------+----------+------+-------------------+-------------------+\n",
      "only showing top 20 rows\n",
      "\n"
     ]
    }
   ],
   "source": [
    "df3.show()"
   ]
  },
  {
   "cell_type": "code",
   "execution_count": 15,
   "id": "948061e8-5b2e-438c-b59d-4a4527f4613b",
   "metadata": {},
   "outputs": [],
   "source": [
    "query = \"select * from actor limit 100\""
   ]
  },
  {
   "cell_type": "code",
   "execution_count": 17,
   "id": "5e431d84-18a4-48d2-97c7-9e7618bde79b",
   "metadata": {},
   "outputs": [],
   "source": [
    "df3 = getDataframe(query)"
   ]
  },
  {
   "cell_type": "code",
   "execution_count": 18,
   "id": "4eae9439-abcb-4a0c-ac05-42801486df96",
   "metadata": {},
   "outputs": [
    {
     "name": "stdout",
     "output_type": "stream",
     "text": [
      "+--------+----------+------------+-------------------+\n",
      "|actor_id|first_name|   last_name|        last_update|\n",
      "+--------+----------+------------+-------------------+\n",
      "|       1|  PENELOPE|     GUINESS|2006-02-15 04:34:33|\n",
      "|       2|      NICK|    WAHLBERG|2006-02-15 04:34:33|\n",
      "|       3|        ED|       CHASE|2006-02-15 04:34:33|\n",
      "|       4|  JENNIFER|       DAVIS|2006-02-15 04:34:33|\n",
      "|       5|    JOHNNY|LOLLOBRIGIDA|2006-02-15 04:34:33|\n",
      "|       6|     BETTE|   NICHOLSON|2006-02-15 04:34:33|\n",
      "|       7|     GRACE|      MOSTEL|2006-02-15 04:34:33|\n",
      "|       8|   MATTHEW|   JOHANSSON|2006-02-15 04:34:33|\n",
      "|       9|       JOE|       SWANK|2006-02-15 04:34:33|\n",
      "|      10| CHRISTIAN|       GABLE|2006-02-15 04:34:33|\n",
      "|      11|      ZERO|        CAGE|2006-02-15 04:34:33|\n",
      "|      12|      KARL|       BERRY|2006-02-15 04:34:33|\n",
      "|      13|       UMA|        WOOD|2006-02-15 04:34:33|\n",
      "|      14|    VIVIEN|      BERGEN|2006-02-15 04:34:33|\n",
      "|      15|      CUBA|     OLIVIER|2006-02-15 04:34:33|\n",
      "|      16|      FRED|     COSTNER|2006-02-15 04:34:33|\n",
      "|      17|     HELEN|      VOIGHT|2006-02-15 04:34:33|\n",
      "|      18|       DAN|        TORN|2006-02-15 04:34:33|\n",
      "|      19|       BOB|     FAWCETT|2006-02-15 04:34:33|\n",
      "|      20|   LUCILLE|       TRACY|2006-02-15 04:34:33|\n",
      "+--------+----------+------------+-------------------+\n",
      "only showing top 20 rows\n",
      "\n"
     ]
    }
   ],
   "source": [
    "df3.show()"
   ]
  },
  {
   "cell_type": "code",
   "execution_count": null,
   "id": "4a84ce40-7f5d-4759-8505-313cfceb88f7",
   "metadata": {},
   "outputs": [],
   "source": []
  }
 ],
 "metadata": {
  "kernelspec": {
   "display_name": "Python 3 (ipykernel)",
   "language": "python",
   "name": "python3"
  },
  "language_info": {
   "codemirror_mode": {
    "name": "ipython",
    "version": 3
   },
   "file_extension": ".py",
   "mimetype": "text/x-python",
   "name": "python",
   "nbconvert_exporter": "python",
   "pygments_lexer": "ipython3",
   "version": "3.9.16"
  }
 },
 "nbformat": 4,
 "nbformat_minor": 5
}
