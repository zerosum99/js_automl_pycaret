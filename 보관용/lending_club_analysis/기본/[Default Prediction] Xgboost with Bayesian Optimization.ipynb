{
 "cells": [
  {
   "cell_type": "code",
   "execution_count": 1,
   "id": "294118d0",
   "metadata": {
    "_cell_guid": "b1076dfc-b9ad-4769-8c92-a6c4dae69d19",
    "_uuid": "8f2839f25d086af736a60e9eeb907d3b93b6e0e5",
    "execution": {
     "iopub.execute_input": "2021-05-30T14:14:27.099333Z",
     "iopub.status.busy": "2021-05-30T14:14:27.098525Z",
     "iopub.status.idle": "2021-05-30T14:14:40.088021Z",
     "shell.execute_reply": "2021-05-30T14:14:40.087083Z"
    },
    "papermill": {
     "duration": 13.016939,
     "end_time": "2021-05-30T14:14:40.088211",
     "exception": false,
     "start_time": "2021-05-30T14:14:27.071272",
     "status": "completed"
    },
    "tags": []
   },
   "outputs": [
    {
     "data": {
      "text/html": [
       "<style type='text/css'>\n",
       ".datatable table.frame { margin-bottom: 0; }\n",
       ".datatable table.frame thead { border-bottom: none; }\n",
       ".datatable table.frame tr.coltypes td {  color: #FFFFFF;  line-height: 6px;  padding: 0 0.5em;}\n",
       ".datatable .bool    { background: #DDDD99; }\n",
       ".datatable .object  { background: #565656; }\n",
       ".datatable .int     { background: #5D9E5D; }\n",
       ".datatable .float   { background: #4040CC; }\n",
       ".datatable .str     { background: #CC4040; }\n",
       ".datatable .row_index {  background: var(--jp-border-color3);  border-right: 1px solid var(--jp-border-color0);  color: var(--jp-ui-font-color3);  font-size: 9px;}\n",
       ".datatable .frame tr.coltypes .row_index {  background: var(--jp-border-color0);}\n",
       ".datatable th:nth-child(2) { padding-left: 12px; }\n",
       ".datatable .hellipsis {  color: var(--jp-cell-editor-border-color);}\n",
       ".datatable .vellipsis {  background: var(--jp-layout-color0);  color: var(--jp-cell-editor-border-color);}\n",
       ".datatable .na {  color: var(--jp-cell-editor-border-color);  font-size: 80%;}\n",
       ".datatable .footer { font-size: 9px; }\n",
       ".datatable .frame_dimensions {  background: var(--jp-border-color3);  border-top: 1px solid var(--jp-border-color0);  color: var(--jp-ui-font-color3);  display: inline-block;  opacity: 0.6;  padding: 1px 10px 1px 5px;}\n",
       "</style>\n"
      ],
      "text/plain": [
       "<IPython.core.display.HTML object>"
      ]
     },
     "metadata": {},
     "output_type": "display_data"
    }
   ],
   "source": [
    "### import\n",
    "import pandas as pd\n",
    "import numpy as np\n",
    "import xgboost as xgb\n",
    "import lightgbm as lgb\n",
    "import os, sys, gc, warnings, random, datetime\n",
    "from skopt import BayesSearchCV\n",
    "from sklearn.metrics import roc_auc_score, f1_score, precision_recall_curve, accuracy_score\n",
    "from sklearn.model_selection import StratifiedKFold\n",
    "from hyperopt import STATUS_OK, Trials, fmin, hp, tpe\n",
    "from sklearn.model_selection import train_test_split\n",
    "\n",
    "ITERATIONS = 10 \n",
    "\n",
    "# Load data\n",
    "df = pd.read_pickle('../input/lending-club-feature-selection/lgb_selected.pkl')\n",
    "\n",
    "X = df.drop('loan_status', axis=1)\n",
    "\n",
    "y = df['loan_status']\n",
    "\n",
    "X_train, X_test, y_train, y_test = train_test_split(X, y, test_size = 0.2, random_state = 2021)"
   ]
  },
  {
   "cell_type": "code",
   "execution_count": 2,
   "id": "2c0552c9",
   "metadata": {
    "execution": {
     "iopub.execute_input": "2021-05-30T14:14:40.119252Z",
     "iopub.status.busy": "2021-05-30T14:14:40.118524Z",
     "iopub.status.idle": "2021-05-30T14:14:40.121834Z",
     "shell.execute_reply": "2021-05-30T14:14:40.121165Z"
    },
    "papermill": {
     "duration": 0.021477,
     "end_time": "2021-05-30T14:14:40.121994",
     "exception": false,
     "start_time": "2021-05-30T14:14:40.100517",
     "status": "completed"
    },
    "tags": []
   },
   "outputs": [],
   "source": [
    "### Deterministic\n",
    "def seed_everything(seed=0):\n",
    "    random.seed(seed)\n",
    "    os.environ['PYTHONHASHSEED'] = str(seed)\n",
    "    np.random.seed(seed)\n",
    "    \n",
    "SEED = 42\n",
    "seed_everything(SEED)"
   ]
  },
  {
   "cell_type": "markdown",
   "id": "9c46eba6",
   "metadata": {},
   "source": [
    "## Bayesian Optimization"
   ]
  },
  {
   "cell_type": "code",
   "execution_count": 3,
   "id": "230a4cdc",
   "metadata": {
    "execution": {
     "iopub.execute_input": "2021-05-30T14:14:40.152997Z",
     "iopub.status.busy": "2021-05-30T14:14:40.152243Z",
     "iopub.status.idle": "2021-05-30T14:14:40.154425Z",
     "shell.execute_reply": "2021-05-30T14:14:40.154903Z"
    },
    "papermill": {
     "duration": 0.021434,
     "end_time": "2021-05-30T14:14:40.155110",
     "exception": false,
     "start_time": "2021-05-30T14:14:40.133676",
     "status": "completed"
    },
    "tags": []
   },
   "outputs": [],
   "source": [
    "space={'max_depth': hp.quniform(\"max_depth\", 3, 18, 1),\n",
    "        'gamma': hp.uniform ('gamma', 1,9),\n",
    "        'reg_alpha' : hp.quniform('reg_alpha', 40,180,1),\n",
    "        'reg_lambda' : hp.uniform('reg_lambda', 0,1),\n",
    "        'colsample_bytree' : hp.uniform('colsample_bytree', 0.5,1),\n",
    "        'min_child_weight' : hp.quniform('min_child_weight', 0, 10, 1),\n",
    "        'n_estimators': 5000,\n",
    "        'seed': 2021\n",
    "    }"
   ]
  },
  {
   "cell_type": "code",
   "execution_count": 4,
   "id": "552e61f4",
   "metadata": {
    "execution": {
     "iopub.execute_input": "2021-05-30T14:14:40.182911Z",
     "iopub.status.busy": "2021-05-30T14:14:40.181910Z",
     "iopub.status.idle": "2021-05-30T14:14:40.189067Z",
     "shell.execute_reply": "2021-05-30T14:14:40.189513Z"
    },
    "papermill": {
     "duration": 0.022677,
     "end_time": "2021-05-30T14:14:40.189726",
     "exception": false,
     "start_time": "2021-05-30T14:14:40.167049",
     "status": "completed"
    },
    "tags": []
   },
   "outputs": [],
   "source": [
    "def objective(space):\n",
    "    clf=xgb.XGBClassifier(\n",
    "                    n_estimators =space['n_estimators'], max_depth = int(space['max_depth']), gamma = space['gamma'],\n",
    "                    reg_alpha = int(space['reg_alpha']),min_child_weight=int(space['min_child_weight']),\n",
    "                    colsample_bytree=space['colsample_bytree'])\n",
    "    \n",
    "    evaluation = [( X_train, y_train), ( X_test, y_test)]\n",
    "    \n",
    "    clf.fit(X_train, y_train,\n",
    "            eval_set=evaluation, eval_metric=\"auc\",\n",
    "            early_stopping_rounds=40,verbose=False)\n",
    "    \n",
    "\n",
    "    pred = clf.predict(X_test)\n",
    "    auc = roc_auc_score(y_test, pred)\n",
    "    print (\"SCORE:\", auc)\n",
    "    return {'loss': auc, 'status': STATUS_OK }"
   ]
  },
  {
   "cell_type": "code",
   "execution_count": 5,
   "id": "6bc41fe3",
   "metadata": {
    "execution": {
     "iopub.execute_input": "2021-05-30T14:14:40.217645Z",
     "iopub.status.busy": "2021-05-30T14:14:40.216567Z",
     "iopub.status.idle": "2021-05-30T17:47:05.820866Z",
     "shell.execute_reply": "2021-05-30T17:47:05.812668Z"
    },
    "papermill": {
     "duration": 12745.619712,
     "end_time": "2021-05-30T17:47:05.821285",
     "exception": false,
     "start_time": "2021-05-30T14:14:40.201573",
     "status": "completed"
    },
    "tags": []
   },
   "outputs": [
    {
     "name": "stdout",
     "output_type": "stream",
     "text": [
      "SCORE:\n",
      "0.9633003057040391\n",
      "SCORE:\n",
      "0.9653330522671065\n",
      "SCORE:\n",
      "0.9624029141274085\n",
      "SCORE:\n",
      "0.9641747195811513\n",
      "SCORE:\n",
      "0.9627261930780876\n",
      "SCORE:\n",
      "0.9637333096393436\n",
      "SCORE:\n",
      "0.9644319293959316\n",
      "SCORE:\n",
      "0.9624432513970727\n",
      "SCORE:\n",
      "0.9640412925972864\n",
      "SCORE:\n",
      "0.9631904964433778\n",
      "100%|██████████| 10/10 [3:32:25<00:00, 1274.56s/trial, best loss: 0.9624029141274085]\n"
     ]
    }
   ],
   "source": [
    "trials = Trials()\n",
    "\n",
    "import warnings\n",
    "warnings.filterwarnings('ignore')\n",
    "best_hyperparams = fmin(fn = objective,\n",
    "                        space = space,\n",
    "                        algo = tpe.suggest,\n",
    "                        max_evals = 10,\n",
    "                        trials = trials)"
   ]
  },
  {
   "cell_type": "code",
   "execution_count": 6,
   "id": "86eb8b6f",
   "metadata": {
    "execution": {
     "iopub.execute_input": "2021-05-30T17:47:05.903931Z",
     "iopub.status.busy": "2021-05-30T17:47:05.903033Z",
     "iopub.status.idle": "2021-05-30T17:47:05.907231Z",
     "shell.execute_reply": "2021-05-30T17:47:05.907729Z"
    },
    "papermill": {
     "duration": 0.052573,
     "end_time": "2021-05-30T17:47:05.907939",
     "exception": false,
     "start_time": "2021-05-30T17:47:05.855366",
     "status": "completed"
    },
    "tags": []
   },
   "outputs": [
    {
     "name": "stdout",
     "output_type": "stream",
     "text": [
      "The best hyperparameters are :  \n",
      "\n",
      "{'colsample_bytree': 0.9452293247804742, 'gamma': 6.138235884890671, 'max_depth': 12.0, 'min_child_weight': 8.0, 'reg_alpha': 151.0, 'reg_lambda': 0.9627205324158953}\n"
     ]
    }
   ],
   "source": [
    "### print Best Hyperparameters\n",
    "print(\"The best hyperparameters are : \",\"\\n\")\n",
    "print(best_hyperparams)"
   ]
  },
  {
   "cell_type": "markdown",
   "id": "4b923cda",
   "metadata": {},
   "source": [
    "## Make Real Prediction (Params from Bayesian Optimization)"
   ]
  },
  {
   "cell_type": "code",
   "execution_count": 7,
   "id": "6780a024",
   "metadata": {
    "execution": {
     "iopub.execute_input": "2021-05-30T17:47:05.988445Z",
     "iopub.status.busy": "2021-05-30T17:47:05.987485Z",
     "iopub.status.idle": "2021-05-30T17:47:13.117539Z",
     "shell.execute_reply": "2021-05-30T17:47:13.116952Z"
    },
    "papermill": {
     "duration": 7.174002,
     "end_time": "2021-05-30T17:47:13.117727",
     "exception": false,
     "start_time": "2021-05-30T17:47:05.943725",
     "status": "completed"
    },
    "tags": []
   },
   "outputs": [],
   "source": [
    "df = pd.read_pickle('../input/lending-club-feature-selection/lgb_selected.pkl')\n",
    "train , test = train_test_split(df,test_size = 0.2, random_state = 2020)\n",
    "y_train = train.pop('loan_status')\n",
    "y_test = test.pop('loan_status')\n",
    "train.reset_index(drop=True, inplace=True)\n",
    "test.reset_index(drop=True, inplace=True)\n",
    "y_train.reset_index(drop=True, inplace=True)\n",
    "y_test.reset_index(drop=True, inplace=True)"
   ]
  },
  {
   "cell_type": "code",
   "execution_count": 8,
   "id": "0ab91026",
   "metadata": {
    "execution": {
     "iopub.execute_input": "2021-05-30T17:47:13.193455Z",
     "iopub.status.busy": "2021-05-30T17:47:13.192801Z",
     "iopub.status.idle": "2021-05-30T17:47:13.196677Z",
     "shell.execute_reply": "2021-05-30T17:47:13.195994Z"
    },
    "papermill": {
     "duration": 0.044482,
     "end_time": "2021-05-30T17:47:13.196827",
     "exception": false,
     "start_time": "2021-05-30T17:47:13.152345",
     "status": "completed"
    },
    "tags": []
   },
   "outputs": [],
   "source": [
    "remove_features = ['id','loan_status']\n",
    "features = [col for col in list(train) if col not in remove_features]"
   ]
  },
  {
   "cell_type": "code",
   "execution_count": 9,
   "id": "91bfa182",
   "metadata": {
    "execution": {
     "iopub.execute_input": "2021-05-30T17:47:13.284945Z",
     "iopub.status.busy": "2021-05-30T17:47:13.284147Z",
     "iopub.status.idle": "2021-05-30T17:47:13.286870Z",
     "shell.execute_reply": "2021-05-30T17:47:13.287363Z"
    },
    "papermill": {
     "duration": 0.055757,
     "end_time": "2021-05-30T17:47:13.287560",
     "exception": false,
     "start_time": "2021-05-30T17:47:13.231803",
     "status": "completed"
    },
    "tags": []
   },
   "outputs": [],
   "source": [
    "def make_xgb_prediction(train, y, test, features, model_params=None, folds=5):\n",
    "    def xgb_f1_score(y_hat, data):\n",
    "        y_true = data.get_label()\n",
    "        y_hat = np.round(y_hat) \n",
    "        return 'f1', 1-f1_score(y_true, y_hat, average='micro')\n",
    "    \n",
    "    skf = StratifiedKFold(n_splits=folds, random_state=SEED, shuffle=True)\n",
    "    \n",
    "    x_train = train[features]\n",
    "    x_test = test[features]\n",
    "\n",
    "    y_preds = np.zeros(x_test.shape[0])\n",
    "    y_oof = np.zeros(x_train.shape[0])\n",
    "    score = 0\n",
    "\n",
    "    feature_importance = pd.DataFrame()\n",
    "    feature_importance['feature'] = features\n",
    "\n",
    "    for fold, (tr_idx, val_idx) in enumerate(skf.split(x_train, y)):\n",
    "        print(f'Fold: {fold+1}')\n",
    "\n",
    "        x_tr, x_val = x_train.loc[tr_idx, features], x_train.loc[val_idx, features]\n",
    "        y_tr, y_val = y[tr_idx], y[val_idx]\n",
    "\n",
    "        print(x_tr.shape, x_val.shape)\n",
    "\n",
    "        dtrain = xgb.DMatrix(x_tr, label=y_tr)\n",
    "        dvalid = xgb.DMatrix(x_val, label=y_val)\n",
    "\n",
    "        clf = xgb.train(\n",
    "            model_params,\n",
    "            dtrain,\n",
    "            num_boost_round=10000, \n",
    "            evals=[(dtrain, 'train'), (dvalid, 'valid')],\n",
    "            verbose_eval=50,\n",
    "            early_stopping_rounds=100,\n",
    "            feval=xgb_f1_score\n",
    "        )\n",
    "\n",
    "        #feature_importance[f'fold_{fold+1}'] = clf.get_score()\n",
    "\n",
    "        y_pred_val = clf.predict(dvalid)\n",
    "\n",
    "        y_oof[val_idx] = y_pred_val\n",
    "        print(f\"Fold {fold + 1} | F1 Score: {f1_score(y_val, np.round(y_pred_val), average='micro')}\")\n",
    "\n",
    "        score += f1_score(y_val, np.round(y_pred_val), average='micro') / folds\n",
    "        y_preds += clf.predict(xgb.DMatrix(x_test)) / folds\n",
    "\n",
    "        del x_tr, x_val, y_tr, y_val\n",
    "        gc.collect()\n",
    "\n",
    "    print(f\"\\nMean F1 score = {score}\")\n",
    "    print(f\"OOF F1 score = {f1_score(y, np.round(y_oof), average='micro')}\")\n",
    "    \n",
    "    return y_oof, y_preds, feature_importance"
   ]
  },
  {
   "cell_type": "code",
   "execution_count": 10,
   "id": "c3995250",
   "metadata": {
    "execution": {
     "iopub.execute_input": "2021-05-30T17:47:13.364619Z",
     "iopub.status.busy": "2021-05-30T17:47:13.363892Z",
     "iopub.status.idle": "2021-05-30T17:47:13.366952Z",
     "shell.execute_reply": "2021-05-30T17:47:13.366394Z"
    },
    "papermill": {
     "duration": 0.04438,
     "end_time": "2021-05-30T17:47:13.367104",
     "exception": false,
     "start_time": "2021-05-30T17:47:13.322724",
     "status": "completed"
    },
    "tags": []
   },
   "outputs": [],
   "source": [
    "# xgb model params\n",
    "xgb_params = {\n",
    "    'objective': 'binary:logistic',\n",
    "    'learning_rate': 0.1,\n",
    "    'max_depth': int(best_hyperparams['max_depth']),\n",
    "    'colsample_bytree': best_hyperparams['colsample_bytree'],\n",
    "\n",
    "    'disable_default_eval_metric': 1,\n",
    "\n",
    "    'seed': SEED,\n",
    "    'gamma' : best_hyperparams['gamma'],\n",
    "    'min_child_weight' : int(best_hyperparams['min_child_weight']) , \n",
    "    'reg_alpha' : int(best_hyperparams['reg_alpha']) , \n",
    "    'reg_lambda' : best_hyperparams['reg_lambda']\n",
    "} \n",
    "\n"
   ]
  },
  {
   "cell_type": "code",
   "execution_count": 11,
   "id": "56d179a8",
   "metadata": {
    "execution": {
     "iopub.execute_input": "2021-05-30T17:47:13.821581Z",
     "iopub.status.busy": "2021-05-30T17:47:13.820817Z",
     "iopub.status.idle": "2021-05-30T18:36:46.773770Z",
     "shell.execute_reply": "2021-05-30T18:36:46.772462Z"
    },
    "papermill": {
     "duration": 2973.372828,
     "end_time": "2021-05-30T18:36:46.774542",
     "exception": false,
     "start_time": "2021-05-30T17:47:13.401714",
     "status": "completed"
    },
    "tags": []
   },
   "outputs": [
    {
     "name": "stdout",
     "output_type": "stream",
     "text": [
      "Fold: 1\n",
      "(1446827, 40) (361707, 40)\n",
      "[0]\ttrain-f1:0.13062\tvalid-f1:0.13062\n",
      "[50]\ttrain-f1:0.99515\tvalid-f1:0.99491\n",
      "[100]\ttrain-f1:0.99580\tvalid-f1:0.99559\n",
      "Fold 1 | F1 Score: 0.9889192080883146\n",
      "Fold: 2\n",
      "(1446827, 40) (361707, 40)\n",
      "[0]\ttrain-f1:0.13062\tvalid-f1:0.13062\n",
      "[50]\ttrain-f1:0.99493\tvalid-f1:0.99475\n",
      "[99]\ttrain-f1:0.99572\tvalid-f1:0.99557\n",
      "Fold 2 | F1 Score: 0.9885763891768752\n",
      "Fold: 3\n",
      "(1446827, 40) (361707, 40)\n",
      "[0]\ttrain-f1:0.13062\tvalid-f1:0.13062\n",
      "[50]\ttrain-f1:0.99481\tvalid-f1:0.99495\n",
      "[100]\ttrain-f1:0.99568\tvalid-f1:0.99590\n",
      "Fold 3 | F1 Score: 0.9887063286029852\n",
      "Fold: 4\n",
      "(1446827, 40) (361707, 40)\n",
      "[0]\ttrain-f1:0.13062\tvalid-f1:0.13062\n",
      "[50]\ttrain-f1:0.99470\tvalid-f1:0.99491\n",
      "[99]\ttrain-f1:0.99573\tvalid-f1:0.99585\n",
      "Fold 4 | F1 Score: 0.9885155664667811\n",
      "Fold: 5\n",
      "(1446828, 40) (361706, 40)\n",
      "[0]\ttrain-f1:0.13062\tvalid-f1:0.13062\n",
      "[50]\ttrain-f1:0.99506\tvalid-f1:0.99482\n",
      "[99]\ttrain-f1:0.99571\tvalid-f1:0.99552\n",
      "Fold 5 | F1 Score: 0.988305419318452\n",
      "\n",
      "Mean F1 score = 0.9886045823306816\n",
      "OOF F1 score = 0.9886045824960991\n"
     ]
    }
   ],
   "source": [
    "y_oof_xgb, y_preds_xgb, fi_xgb = make_xgb_prediction(train, y_train, test, features, \\\n",
    "                                                     model_params=xgb_params)"
   ]
  }
 ],
 "metadata": {
  "hide_input": false,
  "kernelspec": {
   "display_name": "Python 3",
   "language": "python",
   "name": "python3"
  },
  "language_info": {
   "codemirror_mode": {
    "name": "ipython",
    "version": 3
   },
   "file_extension": ".py",
   "mimetype": "text/x-python",
   "name": "python",
   "nbconvert_exporter": "python",
   "pygments_lexer": "ipython3",
   "version": "3.7.10"
  },
  "papermill": {
   "default_parameters": {},
   "duration": 15749.441192,
   "end_time": "2021-05-30T18:36:48.127390",
   "environment_variables": {},
   "exception": null,
   "input_path": "__notebook__.ipynb",
   "output_path": "__notebook__.ipynb",
   "parameters": {},
   "start_time": "2021-05-30T14:14:18.686198",
   "version": "2.3.3"
  }
 },
 "nbformat": 4,
 "nbformat_minor": 5
}
