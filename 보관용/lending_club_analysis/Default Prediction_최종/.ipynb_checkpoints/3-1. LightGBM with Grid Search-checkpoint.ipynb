{
 "cells": [
  {
   "cell_type": "markdown",
   "metadata": {},
   "source": [
    "### 0. Data Load"
   ]
  },
  {
   "cell_type": "code",
   "execution_count": 1,
   "metadata": {
    "ExecuteTime": {
     "end_time": "2021-06-14T04:23:33.939179Z",
     "start_time": "2021-06-14T04:23:33.935165Z"
    }
   },
   "outputs": [],
   "source": [
    "import warnings\n",
    "warnings.filterwarnings('ignore')\n",
    "\n",
    "import os, sys, gc, warnings, random, datetime\n",
    "\n",
    "import pandas as pd\n",
    "import numpy as np\n",
    "\n",
    "from sklearn.preprocessing import LabelEncoder\n",
    "from sklearn.metrics import roc_auc_score, f1_score, precision_recall_curve, accuracy_score\n",
    "from sklearn.model_selection import KFold, StratifiedKFold , GroupKFold\n",
    "\n",
    "import lightgbm as lgb\n",
    "\n",
    "from matplotlib import pyplot as plt\n",
    "import seaborn as sns\n",
    "\n",
    "from IPython.display import display\n",
    "\n",
    "from sklearn import metrics\n",
    "from sklearn.model_selection import train_test_split, GridSearchCV\n",
    "\n",
    "\n",
    "pd.set_option('display.max_columns', 200)"
   ]
  },
  {
   "cell_type": "code",
   "execution_count": null,
   "metadata": {},
   "outputs": [],
   "source": []
  },
  {
   "cell_type": "code",
   "execution_count": 2,
   "metadata": {},
   "outputs": [],
   "source": [
    "path_read =\"/Users/a06411/Documents/data_hub/lending_club/lgb_selected.pkl\""
   ]
  },
  {
   "cell_type": "code",
   "execution_count": 3,
   "metadata": {
    "ExecuteTime": {
     "end_time": "2021-06-14T04:23:44.022349Z",
     "start_time": "2021-06-14T04:23:43.022241Z"
    }
   },
   "outputs": [],
   "source": [
    "df = pd.read_pickle(path_read)"
   ]
  },
  {
   "cell_type": "markdown",
   "metadata": {},
   "source": [
    "#### Train (Before Year 2018) & Test (Year 2018) for Prediction"
   ]
  },
  {
   "cell_type": "code",
   "execution_count": 4,
   "metadata": {
    "ExecuteTime": {
     "end_time": "2021-06-14T04:23:53.283023Z",
     "start_time": "2021-06-14T04:23:52.966728Z"
    }
   },
   "outputs": [],
   "source": [
    "df['issue_d'] = pd.to_datetime(df['issue_d'])\n",
    "df['issue_year'] = df['issue_d'].dt.year"
   ]
  },
  {
   "cell_type": "code",
   "execution_count": 5,
   "metadata": {
    "ExecuteTime": {
     "end_time": "2021-06-14T04:23:56.734437Z",
     "start_time": "2021-06-14T04:23:56.336860Z"
    }
   },
   "outputs": [],
   "source": [
    "train = df[df['issue_year'] != 2018]\n",
    "test = df[df['issue_year'] == 2018]\n",
    "\n",
    "train.reset_index(drop=True, inplace=True)\n",
    "test.reset_index(drop=True, inplace=True)\n",
    "\n",
    "answer = test['loan_status']"
   ]
  },
  {
   "cell_type": "code",
   "execution_count": 6,
   "metadata": {
    "ExecuteTime": {
     "end_time": "2021-06-14T04:23:58.818864Z",
     "start_time": "2021-06-14T04:23:58.349791Z"
    }
   },
   "outputs": [
    {
     "name": "stdout",
     "output_type": "stream",
     "text": [
      "(1314290, 63)\n",
      "(1314290,)\n"
     ]
    }
   ],
   "source": [
    "# Load Data with selected features\n",
    "X = train.copy()\n",
    "# Labels\n",
    "y = train['loan_status']\n",
    "\n",
    "# Remove Labels from Dataframe\n",
    "X.drop(['loan_status'], axis = 1, inplace = True)\n",
    "# Final Data Shapes\n",
    "print(X.shape)\n",
    "print(y.shape)"
   ]
  },
  {
   "cell_type": "markdown",
   "metadata": {},
   "source": [
    "#### Train(Before year 2017) & Test(Year 2018) for Optimization"
   ]
  },
  {
   "cell_type": "code",
   "execution_count": 7,
   "metadata": {
    "ExecuteTime": {
     "end_time": "2021-06-14T04:24:03.208751Z",
     "start_time": "2021-06-14T04:24:02.886961Z"
    }
   },
   "outputs": [],
   "source": [
    "ttrain = train[train['issue_year'] != 2017]\n",
    "ttest = train[train['issue_year'] == 2017]"
   ]
  },
  {
   "cell_type": "code",
   "execution_count": 8,
   "metadata": {
    "ExecuteTime": {
     "end_time": "2021-06-14T04:24:05.042021Z",
     "start_time": "2021-06-14T04:24:03.287169Z"
    }
   },
   "outputs": [],
   "source": [
    "X_train = ttrain.copy()\n",
    "y_train = ttrain['loan_status']\n",
    "X_train.drop(['loan_status'], axis = 1, inplace = True)\n",
    "\n",
    "X_test = ttest.copy()\n",
    "y_test = ttest['loan_status']\n",
    "X_test.drop(['loan_status'], axis = 1, inplace = True)"
   ]
  },
  {
   "cell_type": "code",
   "execution_count": 9,
   "metadata": {
    "ExecuteTime": {
     "end_time": "2021-06-14T04:24:05.189783Z",
     "start_time": "2021-06-14T04:24:05.185744Z"
    }
   },
   "outputs": [],
   "source": [
    "remove_features = ['earliest_cr_line', 'issue_d', 'last_credit_pull_d', 'last_pymnt_d', 'next_pymnt_d',\n",
    "                  'initial_list_status','out_prncp','out_prncp_inv','total_pymnt','total_pymnt_inv','total_rec_prncp','total_rec_int','total_rec_late_fee',\n",
    "                   'recoveries','collection_recovery_fee','last_pymnt_amnt','last_fico_range_high','last_fico_range_low' , 'id', 'loan_status' , 'issue_year' ]\n",
    "features  = [col for col in list(train) if col not in remove_features]"
   ]
  },
  {
   "cell_type": "markdown",
   "metadata": {},
   "source": [
    "### Grid Search"
   ]
  },
  {
   "cell_type": "markdown",
   "metadata": {},
   "source": [
    "#### (1) Initiate a model"
   ]
  },
  {
   "cell_type": "code",
   "execution_count": 10,
   "metadata": {
    "ExecuteTime": {
     "end_time": "2021-06-14T04:24:10.191509Z",
     "start_time": "2021-06-14T04:24:10.183705Z"
    }
   },
   "outputs": [
    {
     "data": {
      "text/plain": [
       "dict_keys(['boosting_type', 'class_weight', 'colsample_bytree', 'importance_type', 'learning_rate', 'max_depth', 'min_child_samples', 'min_child_weight', 'min_split_gain', 'n_estimators', 'n_jobs', 'num_leaves', 'objective', 'random_state', 'reg_alpha', 'reg_lambda', 'silent', 'subsample', 'subsample_for_bin', 'subsample_freq', 'max_bin'])"
      ]
     },
     "execution_count": 10,
     "metadata": {},
     "output_type": "execute_result"
    }
   ],
   "source": [
    "params = {\n",
    "    'application': 'binary',\n",
    "    'boosting': 'gbdt', \n",
    "    'num_iterations': 100, \n",
    "    'learning_rate': 0.05,\n",
    "    'num_leaves': 62,\n",
    "    'max_depth': -1,\n",
    "    'max_bin': 510, \n",
    "    'lambda_l1': 5, \n",
    "    'lambda_l2': 10, \n",
    "    'metric' : 'binary_error',\n",
    "    'subsample_for_bin': 200,\n",
    "    'subsample': 1,\n",
    "    'colsample_bytree': 0.8, \n",
    "    'min_split_gain': 0.5, \n",
    "    'min_child_weight': 1, \n",
    "    'min_child_samples': 5\n",
    "}\n",
    "\n",
    "mdl = lgb.LGBMClassifier(boosting_type= 'gbdt', \n",
    "          objective = 'binary', \n",
    "          n_jobs = 5, \n",
    "          max_depth = params['max_depth'],\n",
    "          max_bin = params['max_bin'], \n",
    "          subsample_for_bin = params['subsample_for_bin'],\n",
    "          subsample = params['subsample'], \n",
    "          min_split_gain = params['min_split_gain'], \n",
    "          min_child_weight = params['min_child_weight'], \n",
    "          min_child_samples = params['min_child_samples'])\n",
    "\n",
    "mdl.get_params().keys()"
   ]
  },
  {
   "cell_type": "code",
   "execution_count": null,
   "metadata": {
    "ExecuteTime": {
     "end_time": "2021-06-14T10:22:36.756477Z",
     "start_time": "2021-06-14T04:24:40.280046Z"
    }
   },
   "outputs": [
    {
     "name": "stdout",
     "output_type": "stream",
     "text": [
      "Fitting 4 folds for each of 32 candidates, totalling 128 fits\n"
     ]
    }
   ],
   "source": [
    "gridParams = {\n",
    "    'bagging_fraction': [0.6, 0.8],\n",
    "    'learning_rate': [0.01, 0.1],\n",
    "    'num_leaves': [125, 255],\n",
    "    'max_depth': [10,20],\n",
    "    'reg_alpha' : [0.5,1]\n",
    "    }\n",
    "\n",
    "grid = GridSearchCV(mdl, gridParams, verbose=1, cv=4, n_jobs=-1)\n",
    "\n",
    "grid.fit(X_train[features], y_train, eval_metric='auc',\n",
    "         eval_set=[(X_train[features], y_train), (X_test[features], y_test)])\n",
    "\n",
    "print(grid.best_params_)\n",
    "print(grid.best_score_)"
   ]
  },
  {
   "cell_type": "code",
   "execution_count": null,
   "metadata": {},
   "outputs": [],
   "source": []
  },
  {
   "cell_type": "code",
   "execution_count": null,
   "metadata": {},
   "outputs": [],
   "source": []
  },
  {
   "cell_type": "code",
   "execution_count": null,
   "metadata": {},
   "outputs": [],
   "source": []
  },
  {
   "cell_type": "code",
   "execution_count": null,
   "metadata": {
    "ExecuteTime": {
     "end_time": "2021-06-14T10:22:36.760940Z",
     "start_time": "2021-06-14T10:22:36.758112Z"
    }
   },
   "outputs": [],
   "source": [
    "params['bagging_fraction'] = grid.best_params_['bagging_fraction']\n",
    "params['learning_rate'] = grid.best_params_['learning_rate']\n",
    "params['num_leaves'] = grid.best_params_['num_leaves']\n",
    "params['max_depth'] = grid.best_params_['max_depth']\n",
    "params['reg_alpha'] = grid.best_params_['reg_alpha']"
   ]
  },
  {
   "cell_type": "code",
   "execution_count": null,
   "metadata": {},
   "outputs": [],
   "source": []
  },
  {
   "cell_type": "code",
   "execution_count": null,
   "metadata": {},
   "outputs": [],
   "source": []
  },
  {
   "cell_type": "markdown",
   "metadata": {},
   "source": [
    "### Prediction"
   ]
  },
  {
   "cell_type": "code",
   "execution_count": null,
   "metadata": {
    "ExecuteTime": {
     "end_time": "2021-06-14T10:22:36.767758Z",
     "start_time": "2021-06-14T10:22:36.762279Z"
    }
   },
   "outputs": [],
   "source": [
    "def seed_everything(seed=0):\n",
    "    random.seed(seed)\n",
    "    os.environ['PYTHONHASHSEED'] = str(seed)\n",
    "    np.random.seed(seed)\n",
    "    \n",
    "SEED = 42\n",
    "seed_everything(SEED)"
   ]
  },
  {
   "cell_type": "code",
   "execution_count": null,
   "metadata": {},
   "outputs": [],
   "source": []
  },
  {
   "cell_type": "code",
   "execution_count": null,
   "metadata": {
    "ExecuteTime": {
     "end_time": "2021-06-14T10:37:13.081296Z",
     "start_time": "2021-06-14T10:37:13.074906Z"
    }
   },
   "outputs": [],
   "source": [
    "def make_lgb_prediction(train, y, test, features, categorical_features='auto', model_params=None, folds=5):\n",
    "    \n",
    "    skf = KFold(n_splits=folds, random_state=SEED, shuffle=True)\n",
    "    folds = 5\n",
    "    x_train = train[features]\n",
    "    x_test = test[features]\n",
    "\n",
    "    y_preds = np.zeros(x_test.shape[0])\n",
    "    y_oof = np.zeros(x_train.shape[0])\n",
    "    score = 0\n",
    "    split_groups = train['issue_year']\n",
    "    \n",
    "\n",
    "    for fold, (tr_idx, val_idx) in enumerate(skf.split(x_train, y)):\n",
    "        print(f'Fold: {fold+1}')\n",
    "\n",
    "        x_tr, x_val = x_train.loc[tr_idx, features], x_train.loc[val_idx, features]\n",
    "        y_tr, y_val = y[tr_idx], y[val_idx]\n",
    "\n",
    "        print(x_tr.shape, x_val.shape)\n",
    "\n",
    "        dtrain = lgb.Dataset(x_tr, label=y_tr)\n",
    "        dvalid = lgb.Dataset(x_val, label=y_val)\n",
    "\n",
    "        clf = lgb.train(\n",
    "            model_params,\n",
    "            dtrain,\n",
    "            valid_sets=[dtrain, dvalid],\n",
    "            categorical_feature=categorical_features,\n",
    "            verbose_eval=200\n",
    "        )\n",
    "        \n",
    "        y_pred_val = clf.predict(x_val)\n",
    "\n",
    "        y_oof[val_idx] = y_pred_val\n",
    "        print(f\"Fold {fold + 1} | AUC Score: {roc_auc_score(y_val, y_pred_val)}\")\n",
    "\n",
    "        score += roc_auc_score(y_val, y_pred_val) / folds\n",
    "        y_preds += clf.predict(x_test) / folds\n",
    "\n",
    "        del x_tr, x_val, y_tr, y_val\n",
    "        gc.collect()\n",
    "\n",
    "    print(f\"\\nMean AUC score = {score}\")\n",
    "    print(f\"OOF AUC score = {roc_auc_score(y, y_oof)}\")\n",
    "    \n",
    "    return y_oof, y_preds, clf"
   ]
  },
  {
   "cell_type": "code",
   "execution_count": null,
   "metadata": {
    "ExecuteTime": {
     "end_time": "2021-06-14T10:38:56.026955Z",
     "start_time": "2021-06-14T10:37:21.068853Z"
    }
   },
   "outputs": [],
   "source": [
    "y_oof_lgb, y_preds_lgb, mdl = make_lgb_prediction(X, y, test, features, model_params=params)"
   ]
  },
  {
   "cell_type": "code",
   "execution_count": null,
   "metadata": {},
   "outputs": [],
   "source": []
  },
  {
   "cell_type": "code",
   "execution_count": null,
   "metadata": {},
   "outputs": [],
   "source": [
    "path_write =\"/Users/a06411/Documents/data_hub/lending_club/lgbm_grid.pkl\""
   ]
  },
  {
   "cell_type": "code",
   "execution_count": null,
   "metadata": {},
   "outputs": [],
   "source": []
  },
  {
   "cell_type": "code",
   "execution_count": null,
   "metadata": {
    "ExecuteTime": {
     "end_time": "2021-06-14T10:42:03.518341Z",
     "start_time": "2021-06-14T10:42:03.445023Z"
    }
   },
   "outputs": [],
   "source": [
    "import joblib\n",
    "joblib.dump(mdl, path_write)"
   ]
  },
  {
   "cell_type": "code",
   "execution_count": null,
   "metadata": {},
   "outputs": [],
   "source": []
  }
 ],
 "metadata": {
  "hide_input": false,
  "kernelspec": {
   "display_name": "Python 3 (ipykernel)",
   "language": "python",
   "name": "python3"
  },
  "language_info": {
   "codemirror_mode": {
    "name": "ipython",
    "version": 3
   },
   "file_extension": ".py",
   "mimetype": "text/x-python",
   "name": "python",
   "nbconvert_exporter": "python",
   "pygments_lexer": "ipython3",
   "version": "3.9.16"
  }
 },
 "nbformat": 4,
 "nbformat_minor": 4
}
