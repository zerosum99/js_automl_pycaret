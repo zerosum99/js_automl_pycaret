{
 "cells": [
  {
   "cell_type": "code",
   "execution_count": 1,
   "id": "1292b3c4",
   "metadata": {
    "ExecuteTime": {
     "end_time": "2021-06-16T04:56:29.074375Z",
     "start_time": "2021-06-16T04:56:28.605629Z"
    },
    "papermill": {
     "duration": 0.85479,
     "end_time": "2021-06-02T04:37:21.781980",
     "exception": false,
     "start_time": "2021-06-02T04:37:20.927190",
     "status": "completed"
    },
    "tags": []
   },
   "outputs": [],
   "source": [
    "import re\n",
    "import os\n",
    "\n",
    "import pandas as pd\n",
    "import numpy as np\n",
    "import matplotlib.pyplot as plt\n",
    "\n",
    "# \"magic\" command to make plots show up in the notebook\n",
    "%matplotlib inline "
   ]
  },
  {
   "cell_type": "code",
   "execution_count": null,
   "id": "037ec8f6-1906-4233-8332-1139c787697c",
   "metadata": {},
   "outputs": [],
   "source": []
  },
  {
   "cell_type": "code",
   "execution_count": 56,
   "id": "9a818ad0-02b8-4f4f-8177-0ee501a651e6",
   "metadata": {},
   "outputs": [],
   "source": [
    "pd.set_option('display.max_columns', 200)\n",
    "pd.options.display.max_rows = 1000\n",
    "# pd.options.display.max_columns = 1000\n",
    "# pd.options.display.max_colwidth = 1000"
   ]
  },
  {
   "cell_type": "code",
   "execution_count": 2,
   "id": "bc3fa095-75f4-4059-a0c0-995fc853987a",
   "metadata": {},
   "outputs": [
    {
     "data": {
      "text/plain": [
       "'/Users/a06411/Documents/GitHub/js_automl_pycaret/lending_club_da/Default Prediction_최종'"
      ]
     },
     "execution_count": 2,
     "metadata": {},
     "output_type": "execute_result"
    }
   ],
   "source": [
    "%pwd"
   ]
  },
  {
   "cell_type": "code",
   "execution_count": 58,
   "id": "1f0c2e1c-f4f4-42b4-8989-986ba60f0140",
   "metadata": {},
   "outputs": [],
   "source": [
    "path_data = \"/Users/a06411/Documents/data_hub/lending_club/lending_club.csv\""
   ]
  },
  {
   "cell_type": "code",
   "execution_count": 59,
   "id": "2441fe35",
   "metadata": {
    "ExecuteTime": {
     "end_time": "2021-06-16T04:57:05.594917Z",
     "start_time": "2021-06-16T04:56:29.237816Z"
    },
    "papermill": {
     "duration": 70.248487,
     "end_time": "2021-06-02T04:38:32.046500",
     "exception": false,
     "start_time": "2021-06-02T04:37:21.798013",
     "status": "completed"
    },
    "tags": []
   },
   "outputs": [
    {
     "name": "stderr",
     "output_type": "stream",
     "text": [
      "/var/folders/h4/44486vyn1_xbs13g1z50l5m00000gn/T/ipykernel_92506/502107637.py:1: DtypeWarning: Columns (0,19,49,59,118,129,130,131,134,135,136,139,145,146,147) have mixed types. Specify dtype option on import or set low_memory=False.\n",
      "  df = pd.read_csv(path_data)\n"
     ]
    }
   ],
   "source": [
    "df = pd.read_csv(path_data)"
   ]
  },
  {
   "cell_type": "code",
   "execution_count": 61,
   "id": "7a101f4f-02ef-4319-af4a-9bfb8fac2a9b",
   "metadata": {},
   "outputs": [
    {
     "data": {
      "text/plain": [
       "Fully Paid                                             1076751\n",
       "Current                                                 878317\n",
       "Charged Off                                             268559\n",
       "Late (31-120 days)                                       21467\n",
       "In Grace Period                                           8436\n",
       "Late (16-30 days)                                         4349\n",
       "Does not meet the credit policy. Status:Fully Paid        1988\n",
       "Does not meet the credit policy. Status:Charged Off        761\n",
       "Default                                                     40\n",
       "Name: loan_status, dtype: int64"
      ]
     },
     "execution_count": 61,
     "metadata": {},
     "output_type": "execute_result"
    }
   ],
   "source": [
    "df['loan_status'].value_counts()"
   ]
  },
  {
   "cell_type": "code",
   "execution_count": null,
   "id": "d33c226c-9031-4864-9b12-90e674d0b694",
   "metadata": {},
   "outputs": [],
   "source": []
  },
  {
   "cell_type": "code",
   "execution_count": 62,
   "id": "0040a13c",
   "metadata": {
    "ExecuteTime": {
     "end_time": "2021-06-16T05:00:33.269369Z",
     "start_time": "2021-06-16T05:00:32.100780Z"
    },
    "papermill": {
     "duration": 2.152291,
     "end_time": "2021-06-02T04:38:34.214785",
     "exception": false,
     "start_time": "2021-06-02T04:38:32.062494",
     "status": "completed"
    },
    "tags": []
   },
   "outputs": [],
   "source": [
    "###Drop Current\n",
    "df = df[df['loan_status'] != 'Current']"
   ]
  },
  {
   "cell_type": "code",
   "execution_count": null,
   "id": "ee37526b-1837-40ae-853e-2d91a5388210",
   "metadata": {},
   "outputs": [],
   "source": []
  },
  {
   "cell_type": "code",
   "execution_count": 63,
   "id": "eb03195c-ba28-4d23-9580-a43b9d235cdc",
   "metadata": {},
   "outputs": [
    {
     "data": {
      "text/plain": [
       "Fully Paid                                             1076751\n",
       "Charged Off                                             268559\n",
       "Late (31-120 days)                                       21467\n",
       "In Grace Period                                           8436\n",
       "Late (16-30 days)                                         4349\n",
       "Does not meet the credit policy. Status:Fully Paid        1988\n",
       "Does not meet the credit policy. Status:Charged Off        761\n",
       "Default                                                     40\n",
       "Name: loan_status, dtype: int64"
      ]
     },
     "execution_count": 63,
     "metadata": {},
     "output_type": "execute_result"
    }
   ],
   "source": [
    "df['loan_status'].value_counts()"
   ]
  },
  {
   "cell_type": "code",
   "execution_count": null,
   "id": "bb9a3ad6-c504-4d90-9db8-177608985d3d",
   "metadata": {},
   "outputs": [],
   "source": []
  },
  {
   "cell_type": "code",
   "execution_count": 64,
   "id": "a4a09afe-c497-4cb2-8c5d-13c69997daeb",
   "metadata": {},
   "outputs": [
    {
     "data": {
      "text/plain": [
       "(1382384, 151)"
      ]
     },
     "execution_count": 64,
     "metadata": {},
     "output_type": "execute_result"
    }
   ],
   "source": [
    "df.shape"
   ]
  },
  {
   "cell_type": "markdown",
   "id": "6342dd81",
   "metadata": {
    "papermill": {
     "duration": 0.015706,
     "end_time": "2021-06-02T04:38:34.246635",
     "exception": false,
     "start_time": "2021-06-02T04:38:34.230929",
     "status": "completed"
    },
    "tags": []
   },
   "source": [
    "## Drop Columns which contains NaN value more than 90% "
   ]
  },
  {
   "cell_type": "code",
   "execution_count": 65,
   "id": "d0761444",
   "metadata": {
    "ExecuteTime": {
     "end_time": "2021-06-16T05:56:34.214541Z",
     "start_time": "2021-06-16T05:56:31.366541Z"
    },
    "papermill": {
     "duration": 4.979953,
     "end_time": "2021-06-02T04:38:39.242709",
     "exception": false,
     "start_time": "2021-06-02T04:38:34.262756",
     "status": "completed"
    },
    "tags": []
   },
   "outputs": [],
   "source": [
    "drop_cols = df.columns[df.isnull().mean() > 0.9]"
   ]
  },
  {
   "cell_type": "code",
   "execution_count": 66,
   "id": "1114ca62-a485-436e-b1f3-3ba344a3afca",
   "metadata": {},
   "outputs": [
    {
     "data": {
      "text/plain": [
       "Index(['member_id', 'desc', 'next_pymnt_d', 'annual_inc_joint', 'dti_joint',\n",
       "       'verification_status_joint', 'revol_bal_joint',\n",
       "       'sec_app_fico_range_low', 'sec_app_fico_range_high',\n",
       "       'sec_app_earliest_cr_line', 'sec_app_inq_last_6mths',\n",
       "       'sec_app_mort_acc', 'sec_app_open_acc', 'sec_app_revol_util',\n",
       "       'sec_app_open_act_il', 'sec_app_num_rev_accts',\n",
       "       'sec_app_chargeoff_within_12_mths',\n",
       "       'sec_app_collections_12_mths_ex_med',\n",
       "       'sec_app_mths_since_last_major_derog', 'hardship_type',\n",
       "       'hardship_reason', 'hardship_status', 'deferral_term',\n",
       "       'hardship_amount', 'hardship_start_date', 'hardship_end_date',\n",
       "       'payment_plan_start_date', 'hardship_length', 'hardship_dpd',\n",
       "       'hardship_loan_status', 'orig_projected_additional_accrued_interest',\n",
       "       'hardship_payoff_balance_amount', 'hardship_last_payment_amount',\n",
       "       'debt_settlement_flag_date', 'settlement_status', 'settlement_date',\n",
       "       'settlement_amount', 'settlement_percentage', 'settlement_term'],\n",
       "      dtype='object')"
      ]
     },
     "execution_count": 66,
     "metadata": {},
     "output_type": "execute_result"
    }
   ],
   "source": [
    "drop_cols"
   ]
  },
  {
   "cell_type": "code",
   "execution_count": null,
   "id": "0203ab94-c37c-4b0b-bfd3-00435b8825de",
   "metadata": {},
   "outputs": [],
   "source": []
  },
  {
   "cell_type": "code",
   "execution_count": 67,
   "id": "77bb3be4-d9f2-4db9-82b9-7a8e54f9643c",
   "metadata": {},
   "outputs": [],
   "source": [
    "df = df.drop(drop_cols,axis=1)"
   ]
  },
  {
   "cell_type": "code",
   "execution_count": 68,
   "id": "13d1329c-e6c8-4c1e-9566-943dc41e58bc",
   "metadata": {},
   "outputs": [
    {
     "data": {
      "text/plain": [
       "(1382384, 112)"
      ]
     },
     "execution_count": 68,
     "metadata": {},
     "output_type": "execute_result"
    }
   ],
   "source": [
    "df.shape"
   ]
  },
  {
   "cell_type": "markdown",
   "id": "483252b9",
   "metadata": {
    "papermill": {
     "duration": 0.01616,
     "end_time": "2021-06-02T04:38:39.275819",
     "exception": false,
     "start_time": "2021-06-02T04:38:39.259659",
     "status": "completed"
    },
    "tags": []
   },
   "source": [
    "## Drop useless columns\n",
    "- Date columns (since no FE in following project), titles , zipcode (encrypted) , policy_code (single unique value)"
   ]
  },
  {
   "cell_type": "code",
   "execution_count": 69,
   "id": "b1b8754d",
   "metadata": {
    "ExecuteTime": {
     "end_time": "2021-06-14T04:12:42.507357Z",
     "start_time": "2021-06-14T04:12:41.908951Z"
    },
    "papermill": {
     "duration": 0.792661,
     "end_time": "2021-06-02T04:38:40.084821",
     "exception": false,
     "start_time": "2021-06-02T04:38:39.292160",
     "status": "completed"
    },
    "tags": []
   },
   "outputs": [
    {
     "name": "stderr",
     "output_type": "stream",
     "text": [
      "/var/folders/h4/44486vyn1_xbs13g1z50l5m00000gn/T/ipykernel_92506/1870192760.py:1: FutureWarning: In a future version of pandas all arguments of DataFrame.drop except for the argument 'labels' will be keyword-only.\n",
      "  df.drop(['last_pymnt_d','last_credit_pull_d','earliest_cr_line'] , 1, inplace = True)\n"
     ]
    }
   ],
   "source": [
    "df.drop(['last_pymnt_d','last_credit_pull_d','earliest_cr_line'] , 1, inplace = True)"
   ]
  },
  {
   "cell_type": "code",
   "execution_count": 70,
   "id": "c977c2d0-5825-4a07-9781-72cf099cad64",
   "metadata": {},
   "outputs": [
    {
     "data": {
      "text/plain": [
       "(1382384, 109)"
      ]
     },
     "execution_count": 70,
     "metadata": {},
     "output_type": "execute_result"
    }
   ],
   "source": [
    "df.shape"
   ]
  },
  {
   "cell_type": "code",
   "execution_count": null,
   "id": "967cacaa-d93a-4cac-acfa-e6b010ff9de6",
   "metadata": {},
   "outputs": [],
   "source": []
  },
  {
   "cell_type": "code",
   "execution_count": 71,
   "id": "05040358",
   "metadata": {
    "ExecuteTime": {
     "end_time": "2021-06-14T04:12:43.079674Z",
     "start_time": "2021-06-14T04:12:42.508606Z"
    },
    "papermill": {
     "duration": 0.802768,
     "end_time": "2021-06-02T04:38:40.904552",
     "exception": false,
     "start_time": "2021-06-02T04:38:40.101784",
     "status": "completed"
    },
    "tags": []
   },
   "outputs": [
    {
     "name": "stderr",
     "output_type": "stream",
     "text": [
      "/var/folders/h4/44486vyn1_xbs13g1z50l5m00000gn/T/ipykernel_92506/1064962860.py:1: FutureWarning: In a future version of pandas all arguments of DataFrame.drop except for the argument 'labels' will be keyword-only.\n",
      "  df.drop(['url','emp_title','title','zip_code','policy_code'] , 1, inplace = True)  ## policy_code 추가(unique값 1개라 의미없)\n"
     ]
    }
   ],
   "source": [
    "df.drop(['url','emp_title','title','zip_code','policy_code'] , 1, inplace = True)  ## policy_code 추가(unique값 1개라 의미없)"
   ]
  },
  {
   "cell_type": "code",
   "execution_count": 72,
   "id": "a980ea86-cfc8-4da6-942b-d7b985066815",
   "metadata": {},
   "outputs": [
    {
     "data": {
      "text/plain": [
       "(1382384, 104)"
      ]
     },
     "execution_count": 72,
     "metadata": {},
     "output_type": "execute_result"
    }
   ],
   "source": [
    "df.shape"
   ]
  },
  {
   "cell_type": "code",
   "execution_count": null,
   "id": "b6ffa8b7-5401-47d2-b18c-fbb8341f8ca3",
   "metadata": {},
   "outputs": [],
   "source": []
  },
  {
   "cell_type": "code",
   "execution_count": 73,
   "id": "9ca83b8c-a71c-4b09-ad62-ef7a8b156cff",
   "metadata": {},
   "outputs": [],
   "source": [
    "obj_col = df.select_dtypes('object').columns.values"
   ]
  },
  {
   "cell_type": "code",
   "execution_count": 74,
   "id": "b83e5fd8-7803-4361-8a9c-e6159052a20d",
   "metadata": {},
   "outputs": [
    {
     "data": {
      "text/plain": [
       "array(['id', 'term', 'grade', 'sub_grade', 'emp_length', 'home_ownership',\n",
       "       'verification_status', 'issue_d', 'loan_status', 'pymnt_plan',\n",
       "       'purpose', 'addr_state', 'initial_list_status', 'application_type',\n",
       "       'hardship_flag', 'disbursement_method', 'debt_settlement_flag'],\n",
       "      dtype=object)"
      ]
     },
     "execution_count": 74,
     "metadata": {},
     "output_type": "execute_result"
    }
   ],
   "source": [
    "obj_col"
   ]
  },
  {
   "cell_type": "code",
   "execution_count": 75,
   "id": "7f542cf1",
   "metadata": {
    "ExecuteTime": {
     "end_time": "2021-06-14T04:12:45.864960Z",
     "start_time": "2021-06-14T04:12:43.080989Z"
    },
    "papermill": {
     "duration": 4.442073,
     "end_time": "2021-06-02T04:38:45.363622",
     "exception": false,
     "start_time": "2021-06-02T04:38:40.921549",
     "status": "completed"
    },
    "tags": []
   },
   "outputs": [
    {
     "data": {
      "text/plain": [
       "id                      1382384\n",
       "issue_d                     139\n",
       "addr_state                   51\n",
       "sub_grade                    35\n",
       "purpose                      14\n",
       "emp_length                   11\n",
       "loan_status                   8\n",
       "grade                         7\n",
       "home_ownership                6\n",
       "verification_status           3\n",
       "term                          2\n",
       "pymnt_plan                    2\n",
       "initial_list_status           2\n",
       "application_type              2\n",
       "hardship_flag                 2\n",
       "disbursement_method           2\n",
       "debt_settlement_flag          2\n",
       "dtype: int64"
      ]
     },
     "execution_count": 75,
     "metadata": {},
     "output_type": "execute_result"
    }
   ],
   "source": [
    "df[obj_col].nunique().sort_values(ascending=False)"
   ]
  },
  {
   "cell_type": "code",
   "execution_count": null,
   "id": "d41f5ac9-5769-40bf-9833-02ec01dc27f9",
   "metadata": {},
   "outputs": [],
   "source": []
  },
  {
   "cell_type": "code",
   "execution_count": null,
   "id": "ca731483-199d-4801-8ec8-9e38ffa8ad99",
   "metadata": {},
   "outputs": [],
   "source": []
  },
  {
   "cell_type": "markdown",
   "id": "0b0ffeba",
   "metadata": {
    "papermill": {
     "duration": 0.017326,
     "end_time": "2021-06-02T04:38:45.397900",
     "exception": false,
     "start_time": "2021-06-02T04:38:45.380574",
     "status": "completed"
    },
    "tags": []
   },
   "source": [
    "## Drop rows fulled with NaN values"
   ]
  },
  {
   "cell_type": "code",
   "execution_count": 76,
   "id": "24cad684",
   "metadata": {
    "_kg_hide-output": true,
    "papermill": {
     "duration": 0.193266,
     "end_time": "2021-06-02T04:38:45.608408",
     "exception": false,
     "start_time": "2021-06-02T04:38:45.415142",
     "status": "completed"
    },
    "tags": []
   },
   "outputs": [
    {
     "data": {
      "text/html": [
       "<div>\n",
       "<style scoped>\n",
       "    .dataframe tbody tr th:only-of-type {\n",
       "        vertical-align: middle;\n",
       "    }\n",
       "\n",
       "    .dataframe tbody tr th {\n",
       "        vertical-align: top;\n",
       "    }\n",
       "\n",
       "    .dataframe thead th {\n",
       "        text-align: right;\n",
       "    }\n",
       "</style>\n",
       "<table border=\"1\" class=\"dataframe\">\n",
       "  <thead>\n",
       "    <tr style=\"text-align: right;\">\n",
       "      <th></th>\n",
       "      <th>id</th>\n",
       "      <th>loan_amnt</th>\n",
       "      <th>funded_amnt</th>\n",
       "      <th>funded_amnt_inv</th>\n",
       "      <th>term</th>\n",
       "      <th>int_rate</th>\n",
       "      <th>installment</th>\n",
       "      <th>grade</th>\n",
       "      <th>sub_grade</th>\n",
       "      <th>emp_length</th>\n",
       "      <th>home_ownership</th>\n",
       "      <th>annual_inc</th>\n",
       "      <th>verification_status</th>\n",
       "      <th>issue_d</th>\n",
       "      <th>loan_status</th>\n",
       "      <th>pymnt_plan</th>\n",
       "      <th>purpose</th>\n",
       "      <th>addr_state</th>\n",
       "      <th>dti</th>\n",
       "      <th>delinq_2yrs</th>\n",
       "      <th>fico_range_low</th>\n",
       "      <th>fico_range_high</th>\n",
       "      <th>inq_last_6mths</th>\n",
       "      <th>mths_since_last_delinq</th>\n",
       "      <th>mths_since_last_record</th>\n",
       "      <th>open_acc</th>\n",
       "      <th>pub_rec</th>\n",
       "      <th>revol_bal</th>\n",
       "      <th>revol_util</th>\n",
       "      <th>total_acc</th>\n",
       "      <th>initial_list_status</th>\n",
       "      <th>out_prncp</th>\n",
       "      <th>out_prncp_inv</th>\n",
       "      <th>total_pymnt</th>\n",
       "      <th>total_pymnt_inv</th>\n",
       "      <th>total_rec_prncp</th>\n",
       "      <th>total_rec_int</th>\n",
       "      <th>total_rec_late_fee</th>\n",
       "      <th>recoveries</th>\n",
       "      <th>collection_recovery_fee</th>\n",
       "      <th>last_pymnt_amnt</th>\n",
       "      <th>last_fico_range_high</th>\n",
       "      <th>last_fico_range_low</th>\n",
       "      <th>collections_12_mths_ex_med</th>\n",
       "      <th>mths_since_last_major_derog</th>\n",
       "      <th>application_type</th>\n",
       "      <th>acc_now_delinq</th>\n",
       "      <th>tot_coll_amt</th>\n",
       "      <th>tot_cur_bal</th>\n",
       "      <th>open_acc_6m</th>\n",
       "      <th>open_act_il</th>\n",
       "      <th>open_il_12m</th>\n",
       "      <th>open_il_24m</th>\n",
       "      <th>mths_since_rcnt_il</th>\n",
       "      <th>total_bal_il</th>\n",
       "      <th>il_util</th>\n",
       "      <th>open_rv_12m</th>\n",
       "      <th>open_rv_24m</th>\n",
       "      <th>max_bal_bc</th>\n",
       "      <th>all_util</th>\n",
       "      <th>total_rev_hi_lim</th>\n",
       "      <th>inq_fi</th>\n",
       "      <th>total_cu_tl</th>\n",
       "      <th>inq_last_12m</th>\n",
       "      <th>acc_open_past_24mths</th>\n",
       "      <th>avg_cur_bal</th>\n",
       "      <th>bc_open_to_buy</th>\n",
       "      <th>bc_util</th>\n",
       "      <th>chargeoff_within_12_mths</th>\n",
       "      <th>delinq_amnt</th>\n",
       "      <th>mo_sin_old_il_acct</th>\n",
       "      <th>mo_sin_old_rev_tl_op</th>\n",
       "      <th>mo_sin_rcnt_rev_tl_op</th>\n",
       "      <th>mo_sin_rcnt_tl</th>\n",
       "      <th>mort_acc</th>\n",
       "      <th>mths_since_recent_bc</th>\n",
       "      <th>mths_since_recent_bc_dlq</th>\n",
       "      <th>mths_since_recent_inq</th>\n",
       "      <th>mths_since_recent_revol_delinq</th>\n",
       "      <th>num_accts_ever_120_pd</th>\n",
       "      <th>num_actv_bc_tl</th>\n",
       "      <th>num_actv_rev_tl</th>\n",
       "      <th>num_bc_sats</th>\n",
       "      <th>num_bc_tl</th>\n",
       "      <th>num_il_tl</th>\n",
       "      <th>num_op_rev_tl</th>\n",
       "      <th>num_rev_accts</th>\n",
       "      <th>num_rev_tl_bal_gt_0</th>\n",
       "      <th>num_sats</th>\n",
       "      <th>num_tl_120dpd_2m</th>\n",
       "      <th>num_tl_30dpd</th>\n",
       "      <th>num_tl_90g_dpd_24m</th>\n",
       "      <th>num_tl_op_past_12m</th>\n",
       "      <th>pct_tl_nvr_dlq</th>\n",
       "      <th>percent_bc_gt_75</th>\n",
       "      <th>pub_rec_bankruptcies</th>\n",
       "      <th>tax_liens</th>\n",
       "      <th>tot_hi_cred_lim</th>\n",
       "      <th>total_bal_ex_mort</th>\n",
       "      <th>total_bc_limit</th>\n",
       "      <th>total_il_high_credit_limit</th>\n",
       "      <th>hardship_flag</th>\n",
       "      <th>disbursement_method</th>\n",
       "      <th>debt_settlement_flag</th>\n",
       "    </tr>\n",
       "  </thead>\n",
       "  <tbody>\n",
       "    <tr>\n",
       "      <th>421095</th>\n",
       "      <td>Total amount funded in policy code 1: 6417608175</td>\n",
       "      <td>NaN</td>\n",
       "      <td>NaN</td>\n",
       "      <td>NaN</td>\n",
       "      <td>NaN</td>\n",
       "      <td>NaN</td>\n",
       "      <td>NaN</td>\n",
       "      <td>NaN</td>\n",
       "      <td>NaN</td>\n",
       "      <td>NaN</td>\n",
       "      <td>NaN</td>\n",
       "      <td>NaN</td>\n",
       "      <td>NaN</td>\n",
       "      <td>NaN</td>\n",
       "      <td>NaN</td>\n",
       "      <td>NaN</td>\n",
       "      <td>NaN</td>\n",
       "      <td>NaN</td>\n",
       "      <td>NaN</td>\n",
       "      <td>NaN</td>\n",
       "      <td>NaN</td>\n",
       "      <td>NaN</td>\n",
       "      <td>NaN</td>\n",
       "      <td>NaN</td>\n",
       "      <td>NaN</td>\n",
       "      <td>NaN</td>\n",
       "      <td>NaN</td>\n",
       "      <td>NaN</td>\n",
       "      <td>NaN</td>\n",
       "      <td>NaN</td>\n",
       "      <td>NaN</td>\n",
       "      <td>NaN</td>\n",
       "      <td>NaN</td>\n",
       "      <td>NaN</td>\n",
       "      <td>NaN</td>\n",
       "      <td>NaN</td>\n",
       "      <td>NaN</td>\n",
       "      <td>NaN</td>\n",
       "      <td>NaN</td>\n",
       "      <td>NaN</td>\n",
       "      <td>NaN</td>\n",
       "      <td>NaN</td>\n",
       "      <td>NaN</td>\n",
       "      <td>NaN</td>\n",
       "      <td>NaN</td>\n",
       "      <td>NaN</td>\n",
       "      <td>NaN</td>\n",
       "      <td>NaN</td>\n",
       "      <td>NaN</td>\n",
       "      <td>NaN</td>\n",
       "      <td>NaN</td>\n",
       "      <td>NaN</td>\n",
       "      <td>NaN</td>\n",
       "      <td>NaN</td>\n",
       "      <td>NaN</td>\n",
       "      <td>NaN</td>\n",
       "      <td>NaN</td>\n",
       "      <td>NaN</td>\n",
       "      <td>NaN</td>\n",
       "      <td>NaN</td>\n",
       "      <td>NaN</td>\n",
       "      <td>NaN</td>\n",
       "      <td>NaN</td>\n",
       "      <td>NaN</td>\n",
       "      <td>NaN</td>\n",
       "      <td>NaN</td>\n",
       "      <td>NaN</td>\n",
       "      <td>NaN</td>\n",
       "      <td>NaN</td>\n",
       "      <td>NaN</td>\n",
       "      <td>NaN</td>\n",
       "      <td>NaN</td>\n",
       "      <td>NaN</td>\n",
       "      <td>NaN</td>\n",
       "      <td>NaN</td>\n",
       "      <td>NaN</td>\n",
       "      <td>NaN</td>\n",
       "      <td>NaN</td>\n",
       "      <td>NaN</td>\n",
       "      <td>NaN</td>\n",
       "      <td>NaN</td>\n",
       "      <td>NaN</td>\n",
       "      <td>NaN</td>\n",
       "      <td>NaN</td>\n",
       "      <td>NaN</td>\n",
       "      <td>NaN</td>\n",
       "      <td>NaN</td>\n",
       "      <td>NaN</td>\n",
       "      <td>NaN</td>\n",
       "      <td>NaN</td>\n",
       "      <td>NaN</td>\n",
       "      <td>NaN</td>\n",
       "      <td>NaN</td>\n",
       "      <td>NaN</td>\n",
       "      <td>NaN</td>\n",
       "      <td>NaN</td>\n",
       "      <td>NaN</td>\n",
       "      <td>NaN</td>\n",
       "      <td>NaN</td>\n",
       "      <td>NaN</td>\n",
       "      <td>NaN</td>\n",
       "      <td>NaN</td>\n",
       "      <td>NaN</td>\n",
       "      <td>NaN</td>\n",
       "    </tr>\n",
       "    <tr>\n",
       "      <th>421096</th>\n",
       "      <td>Total amount funded in policy code 2: 1944088810</td>\n",
       "      <td>NaN</td>\n",
       "      <td>NaN</td>\n",
       "      <td>NaN</td>\n",
       "      <td>NaN</td>\n",
       "      <td>NaN</td>\n",
       "      <td>NaN</td>\n",
       "      <td>NaN</td>\n",
       "      <td>NaN</td>\n",
       "      <td>NaN</td>\n",
       "      <td>NaN</td>\n",
       "      <td>NaN</td>\n",
       "      <td>NaN</td>\n",
       "      <td>NaN</td>\n",
       "      <td>NaN</td>\n",
       "      <td>NaN</td>\n",
       "      <td>NaN</td>\n",
       "      <td>NaN</td>\n",
       "      <td>NaN</td>\n",
       "      <td>NaN</td>\n",
       "      <td>NaN</td>\n",
       "      <td>NaN</td>\n",
       "      <td>NaN</td>\n",
       "      <td>NaN</td>\n",
       "      <td>NaN</td>\n",
       "      <td>NaN</td>\n",
       "      <td>NaN</td>\n",
       "      <td>NaN</td>\n",
       "      <td>NaN</td>\n",
       "      <td>NaN</td>\n",
       "      <td>NaN</td>\n",
       "      <td>NaN</td>\n",
       "      <td>NaN</td>\n",
       "      <td>NaN</td>\n",
       "      <td>NaN</td>\n",
       "      <td>NaN</td>\n",
       "      <td>NaN</td>\n",
       "      <td>NaN</td>\n",
       "      <td>NaN</td>\n",
       "      <td>NaN</td>\n",
       "      <td>NaN</td>\n",
       "      <td>NaN</td>\n",
       "      <td>NaN</td>\n",
       "      <td>NaN</td>\n",
       "      <td>NaN</td>\n",
       "      <td>NaN</td>\n",
       "      <td>NaN</td>\n",
       "      <td>NaN</td>\n",
       "      <td>NaN</td>\n",
       "      <td>NaN</td>\n",
       "      <td>NaN</td>\n",
       "      <td>NaN</td>\n",
       "      <td>NaN</td>\n",
       "      <td>NaN</td>\n",
       "      <td>NaN</td>\n",
       "      <td>NaN</td>\n",
       "      <td>NaN</td>\n",
       "      <td>NaN</td>\n",
       "      <td>NaN</td>\n",
       "      <td>NaN</td>\n",
       "      <td>NaN</td>\n",
       "      <td>NaN</td>\n",
       "      <td>NaN</td>\n",
       "      <td>NaN</td>\n",
       "      <td>NaN</td>\n",
       "      <td>NaN</td>\n",
       "      <td>NaN</td>\n",
       "      <td>NaN</td>\n",
       "      <td>NaN</td>\n",
       "      <td>NaN</td>\n",
       "      <td>NaN</td>\n",
       "      <td>NaN</td>\n",
       "      <td>NaN</td>\n",
       "      <td>NaN</td>\n",
       "      <td>NaN</td>\n",
       "      <td>NaN</td>\n",
       "      <td>NaN</td>\n",
       "      <td>NaN</td>\n",
       "      <td>NaN</td>\n",
       "      <td>NaN</td>\n",
       "      <td>NaN</td>\n",
       "      <td>NaN</td>\n",
       "      <td>NaN</td>\n",
       "      <td>NaN</td>\n",
       "      <td>NaN</td>\n",
       "      <td>NaN</td>\n",
       "      <td>NaN</td>\n",
       "      <td>NaN</td>\n",
       "      <td>NaN</td>\n",
       "      <td>NaN</td>\n",
       "      <td>NaN</td>\n",
       "      <td>NaN</td>\n",
       "      <td>NaN</td>\n",
       "      <td>NaN</td>\n",
       "      <td>NaN</td>\n",
       "      <td>NaN</td>\n",
       "      <td>NaN</td>\n",
       "      <td>NaN</td>\n",
       "      <td>NaN</td>\n",
       "      <td>NaN</td>\n",
       "      <td>NaN</td>\n",
       "      <td>NaN</td>\n",
       "      <td>NaN</td>\n",
       "      <td>NaN</td>\n",
       "    </tr>\n",
       "    <tr>\n",
       "      <th>528961</th>\n",
       "      <td>Total amount funded in policy code 1: 1741781700</td>\n",
       "      <td>NaN</td>\n",
       "      <td>NaN</td>\n",
       "      <td>NaN</td>\n",
       "      <td>NaN</td>\n",
       "      <td>NaN</td>\n",
       "      <td>NaN</td>\n",
       "      <td>NaN</td>\n",
       "      <td>NaN</td>\n",
       "      <td>NaN</td>\n",
       "      <td>NaN</td>\n",
       "      <td>NaN</td>\n",
       "      <td>NaN</td>\n",
       "      <td>NaN</td>\n",
       "      <td>NaN</td>\n",
       "      <td>NaN</td>\n",
       "      <td>NaN</td>\n",
       "      <td>NaN</td>\n",
       "      <td>NaN</td>\n",
       "      <td>NaN</td>\n",
       "      <td>NaN</td>\n",
       "      <td>NaN</td>\n",
       "      <td>NaN</td>\n",
       "      <td>NaN</td>\n",
       "      <td>NaN</td>\n",
       "      <td>NaN</td>\n",
       "      <td>NaN</td>\n",
       "      <td>NaN</td>\n",
       "      <td>NaN</td>\n",
       "      <td>NaN</td>\n",
       "      <td>NaN</td>\n",
       "      <td>NaN</td>\n",
       "      <td>NaN</td>\n",
       "      <td>NaN</td>\n",
       "      <td>NaN</td>\n",
       "      <td>NaN</td>\n",
       "      <td>NaN</td>\n",
       "      <td>NaN</td>\n",
       "      <td>NaN</td>\n",
       "      <td>NaN</td>\n",
       "      <td>NaN</td>\n",
       "      <td>NaN</td>\n",
       "      <td>NaN</td>\n",
       "      <td>NaN</td>\n",
       "      <td>NaN</td>\n",
       "      <td>NaN</td>\n",
       "      <td>NaN</td>\n",
       "      <td>NaN</td>\n",
       "      <td>NaN</td>\n",
       "      <td>NaN</td>\n",
       "      <td>NaN</td>\n",
       "      <td>NaN</td>\n",
       "      <td>NaN</td>\n",
       "      <td>NaN</td>\n",
       "      <td>NaN</td>\n",
       "      <td>NaN</td>\n",
       "      <td>NaN</td>\n",
       "      <td>NaN</td>\n",
       "      <td>NaN</td>\n",
       "      <td>NaN</td>\n",
       "      <td>NaN</td>\n",
       "      <td>NaN</td>\n",
       "      <td>NaN</td>\n",
       "      <td>NaN</td>\n",
       "      <td>NaN</td>\n",
       "      <td>NaN</td>\n",
       "      <td>NaN</td>\n",
       "      <td>NaN</td>\n",
       "      <td>NaN</td>\n",
       "      <td>NaN</td>\n",
       "      <td>NaN</td>\n",
       "      <td>NaN</td>\n",
       "      <td>NaN</td>\n",
       "      <td>NaN</td>\n",
       "      <td>NaN</td>\n",
       "      <td>NaN</td>\n",
       "      <td>NaN</td>\n",
       "      <td>NaN</td>\n",
       "      <td>NaN</td>\n",
       "      <td>NaN</td>\n",
       "      <td>NaN</td>\n",
       "      <td>NaN</td>\n",
       "      <td>NaN</td>\n",
       "      <td>NaN</td>\n",
       "      <td>NaN</td>\n",
       "      <td>NaN</td>\n",
       "      <td>NaN</td>\n",
       "      <td>NaN</td>\n",
       "      <td>NaN</td>\n",
       "      <td>NaN</td>\n",
       "      <td>NaN</td>\n",
       "      <td>NaN</td>\n",
       "      <td>NaN</td>\n",
       "      <td>NaN</td>\n",
       "      <td>NaN</td>\n",
       "      <td>NaN</td>\n",
       "      <td>NaN</td>\n",
       "      <td>NaN</td>\n",
       "      <td>NaN</td>\n",
       "      <td>NaN</td>\n",
       "      <td>NaN</td>\n",
       "      <td>NaN</td>\n",
       "      <td>NaN</td>\n",
       "      <td>NaN</td>\n",
       "    </tr>\n",
       "    <tr>\n",
       "      <th>528962</th>\n",
       "      <td>Total amount funded in policy code 2: 564202131</td>\n",
       "      <td>NaN</td>\n",
       "      <td>NaN</td>\n",
       "      <td>NaN</td>\n",
       "      <td>NaN</td>\n",
       "      <td>NaN</td>\n",
       "      <td>NaN</td>\n",
       "      <td>NaN</td>\n",
       "      <td>NaN</td>\n",
       "      <td>NaN</td>\n",
       "      <td>NaN</td>\n",
       "      <td>NaN</td>\n",
       "      <td>NaN</td>\n",
       "      <td>NaN</td>\n",
       "      <td>NaN</td>\n",
       "      <td>NaN</td>\n",
       "      <td>NaN</td>\n",
       "      <td>NaN</td>\n",
       "      <td>NaN</td>\n",
       "      <td>NaN</td>\n",
       "      <td>NaN</td>\n",
       "      <td>NaN</td>\n",
       "      <td>NaN</td>\n",
       "      <td>NaN</td>\n",
       "      <td>NaN</td>\n",
       "      <td>NaN</td>\n",
       "      <td>NaN</td>\n",
       "      <td>NaN</td>\n",
       "      <td>NaN</td>\n",
       "      <td>NaN</td>\n",
       "      <td>NaN</td>\n",
       "      <td>NaN</td>\n",
       "      <td>NaN</td>\n",
       "      <td>NaN</td>\n",
       "      <td>NaN</td>\n",
       "      <td>NaN</td>\n",
       "      <td>NaN</td>\n",
       "      <td>NaN</td>\n",
       "      <td>NaN</td>\n",
       "      <td>NaN</td>\n",
       "      <td>NaN</td>\n",
       "      <td>NaN</td>\n",
       "      <td>NaN</td>\n",
       "      <td>NaN</td>\n",
       "      <td>NaN</td>\n",
       "      <td>NaN</td>\n",
       "      <td>NaN</td>\n",
       "      <td>NaN</td>\n",
       "      <td>NaN</td>\n",
       "      <td>NaN</td>\n",
       "      <td>NaN</td>\n",
       "      <td>NaN</td>\n",
       "      <td>NaN</td>\n",
       "      <td>NaN</td>\n",
       "      <td>NaN</td>\n",
       "      <td>NaN</td>\n",
       "      <td>NaN</td>\n",
       "      <td>NaN</td>\n",
       "      <td>NaN</td>\n",
       "      <td>NaN</td>\n",
       "      <td>NaN</td>\n",
       "      <td>NaN</td>\n",
       "      <td>NaN</td>\n",
       "      <td>NaN</td>\n",
       "      <td>NaN</td>\n",
       "      <td>NaN</td>\n",
       "      <td>NaN</td>\n",
       "      <td>NaN</td>\n",
       "      <td>NaN</td>\n",
       "      <td>NaN</td>\n",
       "      <td>NaN</td>\n",
       "      <td>NaN</td>\n",
       "      <td>NaN</td>\n",
       "      <td>NaN</td>\n",
       "      <td>NaN</td>\n",
       "      <td>NaN</td>\n",
       "      <td>NaN</td>\n",
       "      <td>NaN</td>\n",
       "      <td>NaN</td>\n",
       "      <td>NaN</td>\n",
       "      <td>NaN</td>\n",
       "      <td>NaN</td>\n",
       "      <td>NaN</td>\n",
       "      <td>NaN</td>\n",
       "      <td>NaN</td>\n",
       "      <td>NaN</td>\n",
       "      <td>NaN</td>\n",
       "      <td>NaN</td>\n",
       "      <td>NaN</td>\n",
       "      <td>NaN</td>\n",
       "      <td>NaN</td>\n",
       "      <td>NaN</td>\n",
       "      <td>NaN</td>\n",
       "      <td>NaN</td>\n",
       "      <td>NaN</td>\n",
       "      <td>NaN</td>\n",
       "      <td>NaN</td>\n",
       "      <td>NaN</td>\n",
       "      <td>NaN</td>\n",
       "      <td>NaN</td>\n",
       "      <td>NaN</td>\n",
       "      <td>NaN</td>\n",
       "      <td>NaN</td>\n",
       "      <td>NaN</td>\n",
       "    </tr>\n",
       "    <tr>\n",
       "      <th>651664</th>\n",
       "      <td>Total amount funded in policy code 1: 1791201400</td>\n",
       "      <td>NaN</td>\n",
       "      <td>NaN</td>\n",
       "      <td>NaN</td>\n",
       "      <td>NaN</td>\n",
       "      <td>NaN</td>\n",
       "      <td>NaN</td>\n",
       "      <td>NaN</td>\n",
       "      <td>NaN</td>\n",
       "      <td>NaN</td>\n",
       "      <td>NaN</td>\n",
       "      <td>NaN</td>\n",
       "      <td>NaN</td>\n",
       "      <td>NaN</td>\n",
       "      <td>NaN</td>\n",
       "      <td>NaN</td>\n",
       "      <td>NaN</td>\n",
       "      <td>NaN</td>\n",
       "      <td>NaN</td>\n",
       "      <td>NaN</td>\n",
       "      <td>NaN</td>\n",
       "      <td>NaN</td>\n",
       "      <td>NaN</td>\n",
       "      <td>NaN</td>\n",
       "      <td>NaN</td>\n",
       "      <td>NaN</td>\n",
       "      <td>NaN</td>\n",
       "      <td>NaN</td>\n",
       "      <td>NaN</td>\n",
       "      <td>NaN</td>\n",
       "      <td>NaN</td>\n",
       "      <td>NaN</td>\n",
       "      <td>NaN</td>\n",
       "      <td>NaN</td>\n",
       "      <td>NaN</td>\n",
       "      <td>NaN</td>\n",
       "      <td>NaN</td>\n",
       "      <td>NaN</td>\n",
       "      <td>NaN</td>\n",
       "      <td>NaN</td>\n",
       "      <td>NaN</td>\n",
       "      <td>NaN</td>\n",
       "      <td>NaN</td>\n",
       "      <td>NaN</td>\n",
       "      <td>NaN</td>\n",
       "      <td>NaN</td>\n",
       "      <td>NaN</td>\n",
       "      <td>NaN</td>\n",
       "      <td>NaN</td>\n",
       "      <td>NaN</td>\n",
       "      <td>NaN</td>\n",
       "      <td>NaN</td>\n",
       "      <td>NaN</td>\n",
       "      <td>NaN</td>\n",
       "      <td>NaN</td>\n",
       "      <td>NaN</td>\n",
       "      <td>NaN</td>\n",
       "      <td>NaN</td>\n",
       "      <td>NaN</td>\n",
       "      <td>NaN</td>\n",
       "      <td>NaN</td>\n",
       "      <td>NaN</td>\n",
       "      <td>NaN</td>\n",
       "      <td>NaN</td>\n",
       "      <td>NaN</td>\n",
       "      <td>NaN</td>\n",
       "      <td>NaN</td>\n",
       "      <td>NaN</td>\n",
       "      <td>NaN</td>\n",
       "      <td>NaN</td>\n",
       "      <td>NaN</td>\n",
       "      <td>NaN</td>\n",
       "      <td>NaN</td>\n",
       "      <td>NaN</td>\n",
       "      <td>NaN</td>\n",
       "      <td>NaN</td>\n",
       "      <td>NaN</td>\n",
       "      <td>NaN</td>\n",
       "      <td>NaN</td>\n",
       "      <td>NaN</td>\n",
       "      <td>NaN</td>\n",
       "      <td>NaN</td>\n",
       "      <td>NaN</td>\n",
       "      <td>NaN</td>\n",
       "      <td>NaN</td>\n",
       "      <td>NaN</td>\n",
       "      <td>NaN</td>\n",
       "      <td>NaN</td>\n",
       "      <td>NaN</td>\n",
       "      <td>NaN</td>\n",
       "      <td>NaN</td>\n",
       "      <td>NaN</td>\n",
       "      <td>NaN</td>\n",
       "      <td>NaN</td>\n",
       "      <td>NaN</td>\n",
       "      <td>NaN</td>\n",
       "      <td>NaN</td>\n",
       "      <td>NaN</td>\n",
       "      <td>NaN</td>\n",
       "      <td>NaN</td>\n",
       "      <td>NaN</td>\n",
       "      <td>NaN</td>\n",
       "      <td>NaN</td>\n",
       "      <td>NaN</td>\n",
       "    </tr>\n",
       "  </tbody>\n",
       "</table>\n",
       "</div>"
      ],
      "text/plain": [
       "                                                      id  loan_amnt  \\\n",
       "421095  Total amount funded in policy code 1: 6417608175        NaN   \n",
       "421096  Total amount funded in policy code 2: 1944088810        NaN   \n",
       "528961  Total amount funded in policy code 1: 1741781700        NaN   \n",
       "528962   Total amount funded in policy code 2: 564202131        NaN   \n",
       "651664  Total amount funded in policy code 1: 1791201400        NaN   \n",
       "\n",
       "        funded_amnt  funded_amnt_inv term  int_rate  installment grade  \\\n",
       "421095          NaN              NaN  NaN       NaN          NaN   NaN   \n",
       "421096          NaN              NaN  NaN       NaN          NaN   NaN   \n",
       "528961          NaN              NaN  NaN       NaN          NaN   NaN   \n",
       "528962          NaN              NaN  NaN       NaN          NaN   NaN   \n",
       "651664          NaN              NaN  NaN       NaN          NaN   NaN   \n",
       "\n",
       "       sub_grade emp_length home_ownership  annual_inc verification_status  \\\n",
       "421095       NaN        NaN            NaN         NaN                 NaN   \n",
       "421096       NaN        NaN            NaN         NaN                 NaN   \n",
       "528961       NaN        NaN            NaN         NaN                 NaN   \n",
       "528962       NaN        NaN            NaN         NaN                 NaN   \n",
       "651664       NaN        NaN            NaN         NaN                 NaN   \n",
       "\n",
       "       issue_d loan_status pymnt_plan purpose addr_state  dti  delinq_2yrs  \\\n",
       "421095     NaN         NaN        NaN     NaN        NaN  NaN          NaN   \n",
       "421096     NaN         NaN        NaN     NaN        NaN  NaN          NaN   \n",
       "528961     NaN         NaN        NaN     NaN        NaN  NaN          NaN   \n",
       "528962     NaN         NaN        NaN     NaN        NaN  NaN          NaN   \n",
       "651664     NaN         NaN        NaN     NaN        NaN  NaN          NaN   \n",
       "\n",
       "        fico_range_low  fico_range_high  inq_last_6mths  \\\n",
       "421095             NaN              NaN             NaN   \n",
       "421096             NaN              NaN             NaN   \n",
       "528961             NaN              NaN             NaN   \n",
       "528962             NaN              NaN             NaN   \n",
       "651664             NaN              NaN             NaN   \n",
       "\n",
       "        mths_since_last_delinq  mths_since_last_record  open_acc  pub_rec  \\\n",
       "421095                     NaN                     NaN       NaN      NaN   \n",
       "421096                     NaN                     NaN       NaN      NaN   \n",
       "528961                     NaN                     NaN       NaN      NaN   \n",
       "528962                     NaN                     NaN       NaN      NaN   \n",
       "651664                     NaN                     NaN       NaN      NaN   \n",
       "\n",
       "        revol_bal  revol_util  total_acc initial_list_status  out_prncp  \\\n",
       "421095        NaN         NaN        NaN                 NaN        NaN   \n",
       "421096        NaN         NaN        NaN                 NaN        NaN   \n",
       "528961        NaN         NaN        NaN                 NaN        NaN   \n",
       "528962        NaN         NaN        NaN                 NaN        NaN   \n",
       "651664        NaN         NaN        NaN                 NaN        NaN   \n",
       "\n",
       "        out_prncp_inv  total_pymnt  total_pymnt_inv  total_rec_prncp  \\\n",
       "421095            NaN          NaN              NaN              NaN   \n",
       "421096            NaN          NaN              NaN              NaN   \n",
       "528961            NaN          NaN              NaN              NaN   \n",
       "528962            NaN          NaN              NaN              NaN   \n",
       "651664            NaN          NaN              NaN              NaN   \n",
       "\n",
       "        total_rec_int  total_rec_late_fee  recoveries  \\\n",
       "421095            NaN                 NaN         NaN   \n",
       "421096            NaN                 NaN         NaN   \n",
       "528961            NaN                 NaN         NaN   \n",
       "528962            NaN                 NaN         NaN   \n",
       "651664            NaN                 NaN         NaN   \n",
       "\n",
       "        collection_recovery_fee  last_pymnt_amnt  last_fico_range_high  \\\n",
       "421095                      NaN              NaN                   NaN   \n",
       "421096                      NaN              NaN                   NaN   \n",
       "528961                      NaN              NaN                   NaN   \n",
       "528962                      NaN              NaN                   NaN   \n",
       "651664                      NaN              NaN                   NaN   \n",
       "\n",
       "        last_fico_range_low  collections_12_mths_ex_med  \\\n",
       "421095                  NaN                         NaN   \n",
       "421096                  NaN                         NaN   \n",
       "528961                  NaN                         NaN   \n",
       "528962                  NaN                         NaN   \n",
       "651664                  NaN                         NaN   \n",
       "\n",
       "        mths_since_last_major_derog application_type  acc_now_delinq  \\\n",
       "421095                          NaN              NaN             NaN   \n",
       "421096                          NaN              NaN             NaN   \n",
       "528961                          NaN              NaN             NaN   \n",
       "528962                          NaN              NaN             NaN   \n",
       "651664                          NaN              NaN             NaN   \n",
       "\n",
       "        tot_coll_amt  tot_cur_bal  open_acc_6m  open_act_il  open_il_12m  \\\n",
       "421095           NaN          NaN          NaN          NaN          NaN   \n",
       "421096           NaN          NaN          NaN          NaN          NaN   \n",
       "528961           NaN          NaN          NaN          NaN          NaN   \n",
       "528962           NaN          NaN          NaN          NaN          NaN   \n",
       "651664           NaN          NaN          NaN          NaN          NaN   \n",
       "\n",
       "        open_il_24m  mths_since_rcnt_il  total_bal_il  il_util  open_rv_12m  \\\n",
       "421095          NaN                 NaN           NaN      NaN          NaN   \n",
       "421096          NaN                 NaN           NaN      NaN          NaN   \n",
       "528961          NaN                 NaN           NaN      NaN          NaN   \n",
       "528962          NaN                 NaN           NaN      NaN          NaN   \n",
       "651664          NaN                 NaN           NaN      NaN          NaN   \n",
       "\n",
       "        open_rv_24m  max_bal_bc  all_util  total_rev_hi_lim  inq_fi  \\\n",
       "421095          NaN         NaN       NaN               NaN     NaN   \n",
       "421096          NaN         NaN       NaN               NaN     NaN   \n",
       "528961          NaN         NaN       NaN               NaN     NaN   \n",
       "528962          NaN         NaN       NaN               NaN     NaN   \n",
       "651664          NaN         NaN       NaN               NaN     NaN   \n",
       "\n",
       "        total_cu_tl  inq_last_12m  acc_open_past_24mths  avg_cur_bal  \\\n",
       "421095          NaN           NaN                   NaN          NaN   \n",
       "421096          NaN           NaN                   NaN          NaN   \n",
       "528961          NaN           NaN                   NaN          NaN   \n",
       "528962          NaN           NaN                   NaN          NaN   \n",
       "651664          NaN           NaN                   NaN          NaN   \n",
       "\n",
       "        bc_open_to_buy  bc_util  chargeoff_within_12_mths  delinq_amnt  \\\n",
       "421095             NaN      NaN                       NaN          NaN   \n",
       "421096             NaN      NaN                       NaN          NaN   \n",
       "528961             NaN      NaN                       NaN          NaN   \n",
       "528962             NaN      NaN                       NaN          NaN   \n",
       "651664             NaN      NaN                       NaN          NaN   \n",
       "\n",
       "        mo_sin_old_il_acct  mo_sin_old_rev_tl_op  mo_sin_rcnt_rev_tl_op  \\\n",
       "421095                 NaN                   NaN                    NaN   \n",
       "421096                 NaN                   NaN                    NaN   \n",
       "528961                 NaN                   NaN                    NaN   \n",
       "528962                 NaN                   NaN                    NaN   \n",
       "651664                 NaN                   NaN                    NaN   \n",
       "\n",
       "        mo_sin_rcnt_tl  mort_acc  mths_since_recent_bc  \\\n",
       "421095             NaN       NaN                   NaN   \n",
       "421096             NaN       NaN                   NaN   \n",
       "528961             NaN       NaN                   NaN   \n",
       "528962             NaN       NaN                   NaN   \n",
       "651664             NaN       NaN                   NaN   \n",
       "\n",
       "        mths_since_recent_bc_dlq  mths_since_recent_inq  \\\n",
       "421095                       NaN                    NaN   \n",
       "421096                       NaN                    NaN   \n",
       "528961                       NaN                    NaN   \n",
       "528962                       NaN                    NaN   \n",
       "651664                       NaN                    NaN   \n",
       "\n",
       "        mths_since_recent_revol_delinq  num_accts_ever_120_pd  num_actv_bc_tl  \\\n",
       "421095                             NaN                    NaN             NaN   \n",
       "421096                             NaN                    NaN             NaN   \n",
       "528961                             NaN                    NaN             NaN   \n",
       "528962                             NaN                    NaN             NaN   \n",
       "651664                             NaN                    NaN             NaN   \n",
       "\n",
       "        num_actv_rev_tl  num_bc_sats  num_bc_tl  num_il_tl  num_op_rev_tl  \\\n",
       "421095              NaN          NaN        NaN        NaN            NaN   \n",
       "421096              NaN          NaN        NaN        NaN            NaN   \n",
       "528961              NaN          NaN        NaN        NaN            NaN   \n",
       "528962              NaN          NaN        NaN        NaN            NaN   \n",
       "651664              NaN          NaN        NaN        NaN            NaN   \n",
       "\n",
       "        num_rev_accts  num_rev_tl_bal_gt_0  num_sats  num_tl_120dpd_2m  \\\n",
       "421095            NaN                  NaN       NaN               NaN   \n",
       "421096            NaN                  NaN       NaN               NaN   \n",
       "528961            NaN                  NaN       NaN               NaN   \n",
       "528962            NaN                  NaN       NaN               NaN   \n",
       "651664            NaN                  NaN       NaN               NaN   \n",
       "\n",
       "        num_tl_30dpd  num_tl_90g_dpd_24m  num_tl_op_past_12m  pct_tl_nvr_dlq  \\\n",
       "421095           NaN                 NaN                 NaN             NaN   \n",
       "421096           NaN                 NaN                 NaN             NaN   \n",
       "528961           NaN                 NaN                 NaN             NaN   \n",
       "528962           NaN                 NaN                 NaN             NaN   \n",
       "651664           NaN                 NaN                 NaN             NaN   \n",
       "\n",
       "        percent_bc_gt_75  pub_rec_bankruptcies  tax_liens  tot_hi_cred_lim  \\\n",
       "421095               NaN                   NaN        NaN              NaN   \n",
       "421096               NaN                   NaN        NaN              NaN   \n",
       "528961               NaN                   NaN        NaN              NaN   \n",
       "528962               NaN                   NaN        NaN              NaN   \n",
       "651664               NaN                   NaN        NaN              NaN   \n",
       "\n",
       "        total_bal_ex_mort  total_bc_limit  total_il_high_credit_limit  \\\n",
       "421095                NaN             NaN                         NaN   \n",
       "421096                NaN             NaN                         NaN   \n",
       "528961                NaN             NaN                         NaN   \n",
       "528962                NaN             NaN                         NaN   \n",
       "651664                NaN             NaN                         NaN   \n",
       "\n",
       "       hardship_flag disbursement_method debt_settlement_flag  \n",
       "421095           NaN                 NaN                  NaN  \n",
       "421096           NaN                 NaN                  NaN  \n",
       "528961           NaN                 NaN                  NaN  \n",
       "528962           NaN                 NaN                  NaN  \n",
       "651664           NaN                 NaN                  NaN  "
      ]
     },
     "execution_count": 76,
     "metadata": {},
     "output_type": "execute_result"
    }
   ],
   "source": [
    "df[df['grade'].isna()].head()"
   ]
  },
  {
   "cell_type": "code",
   "execution_count": 77,
   "id": "8920ba59",
   "metadata": {
    "ExecuteTime": {
     "end_time": "2021-06-14T04:12:54.318039Z",
     "start_time": "2021-06-14T04:12:53.697102Z"
    },
    "papermill": {
     "duration": 0.944334,
     "end_time": "2021-06-02T04:38:46.571702",
     "exception": false,
     "start_time": "2021-06-02T04:38:45.627368",
     "status": "completed"
    },
    "tags": []
   },
   "outputs": [],
   "source": [
    "df = df[df['grade'].notna()]"
   ]
  },
  {
   "cell_type": "code",
   "execution_count": 78,
   "id": "b2671fce-a419-4690-889b-920268436a48",
   "metadata": {},
   "outputs": [
    {
     "data": {
      "text/plain": [
       "(1382351, 104)"
      ]
     },
     "execution_count": 78,
     "metadata": {},
     "output_type": "execute_result"
    }
   ],
   "source": [
    "df.shape"
   ]
  },
  {
   "cell_type": "code",
   "execution_count": null,
   "id": "9c5bcea6-75b0-4cbc-917c-78f1caaceb72",
   "metadata": {},
   "outputs": [],
   "source": []
  },
  {
   "cell_type": "markdown",
   "id": "4313d1f0",
   "metadata": {
    "papermill": {
     "duration": 0.018996,
     "end_time": "2021-06-02T04:38:46.609840",
     "exception": false,
     "start_time": "2021-06-02T04:38:46.590844",
     "status": "completed"
    },
    "tags": []
   },
   "source": [
    "# Label Encoding"
   ]
  },
  {
   "cell_type": "code",
   "execution_count": null,
   "id": "fdcc08cc-03c2-464b-a04f-6fe110972873",
   "metadata": {},
   "outputs": [],
   "source": []
  },
  {
   "cell_type": "markdown",
   "id": "c401e108-8db4-4ee3-8488-73b640dc1e21",
   "metadata": {},
   "source": [
    "## map 메서드로 레이블 인코딩"
   ]
  },
  {
   "cell_type": "code",
   "execution_count": 79,
   "id": "a3bdff52-b803-49b5-bae9-f54446520082",
   "metadata": {},
   "outputs": [
    {
     "data": {
      "text/plain": [
       "Source Verified    536031\n",
       "Verified           429617\n",
       "Not Verified       416703\n",
       "Name: verification_status, dtype: int64"
      ]
     },
     "execution_count": 79,
     "metadata": {},
     "output_type": "execute_result"
    }
   ],
   "source": [
    "df['verification_status'].value_counts()"
   ]
  },
  {
   "cell_type": "code",
   "execution_count": 80,
   "id": "5126fb1f-7a36-4836-a487-194711445673",
   "metadata": {},
   "outputs": [],
   "source": [
    "df['verification_status'] = df.verification_status.map({'Verified': 0, 'Source Verified': 1, 'Not Verified': 2})"
   ]
  },
  {
   "cell_type": "code",
   "execution_count": 81,
   "id": "adb7bd71-c224-493b-bf57-e5ae12761ca2",
   "metadata": {},
   "outputs": [
    {
     "data": {
      "text/plain": [
       "N    1348133\n",
       "Y      34218\n",
       "Name: debt_settlement_flag, dtype: int64"
      ]
     },
     "execution_count": 81,
     "metadata": {},
     "output_type": "execute_result"
    }
   ],
   "source": [
    "df['debt_settlement_flag'].value_counts()"
   ]
  },
  {
   "cell_type": "code",
   "execution_count": 82,
   "id": "1782ad6a-885b-44ce-80c5-340297edc9b7",
   "metadata": {},
   "outputs": [],
   "source": [
    "df['debt_settlement_flag'] = df.debt_settlement_flag.map({'N': 0, 'Y': 1})"
   ]
  },
  {
   "cell_type": "code",
   "execution_count": null,
   "id": "83b0b7fd-9f92-45f8-bbdf-ffb1f828b8a1",
   "metadata": {},
   "outputs": [],
   "source": []
  },
  {
   "cell_type": "code",
   "execution_count": 83,
   "id": "f7b42e85-4f3f-472f-a9eb-e834519e18b0",
   "metadata": {},
   "outputs": [
    {
     "data": {
      "text/plain": [
       "w    810885\n",
       "f    571466\n",
       "Name: initial_list_status, dtype: int64"
      ]
     },
     "execution_count": 83,
     "metadata": {},
     "output_type": "execute_result"
    }
   ],
   "source": [
    "df['initial_list_status'].value_counts()"
   ]
  },
  {
   "cell_type": "code",
   "execution_count": 84,
   "id": "58d6a6a9-9730-4a62-a272-614ec145ed56",
   "metadata": {},
   "outputs": [],
   "source": [
    "df['initial_list_status'] = df.initial_list_status.map({'w': 0, 'f': 1})"
   ]
  },
  {
   "cell_type": "code",
   "execution_count": null,
   "id": "dd856179-3046-4a45-a968-3e4138b65c51",
   "metadata": {},
   "outputs": [],
   "source": []
  },
  {
   "cell_type": "code",
   "execution_count": 85,
   "id": "7706dfd8-8da6-4606-86fe-0b0a39030e07",
   "metadata": {},
   "outputs": [
    {
     "data": {
      "text/plain": [
       "Individual    1352767\n",
       "Joint App       29584\n",
       "Name: application_type, dtype: int64"
      ]
     },
     "execution_count": 85,
     "metadata": {},
     "output_type": "execute_result"
    }
   ],
   "source": [
    "df['application_type'].value_counts()"
   ]
  },
  {
   "cell_type": "code",
   "execution_count": 86,
   "id": "38a508ad",
   "metadata": {
    "ExecuteTime": {
     "end_time": "2021-06-14T04:12:57.693420Z",
     "start_time": "2021-06-14T04:12:55.899727Z"
    },
    "papermill": {
     "duration": 1.614262,
     "end_time": "2021-06-02T04:38:48.243517",
     "exception": false,
     "start_time": "2021-06-02T04:38:46.629255",
     "status": "completed"
    },
    "tags": []
   },
   "outputs": [],
   "source": [
    "df['application_type'] = df.application_type.map({'Individual': 0, 'Joint App': 1})"
   ]
  },
  {
   "cell_type": "code",
   "execution_count": 87,
   "id": "573aa330-5425-4b8f-9d22-bb43b6cc3036",
   "metadata": {},
   "outputs": [
    {
     "data": {
      "text/plain": [
       "N    1381523\n",
       "Y        828\n",
       "Name: hardship_flag, dtype: int64"
      ]
     },
     "execution_count": 87,
     "metadata": {},
     "output_type": "execute_result"
    }
   ],
   "source": [
    "df['hardship_flag'].value_counts()"
   ]
  },
  {
   "cell_type": "code",
   "execution_count": 88,
   "id": "29690924-79b7-43d7-b1c6-b4906e14f2df",
   "metadata": {},
   "outputs": [],
   "source": [
    "df['hardship_flag'] = df.hardship_flag.map({'N': 0, 'Y': 1})"
   ]
  },
  {
   "cell_type": "code",
   "execution_count": 89,
   "id": "c8215c66-916f-41bd-a027-362cfacefa57",
   "metadata": {},
   "outputs": [
    {
     "data": {
      "text/plain": [
       "n    1381734\n",
       "y        617\n",
       "Name: pymnt_plan, dtype: int64"
      ]
     },
     "execution_count": 89,
     "metadata": {},
     "output_type": "execute_result"
    }
   ],
   "source": [
    "df['pymnt_plan'].value_counts() "
   ]
  },
  {
   "cell_type": "code",
   "execution_count": 90,
   "id": "91e481aa-4667-4220-ba82-706575b97adf",
   "metadata": {},
   "outputs": [],
   "source": [
    "df['pymnt_plan'] = df.pymnt_plan.map({'n': 0, 'y': 1})"
   ]
  },
  {
   "cell_type": "code",
   "execution_count": 91,
   "id": "c900fba5-046c-462c-b383-1c5f6b9328cf",
   "metadata": {},
   "outputs": [
    {
     "data": {
      "text/plain": [
       "Cash         1374460\n",
       "DirectPay       7891\n",
       "Name: disbursement_method, dtype: int64"
      ]
     },
     "execution_count": 91,
     "metadata": {},
     "output_type": "execute_result"
    }
   ],
   "source": [
    "df['disbursement_method'].value_counts()"
   ]
  },
  {
   "cell_type": "code",
   "execution_count": 92,
   "id": "d5fe249e-708e-4298-8a0e-cec146f6fcc9",
   "metadata": {},
   "outputs": [],
   "source": [
    "df['disbursement_method'] = df.disbursement_method.map({'Cash': 0, 'DirectPay': 1})"
   ]
  },
  {
   "cell_type": "code",
   "execution_count": null,
   "id": "938cb80c-615c-45f2-b48c-d77ab822cd54",
   "metadata": {},
   "outputs": [],
   "source": []
  },
  {
   "cell_type": "markdown",
   "id": "c766d4a6-361b-4b54-8f27-da13ebf2948b",
   "metadata": {},
   "source": [
    "## ML로 레이블 인코딩 처리 "
   ]
  },
  {
   "cell_type": "code",
   "execution_count": 93,
   "id": "2ec40f50-c6c9-4c74-89e8-c2a63ee7d470",
   "metadata": {},
   "outputs": [],
   "source": [
    "from sklearn.preprocessing import LabelEncoder\n",
    "le = LabelEncoder()"
   ]
  },
  {
   "cell_type": "code",
   "execution_count": 94,
   "id": "f8871ead",
   "metadata": {
    "ExecuteTime": {
     "end_time": "2021-06-14T04:13:00.262208Z",
     "start_time": "2021-06-14T04:12:57.694890Z"
    },
    "papermill": {
     "duration": 3.666345,
     "end_time": "2021-06-02T04:38:51.929169",
     "exception": false,
     "start_time": "2021-06-02T04:38:48.262824",
     "status": "completed"
    },
    "tags": []
   },
   "outputs": [],
   "source": [
    "df['addr_state'] = le.fit_transform(df['addr_state'].astype(str))\n",
    "df['sub_grade'] = le.fit_transform(df['sub_grade'].astype(str))\n",
    "df['purpose'] = le.fit_transform(df['purpose'].astype(str))\n",
    "df['emp_length'] = le.fit_transform(df['emp_length'].astype(str))\n",
    "df['home_ownership'] = le.fit_transform(df['home_ownership'].astype(str))\n",
    "df['term'] = le.fit_transform(df['term'].astype(str))"
   ]
  },
  {
   "cell_type": "code",
   "execution_count": null,
   "id": "60f5eaa7-d56d-486e-a57d-9ffbc13d56ea",
   "metadata": {},
   "outputs": [],
   "source": []
  },
  {
   "cell_type": "code",
   "execution_count": null,
   "id": "fc2ab71e-6ba7-47a4-a8d6-0243ea2cf9ec",
   "metadata": {},
   "outputs": [],
   "source": []
  },
  {
   "cell_type": "code",
   "execution_count": 95,
   "id": "8a01db55",
   "metadata": {
    "papermill": {
     "duration": 0.334052,
     "end_time": "2021-06-02T04:38:52.283421",
     "exception": false,
     "start_time": "2021-06-02T04:38:51.949369",
     "status": "completed"
    },
    "tags": []
   },
   "outputs": [
    {
     "data": {
      "text/plain": [
       "Fully Paid                                             1076751\n",
       "Charged Off                                             268559\n",
       "Late (31-120 days)                                       21467\n",
       "In Grace Period                                           8436\n",
       "Late (16-30 days)                                         4349\n",
       "Does not meet the credit policy. Status:Fully Paid        1988\n",
       "Does not meet the credit policy. Status:Charged Off        761\n",
       "Default                                                     40\n",
       "Name: loan_status, dtype: int64"
      ]
     },
     "execution_count": 95,
     "metadata": {},
     "output_type": "execute_result"
    }
   ],
   "source": [
    "df['loan_status'].value_counts()"
   ]
  },
  {
   "cell_type": "code",
   "execution_count": 96,
   "id": "7c606dd6",
   "metadata": {
    "ExecuteTime": {
     "end_time": "2021-06-14T04:13:00.523944Z",
     "start_time": "2021-06-14T04:13:00.264099Z"
    },
    "papermill": {
     "duration": 0.362289,
     "end_time": "2021-06-02T04:38:52.671770",
     "exception": false,
     "start_time": "2021-06-02T04:38:52.309481",
     "status": "completed"
    },
    "tags": []
   },
   "outputs": [],
   "source": [
    "###Targets\n",
    "\n",
    "df['grade'] = df.grade.map({'A': 0, 'B': 1,'C': 2, 'D': 3,'E': 4, 'F': 5,'G': 6})   \n",
    "df['loan_status'] = df.loan_status.map({'Fully Paid':0, \n",
    "                                            'Charged Off': 1\n",
    "                                            , 'Late (31-120 days)': 1\n",
    "                                           , 'Late (16-30 days)': 1\n",
    "                                           , 'In Grace Period': 0\n",
    "                                           , 'Does not meet the credit policy. Status:Fully Paid': 0\n",
    "                                           , 'Does not meet the credit policy. Status:Charged Off': 1\n",
    "                                           , 'Default': 1})"
   ]
  },
  {
   "cell_type": "code",
   "execution_count": 97,
   "id": "0b9a28a1",
   "metadata": {
    "papermill": {
     "duration": 0.026102,
     "end_time": "2021-06-02T04:38:52.717614",
     "exception": false,
     "start_time": "2021-06-02T04:38:52.691512",
     "status": "completed"
    },
    "tags": []
   },
   "outputs": [],
   "source": [
    "# df.fillna(-1,inplace = True)"
   ]
  },
  {
   "cell_type": "code",
   "execution_count": 98,
   "id": "6fa3d362",
   "metadata": {
    "papermill": {
     "duration": 0.025556,
     "end_time": "2021-06-02T04:38:52.762847",
     "exception": false,
     "start_time": "2021-06-02T04:38:52.737291",
     "status": "completed"
    },
    "tags": []
   },
   "outputs": [],
   "source": [
    "# from sklearn.model_selection import train_test_split\n",
    "# train, test = train_test_split(df,test_size = 0.2, random_state = 2021)"
   ]
  },
  {
   "cell_type": "code",
   "execution_count": 99,
   "id": "41fa919c",
   "metadata": {
    "papermill": {
     "duration": 0.025418,
     "end_time": "2021-06-02T04:38:52.808059",
     "exception": false,
     "start_time": "2021-06-02T04:38:52.782641",
     "status": "completed"
    },
    "tags": []
   },
   "outputs": [],
   "source": [
    "# train.reset_index(drop=True, inplace=True)\n",
    "# test.reset_index(drop=True, inplace=True)"
   ]
  },
  {
   "cell_type": "code",
   "execution_count": 100,
   "id": "75cbda50",
   "metadata": {
    "papermill": {
     "duration": 0.025167,
     "end_time": "2021-06-02T04:38:52.852588",
     "exception": false,
     "start_time": "2021-06-02T04:38:52.827421",
     "status": "completed"
    },
    "tags": []
   },
   "outputs": [],
   "source": [
    "# answer = test[['id','loan_status']]\n",
    "# test.drop('loan_status',1, inplace = True)"
   ]
  },
  {
   "cell_type": "code",
   "execution_count": 101,
   "id": "17072106",
   "metadata": {
    "papermill": {
     "duration": 0.026184,
     "end_time": "2021-06-02T04:38:52.898915",
     "exception": false,
     "start_time": "2021-06-02T04:38:52.872731",
     "status": "completed"
    },
    "tags": []
   },
   "outputs": [],
   "source": [
    "# # Kernel Density Plot\n",
    "# fig = plt.figure(figsize=(15,8),)\n",
    "# ax=sns.kdeplot(df.loc[(df['loan_status'] == 0),'last_fico_range_high'] , color='gray',shade=True,label='Normal')\n",
    "# ax=sns.kdeplot(df.loc[(df['loan_status'] == 1),'last_fico_range_high'] , color='g',shade=True, label='Default')\n",
    "# plt.title('last_fico_range_high Distribution Normal vs Default', fontsize = 25, pad = 40)\n",
    "# plt.ylabel(\"Frequency of Default\", fontsize = 15, labelpad = 20)\n",
    "# plt.xlabel(\"last_fico_range_high\", fontsize = 15, labelpad = 20);"
   ]
  },
  {
   "cell_type": "code",
   "execution_count": 102,
   "id": "f06a9935",
   "metadata": {
    "papermill": {
     "duration": 0.026011,
     "end_time": "2021-06-02T04:38:52.945421",
     "exception": false,
     "start_time": "2021-06-02T04:38:52.919410",
     "status": "completed"
    },
    "tags": []
   },
   "outputs": [],
   "source": [
    "# # Kernel Density Plot\n",
    "# fig = plt.figure(figsize=(15,8),)\n",
    "# ax=sns.kdeplot(df.loc[(df['loan_status'] == 0),'last_fico_range_low'] , color='gray',shade=True,label='Normal')\n",
    "# ax=sns.kdeplot(df.loc[(df['loan_status'] == 1),'last_fico_range_low'] , color='g',shade=True, label='Default')\n",
    "# plt.title('last_fico_range_low Distribution Normal vs Default', fontsize = 25, pad = 40)\n",
    "# plt.ylabel(\"Frequency of Default\", fontsize = 15, labelpad = 20)\n",
    "# plt.xlabel(\"last_fico_range_low\", fontsize = 15, labelpad = 20);"
   ]
  },
  {
   "cell_type": "code",
   "execution_count": 108,
   "id": "f9748df3-de60-41ee-9dff-c1155e7a03f8",
   "metadata": {},
   "outputs": [],
   "source": [
    "path_write =\"/Users/a06411/Documents/data_hub/lending_club/df_preprocessesd.pkl\""
   ]
  },
  {
   "cell_type": "code",
   "execution_count": null,
   "id": "a5d82929-ef8d-41ba-8f2d-cc5c0f83703c",
   "metadata": {},
   "outputs": [],
   "source": []
  },
  {
   "cell_type": "code",
   "execution_count": 103,
   "id": "8d895025",
   "metadata": {
    "ExecuteTime": {
     "end_time": "2021-06-14T04:13:19.590697Z",
     "start_time": "2021-06-14T04:13:07.085746Z"
    },
    "papermill": {
     "duration": 2.31301,
     "end_time": "2021-06-02T04:38:55.278649",
     "exception": false,
     "start_time": "2021-06-02T04:38:52.965639",
     "status": "completed"
    },
    "tags": []
   },
   "outputs": [],
   "source": [
    "df.to_pickle(path_write)\n",
    "# train.to_pickle(\"train.pkl\")\n",
    "# test.to_pickle(\"test.pkl\")\n",
    "# answer.to_pickle(\"answer.pkl\")"
   ]
  },
  {
   "cell_type": "code",
   "execution_count": 104,
   "id": "3cf4c834",
   "metadata": {},
   "outputs": [
    {
     "name": "stdout",
     "output_type": "stream",
     "text": [
      "<class 'pandas.core.frame.DataFrame'>\n",
      "Int64Index: 1382351 entries, 0 to 2260697\n",
      "Columns: 104 entries, id to debt_settlement_flag\n",
      "dtypes: float64(87), int64(15), object(2)\n",
      "memory usage: 1.1+ GB\n"
     ]
    }
   ],
   "source": [
    "df.info()"
   ]
  },
  {
   "cell_type": "code",
   "execution_count": 105,
   "id": "36d41fa9-f367-433f-8f2e-55db27937224",
   "metadata": {},
   "outputs": [
    {
     "data": {
      "text/plain": [
       "Index(['id', 'loan_amnt', 'funded_amnt', 'funded_amnt_inv', 'term', 'int_rate',\n",
       "       'installment', 'grade', 'sub_grade', 'emp_length',\n",
       "       ...\n",
       "       'percent_bc_gt_75', 'pub_rec_bankruptcies', 'tax_liens',\n",
       "       'tot_hi_cred_lim', 'total_bal_ex_mort', 'total_bc_limit',\n",
       "       'total_il_high_credit_limit', 'hardship_flag', 'disbursement_method',\n",
       "       'debt_settlement_flag'],\n",
       "      dtype='object', length=104)"
      ]
     },
     "execution_count": 105,
     "metadata": {},
     "output_type": "execute_result"
    }
   ],
   "source": [
    "df.columns"
   ]
  },
  {
   "cell_type": "code",
   "execution_count": 106,
   "id": "be548350-fd0b-4999-bfef-35e718f41327",
   "metadata": {},
   "outputs": [
    {
     "data": {
      "text/plain": [
       "array([[68407277, 3600.0, 3600.0, ..., 0, 0, 0],\n",
       "       [68355089, 24700.0, 24700.0, ..., 0, 0, 0],\n",
       "       [68341763, 20000.0, 20000.0, ..., 0, 0, 0],\n",
       "       ...,\n",
       "       ['89996426', 32000.0, 32000.0, ..., 0, 0, 0],\n",
       "       ['90006534', 16000.0, 16000.0, ..., 0, 0, 0],\n",
       "       ['88224441', 24000.0, 24000.0, ..., 0, 0, 1]], dtype=object)"
      ]
     },
     "execution_count": 106,
     "metadata": {},
     "output_type": "execute_result"
    }
   ],
   "source": [
    "df.values"
   ]
  },
  {
   "cell_type": "code",
   "execution_count": 107,
   "id": "13d38c12-3210-41fe-8f70-984ac05fa120",
   "metadata": {},
   "outputs": [
    {
     "data": {
      "text/plain": [
       "Index                             11058808\n",
       "id                                11058808\n",
       "loan_amnt                         11058808\n",
       "funded_amnt                       11058808\n",
       "funded_amnt_inv                   11058808\n",
       "term                              11058808\n",
       "int_rate                          11058808\n",
       "installment                       11058808\n",
       "grade                             11058808\n",
       "sub_grade                         11058808\n",
       "emp_length                        11058808\n",
       "home_ownership                    11058808\n",
       "annual_inc                        11058808\n",
       "verification_status               11058808\n",
       "issue_d                           11058808\n",
       "loan_status                       11058808\n",
       "pymnt_plan                        11058808\n",
       "purpose                           11058808\n",
       "addr_state                        11058808\n",
       "dti                               11058808\n",
       "delinq_2yrs                       11058808\n",
       "fico_range_low                    11058808\n",
       "fico_range_high                   11058808\n",
       "inq_last_6mths                    11058808\n",
       "mths_since_last_delinq            11058808\n",
       "mths_since_last_record            11058808\n",
       "open_acc                          11058808\n",
       "pub_rec                           11058808\n",
       "revol_bal                         11058808\n",
       "revol_util                        11058808\n",
       "total_acc                         11058808\n",
       "initial_list_status               11058808\n",
       "out_prncp                         11058808\n",
       "out_prncp_inv                     11058808\n",
       "total_pymnt                       11058808\n",
       "total_pymnt_inv                   11058808\n",
       "total_rec_prncp                   11058808\n",
       "total_rec_int                     11058808\n",
       "total_rec_late_fee                11058808\n",
       "recoveries                        11058808\n",
       "collection_recovery_fee           11058808\n",
       "last_pymnt_amnt                   11058808\n",
       "last_fico_range_high              11058808\n",
       "last_fico_range_low               11058808\n",
       "collections_12_mths_ex_med        11058808\n",
       "mths_since_last_major_derog       11058808\n",
       "application_type                  11058808\n",
       "acc_now_delinq                    11058808\n",
       "tot_coll_amt                      11058808\n",
       "tot_cur_bal                       11058808\n",
       "open_acc_6m                       11058808\n",
       "open_act_il                       11058808\n",
       "open_il_12m                       11058808\n",
       "open_il_24m                       11058808\n",
       "mths_since_rcnt_il                11058808\n",
       "total_bal_il                      11058808\n",
       "il_util                           11058808\n",
       "open_rv_12m                       11058808\n",
       "open_rv_24m                       11058808\n",
       "max_bal_bc                        11058808\n",
       "all_util                          11058808\n",
       "total_rev_hi_lim                  11058808\n",
       "inq_fi                            11058808\n",
       "total_cu_tl                       11058808\n",
       "inq_last_12m                      11058808\n",
       "acc_open_past_24mths              11058808\n",
       "avg_cur_bal                       11058808\n",
       "bc_open_to_buy                    11058808\n",
       "bc_util                           11058808\n",
       "chargeoff_within_12_mths          11058808\n",
       "delinq_amnt                       11058808\n",
       "mo_sin_old_il_acct                11058808\n",
       "mo_sin_old_rev_tl_op              11058808\n",
       "mo_sin_rcnt_rev_tl_op             11058808\n",
       "mo_sin_rcnt_tl                    11058808\n",
       "mort_acc                          11058808\n",
       "mths_since_recent_bc              11058808\n",
       "mths_since_recent_bc_dlq          11058808\n",
       "mths_since_recent_inq             11058808\n",
       "mths_since_recent_revol_delinq    11058808\n",
       "num_accts_ever_120_pd             11058808\n",
       "num_actv_bc_tl                    11058808\n",
       "num_actv_rev_tl                   11058808\n",
       "num_bc_sats                       11058808\n",
       "num_bc_tl                         11058808\n",
       "num_il_tl                         11058808\n",
       "num_op_rev_tl                     11058808\n",
       "num_rev_accts                     11058808\n",
       "num_rev_tl_bal_gt_0               11058808\n",
       "num_sats                          11058808\n",
       "num_tl_120dpd_2m                  11058808\n",
       "num_tl_30dpd                      11058808\n",
       "num_tl_90g_dpd_24m                11058808\n",
       "num_tl_op_past_12m                11058808\n",
       "pct_tl_nvr_dlq                    11058808\n",
       "percent_bc_gt_75                  11058808\n",
       "pub_rec_bankruptcies              11058808\n",
       "tax_liens                         11058808\n",
       "tot_hi_cred_lim                   11058808\n",
       "total_bal_ex_mort                 11058808\n",
       "total_bc_limit                    11058808\n",
       "total_il_high_credit_limit        11058808\n",
       "hardship_flag                     11058808\n",
       "disbursement_method               11058808\n",
       "debt_settlement_flag              11058808\n",
       "dtype: int64"
      ]
     },
     "execution_count": 107,
     "metadata": {},
     "output_type": "execute_result"
    }
   ],
   "source": [
    "df.memory_usage()"
   ]
  },
  {
   "cell_type": "code",
   "execution_count": null,
   "id": "2e86a5ad-3a3f-4689-9068-72795967f6f5",
   "metadata": {},
   "outputs": [],
   "source": []
  }
 ],
 "metadata": {
  "hide_input": false,
  "kernelspec": {
   "display_name": "Python 3 (ipykernel)",
   "language": "python",
   "name": "python3"
  },
  "language_info": {
   "codemirror_mode": {
    "name": "ipython",
    "version": 3
   },
   "file_extension": ".py",
   "mimetype": "text/x-python",
   "name": "python",
   "nbconvert_exporter": "python",
   "pygments_lexer": "ipython3",
   "version": "3.9.16"
  },
  "papermill": {
   "default_parameters": {},
   "duration": 103.923374,
   "end_time": "2021-06-02T04:38:57.029578",
   "environment_variables": {},
   "exception": null,
   "input_path": "__notebook__.ipynb",
   "output_path": "__notebook__.ipynb",
   "parameters": {},
   "start_time": "2021-06-02T04:37:13.106204",
   "version": "2.3.3"
  }
 },
 "nbformat": 4,
 "nbformat_minor": 5
}
