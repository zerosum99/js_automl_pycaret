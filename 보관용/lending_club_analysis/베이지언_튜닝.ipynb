{
 "cells": [
  {
   "cell_type": "code",
   "execution_count": null,
   "id": "24bfcf75-46c3-4f62-ab80-a92186aaf733",
   "metadata": {},
   "outputs": [],
   "source": []
  },
  {
   "cell_type": "markdown",
   "id": "45a561a3-a6d0-4e1d-a755-bbdb21773686",
   "metadata": {},
   "source": [
    "## 하이퍼파라미터란 무엇인가요?\n",
    "\n",
    "- 하이퍼파라미터는 데이터 과학자가 기계 학습 모델 훈련을 관리하는 데 사용하는 외부 구성 변수입니다. \n",
    "- 때때로 모델 하이퍼파라미터라고 부르며, 하이퍼파라미터는 모델을 훈련하기 전에 수동으로 설정됩니다. 하이퍼파라미터는 파라미터와는 다르며, 데이터 과학자에 의해 설정되는 것이 아닌 학습 프로세스 중에 자동으로 파생되는 내부 파라미터입니다.\n",
    "\n",
    "- 하이퍼파라미터의 예로는 신경망의 노드 및 계층 수와 의사 결정 트리의 분기 수가 있습니다. \n",
    "- 하이퍼파라미터는 모델 아키텍처, 학습 속도 및 모델 복잡성과 같은 주요 기능을 결정합니다."
   ]
  },
  {
   "cell_type": "markdown",
   "id": "0d69616a-7e6c-406c-ba40-046deabaab04",
   "metadata": {},
   "source": [
    "## 하이퍼파라미터 튜닝이 중요한 이유는 무엇인가요?\n",
    "- 하이퍼파라미터는 모델 구조, 기능 및 성능을 직접 제어합니다. \n",
    "- 하이퍼파라미터 튜닝을 사용하면 데이터 과학자가 최적의 결과를 위해 모델 성능을 조정할 수 있습니다. \n",
    "- 이 프로세스는 기계 학습의 필수적인 부분이며, 성공을 위해서는 적절한 하이퍼파라미터 값을 선택하는 것이 중요합니다.\n",
    "- 예를 들어 모델의 학습 속도를 하이퍼파라미터로 사용한다고 가정합니다. \n",
    "- 값이 너무 높으면 모델이 차선의 결과로 너무 빨리 수렴할 수 있습니다. \n",
    "- 반면에 비율이 너무 낮으면 훈련이 너무 오래 걸리고 결과가 수렴되지 않을 수 있습니다. \n",
    "- 하이퍼파라미터를 적절하고 균형 있게 선택하면 정확한 모델과 우수한 모델 성능을 얻을 수 있습니다."
   ]
  },
  {
   "cell_type": "code",
   "execution_count": null,
   "id": "0fd46906-7908-45f5-bf00-b2e5434ff74a",
   "metadata": {},
   "outputs": [],
   "source": []
  },
  {
   "cell_type": "markdown",
   "id": "229cd406-94e4-46b5-a836-5dbbf7c2eac8",
   "metadata": {},
   "source": [
    "## 하이퍼파라미터 튜닝 기법에는 어떤 것이 있나요?\n",
    "- 수많은 하이퍼파라미터 튜닝 알고리즘이 존재하지만, \n",
    "- 가장 일반적으로 사용되는 유형은 베이지안 최적화(Bayesian optimization), \n",
    "- 그리드 서치(grid search) 및 랜덤 서치(randomized search)입니다.\n",
    "\n",
    "### 베이지안 최적화(Bayesian optimization)\n",
    "- 베이지안 최적화(Bayesian optimization)는 베이즈 정리(Bayes’ theorem)에 기반한 기법이며, 현재 지식과 관련된 이벤트가 발생할 확률을 설명합니다. \n",
    "- 하이퍼파라미터 최적화에 적용될 경우, 알고리즘은 특정 지표를 최적화하는 하이퍼파라미터 세트에서 확률 모델을 빌드합니다. \n",
    "- 회귀 분석을 사용하여 최상의 하이퍼파라미터 세트를 반복적으로 선택합니다.\n",
    "\n",
    "### 그리드 서치(Grid search)\n",
    "- 그리드 서치(Grid search)를 통해, 하이퍼파라미터 목록과 성능 지표를 지정하면 알고리즘이 가능한 모든 조합을 통해 작동하여 가장 적합한 것을 결정합니다. \n",
    "- 그리드 서치(Grid search)는 훌륭하게 작동하지만 상대적으로 지루하고 계산 집약적입니다. \n",
    "- 많은 수의 하이퍼파라미터가 있는 경우 특히 그러합니다.\n",
    "\n",
    "### 랜덤 서치(Random search)\n",
    "- 그리드 서치(Grid search)와 유사한 원리를 기반으로 하지만 랜덤 서치(Random search)는 각 반복에서 무작위로 하이퍼파라미터 그룹을 선택합니다. \n",
    "- 상대적으로 적은 수의 하이퍼파라미터가 주로 모델 결과를 결정할 때 훌륭하게 작동합니다."
   ]
  },
  {
   "cell_type": "code",
   "execution_count": null,
   "id": "6b0bfb1b-fb25-4c0c-9607-76b2620a75e5",
   "metadata": {},
   "outputs": [],
   "source": []
  },
  {
   "cell_type": "code",
   "execution_count": null,
   "id": "ce023e76-3495-4223-9d2c-01e1b4ee8cc9",
   "metadata": {},
   "outputs": [],
   "source": []
  },
  {
   "cell_type": "markdown",
   "id": "bbe3f6f9-8a26-4349-9d43-996bf93f37ea",
   "metadata": {},
   "source": [
    "## 참고자료 \n",
    "\n",
    "https://velog.io/@gangjoo/ML-%EB%B6%84%EB%A5%98-%EB%B2%A0%EC%9D%B4%EC%A7%80%EC%95%88-%EC%B5%9C%EC%A0%81%ED%99%94-Bayesian-Optimization\n",
    "\n"
   ]
  },
  {
   "cell_type": "code",
   "execution_count": null,
   "id": "1532ba75-a7e6-4b0f-b9e8-be9e7960c15e",
   "metadata": {},
   "outputs": [],
   "source": []
  },
  {
   "cell_type": "markdown",
   "id": "02d6f76a-de5a-4cc3-a8fa-45eb2b5a88f9",
   "metadata": {},
   "source": [
    "## 베이지안 최적화가 필요한 순간\n",
    "\n",
    "- 가능한 최소의 시도로 최적의 답을 찾아야 할 경우 (ex: 금고 털기)\n",
    "- 개별 시도가 너무 많은 시간/자원이 필요할 때\n",
    "\n",
    "\n",
    "## 베이지안 최적화\n",
    "\n",
    "- 미지의 함수가 반환하는 값의 최소 또는 최댓값을 만드는 최적해를 짧은 반복을 통해 찾아내는 최적화 방식\n",
    "- 새로운 데이터를 입력 받았을 때 최적 함수를 예측하는 사후 모델을 개선해 나가면서 최적 함수를 도출\n",
    "- 대체 모델(Surrogate Model)과 획득 함수로 구성\n",
    "- 대체 모델은 획득 함수로부터 최적 입력 값을 추천 받은 뒤 이를 기반으로 최적 함수 모델을 개선\n",
    "- ㅡ획득 함수는 개선된 대체 모델을 기반으로 다시 최적 입력 값을 계산"
   ]
  },
  {
   "cell_type": "code",
   "execution_count": null,
   "id": "dfc0d8ea-0514-406b-b049-95b91ef41685",
   "metadata": {},
   "outputs": [],
   "source": []
  },
  {
   "cell_type": "markdown",
   "id": "b8aa87cd-842e-4577-a746-4a867b0dd888",
   "metadata": {},
   "source": [
    "## Bayesian Optimization에서 사전 정보를 바탕으로 탐색하기 위해선 다음과 같은 정보가 필요하다.\n",
    "\n",
    "### 어떻게 모델 내에서 사전 정보를 학습하고 자동적으로 업데이트할까?\n",
    "- 정답: Surrogate Model\n",
    "- 기존 입력값(x1, f(x1)), (x2, f(x2)), ... , (xt, f(xt))들을 바탕으로, 미지의 목적 함수 f의 형태에 대한 확률적인 추정을 하는 모델\n",
    "### 수집한 사전 정보를 바탕으로 어떤 기준으로 다음 탐색값을 찾을까?\n",
    "- 정답: Acquisition Function\n",
    "- Surrogate Model이 목적 함수에 대해 확률적으로 추정한 결과를 바탕으로, 바로 다음 번에 탐색할 입력값 후보를 추천해 주는 함수\n",
    "최적값일 가능성이 높은 값 = Surrogate Model에서 함수값이 큰 값 아직 Surrogate Model에서의 추정이 불확실한 값 = Surrogate Model에서 표준편차가 큰 값"
   ]
  },
  {
   "cell_type": "code",
   "execution_count": null,
   "id": "b8195794-c338-412a-8fb7-94ad20ea48de",
   "metadata": {},
   "outputs": [],
   "source": []
  },
  {
   "cell_type": "code",
   "execution_count": 19,
   "id": "84b83ddc-fe15-4458-9613-567e8bb29149",
   "metadata": {},
   "outputs": [],
   "source": [
    "import pandas as pd\n",
    "import numpy as np\n",
    "\n",
    "data_url = \"http://lib.stat.cmu.edu/datasets/boston\"\n",
    "raw_df = pd.read_csv(data_url, sep=\"\\s+\", skiprows=22, header=None)\n",
    "data = np.hstack([raw_df.values[::2, :], raw_df.values[1::2, :2]])\n",
    "target = raw_df.values[1::2, 2]"
   ]
  },
  {
   "cell_type": "code",
   "execution_count": 23,
   "id": "12a2e9c4-7e15-4669-9131-b65e1e0ad12a",
   "metadata": {},
   "outputs": [
    {
     "data": {
      "text/plain": [
       "(506, 13)"
      ]
     },
     "execution_count": 23,
     "metadata": {},
     "output_type": "execute_result"
    }
   ],
   "source": [
    "data.shape"
   ]
  },
  {
   "cell_type": "code",
   "execution_count": 22,
   "id": "c91c0780-d2d0-46de-b7e2-53b4437d62af",
   "metadata": {},
   "outputs": [
    {
     "data": {
      "text/plain": [
       "(506,)"
      ]
     },
     "execution_count": 22,
     "metadata": {},
     "output_type": "execute_result"
    }
   ],
   "source": [
    "target.shape"
   ]
  },
  {
   "cell_type": "code",
   "execution_count": 25,
   "id": "d2bf311d-a292-4f4b-8c4d-5b040270a50f",
   "metadata": {},
   "outputs": [],
   "source": [
    "from sklearn.model_selection import GridSearchCV, train_test_split\n",
    "from sklearn.metrics import accuracy_score"
   ]
  },
  {
   "cell_type": "code",
   "execution_count": 26,
   "id": "e5cd3158-2ab8-413e-9e3c-bf95ddd71413",
   "metadata": {},
   "outputs": [],
   "source": [
    "X_train, X_val, y_train, y_val = train_test_split(data, target, test_size=0.2)"
   ]
  },
  {
   "cell_type": "code",
   "execution_count": null,
   "id": "cf99be4d-f5bd-4b89-aff6-a9fd22f45b71",
   "metadata": {},
   "outputs": [],
   "source": []
  },
  {
   "cell_type": "code",
   "execution_count": 38,
   "id": "06d6ad60-f9c2-487b-b83c-608463229205",
   "metadata": {},
   "outputs": [],
   "source": [
    "# 학습 데이터를 다시 학습과 검증 데이터로 분리 \n",
    "X_tr, X_val, y_tr, y_val= train_test_split(X_train, y_train,\n",
    "                                         test_size=0.1, random_state=156 )"
   ]
  },
  {
   "cell_type": "code",
   "execution_count": null,
   "id": "f09ccc46-adf3-48c7-8799-3dd86a5da35b",
   "metadata": {},
   "outputs": [],
   "source": []
  },
  {
   "cell_type": "markdown",
   "id": "cedbf94c-95dd-4cec-880a-c49c31fc3fc5",
   "metadata": {},
   "source": [
    "## 베이지안 최적화를 구현한 주요 패키지\n",
    "\n",
    "- HyperOpt\n",
    "- Bayesian optimization\n",
    "- Optuna"
   ]
  },
  {
   "cell_type": "code",
   "execution_count": 8,
   "id": "87e86bf0-42a6-4b17-a316-b21913409cb8",
   "metadata": {},
   "outputs": [],
   "source": [
    "from xgboost import XGBClassifier\n",
    "from bayes_opt import BayesianOptimization"
   ]
  },
  {
   "cell_type": "code",
   "execution_count": null,
   "id": "98ce2a16-7855-47c8-bce3-54ad7ef48517",
   "metadata": {},
   "outputs": [],
   "source": []
  },
  {
   "cell_type": "code",
   "execution_count": 27,
   "id": "45e21a5d-f7e8-4c59-9f32-7241cc0235a7",
   "metadata": {},
   "outputs": [],
   "source": [
    "# 목적 함수 생성\n",
    "def xgb_eval(learning_rate, max_depth, output = 'score'):\n",
    "    params = {\n",
    "        # n_estimators 값은 100으로 고정\n",
    "        'n_estimators': 100,\n",
    "        # 호출 시, 실수형 값들이 들어오므로 정수형 하이퍼 파라미터는 정수형으로 변경해줘야 함\n",
    "        'learning_rate': learning_rate,\n",
    "        'max_depth': int(round(max_depth))\n",
    "    }\n",
    "    \n",
    "    xgb = XGBRegressor(**params, random_state = 1021)\n",
    "    \n",
    "    # Cross Validation\n",
    "    neg_mse_scores = cross_val_score(xgb, X_train, y_train,\n",
    "                                     scoring = 'neg_mean_squared_error',\n",
    "                                     cv = 3)\n",
    "    rmse_scores = np.sqrt(-1 * neg_mse_scores)\n",
    "    mean_rmse = np.mean(rmse_scores)\n",
    "    \n",
    "    return -mean_rmse # BayesianOptimization의 maximize()를 사용하기 위해, RMSE 값을 음수로 반환"
   ]
  },
  {
   "cell_type": "code",
   "execution_count": null,
   "id": "63a83a08-a857-47be-953f-7eccc07ee325",
   "metadata": {},
   "outputs": [],
   "source": []
  },
  {
   "cell_type": "code",
   "execution_count": 28,
   "id": "cd36700c-3d90-4653-8493-3c79635797b3",
   "metadata": {},
   "outputs": [],
   "source": [
    "# 하이퍼 파라미터 입력 범위 설정\n",
    "xgb_bayes_params = {\n",
    "    'learning_rate': (0.01, 0.2),\n",
    "    'max_depth': (6, 12)\n",
    "}\n"
   ]
  },
  {
   "cell_type": "code",
   "execution_count": null,
   "id": "1a3e9591-8ca5-4a26-915f-ffa759835159",
   "metadata": {},
   "outputs": [],
   "source": []
  },
  {
   "cell_type": "code",
   "execution_count": 31,
   "id": "2cddef38-0128-498a-b280-ccb0a0ee9bf5",
   "metadata": {},
   "outputs": [],
   "source": [
    "# 베이지안 최적화\n",
    "model_bayes = BayesianOptimization(f = xgb_eval, pbounds = xgb_bayes_params, random_state = 1021)\n"
   ]
  },
  {
   "cell_type": "code",
   "execution_count": 32,
   "id": "62bbc707-caa5-412a-8ff2-6083f7ba4d3e",
   "metadata": {},
   "outputs": [
    {
     "name": "stdout",
     "output_type": "stream",
     "text": [
      "|   iter    |  target   | learni... | max_depth |\n",
      "-------------------------------------------------\n",
      "| \u001b[0m1        \u001b[0m | \u001b[0m-3.657   \u001b[0m | \u001b[0m0.1431   \u001b[0m | \u001b[0m11.23    \u001b[0m |\n",
      "| \u001b[95m2        \u001b[0m | \u001b[95m-3.641   \u001b[0m | \u001b[95m0.1465   \u001b[0m | \u001b[95m7.336    \u001b[0m |\n",
      "| \u001b[0m3        \u001b[0m | \u001b[0m-3.663   \u001b[0m | \u001b[0m0.1762   \u001b[0m | \u001b[0m7.155    \u001b[0m |\n",
      "| \u001b[95m4        \u001b[0m | \u001b[95m-3.624   \u001b[0m | \u001b[95m0.1504   \u001b[0m | \u001b[95m8.572    \u001b[0m |\n",
      "| \u001b[0m5        \u001b[0m | \u001b[0m-3.653   \u001b[0m | \u001b[0m0.04045  \u001b[0m | \u001b[0m10.27    \u001b[0m |\n",
      "| \u001b[0m6        \u001b[0m | \u001b[0m-3.627   \u001b[0m | \u001b[0m0.1139   \u001b[0m | \u001b[0m8.845    \u001b[0m |\n",
      "| \u001b[0m7        \u001b[0m | \u001b[0m-9.853   \u001b[0m | \u001b[0m0.01     \u001b[0m | \u001b[0m8.675    \u001b[0m |\n",
      "| \u001b[0m8        \u001b[0m | \u001b[0m-3.654   \u001b[0m | \u001b[0m0.1984   \u001b[0m | \u001b[0m11.99    \u001b[0m |\n",
      "| \u001b[95m9        \u001b[0m | \u001b[95m-3.596   \u001b[0m | \u001b[95m0.04637  \u001b[0m | \u001b[95m9.314    \u001b[0m |\n",
      "| \u001b[95m10       \u001b[0m | \u001b[95m-3.589   \u001b[0m | \u001b[95m0.06001  \u001b[0m | \u001b[95m11.82    \u001b[0m |\n",
      "| \u001b[0m11       \u001b[0m | \u001b[0m-3.97    \u001b[0m | \u001b[0m0.02909  \u001b[0m | \u001b[0m11.15    \u001b[0m |\n",
      "| \u001b[0m12       \u001b[0m | \u001b[0m-3.977   \u001b[0m | \u001b[0m0.02991  \u001b[0m | \u001b[0m11.58    \u001b[0m |\n",
      "| \u001b[0m13       \u001b[0m | \u001b[0m-3.621   \u001b[0m | \u001b[0m0.06727  \u001b[0m | \u001b[0m11.85    \u001b[0m |\n",
      "| \u001b[0m14       \u001b[0m | \u001b[0m-3.636   \u001b[0m | \u001b[0m0.2      \u001b[0m | \u001b[0m8.45     \u001b[0m |\n",
      "| \u001b[0m15       \u001b[0m | \u001b[0m-3.8     \u001b[0m | \u001b[0m0.03323  \u001b[0m | \u001b[0m8.969    \u001b[0m |\n",
      "| \u001b[0m16       \u001b[0m | \u001b[0m-3.6     \u001b[0m | \u001b[0m0.1719   \u001b[0m | \u001b[0m8.35     \u001b[0m |\n",
      "| \u001b[0m17       \u001b[0m | \u001b[0m-3.657   \u001b[0m | \u001b[0m0.1968   \u001b[0m | \u001b[0m8.953    \u001b[0m |\n",
      "| \u001b[0m18       \u001b[0m | \u001b[0m-3.717   \u001b[0m | \u001b[0m0.1321   \u001b[0m | \u001b[0m9.155    \u001b[0m |\n",
      "| \u001b[0m19       \u001b[0m | \u001b[0m-5.887   \u001b[0m | \u001b[0m0.01751  \u001b[0m | \u001b[0m7.22     \u001b[0m |\n",
      "| \u001b[0m20       \u001b[0m | \u001b[0m-3.608   \u001b[0m | \u001b[0m0.2      \u001b[0m | \u001b[0m9.317    \u001b[0m |\n",
      "| \u001b[0m21       \u001b[0m | \u001b[0m-3.641   \u001b[0m | \u001b[0m0.1138   \u001b[0m | \u001b[0m9.465    \u001b[0m |\n",
      "| \u001b[0m22       \u001b[0m | \u001b[0m-3.685   \u001b[0m | \u001b[0m0.1999   \u001b[0m | \u001b[0m11.78    \u001b[0m |\n",
      "| \u001b[0m23       \u001b[0m | \u001b[0m-3.635   \u001b[0m | \u001b[0m0.2      \u001b[0m | \u001b[0m7.487    \u001b[0m |\n",
      "| \u001b[0m24       \u001b[0m | \u001b[0m-3.714   \u001b[0m | \u001b[0m0.03638  \u001b[0m | \u001b[0m10.18    \u001b[0m |\n",
      "| \u001b[95m25       \u001b[0m | \u001b[95m-3.551   \u001b[0m | \u001b[95m0.1741   \u001b[0m | \u001b[95m8.671    \u001b[0m |\n",
      "| \u001b[95m26       \u001b[0m | \u001b[95m-3.546   \u001b[0m | \u001b[95m0.07924  \u001b[0m | \u001b[95m10.71    \u001b[0m |\n",
      "| \u001b[0m27       \u001b[0m | \u001b[0m-3.6     \u001b[0m | \u001b[0m0.04812  \u001b[0m | \u001b[0m10.55    \u001b[0m |\n",
      "| \u001b[0m28       \u001b[0m | \u001b[0m-3.689   \u001b[0m | \u001b[0m0.2      \u001b[0m | \u001b[0m10.61    \u001b[0m |\n",
      "| \u001b[0m29       \u001b[0m | \u001b[0m-3.645   \u001b[0m | \u001b[0m0.1697   \u001b[0m | \u001b[0m10.41    \u001b[0m |\n",
      "| \u001b[0m30       \u001b[0m | \u001b[0m-3.689   \u001b[0m | \u001b[0m0.2      \u001b[0m | \u001b[0m10.83    \u001b[0m |\n",
      "=================================================\n"
     ]
    }
   ],
   "source": [
    "# 목적 함수가 최대가 되는 최적해를 찾기\n",
    "model_bayes.maximize(init_points = 5, n_iter = 25)"
   ]
  },
  {
   "cell_type": "code",
   "execution_count": 33,
   "id": "bc64889f-00d9-4182-8bff-d35ac4ad9ffe",
   "metadata": {},
   "outputs": [
    {
     "data": {
      "text/plain": [
       "{'target': -3.5455349803280307,\n",
       " 'params': {'learning_rate': 0.07923518190785042,\n",
       "  'max_depth': 10.712207237356235}}"
      ]
     },
     "execution_count": 33,
     "metadata": {},
     "output_type": "execute_result"
    }
   ],
   "source": [
    "# 최종 도출된 최적해 확인\n",
    "model_bayes.max"
   ]
  },
  {
   "cell_type": "code",
   "execution_count": null,
   "id": "4f766726-cb87-4470-b940-228d074f5d56",
   "metadata": {},
   "outputs": [],
   "source": []
  },
  {
   "cell_type": "markdown",
   "id": "5bc0bf9b-9544-44cf-931b-584c791d25a2",
   "metadata": {},
   "source": [
    "# 2. hyperopt 최적화 \n",
    "\n",
    "### 참고자료 \n",
    "https://velog.io/@gangjoo/ML-%EB%B6%84%EB%A5%98-%EB%B2%A0%EC%9D%B4%EC%A7%80%EC%95%88-%EC%B5%9C%EC%A0%81%ED%99%94-Bayesian-Optimization"
   ]
  },
  {
   "cell_type": "code",
   "execution_count": 47,
   "id": "d9c57a0d-0380-4d35-9a24-e7e8450a7a91",
   "metadata": {},
   "outputs": [],
   "source": [
    "from sklearn.datasets import load_breast_cancer\n",
    "from sklearn.model_selection import train_test_split\n",
    "import warnings\n",
    "warnings.filterwarnings('ignore')\n"
   ]
  },
  {
   "cell_type": "code",
   "execution_count": 48,
   "id": "529e57a2-a377-482f-a791-bab40200455d",
   "metadata": {},
   "outputs": [],
   "source": [
    "dataset = load_breast_cancer()\n",
    "\n",
    "cancer_df = pd.DataFrame(data=dataset.data, columns=dataset.feature_names)\n",
    "cancer_df['target']= dataset.target\n",
    "X_features = cancer_df.iloc[:, :-1]\n",
    "y_label = cancer_df.iloc[:, -1]"
   ]
  },
  {
   "cell_type": "code",
   "execution_count": 49,
   "id": "052833cf-e79a-474f-b026-ec2f5441f5ae",
   "metadata": {},
   "outputs": [],
   "source": [
    "# 전체 데이터 중 80%는 학습용 데이터, 20%는 테스트용 데이터 추출\n",
    "X_train, X_test, y_train, y_test=train_test_split(X_features, y_label,\n",
    "                                         test_size=0.2, random_state=156 )\n",
    "\n",
    "# 학습 데이터를 다시 학습과 검증 데이터로 분리 \n",
    "X_tr, X_val, y_tr, y_val= train_test_split(X_train, y_train,\n",
    "                                         test_size=0.1, random_state=156 )"
   ]
  },
  {
   "cell_type": "markdown",
   "id": "4597db5d-efb1-4f7f-ba27-da8f66d6be24",
   "metadata": {},
   "source": [
    "## Search Space 설정\n",
    "\n",
    "- max_depth:5에서 20까지 1간격\n",
    "- min_child_weight는 1에서 2까지 1간격으로\n",
    "- colsample_bytree: 0.5에서 1사이\n",
    "- learning_rate는 0.01에서 0.2사이 정규 분포된 값으로 검색\n",
    "\n",
    "- quniform: 정수형 값을 반환할 때 사용 (start, stop(포함), step)\n",
    "- uniform: 최솟값부터 최댓값까지 정규분포 검색 공간 설정\n",
    "- loguniform: exp(uniform(low,high)) 값 반환"
   ]
  },
  {
   "cell_type": "code",
   "execution_count": 42,
   "id": "c6d12201-ec0c-49ab-978d-a07965443404",
   "metadata": {},
   "outputs": [],
   "source": [
    "from hyperopt import hp\n",
    "\n",
    "xgb_search_space = {'max_depth': hp.quniform('max_depth', 5, 20, 1),\n",
    "                    'min_child_weight': hp.quniform('min_child_weight', 1, 2, 1),\n",
    "                    'learning_rate': hp.uniform('learning_rate', 0.01, 0.2),\n",
    "                    'colsample_bytree': hp.uniform('colsample_bytree', 0.5, 1)\n",
    "               }"
   ]
  },
  {
   "cell_type": "code",
   "execution_count": null,
   "id": "6e7f7045-7c18-47fb-9e8c-6d8199010e77",
   "metadata": {},
   "outputs": [],
   "source": []
  },
  {
   "cell_type": "markdown",
   "id": "35cfd021-32b9-498a-99c1-1901d66252ad",
   "metadata": {},
   "source": [
    "## 목적 함수를 설정함\n",
    "\n"
   ]
  },
  {
   "cell_type": "code",
   "execution_count": 43,
   "id": "6e24e399-7a31-47b0-b00c-07bc71d1eef7",
   "metadata": {},
   "outputs": [],
   "source": [
    "from hyperopt import STATUS_OK\n",
    "\n",
    "def objective_func(search_space):\n",
    "    # 수행 시간 절약을 위해 n_estimators는 100으로 축소\n",
    "    xgb_clf = XGBClassifier(n_estimators=100, max_depth=int(search_space['max_depth']),\n",
    "                            min_child_weight=int(search_space['min_child_weight']),\n",
    "                            learning_rate=search_space['learning_rate'],\n",
    "                            colsample_bytree=search_space['colsample_bytree'], \n",
    "                            eval_metric='logloss')\n",
    "    \n",
    "    accuracy = cross_val_score(xgb_clf, X_train, y_train, scoring='accuracy', cv=3)\n",
    "        \n",
    "    return {'loss':-1 * np.mean(accuracy), 'status': STATUS_OK}"
   ]
  },
  {
   "cell_type": "code",
   "execution_count": null,
   "id": "e05e38bd-a3f2-435c-ab8e-8b8ec53982c8",
   "metadata": {},
   "outputs": [],
   "source": []
  },
  {
   "cell_type": "markdown",
   "id": "496716c6-de94-4b12-b897-ca4690f59f60",
   "metadata": {},
   "source": [
    "## 베이지안 최적화 진행\n",
    "- trial_val 객체는 아래에서 구조를 뜯어보기로 함\n",
    "- fmin함수를 이용해서 최적화 진행\n",
    "- tpe는 최적화 방식 중 하나 (가우시안 최적화, ... 등)\n",
    "- rstate 실제로는 안 써주는 게 더 성능이 좋다고 함 (여기서는 결과값 고정을 위해 써줌)\n",
    "- max_evals = 5 만큼 돌면서 최적값 찾기"
   ]
  },
  {
   "cell_type": "code",
   "execution_count": 44,
   "id": "14018ae2-2fb6-4498-8d32-e1df966ee3b9",
   "metadata": {},
   "outputs": [
    {
     "name": "stdout",
     "output_type": "stream",
     "text": [
      "100%|████████| 50/50 [00:09<00:00,  5.51trial/s, best loss: -0.9692401533635412]\n",
      "best: {'colsample_bytree': 0.548301545497125, 'learning_rate': 0.1840281762576621, 'max_depth': 18.0, 'min_child_weight': 2.0}\n"
     ]
    }
   ],
   "source": [
    "from hyperopt import fmin, tpe, Trials\n",
    "\n",
    "trial_val = Trials()\n",
    "best = fmin(fn=objective_func,\n",
    "            space=xgb_search_space,\n",
    "            algo=tpe.suggest,\n",
    "            max_evals=50,\n",
    "            trials=trial_val, rstate=np.random.default_rng(seed=9))\n",
    "print('best:', best)"
   ]
  },
  {
   "cell_type": "code",
   "execution_count": null,
   "id": "9003c1eb-3651-4fa6-8cbd-c5b29d8b19be",
   "metadata": {},
   "outputs": [],
   "source": []
  },
  {
   "cell_type": "code",
   "execution_count": 50,
   "id": "63b7341f-3038-4d88-9f61-63844f2febfa",
   "metadata": {},
   "outputs": [
    {
     "data": {
      "text/plain": [
       "{'colsample_bytree': 0.548301545497125,\n",
       " 'learning_rate': 0.1840281762576621,\n",
       " 'max_depth': 18.0,\n",
       " 'min_child_weight': 2.0}"
      ]
     },
     "execution_count": 50,
     "metadata": {},
     "output_type": "execute_result"
    }
   ],
   "source": [
    "best"
   ]
  },
  {
   "cell_type": "markdown",
   "id": "295965d5-3bd6-4933-855c-5f164ac5e66d",
   "metadata": {},
   "source": [
    "## 여러 평가 지표를 출력하는 함수 get_clf_eval 만듦"
   ]
  },
  {
   "cell_type": "code",
   "execution_count": 45,
   "id": "805d0fdf-8b2f-4521-a573-71d692e52722",
   "metadata": {},
   "outputs": [],
   "source": [
    "from sklearn.metrics import confusion_matrix, accuracy_score\n",
    "from sklearn.metrics import precision_score, recall_score\n",
    "from sklearn.metrics import f1_score, roc_auc_score\n",
    "\n",
    "def get_clf_eval(y_test, pred=None, pred_proba=None):\n",
    "    confusion = confusion_matrix( y_test, pred)\n",
    "    accuracy = accuracy_score(y_test , pred)\n",
    "    precision = precision_score(y_test , pred)\n",
    "    recall = recall_score(y_test , pred)\n",
    "    f1 = f1_score(y_test,pred)\n",
    "    roc_auc = roc_auc_score(y_test, pred_proba)\n",
    "    print('오차 행렬')\n",
    "    print(confusion)\n",
    "    print('정확도: {0:.4f}, 정밀도: {1:.4f}, 재현율: {2:.4f},\\\n",
    "    F1: {3:.4f}, AUC:{4:.4f}'.format(accuracy, precision, recall, f1, roc_auc))"
   ]
  },
  {
   "cell_type": "markdown",
   "id": "d5ee72cb-87b6-403e-98e5-d4f3d11e0542",
   "metadata": {},
   "source": [
    "### 뽑은 최적의 파라미터들로 XGBClassifier에 넣어서 fit() 함\n",
    "n_esimators=400으로 설정하고 early_stopping_rounds=50 설정\n",
    "평가지표까지 출력"
   ]
  },
  {
   "cell_type": "code",
   "execution_count": null,
   "id": "613028f1-738d-4da3-9324-7dc8c98d105a",
   "metadata": {},
   "outputs": [],
   "source": []
  },
  {
   "cell_type": "code",
   "execution_count": 46,
   "id": "e1701155-9d24-4932-bca2-8138208aa861",
   "metadata": {},
   "outputs": [
    {
     "name": "stdout",
     "output_type": "stream",
     "text": [
      "[0]\tvalidation_0-logloss:0.54472\tvalidation_1-logloss:0.58675\n",
      "[1]\tvalidation_0-logloss:0.44155\tvalidation_1-logloss:0.52577\n",
      "[2]\tvalidation_0-logloss:0.36542\tvalidation_1-logloss:0.48906\n",
      "[3]\tvalidation_0-logloss:0.30756\tvalidation_1-logloss:0.45704\n",
      "[4]\tvalidation_0-logloss:0.26142\tvalidation_1-logloss:0.41671\n",
      "[5]\tvalidation_0-logloss:0.22616\tvalidation_1-logloss:0.39605\n",
      "[6]\tvalidation_0-logloss:0.19465\tvalidation_1-logloss:0.37095\n",
      "[7]\tvalidation_0-logloss:0.16951\tvalidation_1-logloss:0.36066\n",
      "[8]\tvalidation_0-logloss:0.14718\tvalidation_1-logloss:0.34686\n",
      "[9]\tvalidation_0-logloss:0.13006\tvalidation_1-logloss:0.33716\n",
      "[10]\tvalidation_0-logloss:0.11635\tvalidation_1-logloss:0.32332\n",
      "[11]\tvalidation_0-logloss:0.10455\tvalidation_1-logloss:0.32074\n",
      "[12]\tvalidation_0-logloss:0.09388\tvalidation_1-logloss:0.31916\n",
      "[13]\tvalidation_0-logloss:0.08434\tvalidation_1-logloss:0.30987\n",
      "[14]\tvalidation_0-logloss:0.07702\tvalidation_1-logloss:0.30469\n",
      "[15]\tvalidation_0-logloss:0.07144\tvalidation_1-logloss:0.30293\n",
      "[16]\tvalidation_0-logloss:0.06649\tvalidation_1-logloss:0.29610\n",
      "[17]\tvalidation_0-logloss:0.06119\tvalidation_1-logloss:0.29303\n",
      "[18]\tvalidation_0-logloss:0.05693\tvalidation_1-logloss:0.28973\n",
      "[19]\tvalidation_0-logloss:0.05291\tvalidation_1-logloss:0.28781\n",
      "[20]\tvalidation_0-logloss:0.04951\tvalidation_1-logloss:0.28757\n",
      "[21]\tvalidation_0-logloss:0.04603\tvalidation_1-logloss:0.28904\n",
      "[22]\tvalidation_0-logloss:0.04376\tvalidation_1-logloss:0.28744\n",
      "[23]\tvalidation_0-logloss:0.04113\tvalidation_1-logloss:0.29028\n",
      "[24]\tvalidation_0-logloss:0.03932\tvalidation_1-logloss:0.28659\n",
      "[25]\tvalidation_0-logloss:0.03741\tvalidation_1-logloss:0.29059\n",
      "[26]\tvalidation_0-logloss:0.03570\tvalidation_1-logloss:0.28740\n",
      "[27]\tvalidation_0-logloss:0.03416\tvalidation_1-logloss:0.28613\n",
      "[28]\tvalidation_0-logloss:0.03309\tvalidation_1-logloss:0.28441\n",
      "[29]\tvalidation_0-logloss:0.03165\tvalidation_1-logloss:0.28617\n",
      "[30]\tvalidation_0-logloss:0.03059\tvalidation_1-logloss:0.28501\n",
      "[31]\tvalidation_0-logloss:0.02961\tvalidation_1-logloss:0.28505\n",
      "[32]\tvalidation_0-logloss:0.02881\tvalidation_1-logloss:0.28319\n",
      "[33]\tvalidation_0-logloss:0.02801\tvalidation_1-logloss:0.28407\n",
      "[34]\tvalidation_0-logloss:0.02710\tvalidation_1-logloss:0.27684\n",
      "[35]\tvalidation_0-logloss:0.02654\tvalidation_1-logloss:0.27599\n",
      "[36]\tvalidation_0-logloss:0.02591\tvalidation_1-logloss:0.27329\n",
      "[37]\tvalidation_0-logloss:0.02514\tvalidation_1-logloss:0.26722\n",
      "[38]\tvalidation_0-logloss:0.02484\tvalidation_1-logloss:0.26668\n",
      "[39]\tvalidation_0-logloss:0.02424\tvalidation_1-logloss:0.26733\n",
      "[40]\tvalidation_0-logloss:0.02404\tvalidation_1-logloss:0.26721\n",
      "[41]\tvalidation_0-logloss:0.02374\tvalidation_1-logloss:0.26519\n",
      "[42]\tvalidation_0-logloss:0.02351\tvalidation_1-logloss:0.26809\n",
      "[43]\tvalidation_0-logloss:0.02295\tvalidation_1-logloss:0.27016\n",
      "[44]\tvalidation_0-logloss:0.02272\tvalidation_1-logloss:0.26844\n",
      "[45]\tvalidation_0-logloss:0.02252\tvalidation_1-logloss:0.27126\n",
      "[46]\tvalidation_0-logloss:0.02233\tvalidation_1-logloss:0.26975\n",
      "[47]\tvalidation_0-logloss:0.02214\tvalidation_1-logloss:0.26975\n",
      "[48]\tvalidation_0-logloss:0.02175\tvalidation_1-logloss:0.27071\n",
      "[49]\tvalidation_0-logloss:0.02157\tvalidation_1-logloss:0.26926\n",
      "[50]\tvalidation_0-logloss:0.02122\tvalidation_1-logloss:0.27124\n",
      "[51]\tvalidation_0-logloss:0.02087\tvalidation_1-logloss:0.27159\n",
      "[52]\tvalidation_0-logloss:0.02070\tvalidation_1-logloss:0.27435\n",
      "[53]\tvalidation_0-logloss:0.02054\tvalidation_1-logloss:0.27227\n",
      "[54]\tvalidation_0-logloss:0.02040\tvalidation_1-logloss:0.27114\n",
      "[55]\tvalidation_0-logloss:0.02025\tvalidation_1-logloss:0.26898\n",
      "[56]\tvalidation_0-logloss:0.02012\tvalidation_1-logloss:0.27039\n",
      "[57]\tvalidation_0-logloss:0.01998\tvalidation_1-logloss:0.26914\n",
      "[58]\tvalidation_0-logloss:0.01983\tvalidation_1-logloss:0.27181\n",
      "[59]\tvalidation_0-logloss:0.01970\tvalidation_1-logloss:0.27142\n",
      "[60]\tvalidation_0-logloss:0.01956\tvalidation_1-logloss:0.26793\n",
      "[61]\tvalidation_0-logloss:0.01945\tvalidation_1-logloss:0.26890\n",
      "[62]\tvalidation_0-logloss:0.01932\tvalidation_1-logloss:0.26558\n",
      "[63]\tvalidation_0-logloss:0.01922\tvalidation_1-logloss:0.26380\n",
      "[64]\tvalidation_0-logloss:0.01908\tvalidation_1-logloss:0.26627\n",
      "[65]\tvalidation_0-logloss:0.01896\tvalidation_1-logloss:0.26761\n",
      "[66]\tvalidation_0-logloss:0.01885\tvalidation_1-logloss:0.26726\n",
      "[67]\tvalidation_0-logloss:0.01874\tvalidation_1-logloss:0.26420\n",
      "[68]\tvalidation_0-logloss:0.01863\tvalidation_1-logloss:0.26519\n",
      "[69]\tvalidation_0-logloss:0.01852\tvalidation_1-logloss:0.26755\n",
      "[70]\tvalidation_0-logloss:0.01841\tvalidation_1-logloss:0.26766\n",
      "[71]\tvalidation_0-logloss:0.01831\tvalidation_1-logloss:0.26738\n",
      "[72]\tvalidation_0-logloss:0.01821\tvalidation_1-logloss:0.26560\n",
      "[73]\tvalidation_0-logloss:0.01811\tvalidation_1-logloss:0.26778\n",
      "[74]\tvalidation_0-logloss:0.01802\tvalidation_1-logloss:0.26628\n",
      "[75]\tvalidation_0-logloss:0.01792\tvalidation_1-logloss:0.26601\n",
      "[76]\tvalidation_0-logloss:0.01782\tvalidation_1-logloss:0.26490\n",
      "[77]\tvalidation_0-logloss:0.01773\tvalidation_1-logloss:0.26706\n",
      "[78]\tvalidation_0-logloss:0.01764\tvalidation_1-logloss:0.26707\n",
      "[79]\tvalidation_0-logloss:0.01755\tvalidation_1-logloss:0.26798\n",
      "[80]\tvalidation_0-logloss:0.01745\tvalidation_1-logloss:0.26496\n",
      "[81]\tvalidation_0-logloss:0.01736\tvalidation_1-logloss:0.26459\n",
      "[82]\tvalidation_0-logloss:0.01728\tvalidation_1-logloss:0.26434\n",
      "[83]\tvalidation_0-logloss:0.01719\tvalidation_1-logloss:0.26527\n",
      "[84]\tvalidation_0-logloss:0.01710\tvalidation_1-logloss:0.26244\n",
      "[85]\tvalidation_0-logloss:0.01702\tvalidation_1-logloss:0.26336\n",
      "[86]\tvalidation_0-logloss:0.01694\tvalidation_1-logloss:0.26229\n",
      "[87]\tvalidation_0-logloss:0.01686\tvalidation_1-logloss:0.26193\n",
      "[88]\tvalidation_0-logloss:0.01678\tvalidation_1-logloss:0.26243\n",
      "[89]\tvalidation_0-logloss:0.01671\tvalidation_1-logloss:0.26481\n",
      "[90]\tvalidation_0-logloss:0.01663\tvalidation_1-logloss:0.26362\n",
      "[91]\tvalidation_0-logloss:0.01656\tvalidation_1-logloss:0.26339\n",
      "[92]\tvalidation_0-logloss:0.01650\tvalidation_1-logloss:0.26328\n",
      "[93]\tvalidation_0-logloss:0.01643\tvalidation_1-logloss:0.26328\n",
      "[94]\tvalidation_0-logloss:0.01636\tvalidation_1-logloss:0.26216\n",
      "[95]\tvalidation_0-logloss:0.01629\tvalidation_1-logloss:0.25971\n",
      "[96]\tvalidation_0-logloss:0.01623\tvalidation_1-logloss:0.26199\n",
      "[97]\tvalidation_0-logloss:0.01616\tvalidation_1-logloss:0.26191\n",
      "[98]\tvalidation_0-logloss:0.01609\tvalidation_1-logloss:0.26160\n",
      "[99]\tvalidation_0-logloss:0.01603\tvalidation_1-logloss:0.26073\n",
      "[100]\tvalidation_0-logloss:0.01597\tvalidation_1-logloss:0.26073\n",
      "[101]\tvalidation_0-logloss:0.01591\tvalidation_1-logloss:0.26052\n",
      "[102]\tvalidation_0-logloss:0.01584\tvalidation_1-logloss:0.26109\n",
      "[103]\tvalidation_0-logloss:0.01579\tvalidation_1-logloss:0.26323\n",
      "[104]\tvalidation_0-logloss:0.01573\tvalidation_1-logloss:0.26322\n",
      "[105]\tvalidation_0-logloss:0.01568\tvalidation_1-logloss:0.26228\n",
      "[106]\tvalidation_0-logloss:0.01562\tvalidation_1-logloss:0.26241\n",
      "[107]\tvalidation_0-logloss:0.01555\tvalidation_1-logloss:0.26004\n",
      "[108]\tvalidation_0-logloss:0.01550\tvalidation_1-logloss:0.25928\n",
      "[109]\tvalidation_0-logloss:0.01544\tvalidation_1-logloss:0.25986\n",
      "[110]\tvalidation_0-logloss:0.01538\tvalidation_1-logloss:0.25964\n",
      "[111]\tvalidation_0-logloss:0.01533\tvalidation_1-logloss:0.25758\n",
      "[112]\tvalidation_0-logloss:0.01527\tvalidation_1-logloss:0.25775\n",
      "[113]\tvalidation_0-logloss:0.01522\tvalidation_1-logloss:0.25833\n",
      "[114]\tvalidation_0-logloss:0.01517\tvalidation_1-logloss:0.25828\n",
      "[115]\tvalidation_0-logloss:0.01512\tvalidation_1-logloss:0.25797\n",
      "[116]\tvalidation_0-logloss:0.01507\tvalidation_1-logloss:0.26003\n",
      "[117]\tvalidation_0-logloss:0.01502\tvalidation_1-logloss:0.25929\n",
      "[118]\tvalidation_0-logloss:0.01497\tvalidation_1-logloss:0.25928\n",
      "[119]\tvalidation_0-logloss:0.01493\tvalidation_1-logloss:0.25928\n",
      "[120]\tvalidation_0-logloss:0.01487\tvalidation_1-logloss:0.25726\n",
      "[121]\tvalidation_0-logloss:0.01483\tvalidation_1-logloss:0.25923\n",
      "[122]\tvalidation_0-logloss:0.01479\tvalidation_1-logloss:0.25943\n",
      "[123]\tvalidation_0-logloss:0.01474\tvalidation_1-logloss:0.25939\n",
      "[124]\tvalidation_0-logloss:0.01469\tvalidation_1-logloss:0.25746\n",
      "[125]\tvalidation_0-logloss:0.01465\tvalidation_1-logloss:0.25768\n",
      "[126]\tvalidation_0-logloss:0.01461\tvalidation_1-logloss:0.25703\n",
      "[127]\tvalidation_0-logloss:0.01457\tvalidation_1-logloss:0.25761\n",
      "[128]\tvalidation_0-logloss:0.01452\tvalidation_1-logloss:0.25755\n",
      "[129]\tvalidation_0-logloss:0.01448\tvalidation_1-logloss:0.25695\n",
      "[130]\tvalidation_0-logloss:0.01444\tvalidation_1-logloss:0.25694\n",
      "[131]\tvalidation_0-logloss:0.01440\tvalidation_1-logloss:0.25884\n",
      "[132]\tvalidation_0-logloss:0.01436\tvalidation_1-logloss:0.25713\n",
      "[133]\tvalidation_0-logloss:0.01432\tvalidation_1-logloss:0.25716\n",
      "[134]\tvalidation_0-logloss:0.01428\tvalidation_1-logloss:0.25690\n",
      "[135]\tvalidation_0-logloss:0.01425\tvalidation_1-logloss:0.25694\n",
      "[136]\tvalidation_0-logloss:0.01421\tvalidation_1-logloss:0.25750\n",
      "[137]\tvalidation_0-logloss:0.01417\tvalidation_1-logloss:0.25745\n",
      "[138]\tvalidation_0-logloss:0.01414\tvalidation_1-logloss:0.25686\n",
      "[139]\tvalidation_0-logloss:0.01410\tvalidation_1-logloss:0.25660\n",
      "[140]\tvalidation_0-logloss:0.01406\tvalidation_1-logloss:0.25843\n",
      "[141]\tvalidation_0-logloss:0.01403\tvalidation_1-logloss:0.25847\n",
      "[142]\tvalidation_0-logloss:0.01400\tvalidation_1-logloss:0.25844\n",
      "[143]\tvalidation_0-logloss:0.01396\tvalidation_1-logloss:0.25898\n",
      "[144]\tvalidation_0-logloss:0.01393\tvalidation_1-logloss:0.25828\n",
      "[145]\tvalidation_0-logloss:0.01390\tvalidation_1-logloss:0.25802\n",
      "[146]\tvalidation_0-logloss:0.01387\tvalidation_1-logloss:0.25825\n",
      "[147]\tvalidation_0-logloss:0.01383\tvalidation_1-logloss:0.25993\n",
      "[148]\tvalidation_0-logloss:0.01380\tvalidation_1-logloss:0.25935\n",
      "[149]\tvalidation_0-logloss:0.01377\tvalidation_1-logloss:0.25931\n",
      "[150]\tvalidation_0-logloss:0.01374\tvalidation_1-logloss:0.25866\n",
      "[151]\tvalidation_0-logloss:0.01370\tvalidation_1-logloss:0.25870\n",
      "[152]\tvalidation_0-logloss:0.01368\tvalidation_1-logloss:0.25894\n",
      "[153]\tvalidation_0-logloss:0.01365\tvalidation_1-logloss:0.25868\n",
      "[154]\tvalidation_0-logloss:0.01362\tvalidation_1-logloss:0.25801\n",
      "[155]\tvalidation_0-logloss:0.01359\tvalidation_1-logloss:0.25750\n",
      "[156]\tvalidation_0-logloss:0.01356\tvalidation_1-logloss:0.25803\n",
      "[157]\tvalidation_0-logloss:0.01353\tvalidation_1-logloss:0.25799\n",
      "[158]\tvalidation_0-logloss:0.01350\tvalidation_1-logloss:0.25962\n",
      "[159]\tvalidation_0-logloss:0.01347\tvalidation_1-logloss:0.25966\n",
      "[160]\tvalidation_0-logloss:0.01344\tvalidation_1-logloss:0.25904\n",
      "[161]\tvalidation_0-logloss:0.01342\tvalidation_1-logloss:0.25930\n",
      "[162]\tvalidation_0-logloss:0.01339\tvalidation_1-logloss:0.25879\n",
      "[163]\tvalidation_0-logloss:0.01336\tvalidation_1-logloss:0.25875\n",
      "[164]\tvalidation_0-logloss:0.01333\tvalidation_1-logloss:0.26031\n",
      "[165]\tvalidation_0-logloss:0.01331\tvalidation_1-logloss:0.26007\n",
      "[166]\tvalidation_0-logloss:0.01329\tvalidation_1-logloss:0.25962\n",
      "[167]\tvalidation_0-logloss:0.01326\tvalidation_1-logloss:0.25964\n",
      "[168]\tvalidation_0-logloss:0.01324\tvalidation_1-logloss:0.26111\n",
      "[169]\tvalidation_0-logloss:0.01321\tvalidation_1-logloss:0.26049\n",
      "[170]\tvalidation_0-logloss:0.01319\tvalidation_1-logloss:0.26052\n",
      "[171]\tvalidation_0-logloss:0.01317\tvalidation_1-logloss:0.26029\n",
      "[172]\tvalidation_0-logloss:0.01314\tvalidation_1-logloss:0.26079\n",
      "[173]\tvalidation_0-logloss:0.01312\tvalidation_1-logloss:0.26035\n",
      "[174]\tvalidation_0-logloss:0.01310\tvalidation_1-logloss:0.26013\n",
      "[175]\tvalidation_0-logloss:0.01308\tvalidation_1-logloss:0.26039\n",
      "[176]\tvalidation_0-logloss:0.01306\tvalidation_1-logloss:0.26031\n",
      "[177]\tvalidation_0-logloss:0.01303\tvalidation_1-logloss:0.25974\n",
      "[178]\tvalidation_0-logloss:0.01301\tvalidation_1-logloss:0.26021\n",
      "[179]\tvalidation_0-logloss:0.01299\tvalidation_1-logloss:0.25980\n",
      "[180]\tvalidation_0-logloss:0.01297\tvalidation_1-logloss:0.26005\n",
      "[181]\tvalidation_0-logloss:0.01295\tvalidation_1-logloss:0.25997\n",
      "[182]\tvalidation_0-logloss:0.01294\tvalidation_1-logloss:0.26040\n",
      "[183]\tvalidation_0-logloss:0.01292\tvalidation_1-logloss:0.26016\n",
      "[184]\tvalidation_0-logloss:0.01290\tvalidation_1-logloss:0.25977\n",
      "[185]\tvalidation_0-logloss:0.01288\tvalidation_1-logloss:0.25927\n",
      "[186]\tvalidation_0-logloss:0.01286\tvalidation_1-logloss:0.25951\n",
      "[187]\tvalidation_0-logloss:0.01284\tvalidation_1-logloss:0.25943\n",
      "[188]\tvalidation_0-logloss:0.01283\tvalidation_1-logloss:0.25921\n",
      "[189]\tvalidation_0-logloss:0.01282\tvalidation_1-logloss:0.25883\n",
      "오차 행렬\n",
      "[[34  3]\n",
      " [ 3 74]]\n",
      "정확도: 0.9474, 정밀도: 0.9610, 재현율: 0.9610,    F1: 0.9610, AUC:0.9923\n"
     ]
    }
   ],
   "source": [
    "xgb_wrapper = XGBClassifier(n_estimators=400, learning_rate=round(best['learning_rate'], 5), \n",
    "                            max_depth=int(best['max_depth']), min_child_weight=int(best['min_child_weight']),\n",
    "                            colsample_bytree=round(best['colsample_bytree'], 5)\n",
    "                           )\n",
    "\n",
    "evals = [(X_tr, y_tr), (X_val, y_val)]\n",
    "xgb_wrapper.fit(X_tr, y_tr, early_stopping_rounds=50, eval_metric='logloss', \n",
    "                eval_set=evals, verbose=True)\n",
    "\n",
    "preds = xgb_wrapper.predict(X_test)\n",
    "pred_proba = xgb_wrapper.predict_proba(X_test)[:, 1]\n",
    "\n",
    "get_clf_eval(y_test, preds, pred_proba)"
   ]
  },
  {
   "cell_type": "code",
   "execution_count": null,
   "id": "c468b6af-8a23-484f-a56c-2b70cd549142",
   "metadata": {},
   "outputs": [],
   "source": []
  },
  {
   "cell_type": "code",
   "execution_count": null,
   "id": "171eb29c-f723-4a40-9bbb-9d87d5084191",
   "metadata": {},
   "outputs": [],
   "source": []
  }
 ],
 "metadata": {
  "kernelspec": {
   "display_name": "Python 3 (ipykernel)",
   "language": "python",
   "name": "python3"
  },
  "language_info": {
   "codemirror_mode": {
    "name": "ipython",
    "version": 3
   },
   "file_extension": ".py",
   "mimetype": "text/x-python",
   "name": "python",
   "nbconvert_exporter": "python",
   "pygments_lexer": "ipython3",
   "version": "3.9.16"
  }
 },
 "nbformat": 4,
 "nbformat_minor": 5
}
